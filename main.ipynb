{
 "cells": [
  {
   "cell_type": "markdown",
   "id": "20ab1956",
   "metadata": {},
   "source": [
    "# imports"
   ]
  },
  {
   "cell_type": "code",
   "execution_count": null,
   "id": "83d8dbcc",
   "metadata": {},
   "outputs": [],
   "source": [
    "import tradermade\n",
    "import pandas\n",
    "import os\n",
    "import numpy\n",
    "# from dotenv import load_dotenv\n",
    "import plotly.graph_objects as graph"
   ]
  },
  {
   "cell_type": "code",
   "execution_count": null,
   "id": "4594450c",
   "metadata": {},
   "outputs": [],
   "source": [
    "TRADERMADE_API_KEY = os.getenv(\"TRADERMADE_API_KEY\")\n",
    "CURRENCY = \"XAUUSD\"\n",
    "FIELDS = [\"instrument\", \"open\", \"high\", \"low\", \"close\"]"
   ]
  }
 ],
 "metadata": {
  "language_info": {
   "name": "python"
  }
 },
 "nbformat": 4,
 "nbformat_minor": 5
}

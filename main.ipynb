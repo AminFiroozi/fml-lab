{
 "cells": [
  {
   "cell_type": "markdown",
   "id": "21558aa9",
   "metadata": {},
   "source": [
    "# Install dependencies"
   ]
  },
  {
   "cell_type": "code",
   "execution_count": 1,
   "id": "1c38c2ea",
   "metadata": {},
   "outputs": [
    {
     "name": "stdout",
     "output_type": "stream",
     "text": [
      "Note: you may need to restart the kernel to use updated packages.\n"
     ]
    }
   ],
   "source": [
    "%pip install -r requirements.txt -q"
   ]
  },
  {
   "cell_type": "markdown",
   "id": "20ab1956",
   "metadata": {},
   "source": [
    "# imports"
   ]
  },
  {
   "cell_type": "code",
   "execution_count": 2,
   "id": "83d8dbcc",
   "metadata": {},
   "outputs": [],
   "source": [
    "import numpy as np\n",
    "import plotly.graph_objects as go\n",
    "import pandas as pd\n",
    "import random\n",
    "import os\n",
    "from datetime import datetime, timedelta\n",
    "import tradermade\n",
    "import yfinance as yf\n",
    "from typing import List, TypedDict, Union, Dict"
   ]
  },
  {
   "cell_type": "markdown",
   "id": "db0c422a",
   "metadata": {},
   "source": [
    "# Constants"
   ]
  },
  {
   "cell_type": "code",
   "execution_count": 3,
   "id": "4594450c",
   "metadata": {},
   "outputs": [],
   "source": [
    "# TRADERMADE_API_KEY = os.getenv(\"TRADERMADE_API_KEY\")\n",
    "# CURRENCY = \"XAUUSD\"\n",
    "# REQUIRED_COLUMNS = ['Open', 'High', 'Low', 'Close']\n",
    "# TICKER = \"SPY\"\n",
    "# END_DATE = datetime.now()\n",
    "# START_DATE = END_DATE - timedelta(days=365)\n",
    "# INTERVAL = \"1d\"\n",
    "\n",
    "START_TIME = \"2025-07-14 09:30:00\"\n",
    "END_TIME = \"2025-07-14 16:00:00\""
   ]
  },
  {
   "cell_type": "markdown",
   "id": "7ea11c60",
   "metadata": {},
   "source": [
    "# Initialization"
   ]
  },
  {
   "cell_type": "code",
   "execution_count": 4,
   "id": "b2c7820b",
   "metadata": {},
   "outputs": [],
   "source": [
    "# tradermade.set_rest_api_key(TRADERMADE_API_KEY)"
   ]
  },
  {
   "cell_type": "markdown",
   "id": "dd735beb",
   "metadata": {},
   "source": [
    "# Get unstructured data (tick level)"
   ]
  },
  {
   "cell_type": "markdown",
   "id": "45dcaffc",
   "metadata": {},
   "source": [
    "## Get from yfinance (bars)"
   ]
  },
  {
   "cell_type": "code",
   "execution_count": 5,
   "id": "4a4fa175",
   "metadata": {},
   "outputs": [],
   "source": [
    "# df = yf.download(TICKER, start=START_DATE, end=END_DATE, interval=INTERVAL, auto_adjust=False, ignore_tz=True)"
   ]
  },
  {
   "cell_type": "markdown",
   "id": "e31b6c5e",
   "metadata": {},
   "source": [
    "### Preprocessing data"
   ]
  },
  {
   "cell_type": "markdown",
   "id": "1bd2bdf4",
   "metadata": {},
   "source": [
    "#### Handle MultiIndex columns"
   ]
  },
  {
   "cell_type": "code",
   "execution_count": 6,
   "id": "fbfa7ae1",
   "metadata": {},
   "outputs": [],
   "source": [
    "# if isinstance(df.columns, pd.MultiIndex):\n",
    "#     df = df.xs(TICKER, axis=1, level=1)\n",
    "#     df.columns = [col.title() for col in df.columns]\n",
    "# else:\n",
    "#     df.columns = [col.title() for col in df.columns]"
   ]
  },
  {
   "cell_type": "markdown",
   "id": "9eca2cdb",
   "metadata": {},
   "source": [
    "#### Convert required columns to numeric and drop rows with NaN"
   ]
  },
  {
   "cell_type": "code",
   "execution_count": 7,
   "id": "2d346cd4",
   "metadata": {},
   "outputs": [],
   "source": [
    "# df[REQUIRED_COLUMNS] = df[REQUIRED_COLUMNS].apply(pd.to_numeric, errors='coerce')\n",
    "# df = df.dropna(subset=REQUIRED_COLUMNS)\n",
    "# df.index = df.index.tz_localize(None)"
   ]
  },
  {
   "cell_type": "markdown",
   "id": "cc19780a",
   "metadata": {},
   "source": [
    "## Mock data"
   ]
  },
  {
   "cell_type": "code",
   "execution_count": 8,
   "id": "ed4bc5da",
   "metadata": {},
   "outputs": [
    {
     "data": {
      "text/html": [
       "<div>\n",
       "<style scoped>\n",
       "    .dataframe tbody tr th:only-of-type {\n",
       "        vertical-align: middle;\n",
       "    }\n",
       "\n",
       "    .dataframe tbody tr th {\n",
       "        vertical-align: top;\n",
       "    }\n",
       "\n",
       "    .dataframe thead th {\n",
       "        text-align: right;\n",
       "    }\n",
       "</style>\n",
       "<table border=\"1\" class=\"dataframe\">\n",
       "  <thead>\n",
       "    <tr style=\"text-align: right;\">\n",
       "      <th></th>\n",
       "      <th>timestamp</th>\n",
       "      <th>price</th>\n",
       "      <th>volume</th>\n",
       "    </tr>\n",
       "  </thead>\n",
       "  <tbody>\n",
       "    <tr>\n",
       "      <th>999</th>\n",
       "      <td>2025-07-14 15:59:49</td>\n",
       "      <td>101.07</td>\n",
       "      <td>650</td>\n",
       "    </tr>\n",
       "    <tr>\n",
       "      <th>998</th>\n",
       "      <td>2025-07-14 15:59:36</td>\n",
       "      <td>101.05</td>\n",
       "      <td>219</td>\n",
       "    </tr>\n",
       "    <tr>\n",
       "      <th>997</th>\n",
       "      <td>2025-07-14 15:59:12</td>\n",
       "      <td>100.97</td>\n",
       "      <td>774</td>\n",
       "    </tr>\n",
       "    <tr>\n",
       "      <th>996</th>\n",
       "      <td>2025-07-14 15:58:57</td>\n",
       "      <td>101.04</td>\n",
       "      <td>64</td>\n",
       "    </tr>\n",
       "    <tr>\n",
       "      <th>995</th>\n",
       "      <td>2025-07-14 15:58:47</td>\n",
       "      <td>101.11</td>\n",
       "      <td>68</td>\n",
       "    </tr>\n",
       "    <tr>\n",
       "      <th>...</th>\n",
       "      <td>...</td>\n",
       "      <td>...</td>\n",
       "      <td>...</td>\n",
       "    </tr>\n",
       "    <tr>\n",
       "      <th>4</th>\n",
       "      <td>2025-07-14 09:33:10</td>\n",
       "      <td>99.97</td>\n",
       "      <td>198</td>\n",
       "    </tr>\n",
       "    <tr>\n",
       "      <th>3</th>\n",
       "      <td>2025-07-14 09:32:45</td>\n",
       "      <td>99.98</td>\n",
       "      <td>443</td>\n",
       "    </tr>\n",
       "    <tr>\n",
       "      <th>2</th>\n",
       "      <td>2025-07-14 09:31:31</td>\n",
       "      <td>100.02</td>\n",
       "      <td>700</td>\n",
       "    </tr>\n",
       "    <tr>\n",
       "      <th>1</th>\n",
       "      <td>2025-07-14 09:31:02</td>\n",
       "      <td>100.05</td>\n",
       "      <td>867</td>\n",
       "    </tr>\n",
       "    <tr>\n",
       "      <th>0</th>\n",
       "      <td>2025-07-14 09:30:01</td>\n",
       "      <td>100.00</td>\n",
       "      <td>576</td>\n",
       "    </tr>\n",
       "  </tbody>\n",
       "</table>\n",
       "<p>1000 rows × 3 columns</p>\n",
       "</div>"
      ],
      "text/plain": [
       "              timestamp   price  volume\n",
       "999 2025-07-14 15:59:49  101.07     650\n",
       "998 2025-07-14 15:59:36  101.05     219\n",
       "997 2025-07-14 15:59:12  100.97     774\n",
       "996 2025-07-14 15:58:57  101.04      64\n",
       "995 2025-07-14 15:58:47  101.11      68\n",
       "..                  ...     ...     ...\n",
       "4   2025-07-14 09:33:10   99.97     198\n",
       "3   2025-07-14 09:32:45   99.98     443\n",
       "2   2025-07-14 09:31:31  100.02     700\n",
       "1   2025-07-14 09:31:02  100.05     867\n",
       "0   2025-07-14 09:30:01  100.00     576\n",
       "\n",
       "[1000 rows x 3 columns]"
      ]
     },
     "execution_count": 8,
     "metadata": {},
     "output_type": "execute_result"
    }
   ],
   "source": [
    "def generate_random_trade_times(n_trades, start_time, end_time):\n",
    "    start_ts = pd.to_datetime(start_time)\n",
    "    end_ts = pd.to_datetime(end_time)\n",
    "\n",
    "    total_seconds = int((end_ts - start_ts).total_seconds())\n",
    "\n",
    "    # Generate n_trades random seconds within the time range\n",
    "    random_seconds = sorted(random.sample(range(total_seconds), n_trades))\n",
    "    \n",
    "    return [start_ts + timedelta(seconds=s) for s in random_seconds]\n",
    "\n",
    "\n",
    "def generate_mock_trades(num_trades=1000, start_price=100.0, start_time=START_TIME, end_time=END_TIME):\n",
    "    timestamps = generate_random_trade_times(\n",
    "        n_trades=1000,\n",
    "        start_time=start_time,\n",
    "        end_time=end_time\n",
    "    )\n",
    "\n",
    "    prices = [start_price]\n",
    "    for _ in range(1, num_trades):\n",
    "        # Simulate small price changes\n",
    "        change = np.random.normal(loc=0, scale=0.05)\n",
    "        prices.append(round(prices[-1] + change, 2))\n",
    "\n",
    "    volumes = np.random.randint(1, 1000, size=num_trades)\n",
    "\n",
    "    df = pd.DataFrame({\n",
    "        'timestamp': timestamps,\n",
    "        'price': prices,\n",
    "        'volume': volumes\n",
    "    })\n",
    "    return df\n",
    "\n",
    "df = generate_mock_trades()[::-1]\n",
    "df"
   ]
  },
  {
   "cell_type": "markdown",
   "id": "1f9631e8",
   "metadata": {},
   "source": [
    "# Convert unstructured data to bars"
   ]
  },
  {
   "cell_type": "code",
   "execution_count": 9,
   "id": "9c2046bb",
   "metadata": {},
   "outputs": [],
   "source": [
    "def convert_to_bars(trade_groups: List[Dict[str, Union[datetime, float, int]]]) -> pd.DataFrame: # start_time, end_time, open, close, high, low, volume\n",
    "    bars = [\n",
    "        {\n",
    "            \"start_time\": group[\"timestamp\"].iloc[0],\n",
    "            \"end_time\": group[\"timestamp\"].iloc[-1],\n",
    "            \"open\": group[\"price\"].iloc[0],\n",
    "            \"close\": group[\"price\"].iloc[-1],\n",
    "            \"high\": group[\"price\"].max(),\n",
    "            \"low\": group[\"price\"].min(),\n",
    "            \"volume\": group[\"volume\"].sum()\n",
    "        } \n",
    "    for group in trade_groups]\n",
    "    \n",
    "    return pd.DataFrame(bars)"
   ]
  },
  {
   "cell_type": "markdown",
   "id": "8f62a1ba",
   "metadata": {},
   "source": [
    "## Tick bars"
   ]
  },
  {
   "cell_type": "code",
   "execution_count": 10,
   "id": "538cd90c",
   "metadata": {},
   "outputs": [],
   "source": [
    "def generate_tick_bars(unstructured_data, sampling_rate: int=5) -> pd.DataFrame: \n",
    "    unstructured_data = unstructured_data.sort_values(\"timestamp\").reset_index(drop=True)\n",
    "    # Grouping\n",
    "    trade_groups = [unstructured_data.iloc[i:i + sampling_rate] for i in range(0, len(unstructured_data), sampling_rate)]\n",
    "    # Generating bars\n",
    "    return convert_to_bars(trade_groups)\n",
    "\n",
    "tick_bars = generate_tick_bars(df)"
   ]
  },
  {
   "cell_type": "markdown",
   "id": "535c1ce0",
   "metadata": {},
   "source": [
    "## Time bars"
   ]
  },
  {
   "cell_type": "code",
   "execution_count": 11,
   "id": "f223eb0e",
   "metadata": {},
   "outputs": [],
   "source": [
    "def generate_time_bars(unstructured_data, sampling_rate: int=60, fill_empty: bool=False) -> pd.DataFrame:    \n",
    "    unstructured_data_copy = unstructured_data.copy()\n",
    "    unstructured_data_copy[\"timestamp\"] = pd.to_datetime(unstructured_data_copy[\"timestamp\"])\n",
    "    unstructured_data_copy = unstructured_data_copy.set_index(\"timestamp\")\n",
    "    \n",
    "    # Perform resampling and calculate OHLCV\n",
    "    bars = unstructured_data_copy.resample(f\"{sampling_rate}s\").agg({\n",
    "        \"price\": [\"first\", \"max\", \"min\", \"last\"],\n",
    "        \"volume\": \"sum\"\n",
    "    })\n",
    "\n",
    "    bars.columns = [\"open\", \"high\", \"low\", \"close\", \"volume\"]\n",
    "    bars = bars.reset_index()\n",
    "    \n",
    "    bars[\"start_time\"] = bars[\"timestamp\"]\n",
    "    bars[\"end_time\"] = bars[\"start_time\"] + timedelta(seconds=sampling_rate) - timedelta(milliseconds=1)\n",
    "    bars = bars.drop(columns=[\"timestamp\"])\n",
    "\n",
    "    # Fill empty time slots\n",
    "    if fill_empty:\n",
    "        empty_mask = bars[\"close\"].isna()\n",
    "        bars[\"close\"] = bars[\"close\"].ffill()\n",
    "\n",
    "        for col in [\"open\", \"high\", \"low\"]:\n",
    "            bars.loc[empty_mask, col] = bars.loc[empty_mask, \"close\"]\n",
    "\n",
    "        bars[\"volume\"] = bars[\"volume\"].fillna(0)\n",
    "        \n",
    "    # Reorder columns\n",
    "    cols = [\"start_time\", \"end_time\"] + [col for col in bars.columns if col not in [\"start_time\", \"end_time\"]]\n",
    "    bars = bars[cols]\n",
    "    return bars\n",
    "\n",
    "time_bars = generate_time_bars(df)"
   ]
  },
  {
   "cell_type": "markdown",
   "id": "ef42d709",
   "metadata": {},
   "source": [
    "## Volume bars"
   ]
  },
  {
   "cell_type": "code",
   "execution_count": 12,
   "id": "33b6921f",
   "metadata": {},
   "outputs": [],
   "source": [
    "def generate_volume_bars(unstructured_data, sampling_rate: int=1000) -> pd.DataFrame:\n",
    "    unstructured_data = unstructured_data.copy()\n",
    "    unstructured_data[\"timestamp\"] = pd.to_datetime(unstructured_data[\"timestamp\"])\n",
    "    unstructured_data = unstructured_data.sort_values(\"timestamp\").reset_index(drop=True)\n",
    "    \n",
    "    bars = []\n",
    "    cum_volume = 0\n",
    "    bar_trades = []\n",
    "\n",
    "    for idx, row in unstructured_data.iterrows():\n",
    "        bar_trades.append(row)\n",
    "        cum_volume += row[\"volume\"]\n",
    "\n",
    "        if cum_volume >= sampling_rate:\n",
    "            group_df = pd.DataFrame(bar_trades)\n",
    "            group_df = group_df.sort_values(\"timestamp\")\n",
    "\n",
    "            start_time = group_df[\"timestamp\"].iloc[0]\n",
    "            end_time = group_df[\"timestamp\"].iloc[-1]\n",
    "\n",
    "            bars.append({\n",
    "                \"start_time\": start_time,\n",
    "                \"end_time\": end_time,\n",
    "                \"open\": group_df[\"price\"].iloc[0],\n",
    "                \"close\": group_df[\"price\"].iloc[-1],\n",
    "                \"high\": group_df[\"price\"].max(),\n",
    "                \"low\": group_df[\"price\"].min(),\n",
    "                \"volume\": group_df[\"volume\"].sum()\n",
    "            })\n",
    "\n",
    "            # reset for next bar\n",
    "            bar_trades = []\n",
    "            cum_volume = 0\n",
    "\n",
    "    # Handle leftover trades if any (optional)\n",
    "    if bar_trades:\n",
    "        group_df = pd.DataFrame(bar_trades)\n",
    "        group_df = group_df.sort_values(\"timestamp\")\n",
    "\n",
    "        start_time = group_df[\"timestamp\"].iloc[0]\n",
    "        end_time = group_df[\"timestamp\"].iloc[-1]\n",
    "\n",
    "        bars.append({\n",
    "            \"start_time\": start_time,\n",
    "            \"end_time\": end_time,\n",
    "            \"open\": group_df[\"price\"].iloc[0],\n",
    "            \"close\": group_df[\"price\"].iloc[-1],\n",
    "            \"high\": group_df[\"price\"].max(),\n",
    "            \"low\": group_df[\"price\"].min(),\n",
    "            \"volume\": group_df[\"volume\"].sum()\n",
    "        })\n",
    "\n",
    "    bars_df = pd.DataFrame(bars)\n",
    "\n",
    "    # Reorder columns\n",
    "    cols = [\"start_time\", \"end_time\", \"open\", \"close\", \"high\", \"low\", \"volume\"]\n",
    "    bars_df = bars_df[cols]\n",
    "    return bars_df\n",
    "\n",
    "volume_bars = generate_volume_bars(df)"
   ]
  },
  {
   "cell_type": "markdown",
   "id": "bb715fd9",
   "metadata": {},
   "source": [
    "## Dollar bars"
   ]
  },
  {
   "cell_type": "code",
   "execution_count": 13,
   "id": "887af31a",
   "metadata": {},
   "outputs": [],
   "source": [
    "def generate_dollar_bars(unstructured_data, sampling_rate: int=100000) -> pd.DataFrame:\n",
    "    unstructured_data = unstructured_data.copy()\n",
    "    unstructured_data[\"timestamp\"] = pd.to_datetime(unstructured_data[\"timestamp\"])\n",
    "    unstructured_data = unstructured_data.sort_values(\"timestamp\").reset_index(drop=True)\n",
    "    \n",
    "    bars = []\n",
    "    cum_dollars = 0\n",
    "    bar_trades = []\n",
    "\n",
    "    for idx, row in unstructured_data.iterrows():\n",
    "        bar_trades.append(row)\n",
    "        cum_dollars += row[\"volume\"] * row['price']\n",
    "\n",
    "        if cum_dollars >= sampling_rate:\n",
    "            group_df = pd.DataFrame(bar_trades)\n",
    "            group_df = group_df.sort_values(\"timestamp\")\n",
    "\n",
    "            start_time = group_df[\"timestamp\"].iloc[0]\n",
    "            end_time = group_df[\"timestamp\"].iloc[-1]\n",
    "\n",
    "            bars.append({\n",
    "                \"start_time\": start_time,\n",
    "                \"end_time\": end_time,\n",
    "                \"open\": group_df[\"price\"].iloc[0],\n",
    "                \"close\": group_df[\"price\"].iloc[-1],\n",
    "                \"high\": group_df[\"price\"].max(),\n",
    "                \"low\": group_df[\"price\"].min(),\n",
    "                \"volume\": group_df[\"volume\"].sum()\n",
    "            })\n",
    "\n",
    "            # reset for next bar\n",
    "            bar_trades = []\n",
    "            cum_dollars = 0\n",
    "\n",
    "    # Handle leftover trades if any (optional)\n",
    "    if bar_trades:\n",
    "        group_df = pd.DataFrame(bar_trades)\n",
    "        group_df = group_df.sort_values(\"timestamp\")\n",
    "\n",
    "        start_time = group_df[\"timestamp\"].iloc[0]\n",
    "        end_time = group_df[\"timestamp\"].iloc[-1]\n",
    "\n",
    "        bars.append({\n",
    "            \"start_time\": start_time,\n",
    "            \"end_time\": end_time,\n",
    "            \"open\": group_df[\"price\"].iloc[0],\n",
    "            \"close\": group_df[\"price\"].iloc[-1],\n",
    "            \"high\": group_df[\"price\"].max(),\n",
    "            \"low\": group_df[\"price\"].min(),\n",
    "            \"volume\": group_df[\"volume\"].sum()\n",
    "        })\n",
    "\n",
    "    bars_df = pd.DataFrame(bars)\n",
    "\n",
    "    # Reorder columns\n",
    "    cols = [\"start_time\", \"end_time\", \"open\", \"close\", \"high\", \"low\", \"volume\"]\n",
    "    bars_df = bars_df[cols]\n",
    "    return bars_df\n",
    "\n",
    "dollar_bars = generate_dollar_bars(df)"
   ]
  },
  {
   "cell_type": "markdown",
   "id": "6bde251b",
   "metadata": {},
   "source": [
    "# Plot bars"
   ]
  },
  {
   "cell_type": "markdown",
   "id": "13981152",
   "metadata": {},
   "source": [
    "## Tick bars"
   ]
  },
  {
   "cell_type": "markdown",
   "id": "b12d6949",
   "metadata": {},
   "source": [
    "### Bar Chart"
   ]
  },
  {
   "cell_type": "code",
   "execution_count": 14,
   "id": "3b406d7e",
   "metadata": {},
   "outputs": [
    {
     "data": {
      "application/vnd.plotly.v1+json": {
       "config": {
        "plotlyServerURL": "https://plot.ly"
       },
       "data": [
        {
         "close": {
          "bdata": "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",
          "dtype": "f8"
         },
         "high": {
          "bdata": "MzMzMzMDWUAzMzMzMwNZQFyPwvUo/FhAMzMzMzPzWECPwvUoXO9YQD0K16Nw7VhA4XoUrkfxWEBSuB6F6/FYQKRwPQrX81hArkfhehTuWEDsUbgehetYQNejcD0K91hA16NwPQr3WEAK16NwPfpYQD0K16Nw/VhAAAAAAAAAWUC4HoXrUfhYQOxRuB6FC1lAAAAAAAAQWUDNzMzMzAxZQHE9CtejEFlASOF6FK4XWUAUrkfhehRZQDMzMzMzE1lA7FG4HoULWUBcj8L1KAxZQI/C9ShcD1lA7FG4HoUbWUCPwvUoXB9ZQHE9CtejIFlAuB6F61EoWUC4HoXrUShZQNejcD0KJ1lAXI/C9SgcWUDD9ShcjxJZQFK4HoXrEVlAj8L1KFwfWUAUrkfheiRZQMP1KFyPIllApHA9CtcTWUDsUbgehQtZQEjhehSuB1lAexSuR+EKWUDNzMzMzAxZQJqZmZmZCVlACtejcD0KWUA9CtejcA1ZQI/C9ShcD1lAUrgehesRWUBxPQrXoxBZQDMzMzMzE1lAMzMzMzMTWUBSuB6F6xFZQEjhehSuF1lAhetRuB4VWUBcj8L1KBxZQMP1KFyPIllAMzMzMzMjWUBcj8L1KBxZQK5H4XoUHllAuB6F61EYWUCPwvUoXB9ZQDMzMzMzI1lAuB6F61EoWUAK16NwPSpZQArXo3A9KllAMzMzMzMjWUDD9ShcjyJZQFyPwvUoHFlAhetRuB4lWUAfhetRuB5ZQKRwPQrXI1lASOF6FK4XWUDsUbgehRtZQI/C9ShcH1lACtejcD0aWUCF61G4HhVZQD0K16NwHVlAcT0K16MgWUB7FK5H4SpZQBSuR+F6NFlA16NwPQo3WUBcj8L1KDxZQK5H4XoUPllAuB6F61E4WUAUrkfhejRZQClcj8L1OFlAuB6F61E4WUA9CtejcD1ZQMP1KFyPQllApHA9CtdDWUDD9Shcj0JZQGZmZmZmRllAH4XrUbhOWUBI4XoUrkdZQIXrUbgeRVlAZmZmZmZGWUD2KFyPwkVZQAAAAAAAQFlA4XoUrkdBWUBxPQrXo0BZQFK4HoXrQVlA7FG4HoVLWUDXo3A9CkdZQGZmZmZmRllAUrgehetBWUDsUbgehTtZQD0K16NwPVlAj8L1KFw/WUDNzMzMzDxZQK5H4XoUPllArkfhehQ+WUCuR+F6FD5ZQClcj8L1OFlA4XoUrkdBWUAzMzMzM0NZQDMzMzMzQ1lApHA9CtdDWUDXo3A9CkdZQClcj8L1SFlAPQrXo3A9WUBcj8L1KDxZQNejcD0KN1lAMzMzMzMzWUAfhetRuD5ZQEjhehSuN1lAj8L1KFw/WUCPwvUoXD9ZQDMzMzMzM1lAAAAAAAAwWUA9CtejcC1ZQHE9CtejMFlAPQrXo3AtWUDXo3A9CjdZQLgehetROFlAUrgehesxWUC4HoXrUShZQD0K16NwLVlAXI/C9SgsWUDsUbgehStZQHsUrkfhKllAcT0K16MwWUCPwvUoXC9ZQJqZmZmZKVlA4XoUrkchWUCkcD0K1yNZQD0K16NwLVlAmpmZmZkpWUAK16NwPSpZQDMzMzMzI1lApHA9CtcjWUAAAAAAACBZQOxRuB6FG1lAXI/C9SgcWUB7FK5H4RpZQK5H4XoUHllA16NwPQoXWUBSuB6F6xFZQM3MzMzMDFlAPQrXo3ANWUBcj8L1KBxZQM3MzMzMHFlApHA9CtcjWUCamZmZmSlZQHsUrkfhKllApHA9CtcjWUBSuB6F6yFZQD0K16NwHVlAPQrXo3AdWUAK16NwPRpZQD0K16NwHVlA16NwPQonWUCamZmZmSlZQIXrUbgeJVlAFK5H4XokWUDsUbgehStZQOxRuB6FK1lAFK5H4XokWUCuR+F6FB5ZQOF6FK5HIVlAH4XrUbgeWUDhehSuRzFZQI/C9ShcL1lAMzMzMzMzWUBmZmZmZjZZQIXrUbgeNVlAmpmZmZkpWUCPwvUoXC9ZQM3MzMzMLFlASOF6FK4nWUApXI/C9ShZQHE9CtejMFlAMzMzMzMzWUD2KFyPwjVZQIXrUbgeNVlASOF6FK43WUAAAAAAAEBZQK5H4XoUPllArkfhehQ+WUDXo3A9CkdZQA==",
          "dtype": "f8"
         },
         "low": {
          "bdata": "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",
          "dtype": "f8"
         },
         "name": "Tick Bars",
         "open": {
          "bdata": "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",
          "dtype": "f8"
         },
         "type": "candlestick",
         "x": {
          "bdata": "AAABAAIAAwAEAAUABgAHAAgACQAKAAsADAANAA4ADwAQABEAEgATABQAFQAWABcAGAAZABoAGwAcAB0AHgAfACAAIQAiACMAJAAlACYAJwAoACkAKgArACwALQAuAC8AMAAxADIAMwA0ADUANgA3ADgAOQA6ADsAPAA9AD4APwBAAEEAQgBDAEQARQBGAEcASABJAEoASwBMAE0ATgBPAFAAUQBSAFMAVABVAFYAVwBYAFkAWgBbAFwAXQBeAF8AYABhAGIAYwBkAGUAZgBnAGgAaQBqAGsAbABtAG4AbwBwAHEAcgBzAHQAdQB2AHcAeAB5AHoAewB8AH0AfgB/AIAAgQCCAIMAhACFAIYAhwCIAIkAigCLAIwAjQCOAI8AkACRAJIAkwCUAJUAlgCXAJgAmQCaAJsAnACdAJ4AnwCgAKEAogCjAKQApQCmAKcAqACpAKoAqwCsAK0ArgCvALAAsQCyALMAtAC1ALYAtwC4ALkAugC7ALwAvQC+AL8AwADBAMIAwwDEAMUAxgDHAA==",
          "dtype": "i2"
         }
        }
       ],
       "layout": {
        "showlegend": true,
        "template": {
         "data": {
          "bar": [
           {
            "error_x": {
             "color": "rgb(36,36,36)"
            },
            "error_y": {
             "color": "rgb(36,36,36)"
            },
            "marker": {
             "line": {
              "color": "rgb(234,234,242)",
              "width": 0.5
             },
             "pattern": {
              "fillmode": "overlay",
              "size": 10,
              "solidity": 0.2
             }
            },
            "type": "bar"
           }
          ],
          "barpolar": [
           {
            "marker": {
             "line": {
              "color": "rgb(234,234,242)",
              "width": 0.5
             },
             "pattern": {
              "fillmode": "overlay",
              "size": 10,
              "solidity": 0.2
             }
            },
            "type": "barpolar"
           }
          ],
          "carpet": [
           {
            "aaxis": {
             "endlinecolor": "rgb(36,36,36)",
             "gridcolor": "white",
             "linecolor": "white",
             "minorgridcolor": "white",
             "startlinecolor": "rgb(36,36,36)"
            },
            "baxis": {
             "endlinecolor": "rgb(36,36,36)",
             "gridcolor": "white",
             "linecolor": "white",
             "minorgridcolor": "white",
             "startlinecolor": "rgb(36,36,36)"
            },
            "type": "carpet"
           }
          ],
          "choropleth": [
           {
            "colorbar": {
             "outlinewidth": 0,
             "tickcolor": "rgb(36,36,36)",
             "ticklen": 8,
             "ticks": "outside",
             "tickwidth": 2
            },
            "type": "choropleth"
           }
          ],
          "contour": [
           {
            "colorbar": {
             "outlinewidth": 0,
             "tickcolor": "rgb(36,36,36)",
             "ticklen": 8,
             "ticks": "outside",
             "tickwidth": 2
            },
            "colorscale": [
             [
              0,
              "rgb(2,4,25)"
             ],
             [
              0.06274509803921569,
              "rgb(24,15,41)"
             ],
             [
              0.12549019607843137,
              "rgb(47,23,57)"
             ],
             [
              0.18823529411764706,
              "rgb(71,28,72)"
             ],
             [
              0.25098039215686274,
              "rgb(97,30,82)"
             ],
             [
              0.3137254901960784,
              "rgb(123,30,89)"
             ],
             [
              0.3764705882352941,
              "rgb(150,27,91)"
             ],
             [
              0.4392156862745098,
              "rgb(177,22,88)"
             ],
             [
              0.5019607843137255,
              "rgb(203,26,79)"
             ],
             [
              0.5647058823529412,
              "rgb(223,47,67)"
             ],
             [
              0.6274509803921569,
              "rgb(236,76,61)"
             ],
             [
              0.6901960784313725,
              "rgb(242,107,73)"
             ],
             [
              0.7529411764705882,
              "rgb(244,135,95)"
             ],
             [
              0.8156862745098039,
              "rgb(245,162,122)"
             ],
             [
              0.8784313725490196,
              "rgb(246,188,153)"
             ],
             [
              0.9411764705882353,
              "rgb(247,212,187)"
             ],
             [
              1,
              "rgb(250,234,220)"
             ]
            ],
            "type": "contour"
           }
          ],
          "contourcarpet": [
           {
            "colorbar": {
             "outlinewidth": 0,
             "tickcolor": "rgb(36,36,36)",
             "ticklen": 8,
             "ticks": "outside",
             "tickwidth": 2
            },
            "type": "contourcarpet"
           }
          ],
          "heatmap": [
           {
            "colorbar": {
             "outlinewidth": 0,
             "tickcolor": "rgb(36,36,36)",
             "ticklen": 8,
             "ticks": "outside",
             "tickwidth": 2
            },
            "colorscale": [
             [
              0,
              "rgb(2,4,25)"
             ],
             [
              0.06274509803921569,
              "rgb(24,15,41)"
             ],
             [
              0.12549019607843137,
              "rgb(47,23,57)"
             ],
             [
              0.18823529411764706,
              "rgb(71,28,72)"
             ],
             [
              0.25098039215686274,
              "rgb(97,30,82)"
             ],
             [
              0.3137254901960784,
              "rgb(123,30,89)"
             ],
             [
              0.3764705882352941,
              "rgb(150,27,91)"
             ],
             [
              0.4392156862745098,
              "rgb(177,22,88)"
             ],
             [
              0.5019607843137255,
              "rgb(203,26,79)"
             ],
             [
              0.5647058823529412,
              "rgb(223,47,67)"
             ],
             [
              0.6274509803921569,
              "rgb(236,76,61)"
             ],
             [
              0.6901960784313725,
              "rgb(242,107,73)"
             ],
             [
              0.7529411764705882,
              "rgb(244,135,95)"
             ],
             [
              0.8156862745098039,
              "rgb(245,162,122)"
             ],
             [
              0.8784313725490196,
              "rgb(246,188,153)"
             ],
             [
              0.9411764705882353,
              "rgb(247,212,187)"
             ],
             [
              1,
              "rgb(250,234,220)"
             ]
            ],
            "type": "heatmap"
           }
          ],
          "histogram": [
           {
            "marker": {
             "pattern": {
              "fillmode": "overlay",
              "size": 10,
              "solidity": 0.2
             }
            },
            "type": "histogram"
           }
          ],
          "histogram2d": [
           {
            "colorbar": {
             "outlinewidth": 0,
             "tickcolor": "rgb(36,36,36)",
             "ticklen": 8,
             "ticks": "outside",
             "tickwidth": 2
            },
            "colorscale": [
             [
              0,
              "rgb(2,4,25)"
             ],
             [
              0.06274509803921569,
              "rgb(24,15,41)"
             ],
             [
              0.12549019607843137,
              "rgb(47,23,57)"
             ],
             [
              0.18823529411764706,
              "rgb(71,28,72)"
             ],
             [
              0.25098039215686274,
              "rgb(97,30,82)"
             ],
             [
              0.3137254901960784,
              "rgb(123,30,89)"
             ],
             [
              0.3764705882352941,
              "rgb(150,27,91)"
             ],
             [
              0.4392156862745098,
              "rgb(177,22,88)"
             ],
             [
              0.5019607843137255,
              "rgb(203,26,79)"
             ],
             [
              0.5647058823529412,
              "rgb(223,47,67)"
             ],
             [
              0.6274509803921569,
              "rgb(236,76,61)"
             ],
             [
              0.6901960784313725,
              "rgb(242,107,73)"
             ],
             [
              0.7529411764705882,
              "rgb(244,135,95)"
             ],
             [
              0.8156862745098039,
              "rgb(245,162,122)"
             ],
             [
              0.8784313725490196,
              "rgb(246,188,153)"
             ],
             [
              0.9411764705882353,
              "rgb(247,212,187)"
             ],
             [
              1,
              "rgb(250,234,220)"
             ]
            ],
            "type": "histogram2d"
           }
          ],
          "histogram2dcontour": [
           {
            "colorbar": {
             "outlinewidth": 0,
             "tickcolor": "rgb(36,36,36)",
             "ticklen": 8,
             "ticks": "outside",
             "tickwidth": 2
            },
            "colorscale": [
             [
              0,
              "rgb(2,4,25)"
             ],
             [
              0.06274509803921569,
              "rgb(24,15,41)"
             ],
             [
              0.12549019607843137,
              "rgb(47,23,57)"
             ],
             [
              0.18823529411764706,
              "rgb(71,28,72)"
             ],
             [
              0.25098039215686274,
              "rgb(97,30,82)"
             ],
             [
              0.3137254901960784,
              "rgb(123,30,89)"
             ],
             [
              0.3764705882352941,
              "rgb(150,27,91)"
             ],
             [
              0.4392156862745098,
              "rgb(177,22,88)"
             ],
             [
              0.5019607843137255,
              "rgb(203,26,79)"
             ],
             [
              0.5647058823529412,
              "rgb(223,47,67)"
             ],
             [
              0.6274509803921569,
              "rgb(236,76,61)"
             ],
             [
              0.6901960784313725,
              "rgb(242,107,73)"
             ],
             [
              0.7529411764705882,
              "rgb(244,135,95)"
             ],
             [
              0.8156862745098039,
              "rgb(245,162,122)"
             ],
             [
              0.8784313725490196,
              "rgb(246,188,153)"
             ],
             [
              0.9411764705882353,
              "rgb(247,212,187)"
             ],
             [
              1,
              "rgb(250,234,220)"
             ]
            ],
            "type": "histogram2dcontour"
           }
          ],
          "mesh3d": [
           {
            "colorbar": {
             "outlinewidth": 0,
             "tickcolor": "rgb(36,36,36)",
             "ticklen": 8,
             "ticks": "outside",
             "tickwidth": 2
            },
            "type": "mesh3d"
           }
          ],
          "parcoords": [
           {
            "line": {
             "colorbar": {
              "outlinewidth": 0,
              "tickcolor": "rgb(36,36,36)",
              "ticklen": 8,
              "ticks": "outside",
              "tickwidth": 2
             }
            },
            "type": "parcoords"
           }
          ],
          "pie": [
           {
            "automargin": true,
            "type": "pie"
           }
          ],
          "scatter": [
           {
            "fillpattern": {
             "fillmode": "overlay",
             "size": 10,
             "solidity": 0.2
            },
            "type": "scatter"
           }
          ],
          "scatter3d": [
           {
            "line": {
             "colorbar": {
              "outlinewidth": 0,
              "tickcolor": "rgb(36,36,36)",
              "ticklen": 8,
              "ticks": "outside",
              "tickwidth": 2
             }
            },
            "marker": {
             "colorbar": {
              "outlinewidth": 0,
              "tickcolor": "rgb(36,36,36)",
              "ticklen": 8,
              "ticks": "outside",
              "tickwidth": 2
             }
            },
            "type": "scatter3d"
           }
          ],
          "scattercarpet": [
           {
            "marker": {
             "colorbar": {
              "outlinewidth": 0,
              "tickcolor": "rgb(36,36,36)",
              "ticklen": 8,
              "ticks": "outside",
              "tickwidth": 2
             }
            },
            "type": "scattercarpet"
           }
          ],
          "scattergeo": [
           {
            "marker": {
             "colorbar": {
              "outlinewidth": 0,
              "tickcolor": "rgb(36,36,36)",
              "ticklen": 8,
              "ticks": "outside",
              "tickwidth": 2
             }
            },
            "type": "scattergeo"
           }
          ],
          "scattergl": [
           {
            "marker": {
             "colorbar": {
              "outlinewidth": 0,
              "tickcolor": "rgb(36,36,36)",
              "ticklen": 8,
              "ticks": "outside",
              "tickwidth": 2
             }
            },
            "type": "scattergl"
           }
          ],
          "scattermap": [
           {
            "marker": {
             "colorbar": {
              "outlinewidth": 0,
              "tickcolor": "rgb(36,36,36)",
              "ticklen": 8,
              "ticks": "outside",
              "tickwidth": 2
             }
            },
            "type": "scattermap"
           }
          ],
          "scattermapbox": [
           {
            "marker": {
             "colorbar": {
              "outlinewidth": 0,
              "tickcolor": "rgb(36,36,36)",
              "ticklen": 8,
              "ticks": "outside",
              "tickwidth": 2
             }
            },
            "type": "scattermapbox"
           }
          ],
          "scatterpolar": [
           {
            "marker": {
             "colorbar": {
              "outlinewidth": 0,
              "tickcolor": "rgb(36,36,36)",
              "ticklen": 8,
              "ticks": "outside",
              "tickwidth": 2
             }
            },
            "type": "scatterpolar"
           }
          ],
          "scatterpolargl": [
           {
            "marker": {
             "colorbar": {
              "outlinewidth": 0,
              "tickcolor": "rgb(36,36,36)",
              "ticklen": 8,
              "ticks": "outside",
              "tickwidth": 2
             }
            },
            "type": "scatterpolargl"
           }
          ],
          "scatterternary": [
           {
            "marker": {
             "colorbar": {
              "outlinewidth": 0,
              "tickcolor": "rgb(36,36,36)",
              "ticklen": 8,
              "ticks": "outside",
              "tickwidth": 2
             }
            },
            "type": "scatterternary"
           }
          ],
          "surface": [
           {
            "colorbar": {
             "outlinewidth": 0,
             "tickcolor": "rgb(36,36,36)",
             "ticklen": 8,
             "ticks": "outside",
             "tickwidth": 2
            },
            "colorscale": [
             [
              0,
              "rgb(2,4,25)"
             ],
             [
              0.06274509803921569,
              "rgb(24,15,41)"
             ],
             [
              0.12549019607843137,
              "rgb(47,23,57)"
             ],
             [
              0.18823529411764706,
              "rgb(71,28,72)"
             ],
             [
              0.25098039215686274,
              "rgb(97,30,82)"
             ],
             [
              0.3137254901960784,
              "rgb(123,30,89)"
             ],
             [
              0.3764705882352941,
              "rgb(150,27,91)"
             ],
             [
              0.4392156862745098,
              "rgb(177,22,88)"
             ],
             [
              0.5019607843137255,
              "rgb(203,26,79)"
             ],
             [
              0.5647058823529412,
              "rgb(223,47,67)"
             ],
             [
              0.6274509803921569,
              "rgb(236,76,61)"
             ],
             [
              0.6901960784313725,
              "rgb(242,107,73)"
             ],
             [
              0.7529411764705882,
              "rgb(244,135,95)"
             ],
             [
              0.8156862745098039,
              "rgb(245,162,122)"
             ],
             [
              0.8784313725490196,
              "rgb(246,188,153)"
             ],
             [
              0.9411764705882353,
              "rgb(247,212,187)"
             ],
             [
              1,
              "rgb(250,234,220)"
             ]
            ],
            "type": "surface"
           }
          ],
          "table": [
           {
            "cells": {
             "fill": {
              "color": "rgb(231,231,240)"
             },
             "line": {
              "color": "white"
             }
            },
            "header": {
             "fill": {
              "color": "rgb(183,183,191)"
             },
             "line": {
              "color": "white"
             }
            },
            "type": "table"
           }
          ]
         },
         "layout": {
          "annotationdefaults": {
           "arrowcolor": "rgb(67,103,167)"
          },
          "autotypenumbers": "strict",
          "coloraxis": {
           "colorbar": {
            "outlinewidth": 0,
            "tickcolor": "rgb(36,36,36)",
            "ticklen": 8,
            "ticks": "outside",
            "tickwidth": 2
           }
          },
          "colorscale": {
           "sequential": [
            [
             0,
             "rgb(2,4,25)"
            ],
            [
             0.06274509803921569,
             "rgb(24,15,41)"
            ],
            [
             0.12549019607843137,
             "rgb(47,23,57)"
            ],
            [
             0.18823529411764706,
             "rgb(71,28,72)"
            ],
            [
             0.25098039215686274,
             "rgb(97,30,82)"
            ],
            [
             0.3137254901960784,
             "rgb(123,30,89)"
            ],
            [
             0.3764705882352941,
             "rgb(150,27,91)"
            ],
            [
             0.4392156862745098,
             "rgb(177,22,88)"
            ],
            [
             0.5019607843137255,
             "rgb(203,26,79)"
            ],
            [
             0.5647058823529412,
             "rgb(223,47,67)"
            ],
            [
             0.6274509803921569,
             "rgb(236,76,61)"
            ],
            [
             0.6901960784313725,
             "rgb(242,107,73)"
            ],
            [
             0.7529411764705882,
             "rgb(244,135,95)"
            ],
            [
             0.8156862745098039,
             "rgb(245,162,122)"
            ],
            [
             0.8784313725490196,
             "rgb(246,188,153)"
            ],
            [
             0.9411764705882353,
             "rgb(247,212,187)"
            ],
            [
             1,
             "rgb(250,234,220)"
            ]
           ],
           "sequentialminus": [
            [
             0,
             "rgb(2,4,25)"
            ],
            [
             0.06274509803921569,
             "rgb(24,15,41)"
            ],
            [
             0.12549019607843137,
             "rgb(47,23,57)"
            ],
            [
             0.18823529411764706,
             "rgb(71,28,72)"
            ],
            [
             0.25098039215686274,
             "rgb(97,30,82)"
            ],
            [
             0.3137254901960784,
             "rgb(123,30,89)"
            ],
            [
             0.3764705882352941,
             "rgb(150,27,91)"
            ],
            [
             0.4392156862745098,
             "rgb(177,22,88)"
            ],
            [
             0.5019607843137255,
             "rgb(203,26,79)"
            ],
            [
             0.5647058823529412,
             "rgb(223,47,67)"
            ],
            [
             0.6274509803921569,
             "rgb(236,76,61)"
            ],
            [
             0.6901960784313725,
             "rgb(242,107,73)"
            ],
            [
             0.7529411764705882,
             "rgb(244,135,95)"
            ],
            [
             0.8156862745098039,
             "rgb(245,162,122)"
            ],
            [
             0.8784313725490196,
             "rgb(246,188,153)"
            ],
            [
             0.9411764705882353,
             "rgb(247,212,187)"
            ],
            [
             1,
             "rgb(250,234,220)"
            ]
           ]
          },
          "colorway": [
           "rgb(76,114,176)",
           "rgb(221,132,82)",
           "rgb(85,168,104)",
           "rgb(196,78,82)",
           "rgb(129,114,179)",
           "rgb(147,120,96)",
           "rgb(218,139,195)",
           "rgb(140,140,140)",
           "rgb(204,185,116)",
           "rgb(100,181,205)"
          ],
          "font": {
           "color": "rgb(36,36,36)"
          },
          "geo": {
           "bgcolor": "white",
           "lakecolor": "white",
           "landcolor": "rgb(234,234,242)",
           "showlakes": true,
           "showland": true,
           "subunitcolor": "white"
          },
          "hoverlabel": {
           "align": "left"
          },
          "hovermode": "closest",
          "paper_bgcolor": "white",
          "plot_bgcolor": "rgb(234,234,242)",
          "polar": {
           "angularaxis": {
            "gridcolor": "white",
            "linecolor": "white",
            "showgrid": true,
            "ticks": ""
           },
           "bgcolor": "rgb(234,234,242)",
           "radialaxis": {
            "gridcolor": "white",
            "linecolor": "white",
            "showgrid": true,
            "ticks": ""
           }
          },
          "scene": {
           "xaxis": {
            "backgroundcolor": "rgb(234,234,242)",
            "gridcolor": "white",
            "gridwidth": 2,
            "linecolor": "white",
            "showbackground": true,
            "showgrid": true,
            "ticks": "",
            "zerolinecolor": "white"
           },
           "yaxis": {
            "backgroundcolor": "rgb(234,234,242)",
            "gridcolor": "white",
            "gridwidth": 2,
            "linecolor": "white",
            "showbackground": true,
            "showgrid": true,
            "ticks": "",
            "zerolinecolor": "white"
           },
           "zaxis": {
            "backgroundcolor": "rgb(234,234,242)",
            "gridcolor": "white",
            "gridwidth": 2,
            "linecolor": "white",
            "showbackground": true,
            "showgrid": true,
            "ticks": "",
            "zerolinecolor": "white"
           }
          },
          "shapedefaults": {
           "fillcolor": "rgb(67,103,167)",
           "line": {
            "width": 0
           },
           "opacity": 0.5
          },
          "ternary": {
           "aaxis": {
            "gridcolor": "white",
            "linecolor": "white",
            "showgrid": true,
            "ticks": ""
           },
           "baxis": {
            "gridcolor": "white",
            "linecolor": "white",
            "showgrid": true,
            "ticks": ""
           },
           "bgcolor": "rgb(234,234,242)",
           "caxis": {
            "gridcolor": "white",
            "linecolor": "white",
            "showgrid": true,
            "ticks": ""
           }
          },
          "xaxis": {
           "automargin": true,
           "gridcolor": "white",
           "linecolor": "white",
           "showgrid": true,
           "ticks": "",
           "title": {
            "standoff": 15
           },
           "zerolinecolor": "white"
          },
          "yaxis": {
           "automargin": true,
           "gridcolor": "white",
           "linecolor": "white",
           "showgrid": true,
           "ticks": "",
           "title": {
            "standoff": 15
           },
           "zerolinecolor": "white"
          }
         }
        },
        "title": {
         "text": "Tick Bars"
        },
        "xaxis": {
         "rangeslider": {
          "visible": true
         },
         "title": {
          "text": "Bar"
         }
        },
        "yaxis": {
         "title": {
          "text": "Price (USD)"
         }
        }
       }
      }
     },
     "metadata": {},
     "output_type": "display_data"
    }
   ],
   "source": [
    "fig = go.Figure(data=[go.Candlestick(\n",
    "    x=tick_bars.index,\n",
    "    open=tick_bars['open'],\n",
    "    high=tick_bars['high'],\n",
    "    low=tick_bars['low'],\n",
    "    close=tick_bars['close'],\n",
    "    name='Tick Bars'\n",
    ")])\n",
    "\n",
    "fig.update_layout(\n",
    "    title=f'Tick Bars',\n",
    "    yaxis_title='Price (USD)',\n",
    "    xaxis_title='Bar',\n",
    "    xaxis_rangeslider_visible=True, \n",
    "    template='seaborn', # other options: plotly, plotly_white, plotly_dark, simple_white\n",
    "    showlegend=True,\n",
    ")"
   ]
  },
  {
   "cell_type": "markdown",
   "id": "faa6ebe9",
   "metadata": {},
   "source": [
    "### Time chart"
   ]
  },
  {
   "cell_type": "code",
   "execution_count": 15,
   "id": "7c18e8e9",
   "metadata": {},
   "outputs": [
    {
     "data": {
      "application/vnd.plotly.v1+json": {
       "config": {
        "plotlyServerURL": "https://plot.ly"
       },
       "data": [
        {
         "close": {
          "bdata": "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",
          "dtype": "f8"
         },
         "high": {
          "bdata": "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",
          "dtype": "f8"
         },
         "low": {
          "bdata": "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",
          "dtype": "f8"
         },
         "name": "Tick Bars",
         "open": {
          "bdata": "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",
          "dtype": "f8"
         },
         "type": "candlestick",
         "x": [
          "2025-07-14T09:30:01.000000000",
          "2025-07-14T09:34:23.000000000",
          "2025-07-14T09:37:06.000000000",
          "2025-07-14T09:40:25.000000000",
          "2025-07-14T09:41:52.000000000",
          "2025-07-14T09:44:38.000000000",
          "2025-07-14T09:46:10.000000000",
          "2025-07-14T09:47:22.000000000",
          "2025-07-14T09:49:09.000000000",
          "2025-07-14T09:50:41.000000000",
          "2025-07-14T09:55:20.000000000",
          "2025-07-14T09:56:00.000000000",
          "2025-07-14T09:58:23.000000000",
          "2025-07-14T10:01:44.000000000",
          "2025-07-14T10:04:17.000000000",
          "2025-07-14T10:06:20.000000000",
          "2025-07-14T10:08:55.000000000",
          "2025-07-14T10:10:49.000000000",
          "2025-07-14T10:12:02.000000000",
          "2025-07-14T10:12:45.000000000",
          "2025-07-14T10:14:31.000000000",
          "2025-07-14T10:15:46.000000000",
          "2025-07-14T10:18:01.000000000",
          "2025-07-14T10:18:55.000000000",
          "2025-07-14T10:20:56.000000000",
          "2025-07-14T10:23:40.000000000",
          "2025-07-14T10:25:42.000000000",
          "2025-07-14T10:27:12.000000000",
          "2025-07-14T10:30:40.000000000",
          "2025-07-14T10:31:22.000000000",
          "2025-07-14T10:33:39.000000000",
          "2025-07-14T10:34:51.000000000",
          "2025-07-14T10:35:47.000000000",
          "2025-07-14T10:38:20.000000000",
          "2025-07-14T10:39:59.000000000",
          "2025-07-14T10:41:49.000000000",
          "2025-07-14T10:43:00.000000000",
          "2025-07-14T10:44:06.000000000",
          "2025-07-14T10:46:02.000000000",
          "2025-07-14T10:47:24.000000000",
          "2025-07-14T10:50:27.000000000",
          "2025-07-14T10:54:06.000000000",
          "2025-07-14T10:55:41.000000000",
          "2025-07-14T10:56:43.000000000",
          "2025-07-14T10:58:07.000000000",
          "2025-07-14T11:00:07.000000000",
          "2025-07-14T11:02:01.000000000",
          "2025-07-14T11:03:26.000000000",
          "2025-07-14T11:05:04.000000000",
          "2025-07-14T11:07:21.000000000",
          "2025-07-14T11:08:06.000000000",
          "2025-07-14T11:09:33.000000000",
          "2025-07-14T11:10:48.000000000",
          "2025-07-14T11:13:37.000000000",
          "2025-07-14T11:15:31.000000000",
          "2025-07-14T11:19:27.000000000",
          "2025-07-14T11:20:26.000000000",
          "2025-07-14T11:23:09.000000000",
          "2025-07-14T11:23:45.000000000",
          "2025-07-14T11:26:58.000000000",
          "2025-07-14T11:28:39.000000000",
          "2025-07-14T11:31:08.000000000",
          "2025-07-14T11:33:24.000000000",
          "2025-07-14T11:35:10.000000000",
          "2025-07-14T11:37:24.000000000",
          "2025-07-14T11:39:21.000000000",
          "2025-07-14T11:41:29.000000000",
          "2025-07-14T11:43:56.000000000",
          "2025-07-14T11:45:26.000000000",
          "2025-07-14T11:46:57.000000000",
          "2025-07-14T11:48:14.000000000",
          "2025-07-14T11:51:14.000000000",
          "2025-07-14T11:53:32.000000000",
          "2025-07-14T11:55:26.000000000",
          "2025-07-14T11:57:17.000000000",
          "2025-07-14T11:58:15.000000000",
          "2025-07-14T11:59:53.000000000",
          "2025-07-14T12:03:31.000000000",
          "2025-07-14T12:08:41.000000000",
          "2025-07-14T12:12:47.000000000",
          "2025-07-14T12:14:04.000000000",
          "2025-07-14T12:17:25.000000000",
          "2025-07-14T12:18:50.000000000",
          "2025-07-14T12:20:33.000000000",
          "2025-07-14T12:22:32.000000000",
          "2025-07-14T12:23:41.000000000",
          "2025-07-14T12:25:11.000000000",
          "2025-07-14T12:26:42.000000000",
          "2025-07-14T12:27:49.000000000",
          "2025-07-14T12:29:37.000000000",
          "2025-07-14T12:31:40.000000000",
          "2025-07-14T12:33:02.000000000",
          "2025-07-14T12:36:06.000000000",
          "2025-07-14T12:37:37.000000000",
          "2025-07-14T12:39:24.000000000",
          "2025-07-14T12:41:49.000000000",
          "2025-07-14T12:43:18.000000000",
          "2025-07-14T12:44:52.000000000",
          "2025-07-14T12:46:03.000000000",
          "2025-07-14T12:47:15.000000000",
          "2025-07-14T12:51:37.000000000",
          "2025-07-14T12:52:31.000000000",
          "2025-07-14T12:54:09.000000000",
          "2025-07-14T12:54:42.000000000",
          "2025-07-14T12:55:35.000000000",
          "2025-07-14T12:56:59.000000000",
          "2025-07-14T13:00:07.000000000",
          "2025-07-14T13:01:26.000000000",
          "2025-07-14T13:04:05.000000000",
          "2025-07-14T13:05:46.000000000",
          "2025-07-14T13:07:48.000000000",
          "2025-07-14T13:08:36.000000000",
          "2025-07-14T13:09:36.000000000",
          "2025-07-14T13:11:12.000000000",
          "2025-07-14T13:12:12.000000000",
          "2025-07-14T13:14:10.000000000",
          "2025-07-14T13:15:36.000000000",
          "2025-07-14T13:17:25.000000000",
          "2025-07-14T13:19:26.000000000",
          "2025-07-14T13:22:22.000000000",
          "2025-07-14T13:23:52.000000000",
          "2025-07-14T13:24:39.000000000",
          "2025-07-14T13:26:22.000000000",
          "2025-07-14T13:29:58.000000000",
          "2025-07-14T13:31:38.000000000",
          "2025-07-14T13:37:00.000000000",
          "2025-07-14T13:39:20.000000000",
          "2025-07-14T13:41:24.000000000",
          "2025-07-14T13:42:56.000000000",
          "2025-07-14T13:43:37.000000000",
          "2025-07-14T13:44:23.000000000",
          "2025-07-14T13:47:23.000000000",
          "2025-07-14T13:52:04.000000000",
          "2025-07-14T13:54:39.000000000",
          "2025-07-14T13:57:25.000000000",
          "2025-07-14T13:58:20.000000000",
          "2025-07-14T14:00:17.000000000",
          "2025-07-14T14:03:40.000000000",
          "2025-07-14T14:05:03.000000000",
          "2025-07-14T14:07:03.000000000",
          "2025-07-14T14:07:58.000000000",
          "2025-07-14T14:10:19.000000000",
          "2025-07-14T14:11:43.000000000",
          "2025-07-14T14:13:20.000000000",
          "2025-07-14T14:14:43.000000000",
          "2025-07-14T14:15:35.000000000",
          "2025-07-14T14:18:21.000000000",
          "2025-07-14T14:19:45.000000000",
          "2025-07-14T14:22:18.000000000",
          "2025-07-14T14:22:55.000000000",
          "2025-07-14T14:24:56.000000000",
          "2025-07-14T14:27:45.000000000",
          "2025-07-14T14:28:38.000000000",
          "2025-07-14T14:30:48.000000000",
          "2025-07-14T14:32:15.000000000",
          "2025-07-14T14:34:34.000000000",
          "2025-07-14T14:35:34.000000000",
          "2025-07-14T14:36:33.000000000",
          "2025-07-14T14:38:20.000000000",
          "2025-07-14T14:39:19.000000000",
          "2025-07-14T14:41:36.000000000",
          "2025-07-14T14:42:50.000000000",
          "2025-07-14T14:44:12.000000000",
          "2025-07-14T14:45:13.000000000",
          "2025-07-14T14:48:18.000000000",
          "2025-07-14T14:50:22.000000000",
          "2025-07-14T14:52:37.000000000",
          "2025-07-14T14:55:19.000000000",
          "2025-07-14T14:57:27.000000000",
          "2025-07-14T14:58:32.000000000",
          "2025-07-14T14:59:37.000000000",
          "2025-07-14T15:02:30.000000000",
          "2025-07-14T15:03:56.000000000",
          "2025-07-14T15:05:15.000000000",
          "2025-07-14T15:06:36.000000000",
          "2025-07-14T15:09:21.000000000",
          "2025-07-14T15:10:07.000000000",
          "2025-07-14T15:12:42.000000000",
          "2025-07-14T15:13:44.000000000",
          "2025-07-14T15:15:51.000000000",
          "2025-07-14T15:19:19.000000000",
          "2025-07-14T15:21:18.000000000",
          "2025-07-14T15:23:08.000000000",
          "2025-07-14T15:24:11.000000000",
          "2025-07-14T15:25:18.000000000",
          "2025-07-14T15:28:29.000000000",
          "2025-07-14T15:30:29.000000000",
          "2025-07-14T15:32:07.000000000",
          "2025-07-14T15:34:50.000000000",
          "2025-07-14T15:36:43.000000000",
          "2025-07-14T15:40:23.000000000",
          "2025-07-14T15:41:33.000000000",
          "2025-07-14T15:44:51.000000000",
          "2025-07-14T15:46:13.000000000",
          "2025-07-14T15:48:21.000000000",
          "2025-07-14T15:50:42.000000000",
          "2025-07-14T15:52:51.000000000",
          "2025-07-14T15:54:39.000000000",
          "2025-07-14T15:56:34.000000000",
          "2025-07-14T15:58:47.000000000"
         ]
        }
       ],
       "layout": {
        "showlegend": true,
        "template": {
         "data": {
          "bar": [
           {
            "error_x": {
             "color": "rgb(36,36,36)"
            },
            "error_y": {
             "color": "rgb(36,36,36)"
            },
            "marker": {
             "line": {
              "color": "rgb(234,234,242)",
              "width": 0.5
             },
             "pattern": {
              "fillmode": "overlay",
              "size": 10,
              "solidity": 0.2
             }
            },
            "type": "bar"
           }
          ],
          "barpolar": [
           {
            "marker": {
             "line": {
              "color": "rgb(234,234,242)",
              "width": 0.5
             },
             "pattern": {
              "fillmode": "overlay",
              "size": 10,
              "solidity": 0.2
             }
            },
            "type": "barpolar"
           }
          ],
          "carpet": [
           {
            "aaxis": {
             "endlinecolor": "rgb(36,36,36)",
             "gridcolor": "white",
             "linecolor": "white",
             "minorgridcolor": "white",
             "startlinecolor": "rgb(36,36,36)"
            },
            "baxis": {
             "endlinecolor": "rgb(36,36,36)",
             "gridcolor": "white",
             "linecolor": "white",
             "minorgridcolor": "white",
             "startlinecolor": "rgb(36,36,36)"
            },
            "type": "carpet"
           }
          ],
          "choropleth": [
           {
            "colorbar": {
             "outlinewidth": 0,
             "tickcolor": "rgb(36,36,36)",
             "ticklen": 8,
             "ticks": "outside",
             "tickwidth": 2
            },
            "type": "choropleth"
           }
          ],
          "contour": [
           {
            "colorbar": {
             "outlinewidth": 0,
             "tickcolor": "rgb(36,36,36)",
             "ticklen": 8,
             "ticks": "outside",
             "tickwidth": 2
            },
            "colorscale": [
             [
              0,
              "rgb(2,4,25)"
             ],
             [
              0.06274509803921569,
              "rgb(24,15,41)"
             ],
             [
              0.12549019607843137,
              "rgb(47,23,57)"
             ],
             [
              0.18823529411764706,
              "rgb(71,28,72)"
             ],
             [
              0.25098039215686274,
              "rgb(97,30,82)"
             ],
             [
              0.3137254901960784,
              "rgb(123,30,89)"
             ],
             [
              0.3764705882352941,
              "rgb(150,27,91)"
             ],
             [
              0.4392156862745098,
              "rgb(177,22,88)"
             ],
             [
              0.5019607843137255,
              "rgb(203,26,79)"
             ],
             [
              0.5647058823529412,
              "rgb(223,47,67)"
             ],
             [
              0.6274509803921569,
              "rgb(236,76,61)"
             ],
             [
              0.6901960784313725,
              "rgb(242,107,73)"
             ],
             [
              0.7529411764705882,
              "rgb(244,135,95)"
             ],
             [
              0.8156862745098039,
              "rgb(245,162,122)"
             ],
             [
              0.8784313725490196,
              "rgb(246,188,153)"
             ],
             [
              0.9411764705882353,
              "rgb(247,212,187)"
             ],
             [
              1,
              "rgb(250,234,220)"
             ]
            ],
            "type": "contour"
           }
          ],
          "contourcarpet": [
           {
            "colorbar": {
             "outlinewidth": 0,
             "tickcolor": "rgb(36,36,36)",
             "ticklen": 8,
             "ticks": "outside",
             "tickwidth": 2
            },
            "type": "contourcarpet"
           }
          ],
          "heatmap": [
           {
            "colorbar": {
             "outlinewidth": 0,
             "tickcolor": "rgb(36,36,36)",
             "ticklen": 8,
             "ticks": "outside",
             "tickwidth": 2
            },
            "colorscale": [
             [
              0,
              "rgb(2,4,25)"
             ],
             [
              0.06274509803921569,
              "rgb(24,15,41)"
             ],
             [
              0.12549019607843137,
              "rgb(47,23,57)"
             ],
             [
              0.18823529411764706,
              "rgb(71,28,72)"
             ],
             [
              0.25098039215686274,
              "rgb(97,30,82)"
             ],
             [
              0.3137254901960784,
              "rgb(123,30,89)"
             ],
             [
              0.3764705882352941,
              "rgb(150,27,91)"
             ],
             [
              0.4392156862745098,
              "rgb(177,22,88)"
             ],
             [
              0.5019607843137255,
              "rgb(203,26,79)"
             ],
             [
              0.5647058823529412,
              "rgb(223,47,67)"
             ],
             [
              0.6274509803921569,
              "rgb(236,76,61)"
             ],
             [
              0.6901960784313725,
              "rgb(242,107,73)"
             ],
             [
              0.7529411764705882,
              "rgb(244,135,95)"
             ],
             [
              0.8156862745098039,
              "rgb(245,162,122)"
             ],
             [
              0.8784313725490196,
              "rgb(246,188,153)"
             ],
             [
              0.9411764705882353,
              "rgb(247,212,187)"
             ],
             [
              1,
              "rgb(250,234,220)"
             ]
            ],
            "type": "heatmap"
           }
          ],
          "histogram": [
           {
            "marker": {
             "pattern": {
              "fillmode": "overlay",
              "size": 10,
              "solidity": 0.2
             }
            },
            "type": "histogram"
           }
          ],
          "histogram2d": [
           {
            "colorbar": {
             "outlinewidth": 0,
             "tickcolor": "rgb(36,36,36)",
             "ticklen": 8,
             "ticks": "outside",
             "tickwidth": 2
            },
            "colorscale": [
             [
              0,
              "rgb(2,4,25)"
             ],
             [
              0.06274509803921569,
              "rgb(24,15,41)"
             ],
             [
              0.12549019607843137,
              "rgb(47,23,57)"
             ],
             [
              0.18823529411764706,
              "rgb(71,28,72)"
             ],
             [
              0.25098039215686274,
              "rgb(97,30,82)"
             ],
             [
              0.3137254901960784,
              "rgb(123,30,89)"
             ],
             [
              0.3764705882352941,
              "rgb(150,27,91)"
             ],
             [
              0.4392156862745098,
              "rgb(177,22,88)"
             ],
             [
              0.5019607843137255,
              "rgb(203,26,79)"
             ],
             [
              0.5647058823529412,
              "rgb(223,47,67)"
             ],
             [
              0.6274509803921569,
              "rgb(236,76,61)"
             ],
             [
              0.6901960784313725,
              "rgb(242,107,73)"
             ],
             [
              0.7529411764705882,
              "rgb(244,135,95)"
             ],
             [
              0.8156862745098039,
              "rgb(245,162,122)"
             ],
             [
              0.8784313725490196,
              "rgb(246,188,153)"
             ],
             [
              0.9411764705882353,
              "rgb(247,212,187)"
             ],
             [
              1,
              "rgb(250,234,220)"
             ]
            ],
            "type": "histogram2d"
           }
          ],
          "histogram2dcontour": [
           {
            "colorbar": {
             "outlinewidth": 0,
             "tickcolor": "rgb(36,36,36)",
             "ticklen": 8,
             "ticks": "outside",
             "tickwidth": 2
            },
            "colorscale": [
             [
              0,
              "rgb(2,4,25)"
             ],
             [
              0.06274509803921569,
              "rgb(24,15,41)"
             ],
             [
              0.12549019607843137,
              "rgb(47,23,57)"
             ],
             [
              0.18823529411764706,
              "rgb(71,28,72)"
             ],
             [
              0.25098039215686274,
              "rgb(97,30,82)"
             ],
             [
              0.3137254901960784,
              "rgb(123,30,89)"
             ],
             [
              0.3764705882352941,
              "rgb(150,27,91)"
             ],
             [
              0.4392156862745098,
              "rgb(177,22,88)"
             ],
             [
              0.5019607843137255,
              "rgb(203,26,79)"
             ],
             [
              0.5647058823529412,
              "rgb(223,47,67)"
             ],
             [
              0.6274509803921569,
              "rgb(236,76,61)"
             ],
             [
              0.6901960784313725,
              "rgb(242,107,73)"
             ],
             [
              0.7529411764705882,
              "rgb(244,135,95)"
             ],
             [
              0.8156862745098039,
              "rgb(245,162,122)"
             ],
             [
              0.8784313725490196,
              "rgb(246,188,153)"
             ],
             [
              0.9411764705882353,
              "rgb(247,212,187)"
             ],
             [
              1,
              "rgb(250,234,220)"
             ]
            ],
            "type": "histogram2dcontour"
           }
          ],
          "mesh3d": [
           {
            "colorbar": {
             "outlinewidth": 0,
             "tickcolor": "rgb(36,36,36)",
             "ticklen": 8,
             "ticks": "outside",
             "tickwidth": 2
            },
            "type": "mesh3d"
           }
          ],
          "parcoords": [
           {
            "line": {
             "colorbar": {
              "outlinewidth": 0,
              "tickcolor": "rgb(36,36,36)",
              "ticklen": 8,
              "ticks": "outside",
              "tickwidth": 2
             }
            },
            "type": "parcoords"
           }
          ],
          "pie": [
           {
            "automargin": true,
            "type": "pie"
           }
          ],
          "scatter": [
           {
            "fillpattern": {
             "fillmode": "overlay",
             "size": 10,
             "solidity": 0.2
            },
            "type": "scatter"
           }
          ],
          "scatter3d": [
           {
            "line": {
             "colorbar": {
              "outlinewidth": 0,
              "tickcolor": "rgb(36,36,36)",
              "ticklen": 8,
              "ticks": "outside",
              "tickwidth": 2
             }
            },
            "marker": {
             "colorbar": {
              "outlinewidth": 0,
              "tickcolor": "rgb(36,36,36)",
              "ticklen": 8,
              "ticks": "outside",
              "tickwidth": 2
             }
            },
            "type": "scatter3d"
           }
          ],
          "scattercarpet": [
           {
            "marker": {
             "colorbar": {
              "outlinewidth": 0,
              "tickcolor": "rgb(36,36,36)",
              "ticklen": 8,
              "ticks": "outside",
              "tickwidth": 2
             }
            },
            "type": "scattercarpet"
           }
          ],
          "scattergeo": [
           {
            "marker": {
             "colorbar": {
              "outlinewidth": 0,
              "tickcolor": "rgb(36,36,36)",
              "ticklen": 8,
              "ticks": "outside",
              "tickwidth": 2
             }
            },
            "type": "scattergeo"
           }
          ],
          "scattergl": [
           {
            "marker": {
             "colorbar": {
              "outlinewidth": 0,
              "tickcolor": "rgb(36,36,36)",
              "ticklen": 8,
              "ticks": "outside",
              "tickwidth": 2
             }
            },
            "type": "scattergl"
           }
          ],
          "scattermap": [
           {
            "marker": {
             "colorbar": {
              "outlinewidth": 0,
              "tickcolor": "rgb(36,36,36)",
              "ticklen": 8,
              "ticks": "outside",
              "tickwidth": 2
             }
            },
            "type": "scattermap"
           }
          ],
          "scattermapbox": [
           {
            "marker": {
             "colorbar": {
              "outlinewidth": 0,
              "tickcolor": "rgb(36,36,36)",
              "ticklen": 8,
              "ticks": "outside",
              "tickwidth": 2
             }
            },
            "type": "scattermapbox"
           }
          ],
          "scatterpolar": [
           {
            "marker": {
             "colorbar": {
              "outlinewidth": 0,
              "tickcolor": "rgb(36,36,36)",
              "ticklen": 8,
              "ticks": "outside",
              "tickwidth": 2
             }
            },
            "type": "scatterpolar"
           }
          ],
          "scatterpolargl": [
           {
            "marker": {
             "colorbar": {
              "outlinewidth": 0,
              "tickcolor": "rgb(36,36,36)",
              "ticklen": 8,
              "ticks": "outside",
              "tickwidth": 2
             }
            },
            "type": "scatterpolargl"
           }
          ],
          "scatterternary": [
           {
            "marker": {
             "colorbar": {
              "outlinewidth": 0,
              "tickcolor": "rgb(36,36,36)",
              "ticklen": 8,
              "ticks": "outside",
              "tickwidth": 2
             }
            },
            "type": "scatterternary"
           }
          ],
          "surface": [
           {
            "colorbar": {
             "outlinewidth": 0,
             "tickcolor": "rgb(36,36,36)",
             "ticklen": 8,
             "ticks": "outside",
             "tickwidth": 2
            },
            "colorscale": [
             [
              0,
              "rgb(2,4,25)"
             ],
             [
              0.06274509803921569,
              "rgb(24,15,41)"
             ],
             [
              0.12549019607843137,
              "rgb(47,23,57)"
             ],
             [
              0.18823529411764706,
              "rgb(71,28,72)"
             ],
             [
              0.25098039215686274,
              "rgb(97,30,82)"
             ],
             [
              0.3137254901960784,
              "rgb(123,30,89)"
             ],
             [
              0.3764705882352941,
              "rgb(150,27,91)"
             ],
             [
              0.4392156862745098,
              "rgb(177,22,88)"
             ],
             [
              0.5019607843137255,
              "rgb(203,26,79)"
             ],
             [
              0.5647058823529412,
              "rgb(223,47,67)"
             ],
             [
              0.6274509803921569,
              "rgb(236,76,61)"
             ],
             [
              0.6901960784313725,
              "rgb(242,107,73)"
             ],
             [
              0.7529411764705882,
              "rgb(244,135,95)"
             ],
             [
              0.8156862745098039,
              "rgb(245,162,122)"
             ],
             [
              0.8784313725490196,
              "rgb(246,188,153)"
             ],
             [
              0.9411764705882353,
              "rgb(247,212,187)"
             ],
             [
              1,
              "rgb(250,234,220)"
             ]
            ],
            "type": "surface"
           }
          ],
          "table": [
           {
            "cells": {
             "fill": {
              "color": "rgb(231,231,240)"
             },
             "line": {
              "color": "white"
             }
            },
            "header": {
             "fill": {
              "color": "rgb(183,183,191)"
             },
             "line": {
              "color": "white"
             }
            },
            "type": "table"
           }
          ]
         },
         "layout": {
          "annotationdefaults": {
           "arrowcolor": "rgb(67,103,167)"
          },
          "autotypenumbers": "strict",
          "coloraxis": {
           "colorbar": {
            "outlinewidth": 0,
            "tickcolor": "rgb(36,36,36)",
            "ticklen": 8,
            "ticks": "outside",
            "tickwidth": 2
           }
          },
          "colorscale": {
           "sequential": [
            [
             0,
             "rgb(2,4,25)"
            ],
            [
             0.06274509803921569,
             "rgb(24,15,41)"
            ],
            [
             0.12549019607843137,
             "rgb(47,23,57)"
            ],
            [
             0.18823529411764706,
             "rgb(71,28,72)"
            ],
            [
             0.25098039215686274,
             "rgb(97,30,82)"
            ],
            [
             0.3137254901960784,
             "rgb(123,30,89)"
            ],
            [
             0.3764705882352941,
             "rgb(150,27,91)"
            ],
            [
             0.4392156862745098,
             "rgb(177,22,88)"
            ],
            [
             0.5019607843137255,
             "rgb(203,26,79)"
            ],
            [
             0.5647058823529412,
             "rgb(223,47,67)"
            ],
            [
             0.6274509803921569,
             "rgb(236,76,61)"
            ],
            [
             0.6901960784313725,
             "rgb(242,107,73)"
            ],
            [
             0.7529411764705882,
             "rgb(244,135,95)"
            ],
            [
             0.8156862745098039,
             "rgb(245,162,122)"
            ],
            [
             0.8784313725490196,
             "rgb(246,188,153)"
            ],
            [
             0.9411764705882353,
             "rgb(247,212,187)"
            ],
            [
             1,
             "rgb(250,234,220)"
            ]
           ],
           "sequentialminus": [
            [
             0,
             "rgb(2,4,25)"
            ],
            [
             0.06274509803921569,
             "rgb(24,15,41)"
            ],
            [
             0.12549019607843137,
             "rgb(47,23,57)"
            ],
            [
             0.18823529411764706,
             "rgb(71,28,72)"
            ],
            [
             0.25098039215686274,
             "rgb(97,30,82)"
            ],
            [
             0.3137254901960784,
             "rgb(123,30,89)"
            ],
            [
             0.3764705882352941,
             "rgb(150,27,91)"
            ],
            [
             0.4392156862745098,
             "rgb(177,22,88)"
            ],
            [
             0.5019607843137255,
             "rgb(203,26,79)"
            ],
            [
             0.5647058823529412,
             "rgb(223,47,67)"
            ],
            [
             0.6274509803921569,
             "rgb(236,76,61)"
            ],
            [
             0.6901960784313725,
             "rgb(242,107,73)"
            ],
            [
             0.7529411764705882,
             "rgb(244,135,95)"
            ],
            [
             0.8156862745098039,
             "rgb(245,162,122)"
            ],
            [
             0.8784313725490196,
             "rgb(246,188,153)"
            ],
            [
             0.9411764705882353,
             "rgb(247,212,187)"
            ],
            [
             1,
             "rgb(250,234,220)"
            ]
           ]
          },
          "colorway": [
           "rgb(76,114,176)",
           "rgb(221,132,82)",
           "rgb(85,168,104)",
           "rgb(196,78,82)",
           "rgb(129,114,179)",
           "rgb(147,120,96)",
           "rgb(218,139,195)",
           "rgb(140,140,140)",
           "rgb(204,185,116)",
           "rgb(100,181,205)"
          ],
          "font": {
           "color": "rgb(36,36,36)"
          },
          "geo": {
           "bgcolor": "white",
           "lakecolor": "white",
           "landcolor": "rgb(234,234,242)",
           "showlakes": true,
           "showland": true,
           "subunitcolor": "white"
          },
          "hoverlabel": {
           "align": "left"
          },
          "hovermode": "closest",
          "paper_bgcolor": "white",
          "plot_bgcolor": "rgb(234,234,242)",
          "polar": {
           "angularaxis": {
            "gridcolor": "white",
            "linecolor": "white",
            "showgrid": true,
            "ticks": ""
           },
           "bgcolor": "rgb(234,234,242)",
           "radialaxis": {
            "gridcolor": "white",
            "linecolor": "white",
            "showgrid": true,
            "ticks": ""
           }
          },
          "scene": {
           "xaxis": {
            "backgroundcolor": "rgb(234,234,242)",
            "gridcolor": "white",
            "gridwidth": 2,
            "linecolor": "white",
            "showbackground": true,
            "showgrid": true,
            "ticks": "",
            "zerolinecolor": "white"
           },
           "yaxis": {
            "backgroundcolor": "rgb(234,234,242)",
            "gridcolor": "white",
            "gridwidth": 2,
            "linecolor": "white",
            "showbackground": true,
            "showgrid": true,
            "ticks": "",
            "zerolinecolor": "white"
           },
           "zaxis": {
            "backgroundcolor": "rgb(234,234,242)",
            "gridcolor": "white",
            "gridwidth": 2,
            "linecolor": "white",
            "showbackground": true,
            "showgrid": true,
            "ticks": "",
            "zerolinecolor": "white"
           }
          },
          "shapedefaults": {
           "fillcolor": "rgb(67,103,167)",
           "line": {
            "width": 0
           },
           "opacity": 0.5
          },
          "ternary": {
           "aaxis": {
            "gridcolor": "white",
            "linecolor": "white",
            "showgrid": true,
            "ticks": ""
           },
           "baxis": {
            "gridcolor": "white",
            "linecolor": "white",
            "showgrid": true,
            "ticks": ""
           },
           "bgcolor": "rgb(234,234,242)",
           "caxis": {
            "gridcolor": "white",
            "linecolor": "white",
            "showgrid": true,
            "ticks": ""
           }
          },
          "xaxis": {
           "automargin": true,
           "gridcolor": "white",
           "linecolor": "white",
           "showgrid": true,
           "ticks": "",
           "title": {
            "standoff": 15
           },
           "zerolinecolor": "white"
          },
          "yaxis": {
           "automargin": true,
           "gridcolor": "white",
           "linecolor": "white",
           "showgrid": true,
           "ticks": "",
           "title": {
            "standoff": 15
           },
           "zerolinecolor": "white"
          }
         }
        },
        "title": {
         "text": "Tick Bars"
        },
        "xaxis": {
         "rangeslider": {
          "visible": true
         },
         "title": {
          "text": "Bar"
         }
        },
        "yaxis": {
         "title": {
          "text": "Price (USD)"
         }
        }
       }
      }
     },
     "metadata": {},
     "output_type": "display_data"
    }
   ],
   "source": [
    "fig = go.Figure(data=[go.Candlestick(\n",
    "    x=tick_bars['start_time'],\n",
    "    open=tick_bars['open'],\n",
    "    high=tick_bars['high'],\n",
    "    low=tick_bars['low'],\n",
    "    close=tick_bars['close'],\n",
    "    name='Tick Bars'\n",
    ")])\n",
    "\n",
    "fig.update_layout(\n",
    "    title=f'Tick Bars',\n",
    "    yaxis_title='Price (USD)',\n",
    "    xaxis_title='Bar',\n",
    "    xaxis_rangeslider_visible=True, \n",
    "    template='seaborn', # other options: plotly, plotly_white, plotly_dark, simple_white\n",
    "    showlegend=True,\n",
    ")"
   ]
  },
  {
   "cell_type": "markdown",
   "id": "d5e91059",
   "metadata": {},
   "source": [
    "## Time bars"
   ]
  },
  {
   "cell_type": "markdown",
   "id": "63432286",
   "metadata": {},
   "source": [
    "### Bar Chart"
   ]
  },
  {
   "cell_type": "code",
   "execution_count": 16,
   "id": "f69acfd7",
   "metadata": {},
   "outputs": [
    {
     "data": {
      "application/vnd.plotly.v1+json": {
       "config": {
        "plotlyServerURL": "https://plot.ly"
       },
       "data": [
        {
         "close": {
          "bdata": "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",
          "dtype": "f8"
         },
         "high": {
          "bdata": "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",
          "dtype": "f8"
         },
         "low": {
          "bdata": "AAAAAAAAWUDhehSuRwFZQB+F61G4/lhArkfhehT+WEA9CtejcP1YQDMzMzMzA1lAXI/C9Sj8WEDsUbgehftYQHsUrkfh+lhASOF6FK73WEA9CtejcO1YQI/C9Shc71hAXI/C9SjsWEA9CtejcO1YQJqZmZmZ6VhA7FG4HoXrWECamZmZmelYQD0K16Nw7VhArkfhehTuWEAfhetRuO5YQK5H4XoU7lhAexSuR+HqWEDXo3A9CudYQAAAAAAAAPh/hetRuB7lWEAUrkfheuRYQMP1KFyP8lhA16NwPQr3WEBSuB6F6/FYQNejcD0K91hAFK5H4Xr0WEAAAAAAAPBYQFK4HoXr8VhASOF6FK73WEApXI/C9fhYQNejcD0K91hArkfhehT+WEBSuB6F6/FYQNejcD0K91hAFK5H4Xr0WEAfhetRuP5YQOF6FK5HAVlAuB6F61EIWUAK16NwPQpZQOxRuB6FC1lAXI/C9SgMWUCkcD0K1xNZQDMzMzMzE1lAexSuR+EKWUAAAAAAABBZQHsUrkfhCllAhetRuB4FWUBmZmZmZgZZQNejcD0KB1lASOF6FK4HWUAK16NwPQpZQM3MzMzMDFlAmpmZmZkJWUDsUbgehQtZQAAAAAAAAPh/7FG4HoUbWUAK16NwPRpZQHE9CtejIFlAcT0K16MgWUCkcD0K1yNZQBSuR+F6JFlAMzMzMzMjWUDhehSuRyFZQBSuR+F6FFlA4XoUrkcRWUAfhetRuA5ZQD0K16NwDVlAXI/C9SgMWUCF61G4HhVZQAAAAAAAIFlApHA9CtcjWUCuR+F6FB5ZQK5H4XoUDllAAAAAAAAA+H8AAAAAAAD4f/YoXI/CBVlAAAAAAAAA+H/D9ShcjwJZQPYoXI/CBVlAFK5H4XoEWUDNzMzMzPxYQPYoXI/CBVlASOF6FK4HWUAzMzMzMwNZQBSuR+F6BFlAhetRuB4FWUD2KFyPwgVZQDMzMzMzA1lAMzMzMzMDWUBcj8L1KAxZQI/C9ShcD1lAAAAAAAAQWUBcj8L1KAxZQArXo3A9CllAexSuR+EKWUB7FK5H4QpZQEjhehSuB1lAAAAAAAAA+H+4HoXrUQhZQFK4HoXrEVlAhetRuB4VWUAAAAAAAAD4f8P1KFyPEllAj8L1KFwPWUDD9ShcjxJZQFyPwvUoHFlAH4XrUbgeWUCPwvUoXB9ZQHsUrkfhGllAhetRuB4VWUBmZmZmZhZZQClcj8L1GFlAXI/C9SgcWUBSuB6F6xFZQFK4HoXrEVlA16NwPQoXWUDXo3A9ChdZQOxRuB6FG1lAPQrXo3AdWUAfhetRuB5ZQNejcD0KJ1lAUrgeheshWUBSuB6F6yFZQClcj8L1KFlAhetRuB4lWUAAAAAAACBZQK5H4XoUHllAcT0K16MgWUDD9ShcjyJZQOxRuB6FG1lA16NwPQoXWUC4HoXrURhZQHE9CtejIFlArkfhehQeWUAAAAAAAAD4f3sUrkfhGllAuB6F61EYWUApXI/C9RhZQPYoXI/CFVlA9ihcj8IVWUBI4XoUrhdZQNejcD0KF1lAPQrXo3AdWUDXo3A9ChdZQOF6FK5HEVlAMzMzMzMTWUAzMzMzMxNZQMP1KFyPEllAw/UoXI8SWUAzMzMzMxNZQDMzMzMzE1lAmpmZmZkZWUA9CtejcB1ZQM3MzMzMHFlAexSuR+EaWUBcj8L1KBxZQAAAAAAAAPh/zczMzMwcWUBI4XoUridZQOF6FK5HMVlAAAAAAAAA+H8fhetRuC5ZQHE9CtejMFlA7FG4HoUrWUDXo3A9CjdZQNejcD0KN1lAAAAAAAAA+H/2KFyPwjVZQFK4HoXrMVlAAAAAAAAwWUBSuB6F6zFZQBSuR+F6NFlA4XoUrkcxWUAAAAAAAAD4fxSuR+F6NFlAj8L1KFw/WUAAAAAAAEBZQAAAAAAAQFlAcT0K16NAWUDD9Shcj0JZQOF6FK5HQVlAUrgehetBWUCF61G4HkVZQB+F61G4TllAUrgehetBWUBmZmZmZkZZQIXrUbgeRVlAj8L1KFw/WUBSuB6F60FZQFK4HoXrQVlAPQrXo3A9WUApXI/C9ThZQOxRuB6FO1lAAAAAAAAA+H8AAAAAAAD4f9ejcD0KN1lA16NwPQo3WUCPwvUoXD9ZQD0K16NwPVlAMzMzMzNDWUDNzMzMzDxZQK5H4XoUPllA4XoUrkdBWUAfhetRuD5ZQArXo3A9OllA16NwPQo3WUBSuB6F6zFZQNejcD0KN1lAAAAAAAAA+H+amZmZmTlZQOxRuB6FO1lAXI/C9Sg8WUBmZmZmZjZZQHsUrkfhOllACtejcD06WUBI4XoUrjdZQGZmZmZmNllAUrgehesxWUAAAAAAAAD4fwAAAAAAQFlAH4XrUbg+WUAfhetRuD5ZQB+F61G4PllAMzMzMzNDWUDhehSuR0FZQDMzMzMzQ1lAAAAAAAAA+H/2KFyPwkVZQD0K16NwPVlAmpmZmZk5WUApXI/C9ThZQFK4HoXrMVlAMzMzMzMzWUAAAAAAAAD4fzMzMzMzM1lAj8L1KFwvWUDD9ShcjzJZQIXrUbgeNVlAmpmZmZk5WUAfhetRuD5ZQAAAAAAAAPh/PQrXo3A9WUAzMzMzMzNZQBSuR+F6NFlAuB6F61E4WUDNzMzMzDxZQM3MzMzMPFlAMzMzMzMzWUBI4XoUridZQHsUrkfhKllAKVyPwvUoWUApXI/C9ShZQClcj8L1KFlAexSuR+EqWUAAAAAAAAD4f4/C9ShcL1lAAAAAAAAA+H+amZmZmSlZQLgehetRKFlAzczMzMwsWUBSuB6F6zFZQKRwPQrXM1lAFK5H4Xo0WUBcj8L1KCxZQJqZmZmZKVlA9ihcj8IlWUBmZmZmZiZZQAAAAAAAAPh/pHA9CtcjWUAK16NwPSpZQBSuR+F6JFlAhetRuB4lWUCF61G4HiVZQHsUrkfhKllAuB6F61EoWUBmZmZmZiZZQJqZmZmZKVlAj8L1KFwvWUApXI/C9ShZQD0K16NwHVlAPQrXo3AdWUAfhetRuB5ZQMP1KFyPIllA9ihcj8IlWUApXI/C9ShZQPYoXI/CJVlAFK5H4XokWUAzMzMzMyNZQAAAAAAAAPh/XI/C9SgcWUCuR+F6FB5ZQAAAAAAAAPh/j8L1KFwfWUAUrkfhehRZQAAAAAAAAPh/FK5H4XoUWUC4HoXrURhZQDMzMzMzE1lAZmZmZmYWWUDD9ShcjxJZQKRwPQrXE1lAH4XrUbgOWUCuR+F6FA5ZQDMzMzMzA1lAPQrXo3D9WEBSuB6F6wFZQD0K16NwDVlACtejcD0aWUBcj8L1KBxZQHsUrkfhGllAw/UoXI8iWUDD9ShcjyJZQDMzMzMzI1lAZmZmZmYmWUAzMzMzMyNZQDMzMzMzI1lAAAAAAAAA+H89CtejcB1ZQOF6FK5HIVlAAAAAAAAA+H97FK5H4RpZQNejcD0KF1lAuB6F61EYWUDD9ShcjxJZQLgehetRGFlAAAAAAAAA+H9mZmZmZhZZQArXo3A9GllAw/UoXI8iWUD2KFyPwiVZQK5H4XoUHllAMzMzMzMjWUCPwvUoXB9ZQOF6FK5HIVlACtejcD0qWUApXI/C9ShZQGZmZmZmJllAzczMzMwcWUApXI/C9RhZQFyPwvUoHFlA4XoUrkchWUAAAAAAAAD4f3sUrkfhGllAAAAAAAAA+H8pXI/C9RhZQFyPwvUoHFlAPQrXo3AdWUAfhetRuC5ZQJqZmZmZKVlAzczMzMwsWUAUrkfhejRZQOF6FK5HMVlAAAAAAAAA+H9xPQrXozBZQAAAAAAAMFlA16NwPQonWUBI4XoUridZQJqZmZmZKVlAAAAAAAAA+H/NzMzMzCxZQBSuR+F6JFlA4XoUrkchWUAzMzMzMyNZQFK4HoXrIVlA9ihcj8IlWUD2KFyPwiVZQEjhehSuJ1lASOF6FK4nWUBI4XoUridZQOxRuB6FK1lAAAAAAAAwWUDNzMzMzCxZQI/C9ShcL1lAMzMzMzMzWUAAAAAAADBZQBSuR+F6NFlAj8L1KFwvWUBSuB6F6zFZQFyPwvUoPFlA7FG4HoU7WUDsUbgehTtZQJqZmZmZOVlAuB6F61E4WUCuR+F6FD5ZQK5H4XoUPllA",
          "dtype": "f8"
         },
         "name": "Time Bars",
         "open": {
          "bdata": "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",
          "dtype": "f8"
         },
         "type": "candlestick",
         "x": {
          "bdata": "AAABAAIAAwAEAAUABgAHAAgACQAKAAsADAANAA4ADwAQABEAEgATABQAFQAWABcAGAAZABoAGwAcAB0AHgAfACAAIQAiACMAJAAlACYAJwAoACkAKgArACwALQAuAC8AMAAxADIAMwA0ADUANgA3ADgAOQA6ADsAPAA9AD4APwBAAEEAQgBDAEQARQBGAEcASABJAEoASwBMAE0ATgBPAFAAUQBSAFMAVABVAFYAVwBYAFkAWgBbAFwAXQBeAF8AYABhAGIAYwBkAGUAZgBnAGgAaQBqAGsAbABtAG4AbwBwAHEAcgBzAHQAdQB2AHcAeAB5AHoAewB8AH0AfgB/AIAAgQCCAIMAhACFAIYAhwCIAIkAigCLAIwAjQCOAI8AkACRAJIAkwCUAJUAlgCXAJgAmQCaAJsAnACdAJ4AnwCgAKEAogCjAKQApQCmAKcAqACpAKoAqwCsAK0ArgCvALAAsQCyALMAtAC1ALYAtwC4ALkAugC7ALwAvQC+AL8AwADBAMIAwwDEAMUAxgDHAMgAyQDKAMsAzADNAM4AzwDQANEA0gDTANQA1QDWANcA2ADZANoA2wDcAN0A3gDfAOAA4QDiAOMA5ADlAOYA5wDoAOkA6gDrAOwA7QDuAO8A8ADxAPIA8wD0APUA9gD3APgA+QD6APsA/AD9AP4A/wAAAQEBAgEDAQQBBQEGAQcBCAEJAQoBCwEMAQ0BDgEPARABEQESARMBFAEVARYBFwEYARkBGgEbARwBHQEeAR8BIAEhASIBIwEkASUBJgEnASgBKQEqASsBLAEtAS4BLwEwATEBMgEzATQBNQE2ATcBOAE5AToBOwE8AT0BPgE/AUABQQFCAUMBRAFFAUYBRwFIAUkBSgFLAUwBTQFOAU8BUAFRAVIBUwFUAVUBVgFXAVgBWQFaAVsBXAFdAV4BXwFgAWEBYgFjAWQBZQFmAWcBaAFpAWoBawFsAW0BbgFvAXABcQFyAXMBdAF1AXYBdwF4AXkBegF7AXwBfQF+AX8BgAGBAYIBgwGEAYUB",
          "dtype": "i2"
         }
        }
       ],
       "layout": {
        "showlegend": true,
        "template": {
         "data": {
          "bar": [
           {
            "error_x": {
             "color": "rgb(36,36,36)"
            },
            "error_y": {
             "color": "rgb(36,36,36)"
            },
            "marker": {
             "line": {
              "color": "rgb(234,234,242)",
              "width": 0.5
             },
             "pattern": {
              "fillmode": "overlay",
              "size": 10,
              "solidity": 0.2
             }
            },
            "type": "bar"
           }
          ],
          "barpolar": [
           {
            "marker": {
             "line": {
              "color": "rgb(234,234,242)",
              "width": 0.5
             },
             "pattern": {
              "fillmode": "overlay",
              "size": 10,
              "solidity": 0.2
             }
            },
            "type": "barpolar"
           }
          ],
          "carpet": [
           {
            "aaxis": {
             "endlinecolor": "rgb(36,36,36)",
             "gridcolor": "white",
             "linecolor": "white",
             "minorgridcolor": "white",
             "startlinecolor": "rgb(36,36,36)"
            },
            "baxis": {
             "endlinecolor": "rgb(36,36,36)",
             "gridcolor": "white",
             "linecolor": "white",
             "minorgridcolor": "white",
             "startlinecolor": "rgb(36,36,36)"
            },
            "type": "carpet"
           }
          ],
          "choropleth": [
           {
            "colorbar": {
             "outlinewidth": 0,
             "tickcolor": "rgb(36,36,36)",
             "ticklen": 8,
             "ticks": "outside",
             "tickwidth": 2
            },
            "type": "choropleth"
           }
          ],
          "contour": [
           {
            "colorbar": {
             "outlinewidth": 0,
             "tickcolor": "rgb(36,36,36)",
             "ticklen": 8,
             "ticks": "outside",
             "tickwidth": 2
            },
            "colorscale": [
             [
              0,
              "rgb(2,4,25)"
             ],
             [
              0.06274509803921569,
              "rgb(24,15,41)"
             ],
             [
              0.12549019607843137,
              "rgb(47,23,57)"
             ],
             [
              0.18823529411764706,
              "rgb(71,28,72)"
             ],
             [
              0.25098039215686274,
              "rgb(97,30,82)"
             ],
             [
              0.3137254901960784,
              "rgb(123,30,89)"
             ],
             [
              0.3764705882352941,
              "rgb(150,27,91)"
             ],
             [
              0.4392156862745098,
              "rgb(177,22,88)"
             ],
             [
              0.5019607843137255,
              "rgb(203,26,79)"
             ],
             [
              0.5647058823529412,
              "rgb(223,47,67)"
             ],
             [
              0.6274509803921569,
              "rgb(236,76,61)"
             ],
             [
              0.6901960784313725,
              "rgb(242,107,73)"
             ],
             [
              0.7529411764705882,
              "rgb(244,135,95)"
             ],
             [
              0.8156862745098039,
              "rgb(245,162,122)"
             ],
             [
              0.8784313725490196,
              "rgb(246,188,153)"
             ],
             [
              0.9411764705882353,
              "rgb(247,212,187)"
             ],
             [
              1,
              "rgb(250,234,220)"
             ]
            ],
            "type": "contour"
           }
          ],
          "contourcarpet": [
           {
            "colorbar": {
             "outlinewidth": 0,
             "tickcolor": "rgb(36,36,36)",
             "ticklen": 8,
             "ticks": "outside",
             "tickwidth": 2
            },
            "type": "contourcarpet"
           }
          ],
          "heatmap": [
           {
            "colorbar": {
             "outlinewidth": 0,
             "tickcolor": "rgb(36,36,36)",
             "ticklen": 8,
             "ticks": "outside",
             "tickwidth": 2
            },
            "colorscale": [
             [
              0,
              "rgb(2,4,25)"
             ],
             [
              0.06274509803921569,
              "rgb(24,15,41)"
             ],
             [
              0.12549019607843137,
              "rgb(47,23,57)"
             ],
             [
              0.18823529411764706,
              "rgb(71,28,72)"
             ],
             [
              0.25098039215686274,
              "rgb(97,30,82)"
             ],
             [
              0.3137254901960784,
              "rgb(123,30,89)"
             ],
             [
              0.3764705882352941,
              "rgb(150,27,91)"
             ],
             [
              0.4392156862745098,
              "rgb(177,22,88)"
             ],
             [
              0.5019607843137255,
              "rgb(203,26,79)"
             ],
             [
              0.5647058823529412,
              "rgb(223,47,67)"
             ],
             [
              0.6274509803921569,
              "rgb(236,76,61)"
             ],
             [
              0.6901960784313725,
              "rgb(242,107,73)"
             ],
             [
              0.7529411764705882,
              "rgb(244,135,95)"
             ],
             [
              0.8156862745098039,
              "rgb(245,162,122)"
             ],
             [
              0.8784313725490196,
              "rgb(246,188,153)"
             ],
             [
              0.9411764705882353,
              "rgb(247,212,187)"
             ],
             [
              1,
              "rgb(250,234,220)"
             ]
            ],
            "type": "heatmap"
           }
          ],
          "histogram": [
           {
            "marker": {
             "pattern": {
              "fillmode": "overlay",
              "size": 10,
              "solidity": 0.2
             }
            },
            "type": "histogram"
           }
          ],
          "histogram2d": [
           {
            "colorbar": {
             "outlinewidth": 0,
             "tickcolor": "rgb(36,36,36)",
             "ticklen": 8,
             "ticks": "outside",
             "tickwidth": 2
            },
            "colorscale": [
             [
              0,
              "rgb(2,4,25)"
             ],
             [
              0.06274509803921569,
              "rgb(24,15,41)"
             ],
             [
              0.12549019607843137,
              "rgb(47,23,57)"
             ],
             [
              0.18823529411764706,
              "rgb(71,28,72)"
             ],
             [
              0.25098039215686274,
              "rgb(97,30,82)"
             ],
             [
              0.3137254901960784,
              "rgb(123,30,89)"
             ],
             [
              0.3764705882352941,
              "rgb(150,27,91)"
             ],
             [
              0.4392156862745098,
              "rgb(177,22,88)"
             ],
             [
              0.5019607843137255,
              "rgb(203,26,79)"
             ],
             [
              0.5647058823529412,
              "rgb(223,47,67)"
             ],
             [
              0.6274509803921569,
              "rgb(236,76,61)"
             ],
             [
              0.6901960784313725,
              "rgb(242,107,73)"
             ],
             [
              0.7529411764705882,
              "rgb(244,135,95)"
             ],
             [
              0.8156862745098039,
              "rgb(245,162,122)"
             ],
             [
              0.8784313725490196,
              "rgb(246,188,153)"
             ],
             [
              0.9411764705882353,
              "rgb(247,212,187)"
             ],
             [
              1,
              "rgb(250,234,220)"
             ]
            ],
            "type": "histogram2d"
           }
          ],
          "histogram2dcontour": [
           {
            "colorbar": {
             "outlinewidth": 0,
             "tickcolor": "rgb(36,36,36)",
             "ticklen": 8,
             "ticks": "outside",
             "tickwidth": 2
            },
            "colorscale": [
             [
              0,
              "rgb(2,4,25)"
             ],
             [
              0.06274509803921569,
              "rgb(24,15,41)"
             ],
             [
              0.12549019607843137,
              "rgb(47,23,57)"
             ],
             [
              0.18823529411764706,
              "rgb(71,28,72)"
             ],
             [
              0.25098039215686274,
              "rgb(97,30,82)"
             ],
             [
              0.3137254901960784,
              "rgb(123,30,89)"
             ],
             [
              0.3764705882352941,
              "rgb(150,27,91)"
             ],
             [
              0.4392156862745098,
              "rgb(177,22,88)"
             ],
             [
              0.5019607843137255,
              "rgb(203,26,79)"
             ],
             [
              0.5647058823529412,
              "rgb(223,47,67)"
             ],
             [
              0.6274509803921569,
              "rgb(236,76,61)"
             ],
             [
              0.6901960784313725,
              "rgb(242,107,73)"
             ],
             [
              0.7529411764705882,
              "rgb(244,135,95)"
             ],
             [
              0.8156862745098039,
              "rgb(245,162,122)"
             ],
             [
              0.8784313725490196,
              "rgb(246,188,153)"
             ],
             [
              0.9411764705882353,
              "rgb(247,212,187)"
             ],
             [
              1,
              "rgb(250,234,220)"
             ]
            ],
            "type": "histogram2dcontour"
           }
          ],
          "mesh3d": [
           {
            "colorbar": {
             "outlinewidth": 0,
             "tickcolor": "rgb(36,36,36)",
             "ticklen": 8,
             "ticks": "outside",
             "tickwidth": 2
            },
            "type": "mesh3d"
           }
          ],
          "parcoords": [
           {
            "line": {
             "colorbar": {
              "outlinewidth": 0,
              "tickcolor": "rgb(36,36,36)",
              "ticklen": 8,
              "ticks": "outside",
              "tickwidth": 2
             }
            },
            "type": "parcoords"
           }
          ],
          "pie": [
           {
            "automargin": true,
            "type": "pie"
           }
          ],
          "scatter": [
           {
            "fillpattern": {
             "fillmode": "overlay",
             "size": 10,
             "solidity": 0.2
            },
            "type": "scatter"
           }
          ],
          "scatter3d": [
           {
            "line": {
             "colorbar": {
              "outlinewidth": 0,
              "tickcolor": "rgb(36,36,36)",
              "ticklen": 8,
              "ticks": "outside",
              "tickwidth": 2
             }
            },
            "marker": {
             "colorbar": {
              "outlinewidth": 0,
              "tickcolor": "rgb(36,36,36)",
              "ticklen": 8,
              "ticks": "outside",
              "tickwidth": 2
             }
            },
            "type": "scatter3d"
           }
          ],
          "scattercarpet": [
           {
            "marker": {
             "colorbar": {
              "outlinewidth": 0,
              "tickcolor": "rgb(36,36,36)",
              "ticklen": 8,
              "ticks": "outside",
              "tickwidth": 2
             }
            },
            "type": "scattercarpet"
           }
          ],
          "scattergeo": [
           {
            "marker": {
             "colorbar": {
              "outlinewidth": 0,
              "tickcolor": "rgb(36,36,36)",
              "ticklen": 8,
              "ticks": "outside",
              "tickwidth": 2
             }
            },
            "type": "scattergeo"
           }
          ],
          "scattergl": [
           {
            "marker": {
             "colorbar": {
              "outlinewidth": 0,
              "tickcolor": "rgb(36,36,36)",
              "ticklen": 8,
              "ticks": "outside",
              "tickwidth": 2
             }
            },
            "type": "scattergl"
           }
          ],
          "scattermap": [
           {
            "marker": {
             "colorbar": {
              "outlinewidth": 0,
              "tickcolor": "rgb(36,36,36)",
              "ticklen": 8,
              "ticks": "outside",
              "tickwidth": 2
             }
            },
            "type": "scattermap"
           }
          ],
          "scattermapbox": [
           {
            "marker": {
             "colorbar": {
              "outlinewidth": 0,
              "tickcolor": "rgb(36,36,36)",
              "ticklen": 8,
              "ticks": "outside",
              "tickwidth": 2
             }
            },
            "type": "scattermapbox"
           }
          ],
          "scatterpolar": [
           {
            "marker": {
             "colorbar": {
              "outlinewidth": 0,
              "tickcolor": "rgb(36,36,36)",
              "ticklen": 8,
              "ticks": "outside",
              "tickwidth": 2
             }
            },
            "type": "scatterpolar"
           }
          ],
          "scatterpolargl": [
           {
            "marker": {
             "colorbar": {
              "outlinewidth": 0,
              "tickcolor": "rgb(36,36,36)",
              "ticklen": 8,
              "ticks": "outside",
              "tickwidth": 2
             }
            },
            "type": "scatterpolargl"
           }
          ],
          "scatterternary": [
           {
            "marker": {
             "colorbar": {
              "outlinewidth": 0,
              "tickcolor": "rgb(36,36,36)",
              "ticklen": 8,
              "ticks": "outside",
              "tickwidth": 2
             }
            },
            "type": "scatterternary"
           }
          ],
          "surface": [
           {
            "colorbar": {
             "outlinewidth": 0,
             "tickcolor": "rgb(36,36,36)",
             "ticklen": 8,
             "ticks": "outside",
             "tickwidth": 2
            },
            "colorscale": [
             [
              0,
              "rgb(2,4,25)"
             ],
             [
              0.06274509803921569,
              "rgb(24,15,41)"
             ],
             [
              0.12549019607843137,
              "rgb(47,23,57)"
             ],
             [
              0.18823529411764706,
              "rgb(71,28,72)"
             ],
             [
              0.25098039215686274,
              "rgb(97,30,82)"
             ],
             [
              0.3137254901960784,
              "rgb(123,30,89)"
             ],
             [
              0.3764705882352941,
              "rgb(150,27,91)"
             ],
             [
              0.4392156862745098,
              "rgb(177,22,88)"
             ],
             [
              0.5019607843137255,
              "rgb(203,26,79)"
             ],
             [
              0.5647058823529412,
              "rgb(223,47,67)"
             ],
             [
              0.6274509803921569,
              "rgb(236,76,61)"
             ],
             [
              0.6901960784313725,
              "rgb(242,107,73)"
             ],
             [
              0.7529411764705882,
              "rgb(244,135,95)"
             ],
             [
              0.8156862745098039,
              "rgb(245,162,122)"
             ],
             [
              0.8784313725490196,
              "rgb(246,188,153)"
             ],
             [
              0.9411764705882353,
              "rgb(247,212,187)"
             ],
             [
              1,
              "rgb(250,234,220)"
             ]
            ],
            "type": "surface"
           }
          ],
          "table": [
           {
            "cells": {
             "fill": {
              "color": "rgb(231,231,240)"
             },
             "line": {
              "color": "white"
             }
            },
            "header": {
             "fill": {
              "color": "rgb(183,183,191)"
             },
             "line": {
              "color": "white"
             }
            },
            "type": "table"
           }
          ]
         },
         "layout": {
          "annotationdefaults": {
           "arrowcolor": "rgb(67,103,167)"
          },
          "autotypenumbers": "strict",
          "coloraxis": {
           "colorbar": {
            "outlinewidth": 0,
            "tickcolor": "rgb(36,36,36)",
            "ticklen": 8,
            "ticks": "outside",
            "tickwidth": 2
           }
          },
          "colorscale": {
           "sequential": [
            [
             0,
             "rgb(2,4,25)"
            ],
            [
             0.06274509803921569,
             "rgb(24,15,41)"
            ],
            [
             0.12549019607843137,
             "rgb(47,23,57)"
            ],
            [
             0.18823529411764706,
             "rgb(71,28,72)"
            ],
            [
             0.25098039215686274,
             "rgb(97,30,82)"
            ],
            [
             0.3137254901960784,
             "rgb(123,30,89)"
            ],
            [
             0.3764705882352941,
             "rgb(150,27,91)"
            ],
            [
             0.4392156862745098,
             "rgb(177,22,88)"
            ],
            [
             0.5019607843137255,
             "rgb(203,26,79)"
            ],
            [
             0.5647058823529412,
             "rgb(223,47,67)"
            ],
            [
             0.6274509803921569,
             "rgb(236,76,61)"
            ],
            [
             0.6901960784313725,
             "rgb(242,107,73)"
            ],
            [
             0.7529411764705882,
             "rgb(244,135,95)"
            ],
            [
             0.8156862745098039,
             "rgb(245,162,122)"
            ],
            [
             0.8784313725490196,
             "rgb(246,188,153)"
            ],
            [
             0.9411764705882353,
             "rgb(247,212,187)"
            ],
            [
             1,
             "rgb(250,234,220)"
            ]
           ],
           "sequentialminus": [
            [
             0,
             "rgb(2,4,25)"
            ],
            [
             0.06274509803921569,
             "rgb(24,15,41)"
            ],
            [
             0.12549019607843137,
             "rgb(47,23,57)"
            ],
            [
             0.18823529411764706,
             "rgb(71,28,72)"
            ],
            [
             0.25098039215686274,
             "rgb(97,30,82)"
            ],
            [
             0.3137254901960784,
             "rgb(123,30,89)"
            ],
            [
             0.3764705882352941,
             "rgb(150,27,91)"
            ],
            [
             0.4392156862745098,
             "rgb(177,22,88)"
            ],
            [
             0.5019607843137255,
             "rgb(203,26,79)"
            ],
            [
             0.5647058823529412,
             "rgb(223,47,67)"
            ],
            [
             0.6274509803921569,
             "rgb(236,76,61)"
            ],
            [
             0.6901960784313725,
             "rgb(242,107,73)"
            ],
            [
             0.7529411764705882,
             "rgb(244,135,95)"
            ],
            [
             0.8156862745098039,
             "rgb(245,162,122)"
            ],
            [
             0.8784313725490196,
             "rgb(246,188,153)"
            ],
            [
             0.9411764705882353,
             "rgb(247,212,187)"
            ],
            [
             1,
             "rgb(250,234,220)"
            ]
           ]
          },
          "colorway": [
           "rgb(76,114,176)",
           "rgb(221,132,82)",
           "rgb(85,168,104)",
           "rgb(196,78,82)",
           "rgb(129,114,179)",
           "rgb(147,120,96)",
           "rgb(218,139,195)",
           "rgb(140,140,140)",
           "rgb(204,185,116)",
           "rgb(100,181,205)"
          ],
          "font": {
           "color": "rgb(36,36,36)"
          },
          "geo": {
           "bgcolor": "white",
           "lakecolor": "white",
           "landcolor": "rgb(234,234,242)",
           "showlakes": true,
           "showland": true,
           "subunitcolor": "white"
          },
          "hoverlabel": {
           "align": "left"
          },
          "hovermode": "closest",
          "paper_bgcolor": "white",
          "plot_bgcolor": "rgb(234,234,242)",
          "polar": {
           "angularaxis": {
            "gridcolor": "white",
            "linecolor": "white",
            "showgrid": true,
            "ticks": ""
           },
           "bgcolor": "rgb(234,234,242)",
           "radialaxis": {
            "gridcolor": "white",
            "linecolor": "white",
            "showgrid": true,
            "ticks": ""
           }
          },
          "scene": {
           "xaxis": {
            "backgroundcolor": "rgb(234,234,242)",
            "gridcolor": "white",
            "gridwidth": 2,
            "linecolor": "white",
            "showbackground": true,
            "showgrid": true,
            "ticks": "",
            "zerolinecolor": "white"
           },
           "yaxis": {
            "backgroundcolor": "rgb(234,234,242)",
            "gridcolor": "white",
            "gridwidth": 2,
            "linecolor": "white",
            "showbackground": true,
            "showgrid": true,
            "ticks": "",
            "zerolinecolor": "white"
           },
           "zaxis": {
            "backgroundcolor": "rgb(234,234,242)",
            "gridcolor": "white",
            "gridwidth": 2,
            "linecolor": "white",
            "showbackground": true,
            "showgrid": true,
            "ticks": "",
            "zerolinecolor": "white"
           }
          },
          "shapedefaults": {
           "fillcolor": "rgb(67,103,167)",
           "line": {
            "width": 0
           },
           "opacity": 0.5
          },
          "ternary": {
           "aaxis": {
            "gridcolor": "white",
            "linecolor": "white",
            "showgrid": true,
            "ticks": ""
           },
           "baxis": {
            "gridcolor": "white",
            "linecolor": "white",
            "showgrid": true,
            "ticks": ""
           },
           "bgcolor": "rgb(234,234,242)",
           "caxis": {
            "gridcolor": "white",
            "linecolor": "white",
            "showgrid": true,
            "ticks": ""
           }
          },
          "xaxis": {
           "automargin": true,
           "gridcolor": "white",
           "linecolor": "white",
           "showgrid": true,
           "ticks": "",
           "title": {
            "standoff": 15
           },
           "zerolinecolor": "white"
          },
          "yaxis": {
           "automargin": true,
           "gridcolor": "white",
           "linecolor": "white",
           "showgrid": true,
           "ticks": "",
           "title": {
            "standoff": 15
           },
           "zerolinecolor": "white"
          }
         }
        },
        "title": {
         "text": "Time Bars"
        },
        "xaxis": {
         "rangeslider": {
          "visible": true
         },
         "title": {
          "text": "Bar"
         }
        },
        "yaxis": {
         "title": {
          "text": "Price (USD)"
         }
        }
       }
      }
     },
     "metadata": {},
     "output_type": "display_data"
    }
   ],
   "source": [
    "fig = go.Figure(data=[go.Candlestick(\n",
    "    x=time_bars.index,\n",
    "    open=time_bars['open'],\n",
    "    high=time_bars['high'],\n",
    "    low=time_bars['low'],\n",
    "    close=time_bars['close'],\n",
    "    name='Time Bars'\n",
    ")])\n",
    "\n",
    "fig.update_layout(\n",
    "    title=f'Time Bars',\n",
    "    yaxis_title='Price (USD)',\n",
    "    xaxis_title='Bar',\n",
    "    xaxis_rangeslider_visible=True, \n",
    "    template='seaborn', # other options: plotly, plotly_white, plotly_dark, simple_white\n",
    "    showlegend=True,\n",
    ")"
   ]
  },
  {
   "cell_type": "markdown",
   "id": "2a30e5f7",
   "metadata": {},
   "source": [
    "### Time Chart"
   ]
  },
  {
   "cell_type": "code",
   "execution_count": 17,
   "id": "d40945de",
   "metadata": {},
   "outputs": [
    {
     "data": {
      "application/vnd.plotly.v1+json": {
       "config": {
        "plotlyServerURL": "https://plot.ly"
       },
       "data": [
        {
         "close": {
          "bdata": "AAAAAAAAWUDhehSuRwFZQB+F61G4/lhArkfhehT+WEA9CtejcP1YQDMzMzMzA1lAXI/C9Sj8WEBcj8L1KPxYQHsUrkfh+lhASOF6FK73WEAzMzMzM/NYQI/C9Shc71hAXI/C9SjsWEA9CtejcO1YQJqZmZmZ6VhAPQrXo3DtWEDhehSuR/FYQD0K16Nw7VhAUrgehevxWEAfhetRuO5YQK5H4XoU7lhAexSuR+HqWEDXo3A9CudYQAAAAAAAAPh/hetRuB7lWEDsUbgehetYQKRwPQrX81hA16NwPQr3WEDXo3A9CvdYQNejcD0K91hAFK5H4Xr0WEAAAAAAAPBYQFK4HoXr8VhACtejcD36WEA9CtejcP1YQD0K16Nw/VhArkfhehT+WEBSuB6F6/FYQEjhehSu91hA16NwPQr3WEAfhetRuP5YQNejcD0KB1lA7FG4HoULWUDNzMzMzAxZQOxRuB6FC1lASOF6FK4XWUCkcD0K1xNZQDMzMzMzE1lAMzMzMzMTWUAAAAAAABBZQOxRuB6FC1lA16NwPQoHWUBmZmZmZgZZQNejcD0KB1lASOF6FK4HWUA9CtejcA1ZQM3MzMzMDFlAmpmZmZkJWUAzMzMzMxNZQAAAAAAAAPh/j8L1KFwfWUAfhetRuB5ZQHE9CtejIFlA16NwPQonWUD2KFyPwiVZQIXrUbgeJVlAMzMzMzMjWUDhehSuRyFZQLgehetRGFlA4XoUrkcRWUAfhetRuA5ZQFK4HoXrEVlAH4XrUbgOWUCPwvUoXB9ZQBSuR+F6JFlApHA9CtcjWUAAAAAAACBZQK5H4XoUDllAAAAAAAAA+H8AAAAAAAD4f/YoXI/CBVlAAAAAAAAA+H/D9ShcjwJZQPYoXI/CBVlAFK5H4XoEWUAUrkfhegRZQPYoXI/CBVlAXI/C9SgMWUDXo3A9CgdZQBSuR+F6BFlAZmZmZmYGWUD2KFyPwgVZQDMzMzMzA1lAhetRuB4FWUCPwvUoXA9ZQFK4HoXrEVlAAAAAAAAQWUAfhetRuA5ZQD0K16NwDVlAexSuR+EKWUBSuB6F6xFZQEjhehSuB1lAAAAAAAAA+H9xPQrXoxBZQEjhehSuF1lAhetRuB4VWUAAAAAAAAD4f8P1KFyPEllAj8L1KFwPWUB7FK5H4RpZQD0K16NwHVlAH4XrUbgeWUDD9ShcjyJZQFyPwvUoHFlAhetRuB4VWUBmZmZmZhZZQClcj8L1GFlAXI/C9SgcWUBSuB6F6xFZQFK4HoXrEVlA16NwPQoXWUBcj8L1KBxZQI/C9ShcH1lAAAAAAAAgWUAzMzMzMyNZQNejcD0KJ1lAUrgeheshWUBI4XoUridZQJqZmZmZKVlASOF6FK4nWUAAAAAAACBZQK5H4XoUHllA4XoUrkchWUDD9ShcjyJZQOxRuB6FG1lASOF6FK4XWUAfhetRuB5ZQIXrUbgeJVlArkfhehQeWUAAAAAAAAD4f1yPwvUoHFlA4XoUrkchWUApXI/C9RhZQEjhehSuF1lA9ihcj8IVWUApXI/C9RhZQOxRuB6FG1lAj8L1KFwfWUDXo3A9ChdZQIXrUbgeFVlAMzMzMzMTWUCkcD0K1xNZQMP1KFyPEllAw/UoXI8SWUAzMzMzMxNZQDMzMzMzE1lAmpmZmZkZWUA9CtejcB1ZQM3MzMzMHFlAexSuR+EaWUBcj8L1KBxZQAAAAAAAAPh/9ihcj8IlWUB7FK5H4SpZQDMzMzMzM1lAAAAAAAAA+H8fhetRuC5ZQBSuR+F6NFlAFK5H4Xo0WUCamZmZmTlZQArXo3A9OllAAAAAAAAA+H/2KFyPwjVZQDMzMzMzM1lAw/UoXI8yWUApXI/C9ThZQGZmZmZmNllACtejcD06WUAAAAAAAAD4fxSuR+F6NFlAw/UoXI9CWUAAAAAAAEBZQHE9CtejQFlAcT0K16NAWUDD9Shcj0JZQOF6FK5HQVlAhetRuB5FWUA9CtejcE1ZQB+F61G4TllASOF6FK5HWUBmZmZmZkZZQIXrUbgeRVlAj8L1KFw/WUBmZmZmZkZZQPYoXI/CRVlAPQrXo3A9WUDsUbgehTtZQOF6FK5HQVlAAAAAAAAA+H8AAAAAAAD4f9ejcD0KN1lA7FG4HoU7WUCPwvUoXD9ZQB+F61G4PllA16NwPQpHWUDNzMzMzDxZQFK4HoXrQVlA4XoUrkdBWUAfhetRuD5ZQFyPwvUoPFlA16NwPQo3WUAzMzMzMzNZQD0K16NwPVlAAAAAAAAA+H+PwvUoXD9ZQOxRuB6FO1lAzczMzMw8WUCamZmZmTlZQHsUrkfhOllAexSuR+E6WUBI4XoUrjdZQNejcD0KN1lAj8L1KFw/WUAAAAAAAAD4f+F6FK5HQVlAAAAAAABAWUAzMzMzM0NZQFK4HoXrQVlAMzMzMzNDWUDhehSuR0FZQDMzMzMzQ1lAAAAAAAAA+H8pXI/C9UhZQD0K16NwPVlAXI/C9Sg8WUApXI/C9ThZQMP1KFyPMllA16NwPQo3WUAAAAAAAAD4fzMzMzMzM1lAMzMzMzMzWUDD9ShcjzJZQIXrUbgeNVlAmpmZmZk5WUAfhetRuD5ZQAAAAAAAAPh/PQrXo3A9WUCF61G4HjVZQBSuR+F6NFlAj8L1KFw/WUDNzMzMzDxZQI/C9ShcP1lAMzMzMzMzWUAfhetRuC5ZQD0K16NwLVlAKVyPwvUoWUApXI/C9ShZQHsUrkfhKllAexSuR+EqWUAAAAAAAAD4f3E9CtejMFlAAAAAAAAA+H+amZmZmSlZQLgehetRKFlAMzMzMzMzWUAzMzMzMzNZQNejcD0KN1lASOF6FK43WUBcj8L1KCxZQJqZmZmZKVlA9ihcj8IlWUBmZmZmZiZZQAAAAAAAAPh/mpmZmZkpWUAK16NwPSpZQBSuR+F6JFlAhetRuB4lWUDXo3A9CidZQHsUrkfhKllAuB6F61EoWUDNzMzMzCxZQArXo3A9KllAj8L1KFwvWUApXI/C9ShZQI/C9ShcH1lAPQrXo3AdWUCPwvUoXB9ZQKRwPQrXI1lAXI/C9SgsWUApXI/C9ShZQPYoXI/CJVlAFK5H4XokWUAzMzMzMyNZQAAAAAAAAPh/XI/C9SgcWUAzMzMzMyNZQAAAAAAAAPh/j8L1KFwfWUBI4XoUrhdZQAAAAAAAAPh/exSuR+EaWUC4HoXrURhZQDMzMzMzE1lAZmZmZmYWWUDD9ShcjxJZQBSuR+F6FFlAj8L1KFwPWUCuR+F6FA5ZQDMzMzMzA1lArkfhehT+WEC4HoXrUQhZQArXo3A9GllAXI/C9SgcWUBcj8L1KBxZQMP1KFyPIllAw/UoXI8iWUDD9ShcjyJZQJqZmZmZKVlAZmZmZmYmWUAzMzMzMyNZQDMzMzMzI1lAAAAAAAAA+H9xPQrXoyBZQOF6FK5HIVlAAAAAAAAA+H/sUbgehRtZQNejcD0KF1lAuB6F61EYWUDD9ShcjxJZQD0K16NwHVlAAAAAAAAA+H9mZmZmZhZZQMP1KFyPIllAw/UoXI8iWUD2KFyPwiVZQAAAAAAAIFlAMzMzMzMjWUCPwvUoXB9ZQDMzMzMzI1lACtejcD0qWUApXI/C9ShZQGZmZmZmJllAzczMzMwcWUCuR+F6FB5ZQK5H4XoUHllA4XoUrkchWUAAAAAAAAD4f3sUrkfhGllAAAAAAAAA+H8fhetRuB5ZQFyPwvUoHFlAKVyPwvUoWUDhehSuRzFZQJqZmZmZKVlAMzMzMzMzWUAUrkfhejRZQOF6FK5HMVlAAAAAAAAA+H9xPQrXozBZQAAAAAAAMFlA16NwPQonWUCamZmZmSlZQM3MzMzMLFlAAAAAAAAA+H/NzMzMzCxZQBSuR+F6JFlASOF6FK4nWUAzMzMzMyNZQFK4HoXrIVlA9ihcj8IlWUApXI/C9ShZQClcj8L1KFlASOF6FK4nWUBI4XoUridZQFK4HoXrMVlAw/UoXI8yWUDNzMzMzCxZQI/C9ShcL1lAMzMzMzMzWUCF61G4HjVZQBSuR+F6NFlAj8L1KFwvWUDsUbgehTtZQFyPwvUoPFlA7FG4HoU7WUA9CtejcD1ZQJqZmZmZOVlA7FG4HoU7WUDD9Shcj0JZQBSuR+F6RFlA",
          "dtype": "f8"
         },
         "high": {
          "bdata": "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",
          "dtype": "f8"
         },
         "low": {
          "bdata": "AAAAAAAAWUDhehSuRwFZQB+F61G4/lhArkfhehT+WEA9CtejcP1YQDMzMzMzA1lAXI/C9Sj8WEDsUbgehftYQHsUrkfh+lhASOF6FK73WEA9CtejcO1YQI/C9Shc71hAXI/C9SjsWEA9CtejcO1YQJqZmZmZ6VhA7FG4HoXrWECamZmZmelYQD0K16Nw7VhArkfhehTuWEAfhetRuO5YQK5H4XoU7lhAexSuR+HqWEDXo3A9CudYQAAAAAAAAPh/hetRuB7lWEAUrkfheuRYQMP1KFyP8lhA16NwPQr3WEBSuB6F6/FYQNejcD0K91hAFK5H4Xr0WEAAAAAAAPBYQFK4HoXr8VhASOF6FK73WEApXI/C9fhYQNejcD0K91hArkfhehT+WEBSuB6F6/FYQNejcD0K91hAFK5H4Xr0WEAfhetRuP5YQOF6FK5HAVlAuB6F61EIWUAK16NwPQpZQOxRuB6FC1lAXI/C9SgMWUCkcD0K1xNZQDMzMzMzE1lAexSuR+EKWUAAAAAAABBZQHsUrkfhCllAhetRuB4FWUBmZmZmZgZZQNejcD0KB1lASOF6FK4HWUAK16NwPQpZQM3MzMzMDFlAmpmZmZkJWUDsUbgehQtZQAAAAAAAAPh/7FG4HoUbWUAK16NwPRpZQHE9CtejIFlAcT0K16MgWUCkcD0K1yNZQBSuR+F6JFlAMzMzMzMjWUDhehSuRyFZQBSuR+F6FFlA4XoUrkcRWUAfhetRuA5ZQD0K16NwDVlAXI/C9SgMWUCF61G4HhVZQAAAAAAAIFlApHA9CtcjWUCuR+F6FB5ZQK5H4XoUDllAAAAAAAAA+H8AAAAAAAD4f/YoXI/CBVlAAAAAAAAA+H/D9ShcjwJZQPYoXI/CBVlAFK5H4XoEWUDNzMzMzPxYQPYoXI/CBVlASOF6FK4HWUAzMzMzMwNZQBSuR+F6BFlAhetRuB4FWUD2KFyPwgVZQDMzMzMzA1lAMzMzMzMDWUBcj8L1KAxZQI/C9ShcD1lAAAAAAAAQWUBcj8L1KAxZQArXo3A9CllAexSuR+EKWUB7FK5H4QpZQEjhehSuB1lAAAAAAAAA+H+4HoXrUQhZQFK4HoXrEVlAhetRuB4VWUAAAAAAAAD4f8P1KFyPEllAj8L1KFwPWUDD9ShcjxJZQFyPwvUoHFlAH4XrUbgeWUCPwvUoXB9ZQHsUrkfhGllAhetRuB4VWUBmZmZmZhZZQClcj8L1GFlAXI/C9SgcWUBSuB6F6xFZQFK4HoXrEVlA16NwPQoXWUDXo3A9ChdZQOxRuB6FG1lAPQrXo3AdWUAfhetRuB5ZQNejcD0KJ1lAUrgeheshWUBSuB6F6yFZQClcj8L1KFlAhetRuB4lWUAAAAAAACBZQK5H4XoUHllAcT0K16MgWUDD9ShcjyJZQOxRuB6FG1lA16NwPQoXWUC4HoXrURhZQHE9CtejIFlArkfhehQeWUAAAAAAAAD4f3sUrkfhGllAuB6F61EYWUApXI/C9RhZQPYoXI/CFVlA9ihcj8IVWUBI4XoUrhdZQNejcD0KF1lAPQrXo3AdWUDXo3A9ChdZQOF6FK5HEVlAMzMzMzMTWUAzMzMzMxNZQMP1KFyPEllAw/UoXI8SWUAzMzMzMxNZQDMzMzMzE1lAmpmZmZkZWUA9CtejcB1ZQM3MzMzMHFlAexSuR+EaWUBcj8L1KBxZQAAAAAAAAPh/zczMzMwcWUBI4XoUridZQOF6FK5HMVlAAAAAAAAA+H8fhetRuC5ZQHE9CtejMFlA7FG4HoUrWUDXo3A9CjdZQNejcD0KN1lAAAAAAAAA+H/2KFyPwjVZQFK4HoXrMVlAAAAAAAAwWUBSuB6F6zFZQBSuR+F6NFlA4XoUrkcxWUAAAAAAAAD4fxSuR+F6NFlAj8L1KFw/WUAAAAAAAEBZQAAAAAAAQFlAcT0K16NAWUDD9Shcj0JZQOF6FK5HQVlAUrgehetBWUCF61G4HkVZQB+F61G4TllAUrgehetBWUBmZmZmZkZZQIXrUbgeRVlAj8L1KFw/WUBSuB6F60FZQFK4HoXrQVlAPQrXo3A9WUApXI/C9ThZQOxRuB6FO1lAAAAAAAAA+H8AAAAAAAD4f9ejcD0KN1lA16NwPQo3WUCPwvUoXD9ZQD0K16NwPVlAMzMzMzNDWUDNzMzMzDxZQK5H4XoUPllA4XoUrkdBWUAfhetRuD5ZQArXo3A9OllA16NwPQo3WUBSuB6F6zFZQNejcD0KN1lAAAAAAAAA+H+amZmZmTlZQOxRuB6FO1lAXI/C9Sg8WUBmZmZmZjZZQHsUrkfhOllACtejcD06WUBI4XoUrjdZQGZmZmZmNllAUrgehesxWUAAAAAAAAD4fwAAAAAAQFlAH4XrUbg+WUAfhetRuD5ZQB+F61G4PllAMzMzMzNDWUDhehSuR0FZQDMzMzMzQ1lAAAAAAAAA+H/2KFyPwkVZQD0K16NwPVlAmpmZmZk5WUApXI/C9ThZQFK4HoXrMVlAMzMzMzMzWUAAAAAAAAD4fzMzMzMzM1lAj8L1KFwvWUDD9ShcjzJZQIXrUbgeNVlAmpmZmZk5WUAfhetRuD5ZQAAAAAAAAPh/PQrXo3A9WUAzMzMzMzNZQBSuR+F6NFlAuB6F61E4WUDNzMzMzDxZQM3MzMzMPFlAMzMzMzMzWUBI4XoUridZQHsUrkfhKllAKVyPwvUoWUApXI/C9ShZQClcj8L1KFlAexSuR+EqWUAAAAAAAAD4f4/C9ShcL1lAAAAAAAAA+H+amZmZmSlZQLgehetRKFlAzczMzMwsWUBSuB6F6zFZQKRwPQrXM1lAFK5H4Xo0WUBcj8L1KCxZQJqZmZmZKVlA9ihcj8IlWUBmZmZmZiZZQAAAAAAAAPh/pHA9CtcjWUAK16NwPSpZQBSuR+F6JFlAhetRuB4lWUCF61G4HiVZQHsUrkfhKllAuB6F61EoWUBmZmZmZiZZQJqZmZmZKVlAj8L1KFwvWUApXI/C9ShZQD0K16NwHVlAPQrXo3AdWUAfhetRuB5ZQMP1KFyPIllA9ihcj8IlWUApXI/C9ShZQPYoXI/CJVlAFK5H4XokWUAzMzMzMyNZQAAAAAAAAPh/XI/C9SgcWUCuR+F6FB5ZQAAAAAAAAPh/j8L1KFwfWUAUrkfhehRZQAAAAAAAAPh/FK5H4XoUWUC4HoXrURhZQDMzMzMzE1lAZmZmZmYWWUDD9ShcjxJZQKRwPQrXE1lAH4XrUbgOWUCuR+F6FA5ZQDMzMzMzA1lAPQrXo3D9WEBSuB6F6wFZQD0K16NwDVlACtejcD0aWUBcj8L1KBxZQHsUrkfhGllAw/UoXI8iWUDD9ShcjyJZQDMzMzMzI1lAZmZmZmYmWUAzMzMzMyNZQDMzMzMzI1lAAAAAAAAA+H89CtejcB1ZQOF6FK5HIVlAAAAAAAAA+H97FK5H4RpZQNejcD0KF1lAuB6F61EYWUDD9ShcjxJZQLgehetRGFlAAAAAAAAA+H9mZmZmZhZZQArXo3A9GllAw/UoXI8iWUD2KFyPwiVZQK5H4XoUHllAMzMzMzMjWUCPwvUoXB9ZQOF6FK5HIVlACtejcD0qWUApXI/C9ShZQGZmZmZmJllAzczMzMwcWUApXI/C9RhZQFyPwvUoHFlA4XoUrkchWUAAAAAAAAD4f3sUrkfhGllAAAAAAAAA+H8pXI/C9RhZQFyPwvUoHFlAPQrXo3AdWUAfhetRuC5ZQJqZmZmZKVlAzczMzMwsWUAUrkfhejRZQOF6FK5HMVlAAAAAAAAA+H9xPQrXozBZQAAAAAAAMFlA16NwPQonWUBI4XoUridZQJqZmZmZKVlAAAAAAAAA+H/NzMzMzCxZQBSuR+F6JFlA4XoUrkchWUAzMzMzMyNZQFK4HoXrIVlA9ihcj8IlWUD2KFyPwiVZQEjhehSuJ1lASOF6FK4nWUBI4XoUridZQOxRuB6FK1lAAAAAAAAwWUDNzMzMzCxZQI/C9ShcL1lAMzMzMzMzWUAAAAAAADBZQBSuR+F6NFlAj8L1KFwvWUBSuB6F6zFZQFyPwvUoPFlA7FG4HoU7WUDsUbgehTtZQJqZmZmZOVlAuB6F61E4WUCuR+F6FD5ZQK5H4XoUPllA",
          "dtype": "f8"
         },
         "name": "Time Bars",
         "open": {
          "bdata": "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",
          "dtype": "f8"
         },
         "type": "candlestick",
         "x": [
          "2025-07-14T09:30:00.000000000",
          "2025-07-14T09:31:00.000000000",
          "2025-07-14T09:32:00.000000000",
          "2025-07-14T09:33:00.000000000",
          "2025-07-14T09:34:00.000000000",
          "2025-07-14T09:35:00.000000000",
          "2025-07-14T09:36:00.000000000",
          "2025-07-14T09:37:00.000000000",
          "2025-07-14T09:38:00.000000000",
          "2025-07-14T09:39:00.000000000",
          "2025-07-14T09:40:00.000000000",
          "2025-07-14T09:41:00.000000000",
          "2025-07-14T09:42:00.000000000",
          "2025-07-14T09:43:00.000000000",
          "2025-07-14T09:44:00.000000000",
          "2025-07-14T09:45:00.000000000",
          "2025-07-14T09:46:00.000000000",
          "2025-07-14T09:47:00.000000000",
          "2025-07-14T09:48:00.000000000",
          "2025-07-14T09:49:00.000000000",
          "2025-07-14T09:50:00.000000000",
          "2025-07-14T09:51:00.000000000",
          "2025-07-14T09:52:00.000000000",
          "2025-07-14T09:53:00.000000000",
          "2025-07-14T09:54:00.000000000",
          "2025-07-14T09:55:00.000000000",
          "2025-07-14T09:56:00.000000000",
          "2025-07-14T09:57:00.000000000",
          "2025-07-14T09:58:00.000000000",
          "2025-07-14T09:59:00.000000000",
          "2025-07-14T10:00:00.000000000",
          "2025-07-14T10:01:00.000000000",
          "2025-07-14T10:02:00.000000000",
          "2025-07-14T10:03:00.000000000",
          "2025-07-14T10:04:00.000000000",
          "2025-07-14T10:05:00.000000000",
          "2025-07-14T10:06:00.000000000",
          "2025-07-14T10:07:00.000000000",
          "2025-07-14T10:08:00.000000000",
          "2025-07-14T10:09:00.000000000",
          "2025-07-14T10:10:00.000000000",
          "2025-07-14T10:11:00.000000000",
          "2025-07-14T10:12:00.000000000",
          "2025-07-14T10:13:00.000000000",
          "2025-07-14T10:14:00.000000000",
          "2025-07-14T10:15:00.000000000",
          "2025-07-14T10:16:00.000000000",
          "2025-07-14T10:17:00.000000000",
          "2025-07-14T10:18:00.000000000",
          "2025-07-14T10:19:00.000000000",
          "2025-07-14T10:20:00.000000000",
          "2025-07-14T10:21:00.000000000",
          "2025-07-14T10:22:00.000000000",
          "2025-07-14T10:23:00.000000000",
          "2025-07-14T10:24:00.000000000",
          "2025-07-14T10:25:00.000000000",
          "2025-07-14T10:26:00.000000000",
          "2025-07-14T10:27:00.000000000",
          "2025-07-14T10:28:00.000000000",
          "2025-07-14T10:29:00.000000000",
          "2025-07-14T10:30:00.000000000",
          "2025-07-14T10:31:00.000000000",
          "2025-07-14T10:32:00.000000000",
          "2025-07-14T10:33:00.000000000",
          "2025-07-14T10:34:00.000000000",
          "2025-07-14T10:35:00.000000000",
          "2025-07-14T10:36:00.000000000",
          "2025-07-14T10:37:00.000000000",
          "2025-07-14T10:38:00.000000000",
          "2025-07-14T10:39:00.000000000",
          "2025-07-14T10:40:00.000000000",
          "2025-07-14T10:41:00.000000000",
          "2025-07-14T10:42:00.000000000",
          "2025-07-14T10:43:00.000000000",
          "2025-07-14T10:44:00.000000000",
          "2025-07-14T10:45:00.000000000",
          "2025-07-14T10:46:00.000000000",
          "2025-07-14T10:47:00.000000000",
          "2025-07-14T10:48:00.000000000",
          "2025-07-14T10:49:00.000000000",
          "2025-07-14T10:50:00.000000000",
          "2025-07-14T10:51:00.000000000",
          "2025-07-14T10:52:00.000000000",
          "2025-07-14T10:53:00.000000000",
          "2025-07-14T10:54:00.000000000",
          "2025-07-14T10:55:00.000000000",
          "2025-07-14T10:56:00.000000000",
          "2025-07-14T10:57:00.000000000",
          "2025-07-14T10:58:00.000000000",
          "2025-07-14T10:59:00.000000000",
          "2025-07-14T11:00:00.000000000",
          "2025-07-14T11:01:00.000000000",
          "2025-07-14T11:02:00.000000000",
          "2025-07-14T11:03:00.000000000",
          "2025-07-14T11:04:00.000000000",
          "2025-07-14T11:05:00.000000000",
          "2025-07-14T11:06:00.000000000",
          "2025-07-14T11:07:00.000000000",
          "2025-07-14T11:08:00.000000000",
          "2025-07-14T11:09:00.000000000",
          "2025-07-14T11:10:00.000000000",
          "2025-07-14T11:11:00.000000000",
          "2025-07-14T11:12:00.000000000",
          "2025-07-14T11:13:00.000000000",
          "2025-07-14T11:14:00.000000000",
          "2025-07-14T11:15:00.000000000",
          "2025-07-14T11:16:00.000000000",
          "2025-07-14T11:17:00.000000000",
          "2025-07-14T11:18:00.000000000",
          "2025-07-14T11:19:00.000000000",
          "2025-07-14T11:20:00.000000000",
          "2025-07-14T11:21:00.000000000",
          "2025-07-14T11:22:00.000000000",
          "2025-07-14T11:23:00.000000000",
          "2025-07-14T11:24:00.000000000",
          "2025-07-14T11:25:00.000000000",
          "2025-07-14T11:26:00.000000000",
          "2025-07-14T11:27:00.000000000",
          "2025-07-14T11:28:00.000000000",
          "2025-07-14T11:29:00.000000000",
          "2025-07-14T11:30:00.000000000",
          "2025-07-14T11:31:00.000000000",
          "2025-07-14T11:32:00.000000000",
          "2025-07-14T11:33:00.000000000",
          "2025-07-14T11:34:00.000000000",
          "2025-07-14T11:35:00.000000000",
          "2025-07-14T11:36:00.000000000",
          "2025-07-14T11:37:00.000000000",
          "2025-07-14T11:38:00.000000000",
          "2025-07-14T11:39:00.000000000",
          "2025-07-14T11:40:00.000000000",
          "2025-07-14T11:41:00.000000000",
          "2025-07-14T11:42:00.000000000",
          "2025-07-14T11:43:00.000000000",
          "2025-07-14T11:44:00.000000000",
          "2025-07-14T11:45:00.000000000",
          "2025-07-14T11:46:00.000000000",
          "2025-07-14T11:47:00.000000000",
          "2025-07-14T11:48:00.000000000",
          "2025-07-14T11:49:00.000000000",
          "2025-07-14T11:50:00.000000000",
          "2025-07-14T11:51:00.000000000",
          "2025-07-14T11:52:00.000000000",
          "2025-07-14T11:53:00.000000000",
          "2025-07-14T11:54:00.000000000",
          "2025-07-14T11:55:00.000000000",
          "2025-07-14T11:56:00.000000000",
          "2025-07-14T11:57:00.000000000",
          "2025-07-14T11:58:00.000000000",
          "2025-07-14T11:59:00.000000000",
          "2025-07-14T12:00:00.000000000",
          "2025-07-14T12:01:00.000000000",
          "2025-07-14T12:02:00.000000000",
          "2025-07-14T12:03:00.000000000",
          "2025-07-14T12:04:00.000000000",
          "2025-07-14T12:05:00.000000000",
          "2025-07-14T12:06:00.000000000",
          "2025-07-14T12:07:00.000000000",
          "2025-07-14T12:08:00.000000000",
          "2025-07-14T12:09:00.000000000",
          "2025-07-14T12:10:00.000000000",
          "2025-07-14T12:11:00.000000000",
          "2025-07-14T12:12:00.000000000",
          "2025-07-14T12:13:00.000000000",
          "2025-07-14T12:14:00.000000000",
          "2025-07-14T12:15:00.000000000",
          "2025-07-14T12:16:00.000000000",
          "2025-07-14T12:17:00.000000000",
          "2025-07-14T12:18:00.000000000",
          "2025-07-14T12:19:00.000000000",
          "2025-07-14T12:20:00.000000000",
          "2025-07-14T12:21:00.000000000",
          "2025-07-14T12:22:00.000000000",
          "2025-07-14T12:23:00.000000000",
          "2025-07-14T12:24:00.000000000",
          "2025-07-14T12:25:00.000000000",
          "2025-07-14T12:26:00.000000000",
          "2025-07-14T12:27:00.000000000",
          "2025-07-14T12:28:00.000000000",
          "2025-07-14T12:29:00.000000000",
          "2025-07-14T12:30:00.000000000",
          "2025-07-14T12:31:00.000000000",
          "2025-07-14T12:32:00.000000000",
          "2025-07-14T12:33:00.000000000",
          "2025-07-14T12:34:00.000000000",
          "2025-07-14T12:35:00.000000000",
          "2025-07-14T12:36:00.000000000",
          "2025-07-14T12:37:00.000000000",
          "2025-07-14T12:38:00.000000000",
          "2025-07-14T12:39:00.000000000",
          "2025-07-14T12:40:00.000000000",
          "2025-07-14T12:41:00.000000000",
          "2025-07-14T12:42:00.000000000",
          "2025-07-14T12:43:00.000000000",
          "2025-07-14T12:44:00.000000000",
          "2025-07-14T12:45:00.000000000",
          "2025-07-14T12:46:00.000000000",
          "2025-07-14T12:47:00.000000000",
          "2025-07-14T12:48:00.000000000",
          "2025-07-14T12:49:00.000000000",
          "2025-07-14T12:50:00.000000000",
          "2025-07-14T12:51:00.000000000",
          "2025-07-14T12:52:00.000000000",
          "2025-07-14T12:53:00.000000000",
          "2025-07-14T12:54:00.000000000",
          "2025-07-14T12:55:00.000000000",
          "2025-07-14T12:56:00.000000000",
          "2025-07-14T12:57:00.000000000",
          "2025-07-14T12:58:00.000000000",
          "2025-07-14T12:59:00.000000000",
          "2025-07-14T13:00:00.000000000",
          "2025-07-14T13:01:00.000000000",
          "2025-07-14T13:02:00.000000000",
          "2025-07-14T13:03:00.000000000",
          "2025-07-14T13:04:00.000000000",
          "2025-07-14T13:05:00.000000000",
          "2025-07-14T13:06:00.000000000",
          "2025-07-14T13:07:00.000000000",
          "2025-07-14T13:08:00.000000000",
          "2025-07-14T13:09:00.000000000",
          "2025-07-14T13:10:00.000000000",
          "2025-07-14T13:11:00.000000000",
          "2025-07-14T13:12:00.000000000",
          "2025-07-14T13:13:00.000000000",
          "2025-07-14T13:14:00.000000000",
          "2025-07-14T13:15:00.000000000",
          "2025-07-14T13:16:00.000000000",
          "2025-07-14T13:17:00.000000000",
          "2025-07-14T13:18:00.000000000",
          "2025-07-14T13:19:00.000000000",
          "2025-07-14T13:20:00.000000000",
          "2025-07-14T13:21:00.000000000",
          "2025-07-14T13:22:00.000000000",
          "2025-07-14T13:23:00.000000000",
          "2025-07-14T13:24:00.000000000",
          "2025-07-14T13:25:00.000000000",
          "2025-07-14T13:26:00.000000000",
          "2025-07-14T13:27:00.000000000",
          "2025-07-14T13:28:00.000000000",
          "2025-07-14T13:29:00.000000000",
          "2025-07-14T13:30:00.000000000",
          "2025-07-14T13:31:00.000000000",
          "2025-07-14T13:32:00.000000000",
          "2025-07-14T13:33:00.000000000",
          "2025-07-14T13:34:00.000000000",
          "2025-07-14T13:35:00.000000000",
          "2025-07-14T13:36:00.000000000",
          "2025-07-14T13:37:00.000000000",
          "2025-07-14T13:38:00.000000000",
          "2025-07-14T13:39:00.000000000",
          "2025-07-14T13:40:00.000000000",
          "2025-07-14T13:41:00.000000000",
          "2025-07-14T13:42:00.000000000",
          "2025-07-14T13:43:00.000000000",
          "2025-07-14T13:44:00.000000000",
          "2025-07-14T13:45:00.000000000",
          "2025-07-14T13:46:00.000000000",
          "2025-07-14T13:47:00.000000000",
          "2025-07-14T13:48:00.000000000",
          "2025-07-14T13:49:00.000000000",
          "2025-07-14T13:50:00.000000000",
          "2025-07-14T13:51:00.000000000",
          "2025-07-14T13:52:00.000000000",
          "2025-07-14T13:53:00.000000000",
          "2025-07-14T13:54:00.000000000",
          "2025-07-14T13:55:00.000000000",
          "2025-07-14T13:56:00.000000000",
          "2025-07-14T13:57:00.000000000",
          "2025-07-14T13:58:00.000000000",
          "2025-07-14T13:59:00.000000000",
          "2025-07-14T14:00:00.000000000",
          "2025-07-14T14:01:00.000000000",
          "2025-07-14T14:02:00.000000000",
          "2025-07-14T14:03:00.000000000",
          "2025-07-14T14:04:00.000000000",
          "2025-07-14T14:05:00.000000000",
          "2025-07-14T14:06:00.000000000",
          "2025-07-14T14:07:00.000000000",
          "2025-07-14T14:08:00.000000000",
          "2025-07-14T14:09:00.000000000",
          "2025-07-14T14:10:00.000000000",
          "2025-07-14T14:11:00.000000000",
          "2025-07-14T14:12:00.000000000",
          "2025-07-14T14:13:00.000000000",
          "2025-07-14T14:14:00.000000000",
          "2025-07-14T14:15:00.000000000",
          "2025-07-14T14:16:00.000000000",
          "2025-07-14T14:17:00.000000000",
          "2025-07-14T14:18:00.000000000",
          "2025-07-14T14:19:00.000000000",
          "2025-07-14T14:20:00.000000000",
          "2025-07-14T14:21:00.000000000",
          "2025-07-14T14:22:00.000000000",
          "2025-07-14T14:23:00.000000000",
          "2025-07-14T14:24:00.000000000",
          "2025-07-14T14:25:00.000000000",
          "2025-07-14T14:26:00.000000000",
          "2025-07-14T14:27:00.000000000",
          "2025-07-14T14:28:00.000000000",
          "2025-07-14T14:29:00.000000000",
          "2025-07-14T14:30:00.000000000",
          "2025-07-14T14:31:00.000000000",
          "2025-07-14T14:32:00.000000000",
          "2025-07-14T14:33:00.000000000",
          "2025-07-14T14:34:00.000000000",
          "2025-07-14T14:35:00.000000000",
          "2025-07-14T14:36:00.000000000",
          "2025-07-14T14:37:00.000000000",
          "2025-07-14T14:38:00.000000000",
          "2025-07-14T14:39:00.000000000",
          "2025-07-14T14:40:00.000000000",
          "2025-07-14T14:41:00.000000000",
          "2025-07-14T14:42:00.000000000",
          "2025-07-14T14:43:00.000000000",
          "2025-07-14T14:44:00.000000000",
          "2025-07-14T14:45:00.000000000",
          "2025-07-14T14:46:00.000000000",
          "2025-07-14T14:47:00.000000000",
          "2025-07-14T14:48:00.000000000",
          "2025-07-14T14:49:00.000000000",
          "2025-07-14T14:50:00.000000000",
          "2025-07-14T14:51:00.000000000",
          "2025-07-14T14:52:00.000000000",
          "2025-07-14T14:53:00.000000000",
          "2025-07-14T14:54:00.000000000",
          "2025-07-14T14:55:00.000000000",
          "2025-07-14T14:56:00.000000000",
          "2025-07-14T14:57:00.000000000",
          "2025-07-14T14:58:00.000000000",
          "2025-07-14T14:59:00.000000000",
          "2025-07-14T15:00:00.000000000",
          "2025-07-14T15:01:00.000000000",
          "2025-07-14T15:02:00.000000000",
          "2025-07-14T15:03:00.000000000",
          "2025-07-14T15:04:00.000000000",
          "2025-07-14T15:05:00.000000000",
          "2025-07-14T15:06:00.000000000",
          "2025-07-14T15:07:00.000000000",
          "2025-07-14T15:08:00.000000000",
          "2025-07-14T15:09:00.000000000",
          "2025-07-14T15:10:00.000000000",
          "2025-07-14T15:11:00.000000000",
          "2025-07-14T15:12:00.000000000",
          "2025-07-14T15:13:00.000000000",
          "2025-07-14T15:14:00.000000000",
          "2025-07-14T15:15:00.000000000",
          "2025-07-14T15:16:00.000000000",
          "2025-07-14T15:17:00.000000000",
          "2025-07-14T15:18:00.000000000",
          "2025-07-14T15:19:00.000000000",
          "2025-07-14T15:20:00.000000000",
          "2025-07-14T15:21:00.000000000",
          "2025-07-14T15:22:00.000000000",
          "2025-07-14T15:23:00.000000000",
          "2025-07-14T15:24:00.000000000",
          "2025-07-14T15:25:00.000000000",
          "2025-07-14T15:26:00.000000000",
          "2025-07-14T15:27:00.000000000",
          "2025-07-14T15:28:00.000000000",
          "2025-07-14T15:29:00.000000000",
          "2025-07-14T15:30:00.000000000",
          "2025-07-14T15:31:00.000000000",
          "2025-07-14T15:32:00.000000000",
          "2025-07-14T15:33:00.000000000",
          "2025-07-14T15:34:00.000000000",
          "2025-07-14T15:35:00.000000000",
          "2025-07-14T15:36:00.000000000",
          "2025-07-14T15:37:00.000000000",
          "2025-07-14T15:38:00.000000000",
          "2025-07-14T15:39:00.000000000",
          "2025-07-14T15:40:00.000000000",
          "2025-07-14T15:41:00.000000000",
          "2025-07-14T15:42:00.000000000",
          "2025-07-14T15:43:00.000000000",
          "2025-07-14T15:44:00.000000000",
          "2025-07-14T15:45:00.000000000",
          "2025-07-14T15:46:00.000000000",
          "2025-07-14T15:47:00.000000000",
          "2025-07-14T15:48:00.000000000",
          "2025-07-14T15:49:00.000000000",
          "2025-07-14T15:50:00.000000000",
          "2025-07-14T15:51:00.000000000",
          "2025-07-14T15:52:00.000000000",
          "2025-07-14T15:53:00.000000000",
          "2025-07-14T15:54:00.000000000",
          "2025-07-14T15:55:00.000000000",
          "2025-07-14T15:56:00.000000000",
          "2025-07-14T15:57:00.000000000",
          "2025-07-14T15:58:00.000000000",
          "2025-07-14T15:59:00.000000000"
         ]
        }
       ],
       "layout": {
        "showlegend": true,
        "template": {
         "data": {
          "bar": [
           {
            "error_x": {
             "color": "rgb(36,36,36)"
            },
            "error_y": {
             "color": "rgb(36,36,36)"
            },
            "marker": {
             "line": {
              "color": "rgb(234,234,242)",
              "width": 0.5
             },
             "pattern": {
              "fillmode": "overlay",
              "size": 10,
              "solidity": 0.2
             }
            },
            "type": "bar"
           }
          ],
          "barpolar": [
           {
            "marker": {
             "line": {
              "color": "rgb(234,234,242)",
              "width": 0.5
             },
             "pattern": {
              "fillmode": "overlay",
              "size": 10,
              "solidity": 0.2
             }
            },
            "type": "barpolar"
           }
          ],
          "carpet": [
           {
            "aaxis": {
             "endlinecolor": "rgb(36,36,36)",
             "gridcolor": "white",
             "linecolor": "white",
             "minorgridcolor": "white",
             "startlinecolor": "rgb(36,36,36)"
            },
            "baxis": {
             "endlinecolor": "rgb(36,36,36)",
             "gridcolor": "white",
             "linecolor": "white",
             "minorgridcolor": "white",
             "startlinecolor": "rgb(36,36,36)"
            },
            "type": "carpet"
           }
          ],
          "choropleth": [
           {
            "colorbar": {
             "outlinewidth": 0,
             "tickcolor": "rgb(36,36,36)",
             "ticklen": 8,
             "ticks": "outside",
             "tickwidth": 2
            },
            "type": "choropleth"
           }
          ],
          "contour": [
           {
            "colorbar": {
             "outlinewidth": 0,
             "tickcolor": "rgb(36,36,36)",
             "ticklen": 8,
             "ticks": "outside",
             "tickwidth": 2
            },
            "colorscale": [
             [
              0,
              "rgb(2,4,25)"
             ],
             [
              0.06274509803921569,
              "rgb(24,15,41)"
             ],
             [
              0.12549019607843137,
              "rgb(47,23,57)"
             ],
             [
              0.18823529411764706,
              "rgb(71,28,72)"
             ],
             [
              0.25098039215686274,
              "rgb(97,30,82)"
             ],
             [
              0.3137254901960784,
              "rgb(123,30,89)"
             ],
             [
              0.3764705882352941,
              "rgb(150,27,91)"
             ],
             [
              0.4392156862745098,
              "rgb(177,22,88)"
             ],
             [
              0.5019607843137255,
              "rgb(203,26,79)"
             ],
             [
              0.5647058823529412,
              "rgb(223,47,67)"
             ],
             [
              0.6274509803921569,
              "rgb(236,76,61)"
             ],
             [
              0.6901960784313725,
              "rgb(242,107,73)"
             ],
             [
              0.7529411764705882,
              "rgb(244,135,95)"
             ],
             [
              0.8156862745098039,
              "rgb(245,162,122)"
             ],
             [
              0.8784313725490196,
              "rgb(246,188,153)"
             ],
             [
              0.9411764705882353,
              "rgb(247,212,187)"
             ],
             [
              1,
              "rgb(250,234,220)"
             ]
            ],
            "type": "contour"
           }
          ],
          "contourcarpet": [
           {
            "colorbar": {
             "outlinewidth": 0,
             "tickcolor": "rgb(36,36,36)",
             "ticklen": 8,
             "ticks": "outside",
             "tickwidth": 2
            },
            "type": "contourcarpet"
           }
          ],
          "heatmap": [
           {
            "colorbar": {
             "outlinewidth": 0,
             "tickcolor": "rgb(36,36,36)",
             "ticklen": 8,
             "ticks": "outside",
             "tickwidth": 2
            },
            "colorscale": [
             [
              0,
              "rgb(2,4,25)"
             ],
             [
              0.06274509803921569,
              "rgb(24,15,41)"
             ],
             [
              0.12549019607843137,
              "rgb(47,23,57)"
             ],
             [
              0.18823529411764706,
              "rgb(71,28,72)"
             ],
             [
              0.25098039215686274,
              "rgb(97,30,82)"
             ],
             [
              0.3137254901960784,
              "rgb(123,30,89)"
             ],
             [
              0.3764705882352941,
              "rgb(150,27,91)"
             ],
             [
              0.4392156862745098,
              "rgb(177,22,88)"
             ],
             [
              0.5019607843137255,
              "rgb(203,26,79)"
             ],
             [
              0.5647058823529412,
              "rgb(223,47,67)"
             ],
             [
              0.6274509803921569,
              "rgb(236,76,61)"
             ],
             [
              0.6901960784313725,
              "rgb(242,107,73)"
             ],
             [
              0.7529411764705882,
              "rgb(244,135,95)"
             ],
             [
              0.8156862745098039,
              "rgb(245,162,122)"
             ],
             [
              0.8784313725490196,
              "rgb(246,188,153)"
             ],
             [
              0.9411764705882353,
              "rgb(247,212,187)"
             ],
             [
              1,
              "rgb(250,234,220)"
             ]
            ],
            "type": "heatmap"
           }
          ],
          "histogram": [
           {
            "marker": {
             "pattern": {
              "fillmode": "overlay",
              "size": 10,
              "solidity": 0.2
             }
            },
            "type": "histogram"
           }
          ],
          "histogram2d": [
           {
            "colorbar": {
             "outlinewidth": 0,
             "tickcolor": "rgb(36,36,36)",
             "ticklen": 8,
             "ticks": "outside",
             "tickwidth": 2
            },
            "colorscale": [
             [
              0,
              "rgb(2,4,25)"
             ],
             [
              0.06274509803921569,
              "rgb(24,15,41)"
             ],
             [
              0.12549019607843137,
              "rgb(47,23,57)"
             ],
             [
              0.18823529411764706,
              "rgb(71,28,72)"
             ],
             [
              0.25098039215686274,
              "rgb(97,30,82)"
             ],
             [
              0.3137254901960784,
              "rgb(123,30,89)"
             ],
             [
              0.3764705882352941,
              "rgb(150,27,91)"
             ],
             [
              0.4392156862745098,
              "rgb(177,22,88)"
             ],
             [
              0.5019607843137255,
              "rgb(203,26,79)"
             ],
             [
              0.5647058823529412,
              "rgb(223,47,67)"
             ],
             [
              0.6274509803921569,
              "rgb(236,76,61)"
             ],
             [
              0.6901960784313725,
              "rgb(242,107,73)"
             ],
             [
              0.7529411764705882,
              "rgb(244,135,95)"
             ],
             [
              0.8156862745098039,
              "rgb(245,162,122)"
             ],
             [
              0.8784313725490196,
              "rgb(246,188,153)"
             ],
             [
              0.9411764705882353,
              "rgb(247,212,187)"
             ],
             [
              1,
              "rgb(250,234,220)"
             ]
            ],
            "type": "histogram2d"
           }
          ],
          "histogram2dcontour": [
           {
            "colorbar": {
             "outlinewidth": 0,
             "tickcolor": "rgb(36,36,36)",
             "ticklen": 8,
             "ticks": "outside",
             "tickwidth": 2
            },
            "colorscale": [
             [
              0,
              "rgb(2,4,25)"
             ],
             [
              0.06274509803921569,
              "rgb(24,15,41)"
             ],
             [
              0.12549019607843137,
              "rgb(47,23,57)"
             ],
             [
              0.18823529411764706,
              "rgb(71,28,72)"
             ],
             [
              0.25098039215686274,
              "rgb(97,30,82)"
             ],
             [
              0.3137254901960784,
              "rgb(123,30,89)"
             ],
             [
              0.3764705882352941,
              "rgb(150,27,91)"
             ],
             [
              0.4392156862745098,
              "rgb(177,22,88)"
             ],
             [
              0.5019607843137255,
              "rgb(203,26,79)"
             ],
             [
              0.5647058823529412,
              "rgb(223,47,67)"
             ],
             [
              0.6274509803921569,
              "rgb(236,76,61)"
             ],
             [
              0.6901960784313725,
              "rgb(242,107,73)"
             ],
             [
              0.7529411764705882,
              "rgb(244,135,95)"
             ],
             [
              0.8156862745098039,
              "rgb(245,162,122)"
             ],
             [
              0.8784313725490196,
              "rgb(246,188,153)"
             ],
             [
              0.9411764705882353,
              "rgb(247,212,187)"
             ],
             [
              1,
              "rgb(250,234,220)"
             ]
            ],
            "type": "histogram2dcontour"
           }
          ],
          "mesh3d": [
           {
            "colorbar": {
             "outlinewidth": 0,
             "tickcolor": "rgb(36,36,36)",
             "ticklen": 8,
             "ticks": "outside",
             "tickwidth": 2
            },
            "type": "mesh3d"
           }
          ],
          "parcoords": [
           {
            "line": {
             "colorbar": {
              "outlinewidth": 0,
              "tickcolor": "rgb(36,36,36)",
              "ticklen": 8,
              "ticks": "outside",
              "tickwidth": 2
             }
            },
            "type": "parcoords"
           }
          ],
          "pie": [
           {
            "automargin": true,
            "type": "pie"
           }
          ],
          "scatter": [
           {
            "fillpattern": {
             "fillmode": "overlay",
             "size": 10,
             "solidity": 0.2
            },
            "type": "scatter"
           }
          ],
          "scatter3d": [
           {
            "line": {
             "colorbar": {
              "outlinewidth": 0,
              "tickcolor": "rgb(36,36,36)",
              "ticklen": 8,
              "ticks": "outside",
              "tickwidth": 2
             }
            },
            "marker": {
             "colorbar": {
              "outlinewidth": 0,
              "tickcolor": "rgb(36,36,36)",
              "ticklen": 8,
              "ticks": "outside",
              "tickwidth": 2
             }
            },
            "type": "scatter3d"
           }
          ],
          "scattercarpet": [
           {
            "marker": {
             "colorbar": {
              "outlinewidth": 0,
              "tickcolor": "rgb(36,36,36)",
              "ticklen": 8,
              "ticks": "outside",
              "tickwidth": 2
             }
            },
            "type": "scattercarpet"
           }
          ],
          "scattergeo": [
           {
            "marker": {
             "colorbar": {
              "outlinewidth": 0,
              "tickcolor": "rgb(36,36,36)",
              "ticklen": 8,
              "ticks": "outside",
              "tickwidth": 2
             }
            },
            "type": "scattergeo"
           }
          ],
          "scattergl": [
           {
            "marker": {
             "colorbar": {
              "outlinewidth": 0,
              "tickcolor": "rgb(36,36,36)",
              "ticklen": 8,
              "ticks": "outside",
              "tickwidth": 2
             }
            },
            "type": "scattergl"
           }
          ],
          "scattermap": [
           {
            "marker": {
             "colorbar": {
              "outlinewidth": 0,
              "tickcolor": "rgb(36,36,36)",
              "ticklen": 8,
              "ticks": "outside",
              "tickwidth": 2
             }
            },
            "type": "scattermap"
           }
          ],
          "scattermapbox": [
           {
            "marker": {
             "colorbar": {
              "outlinewidth": 0,
              "tickcolor": "rgb(36,36,36)",
              "ticklen": 8,
              "ticks": "outside",
              "tickwidth": 2
             }
            },
            "type": "scattermapbox"
           }
          ],
          "scatterpolar": [
           {
            "marker": {
             "colorbar": {
              "outlinewidth": 0,
              "tickcolor": "rgb(36,36,36)",
              "ticklen": 8,
              "ticks": "outside",
              "tickwidth": 2
             }
            },
            "type": "scatterpolar"
           }
          ],
          "scatterpolargl": [
           {
            "marker": {
             "colorbar": {
              "outlinewidth": 0,
              "tickcolor": "rgb(36,36,36)",
              "ticklen": 8,
              "ticks": "outside",
              "tickwidth": 2
             }
            },
            "type": "scatterpolargl"
           }
          ],
          "scatterternary": [
           {
            "marker": {
             "colorbar": {
              "outlinewidth": 0,
              "tickcolor": "rgb(36,36,36)",
              "ticklen": 8,
              "ticks": "outside",
              "tickwidth": 2
             }
            },
            "type": "scatterternary"
           }
          ],
          "surface": [
           {
            "colorbar": {
             "outlinewidth": 0,
             "tickcolor": "rgb(36,36,36)",
             "ticklen": 8,
             "ticks": "outside",
             "tickwidth": 2
            },
            "colorscale": [
             [
              0,
              "rgb(2,4,25)"
             ],
             [
              0.06274509803921569,
              "rgb(24,15,41)"
             ],
             [
              0.12549019607843137,
              "rgb(47,23,57)"
             ],
             [
              0.18823529411764706,
              "rgb(71,28,72)"
             ],
             [
              0.25098039215686274,
              "rgb(97,30,82)"
             ],
             [
              0.3137254901960784,
              "rgb(123,30,89)"
             ],
             [
              0.3764705882352941,
              "rgb(150,27,91)"
             ],
             [
              0.4392156862745098,
              "rgb(177,22,88)"
             ],
             [
              0.5019607843137255,
              "rgb(203,26,79)"
             ],
             [
              0.5647058823529412,
              "rgb(223,47,67)"
             ],
             [
              0.6274509803921569,
              "rgb(236,76,61)"
             ],
             [
              0.6901960784313725,
              "rgb(242,107,73)"
             ],
             [
              0.7529411764705882,
              "rgb(244,135,95)"
             ],
             [
              0.8156862745098039,
              "rgb(245,162,122)"
             ],
             [
              0.8784313725490196,
              "rgb(246,188,153)"
             ],
             [
              0.9411764705882353,
              "rgb(247,212,187)"
             ],
             [
              1,
              "rgb(250,234,220)"
             ]
            ],
            "type": "surface"
           }
          ],
          "table": [
           {
            "cells": {
             "fill": {
              "color": "rgb(231,231,240)"
             },
             "line": {
              "color": "white"
             }
            },
            "header": {
             "fill": {
              "color": "rgb(183,183,191)"
             },
             "line": {
              "color": "white"
             }
            },
            "type": "table"
           }
          ]
         },
         "layout": {
          "annotationdefaults": {
           "arrowcolor": "rgb(67,103,167)"
          },
          "autotypenumbers": "strict",
          "coloraxis": {
           "colorbar": {
            "outlinewidth": 0,
            "tickcolor": "rgb(36,36,36)",
            "ticklen": 8,
            "ticks": "outside",
            "tickwidth": 2
           }
          },
          "colorscale": {
           "sequential": [
            [
             0,
             "rgb(2,4,25)"
            ],
            [
             0.06274509803921569,
             "rgb(24,15,41)"
            ],
            [
             0.12549019607843137,
             "rgb(47,23,57)"
            ],
            [
             0.18823529411764706,
             "rgb(71,28,72)"
            ],
            [
             0.25098039215686274,
             "rgb(97,30,82)"
            ],
            [
             0.3137254901960784,
             "rgb(123,30,89)"
            ],
            [
             0.3764705882352941,
             "rgb(150,27,91)"
            ],
            [
             0.4392156862745098,
             "rgb(177,22,88)"
            ],
            [
             0.5019607843137255,
             "rgb(203,26,79)"
            ],
            [
             0.5647058823529412,
             "rgb(223,47,67)"
            ],
            [
             0.6274509803921569,
             "rgb(236,76,61)"
            ],
            [
             0.6901960784313725,
             "rgb(242,107,73)"
            ],
            [
             0.7529411764705882,
             "rgb(244,135,95)"
            ],
            [
             0.8156862745098039,
             "rgb(245,162,122)"
            ],
            [
             0.8784313725490196,
             "rgb(246,188,153)"
            ],
            [
             0.9411764705882353,
             "rgb(247,212,187)"
            ],
            [
             1,
             "rgb(250,234,220)"
            ]
           ],
           "sequentialminus": [
            [
             0,
             "rgb(2,4,25)"
            ],
            [
             0.06274509803921569,
             "rgb(24,15,41)"
            ],
            [
             0.12549019607843137,
             "rgb(47,23,57)"
            ],
            [
             0.18823529411764706,
             "rgb(71,28,72)"
            ],
            [
             0.25098039215686274,
             "rgb(97,30,82)"
            ],
            [
             0.3137254901960784,
             "rgb(123,30,89)"
            ],
            [
             0.3764705882352941,
             "rgb(150,27,91)"
            ],
            [
             0.4392156862745098,
             "rgb(177,22,88)"
            ],
            [
             0.5019607843137255,
             "rgb(203,26,79)"
            ],
            [
             0.5647058823529412,
             "rgb(223,47,67)"
            ],
            [
             0.6274509803921569,
             "rgb(236,76,61)"
            ],
            [
             0.6901960784313725,
             "rgb(242,107,73)"
            ],
            [
             0.7529411764705882,
             "rgb(244,135,95)"
            ],
            [
             0.8156862745098039,
             "rgb(245,162,122)"
            ],
            [
             0.8784313725490196,
             "rgb(246,188,153)"
            ],
            [
             0.9411764705882353,
             "rgb(247,212,187)"
            ],
            [
             1,
             "rgb(250,234,220)"
            ]
           ]
          },
          "colorway": [
           "rgb(76,114,176)",
           "rgb(221,132,82)",
           "rgb(85,168,104)",
           "rgb(196,78,82)",
           "rgb(129,114,179)",
           "rgb(147,120,96)",
           "rgb(218,139,195)",
           "rgb(140,140,140)",
           "rgb(204,185,116)",
           "rgb(100,181,205)"
          ],
          "font": {
           "color": "rgb(36,36,36)"
          },
          "geo": {
           "bgcolor": "white",
           "lakecolor": "white",
           "landcolor": "rgb(234,234,242)",
           "showlakes": true,
           "showland": true,
           "subunitcolor": "white"
          },
          "hoverlabel": {
           "align": "left"
          },
          "hovermode": "closest",
          "paper_bgcolor": "white",
          "plot_bgcolor": "rgb(234,234,242)",
          "polar": {
           "angularaxis": {
            "gridcolor": "white",
            "linecolor": "white",
            "showgrid": true,
            "ticks": ""
           },
           "bgcolor": "rgb(234,234,242)",
           "radialaxis": {
            "gridcolor": "white",
            "linecolor": "white",
            "showgrid": true,
            "ticks": ""
           }
          },
          "scene": {
           "xaxis": {
            "backgroundcolor": "rgb(234,234,242)",
            "gridcolor": "white",
            "gridwidth": 2,
            "linecolor": "white",
            "showbackground": true,
            "showgrid": true,
            "ticks": "",
            "zerolinecolor": "white"
           },
           "yaxis": {
            "backgroundcolor": "rgb(234,234,242)",
            "gridcolor": "white",
            "gridwidth": 2,
            "linecolor": "white",
            "showbackground": true,
            "showgrid": true,
            "ticks": "",
            "zerolinecolor": "white"
           },
           "zaxis": {
            "backgroundcolor": "rgb(234,234,242)",
            "gridcolor": "white",
            "gridwidth": 2,
            "linecolor": "white",
            "showbackground": true,
            "showgrid": true,
            "ticks": "",
            "zerolinecolor": "white"
           }
          },
          "shapedefaults": {
           "fillcolor": "rgb(67,103,167)",
           "line": {
            "width": 0
           },
           "opacity": 0.5
          },
          "ternary": {
           "aaxis": {
            "gridcolor": "white",
            "linecolor": "white",
            "showgrid": true,
            "ticks": ""
           },
           "baxis": {
            "gridcolor": "white",
            "linecolor": "white",
            "showgrid": true,
            "ticks": ""
           },
           "bgcolor": "rgb(234,234,242)",
           "caxis": {
            "gridcolor": "white",
            "linecolor": "white",
            "showgrid": true,
            "ticks": ""
           }
          },
          "xaxis": {
           "automargin": true,
           "gridcolor": "white",
           "linecolor": "white",
           "showgrid": true,
           "ticks": "",
           "title": {
            "standoff": 15
           },
           "zerolinecolor": "white"
          },
          "yaxis": {
           "automargin": true,
           "gridcolor": "white",
           "linecolor": "white",
           "showgrid": true,
           "ticks": "",
           "title": {
            "standoff": 15
           },
           "zerolinecolor": "white"
          }
         }
        },
        "title": {
         "text": "Time Bars"
        },
        "xaxis": {
         "rangeslider": {
          "visible": true
         },
         "title": {
          "text": "Bar"
         }
        },
        "yaxis": {
         "title": {
          "text": "Price (USD)"
         }
        }
       }
      }
     },
     "metadata": {},
     "output_type": "display_data"
    }
   ],
   "source": [
    "fig = go.Figure(data=[go.Candlestick(\n",
    "    x=time_bars['start_time'],\n",
    "    open=time_bars['open'],\n",
    "    high=time_bars['high'],\n",
    "    low=time_bars['low'],\n",
    "    close=time_bars['close'],\n",
    "    name='Time Bars'\n",
    ")])\n",
    "\n",
    "fig.update_layout(\n",
    "    title=f'Time Bars',\n",
    "    yaxis_title='Price (USD)',\n",
    "    xaxis_title='Bar',\n",
    "    xaxis_rangeslider_visible=True, \n",
    "    template='seaborn', # other options: plotly, plotly_white, plotly_dark, simple_white\n",
    "    showlegend=True,\n",
    ")"
   ]
  },
  {
   "cell_type": "markdown",
   "id": "19b77922",
   "metadata": {},
   "source": [
    "## Volume bars"
   ]
  },
  {
   "cell_type": "markdown",
   "id": "252ece07",
   "metadata": {},
   "source": [
    "### Bar Chart"
   ]
  },
  {
   "cell_type": "code",
   "execution_count": 18,
   "id": "e331a1b5",
   "metadata": {},
   "outputs": [
    {
     "data": {
      "application/vnd.plotly.v1+json": {
       "config": {
        "plotlyServerURL": "https://plot.ly"
       },
       "data": [
        {
         "close": {
          "bdata": "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",
          "dtype": "f8"
         },
         "high": {
          "bdata": "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",
          "dtype": "f8"
         },
         "low": {
          "bdata": "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",
          "dtype": "f8"
         },
         "name": "Volume Bars",
         "open": {
          "bdata": "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",
          "dtype": "f8"
         },
         "type": "candlestick",
         "x": {
          "bdata": "AAABAAIAAwAEAAUABgAHAAgACQAKAAsADAANAA4ADwAQABEAEgATABQAFQAWABcAGAAZABoAGwAcAB0AHgAfACAAIQAiACMAJAAlACYAJwAoACkAKgArACwALQAuAC8AMAAxADIAMwA0ADUANgA3ADgAOQA6ADsAPAA9AD4APwBAAEEAQgBDAEQARQBGAEcASABJAEoASwBMAE0ATgBPAFAAUQBSAFMAVABVAFYAVwBYAFkAWgBbAFwAXQBeAF8AYABhAGIAYwBkAGUAZgBnAGgAaQBqAGsAbABtAG4AbwBwAHEAcgBzAHQAdQB2AHcAeAB5AHoAewB8AH0AfgB/AIAAgQCCAIMAhACFAIYAhwCIAIkAigCLAIwAjQCOAI8AkACRAJIAkwCUAJUAlgCXAJgAmQCaAJsAnACdAJ4AnwCgAKEAogCjAKQApQCmAKcAqACpAKoAqwCsAK0ArgCvALAAsQCyALMAtAC1ALYAtwC4ALkAugC7ALwAvQC+AL8AwADBAMIAwwDEAMUAxgDHAMgAyQDKAMsAzADNAM4AzwDQANEA0gDTANQA1QDWANcA2ADZANoA2wDcAN0A3gDfAOAA4QDiAOMA5ADlAOYA5wDoAOkA6gDrAOwA7QDuAO8A8ADxAPIA8wD0APUA9gD3APgA+QD6APsA/AD9AP4A/wAAAQEBAgEDAQQBBQEGAQcBCAEJAQoBCwEMAQ0BDgEPARABEQESARMBFAEVARYBFwEYARkBGgEbARwBHQEeAR8BIAEhASIBIwEkASUBJgEnASgBKQEqASsBLAEtAS4BLwEwATEBMgEzATQBNQE2ATcBOAE5AToBOwE8AT0BPgE/AUABQQFCAUMBRAFFAUYBRwFIAUkBSgFLAUwBTQFOAU8BUAFRAVIBUwFUAVUBVgFXAVgBWQFaAVsBXAFdAV4BXwFgAWEBYgFjAWQBZQFmAWcBaAFpAWoBawFsAW0BbgFvAXAB",
          "dtype": "i2"
         }
        }
       ],
       "layout": {
        "showlegend": true,
        "template": {
         "data": {
          "bar": [
           {
            "error_x": {
             "color": "rgb(36,36,36)"
            },
            "error_y": {
             "color": "rgb(36,36,36)"
            },
            "marker": {
             "line": {
              "color": "rgb(234,234,242)",
              "width": 0.5
             },
             "pattern": {
              "fillmode": "overlay",
              "size": 10,
              "solidity": 0.2
             }
            },
            "type": "bar"
           }
          ],
          "barpolar": [
           {
            "marker": {
             "line": {
              "color": "rgb(234,234,242)",
              "width": 0.5
             },
             "pattern": {
              "fillmode": "overlay",
              "size": 10,
              "solidity": 0.2
             }
            },
            "type": "barpolar"
           }
          ],
          "carpet": [
           {
            "aaxis": {
             "endlinecolor": "rgb(36,36,36)",
             "gridcolor": "white",
             "linecolor": "white",
             "minorgridcolor": "white",
             "startlinecolor": "rgb(36,36,36)"
            },
            "baxis": {
             "endlinecolor": "rgb(36,36,36)",
             "gridcolor": "white",
             "linecolor": "white",
             "minorgridcolor": "white",
             "startlinecolor": "rgb(36,36,36)"
            },
            "type": "carpet"
           }
          ],
          "choropleth": [
           {
            "colorbar": {
             "outlinewidth": 0,
             "tickcolor": "rgb(36,36,36)",
             "ticklen": 8,
             "ticks": "outside",
             "tickwidth": 2
            },
            "type": "choropleth"
           }
          ],
          "contour": [
           {
            "colorbar": {
             "outlinewidth": 0,
             "tickcolor": "rgb(36,36,36)",
             "ticklen": 8,
             "ticks": "outside",
             "tickwidth": 2
            },
            "colorscale": [
             [
              0,
              "rgb(2,4,25)"
             ],
             [
              0.06274509803921569,
              "rgb(24,15,41)"
             ],
             [
              0.12549019607843137,
              "rgb(47,23,57)"
             ],
             [
              0.18823529411764706,
              "rgb(71,28,72)"
             ],
             [
              0.25098039215686274,
              "rgb(97,30,82)"
             ],
             [
              0.3137254901960784,
              "rgb(123,30,89)"
             ],
             [
              0.3764705882352941,
              "rgb(150,27,91)"
             ],
             [
              0.4392156862745098,
              "rgb(177,22,88)"
             ],
             [
              0.5019607843137255,
              "rgb(203,26,79)"
             ],
             [
              0.5647058823529412,
              "rgb(223,47,67)"
             ],
             [
              0.6274509803921569,
              "rgb(236,76,61)"
             ],
             [
              0.6901960784313725,
              "rgb(242,107,73)"
             ],
             [
              0.7529411764705882,
              "rgb(244,135,95)"
             ],
             [
              0.8156862745098039,
              "rgb(245,162,122)"
             ],
             [
              0.8784313725490196,
              "rgb(246,188,153)"
             ],
             [
              0.9411764705882353,
              "rgb(247,212,187)"
             ],
             [
              1,
              "rgb(250,234,220)"
             ]
            ],
            "type": "contour"
           }
          ],
          "contourcarpet": [
           {
            "colorbar": {
             "outlinewidth": 0,
             "tickcolor": "rgb(36,36,36)",
             "ticklen": 8,
             "ticks": "outside",
             "tickwidth": 2
            },
            "type": "contourcarpet"
           }
          ],
          "heatmap": [
           {
            "colorbar": {
             "outlinewidth": 0,
             "tickcolor": "rgb(36,36,36)",
             "ticklen": 8,
             "ticks": "outside",
             "tickwidth": 2
            },
            "colorscale": [
             [
              0,
              "rgb(2,4,25)"
             ],
             [
              0.06274509803921569,
              "rgb(24,15,41)"
             ],
             [
              0.12549019607843137,
              "rgb(47,23,57)"
             ],
             [
              0.18823529411764706,
              "rgb(71,28,72)"
             ],
             [
              0.25098039215686274,
              "rgb(97,30,82)"
             ],
             [
              0.3137254901960784,
              "rgb(123,30,89)"
             ],
             [
              0.3764705882352941,
              "rgb(150,27,91)"
             ],
             [
              0.4392156862745098,
              "rgb(177,22,88)"
             ],
             [
              0.5019607843137255,
              "rgb(203,26,79)"
             ],
             [
              0.5647058823529412,
              "rgb(223,47,67)"
             ],
             [
              0.6274509803921569,
              "rgb(236,76,61)"
             ],
             [
              0.6901960784313725,
              "rgb(242,107,73)"
             ],
             [
              0.7529411764705882,
              "rgb(244,135,95)"
             ],
             [
              0.8156862745098039,
              "rgb(245,162,122)"
             ],
             [
              0.8784313725490196,
              "rgb(246,188,153)"
             ],
             [
              0.9411764705882353,
              "rgb(247,212,187)"
             ],
             [
              1,
              "rgb(250,234,220)"
             ]
            ],
            "type": "heatmap"
           }
          ],
          "histogram": [
           {
            "marker": {
             "pattern": {
              "fillmode": "overlay",
              "size": 10,
              "solidity": 0.2
             }
            },
            "type": "histogram"
           }
          ],
          "histogram2d": [
           {
            "colorbar": {
             "outlinewidth": 0,
             "tickcolor": "rgb(36,36,36)",
             "ticklen": 8,
             "ticks": "outside",
             "tickwidth": 2
            },
            "colorscale": [
             [
              0,
              "rgb(2,4,25)"
             ],
             [
              0.06274509803921569,
              "rgb(24,15,41)"
             ],
             [
              0.12549019607843137,
              "rgb(47,23,57)"
             ],
             [
              0.18823529411764706,
              "rgb(71,28,72)"
             ],
             [
              0.25098039215686274,
              "rgb(97,30,82)"
             ],
             [
              0.3137254901960784,
              "rgb(123,30,89)"
             ],
             [
              0.3764705882352941,
              "rgb(150,27,91)"
             ],
             [
              0.4392156862745098,
              "rgb(177,22,88)"
             ],
             [
              0.5019607843137255,
              "rgb(203,26,79)"
             ],
             [
              0.5647058823529412,
              "rgb(223,47,67)"
             ],
             [
              0.6274509803921569,
              "rgb(236,76,61)"
             ],
             [
              0.6901960784313725,
              "rgb(242,107,73)"
             ],
             [
              0.7529411764705882,
              "rgb(244,135,95)"
             ],
             [
              0.8156862745098039,
              "rgb(245,162,122)"
             ],
             [
              0.8784313725490196,
              "rgb(246,188,153)"
             ],
             [
              0.9411764705882353,
              "rgb(247,212,187)"
             ],
             [
              1,
              "rgb(250,234,220)"
             ]
            ],
            "type": "histogram2d"
           }
          ],
          "histogram2dcontour": [
           {
            "colorbar": {
             "outlinewidth": 0,
             "tickcolor": "rgb(36,36,36)",
             "ticklen": 8,
             "ticks": "outside",
             "tickwidth": 2
            },
            "colorscale": [
             [
              0,
              "rgb(2,4,25)"
             ],
             [
              0.06274509803921569,
              "rgb(24,15,41)"
             ],
             [
              0.12549019607843137,
              "rgb(47,23,57)"
             ],
             [
              0.18823529411764706,
              "rgb(71,28,72)"
             ],
             [
              0.25098039215686274,
              "rgb(97,30,82)"
             ],
             [
              0.3137254901960784,
              "rgb(123,30,89)"
             ],
             [
              0.3764705882352941,
              "rgb(150,27,91)"
             ],
             [
              0.4392156862745098,
              "rgb(177,22,88)"
             ],
             [
              0.5019607843137255,
              "rgb(203,26,79)"
             ],
             [
              0.5647058823529412,
              "rgb(223,47,67)"
             ],
             [
              0.6274509803921569,
              "rgb(236,76,61)"
             ],
             [
              0.6901960784313725,
              "rgb(242,107,73)"
             ],
             [
              0.7529411764705882,
              "rgb(244,135,95)"
             ],
             [
              0.8156862745098039,
              "rgb(245,162,122)"
             ],
             [
              0.8784313725490196,
              "rgb(246,188,153)"
             ],
             [
              0.9411764705882353,
              "rgb(247,212,187)"
             ],
             [
              1,
              "rgb(250,234,220)"
             ]
            ],
            "type": "histogram2dcontour"
           }
          ],
          "mesh3d": [
           {
            "colorbar": {
             "outlinewidth": 0,
             "tickcolor": "rgb(36,36,36)",
             "ticklen": 8,
             "ticks": "outside",
             "tickwidth": 2
            },
            "type": "mesh3d"
           }
          ],
          "parcoords": [
           {
            "line": {
             "colorbar": {
              "outlinewidth": 0,
              "tickcolor": "rgb(36,36,36)",
              "ticklen": 8,
              "ticks": "outside",
              "tickwidth": 2
             }
            },
            "type": "parcoords"
           }
          ],
          "pie": [
           {
            "automargin": true,
            "type": "pie"
           }
          ],
          "scatter": [
           {
            "fillpattern": {
             "fillmode": "overlay",
             "size": 10,
             "solidity": 0.2
            },
            "type": "scatter"
           }
          ],
          "scatter3d": [
           {
            "line": {
             "colorbar": {
              "outlinewidth": 0,
              "tickcolor": "rgb(36,36,36)",
              "ticklen": 8,
              "ticks": "outside",
              "tickwidth": 2
             }
            },
            "marker": {
             "colorbar": {
              "outlinewidth": 0,
              "tickcolor": "rgb(36,36,36)",
              "ticklen": 8,
              "ticks": "outside",
              "tickwidth": 2
             }
            },
            "type": "scatter3d"
           }
          ],
          "scattercarpet": [
           {
            "marker": {
             "colorbar": {
              "outlinewidth": 0,
              "tickcolor": "rgb(36,36,36)",
              "ticklen": 8,
              "ticks": "outside",
              "tickwidth": 2
             }
            },
            "type": "scattercarpet"
           }
          ],
          "scattergeo": [
           {
            "marker": {
             "colorbar": {
              "outlinewidth": 0,
              "tickcolor": "rgb(36,36,36)",
              "ticklen": 8,
              "ticks": "outside",
              "tickwidth": 2
             }
            },
            "type": "scattergeo"
           }
          ],
          "scattergl": [
           {
            "marker": {
             "colorbar": {
              "outlinewidth": 0,
              "tickcolor": "rgb(36,36,36)",
              "ticklen": 8,
              "ticks": "outside",
              "tickwidth": 2
             }
            },
            "type": "scattergl"
           }
          ],
          "scattermap": [
           {
            "marker": {
             "colorbar": {
              "outlinewidth": 0,
              "tickcolor": "rgb(36,36,36)",
              "ticklen": 8,
              "ticks": "outside",
              "tickwidth": 2
             }
            },
            "type": "scattermap"
           }
          ],
          "scattermapbox": [
           {
            "marker": {
             "colorbar": {
              "outlinewidth": 0,
              "tickcolor": "rgb(36,36,36)",
              "ticklen": 8,
              "ticks": "outside",
              "tickwidth": 2
             }
            },
            "type": "scattermapbox"
           }
          ],
          "scatterpolar": [
           {
            "marker": {
             "colorbar": {
              "outlinewidth": 0,
              "tickcolor": "rgb(36,36,36)",
              "ticklen": 8,
              "ticks": "outside",
              "tickwidth": 2
             }
            },
            "type": "scatterpolar"
           }
          ],
          "scatterpolargl": [
           {
            "marker": {
             "colorbar": {
              "outlinewidth": 0,
              "tickcolor": "rgb(36,36,36)",
              "ticklen": 8,
              "ticks": "outside",
              "tickwidth": 2
             }
            },
            "type": "scatterpolargl"
           }
          ],
          "scatterternary": [
           {
            "marker": {
             "colorbar": {
              "outlinewidth": 0,
              "tickcolor": "rgb(36,36,36)",
              "ticklen": 8,
              "ticks": "outside",
              "tickwidth": 2
             }
            },
            "type": "scatterternary"
           }
          ],
          "surface": [
           {
            "colorbar": {
             "outlinewidth": 0,
             "tickcolor": "rgb(36,36,36)",
             "ticklen": 8,
             "ticks": "outside",
             "tickwidth": 2
            },
            "colorscale": [
             [
              0,
              "rgb(2,4,25)"
             ],
             [
              0.06274509803921569,
              "rgb(24,15,41)"
             ],
             [
              0.12549019607843137,
              "rgb(47,23,57)"
             ],
             [
              0.18823529411764706,
              "rgb(71,28,72)"
             ],
             [
              0.25098039215686274,
              "rgb(97,30,82)"
             ],
             [
              0.3137254901960784,
              "rgb(123,30,89)"
             ],
             [
              0.3764705882352941,
              "rgb(150,27,91)"
             ],
             [
              0.4392156862745098,
              "rgb(177,22,88)"
             ],
             [
              0.5019607843137255,
              "rgb(203,26,79)"
             ],
             [
              0.5647058823529412,
              "rgb(223,47,67)"
             ],
             [
              0.6274509803921569,
              "rgb(236,76,61)"
             ],
             [
              0.6901960784313725,
              "rgb(242,107,73)"
             ],
             [
              0.7529411764705882,
              "rgb(244,135,95)"
             ],
             [
              0.8156862745098039,
              "rgb(245,162,122)"
             ],
             [
              0.8784313725490196,
              "rgb(246,188,153)"
             ],
             [
              0.9411764705882353,
              "rgb(247,212,187)"
             ],
             [
              1,
              "rgb(250,234,220)"
             ]
            ],
            "type": "surface"
           }
          ],
          "table": [
           {
            "cells": {
             "fill": {
              "color": "rgb(231,231,240)"
             },
             "line": {
              "color": "white"
             }
            },
            "header": {
             "fill": {
              "color": "rgb(183,183,191)"
             },
             "line": {
              "color": "white"
             }
            },
            "type": "table"
           }
          ]
         },
         "layout": {
          "annotationdefaults": {
           "arrowcolor": "rgb(67,103,167)"
          },
          "autotypenumbers": "strict",
          "coloraxis": {
           "colorbar": {
            "outlinewidth": 0,
            "tickcolor": "rgb(36,36,36)",
            "ticklen": 8,
            "ticks": "outside",
            "tickwidth": 2
           }
          },
          "colorscale": {
           "sequential": [
            [
             0,
             "rgb(2,4,25)"
            ],
            [
             0.06274509803921569,
             "rgb(24,15,41)"
            ],
            [
             0.12549019607843137,
             "rgb(47,23,57)"
            ],
            [
             0.18823529411764706,
             "rgb(71,28,72)"
            ],
            [
             0.25098039215686274,
             "rgb(97,30,82)"
            ],
            [
             0.3137254901960784,
             "rgb(123,30,89)"
            ],
            [
             0.3764705882352941,
             "rgb(150,27,91)"
            ],
            [
             0.4392156862745098,
             "rgb(177,22,88)"
            ],
            [
             0.5019607843137255,
             "rgb(203,26,79)"
            ],
            [
             0.5647058823529412,
             "rgb(223,47,67)"
            ],
            [
             0.6274509803921569,
             "rgb(236,76,61)"
            ],
            [
             0.6901960784313725,
             "rgb(242,107,73)"
            ],
            [
             0.7529411764705882,
             "rgb(244,135,95)"
            ],
            [
             0.8156862745098039,
             "rgb(245,162,122)"
            ],
            [
             0.8784313725490196,
             "rgb(246,188,153)"
            ],
            [
             0.9411764705882353,
             "rgb(247,212,187)"
            ],
            [
             1,
             "rgb(250,234,220)"
            ]
           ],
           "sequentialminus": [
            [
             0,
             "rgb(2,4,25)"
            ],
            [
             0.06274509803921569,
             "rgb(24,15,41)"
            ],
            [
             0.12549019607843137,
             "rgb(47,23,57)"
            ],
            [
             0.18823529411764706,
             "rgb(71,28,72)"
            ],
            [
             0.25098039215686274,
             "rgb(97,30,82)"
            ],
            [
             0.3137254901960784,
             "rgb(123,30,89)"
            ],
            [
             0.3764705882352941,
             "rgb(150,27,91)"
            ],
            [
             0.4392156862745098,
             "rgb(177,22,88)"
            ],
            [
             0.5019607843137255,
             "rgb(203,26,79)"
            ],
            [
             0.5647058823529412,
             "rgb(223,47,67)"
            ],
            [
             0.6274509803921569,
             "rgb(236,76,61)"
            ],
            [
             0.6901960784313725,
             "rgb(242,107,73)"
            ],
            [
             0.7529411764705882,
             "rgb(244,135,95)"
            ],
            [
             0.8156862745098039,
             "rgb(245,162,122)"
            ],
            [
             0.8784313725490196,
             "rgb(246,188,153)"
            ],
            [
             0.9411764705882353,
             "rgb(247,212,187)"
            ],
            [
             1,
             "rgb(250,234,220)"
            ]
           ]
          },
          "colorway": [
           "rgb(76,114,176)",
           "rgb(221,132,82)",
           "rgb(85,168,104)",
           "rgb(196,78,82)",
           "rgb(129,114,179)",
           "rgb(147,120,96)",
           "rgb(218,139,195)",
           "rgb(140,140,140)",
           "rgb(204,185,116)",
           "rgb(100,181,205)"
          ],
          "font": {
           "color": "rgb(36,36,36)"
          },
          "geo": {
           "bgcolor": "white",
           "lakecolor": "white",
           "landcolor": "rgb(234,234,242)",
           "showlakes": true,
           "showland": true,
           "subunitcolor": "white"
          },
          "hoverlabel": {
           "align": "left"
          },
          "hovermode": "closest",
          "paper_bgcolor": "white",
          "plot_bgcolor": "rgb(234,234,242)",
          "polar": {
           "angularaxis": {
            "gridcolor": "white",
            "linecolor": "white",
            "showgrid": true,
            "ticks": ""
           },
           "bgcolor": "rgb(234,234,242)",
           "radialaxis": {
            "gridcolor": "white",
            "linecolor": "white",
            "showgrid": true,
            "ticks": ""
           }
          },
          "scene": {
           "xaxis": {
            "backgroundcolor": "rgb(234,234,242)",
            "gridcolor": "white",
            "gridwidth": 2,
            "linecolor": "white",
            "showbackground": true,
            "showgrid": true,
            "ticks": "",
            "zerolinecolor": "white"
           },
           "yaxis": {
            "backgroundcolor": "rgb(234,234,242)",
            "gridcolor": "white",
            "gridwidth": 2,
            "linecolor": "white",
            "showbackground": true,
            "showgrid": true,
            "ticks": "",
            "zerolinecolor": "white"
           },
           "zaxis": {
            "backgroundcolor": "rgb(234,234,242)",
            "gridcolor": "white",
            "gridwidth": 2,
            "linecolor": "white",
            "showbackground": true,
            "showgrid": true,
            "ticks": "",
            "zerolinecolor": "white"
           }
          },
          "shapedefaults": {
           "fillcolor": "rgb(67,103,167)",
           "line": {
            "width": 0
           },
           "opacity": 0.5
          },
          "ternary": {
           "aaxis": {
            "gridcolor": "white",
            "linecolor": "white",
            "showgrid": true,
            "ticks": ""
           },
           "baxis": {
            "gridcolor": "white",
            "linecolor": "white",
            "showgrid": true,
            "ticks": ""
           },
           "bgcolor": "rgb(234,234,242)",
           "caxis": {
            "gridcolor": "white",
            "linecolor": "white",
            "showgrid": true,
            "ticks": ""
           }
          },
          "xaxis": {
           "automargin": true,
           "gridcolor": "white",
           "linecolor": "white",
           "showgrid": true,
           "ticks": "",
           "title": {
            "standoff": 15
           },
           "zerolinecolor": "white"
          },
          "yaxis": {
           "automargin": true,
           "gridcolor": "white",
           "linecolor": "white",
           "showgrid": true,
           "ticks": "",
           "title": {
            "standoff": 15
           },
           "zerolinecolor": "white"
          }
         }
        },
        "title": {
         "text": "Volume Bars"
        },
        "xaxis": {
         "rangeslider": {
          "visible": true
         },
         "title": {
          "text": "Bar"
         }
        },
        "yaxis": {
         "title": {
          "text": "Price (USD)"
         }
        }
       }
      }
     },
     "metadata": {},
     "output_type": "display_data"
    }
   ],
   "source": [
    "fig = go.Figure(data=[go.Candlestick(\n",
    "    x=volume_bars.index,\n",
    "    open=volume_bars['open'],\n",
    "    high=volume_bars['high'],\n",
    "    low=volume_bars['low'],\n",
    "    close=volume_bars['close'],\n",
    "    name='Volume Bars'\n",
    ")])\n",
    "\n",
    "fig.update_layout(\n",
    "    title=f'Volume Bars',\n",
    "    yaxis_title='Price (USD)',\n",
    "    xaxis_title='Bar',\n",
    "    xaxis_rangeslider_visible=True, \n",
    "    template='seaborn', # other options: plotly, plotly_white, plotly_dark, simple_white\n",
    "    showlegend=True,\n",
    ")"
   ]
  },
  {
   "cell_type": "markdown",
   "id": "ff92a685",
   "metadata": {},
   "source": [
    "### Time Chart"
   ]
  },
  {
   "cell_type": "code",
   "execution_count": 19,
   "id": "8caa8092",
   "metadata": {},
   "outputs": [
    {
     "data": {
      "application/vnd.plotly.v1+json": {
       "config": {
        "plotlyServerURL": "https://plot.ly"
       },
       "data": [
        {
         "close": {
          "bdata": "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",
          "dtype": "f8"
         },
         "high": {
          "bdata": "MzMzMzMDWUDhehSuRwFZQK5H4XoU/lhAMzMzMzMDWUBcj8L1KPxYQEjhehSu91hA4XoUrkfxWEAzMzMzM/NYQD0K16Nw7VhA7FG4HoXrWEA9CtejcO1YQB+F61G47lhA4XoUrkfxWEBSuB6F6/FYQOF6FK5H8VhApHA9CtfzWECuR+F6FO5YQClcj8L16FhAFK5H4XrkWEDsUbgehetYQNejcD0K91hA16NwPQr3WEDhehSuR/FYQEjhehSu91hACtejcD36WEA9CtejcP1YQD0K16Nw/VhAAAAAAAAAWUDXo3A9CvdYQLgehetR+FhAH4XrUbj+WEDXo3A9CgdZQK5H4XoUDllAAAAAAAAQWUDsUbgehQtZQM3MzMzMDFlAXI/C9SgMWUBxPQrXoxBZQHE9CtejEFlASOF6FK4XWUAzMzMzMxNZQK5H4XoUDllA7FG4HoULWUDXo3A9CgdZQNejcD0KB1lAXI/C9SgMWUA9CtejcA1ZQI/C9ShcD1lA7FG4HoULWUAzMzMzMxNZQI/C9ShcH1lAj8L1KFwfWUAfhetRuB5ZQHE9CtejIFlA16NwPQonWUC4HoXrUShZQPYoXI/CJVlAuB6F61EoWUDhehSuRyFZQFyPwvUoHFlAuB6F61EYWUDD9ShcjxJZQB+F61G4DllAw/UoXI8SWUBSuB6F6xFZQB+F61G4DllAuB6F61EYWUCPwvUoXB9ZQKRwPQrXI1lAFK5H4XokWUAAAAAAACBZQD0K16NwHVlApHA9CtcTWUCuR+F6FA5ZQBSuR+F6BFlASOF6FK4HWUCkcD0K1wNZQLgehetRCFlAexSuR+EKWUDNzMzMzAxZQFyPwvUoDFlAmpmZmZkJWUC4HoXrUQhZQArXo3A9CllAPQrXo3ANWUBcj8L1KAxZQLgehetRCFlAXI/C9SgMWUCPwvUoXA9ZQFK4HoXrEVlAUrgehesRWUCPwvUoXA9ZQB+F61G4DllAPQrXo3ANWUAzMzMzMxNZQDMzMzMzE1lA7FG4HoULWUBcj8L1KAxZQFK4HoXrEVlASOF6FK4XWUCF61G4HhVZQHE9CtejEFlA9ihcj8IVWUBcj8L1KBxZQB+F61G4HllAw/UoXI8iWUAzMzMzMyNZQK5H4XoUHllACtejcD0aWUCuR+F6FB5ZQFyPwvUoHFlAUrgehesRWUC4HoXrURhZQNejcD0KF1lAXI/C9SgcWUCPwvUoXB9ZQAAAAAAAIFlA4XoUrkchWUC4HoXrUShZQMP1KFyPIllAKVyPwvUoWUAK16NwPSpZQJqZmZmZKVlASOF6FK4nWUAzMzMzMyNZQDMzMzMzI1lAXI/C9SgcWUAfhetRuB5ZQIXrUbgeJVlArkfhehQeWUBcj8L1KBxZQKRwPQrXI1lA4XoUrkchWUBI4XoUrhdZQEjhehSuF1lAKVyPwvUYWUDsUbgehRtZQI/C9ShcH1lAj8L1KFwfWUAK16NwPRpZQNejcD0KF1lAMzMzMzMTWUCkcD0K1xNZQDMzMzMzE1lAcT0K16MgWUAfhetRuB5ZQEjhehSuJ1lA4XoUrkcxWUAUrkfhejRZQHE9CtejMFlA16NwPQo3WUDXo3A9CjdZQBSuR+F6NFlAXI/C9Sg8WUBcj8L1KDxZQK5H4XoUPllAuB6F61E4WUAUrkfhejRZQClcj8L1OFlAZmZmZmY2WUC4HoXrUThZQD0K16NwPVlA7FG4HoU7WUDD9Shcj0JZQOF6FK5HQVlApHA9CtdDWUBxPQrXo0BZQMP1KFyPQllAUrgehetBWUCF61G4HkVZQB+F61G4TllAKVyPwvVIWUBI4XoUrkdZQIXrUbgeRVlAMzMzMzNDWUBmZmZmZkZZQIXrUbgeRVlAAAAAAABAWUCuR+F6FD5ZQOF6FK5HQVlAPQrXo3A9WUDsUbgehTtZQHE9CtejQFlAUrgehetBWUAfhetRuD5ZQKRwPQrXQ1lA7FG4HoVLWUDXo3A9CkdZQNejcD0KR1lAMzMzMzNDWUBmZmZmZkZZQPYoXI/CRVlA4XoUrkdBWUBcj8L1KDxZQLgehetROFlA16NwPQo3WUCamZmZmTlZQD0K16NwPVlAj8L1KFw/WUBcj8L1KDxZQM3MzMzMPFlA7FG4HoU7WUDNzMzMzDxZQK5H4XoUPllArkfhehQ+WUA9CtejcD1ZQK5H4XoUPllAKVyPwvU4WUBI4XoUrjdZQOF6FK5HQVlAMzMzMzNDWUCPwvUoXD9ZQMP1KFyPQllAMzMzMzNDWUBSuB6F60FZQKRwPQrXQ1lA16NwPQpHWUApXI/C9UhZQD0K16NwPVlAzczMzMw8WUBcj8L1KDxZQGZmZmZmNllA16NwPQo3WUAzMzMzMzNZQDMzMzMzM1lAH4XrUbg+WUBI4XoUrjdZQLgehetROFlAj8L1KFw/WUDNzMzMzDxZQI/C9ShcP1lAMzMzMzMzWUCPwvUoXC9ZQAAAAAAAMFlAPQrXo3AtWUApXI/C9ShZQHsUrkfhKllAAAAAAAAwWUBxPQrXozBZQM3MzMzMLFlAzczMzMwsWUAzMzMzMzNZQKRwPQrXM1lASOF6FK43WUC4HoXrUThZQFK4HoXrMVlAXI/C9SgsWUC4HoXrUShZQGZmZmZmJllA16NwPQonWUBcj8L1KCxZQD0K16NwLVlAKVyPwvUoWUBI4XoUridZQOxRuB6FK1lAexSuR+EqWUC4HoXrUShZQOxRuB6FK1lAcT0K16MwWUAfhetRuC5ZQI/C9ShcL1lAmpmZmZkpWUBmZmZmZiZZQAAAAAAAIFlA4XoUrkchWUCPwvUoXB9ZQKRwPQrXI1lA16NwPQonWUA9CtejcC1ZQJqZmZmZKVlACtejcD0qWUApXI/C9ShZQEjhehSuJ1lAMzMzMzMjWUBxPQrXoyBZQKRwPQrXI1lAMzMzMzMjWUCPwvUoXB9ZQOxRuB6FG1lASOF6FK4XWUBcj8L1KBxZQFyPwvUoHFlAZmZmZmYWWUCuR+F6FB5ZQD0K16NwHVlA16NwPQoXWUCF61G4HhVZQBSuR+F6FFlAUrgehesRWUBSuB6F6xFZQDMzMzMzA1lAuB6F61EIWUD2KFyPwhVZQFyPwvUoHFlAzczMzMwcWUBcj8L1KBxZQDMzMzMzI1lApHA9CtcjWUDD9ShcjyJZQDMzMzMzI1lAmpmZmZkpWUB7FK5H4SpZQNejcD0KJ1lApHA9CtcjWUDD9ShcjyJZQOF6FK5HIVlAPQrXo3AdWUC4HoXrURhZQD0K16NwHVlAmpmZmZkZWUBmZmZmZhZZQD0K16NwHVlAmpmZmZkZWUAzMzMzMyNZQNejcD0KJ1lA9ihcj8IlWUCamZmZmSlZQEjhehSuJ1lApHA9CtcjWUAUrkfheiRZQOxRuB6FK1lA7FG4HoUrWUDsUbgehStZQJqZmZmZKVlAFK5H4XokWUCPwvUoXB9ZQK5H4XoUHllA4XoUrkchWUCPwvUoXB9ZQB+F61G4HllAPQrXo3AdWUD2KFyPwiVZQOF6FK5HMVlAH4XrUbguWUDNzMzMzCxZQK5H4XoULllAw/UoXI8yWUAUrkfhejRZQGZmZmZmNllAhetRuB41WUAAAAAAADBZQClcj8L1KFlAmpmZmZkpWUDNzMzMzCxZQI/C9ShcL1lAzczMzMwsWUAUrkfheiRZQEjhehSuJ1lA9ihcj8IlWUApXI/C9ShZQClcj8L1KFlASOF6FK4nWUBSuB6F6zFZQDMzMzMzM1lArkfhehQuWUAAAAAAADBZQPYoXI/CNVlAhetRuB41WUDXo3A9CjdZQBSuR+F6NFlASOF6FK43WUAAAAAAAEBZQD0K16NwPVlA7FG4HoU7WUCuR+F6FD5ZQArXo3A9OllArkfhehQ+WUDXo3A9CkdZQBSuR+F6RFlA",
          "dtype": "f8"
         },
         "low": {
          "bdata": "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",
          "dtype": "f8"
         },
         "name": "Volume Bars",
         "open": {
          "bdata": "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",
          "dtype": "f8"
         },
         "type": "candlestick",
         "x": [
          "2025-07-14T09:30:01.000000000",
          "2025-07-14T09:31:31.000000000",
          "2025-07-14T09:33:10.000000000",
          "2025-07-14T09:35:29.000000000",
          "2025-07-14T09:37:25.000000000",
          "2025-07-14T09:39:18.000000000",
          "2025-07-14T09:40:25.000000000",
          "2025-07-14T09:40:51.000000000",
          "2025-07-14T09:42:25.000000000",
          "2025-07-14T09:44:06.000000000",
          "2025-07-14T09:45:48.000000000",
          "2025-07-14T09:46:11.000000000",
          "2025-07-14T09:46:51.000000000",
          "2025-07-14T09:48:10.000000000",
          "2025-07-14T09:49:09.000000000",
          "2025-07-14T09:49:56.000000000",
          "2025-07-14T09:50:41.000000000",
          "2025-07-14T09:54:42.000000000",
          "2025-07-14T09:55:20.000000000",
          "2025-07-14T09:55:24.000000000",
          "2025-07-14T09:56:00.000000000",
          "2025-07-14T09:58:06.000000000",
          "2025-07-14T10:01:21.000000000",
          "2025-07-14T10:01:44.000000000",
          "2025-07-14T10:03:55.000000000",
          "2025-07-14T10:04:17.000000000",
          "2025-07-14T10:05:16.000000000",
          "2025-07-14T10:06:20.000000000",
          "2025-07-14T10:07:16.000000000",
          "2025-07-14T10:08:55.000000000",
          "2025-07-14T10:09:39.000000000",
          "2025-07-14T10:11:00.000000000",
          "2025-07-14T10:12:01.000000000",
          "2025-07-14T10:12:15.000000000",
          "2025-07-14T10:12:45.000000000",
          "2025-07-14T10:13:45.000000000",
          "2025-07-14T10:14:31.000000000",
          "2025-07-14T10:15:09.000000000",
          "2025-07-14T10:15:37.000000000",
          "2025-07-14T10:15:57.000000000",
          "2025-07-14T10:18:28.000000000",
          "2025-07-14T10:20:03.000000000",
          "2025-07-14T10:20:56.000000000",
          "2025-07-14T10:21:31.000000000",
          "2025-07-14T10:22:26.000000000",
          "2025-07-14T10:24:31.000000000",
          "2025-07-14T10:24:52.000000000",
          "2025-07-14T10:26:16.000000000",
          "2025-07-14T10:27:00.000000000",
          "2025-07-14T10:28:50.000000000",
          "2025-07-14T10:30:05.000000000",
          "2025-07-14T10:30:47.000000000",
          "2025-07-14T10:31:16.000000000",
          "2025-07-14T10:32:46.000000000",
          "2025-07-14T10:33:39.000000000",
          "2025-07-14T10:34:12.000000000",
          "2025-07-14T10:34:51.000000000",
          "2025-07-14T10:35:13.000000000",
          "2025-07-14T10:37:55.000000000",
          "2025-07-14T10:38:20.000000000",
          "2025-07-14T10:38:39.000000000",
          "2025-07-14T10:39:43.000000000",
          "2025-07-14T10:40:48.000000000",
          "2025-07-14T10:41:12.000000000",
          "2025-07-14T10:41:49.000000000",
          "2025-07-14T10:42:57.000000000",
          "2025-07-14T10:43:00.000000000",
          "2025-07-14T10:43:22.000000000",
          "2025-07-14T10:44:06.000000000",
          "2025-07-14T10:44:39.000000000",
          "2025-07-14T10:46:43.000000000",
          "2025-07-14T10:47:09.000000000",
          "2025-07-14T10:47:24.000000000",
          "2025-07-14T10:47:34.000000000",
          "2025-07-14T10:52:04.000000000",
          "2025-07-14T10:53:53.000000000",
          "2025-07-14T10:55:02.000000000",
          "2025-07-14T10:55:29.000000000",
          "2025-07-14T10:56:38.000000000",
          "2025-07-14T10:56:40.000000000",
          "2025-07-14T10:57:35.000000000",
          "2025-07-14T10:58:07.000000000",
          "2025-07-14T10:58:17.000000000",
          "2025-07-14T11:01:26.000000000",
          "2025-07-14T11:02:01.000000000",
          "2025-07-14T11:02:43.000000000",
          "2025-07-14T11:03:13.000000000",
          "2025-07-14T11:03:27.000000000",
          "2025-07-14T11:04:17.000000000",
          "2025-07-14T11:05:04.000000000",
          "2025-07-14T11:07:15.000000000",
          "2025-07-14T11:07:45.000000000",
          "2025-07-14T11:07:58.000000000",
          "2025-07-14T11:08:47.000000000",
          "2025-07-14T11:09:01.000000000",
          "2025-07-14T11:10:26.000000000",
          "2025-07-14T11:11:04.000000000",
          "2025-07-14T11:13:16.000000000",
          "2025-07-14T11:13:37.000000000",
          "2025-07-14T11:14:55.000000000",
          "2025-07-14T11:15:31.000000000",
          "2025-07-14T11:18:17.000000000",
          "2025-07-14T11:19:21.000000000",
          "2025-07-14T11:19:58.000000000",
          "2025-07-14T11:20:26.000000000",
          "2025-07-14T11:22:16.000000000",
          "2025-07-14T11:23:22.000000000",
          "2025-07-14T11:23:44.000000000",
          "2025-07-14T11:25:46.000000000",
          "2025-07-14T11:26:58.000000000",
          "2025-07-14T11:27:59.000000000",
          "2025-07-14T11:28:39.000000000",
          "2025-07-14T11:30:12.000000000",
          "2025-07-14T11:30:52.000000000",
          "2025-07-14T11:31:49.000000000",
          "2025-07-14T11:32:03.000000000",
          "2025-07-14T11:33:24.000000000",
          "2025-07-14T11:34:29.000000000",
          "2025-07-14T11:34:51.000000000",
          "2025-07-14T11:36:45.000000000",
          "2025-07-14T11:37:36.000000000",
          "2025-07-14T11:38:26.000000000",
          "2025-07-14T11:39:29.000000000",
          "2025-07-14T11:39:58.000000000",
          "2025-07-14T11:41:29.000000000",
          "2025-07-14T11:43:38.000000000",
          "2025-07-14T11:45:10.000000000",
          "2025-07-14T11:45:51.000000000",
          "2025-07-14T11:47:03.000000000",
          "2025-07-14T11:48:47.000000000",
          "2025-07-14T11:50:59.000000000",
          "2025-07-14T11:51:14.000000000",
          "2025-07-14T11:51:55.000000000",
          "2025-07-14T11:53:49.000000000",
          "2025-07-14T11:54:18.000000000",
          "2025-07-14T11:55:26.000000000",
          "2025-07-14T11:56:06.000000000",
          "2025-07-14T11:57:17.000000000",
          "2025-07-14T11:57:49.000000000",
          "2025-07-14T11:58:15.000000000",
          "2025-07-14T11:58:48.000000000",
          "2025-07-14T12:00:26.000000000",
          "2025-07-14T12:01:25.000000000",
          "2025-07-14T12:04:45.000000000",
          "2025-07-14T12:06:19.000000000",
          "2025-07-14T12:08:54.000000000",
          "2025-07-14T12:12:47.000000000",
          "2025-07-14T12:13:48.000000000",
          "2025-07-14T12:14:05.000000000",
          "2025-07-14T12:16:16.000000000",
          "2025-07-14T12:17:25.000000000",
          "2025-07-14T12:18:16.000000000",
          "2025-07-14T12:18:50.000000000",
          "2025-07-14T12:19:31.000000000",
          "2025-07-14T12:19:57.000000000",
          "2025-07-14T12:22:25.000000000",
          "2025-07-14T12:22:36.000000000",
          "2025-07-14T12:23:41.000000000",
          "2025-07-14T12:24:24.000000000",
          "2025-07-14T12:26:35.000000000",
          "2025-07-14T12:27:36.000000000",
          "2025-07-14T12:27:49.000000000",
          "2025-07-14T12:29:21.000000000",
          "2025-07-14T12:29:37.000000000",
          "2025-07-14T12:31:18.000000000",
          "2025-07-14T12:31:40.000000000",
          "2025-07-14T12:32:38.000000000",
          "2025-07-14T12:33:02.000000000",
          "2025-07-14T12:35:21.000000000",
          "2025-07-14T12:36:07.000000000",
          "2025-07-14T12:37:27.000000000",
          "2025-07-14T12:39:20.000000000",
          "2025-07-14T12:39:24.000000000",
          "2025-07-14T12:41:49.000000000",
          "2025-07-14T12:42:50.000000000",
          "2025-07-14T12:43:43.000000000",
          "2025-07-14T12:45:07.000000000",
          "2025-07-14T12:46:03.000000000",
          "2025-07-14T12:46:36.000000000",
          "2025-07-14T12:47:18.000000000",
          "2025-07-14T12:51:12.000000000",
          "2025-07-14T12:51:40.000000000",
          "2025-07-14T12:52:07.000000000",
          "2025-07-14T12:52:31.000000000",
          "2025-07-14T12:53:23.000000000",
          "2025-07-14T12:53:59.000000000",
          "2025-07-14T12:54:15.000000000",
          "2025-07-14T12:54:42.000000000",
          "2025-07-14T12:55:01.000000000",
          "2025-07-14T12:55:33.000000000",
          "2025-07-14T12:56:15.000000000",
          "2025-07-14T12:56:42.000000000",
          "2025-07-14T12:57:11.000000000",
          "2025-07-14T12:59:03.000000000",
          "2025-07-14T13:00:08.000000000",
          "2025-07-14T13:01:03.000000000",
          "2025-07-14T13:01:45.000000000",
          "2025-07-14T13:02:07.000000000",
          "2025-07-14T13:04:50.000000000",
          "2025-07-14T13:05:30.000000000",
          "2025-07-14T13:06:11.000000000",
          "2025-07-14T13:07:00.000000000",
          "2025-07-14T13:07:57.000000000",
          "2025-07-14T13:08:35.000000000",
          "2025-07-14T13:08:44.000000000",
          "2025-07-14T13:09:19.000000000",
          "2025-07-14T13:09:36.000000000",
          "2025-07-14T13:10:46.000000000",
          "2025-07-14T13:12:29.000000000",
          "2025-07-14T13:12:49.000000000",
          "2025-07-14T13:14:11.000000000",
          "2025-07-14T13:15:08.000000000",
          "2025-07-14T13:15:36.000000000",
          "2025-07-14T13:15:57.000000000",
          "2025-07-14T13:17:35.000000000",
          "2025-07-14T13:18:05.000000000",
          "2025-07-14T13:19:26.000000000",
          "2025-07-14T13:20:22.000000000",
          "2025-07-14T13:24:15.000000000",
          "2025-07-14T13:24:38.000000000",
          "2025-07-14T13:24:55.000000000",
          "2025-07-14T13:26:09.000000000",
          "2025-07-14T13:27:52.000000000",
          "2025-07-14T13:29:58.000000000",
          "2025-07-14T13:30:54.000000000",
          "2025-07-14T13:32:58.000000000",
          "2025-07-14T13:37:00.000000000",
          "2025-07-14T13:38:49.000000000",
          "2025-07-14T13:39:34.000000000",
          "2025-07-14T13:40:33.000000000",
          "2025-07-14T13:41:50.000000000",
          "2025-07-14T13:42:56.000000000",
          "2025-07-14T13:43:34.000000000",
          "2025-07-14T13:43:50.000000000",
          "2025-07-14T13:44:23.000000000",
          "2025-07-14T13:46:54.000000000",
          "2025-07-14T13:47:23.000000000",
          "2025-07-14T13:50:17.000000000",
          "2025-07-14T13:50:52.000000000",
          "2025-07-14T13:52:07.000000000",
          "2025-07-14T13:53:56.000000000",
          "2025-07-14T13:54:39.000000000",
          "2025-07-14T13:55:59.000000000",
          "2025-07-14T13:56:32.000000000",
          "2025-07-14T13:58:09.000000000",
          "2025-07-14T13:58:20.000000000",
          "2025-07-14T13:58:55.000000000",
          "2025-07-14T14:00:17.000000000",
          "2025-07-14T14:00:47.000000000",
          "2025-07-14T14:03:18.000000000",
          "2025-07-14T14:03:58.000000000",
          "2025-07-14T14:04:34.000000000",
          "2025-07-14T14:05:25.000000000",
          "2025-07-14T14:07:03.000000000",
          "2025-07-14T14:07:21.000000000",
          "2025-07-14T14:08:11.000000000",
          "2025-07-14T14:09:25.000000000",
          "2025-07-14T14:10:19.000000000",
          "2025-07-14T14:10:49.000000000",
          "2025-07-14T14:11:43.000000000",
          "2025-07-14T14:12:15.000000000",
          "2025-07-14T14:13:20.000000000",
          "2025-07-14T14:14:13.000000000",
          "2025-07-14T14:14:32.000000000",
          "2025-07-14T14:15:02.000000000",
          "2025-07-14T14:15:35.000000000",
          "2025-07-14T14:17:40.000000000",
          "2025-07-14T14:18:21.000000000",
          "2025-07-14T14:18:25.000000000",
          "2025-07-14T14:20:39.000000000",
          "2025-07-14T14:21:14.000000000",
          "2025-07-14T14:22:22.000000000",
          "2025-07-14T14:22:32.000000000",
          "2025-07-14T14:22:55.000000000",
          "2025-07-14T14:24:19.000000000",
          "2025-07-14T14:24:56.000000000",
          "2025-07-14T14:25:58.000000000",
          "2025-07-14T14:27:51.000000000",
          "2025-07-14T14:28:30.000000000",
          "2025-07-14T14:28:54.000000000",
          "2025-07-14T14:30:25.000000000",
          "2025-07-14T14:31:24.000000000",
          "2025-07-14T14:32:33.000000000",
          "2025-07-14T14:34:25.000000000",
          "2025-07-14T14:34:45.000000000",
          "2025-07-14T14:34:51.000000000",
          "2025-07-14T14:35:37.000000000",
          "2025-07-14T14:35:58.000000000",
          "2025-07-14T14:36:33.000000000",
          "2025-07-14T14:37:40.000000000",
          "2025-07-14T14:38:53.000000000",
          "2025-07-14T14:39:41.000000000",
          "2025-07-14T14:41:19.000000000",
          "2025-07-14T14:41:53.000000000",
          "2025-07-14T14:42:50.000000000",
          "2025-07-14T14:43:43.000000000",
          "2025-07-14T14:44:06.000000000",
          "2025-07-14T14:44:34.000000000",
          "2025-07-14T14:44:46.000000000",
          "2025-07-14T14:46:16.000000000",
          "2025-07-14T14:47:44.000000000",
          "2025-07-14T14:48:48.000000000",
          "2025-07-14T14:49:28.000000000",
          "2025-07-14T14:50:22.000000000",
          "2025-07-14T14:52:28.000000000",
          "2025-07-14T14:53:58.000000000",
          "2025-07-14T14:55:28.000000000",
          "2025-07-14T14:56:57.000000000",
          "2025-07-14T14:58:15.000000000",
          "2025-07-14T14:58:26.000000000",
          "2025-07-14T14:58:41.000000000",
          "2025-07-14T14:59:23.000000000",
          "2025-07-14T15:01:12.000000000",
          "2025-07-14T15:02:17.000000000",
          "2025-07-14T15:02:59.000000000",
          "2025-07-14T15:03:56.000000000",
          "2025-07-14T15:05:04.000000000",
          "2025-07-14T15:05:11.000000000",
          "2025-07-14T15:05:43.000000000",
          "2025-07-14T15:06:36.000000000",
          "2025-07-14T15:08:38.000000000",
          "2025-07-14T15:09:41.000000000",
          "2025-07-14T15:10:27.000000000",
          "2025-07-14T15:11:05.000000000",
          "2025-07-14T15:12:42.000000000",
          "2025-07-14T15:13:10.000000000",
          "2025-07-14T15:13:30.000000000",
          "2025-07-14T15:14:57.000000000",
          "2025-07-14T15:17:11.000000000",
          "2025-07-14T15:19:19.000000000",
          "2025-07-14T15:20:08.000000000",
          "2025-07-14T15:21:15.000000000",
          "2025-07-14T15:21:46.000000000",
          "2025-07-14T15:23:12.000000000",
          "2025-07-14T15:23:22.000000000",
          "2025-07-14T15:24:11.000000000",
          "2025-07-14T15:24:37.000000000",
          "2025-07-14T15:24:54.000000000",
          "2025-07-14T15:26:27.000000000",
          "2025-07-14T15:26:51.000000000",
          "2025-07-14T15:29:32.000000000",
          "2025-07-14T15:30:28.000000000",
          "2025-07-14T15:31:30.000000000",
          "2025-07-14T15:32:07.000000000",
          "2025-07-14T15:34:07.000000000",
          "2025-07-14T15:34:50.000000000",
          "2025-07-14T15:35:40.000000000",
          "2025-07-14T15:36:43.000000000",
          "2025-07-14T15:38:47.000000000",
          "2025-07-14T15:40:23.000000000",
          "2025-07-14T15:41:01.000000000",
          "2025-07-14T15:42:50.000000000",
          "2025-07-14T15:44:07.000000000",
          "2025-07-14T15:45:19.000000000",
          "2025-07-14T15:46:13.000000000",
          "2025-07-14T15:47:35.000000000",
          "2025-07-14T15:48:08.000000000",
          "2025-07-14T15:49:54.000000000",
          "2025-07-14T15:50:39.000000000",
          "2025-07-14T15:50:43.000000000",
          "2025-07-14T15:52:15.000000000",
          "2025-07-14T15:52:51.000000000",
          "2025-07-14T15:53:31.000000000",
          "2025-07-14T15:54:39.000000000",
          "2025-07-14T15:55:00.000000000",
          "2025-07-14T15:56:34.000000000",
          "2025-07-14T15:57:32.000000000",
          "2025-07-14T15:58:47.000000000",
          "2025-07-14T15:59:49.000000000"
         ]
        }
       ],
       "layout": {
        "showlegend": true,
        "template": {
         "data": {
          "bar": [
           {
            "error_x": {
             "color": "rgb(36,36,36)"
            },
            "error_y": {
             "color": "rgb(36,36,36)"
            },
            "marker": {
             "line": {
              "color": "rgb(234,234,242)",
              "width": 0.5
             },
             "pattern": {
              "fillmode": "overlay",
              "size": 10,
              "solidity": 0.2
             }
            },
            "type": "bar"
           }
          ],
          "barpolar": [
           {
            "marker": {
             "line": {
              "color": "rgb(234,234,242)",
              "width": 0.5
             },
             "pattern": {
              "fillmode": "overlay",
              "size": 10,
              "solidity": 0.2
             }
            },
            "type": "barpolar"
           }
          ],
          "carpet": [
           {
            "aaxis": {
             "endlinecolor": "rgb(36,36,36)",
             "gridcolor": "white",
             "linecolor": "white",
             "minorgridcolor": "white",
             "startlinecolor": "rgb(36,36,36)"
            },
            "baxis": {
             "endlinecolor": "rgb(36,36,36)",
             "gridcolor": "white",
             "linecolor": "white",
             "minorgridcolor": "white",
             "startlinecolor": "rgb(36,36,36)"
            },
            "type": "carpet"
           }
          ],
          "choropleth": [
           {
            "colorbar": {
             "outlinewidth": 0,
             "tickcolor": "rgb(36,36,36)",
             "ticklen": 8,
             "ticks": "outside",
             "tickwidth": 2
            },
            "type": "choropleth"
           }
          ],
          "contour": [
           {
            "colorbar": {
             "outlinewidth": 0,
             "tickcolor": "rgb(36,36,36)",
             "ticklen": 8,
             "ticks": "outside",
             "tickwidth": 2
            },
            "colorscale": [
             [
              0,
              "rgb(2,4,25)"
             ],
             [
              0.06274509803921569,
              "rgb(24,15,41)"
             ],
             [
              0.12549019607843137,
              "rgb(47,23,57)"
             ],
             [
              0.18823529411764706,
              "rgb(71,28,72)"
             ],
             [
              0.25098039215686274,
              "rgb(97,30,82)"
             ],
             [
              0.3137254901960784,
              "rgb(123,30,89)"
             ],
             [
              0.3764705882352941,
              "rgb(150,27,91)"
             ],
             [
              0.4392156862745098,
              "rgb(177,22,88)"
             ],
             [
              0.5019607843137255,
              "rgb(203,26,79)"
             ],
             [
              0.5647058823529412,
              "rgb(223,47,67)"
             ],
             [
              0.6274509803921569,
              "rgb(236,76,61)"
             ],
             [
              0.6901960784313725,
              "rgb(242,107,73)"
             ],
             [
              0.7529411764705882,
              "rgb(244,135,95)"
             ],
             [
              0.8156862745098039,
              "rgb(245,162,122)"
             ],
             [
              0.8784313725490196,
              "rgb(246,188,153)"
             ],
             [
              0.9411764705882353,
              "rgb(247,212,187)"
             ],
             [
              1,
              "rgb(250,234,220)"
             ]
            ],
            "type": "contour"
           }
          ],
          "contourcarpet": [
           {
            "colorbar": {
             "outlinewidth": 0,
             "tickcolor": "rgb(36,36,36)",
             "ticklen": 8,
             "ticks": "outside",
             "tickwidth": 2
            },
            "type": "contourcarpet"
           }
          ],
          "heatmap": [
           {
            "colorbar": {
             "outlinewidth": 0,
             "tickcolor": "rgb(36,36,36)",
             "ticklen": 8,
             "ticks": "outside",
             "tickwidth": 2
            },
            "colorscale": [
             [
              0,
              "rgb(2,4,25)"
             ],
             [
              0.06274509803921569,
              "rgb(24,15,41)"
             ],
             [
              0.12549019607843137,
              "rgb(47,23,57)"
             ],
             [
              0.18823529411764706,
              "rgb(71,28,72)"
             ],
             [
              0.25098039215686274,
              "rgb(97,30,82)"
             ],
             [
              0.3137254901960784,
              "rgb(123,30,89)"
             ],
             [
              0.3764705882352941,
              "rgb(150,27,91)"
             ],
             [
              0.4392156862745098,
              "rgb(177,22,88)"
             ],
             [
              0.5019607843137255,
              "rgb(203,26,79)"
             ],
             [
              0.5647058823529412,
              "rgb(223,47,67)"
             ],
             [
              0.6274509803921569,
              "rgb(236,76,61)"
             ],
             [
              0.6901960784313725,
              "rgb(242,107,73)"
             ],
             [
              0.7529411764705882,
              "rgb(244,135,95)"
             ],
             [
              0.8156862745098039,
              "rgb(245,162,122)"
             ],
             [
              0.8784313725490196,
              "rgb(246,188,153)"
             ],
             [
              0.9411764705882353,
              "rgb(247,212,187)"
             ],
             [
              1,
              "rgb(250,234,220)"
             ]
            ],
            "type": "heatmap"
           }
          ],
          "histogram": [
           {
            "marker": {
             "pattern": {
              "fillmode": "overlay",
              "size": 10,
              "solidity": 0.2
             }
            },
            "type": "histogram"
           }
          ],
          "histogram2d": [
           {
            "colorbar": {
             "outlinewidth": 0,
             "tickcolor": "rgb(36,36,36)",
             "ticklen": 8,
             "ticks": "outside",
             "tickwidth": 2
            },
            "colorscale": [
             [
              0,
              "rgb(2,4,25)"
             ],
             [
              0.06274509803921569,
              "rgb(24,15,41)"
             ],
             [
              0.12549019607843137,
              "rgb(47,23,57)"
             ],
             [
              0.18823529411764706,
              "rgb(71,28,72)"
             ],
             [
              0.25098039215686274,
              "rgb(97,30,82)"
             ],
             [
              0.3137254901960784,
              "rgb(123,30,89)"
             ],
             [
              0.3764705882352941,
              "rgb(150,27,91)"
             ],
             [
              0.4392156862745098,
              "rgb(177,22,88)"
             ],
             [
              0.5019607843137255,
              "rgb(203,26,79)"
             ],
             [
              0.5647058823529412,
              "rgb(223,47,67)"
             ],
             [
              0.6274509803921569,
              "rgb(236,76,61)"
             ],
             [
              0.6901960784313725,
              "rgb(242,107,73)"
             ],
             [
              0.7529411764705882,
              "rgb(244,135,95)"
             ],
             [
              0.8156862745098039,
              "rgb(245,162,122)"
             ],
             [
              0.8784313725490196,
              "rgb(246,188,153)"
             ],
             [
              0.9411764705882353,
              "rgb(247,212,187)"
             ],
             [
              1,
              "rgb(250,234,220)"
             ]
            ],
            "type": "histogram2d"
           }
          ],
          "histogram2dcontour": [
           {
            "colorbar": {
             "outlinewidth": 0,
             "tickcolor": "rgb(36,36,36)",
             "ticklen": 8,
             "ticks": "outside",
             "tickwidth": 2
            },
            "colorscale": [
             [
              0,
              "rgb(2,4,25)"
             ],
             [
              0.06274509803921569,
              "rgb(24,15,41)"
             ],
             [
              0.12549019607843137,
              "rgb(47,23,57)"
             ],
             [
              0.18823529411764706,
              "rgb(71,28,72)"
             ],
             [
              0.25098039215686274,
              "rgb(97,30,82)"
             ],
             [
              0.3137254901960784,
              "rgb(123,30,89)"
             ],
             [
              0.3764705882352941,
              "rgb(150,27,91)"
             ],
             [
              0.4392156862745098,
              "rgb(177,22,88)"
             ],
             [
              0.5019607843137255,
              "rgb(203,26,79)"
             ],
             [
              0.5647058823529412,
              "rgb(223,47,67)"
             ],
             [
              0.6274509803921569,
              "rgb(236,76,61)"
             ],
             [
              0.6901960784313725,
              "rgb(242,107,73)"
             ],
             [
              0.7529411764705882,
              "rgb(244,135,95)"
             ],
             [
              0.8156862745098039,
              "rgb(245,162,122)"
             ],
             [
              0.8784313725490196,
              "rgb(246,188,153)"
             ],
             [
              0.9411764705882353,
              "rgb(247,212,187)"
             ],
             [
              1,
              "rgb(250,234,220)"
             ]
            ],
            "type": "histogram2dcontour"
           }
          ],
          "mesh3d": [
           {
            "colorbar": {
             "outlinewidth": 0,
             "tickcolor": "rgb(36,36,36)",
             "ticklen": 8,
             "ticks": "outside",
             "tickwidth": 2
            },
            "type": "mesh3d"
           }
          ],
          "parcoords": [
           {
            "line": {
             "colorbar": {
              "outlinewidth": 0,
              "tickcolor": "rgb(36,36,36)",
              "ticklen": 8,
              "ticks": "outside",
              "tickwidth": 2
             }
            },
            "type": "parcoords"
           }
          ],
          "pie": [
           {
            "automargin": true,
            "type": "pie"
           }
          ],
          "scatter": [
           {
            "fillpattern": {
             "fillmode": "overlay",
             "size": 10,
             "solidity": 0.2
            },
            "type": "scatter"
           }
          ],
          "scatter3d": [
           {
            "line": {
             "colorbar": {
              "outlinewidth": 0,
              "tickcolor": "rgb(36,36,36)",
              "ticklen": 8,
              "ticks": "outside",
              "tickwidth": 2
             }
            },
            "marker": {
             "colorbar": {
              "outlinewidth": 0,
              "tickcolor": "rgb(36,36,36)",
              "ticklen": 8,
              "ticks": "outside",
              "tickwidth": 2
             }
            },
            "type": "scatter3d"
           }
          ],
          "scattercarpet": [
           {
            "marker": {
             "colorbar": {
              "outlinewidth": 0,
              "tickcolor": "rgb(36,36,36)",
              "ticklen": 8,
              "ticks": "outside",
              "tickwidth": 2
             }
            },
            "type": "scattercarpet"
           }
          ],
          "scattergeo": [
           {
            "marker": {
             "colorbar": {
              "outlinewidth": 0,
              "tickcolor": "rgb(36,36,36)",
              "ticklen": 8,
              "ticks": "outside",
              "tickwidth": 2
             }
            },
            "type": "scattergeo"
           }
          ],
          "scattergl": [
           {
            "marker": {
             "colorbar": {
              "outlinewidth": 0,
              "tickcolor": "rgb(36,36,36)",
              "ticklen": 8,
              "ticks": "outside",
              "tickwidth": 2
             }
            },
            "type": "scattergl"
           }
          ],
          "scattermap": [
           {
            "marker": {
             "colorbar": {
              "outlinewidth": 0,
              "tickcolor": "rgb(36,36,36)",
              "ticklen": 8,
              "ticks": "outside",
              "tickwidth": 2
             }
            },
            "type": "scattermap"
           }
          ],
          "scattermapbox": [
           {
            "marker": {
             "colorbar": {
              "outlinewidth": 0,
              "tickcolor": "rgb(36,36,36)",
              "ticklen": 8,
              "ticks": "outside",
              "tickwidth": 2
             }
            },
            "type": "scattermapbox"
           }
          ],
          "scatterpolar": [
           {
            "marker": {
             "colorbar": {
              "outlinewidth": 0,
              "tickcolor": "rgb(36,36,36)",
              "ticklen": 8,
              "ticks": "outside",
              "tickwidth": 2
             }
            },
            "type": "scatterpolar"
           }
          ],
          "scatterpolargl": [
           {
            "marker": {
             "colorbar": {
              "outlinewidth": 0,
              "tickcolor": "rgb(36,36,36)",
              "ticklen": 8,
              "ticks": "outside",
              "tickwidth": 2
             }
            },
            "type": "scatterpolargl"
           }
          ],
          "scatterternary": [
           {
            "marker": {
             "colorbar": {
              "outlinewidth": 0,
              "tickcolor": "rgb(36,36,36)",
              "ticklen": 8,
              "ticks": "outside",
              "tickwidth": 2
             }
            },
            "type": "scatterternary"
           }
          ],
          "surface": [
           {
            "colorbar": {
             "outlinewidth": 0,
             "tickcolor": "rgb(36,36,36)",
             "ticklen": 8,
             "ticks": "outside",
             "tickwidth": 2
            },
            "colorscale": [
             [
              0,
              "rgb(2,4,25)"
             ],
             [
              0.06274509803921569,
              "rgb(24,15,41)"
             ],
             [
              0.12549019607843137,
              "rgb(47,23,57)"
             ],
             [
              0.18823529411764706,
              "rgb(71,28,72)"
             ],
             [
              0.25098039215686274,
              "rgb(97,30,82)"
             ],
             [
              0.3137254901960784,
              "rgb(123,30,89)"
             ],
             [
              0.3764705882352941,
              "rgb(150,27,91)"
             ],
             [
              0.4392156862745098,
              "rgb(177,22,88)"
             ],
             [
              0.5019607843137255,
              "rgb(203,26,79)"
             ],
             [
              0.5647058823529412,
              "rgb(223,47,67)"
             ],
             [
              0.6274509803921569,
              "rgb(236,76,61)"
             ],
             [
              0.6901960784313725,
              "rgb(242,107,73)"
             ],
             [
              0.7529411764705882,
              "rgb(244,135,95)"
             ],
             [
              0.8156862745098039,
              "rgb(245,162,122)"
             ],
             [
              0.8784313725490196,
              "rgb(246,188,153)"
             ],
             [
              0.9411764705882353,
              "rgb(247,212,187)"
             ],
             [
              1,
              "rgb(250,234,220)"
             ]
            ],
            "type": "surface"
           }
          ],
          "table": [
           {
            "cells": {
             "fill": {
              "color": "rgb(231,231,240)"
             },
             "line": {
              "color": "white"
             }
            },
            "header": {
             "fill": {
              "color": "rgb(183,183,191)"
             },
             "line": {
              "color": "white"
             }
            },
            "type": "table"
           }
          ]
         },
         "layout": {
          "annotationdefaults": {
           "arrowcolor": "rgb(67,103,167)"
          },
          "autotypenumbers": "strict",
          "coloraxis": {
           "colorbar": {
            "outlinewidth": 0,
            "tickcolor": "rgb(36,36,36)",
            "ticklen": 8,
            "ticks": "outside",
            "tickwidth": 2
           }
          },
          "colorscale": {
           "sequential": [
            [
             0,
             "rgb(2,4,25)"
            ],
            [
             0.06274509803921569,
             "rgb(24,15,41)"
            ],
            [
             0.12549019607843137,
             "rgb(47,23,57)"
            ],
            [
             0.18823529411764706,
             "rgb(71,28,72)"
            ],
            [
             0.25098039215686274,
             "rgb(97,30,82)"
            ],
            [
             0.3137254901960784,
             "rgb(123,30,89)"
            ],
            [
             0.3764705882352941,
             "rgb(150,27,91)"
            ],
            [
             0.4392156862745098,
             "rgb(177,22,88)"
            ],
            [
             0.5019607843137255,
             "rgb(203,26,79)"
            ],
            [
             0.5647058823529412,
             "rgb(223,47,67)"
            ],
            [
             0.6274509803921569,
             "rgb(236,76,61)"
            ],
            [
             0.6901960784313725,
             "rgb(242,107,73)"
            ],
            [
             0.7529411764705882,
             "rgb(244,135,95)"
            ],
            [
             0.8156862745098039,
             "rgb(245,162,122)"
            ],
            [
             0.8784313725490196,
             "rgb(246,188,153)"
            ],
            [
             0.9411764705882353,
             "rgb(247,212,187)"
            ],
            [
             1,
             "rgb(250,234,220)"
            ]
           ],
           "sequentialminus": [
            [
             0,
             "rgb(2,4,25)"
            ],
            [
             0.06274509803921569,
             "rgb(24,15,41)"
            ],
            [
             0.12549019607843137,
             "rgb(47,23,57)"
            ],
            [
             0.18823529411764706,
             "rgb(71,28,72)"
            ],
            [
             0.25098039215686274,
             "rgb(97,30,82)"
            ],
            [
             0.3137254901960784,
             "rgb(123,30,89)"
            ],
            [
             0.3764705882352941,
             "rgb(150,27,91)"
            ],
            [
             0.4392156862745098,
             "rgb(177,22,88)"
            ],
            [
             0.5019607843137255,
             "rgb(203,26,79)"
            ],
            [
             0.5647058823529412,
             "rgb(223,47,67)"
            ],
            [
             0.6274509803921569,
             "rgb(236,76,61)"
            ],
            [
             0.6901960784313725,
             "rgb(242,107,73)"
            ],
            [
             0.7529411764705882,
             "rgb(244,135,95)"
            ],
            [
             0.8156862745098039,
             "rgb(245,162,122)"
            ],
            [
             0.8784313725490196,
             "rgb(246,188,153)"
            ],
            [
             0.9411764705882353,
             "rgb(247,212,187)"
            ],
            [
             1,
             "rgb(250,234,220)"
            ]
           ]
          },
          "colorway": [
           "rgb(76,114,176)",
           "rgb(221,132,82)",
           "rgb(85,168,104)",
           "rgb(196,78,82)",
           "rgb(129,114,179)",
           "rgb(147,120,96)",
           "rgb(218,139,195)",
           "rgb(140,140,140)",
           "rgb(204,185,116)",
           "rgb(100,181,205)"
          ],
          "font": {
           "color": "rgb(36,36,36)"
          },
          "geo": {
           "bgcolor": "white",
           "lakecolor": "white",
           "landcolor": "rgb(234,234,242)",
           "showlakes": true,
           "showland": true,
           "subunitcolor": "white"
          },
          "hoverlabel": {
           "align": "left"
          },
          "hovermode": "closest",
          "paper_bgcolor": "white",
          "plot_bgcolor": "rgb(234,234,242)",
          "polar": {
           "angularaxis": {
            "gridcolor": "white",
            "linecolor": "white",
            "showgrid": true,
            "ticks": ""
           },
           "bgcolor": "rgb(234,234,242)",
           "radialaxis": {
            "gridcolor": "white",
            "linecolor": "white",
            "showgrid": true,
            "ticks": ""
           }
          },
          "scene": {
           "xaxis": {
            "backgroundcolor": "rgb(234,234,242)",
            "gridcolor": "white",
            "gridwidth": 2,
            "linecolor": "white",
            "showbackground": true,
            "showgrid": true,
            "ticks": "",
            "zerolinecolor": "white"
           },
           "yaxis": {
            "backgroundcolor": "rgb(234,234,242)",
            "gridcolor": "white",
            "gridwidth": 2,
            "linecolor": "white",
            "showbackground": true,
            "showgrid": true,
            "ticks": "",
            "zerolinecolor": "white"
           },
           "zaxis": {
            "backgroundcolor": "rgb(234,234,242)",
            "gridcolor": "white",
            "gridwidth": 2,
            "linecolor": "white",
            "showbackground": true,
            "showgrid": true,
            "ticks": "",
            "zerolinecolor": "white"
           }
          },
          "shapedefaults": {
           "fillcolor": "rgb(67,103,167)",
           "line": {
            "width": 0
           },
           "opacity": 0.5
          },
          "ternary": {
           "aaxis": {
            "gridcolor": "white",
            "linecolor": "white",
            "showgrid": true,
            "ticks": ""
           },
           "baxis": {
            "gridcolor": "white",
            "linecolor": "white",
            "showgrid": true,
            "ticks": ""
           },
           "bgcolor": "rgb(234,234,242)",
           "caxis": {
            "gridcolor": "white",
            "linecolor": "white",
            "showgrid": true,
            "ticks": ""
           }
          },
          "xaxis": {
           "automargin": true,
           "gridcolor": "white",
           "linecolor": "white",
           "showgrid": true,
           "ticks": "",
           "title": {
            "standoff": 15
           },
           "zerolinecolor": "white"
          },
          "yaxis": {
           "automargin": true,
           "gridcolor": "white",
           "linecolor": "white",
           "showgrid": true,
           "ticks": "",
           "title": {
            "standoff": 15
           },
           "zerolinecolor": "white"
          }
         }
        },
        "title": {
         "text": "Volume Bars"
        },
        "xaxis": {
         "rangeslider": {
          "visible": true
         },
         "title": {
          "text": "Bar"
         }
        },
        "yaxis": {
         "title": {
          "text": "Price (USD)"
         }
        }
       }
      }
     },
     "metadata": {},
     "output_type": "display_data"
    }
   ],
   "source": [
    "fig = go.Figure(data=[go.Candlestick(\n",
    "    x=volume_bars['start_time'],\n",
    "    open=volume_bars['open'],\n",
    "    high=volume_bars['high'],\n",
    "    low=volume_bars['low'],\n",
    "    close=volume_bars['close'],\n",
    "    name='Volume Bars'\n",
    ")])\n",
    "\n",
    "fig.update_layout(\n",
    "    title=f'Volume Bars',\n",
    "    yaxis_title='Price (USD)',\n",
    "    xaxis_title='Bar',\n",
    "    xaxis_rangeslider_visible=True, \n",
    "    template='seaborn', # other options: plotly, plotly_white, plotly_dark, simple_white\n",
    "    showlegend=True,\n",
    ")"
   ]
  },
  {
   "cell_type": "markdown",
   "id": "1d1927c8",
   "metadata": {},
   "source": [
    "## Dollar bars"
   ]
  },
  {
   "cell_type": "markdown",
   "id": "2eb55ff0",
   "metadata": {},
   "source": [
    "### Bar Chart"
   ]
  },
  {
   "cell_type": "code",
   "execution_count": 23,
   "id": "38151e4a",
   "metadata": {},
   "outputs": [
    {
     "data": {
      "application/vnd.plotly.v1+json": {
       "config": {
        "plotlyServerURL": "https://plot.ly"
       },
       "data": [
        {
         "close": {
          "bdata": "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",
          "dtype": "f8"
         },
         "high": {
          "bdata": "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",
          "dtype": "f8"
         },
         "low": {
          "bdata": "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",
          "dtype": "f8"
         },
         "name": "Dollar Bars",
         "open": {
          "bdata": "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",
          "dtype": "f8"
         },
         "type": "candlestick",
         "x": {
          "bdata": "AAABAAIAAwAEAAUABgAHAAgACQAKAAsADAANAA4ADwAQABEAEgATABQAFQAWABcAGAAZABoAGwAcAB0AHgAfACAAIQAiACMAJAAlACYAJwAoACkAKgArACwALQAuAC8AMAAxADIAMwA0ADUANgA3ADgAOQA6ADsAPAA9AD4APwBAAEEAQgBDAEQARQBGAEcASABJAEoASwBMAE0ATgBPAFAAUQBSAFMAVABVAFYAVwBYAFkAWgBbAFwAXQBeAF8AYABhAGIAYwBkAGUAZgBnAGgAaQBqAGsAbABtAG4AbwBwAHEAcgBzAHQAdQB2AHcAeAB5AHoAewB8AH0AfgB/AIAAgQCCAIMAhACFAIYAhwCIAIkAigCLAIwAjQCOAI8AkACRAJIAkwCUAJUAlgCXAJgAmQCaAJsAnACdAJ4AnwCgAKEAogCjAKQApQCmAKcAqACpAKoAqwCsAK0ArgCvALAAsQCyALMAtAC1ALYAtwC4ALkAugC7ALwAvQC+AL8AwADBAMIAwwDEAMUAxgDHAMgAyQDKAMsAzADNAM4AzwDQANEA0gDTANQA1QDWANcA2ADZANoA2wDcAN0A3gDfAOAA4QDiAOMA5ADlAOYA5wDoAOkA6gDrAOwA7QDuAO8A8ADxAPIA8wD0APUA9gD3APgA+QD6APsA/AD9AP4A/wAAAQEBAgEDAQQBBQEGAQcBCAEJAQoBCwEMAQ0BDgEPARABEQESARMBFAEVARYBFwEYARkBGgEbARwBHQEeAR8BIAEhASIBIwEkASUBJgEnASgBKQEqASsBLAEtAS4BLwEwATEBMgEzATQBNQE2ATcBOAE5AToBOwE8AT0BPgE/AUABQQFCAUMBRAFFAUYBRwFIAUkBSgFLAUwBTQFOAU8BUAFRAVIBUwFUAVUBVgFXAVgBWQFaAVsBXAFdAV4BXwFgAWEBYgFjAWQBZQFmAWcBaAFpAWoBawFsAW0BbgFvAXABcQFyAQ==",
          "dtype": "i2"
         }
        }
       ],
       "layout": {
        "showlegend": true,
        "template": {
         "data": {
          "bar": [
           {
            "error_x": {
             "color": "rgb(36,36,36)"
            },
            "error_y": {
             "color": "rgb(36,36,36)"
            },
            "marker": {
             "line": {
              "color": "rgb(234,234,242)",
              "width": 0.5
             },
             "pattern": {
              "fillmode": "overlay",
              "size": 10,
              "solidity": 0.2
             }
            },
            "type": "bar"
           }
          ],
          "barpolar": [
           {
            "marker": {
             "line": {
              "color": "rgb(234,234,242)",
              "width": 0.5
             },
             "pattern": {
              "fillmode": "overlay",
              "size": 10,
              "solidity": 0.2
             }
            },
            "type": "barpolar"
           }
          ],
          "carpet": [
           {
            "aaxis": {
             "endlinecolor": "rgb(36,36,36)",
             "gridcolor": "white",
             "linecolor": "white",
             "minorgridcolor": "white",
             "startlinecolor": "rgb(36,36,36)"
            },
            "baxis": {
             "endlinecolor": "rgb(36,36,36)",
             "gridcolor": "white",
             "linecolor": "white",
             "minorgridcolor": "white",
             "startlinecolor": "rgb(36,36,36)"
            },
            "type": "carpet"
           }
          ],
          "choropleth": [
           {
            "colorbar": {
             "outlinewidth": 0,
             "tickcolor": "rgb(36,36,36)",
             "ticklen": 8,
             "ticks": "outside",
             "tickwidth": 2
            },
            "type": "choropleth"
           }
          ],
          "contour": [
           {
            "colorbar": {
             "outlinewidth": 0,
             "tickcolor": "rgb(36,36,36)",
             "ticklen": 8,
             "ticks": "outside",
             "tickwidth": 2
            },
            "colorscale": [
             [
              0,
              "rgb(2,4,25)"
             ],
             [
              0.06274509803921569,
              "rgb(24,15,41)"
             ],
             [
              0.12549019607843137,
              "rgb(47,23,57)"
             ],
             [
              0.18823529411764706,
              "rgb(71,28,72)"
             ],
             [
              0.25098039215686274,
              "rgb(97,30,82)"
             ],
             [
              0.3137254901960784,
              "rgb(123,30,89)"
             ],
             [
              0.3764705882352941,
              "rgb(150,27,91)"
             ],
             [
              0.4392156862745098,
              "rgb(177,22,88)"
             ],
             [
              0.5019607843137255,
              "rgb(203,26,79)"
             ],
             [
              0.5647058823529412,
              "rgb(223,47,67)"
             ],
             [
              0.6274509803921569,
              "rgb(236,76,61)"
             ],
             [
              0.6901960784313725,
              "rgb(242,107,73)"
             ],
             [
              0.7529411764705882,
              "rgb(244,135,95)"
             ],
             [
              0.8156862745098039,
              "rgb(245,162,122)"
             ],
             [
              0.8784313725490196,
              "rgb(246,188,153)"
             ],
             [
              0.9411764705882353,
              "rgb(247,212,187)"
             ],
             [
              1,
              "rgb(250,234,220)"
             ]
            ],
            "type": "contour"
           }
          ],
          "contourcarpet": [
           {
            "colorbar": {
             "outlinewidth": 0,
             "tickcolor": "rgb(36,36,36)",
             "ticklen": 8,
             "ticks": "outside",
             "tickwidth": 2
            },
            "type": "contourcarpet"
           }
          ],
          "heatmap": [
           {
            "colorbar": {
             "outlinewidth": 0,
             "tickcolor": "rgb(36,36,36)",
             "ticklen": 8,
             "ticks": "outside",
             "tickwidth": 2
            },
            "colorscale": [
             [
              0,
              "rgb(2,4,25)"
             ],
             [
              0.06274509803921569,
              "rgb(24,15,41)"
             ],
             [
              0.12549019607843137,
              "rgb(47,23,57)"
             ],
             [
              0.18823529411764706,
              "rgb(71,28,72)"
             ],
             [
              0.25098039215686274,
              "rgb(97,30,82)"
             ],
             [
              0.3137254901960784,
              "rgb(123,30,89)"
             ],
             [
              0.3764705882352941,
              "rgb(150,27,91)"
             ],
             [
              0.4392156862745098,
              "rgb(177,22,88)"
             ],
             [
              0.5019607843137255,
              "rgb(203,26,79)"
             ],
             [
              0.5647058823529412,
              "rgb(223,47,67)"
             ],
             [
              0.6274509803921569,
              "rgb(236,76,61)"
             ],
             [
              0.6901960784313725,
              "rgb(242,107,73)"
             ],
             [
              0.7529411764705882,
              "rgb(244,135,95)"
             ],
             [
              0.8156862745098039,
              "rgb(245,162,122)"
             ],
             [
              0.8784313725490196,
              "rgb(246,188,153)"
             ],
             [
              0.9411764705882353,
              "rgb(247,212,187)"
             ],
             [
              1,
              "rgb(250,234,220)"
             ]
            ],
            "type": "heatmap"
           }
          ],
          "histogram": [
           {
            "marker": {
             "pattern": {
              "fillmode": "overlay",
              "size": 10,
              "solidity": 0.2
             }
            },
            "type": "histogram"
           }
          ],
          "histogram2d": [
           {
            "colorbar": {
             "outlinewidth": 0,
             "tickcolor": "rgb(36,36,36)",
             "ticklen": 8,
             "ticks": "outside",
             "tickwidth": 2
            },
            "colorscale": [
             [
              0,
              "rgb(2,4,25)"
             ],
             [
              0.06274509803921569,
              "rgb(24,15,41)"
             ],
             [
              0.12549019607843137,
              "rgb(47,23,57)"
             ],
             [
              0.18823529411764706,
              "rgb(71,28,72)"
             ],
             [
              0.25098039215686274,
              "rgb(97,30,82)"
             ],
             [
              0.3137254901960784,
              "rgb(123,30,89)"
             ],
             [
              0.3764705882352941,
              "rgb(150,27,91)"
             ],
             [
              0.4392156862745098,
              "rgb(177,22,88)"
             ],
             [
              0.5019607843137255,
              "rgb(203,26,79)"
             ],
             [
              0.5647058823529412,
              "rgb(223,47,67)"
             ],
             [
              0.6274509803921569,
              "rgb(236,76,61)"
             ],
             [
              0.6901960784313725,
              "rgb(242,107,73)"
             ],
             [
              0.7529411764705882,
              "rgb(244,135,95)"
             ],
             [
              0.8156862745098039,
              "rgb(245,162,122)"
             ],
             [
              0.8784313725490196,
              "rgb(246,188,153)"
             ],
             [
              0.9411764705882353,
              "rgb(247,212,187)"
             ],
             [
              1,
              "rgb(250,234,220)"
             ]
            ],
            "type": "histogram2d"
           }
          ],
          "histogram2dcontour": [
           {
            "colorbar": {
             "outlinewidth": 0,
             "tickcolor": "rgb(36,36,36)",
             "ticklen": 8,
             "ticks": "outside",
             "tickwidth": 2
            },
            "colorscale": [
             [
              0,
              "rgb(2,4,25)"
             ],
             [
              0.06274509803921569,
              "rgb(24,15,41)"
             ],
             [
              0.12549019607843137,
              "rgb(47,23,57)"
             ],
             [
              0.18823529411764706,
              "rgb(71,28,72)"
             ],
             [
              0.25098039215686274,
              "rgb(97,30,82)"
             ],
             [
              0.3137254901960784,
              "rgb(123,30,89)"
             ],
             [
              0.3764705882352941,
              "rgb(150,27,91)"
             ],
             [
              0.4392156862745098,
              "rgb(177,22,88)"
             ],
             [
              0.5019607843137255,
              "rgb(203,26,79)"
             ],
             [
              0.5647058823529412,
              "rgb(223,47,67)"
             ],
             [
              0.6274509803921569,
              "rgb(236,76,61)"
             ],
             [
              0.6901960784313725,
              "rgb(242,107,73)"
             ],
             [
              0.7529411764705882,
              "rgb(244,135,95)"
             ],
             [
              0.8156862745098039,
              "rgb(245,162,122)"
             ],
             [
              0.8784313725490196,
              "rgb(246,188,153)"
             ],
             [
              0.9411764705882353,
              "rgb(247,212,187)"
             ],
             [
              1,
              "rgb(250,234,220)"
             ]
            ],
            "type": "histogram2dcontour"
           }
          ],
          "mesh3d": [
           {
            "colorbar": {
             "outlinewidth": 0,
             "tickcolor": "rgb(36,36,36)",
             "ticklen": 8,
             "ticks": "outside",
             "tickwidth": 2
            },
            "type": "mesh3d"
           }
          ],
          "parcoords": [
           {
            "line": {
             "colorbar": {
              "outlinewidth": 0,
              "tickcolor": "rgb(36,36,36)",
              "ticklen": 8,
              "ticks": "outside",
              "tickwidth": 2
             }
            },
            "type": "parcoords"
           }
          ],
          "pie": [
           {
            "automargin": true,
            "type": "pie"
           }
          ],
          "scatter": [
           {
            "fillpattern": {
             "fillmode": "overlay",
             "size": 10,
             "solidity": 0.2
            },
            "type": "scatter"
           }
          ],
          "scatter3d": [
           {
            "line": {
             "colorbar": {
              "outlinewidth": 0,
              "tickcolor": "rgb(36,36,36)",
              "ticklen": 8,
              "ticks": "outside",
              "tickwidth": 2
             }
            },
            "marker": {
             "colorbar": {
              "outlinewidth": 0,
              "tickcolor": "rgb(36,36,36)",
              "ticklen": 8,
              "ticks": "outside",
              "tickwidth": 2
             }
            },
            "type": "scatter3d"
           }
          ],
          "scattercarpet": [
           {
            "marker": {
             "colorbar": {
              "outlinewidth": 0,
              "tickcolor": "rgb(36,36,36)",
              "ticklen": 8,
              "ticks": "outside",
              "tickwidth": 2
             }
            },
            "type": "scattercarpet"
           }
          ],
          "scattergeo": [
           {
            "marker": {
             "colorbar": {
              "outlinewidth": 0,
              "tickcolor": "rgb(36,36,36)",
              "ticklen": 8,
              "ticks": "outside",
              "tickwidth": 2
             }
            },
            "type": "scattergeo"
           }
          ],
          "scattergl": [
           {
            "marker": {
             "colorbar": {
              "outlinewidth": 0,
              "tickcolor": "rgb(36,36,36)",
              "ticklen": 8,
              "ticks": "outside",
              "tickwidth": 2
             }
            },
            "type": "scattergl"
           }
          ],
          "scattermap": [
           {
            "marker": {
             "colorbar": {
              "outlinewidth": 0,
              "tickcolor": "rgb(36,36,36)",
              "ticklen": 8,
              "ticks": "outside",
              "tickwidth": 2
             }
            },
            "type": "scattermap"
           }
          ],
          "scattermapbox": [
           {
            "marker": {
             "colorbar": {
              "outlinewidth": 0,
              "tickcolor": "rgb(36,36,36)",
              "ticklen": 8,
              "ticks": "outside",
              "tickwidth": 2
             }
            },
            "type": "scattermapbox"
           }
          ],
          "scatterpolar": [
           {
            "marker": {
             "colorbar": {
              "outlinewidth": 0,
              "tickcolor": "rgb(36,36,36)",
              "ticklen": 8,
              "ticks": "outside",
              "tickwidth": 2
             }
            },
            "type": "scatterpolar"
           }
          ],
          "scatterpolargl": [
           {
            "marker": {
             "colorbar": {
              "outlinewidth": 0,
              "tickcolor": "rgb(36,36,36)",
              "ticklen": 8,
              "ticks": "outside",
              "tickwidth": 2
             }
            },
            "type": "scatterpolargl"
           }
          ],
          "scatterternary": [
           {
            "marker": {
             "colorbar": {
              "outlinewidth": 0,
              "tickcolor": "rgb(36,36,36)",
              "ticklen": 8,
              "ticks": "outside",
              "tickwidth": 2
             }
            },
            "type": "scatterternary"
           }
          ],
          "surface": [
           {
            "colorbar": {
             "outlinewidth": 0,
             "tickcolor": "rgb(36,36,36)",
             "ticklen": 8,
             "ticks": "outside",
             "tickwidth": 2
            },
            "colorscale": [
             [
              0,
              "rgb(2,4,25)"
             ],
             [
              0.06274509803921569,
              "rgb(24,15,41)"
             ],
             [
              0.12549019607843137,
              "rgb(47,23,57)"
             ],
             [
              0.18823529411764706,
              "rgb(71,28,72)"
             ],
             [
              0.25098039215686274,
              "rgb(97,30,82)"
             ],
             [
              0.3137254901960784,
              "rgb(123,30,89)"
             ],
             [
              0.3764705882352941,
              "rgb(150,27,91)"
             ],
             [
              0.4392156862745098,
              "rgb(177,22,88)"
             ],
             [
              0.5019607843137255,
              "rgb(203,26,79)"
             ],
             [
              0.5647058823529412,
              "rgb(223,47,67)"
             ],
             [
              0.6274509803921569,
              "rgb(236,76,61)"
             ],
             [
              0.6901960784313725,
              "rgb(242,107,73)"
             ],
             [
              0.7529411764705882,
              "rgb(244,135,95)"
             ],
             [
              0.8156862745098039,
              "rgb(245,162,122)"
             ],
             [
              0.8784313725490196,
              "rgb(246,188,153)"
             ],
             [
              0.9411764705882353,
              "rgb(247,212,187)"
             ],
             [
              1,
              "rgb(250,234,220)"
             ]
            ],
            "type": "surface"
           }
          ],
          "table": [
           {
            "cells": {
             "fill": {
              "color": "rgb(231,231,240)"
             },
             "line": {
              "color": "white"
             }
            },
            "header": {
             "fill": {
              "color": "rgb(183,183,191)"
             },
             "line": {
              "color": "white"
             }
            },
            "type": "table"
           }
          ]
         },
         "layout": {
          "annotationdefaults": {
           "arrowcolor": "rgb(67,103,167)"
          },
          "autotypenumbers": "strict",
          "coloraxis": {
           "colorbar": {
            "outlinewidth": 0,
            "tickcolor": "rgb(36,36,36)",
            "ticklen": 8,
            "ticks": "outside",
            "tickwidth": 2
           }
          },
          "colorscale": {
           "sequential": [
            [
             0,
             "rgb(2,4,25)"
            ],
            [
             0.06274509803921569,
             "rgb(24,15,41)"
            ],
            [
             0.12549019607843137,
             "rgb(47,23,57)"
            ],
            [
             0.18823529411764706,
             "rgb(71,28,72)"
            ],
            [
             0.25098039215686274,
             "rgb(97,30,82)"
            ],
            [
             0.3137254901960784,
             "rgb(123,30,89)"
            ],
            [
             0.3764705882352941,
             "rgb(150,27,91)"
            ],
            [
             0.4392156862745098,
             "rgb(177,22,88)"
            ],
            [
             0.5019607843137255,
             "rgb(203,26,79)"
            ],
            [
             0.5647058823529412,
             "rgb(223,47,67)"
            ],
            [
             0.6274509803921569,
             "rgb(236,76,61)"
            ],
            [
             0.6901960784313725,
             "rgb(242,107,73)"
            ],
            [
             0.7529411764705882,
             "rgb(244,135,95)"
            ],
            [
             0.8156862745098039,
             "rgb(245,162,122)"
            ],
            [
             0.8784313725490196,
             "rgb(246,188,153)"
            ],
            [
             0.9411764705882353,
             "rgb(247,212,187)"
            ],
            [
             1,
             "rgb(250,234,220)"
            ]
           ],
           "sequentialminus": [
            [
             0,
             "rgb(2,4,25)"
            ],
            [
             0.06274509803921569,
             "rgb(24,15,41)"
            ],
            [
             0.12549019607843137,
             "rgb(47,23,57)"
            ],
            [
             0.18823529411764706,
             "rgb(71,28,72)"
            ],
            [
             0.25098039215686274,
             "rgb(97,30,82)"
            ],
            [
             0.3137254901960784,
             "rgb(123,30,89)"
            ],
            [
             0.3764705882352941,
             "rgb(150,27,91)"
            ],
            [
             0.4392156862745098,
             "rgb(177,22,88)"
            ],
            [
             0.5019607843137255,
             "rgb(203,26,79)"
            ],
            [
             0.5647058823529412,
             "rgb(223,47,67)"
            ],
            [
             0.6274509803921569,
             "rgb(236,76,61)"
            ],
            [
             0.6901960784313725,
             "rgb(242,107,73)"
            ],
            [
             0.7529411764705882,
             "rgb(244,135,95)"
            ],
            [
             0.8156862745098039,
             "rgb(245,162,122)"
            ],
            [
             0.8784313725490196,
             "rgb(246,188,153)"
            ],
            [
             0.9411764705882353,
             "rgb(247,212,187)"
            ],
            [
             1,
             "rgb(250,234,220)"
            ]
           ]
          },
          "colorway": [
           "rgb(76,114,176)",
           "rgb(221,132,82)",
           "rgb(85,168,104)",
           "rgb(196,78,82)",
           "rgb(129,114,179)",
           "rgb(147,120,96)",
           "rgb(218,139,195)",
           "rgb(140,140,140)",
           "rgb(204,185,116)",
           "rgb(100,181,205)"
          ],
          "font": {
           "color": "rgb(36,36,36)"
          },
          "geo": {
           "bgcolor": "white",
           "lakecolor": "white",
           "landcolor": "rgb(234,234,242)",
           "showlakes": true,
           "showland": true,
           "subunitcolor": "white"
          },
          "hoverlabel": {
           "align": "left"
          },
          "hovermode": "closest",
          "paper_bgcolor": "white",
          "plot_bgcolor": "rgb(234,234,242)",
          "polar": {
           "angularaxis": {
            "gridcolor": "white",
            "linecolor": "white",
            "showgrid": true,
            "ticks": ""
           },
           "bgcolor": "rgb(234,234,242)",
           "radialaxis": {
            "gridcolor": "white",
            "linecolor": "white",
            "showgrid": true,
            "ticks": ""
           }
          },
          "scene": {
           "xaxis": {
            "backgroundcolor": "rgb(234,234,242)",
            "gridcolor": "white",
            "gridwidth": 2,
            "linecolor": "white",
            "showbackground": true,
            "showgrid": true,
            "ticks": "",
            "zerolinecolor": "white"
           },
           "yaxis": {
            "backgroundcolor": "rgb(234,234,242)",
            "gridcolor": "white",
            "gridwidth": 2,
            "linecolor": "white",
            "showbackground": true,
            "showgrid": true,
            "ticks": "",
            "zerolinecolor": "white"
           },
           "zaxis": {
            "backgroundcolor": "rgb(234,234,242)",
            "gridcolor": "white",
            "gridwidth": 2,
            "linecolor": "white",
            "showbackground": true,
            "showgrid": true,
            "ticks": "",
            "zerolinecolor": "white"
           }
          },
          "shapedefaults": {
           "fillcolor": "rgb(67,103,167)",
           "line": {
            "width": 0
           },
           "opacity": 0.5
          },
          "ternary": {
           "aaxis": {
            "gridcolor": "white",
            "linecolor": "white",
            "showgrid": true,
            "ticks": ""
           },
           "baxis": {
            "gridcolor": "white",
            "linecolor": "white",
            "showgrid": true,
            "ticks": ""
           },
           "bgcolor": "rgb(234,234,242)",
           "caxis": {
            "gridcolor": "white",
            "linecolor": "white",
            "showgrid": true,
            "ticks": ""
           }
          },
          "xaxis": {
           "automargin": true,
           "gridcolor": "white",
           "linecolor": "white",
           "showgrid": true,
           "ticks": "",
           "title": {
            "standoff": 15
           },
           "zerolinecolor": "white"
          },
          "yaxis": {
           "automargin": true,
           "gridcolor": "white",
           "linecolor": "white",
           "showgrid": true,
           "ticks": "",
           "title": {
            "standoff": 15
           },
           "zerolinecolor": "white"
          }
         }
        },
        "title": {
         "text": "Dollar Bars"
        },
        "xaxis": {
         "rangeslider": {
          "visible": true
         },
         "title": {
          "text": "Bar"
         }
        },
        "yaxis": {
         "title": {
          "text": "Price (USD)"
         }
        }
       }
      }
     },
     "metadata": {},
     "output_type": "display_data"
    }
   ],
   "source": [
    "fig = go.Figure(data=[go.Candlestick(\n",
    "    x=dollar_bars.index,\n",
    "    open=dollar_bars['open'],\n",
    "    high=dollar_bars['high'],\n",
    "    low=dollar_bars['low'],\n",
    "    close=dollar_bars['close'],\n",
    "    name='Dollar Bars'\n",
    ")])\n",
    "\n",
    "fig.update_layout(\n",
    "    title=f'Dollar Bars',\n",
    "    yaxis_title='Price (USD)',\n",
    "    xaxis_title='Bar',\n",
    "    xaxis_rangeslider_visible=True, \n",
    "    template='seaborn', # other options: plotly, plotly_white, plotly_dark, simple_white\n",
    "    showlegend=True,\n",
    ")"
   ]
  },
  {
   "cell_type": "markdown",
   "id": "07710a47",
   "metadata": {},
   "source": [
    "### Time Chart"
   ]
  },
  {
   "cell_type": "code",
   "execution_count": 21,
   "id": "a1c9877e",
   "metadata": {},
   "outputs": [
    {
     "data": {
      "application/vnd.plotly.v1+json": {
       "config": {
        "plotlyServerURL": "https://plot.ly"
       },
       "data": [
        {
         "close": {
          "bdata": "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",
          "dtype": "f8"
         },
         "high": {
          "bdata": "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",
          "dtype": "f8"
         },
         "low": {
          "bdata": "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",
          "dtype": "f8"
         },
         "name": "Dollar Bars",
         "open": {
          "bdata": "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",
          "dtype": "f8"
         },
         "type": "candlestick",
         "x": [
          "2025-07-14T09:30:01.000000000",
          "2025-07-14T09:31:31.000000000",
          "2025-07-14T09:33:10.000000000",
          "2025-07-14T09:35:29.000000000",
          "2025-07-14T09:37:25.000000000",
          "2025-07-14T09:39:18.000000000",
          "2025-07-14T09:40:25.000000000",
          "2025-07-14T09:40:51.000000000",
          "2025-07-14T09:42:25.000000000",
          "2025-07-14T09:44:06.000000000",
          "2025-07-14T09:45:48.000000000",
          "2025-07-14T09:46:11.000000000",
          "2025-07-14T09:46:51.000000000",
          "2025-07-14T09:48:10.000000000",
          "2025-07-14T09:49:09.000000000",
          "2025-07-14T09:49:56.000000000",
          "2025-07-14T09:50:41.000000000",
          "2025-07-14T09:54:42.000000000",
          "2025-07-14T09:55:20.000000000",
          "2025-07-14T09:55:24.000000000",
          "2025-07-14T09:56:00.000000000",
          "2025-07-14T09:58:06.000000000",
          "2025-07-14T10:01:21.000000000",
          "2025-07-14T10:01:44.000000000",
          "2025-07-14T10:03:55.000000000",
          "2025-07-14T10:04:17.000000000",
          "2025-07-14T10:05:16.000000000",
          "2025-07-14T10:06:20.000000000",
          "2025-07-14T10:07:16.000000000",
          "2025-07-14T10:08:55.000000000",
          "2025-07-14T10:09:39.000000000",
          "2025-07-14T10:11:00.000000000",
          "2025-07-14T10:12:01.000000000",
          "2025-07-14T10:12:15.000000000",
          "2025-07-14T10:12:45.000000000",
          "2025-07-14T10:13:45.000000000",
          "2025-07-14T10:14:31.000000000",
          "2025-07-14T10:15:09.000000000",
          "2025-07-14T10:15:37.000000000",
          "2025-07-14T10:15:57.000000000",
          "2025-07-14T10:18:28.000000000",
          "2025-07-14T10:20:03.000000000",
          "2025-07-14T10:20:56.000000000",
          "2025-07-14T10:21:31.000000000",
          "2025-07-14T10:22:26.000000000",
          "2025-07-14T10:24:31.000000000",
          "2025-07-14T10:24:52.000000000",
          "2025-07-14T10:26:16.000000000",
          "2025-07-14T10:27:00.000000000",
          "2025-07-14T10:28:50.000000000",
          "2025-07-14T10:30:05.000000000",
          "2025-07-14T10:30:47.000000000",
          "2025-07-14T10:31:16.000000000",
          "2025-07-14T10:32:46.000000000",
          "2025-07-14T10:33:39.000000000",
          "2025-07-14T10:34:12.000000000",
          "2025-07-14T10:34:51.000000000",
          "2025-07-14T10:35:13.000000000",
          "2025-07-14T10:37:55.000000000",
          "2025-07-14T10:38:20.000000000",
          "2025-07-14T10:38:39.000000000",
          "2025-07-14T10:39:43.000000000",
          "2025-07-14T10:40:48.000000000",
          "2025-07-14T10:41:12.000000000",
          "2025-07-14T10:41:49.000000000",
          "2025-07-14T10:42:57.000000000",
          "2025-07-14T10:43:00.000000000",
          "2025-07-14T10:43:22.000000000",
          "2025-07-14T10:44:06.000000000",
          "2025-07-14T10:44:39.000000000",
          "2025-07-14T10:46:43.000000000",
          "2025-07-14T10:47:09.000000000",
          "2025-07-14T10:47:24.000000000",
          "2025-07-14T10:47:34.000000000",
          "2025-07-14T10:52:04.000000000",
          "2025-07-14T10:53:53.000000000",
          "2025-07-14T10:55:02.000000000",
          "2025-07-14T10:55:29.000000000",
          "2025-07-14T10:56:38.000000000",
          "2025-07-14T10:56:40.000000000",
          "2025-07-14T10:57:35.000000000",
          "2025-07-14T10:58:07.000000000",
          "2025-07-14T10:58:17.000000000",
          "2025-07-14T11:01:26.000000000",
          "2025-07-14T11:02:01.000000000",
          "2025-07-14T11:02:43.000000000",
          "2025-07-14T11:03:13.000000000",
          "2025-07-14T11:03:27.000000000",
          "2025-07-14T11:04:17.000000000",
          "2025-07-14T11:05:04.000000000",
          "2025-07-14T11:07:15.000000000",
          "2025-07-14T11:07:45.000000000",
          "2025-07-14T11:07:58.000000000",
          "2025-07-14T11:08:47.000000000",
          "2025-07-14T11:09:01.000000000",
          "2025-07-14T11:10:26.000000000",
          "2025-07-14T11:11:04.000000000",
          "2025-07-14T11:13:16.000000000",
          "2025-07-14T11:13:37.000000000",
          "2025-07-14T11:14:55.000000000",
          "2025-07-14T11:15:31.000000000",
          "2025-07-14T11:18:17.000000000",
          "2025-07-14T11:19:21.000000000",
          "2025-07-14T11:19:58.000000000",
          "2025-07-14T11:20:26.000000000",
          "2025-07-14T11:22:16.000000000",
          "2025-07-14T11:23:22.000000000",
          "2025-07-14T11:23:44.000000000",
          "2025-07-14T11:25:46.000000000",
          "2025-07-14T11:26:58.000000000",
          "2025-07-14T11:27:59.000000000",
          "2025-07-14T11:28:39.000000000",
          "2025-07-14T11:30:12.000000000",
          "2025-07-14T11:30:52.000000000",
          "2025-07-14T11:31:49.000000000",
          "2025-07-14T11:32:03.000000000",
          "2025-07-14T11:33:24.000000000",
          "2025-07-14T11:34:29.000000000",
          "2025-07-14T11:34:51.000000000",
          "2025-07-14T11:36:45.000000000",
          "2025-07-14T11:37:36.000000000",
          "2025-07-14T11:38:26.000000000",
          "2025-07-14T11:39:21.000000000",
          "2025-07-14T11:39:31.000000000",
          "2025-07-14T11:40:12.000000000",
          "2025-07-14T11:42:22.000000000",
          "2025-07-14T11:43:56.000000000",
          "2025-07-14T11:45:10.000000000",
          "2025-07-14T11:45:51.000000000",
          "2025-07-14T11:47:03.000000000",
          "2025-07-14T11:48:47.000000000",
          "2025-07-14T11:50:59.000000000",
          "2025-07-14T11:51:14.000000000",
          "2025-07-14T11:51:55.000000000",
          "2025-07-14T11:53:49.000000000",
          "2025-07-14T11:53:54.000000000",
          "2025-07-14T11:55:26.000000000",
          "2025-07-14T11:56:06.000000000",
          "2025-07-14T11:57:17.000000000",
          "2025-07-14T11:57:49.000000000",
          "2025-07-14T11:58:15.000000000",
          "2025-07-14T11:58:48.000000000",
          "2025-07-14T12:00:26.000000000",
          "2025-07-14T12:01:25.000000000",
          "2025-07-14T12:04:45.000000000",
          "2025-07-14T12:06:19.000000000",
          "2025-07-14T12:08:54.000000000",
          "2025-07-14T12:12:47.000000000",
          "2025-07-14T12:13:48.000000000",
          "2025-07-14T12:14:05.000000000",
          "2025-07-14T12:16:16.000000000",
          "2025-07-14T12:17:25.000000000",
          "2025-07-14T12:18:16.000000000",
          "2025-07-14T12:18:50.000000000",
          "2025-07-14T12:19:31.000000000",
          "2025-07-14T12:19:57.000000000",
          "2025-07-14T12:22:25.000000000",
          "2025-07-14T12:22:36.000000000",
          "2025-07-14T12:23:41.000000000",
          "2025-07-14T12:24:24.000000000",
          "2025-07-14T12:26:35.000000000",
          "2025-07-14T12:27:36.000000000",
          "2025-07-14T12:27:49.000000000",
          "2025-07-14T12:29:21.000000000",
          "2025-07-14T12:29:37.000000000",
          "2025-07-14T12:31:18.000000000",
          "2025-07-14T12:31:40.000000000",
          "2025-07-14T12:32:38.000000000",
          "2025-07-14T12:33:02.000000000",
          "2025-07-14T12:35:21.000000000",
          "2025-07-14T12:36:07.000000000",
          "2025-07-14T12:37:27.000000000",
          "2025-07-14T12:39:20.000000000",
          "2025-07-14T12:39:24.000000000",
          "2025-07-14T12:41:49.000000000",
          "2025-07-14T12:42:50.000000000",
          "2025-07-14T12:43:43.000000000",
          "2025-07-14T12:45:07.000000000",
          "2025-07-14T12:46:03.000000000",
          "2025-07-14T12:46:36.000000000",
          "2025-07-14T12:47:18.000000000",
          "2025-07-14T12:51:12.000000000",
          "2025-07-14T12:51:40.000000000",
          "2025-07-14T12:52:07.000000000",
          "2025-07-14T12:52:31.000000000",
          "2025-07-14T12:53:23.000000000",
          "2025-07-14T12:53:59.000000000",
          "2025-07-14T12:54:15.000000000",
          "2025-07-14T12:54:42.000000000",
          "2025-07-14T12:55:01.000000000",
          "2025-07-14T12:55:33.000000000",
          "2025-07-14T12:56:15.000000000",
          "2025-07-14T12:56:42.000000000",
          "2025-07-14T12:57:11.000000000",
          "2025-07-14T12:59:03.000000000",
          "2025-07-14T13:00:08.000000000",
          "2025-07-14T13:01:03.000000000",
          "2025-07-14T13:01:45.000000000",
          "2025-07-14T13:02:07.000000000",
          "2025-07-14T13:04:50.000000000",
          "2025-07-14T13:05:30.000000000",
          "2025-07-14T13:06:11.000000000",
          "2025-07-14T13:07:00.000000000",
          "2025-07-14T13:07:57.000000000",
          "2025-07-14T13:08:35.000000000",
          "2025-07-14T13:08:44.000000000",
          "2025-07-14T13:09:19.000000000",
          "2025-07-14T13:09:36.000000000",
          "2025-07-14T13:10:46.000000000",
          "2025-07-14T13:12:29.000000000",
          "2025-07-14T13:12:49.000000000",
          "2025-07-14T13:14:11.000000000",
          "2025-07-14T13:15:08.000000000",
          "2025-07-14T13:15:36.000000000",
          "2025-07-14T13:15:57.000000000",
          "2025-07-14T13:17:35.000000000",
          "2025-07-14T13:18:05.000000000",
          "2025-07-14T13:19:26.000000000",
          "2025-07-14T13:20:22.000000000",
          "2025-07-14T13:24:15.000000000",
          "2025-07-14T13:24:38.000000000",
          "2025-07-14T13:24:55.000000000",
          "2025-07-14T13:26:09.000000000",
          "2025-07-14T13:27:52.000000000",
          "2025-07-14T13:29:58.000000000",
          "2025-07-14T13:30:54.000000000",
          "2025-07-14T13:32:58.000000000",
          "2025-07-14T13:37:00.000000000",
          "2025-07-14T13:38:49.000000000",
          "2025-07-14T13:39:34.000000000",
          "2025-07-14T13:39:56.000000000",
          "2025-07-14T13:41:24.000000000",
          "2025-07-14T13:42:06.000000000",
          "2025-07-14T13:43:33.000000000",
          "2025-07-14T13:43:46.000000000",
          "2025-07-14T13:43:52.000000000",
          "2025-07-14T13:44:23.000000000",
          "2025-07-14T13:46:54.000000000",
          "2025-07-14T13:47:23.000000000",
          "2025-07-14T13:50:17.000000000",
          "2025-07-14T13:50:52.000000000",
          "2025-07-14T13:52:07.000000000",
          "2025-07-14T13:53:56.000000000",
          "2025-07-14T13:54:39.000000000",
          "2025-07-14T13:55:59.000000000",
          "2025-07-14T13:56:32.000000000",
          "2025-07-14T13:58:09.000000000",
          "2025-07-14T13:58:20.000000000",
          "2025-07-14T13:58:55.000000000",
          "2025-07-14T14:00:17.000000000",
          "2025-07-14T14:00:47.000000000",
          "2025-07-14T14:03:18.000000000",
          "2025-07-14T14:03:58.000000000",
          "2025-07-14T14:04:34.000000000",
          "2025-07-14T14:05:25.000000000",
          "2025-07-14T14:07:03.000000000",
          "2025-07-14T14:07:21.000000000",
          "2025-07-14T14:08:11.000000000",
          "2025-07-14T14:09:25.000000000",
          "2025-07-14T14:10:19.000000000",
          "2025-07-14T14:10:49.000000000",
          "2025-07-14T14:11:43.000000000",
          "2025-07-14T14:12:15.000000000",
          "2025-07-14T14:13:20.000000000",
          "2025-07-14T14:14:13.000000000",
          "2025-07-14T14:14:32.000000000",
          "2025-07-14T14:15:02.000000000",
          "2025-07-14T14:15:35.000000000",
          "2025-07-14T14:17:40.000000000",
          "2025-07-14T14:18:21.000000000",
          "2025-07-14T14:18:25.000000000",
          "2025-07-14T14:20:39.000000000",
          "2025-07-14T14:21:14.000000000",
          "2025-07-14T14:22:22.000000000",
          "2025-07-14T14:22:32.000000000",
          "2025-07-14T14:22:55.000000000",
          "2025-07-14T14:24:19.000000000",
          "2025-07-14T14:24:56.000000000",
          "2025-07-14T14:25:58.000000000",
          "2025-07-14T14:27:51.000000000",
          "2025-07-14T14:28:30.000000000",
          "2025-07-14T14:28:54.000000000",
          "2025-07-14T14:30:25.000000000",
          "2025-07-14T14:31:24.000000000",
          "2025-07-14T14:32:33.000000000",
          "2025-07-14T14:34:25.000000000",
          "2025-07-14T14:34:45.000000000",
          "2025-07-14T14:34:51.000000000",
          "2025-07-14T14:35:37.000000000",
          "2025-07-14T14:35:58.000000000",
          "2025-07-14T14:36:33.000000000",
          "2025-07-14T14:37:40.000000000",
          "2025-07-14T14:38:53.000000000",
          "2025-07-14T14:39:41.000000000",
          "2025-07-14T14:41:19.000000000",
          "2025-07-14T14:41:53.000000000",
          "2025-07-14T14:42:50.000000000",
          "2025-07-14T14:43:43.000000000",
          "2025-07-14T14:44:06.000000000",
          "2025-07-14T14:44:34.000000000",
          "2025-07-14T14:44:46.000000000",
          "2025-07-14T14:46:16.000000000",
          "2025-07-14T14:47:44.000000000",
          "2025-07-14T14:48:48.000000000",
          "2025-07-14T14:49:28.000000000",
          "2025-07-14T14:50:22.000000000",
          "2025-07-14T14:52:28.000000000",
          "2025-07-14T14:53:58.000000000",
          "2025-07-14T14:55:28.000000000",
          "2025-07-14T14:56:57.000000000",
          "2025-07-14T14:58:15.000000000",
          "2025-07-14T14:58:26.000000000",
          "2025-07-14T14:58:41.000000000",
          "2025-07-14T14:59:23.000000000",
          "2025-07-14T15:01:12.000000000",
          "2025-07-14T15:02:17.000000000",
          "2025-07-14T15:02:59.000000000",
          "2025-07-14T15:03:56.000000000",
          "2025-07-14T15:05:04.000000000",
          "2025-07-14T15:05:11.000000000",
          "2025-07-14T15:05:43.000000000",
          "2025-07-14T15:06:36.000000000",
          "2025-07-14T15:08:38.000000000",
          "2025-07-14T15:09:41.000000000",
          "2025-07-14T15:10:27.000000000",
          "2025-07-14T15:11:05.000000000",
          "2025-07-14T15:12:42.000000000",
          "2025-07-14T15:13:10.000000000",
          "2025-07-14T15:13:30.000000000",
          "2025-07-14T15:14:57.000000000",
          "2025-07-14T15:17:11.000000000",
          "2025-07-14T15:19:19.000000000",
          "2025-07-14T15:20:08.000000000",
          "2025-07-14T15:21:15.000000000",
          "2025-07-14T15:21:46.000000000",
          "2025-07-14T15:23:12.000000000",
          "2025-07-14T15:23:22.000000000",
          "2025-07-14T15:24:11.000000000",
          "2025-07-14T15:24:37.000000000",
          "2025-07-14T15:24:54.000000000",
          "2025-07-14T15:26:27.000000000",
          "2025-07-14T15:26:51.000000000",
          "2025-07-14T15:29:32.000000000",
          "2025-07-14T15:30:28.000000000",
          "2025-07-14T15:31:30.000000000",
          "2025-07-14T15:32:07.000000000",
          "2025-07-14T15:34:07.000000000",
          "2025-07-14T15:34:50.000000000",
          "2025-07-14T15:35:40.000000000",
          "2025-07-14T15:36:43.000000000",
          "2025-07-14T15:38:47.000000000",
          "2025-07-14T15:40:23.000000000",
          "2025-07-14T15:41:01.000000000",
          "2025-07-14T15:42:50.000000000",
          "2025-07-14T15:44:07.000000000",
          "2025-07-14T15:45:19.000000000",
          "2025-07-14T15:46:13.000000000",
          "2025-07-14T15:47:35.000000000",
          "2025-07-14T15:48:08.000000000",
          "2025-07-14T15:49:54.000000000",
          "2025-07-14T15:50:39.000000000",
          "2025-07-14T15:50:43.000000000",
          "2025-07-14T15:52:15.000000000",
          "2025-07-14T15:52:51.000000000",
          "2025-07-14T15:53:31.000000000",
          "2025-07-14T15:54:39.000000000",
          "2025-07-14T15:55:00.000000000",
          "2025-07-14T15:56:34.000000000",
          "2025-07-14T15:57:08.000000000",
          "2025-07-14T15:58:01.000000000",
          "2025-07-14T15:59:36.000000000"
         ]
        }
       ],
       "layout": {
        "showlegend": true,
        "template": {
         "data": {
          "bar": [
           {
            "error_x": {
             "color": "rgb(36,36,36)"
            },
            "error_y": {
             "color": "rgb(36,36,36)"
            },
            "marker": {
             "line": {
              "color": "rgb(234,234,242)",
              "width": 0.5
             },
             "pattern": {
              "fillmode": "overlay",
              "size": 10,
              "solidity": 0.2
             }
            },
            "type": "bar"
           }
          ],
          "barpolar": [
           {
            "marker": {
             "line": {
              "color": "rgb(234,234,242)",
              "width": 0.5
             },
             "pattern": {
              "fillmode": "overlay",
              "size": 10,
              "solidity": 0.2
             }
            },
            "type": "barpolar"
           }
          ],
          "carpet": [
           {
            "aaxis": {
             "endlinecolor": "rgb(36,36,36)",
             "gridcolor": "white",
             "linecolor": "white",
             "minorgridcolor": "white",
             "startlinecolor": "rgb(36,36,36)"
            },
            "baxis": {
             "endlinecolor": "rgb(36,36,36)",
             "gridcolor": "white",
             "linecolor": "white",
             "minorgridcolor": "white",
             "startlinecolor": "rgb(36,36,36)"
            },
            "type": "carpet"
           }
          ],
          "choropleth": [
           {
            "colorbar": {
             "outlinewidth": 0,
             "tickcolor": "rgb(36,36,36)",
             "ticklen": 8,
             "ticks": "outside",
             "tickwidth": 2
            },
            "type": "choropleth"
           }
          ],
          "contour": [
           {
            "colorbar": {
             "outlinewidth": 0,
             "tickcolor": "rgb(36,36,36)",
             "ticklen": 8,
             "ticks": "outside",
             "tickwidth": 2
            },
            "colorscale": [
             [
              0,
              "rgb(2,4,25)"
             ],
             [
              0.06274509803921569,
              "rgb(24,15,41)"
             ],
             [
              0.12549019607843137,
              "rgb(47,23,57)"
             ],
             [
              0.18823529411764706,
              "rgb(71,28,72)"
             ],
             [
              0.25098039215686274,
              "rgb(97,30,82)"
             ],
             [
              0.3137254901960784,
              "rgb(123,30,89)"
             ],
             [
              0.3764705882352941,
              "rgb(150,27,91)"
             ],
             [
              0.4392156862745098,
              "rgb(177,22,88)"
             ],
             [
              0.5019607843137255,
              "rgb(203,26,79)"
             ],
             [
              0.5647058823529412,
              "rgb(223,47,67)"
             ],
             [
              0.6274509803921569,
              "rgb(236,76,61)"
             ],
             [
              0.6901960784313725,
              "rgb(242,107,73)"
             ],
             [
              0.7529411764705882,
              "rgb(244,135,95)"
             ],
             [
              0.8156862745098039,
              "rgb(245,162,122)"
             ],
             [
              0.8784313725490196,
              "rgb(246,188,153)"
             ],
             [
              0.9411764705882353,
              "rgb(247,212,187)"
             ],
             [
              1,
              "rgb(250,234,220)"
             ]
            ],
            "type": "contour"
           }
          ],
          "contourcarpet": [
           {
            "colorbar": {
             "outlinewidth": 0,
             "tickcolor": "rgb(36,36,36)",
             "ticklen": 8,
             "ticks": "outside",
             "tickwidth": 2
            },
            "type": "contourcarpet"
           }
          ],
          "heatmap": [
           {
            "colorbar": {
             "outlinewidth": 0,
             "tickcolor": "rgb(36,36,36)",
             "ticklen": 8,
             "ticks": "outside",
             "tickwidth": 2
            },
            "colorscale": [
             [
              0,
              "rgb(2,4,25)"
             ],
             [
              0.06274509803921569,
              "rgb(24,15,41)"
             ],
             [
              0.12549019607843137,
              "rgb(47,23,57)"
             ],
             [
              0.18823529411764706,
              "rgb(71,28,72)"
             ],
             [
              0.25098039215686274,
              "rgb(97,30,82)"
             ],
             [
              0.3137254901960784,
              "rgb(123,30,89)"
             ],
             [
              0.3764705882352941,
              "rgb(150,27,91)"
             ],
             [
              0.4392156862745098,
              "rgb(177,22,88)"
             ],
             [
              0.5019607843137255,
              "rgb(203,26,79)"
             ],
             [
              0.5647058823529412,
              "rgb(223,47,67)"
             ],
             [
              0.6274509803921569,
              "rgb(236,76,61)"
             ],
             [
              0.6901960784313725,
              "rgb(242,107,73)"
             ],
             [
              0.7529411764705882,
              "rgb(244,135,95)"
             ],
             [
              0.8156862745098039,
              "rgb(245,162,122)"
             ],
             [
              0.8784313725490196,
              "rgb(246,188,153)"
             ],
             [
              0.9411764705882353,
              "rgb(247,212,187)"
             ],
             [
              1,
              "rgb(250,234,220)"
             ]
            ],
            "type": "heatmap"
           }
          ],
          "histogram": [
           {
            "marker": {
             "pattern": {
              "fillmode": "overlay",
              "size": 10,
              "solidity": 0.2
             }
            },
            "type": "histogram"
           }
          ],
          "histogram2d": [
           {
            "colorbar": {
             "outlinewidth": 0,
             "tickcolor": "rgb(36,36,36)",
             "ticklen": 8,
             "ticks": "outside",
             "tickwidth": 2
            },
            "colorscale": [
             [
              0,
              "rgb(2,4,25)"
             ],
             [
              0.06274509803921569,
              "rgb(24,15,41)"
             ],
             [
              0.12549019607843137,
              "rgb(47,23,57)"
             ],
             [
              0.18823529411764706,
              "rgb(71,28,72)"
             ],
             [
              0.25098039215686274,
              "rgb(97,30,82)"
             ],
             [
              0.3137254901960784,
              "rgb(123,30,89)"
             ],
             [
              0.3764705882352941,
              "rgb(150,27,91)"
             ],
             [
              0.4392156862745098,
              "rgb(177,22,88)"
             ],
             [
              0.5019607843137255,
              "rgb(203,26,79)"
             ],
             [
              0.5647058823529412,
              "rgb(223,47,67)"
             ],
             [
              0.6274509803921569,
              "rgb(236,76,61)"
             ],
             [
              0.6901960784313725,
              "rgb(242,107,73)"
             ],
             [
              0.7529411764705882,
              "rgb(244,135,95)"
             ],
             [
              0.8156862745098039,
              "rgb(245,162,122)"
             ],
             [
              0.8784313725490196,
              "rgb(246,188,153)"
             ],
             [
              0.9411764705882353,
              "rgb(247,212,187)"
             ],
             [
              1,
              "rgb(250,234,220)"
             ]
            ],
            "type": "histogram2d"
           }
          ],
          "histogram2dcontour": [
           {
            "colorbar": {
             "outlinewidth": 0,
             "tickcolor": "rgb(36,36,36)",
             "ticklen": 8,
             "ticks": "outside",
             "tickwidth": 2
            },
            "colorscale": [
             [
              0,
              "rgb(2,4,25)"
             ],
             [
              0.06274509803921569,
              "rgb(24,15,41)"
             ],
             [
              0.12549019607843137,
              "rgb(47,23,57)"
             ],
             [
              0.18823529411764706,
              "rgb(71,28,72)"
             ],
             [
              0.25098039215686274,
              "rgb(97,30,82)"
             ],
             [
              0.3137254901960784,
              "rgb(123,30,89)"
             ],
             [
              0.3764705882352941,
              "rgb(150,27,91)"
             ],
             [
              0.4392156862745098,
              "rgb(177,22,88)"
             ],
             [
              0.5019607843137255,
              "rgb(203,26,79)"
             ],
             [
              0.5647058823529412,
              "rgb(223,47,67)"
             ],
             [
              0.6274509803921569,
              "rgb(236,76,61)"
             ],
             [
              0.6901960784313725,
              "rgb(242,107,73)"
             ],
             [
              0.7529411764705882,
              "rgb(244,135,95)"
             ],
             [
              0.8156862745098039,
              "rgb(245,162,122)"
             ],
             [
              0.8784313725490196,
              "rgb(246,188,153)"
             ],
             [
              0.9411764705882353,
              "rgb(247,212,187)"
             ],
             [
              1,
              "rgb(250,234,220)"
             ]
            ],
            "type": "histogram2dcontour"
           }
          ],
          "mesh3d": [
           {
            "colorbar": {
             "outlinewidth": 0,
             "tickcolor": "rgb(36,36,36)",
             "ticklen": 8,
             "ticks": "outside",
             "tickwidth": 2
            },
            "type": "mesh3d"
           }
          ],
          "parcoords": [
           {
            "line": {
             "colorbar": {
              "outlinewidth": 0,
              "tickcolor": "rgb(36,36,36)",
              "ticklen": 8,
              "ticks": "outside",
              "tickwidth": 2
             }
            },
            "type": "parcoords"
           }
          ],
          "pie": [
           {
            "automargin": true,
            "type": "pie"
           }
          ],
          "scatter": [
           {
            "fillpattern": {
             "fillmode": "overlay",
             "size": 10,
             "solidity": 0.2
            },
            "type": "scatter"
           }
          ],
          "scatter3d": [
           {
            "line": {
             "colorbar": {
              "outlinewidth": 0,
              "tickcolor": "rgb(36,36,36)",
              "ticklen": 8,
              "ticks": "outside",
              "tickwidth": 2
             }
            },
            "marker": {
             "colorbar": {
              "outlinewidth": 0,
              "tickcolor": "rgb(36,36,36)",
              "ticklen": 8,
              "ticks": "outside",
              "tickwidth": 2
             }
            },
            "type": "scatter3d"
           }
          ],
          "scattercarpet": [
           {
            "marker": {
             "colorbar": {
              "outlinewidth": 0,
              "tickcolor": "rgb(36,36,36)",
              "ticklen": 8,
              "ticks": "outside",
              "tickwidth": 2
             }
            },
            "type": "scattercarpet"
           }
          ],
          "scattergeo": [
           {
            "marker": {
             "colorbar": {
              "outlinewidth": 0,
              "tickcolor": "rgb(36,36,36)",
              "ticklen": 8,
              "ticks": "outside",
              "tickwidth": 2
             }
            },
            "type": "scattergeo"
           }
          ],
          "scattergl": [
           {
            "marker": {
             "colorbar": {
              "outlinewidth": 0,
              "tickcolor": "rgb(36,36,36)",
              "ticklen": 8,
              "ticks": "outside",
              "tickwidth": 2
             }
            },
            "type": "scattergl"
           }
          ],
          "scattermap": [
           {
            "marker": {
             "colorbar": {
              "outlinewidth": 0,
              "tickcolor": "rgb(36,36,36)",
              "ticklen": 8,
              "ticks": "outside",
              "tickwidth": 2
             }
            },
            "type": "scattermap"
           }
          ],
          "scattermapbox": [
           {
            "marker": {
             "colorbar": {
              "outlinewidth": 0,
              "tickcolor": "rgb(36,36,36)",
              "ticklen": 8,
              "ticks": "outside",
              "tickwidth": 2
             }
            },
            "type": "scattermapbox"
           }
          ],
          "scatterpolar": [
           {
            "marker": {
             "colorbar": {
              "outlinewidth": 0,
              "tickcolor": "rgb(36,36,36)",
              "ticklen": 8,
              "ticks": "outside",
              "tickwidth": 2
             }
            },
            "type": "scatterpolar"
           }
          ],
          "scatterpolargl": [
           {
            "marker": {
             "colorbar": {
              "outlinewidth": 0,
              "tickcolor": "rgb(36,36,36)",
              "ticklen": 8,
              "ticks": "outside",
              "tickwidth": 2
             }
            },
            "type": "scatterpolargl"
           }
          ],
          "scatterternary": [
           {
            "marker": {
             "colorbar": {
              "outlinewidth": 0,
              "tickcolor": "rgb(36,36,36)",
              "ticklen": 8,
              "ticks": "outside",
              "tickwidth": 2
             }
            },
            "type": "scatterternary"
           }
          ],
          "surface": [
           {
            "colorbar": {
             "outlinewidth": 0,
             "tickcolor": "rgb(36,36,36)",
             "ticklen": 8,
             "ticks": "outside",
             "tickwidth": 2
            },
            "colorscale": [
             [
              0,
              "rgb(2,4,25)"
             ],
             [
              0.06274509803921569,
              "rgb(24,15,41)"
             ],
             [
              0.12549019607843137,
              "rgb(47,23,57)"
             ],
             [
              0.18823529411764706,
              "rgb(71,28,72)"
             ],
             [
              0.25098039215686274,
              "rgb(97,30,82)"
             ],
             [
              0.3137254901960784,
              "rgb(123,30,89)"
             ],
             [
              0.3764705882352941,
              "rgb(150,27,91)"
             ],
             [
              0.4392156862745098,
              "rgb(177,22,88)"
             ],
             [
              0.5019607843137255,
              "rgb(203,26,79)"
             ],
             [
              0.5647058823529412,
              "rgb(223,47,67)"
             ],
             [
              0.6274509803921569,
              "rgb(236,76,61)"
             ],
             [
              0.6901960784313725,
              "rgb(242,107,73)"
             ],
             [
              0.7529411764705882,
              "rgb(244,135,95)"
             ],
             [
              0.8156862745098039,
              "rgb(245,162,122)"
             ],
             [
              0.8784313725490196,
              "rgb(246,188,153)"
             ],
             [
              0.9411764705882353,
              "rgb(247,212,187)"
             ],
             [
              1,
              "rgb(250,234,220)"
             ]
            ],
            "type": "surface"
           }
          ],
          "table": [
           {
            "cells": {
             "fill": {
              "color": "rgb(231,231,240)"
             },
             "line": {
              "color": "white"
             }
            },
            "header": {
             "fill": {
              "color": "rgb(183,183,191)"
             },
             "line": {
              "color": "white"
             }
            },
            "type": "table"
           }
          ]
         },
         "layout": {
          "annotationdefaults": {
           "arrowcolor": "rgb(67,103,167)"
          },
          "autotypenumbers": "strict",
          "coloraxis": {
           "colorbar": {
            "outlinewidth": 0,
            "tickcolor": "rgb(36,36,36)",
            "ticklen": 8,
            "ticks": "outside",
            "tickwidth": 2
           }
          },
          "colorscale": {
           "sequential": [
            [
             0,
             "rgb(2,4,25)"
            ],
            [
             0.06274509803921569,
             "rgb(24,15,41)"
            ],
            [
             0.12549019607843137,
             "rgb(47,23,57)"
            ],
            [
             0.18823529411764706,
             "rgb(71,28,72)"
            ],
            [
             0.25098039215686274,
             "rgb(97,30,82)"
            ],
            [
             0.3137254901960784,
             "rgb(123,30,89)"
            ],
            [
             0.3764705882352941,
             "rgb(150,27,91)"
            ],
            [
             0.4392156862745098,
             "rgb(177,22,88)"
            ],
            [
             0.5019607843137255,
             "rgb(203,26,79)"
            ],
            [
             0.5647058823529412,
             "rgb(223,47,67)"
            ],
            [
             0.6274509803921569,
             "rgb(236,76,61)"
            ],
            [
             0.6901960784313725,
             "rgb(242,107,73)"
            ],
            [
             0.7529411764705882,
             "rgb(244,135,95)"
            ],
            [
             0.8156862745098039,
             "rgb(245,162,122)"
            ],
            [
             0.8784313725490196,
             "rgb(246,188,153)"
            ],
            [
             0.9411764705882353,
             "rgb(247,212,187)"
            ],
            [
             1,
             "rgb(250,234,220)"
            ]
           ],
           "sequentialminus": [
            [
             0,
             "rgb(2,4,25)"
            ],
            [
             0.06274509803921569,
             "rgb(24,15,41)"
            ],
            [
             0.12549019607843137,
             "rgb(47,23,57)"
            ],
            [
             0.18823529411764706,
             "rgb(71,28,72)"
            ],
            [
             0.25098039215686274,
             "rgb(97,30,82)"
            ],
            [
             0.3137254901960784,
             "rgb(123,30,89)"
            ],
            [
             0.3764705882352941,
             "rgb(150,27,91)"
            ],
            [
             0.4392156862745098,
             "rgb(177,22,88)"
            ],
            [
             0.5019607843137255,
             "rgb(203,26,79)"
            ],
            [
             0.5647058823529412,
             "rgb(223,47,67)"
            ],
            [
             0.6274509803921569,
             "rgb(236,76,61)"
            ],
            [
             0.6901960784313725,
             "rgb(242,107,73)"
            ],
            [
             0.7529411764705882,
             "rgb(244,135,95)"
            ],
            [
             0.8156862745098039,
             "rgb(245,162,122)"
            ],
            [
             0.8784313725490196,
             "rgb(246,188,153)"
            ],
            [
             0.9411764705882353,
             "rgb(247,212,187)"
            ],
            [
             1,
             "rgb(250,234,220)"
            ]
           ]
          },
          "colorway": [
           "rgb(76,114,176)",
           "rgb(221,132,82)",
           "rgb(85,168,104)",
           "rgb(196,78,82)",
           "rgb(129,114,179)",
           "rgb(147,120,96)",
           "rgb(218,139,195)",
           "rgb(140,140,140)",
           "rgb(204,185,116)",
           "rgb(100,181,205)"
          ],
          "font": {
           "color": "rgb(36,36,36)"
          },
          "geo": {
           "bgcolor": "white",
           "lakecolor": "white",
           "landcolor": "rgb(234,234,242)",
           "showlakes": true,
           "showland": true,
           "subunitcolor": "white"
          },
          "hoverlabel": {
           "align": "left"
          },
          "hovermode": "closest",
          "paper_bgcolor": "white",
          "plot_bgcolor": "rgb(234,234,242)",
          "polar": {
           "angularaxis": {
            "gridcolor": "white",
            "linecolor": "white",
            "showgrid": true,
            "ticks": ""
           },
           "bgcolor": "rgb(234,234,242)",
           "radialaxis": {
            "gridcolor": "white",
            "linecolor": "white",
            "showgrid": true,
            "ticks": ""
           }
          },
          "scene": {
           "xaxis": {
            "backgroundcolor": "rgb(234,234,242)",
            "gridcolor": "white",
            "gridwidth": 2,
            "linecolor": "white",
            "showbackground": true,
            "showgrid": true,
            "ticks": "",
            "zerolinecolor": "white"
           },
           "yaxis": {
            "backgroundcolor": "rgb(234,234,242)",
            "gridcolor": "white",
            "gridwidth": 2,
            "linecolor": "white",
            "showbackground": true,
            "showgrid": true,
            "ticks": "",
            "zerolinecolor": "white"
           },
           "zaxis": {
            "backgroundcolor": "rgb(234,234,242)",
            "gridcolor": "white",
            "gridwidth": 2,
            "linecolor": "white",
            "showbackground": true,
            "showgrid": true,
            "ticks": "",
            "zerolinecolor": "white"
           }
          },
          "shapedefaults": {
           "fillcolor": "rgb(67,103,167)",
           "line": {
            "width": 0
           },
           "opacity": 0.5
          },
          "ternary": {
           "aaxis": {
            "gridcolor": "white",
            "linecolor": "white",
            "showgrid": true,
            "ticks": ""
           },
           "baxis": {
            "gridcolor": "white",
            "linecolor": "white",
            "showgrid": true,
            "ticks": ""
           },
           "bgcolor": "rgb(234,234,242)",
           "caxis": {
            "gridcolor": "white",
            "linecolor": "white",
            "showgrid": true,
            "ticks": ""
           }
          },
          "xaxis": {
           "automargin": true,
           "gridcolor": "white",
           "linecolor": "white",
           "showgrid": true,
           "ticks": "",
           "title": {
            "standoff": 15
           },
           "zerolinecolor": "white"
          },
          "yaxis": {
           "automargin": true,
           "gridcolor": "white",
           "linecolor": "white",
           "showgrid": true,
           "ticks": "",
           "title": {
            "standoff": 15
           },
           "zerolinecolor": "white"
          }
         }
        },
        "title": {
         "text": "Dollar Bars"
        },
        "xaxis": {
         "rangeslider": {
          "visible": true
         },
         "title": {
          "text": "Bar"
         }
        },
        "yaxis": {
         "title": {
          "text": "Price (USD)"
         }
        }
       }
      }
     },
     "metadata": {},
     "output_type": "display_data"
    }
   ],
   "source": [
    "fig = go.Figure(data=[go.Candlestick(\n",
    "    x=dollar_bars['start_time'],\n",
    "    open=dollar_bars['open'],\n",
    "    high=dollar_bars['high'],\n",
    "    low=dollar_bars['low'],\n",
    "    close=dollar_bars['close'],\n",
    "    name='Dollar Bars'\n",
    ")])\n",
    "\n",
    "fig.update_layout(\n",
    "    title=f'Dollar Bars',\n",
    "    yaxis_title='Price (USD)',\n",
    "    xaxis_title='Bar',\n",
    "    xaxis_rangeslider_visible=True, \n",
    "    template='seaborn', # other options: plotly, plotly_white, plotly_dark, simple_white\n",
    "    showlegend=True,\n",
    ")"
   ]
  }
 ],
 "metadata": {
  "kernelspec": {
   "display_name": "Python 3",
   "language": "python",
   "name": "python3"
  },
  "language_info": {
   "codemirror_mode": {
    "name": "ipython",
    "version": 3
   },
   "file_extension": ".py",
   "mimetype": "text/x-python",
   "name": "python",
   "nbconvert_exporter": "python",
   "pygments_lexer": "ipython3",
   "version": "3.13.5"
  }
 },
 "nbformat": 4,
 "nbformat_minor": 5
}

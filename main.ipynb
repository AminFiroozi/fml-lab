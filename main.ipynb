{
 "cells": [
  {
   "cell_type": "markdown",
   "id": "20ab1956",
   "metadata": {},
   "source": [
    "# imports"
   ]
  },
  {
   "cell_type": "code",
   "execution_count": null,
   "id": "83d8dbcc",
   "metadata": {},
   "outputs": [],
   "source": [
    "import tradermade\n",
    "import pandas\n",
    "import numpy\n",
    "import plotly.graph_objects as graph"
   ]
  }
 ],
 "metadata": {
  "language_info": {
   "name": "python"
  }
 },
 "nbformat": 4,
 "nbformat_minor": 5
}

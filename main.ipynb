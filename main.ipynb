{
 "cells": [
  {
   "cell_type": "markdown",
   "id": "21558aa9",
   "metadata": {},
   "source": [
    "# Install dependencies"
   ]
  },
  {
   "cell_type": "code",
   "execution_count": 33,
   "id": "1c38c2ea",
   "metadata": {},
   "outputs": [
    {
     "name": "stdout",
     "output_type": "stream",
     "text": [
      "Note: you may need to restart the kernel to use updated packages.\n"
     ]
    }
   ],
   "source": [
    "%pip install -r requirements.txt -q"
   ]
  },
  {
   "cell_type": "markdown",
   "id": "20ab1956",
   "metadata": {},
   "source": [
    "# imports"
   ]
  },
  {
   "cell_type": "code",
   "execution_count": 34,
   "id": "83d8dbcc",
   "metadata": {},
   "outputs": [],
   "source": [
    "import numpy as np\n",
    "import plotly.graph_objects as go\n",
    "import pandas as pd\n",
    "import random\n",
    "import os\n",
    "from datetime import datetime, timedelta\n",
    "import tradermade\n",
    "import yfinance as yf\n",
    "from typing import List, TypedDict, Union, Dict"
   ]
  },
  {
   "cell_type": "markdown",
   "id": "db0c422a",
   "metadata": {},
   "source": [
    "# Constants"
   ]
  },
  {
   "cell_type": "code",
   "execution_count": 35,
   "id": "4594450c",
   "metadata": {},
   "outputs": [],
   "source": [
    "# TRADERMADE_API_KEY = os.getenv(\"TRADERMADE_API_KEY\")\n",
    "# CURRENCY = \"XAUUSD\"\n",
    "# REQUIRED_COLUMNS = ['Open', 'High', 'Low', 'Close']\n",
    "# TICKER = \"SPY\"\n",
    "# END_DATE = datetime.now()\n",
    "# START_DATE = END_DATE - timedelta(days=365)\n",
    "# INTERVAL = \"1d\"\n",
    "\n",
    "START_TIME = \"2025-07-14 09:30:00\"\n",
    "END_TIME = \"2025-07-14 16:00:00\""
   ]
  },
  {
   "cell_type": "markdown",
   "id": "7ea11c60",
   "metadata": {},
   "source": [
    "# Initialization"
   ]
  },
  {
   "cell_type": "code",
   "execution_count": 36,
   "id": "b2c7820b",
   "metadata": {},
   "outputs": [],
   "source": [
    "# tradermade.set_rest_api_key(TRADERMADE_API_KEY)"
   ]
  },
  {
   "cell_type": "markdown",
   "id": "dd735beb",
   "metadata": {},
   "source": [
    "# Get unstructured data (tick level)"
   ]
  },
  {
   "cell_type": "markdown",
   "id": "45dcaffc",
   "metadata": {},
   "source": [
    "## Get from yfinance (bars)"
   ]
  },
  {
   "cell_type": "code",
   "execution_count": 37,
   "id": "4a4fa175",
   "metadata": {},
   "outputs": [],
   "source": [
    "# df = yf.download(TICKER, start=START_DATE, end=END_DATE, interval=INTERVAL, auto_adjust=False, ignore_tz=True)"
   ]
  },
  {
   "cell_type": "markdown",
   "id": "e31b6c5e",
   "metadata": {},
   "source": [
    "### Preprocessing data"
   ]
  },
  {
   "cell_type": "markdown",
   "id": "1bd2bdf4",
   "metadata": {},
   "source": [
    "#### Handle MultiIndex columns"
   ]
  },
  {
   "cell_type": "code",
   "execution_count": 38,
   "id": "fbfa7ae1",
   "metadata": {},
   "outputs": [],
   "source": [
    "# if isinstance(df.columns, pd.MultiIndex):\n",
    "#     df = df.xs(TICKER, axis=1, level=1)\n",
    "#     df.columns = [col.title() for col in df.columns]\n",
    "# else:\n",
    "#     df.columns = [col.title() for col in df.columns]"
   ]
  },
  {
   "cell_type": "markdown",
   "id": "9eca2cdb",
   "metadata": {},
   "source": [
    "#### Convert required columns to numeric and drop rows with NaN"
   ]
  },
  {
   "cell_type": "code",
   "execution_count": 39,
   "id": "2d346cd4",
   "metadata": {},
   "outputs": [],
   "source": [
    "# df[REQUIRED_COLUMNS] = df[REQUIRED_COLUMNS].apply(pd.to_numeric, errors='coerce')\n",
    "# df = df.dropna(subset=REQUIRED_COLUMNS)\n",
    "# df.index = df.index.tz_localize(None)"
   ]
  },
  {
   "cell_type": "markdown",
   "id": "cc19780a",
   "metadata": {},
   "source": [
    "## Mock data"
   ]
  },
  {
   "cell_type": "code",
   "execution_count": 40,
   "id": "ed4bc5da",
   "metadata": {},
   "outputs": [
    {
     "data": {
      "text/html": [
       "<div>\n",
       "<style scoped>\n",
       "    .dataframe tbody tr th:only-of-type {\n",
       "        vertical-align: middle;\n",
       "    }\n",
       "\n",
       "    .dataframe tbody tr th {\n",
       "        vertical-align: top;\n",
       "    }\n",
       "\n",
       "    .dataframe thead th {\n",
       "        text-align: right;\n",
       "    }\n",
       "</style>\n",
       "<table border=\"1\" class=\"dataframe\">\n",
       "  <thead>\n",
       "    <tr style=\"text-align: right;\">\n",
       "      <th></th>\n",
       "      <th>timestamp</th>\n",
       "      <th>price</th>\n",
       "      <th>volume</th>\n",
       "    </tr>\n",
       "  </thead>\n",
       "  <tbody>\n",
       "    <tr>\n",
       "      <th>999</th>\n",
       "      <td>2025-07-14 15:59:47</td>\n",
       "      <td>101.19</td>\n",
       "      <td>52</td>\n",
       "    </tr>\n",
       "    <tr>\n",
       "      <th>998</th>\n",
       "      <td>2025-07-14 15:59:31</td>\n",
       "      <td>101.25</td>\n",
       "      <td>668</td>\n",
       "    </tr>\n",
       "    <tr>\n",
       "      <th>997</th>\n",
       "      <td>2025-07-14 15:59:23</td>\n",
       "      <td>101.13</td>\n",
       "      <td>606</td>\n",
       "    </tr>\n",
       "    <tr>\n",
       "      <th>996</th>\n",
       "      <td>2025-07-14 15:59:15</td>\n",
       "      <td>101.18</td>\n",
       "      <td>250</td>\n",
       "    </tr>\n",
       "    <tr>\n",
       "      <th>995</th>\n",
       "      <td>2025-07-14 15:59:10</td>\n",
       "      <td>101.11</td>\n",
       "      <td>686</td>\n",
       "    </tr>\n",
       "    <tr>\n",
       "      <th>...</th>\n",
       "      <td>...</td>\n",
       "      <td>...</td>\n",
       "      <td>...</td>\n",
       "    </tr>\n",
       "    <tr>\n",
       "      <th>4</th>\n",
       "      <td>2025-07-14 09:31:59</td>\n",
       "      <td>99.95</td>\n",
       "      <td>259</td>\n",
       "    </tr>\n",
       "    <tr>\n",
       "      <th>3</th>\n",
       "      <td>2025-07-14 09:31:29</td>\n",
       "      <td>99.96</td>\n",
       "      <td>251</td>\n",
       "    </tr>\n",
       "    <tr>\n",
       "      <th>2</th>\n",
       "      <td>2025-07-14 09:30:51</td>\n",
       "      <td>99.93</td>\n",
       "      <td>926</td>\n",
       "    </tr>\n",
       "    <tr>\n",
       "      <th>1</th>\n",
       "      <td>2025-07-14 09:30:43</td>\n",
       "      <td>99.96</td>\n",
       "      <td>250</td>\n",
       "    </tr>\n",
       "    <tr>\n",
       "      <th>0</th>\n",
       "      <td>2025-07-14 09:30:24</td>\n",
       "      <td>100.00</td>\n",
       "      <td>881</td>\n",
       "    </tr>\n",
       "  </tbody>\n",
       "</table>\n",
       "<p>1000 rows × 3 columns</p>\n",
       "</div>"
      ],
      "text/plain": [
       "              timestamp   price  volume\n",
       "999 2025-07-14 15:59:47  101.19      52\n",
       "998 2025-07-14 15:59:31  101.25     668\n",
       "997 2025-07-14 15:59:23  101.13     606\n",
       "996 2025-07-14 15:59:15  101.18     250\n",
       "995 2025-07-14 15:59:10  101.11     686\n",
       "..                  ...     ...     ...\n",
       "4   2025-07-14 09:31:59   99.95     259\n",
       "3   2025-07-14 09:31:29   99.96     251\n",
       "2   2025-07-14 09:30:51   99.93     926\n",
       "1   2025-07-14 09:30:43   99.96     250\n",
       "0   2025-07-14 09:30:24  100.00     881\n",
       "\n",
       "[1000 rows x 3 columns]"
      ]
     },
     "execution_count": 40,
     "metadata": {},
     "output_type": "execute_result"
    }
   ],
   "source": [
    "def generate_random_trade_times(n_trades, start_time, end_time):\n",
    "    start_ts = pd.to_datetime(start_time)\n",
    "    end_ts = pd.to_datetime(end_time)\n",
    "\n",
    "    total_seconds = int((end_ts - start_ts).total_seconds())\n",
    "\n",
    "    # Generate n_trades random seconds within the time range\n",
    "    random_seconds = sorted(random.sample(range(total_seconds), n_trades))\n",
    "    \n",
    "    return [start_ts + timedelta(seconds=s) for s in random_seconds]\n",
    "\n",
    "\n",
    "def generate_mock_trades(num_trades=1000, start_price=100.0, start_time=START_TIME, end_time=END_TIME):\n",
    "    timestamps = generate_random_trade_times(\n",
    "        n_trades=1000,\n",
    "        start_time=start_time,\n",
    "        end_time=end_time\n",
    "    )\n",
    "\n",
    "    prices = [start_price]\n",
    "    for _ in range(1, num_trades):\n",
    "        # Simulate small price changes\n",
    "        change = np.random.normal(loc=0, scale=0.05)\n",
    "        prices.append(round(prices[-1] + change, 2))\n",
    "\n",
    "    volumes = np.random.randint(1, 1000, size=num_trades)\n",
    "\n",
    "    df = pd.DataFrame({\n",
    "        'timestamp': timestamps,\n",
    "        'price': prices,\n",
    "        'volume': volumes\n",
    "    })\n",
    "    return df\n",
    "\n",
    "df = generate_mock_trades()[::-1]\n",
    "df"
   ]
  },
  {
   "cell_type": "markdown",
   "id": "1f9631e8",
   "metadata": {},
   "source": [
    "# Convert unstructured data to bars"
   ]
  },
  {
   "cell_type": "code",
   "execution_count": 41,
   "id": "9c2046bb",
   "metadata": {},
   "outputs": [],
   "source": [
    "def convert_to_bars(trade_groups: List[Dict[str, Union[datetime, float, int]]]) -> pd.DataFrame: # start_time, end_time, open, close, high, low, volume\n",
    "    bars = [\n",
    "        {\n",
    "            \"start_time\": group[\"timestamp\"].iloc[0],\n",
    "            \"end_time\": group[\"timestamp\"].iloc[-1],\n",
    "            \"open\": group[\"price\"].iloc[0],\n",
    "            \"close\": group[\"price\"].iloc[-1],\n",
    "            \"high\": group[\"price\"].max(),\n",
    "            \"low\": group[\"price\"].min(),\n",
    "            \"volume\": group[\"volume\"].sum()\n",
    "        } \n",
    "    for group in trade_groups]\n",
    "    \n",
    "    return pd.DataFrame(bars)"
   ]
  },
  {
   "cell_type": "markdown",
   "id": "8f62a1ba",
   "metadata": {},
   "source": [
    "## Tick bars"
   ]
  },
  {
   "cell_type": "code",
   "execution_count": 42,
   "id": "538cd90c",
   "metadata": {},
   "outputs": [],
   "source": [
    "def generate_tick_bars(unstructured_data, sampling_rate: int=5) -> pd.DataFrame: \n",
    "    unstructured_data = unstructured_data.sort_values(\"timestamp\").reset_index(drop=True)\n",
    "    # Grouping\n",
    "    trade_groups = [unstructured_data.iloc[i:i + sampling_rate] for i in range(0, len(unstructured_data), sampling_rate)]\n",
    "    # Generating bars\n",
    "    return convert_to_bars(trade_groups)\n",
    "\n",
    "tick_bars = generate_tick_bars(df)"
   ]
  },
  {
   "cell_type": "markdown",
   "id": "535c1ce0",
   "metadata": {},
   "source": [
    "## Time bars"
   ]
  },
  {
   "cell_type": "code",
   "execution_count": 43,
   "id": "f223eb0e",
   "metadata": {},
   "outputs": [],
   "source": [
    "def generate_time_bars(unstructured_data, sampling_rate: int=60, fill_empty: bool=False) -> pd.DataFrame:    \n",
    "    unstructured_data_copy = unstructured_data.copy()\n",
    "    unstructured_data_copy[\"timestamp\"] = pd.to_datetime(unstructured_data_copy[\"timestamp\"])\n",
    "    unstructured_data_copy = unstructured_data_copy.set_index(\"timestamp\")\n",
    "    \n",
    "    # Perform resampling and calculate OHLCV\n",
    "    bars = unstructured_data_copy.resample(f\"{sampling_rate}s\").agg({\n",
    "        \"price\": [\"first\", \"max\", \"min\", \"last\"],\n",
    "        \"volume\": \"sum\"\n",
    "    })\n",
    "\n",
    "    bars.columns = [\"open\", \"high\", \"low\", \"close\", \"volume\"]\n",
    "    bars = bars.reset_index()\n",
    "    \n",
    "    bars[\"start_time\"] = bars[\"timestamp\"]\n",
    "    bars[\"end_time\"] = bars[\"start_time\"] + timedelta(seconds=sampling_rate) - timedelta(milliseconds=1)\n",
    "    bars = bars.drop(columns=[\"timestamp\"])\n",
    "\n",
    "    # Fill empty time slots\n",
    "    if fill_empty:\n",
    "        empty_mask = bars[\"close\"].isna()\n",
    "        bars[\"close\"] = bars[\"close\"].ffill()\n",
    "\n",
    "        for col in [\"open\", \"high\", \"low\"]:\n",
    "            bars.loc[empty_mask, col] = bars.loc[empty_mask, \"close\"]\n",
    "\n",
    "        bars[\"volume\"] = bars[\"volume\"].fillna(0)\n",
    "        \n",
    "    # Reorder columns\n",
    "    cols = [\"start_time\", \"end_time\"] + [col for col in bars.columns if col not in [\"start_time\", \"end_time\"]]\n",
    "    bars = bars[cols]\n",
    "    return bars\n",
    "\n",
    "time_bars = generate_time_bars(df)"
   ]
  },
  {
   "cell_type": "markdown",
   "id": "ef42d709",
   "metadata": {},
   "source": [
    "## Volume bars"
   ]
  },
  {
   "cell_type": "code",
   "execution_count": 44,
   "id": "33b6921f",
   "metadata": {},
   "outputs": [],
   "source": [
    "def generate_volume_bars(unstructured_data, sampling_rate: int=1000) -> pd.DataFrame:\n",
    "    unstructured_data = unstructured_data.copy()\n",
    "    unstructured_data[\"timestamp\"] = pd.to_datetime(unstructured_data[\"timestamp\"])\n",
    "    unstructured_data = unstructured_data.sort_values(\"timestamp\").reset_index(drop=True)\n",
    "    \n",
    "    bars = []\n",
    "    cum_volume = 0\n",
    "    bar_trades = []\n",
    "\n",
    "    for idx, row in unstructured_data.iterrows():\n",
    "        bar_trades.append(row)\n",
    "        cum_volume += row[\"volume\"]\n",
    "\n",
    "        if cum_volume >= sampling_rate:\n",
    "            group_df = pd.DataFrame(bar_trades)\n",
    "            group_df = group_df.sort_values(\"timestamp\")\n",
    "\n",
    "            start_time = group_df[\"timestamp\"].iloc[0]\n",
    "            end_time = group_df[\"timestamp\"].iloc[-1]\n",
    "\n",
    "            bars.append({\n",
    "                \"start_time\": start_time,\n",
    "                \"end_time\": end_time,\n",
    "                \"open\": group_df[\"price\"].iloc[0],\n",
    "                \"close\": group_df[\"price\"].iloc[-1],\n",
    "                \"high\": group_df[\"price\"].max(),\n",
    "                \"low\": group_df[\"price\"].min(),\n",
    "                \"volume\": group_df[\"volume\"].sum()\n",
    "            })\n",
    "\n",
    "            # reset for next bar\n",
    "            bar_trades = []\n",
    "            cum_volume = 0\n",
    "\n",
    "    # Handle leftover trades if any (optional)\n",
    "    if bar_trades:\n",
    "        group_df = pd.DataFrame(bar_trades)\n",
    "        group_df = group_df.sort_values(\"timestamp\")\n",
    "\n",
    "        start_time = group_df[\"timestamp\"].iloc[0]\n",
    "        end_time = group_df[\"timestamp\"].iloc[-1]\n",
    "\n",
    "        bars.append({\n",
    "            \"start_time\": start_time,\n",
    "            \"end_time\": end_time,\n",
    "            \"open\": group_df[\"price\"].iloc[0],\n",
    "            \"close\": group_df[\"price\"].iloc[-1],\n",
    "            \"high\": group_df[\"price\"].max(),\n",
    "            \"low\": group_df[\"price\"].min(),\n",
    "            \"volume\": group_df[\"volume\"].sum()\n",
    "        })\n",
    "\n",
    "    bars_df = pd.DataFrame(bars)\n",
    "\n",
    "    # Reorder columns\n",
    "    cols = [\"start_time\", \"end_time\", \"open\", \"close\", \"high\", \"low\", \"volume\"]\n",
    "    bars_df = bars_df[cols]\n",
    "    return bars_df\n",
    "\n",
    "volume_bars = generate_volume_bars(df)"
   ]
  },
  {
   "cell_type": "markdown",
   "id": "bb715fd9",
   "metadata": {},
   "source": [
    "## Dollar bars"
   ]
  },
  {
   "cell_type": "code",
   "execution_count": 45,
   "id": "887af31a",
   "metadata": {},
   "outputs": [],
   "source": [
    "def generate_dollar_bars(unstructured_data, sampling_rate: int=100000) -> pd.DataFrame:\n",
    "    unstructured_data = unstructured_data.copy()\n",
    "    unstructured_data[\"timestamp\"] = pd.to_datetime(unstructured_data[\"timestamp\"])\n",
    "    unstructured_data = unstructured_data.sort_values(\"timestamp\").reset_index(drop=True)\n",
    "    \n",
    "    bars = []\n",
    "    cum_dollars = 0\n",
    "    bar_trades = []\n",
    "\n",
    "    for idx, row in unstructured_data.iterrows():\n",
    "        bar_trades.append(row)\n",
    "        cum_dollars += row[\"volume\"] * row['price']\n",
    "\n",
    "        if cum_dollars >= sampling_rate:\n",
    "            group_df = pd.DataFrame(bar_trades)\n",
    "            group_df = group_df.sort_values(\"timestamp\")\n",
    "\n",
    "            start_time = group_df[\"timestamp\"].iloc[0]\n",
    "            end_time = group_df[\"timestamp\"].iloc[-1]\n",
    "\n",
    "            bars.append({\n",
    "                \"start_time\": start_time,\n",
    "                \"end_time\": end_time,\n",
    "                \"open\": group_df[\"price\"].iloc[0],\n",
    "                \"close\": group_df[\"price\"].iloc[-1],\n",
    "                \"high\": group_df[\"price\"].max(),\n",
    "                \"low\": group_df[\"price\"].min(),\n",
    "                \"volume\": group_df[\"volume\"].sum()\n",
    "            })\n",
    "\n",
    "            # reset for next bar\n",
    "            bar_trades = []\n",
    "            cum_dollars = 0\n",
    "\n",
    "    # Handle leftover trades if any (optional)\n",
    "    if bar_trades:\n",
    "        group_df = pd.DataFrame(bar_trades)\n",
    "        group_df = group_df.sort_values(\"timestamp\")\n",
    "\n",
    "        start_time = group_df[\"timestamp\"].iloc[0]\n",
    "        end_time = group_df[\"timestamp\"].iloc[-1]\n",
    "\n",
    "        bars.append({\n",
    "            \"start_time\": start_time,\n",
    "            \"end_time\": end_time,\n",
    "            \"open\": group_df[\"price\"].iloc[0],\n",
    "            \"close\": group_df[\"price\"].iloc[-1],\n",
    "            \"high\": group_df[\"price\"].max(),\n",
    "            \"low\": group_df[\"price\"].min(),\n",
    "            \"volume\": group_df[\"volume\"].sum()\n",
    "        })\n",
    "\n",
    "    bars_df = pd.DataFrame(bars)\n",
    "\n",
    "    # Reorder columns\n",
    "    cols = [\"start_time\", \"end_time\", \"open\", \"close\", \"high\", \"low\", \"volume\"]\n",
    "    bars_df = bars_df[cols]\n",
    "    return bars_df\n",
    "\n",
    "dollar_bars = generate_dollar_bars(df)"
   ]
  },
  {
   "cell_type": "markdown",
   "id": "6bde251b",
   "metadata": {},
   "source": [
    "# Plot bars"
   ]
  },
  {
   "cell_type": "markdown",
   "id": "13981152",
   "metadata": {},
   "source": [
    "## Tick bars"
   ]
  },
  {
   "cell_type": "markdown",
   "id": "b12d6949",
   "metadata": {},
   "source": [
    "### Bar Chart"
   ]
  },
  {
   "cell_type": "code",
   "execution_count": 46,
   "id": "3b406d7e",
   "metadata": {},
   "outputs": [
    {
     "data": {
      "application/vnd.plotly.v1+json": {
       "config": {
        "plotlyServerURL": "https://plot.ly"
       },
       "data": [
        {
         "close": {
          "bdata": "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",
          "dtype": "f8"
         },
         "high": {
          "bdata": "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",
          "dtype": "f8"
         },
         "low": {
          "bdata": "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",
          "dtype": "f8"
         },
         "name": "Tick Bars",
         "open": {
          "bdata": "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",
          "dtype": "f8"
         },
         "type": "candlestick",
         "x": {
          "bdata": "AAABAAIAAwAEAAUABgAHAAgACQAKAAsADAANAA4ADwAQABEAEgATABQAFQAWABcAGAAZABoAGwAcAB0AHgAfACAAIQAiACMAJAAlACYAJwAoACkAKgArACwALQAuAC8AMAAxADIAMwA0ADUANgA3ADgAOQA6ADsAPAA9AD4APwBAAEEAQgBDAEQARQBGAEcASABJAEoASwBMAE0ATgBPAFAAUQBSAFMAVABVAFYAVwBYAFkAWgBbAFwAXQBeAF8AYABhAGIAYwBkAGUAZgBnAGgAaQBqAGsAbABtAG4AbwBwAHEAcgBzAHQAdQB2AHcAeAB5AHoAewB8AH0AfgB/AIAAgQCCAIMAhACFAIYAhwCIAIkAigCLAIwAjQCOAI8AkACRAJIAkwCUAJUAlgCXAJgAmQCaAJsAnACdAJ4AnwCgAKEAogCjAKQApQCmAKcAqACpAKoAqwCsAK0ArgCvALAAsQCyALMAtAC1ALYAtwC4ALkAugC7ALwAvQC+AL8AwADBAMIAwwDEAMUAxgDHAA==",
          "dtype": "i2"
         }
        }
       ],
       "layout": {
        "showlegend": true,
        "template": {
         "data": {
          "bar": [
           {
            "error_x": {
             "color": "rgb(36,36,36)"
            },
            "error_y": {
             "color": "rgb(36,36,36)"
            },
            "marker": {
             "line": {
              "color": "rgb(234,234,242)",
              "width": 0.5
             },
             "pattern": {
              "fillmode": "overlay",
              "size": 10,
              "solidity": 0.2
             }
            },
            "type": "bar"
           }
          ],
          "barpolar": [
           {
            "marker": {
             "line": {
              "color": "rgb(234,234,242)",
              "width": 0.5
             },
             "pattern": {
              "fillmode": "overlay",
              "size": 10,
              "solidity": 0.2
             }
            },
            "type": "barpolar"
           }
          ],
          "carpet": [
           {
            "aaxis": {
             "endlinecolor": "rgb(36,36,36)",
             "gridcolor": "white",
             "linecolor": "white",
             "minorgridcolor": "white",
             "startlinecolor": "rgb(36,36,36)"
            },
            "baxis": {
             "endlinecolor": "rgb(36,36,36)",
             "gridcolor": "white",
             "linecolor": "white",
             "minorgridcolor": "white",
             "startlinecolor": "rgb(36,36,36)"
            },
            "type": "carpet"
           }
          ],
          "choropleth": [
           {
            "colorbar": {
             "outlinewidth": 0,
             "tickcolor": "rgb(36,36,36)",
             "ticklen": 8,
             "ticks": "outside",
             "tickwidth": 2
            },
            "type": "choropleth"
           }
          ],
          "contour": [
           {
            "colorbar": {
             "outlinewidth": 0,
             "tickcolor": "rgb(36,36,36)",
             "ticklen": 8,
             "ticks": "outside",
             "tickwidth": 2
            },
            "colorscale": [
             [
              0,
              "rgb(2,4,25)"
             ],
             [
              0.06274509803921569,
              "rgb(24,15,41)"
             ],
             [
              0.12549019607843137,
              "rgb(47,23,57)"
             ],
             [
              0.18823529411764706,
              "rgb(71,28,72)"
             ],
             [
              0.25098039215686274,
              "rgb(97,30,82)"
             ],
             [
              0.3137254901960784,
              "rgb(123,30,89)"
             ],
             [
              0.3764705882352941,
              "rgb(150,27,91)"
             ],
             [
              0.4392156862745098,
              "rgb(177,22,88)"
             ],
             [
              0.5019607843137255,
              "rgb(203,26,79)"
             ],
             [
              0.5647058823529412,
              "rgb(223,47,67)"
             ],
             [
              0.6274509803921569,
              "rgb(236,76,61)"
             ],
             [
              0.6901960784313725,
              "rgb(242,107,73)"
             ],
             [
              0.7529411764705882,
              "rgb(244,135,95)"
             ],
             [
              0.8156862745098039,
              "rgb(245,162,122)"
             ],
             [
              0.8784313725490196,
              "rgb(246,188,153)"
             ],
             [
              0.9411764705882353,
              "rgb(247,212,187)"
             ],
             [
              1,
              "rgb(250,234,220)"
             ]
            ],
            "type": "contour"
           }
          ],
          "contourcarpet": [
           {
            "colorbar": {
             "outlinewidth": 0,
             "tickcolor": "rgb(36,36,36)",
             "ticklen": 8,
             "ticks": "outside",
             "tickwidth": 2
            },
            "type": "contourcarpet"
           }
          ],
          "heatmap": [
           {
            "colorbar": {
             "outlinewidth": 0,
             "tickcolor": "rgb(36,36,36)",
             "ticklen": 8,
             "ticks": "outside",
             "tickwidth": 2
            },
            "colorscale": [
             [
              0,
              "rgb(2,4,25)"
             ],
             [
              0.06274509803921569,
              "rgb(24,15,41)"
             ],
             [
              0.12549019607843137,
              "rgb(47,23,57)"
             ],
             [
              0.18823529411764706,
              "rgb(71,28,72)"
             ],
             [
              0.25098039215686274,
              "rgb(97,30,82)"
             ],
             [
              0.3137254901960784,
              "rgb(123,30,89)"
             ],
             [
              0.3764705882352941,
              "rgb(150,27,91)"
             ],
             [
              0.4392156862745098,
              "rgb(177,22,88)"
             ],
             [
              0.5019607843137255,
              "rgb(203,26,79)"
             ],
             [
              0.5647058823529412,
              "rgb(223,47,67)"
             ],
             [
              0.6274509803921569,
              "rgb(236,76,61)"
             ],
             [
              0.6901960784313725,
              "rgb(242,107,73)"
             ],
             [
              0.7529411764705882,
              "rgb(244,135,95)"
             ],
             [
              0.8156862745098039,
              "rgb(245,162,122)"
             ],
             [
              0.8784313725490196,
              "rgb(246,188,153)"
             ],
             [
              0.9411764705882353,
              "rgb(247,212,187)"
             ],
             [
              1,
              "rgb(250,234,220)"
             ]
            ],
            "type": "heatmap"
           }
          ],
          "histogram": [
           {
            "marker": {
             "pattern": {
              "fillmode": "overlay",
              "size": 10,
              "solidity": 0.2
             }
            },
            "type": "histogram"
           }
          ],
          "histogram2d": [
           {
            "colorbar": {
             "outlinewidth": 0,
             "tickcolor": "rgb(36,36,36)",
             "ticklen": 8,
             "ticks": "outside",
             "tickwidth": 2
            },
            "colorscale": [
             [
              0,
              "rgb(2,4,25)"
             ],
             [
              0.06274509803921569,
              "rgb(24,15,41)"
             ],
             [
              0.12549019607843137,
              "rgb(47,23,57)"
             ],
             [
              0.18823529411764706,
              "rgb(71,28,72)"
             ],
             [
              0.25098039215686274,
              "rgb(97,30,82)"
             ],
             [
              0.3137254901960784,
              "rgb(123,30,89)"
             ],
             [
              0.3764705882352941,
              "rgb(150,27,91)"
             ],
             [
              0.4392156862745098,
              "rgb(177,22,88)"
             ],
             [
              0.5019607843137255,
              "rgb(203,26,79)"
             ],
             [
              0.5647058823529412,
              "rgb(223,47,67)"
             ],
             [
              0.6274509803921569,
              "rgb(236,76,61)"
             ],
             [
              0.6901960784313725,
              "rgb(242,107,73)"
             ],
             [
              0.7529411764705882,
              "rgb(244,135,95)"
             ],
             [
              0.8156862745098039,
              "rgb(245,162,122)"
             ],
             [
              0.8784313725490196,
              "rgb(246,188,153)"
             ],
             [
              0.9411764705882353,
              "rgb(247,212,187)"
             ],
             [
              1,
              "rgb(250,234,220)"
             ]
            ],
            "type": "histogram2d"
           }
          ],
          "histogram2dcontour": [
           {
            "colorbar": {
             "outlinewidth": 0,
             "tickcolor": "rgb(36,36,36)",
             "ticklen": 8,
             "ticks": "outside",
             "tickwidth": 2
            },
            "colorscale": [
             [
              0,
              "rgb(2,4,25)"
             ],
             [
              0.06274509803921569,
              "rgb(24,15,41)"
             ],
             [
              0.12549019607843137,
              "rgb(47,23,57)"
             ],
             [
              0.18823529411764706,
              "rgb(71,28,72)"
             ],
             [
              0.25098039215686274,
              "rgb(97,30,82)"
             ],
             [
              0.3137254901960784,
              "rgb(123,30,89)"
             ],
             [
              0.3764705882352941,
              "rgb(150,27,91)"
             ],
             [
              0.4392156862745098,
              "rgb(177,22,88)"
             ],
             [
              0.5019607843137255,
              "rgb(203,26,79)"
             ],
             [
              0.5647058823529412,
              "rgb(223,47,67)"
             ],
             [
              0.6274509803921569,
              "rgb(236,76,61)"
             ],
             [
              0.6901960784313725,
              "rgb(242,107,73)"
             ],
             [
              0.7529411764705882,
              "rgb(244,135,95)"
             ],
             [
              0.8156862745098039,
              "rgb(245,162,122)"
             ],
             [
              0.8784313725490196,
              "rgb(246,188,153)"
             ],
             [
              0.9411764705882353,
              "rgb(247,212,187)"
             ],
             [
              1,
              "rgb(250,234,220)"
             ]
            ],
            "type": "histogram2dcontour"
           }
          ],
          "mesh3d": [
           {
            "colorbar": {
             "outlinewidth": 0,
             "tickcolor": "rgb(36,36,36)",
             "ticklen": 8,
             "ticks": "outside",
             "tickwidth": 2
            },
            "type": "mesh3d"
           }
          ],
          "parcoords": [
           {
            "line": {
             "colorbar": {
              "outlinewidth": 0,
              "tickcolor": "rgb(36,36,36)",
              "ticklen": 8,
              "ticks": "outside",
              "tickwidth": 2
             }
            },
            "type": "parcoords"
           }
          ],
          "pie": [
           {
            "automargin": true,
            "type": "pie"
           }
          ],
          "scatter": [
           {
            "fillpattern": {
             "fillmode": "overlay",
             "size": 10,
             "solidity": 0.2
            },
            "type": "scatter"
           }
          ],
          "scatter3d": [
           {
            "line": {
             "colorbar": {
              "outlinewidth": 0,
              "tickcolor": "rgb(36,36,36)",
              "ticklen": 8,
              "ticks": "outside",
              "tickwidth": 2
             }
            },
            "marker": {
             "colorbar": {
              "outlinewidth": 0,
              "tickcolor": "rgb(36,36,36)",
              "ticklen": 8,
              "ticks": "outside",
              "tickwidth": 2
             }
            },
            "type": "scatter3d"
           }
          ],
          "scattercarpet": [
           {
            "marker": {
             "colorbar": {
              "outlinewidth": 0,
              "tickcolor": "rgb(36,36,36)",
              "ticklen": 8,
              "ticks": "outside",
              "tickwidth": 2
             }
            },
            "type": "scattercarpet"
           }
          ],
          "scattergeo": [
           {
            "marker": {
             "colorbar": {
              "outlinewidth": 0,
              "tickcolor": "rgb(36,36,36)",
              "ticklen": 8,
              "ticks": "outside",
              "tickwidth": 2
             }
            },
            "type": "scattergeo"
           }
          ],
          "scattergl": [
           {
            "marker": {
             "colorbar": {
              "outlinewidth": 0,
              "tickcolor": "rgb(36,36,36)",
              "ticklen": 8,
              "ticks": "outside",
              "tickwidth": 2
             }
            },
            "type": "scattergl"
           }
          ],
          "scattermap": [
           {
            "marker": {
             "colorbar": {
              "outlinewidth": 0,
              "tickcolor": "rgb(36,36,36)",
              "ticklen": 8,
              "ticks": "outside",
              "tickwidth": 2
             }
            },
            "type": "scattermap"
           }
          ],
          "scattermapbox": [
           {
            "marker": {
             "colorbar": {
              "outlinewidth": 0,
              "tickcolor": "rgb(36,36,36)",
              "ticklen": 8,
              "ticks": "outside",
              "tickwidth": 2
             }
            },
            "type": "scattermapbox"
           }
          ],
          "scatterpolar": [
           {
            "marker": {
             "colorbar": {
              "outlinewidth": 0,
              "tickcolor": "rgb(36,36,36)",
              "ticklen": 8,
              "ticks": "outside",
              "tickwidth": 2
             }
            },
            "type": "scatterpolar"
           }
          ],
          "scatterpolargl": [
           {
            "marker": {
             "colorbar": {
              "outlinewidth": 0,
              "tickcolor": "rgb(36,36,36)",
              "ticklen": 8,
              "ticks": "outside",
              "tickwidth": 2
             }
            },
            "type": "scatterpolargl"
           }
          ],
          "scatterternary": [
           {
            "marker": {
             "colorbar": {
              "outlinewidth": 0,
              "tickcolor": "rgb(36,36,36)",
              "ticklen": 8,
              "ticks": "outside",
              "tickwidth": 2
             }
            },
            "type": "scatterternary"
           }
          ],
          "surface": [
           {
            "colorbar": {
             "outlinewidth": 0,
             "tickcolor": "rgb(36,36,36)",
             "ticklen": 8,
             "ticks": "outside",
             "tickwidth": 2
            },
            "colorscale": [
             [
              0,
              "rgb(2,4,25)"
             ],
             [
              0.06274509803921569,
              "rgb(24,15,41)"
             ],
             [
              0.12549019607843137,
              "rgb(47,23,57)"
             ],
             [
              0.18823529411764706,
              "rgb(71,28,72)"
             ],
             [
              0.25098039215686274,
              "rgb(97,30,82)"
             ],
             [
              0.3137254901960784,
              "rgb(123,30,89)"
             ],
             [
              0.3764705882352941,
              "rgb(150,27,91)"
             ],
             [
              0.4392156862745098,
              "rgb(177,22,88)"
             ],
             [
              0.5019607843137255,
              "rgb(203,26,79)"
             ],
             [
              0.5647058823529412,
              "rgb(223,47,67)"
             ],
             [
              0.6274509803921569,
              "rgb(236,76,61)"
             ],
             [
              0.6901960784313725,
              "rgb(242,107,73)"
             ],
             [
              0.7529411764705882,
              "rgb(244,135,95)"
             ],
             [
              0.8156862745098039,
              "rgb(245,162,122)"
             ],
             [
              0.8784313725490196,
              "rgb(246,188,153)"
             ],
             [
              0.9411764705882353,
              "rgb(247,212,187)"
             ],
             [
              1,
              "rgb(250,234,220)"
             ]
            ],
            "type": "surface"
           }
          ],
          "table": [
           {
            "cells": {
             "fill": {
              "color": "rgb(231,231,240)"
             },
             "line": {
              "color": "white"
             }
            },
            "header": {
             "fill": {
              "color": "rgb(183,183,191)"
             },
             "line": {
              "color": "white"
             }
            },
            "type": "table"
           }
          ]
         },
         "layout": {
          "annotationdefaults": {
           "arrowcolor": "rgb(67,103,167)"
          },
          "autotypenumbers": "strict",
          "coloraxis": {
           "colorbar": {
            "outlinewidth": 0,
            "tickcolor": "rgb(36,36,36)",
            "ticklen": 8,
            "ticks": "outside",
            "tickwidth": 2
           }
          },
          "colorscale": {
           "sequential": [
            [
             0,
             "rgb(2,4,25)"
            ],
            [
             0.06274509803921569,
             "rgb(24,15,41)"
            ],
            [
             0.12549019607843137,
             "rgb(47,23,57)"
            ],
            [
             0.18823529411764706,
             "rgb(71,28,72)"
            ],
            [
             0.25098039215686274,
             "rgb(97,30,82)"
            ],
            [
             0.3137254901960784,
             "rgb(123,30,89)"
            ],
            [
             0.3764705882352941,
             "rgb(150,27,91)"
            ],
            [
             0.4392156862745098,
             "rgb(177,22,88)"
            ],
            [
             0.5019607843137255,
             "rgb(203,26,79)"
            ],
            [
             0.5647058823529412,
             "rgb(223,47,67)"
            ],
            [
             0.6274509803921569,
             "rgb(236,76,61)"
            ],
            [
             0.6901960784313725,
             "rgb(242,107,73)"
            ],
            [
             0.7529411764705882,
             "rgb(244,135,95)"
            ],
            [
             0.8156862745098039,
             "rgb(245,162,122)"
            ],
            [
             0.8784313725490196,
             "rgb(246,188,153)"
            ],
            [
             0.9411764705882353,
             "rgb(247,212,187)"
            ],
            [
             1,
             "rgb(250,234,220)"
            ]
           ],
           "sequentialminus": [
            [
             0,
             "rgb(2,4,25)"
            ],
            [
             0.06274509803921569,
             "rgb(24,15,41)"
            ],
            [
             0.12549019607843137,
             "rgb(47,23,57)"
            ],
            [
             0.18823529411764706,
             "rgb(71,28,72)"
            ],
            [
             0.25098039215686274,
             "rgb(97,30,82)"
            ],
            [
             0.3137254901960784,
             "rgb(123,30,89)"
            ],
            [
             0.3764705882352941,
             "rgb(150,27,91)"
            ],
            [
             0.4392156862745098,
             "rgb(177,22,88)"
            ],
            [
             0.5019607843137255,
             "rgb(203,26,79)"
            ],
            [
             0.5647058823529412,
             "rgb(223,47,67)"
            ],
            [
             0.6274509803921569,
             "rgb(236,76,61)"
            ],
            [
             0.6901960784313725,
             "rgb(242,107,73)"
            ],
            [
             0.7529411764705882,
             "rgb(244,135,95)"
            ],
            [
             0.8156862745098039,
             "rgb(245,162,122)"
            ],
            [
             0.8784313725490196,
             "rgb(246,188,153)"
            ],
            [
             0.9411764705882353,
             "rgb(247,212,187)"
            ],
            [
             1,
             "rgb(250,234,220)"
            ]
           ]
          },
          "colorway": [
           "rgb(76,114,176)",
           "rgb(221,132,82)",
           "rgb(85,168,104)",
           "rgb(196,78,82)",
           "rgb(129,114,179)",
           "rgb(147,120,96)",
           "rgb(218,139,195)",
           "rgb(140,140,140)",
           "rgb(204,185,116)",
           "rgb(100,181,205)"
          ],
          "font": {
           "color": "rgb(36,36,36)"
          },
          "geo": {
           "bgcolor": "white",
           "lakecolor": "white",
           "landcolor": "rgb(234,234,242)",
           "showlakes": true,
           "showland": true,
           "subunitcolor": "white"
          },
          "hoverlabel": {
           "align": "left"
          },
          "hovermode": "closest",
          "paper_bgcolor": "white",
          "plot_bgcolor": "rgb(234,234,242)",
          "polar": {
           "angularaxis": {
            "gridcolor": "white",
            "linecolor": "white",
            "showgrid": true,
            "ticks": ""
           },
           "bgcolor": "rgb(234,234,242)",
           "radialaxis": {
            "gridcolor": "white",
            "linecolor": "white",
            "showgrid": true,
            "ticks": ""
           }
          },
          "scene": {
           "xaxis": {
            "backgroundcolor": "rgb(234,234,242)",
            "gridcolor": "white",
            "gridwidth": 2,
            "linecolor": "white",
            "showbackground": true,
            "showgrid": true,
            "ticks": "",
            "zerolinecolor": "white"
           },
           "yaxis": {
            "backgroundcolor": "rgb(234,234,242)",
            "gridcolor": "white",
            "gridwidth": 2,
            "linecolor": "white",
            "showbackground": true,
            "showgrid": true,
            "ticks": "",
            "zerolinecolor": "white"
           },
           "zaxis": {
            "backgroundcolor": "rgb(234,234,242)",
            "gridcolor": "white",
            "gridwidth": 2,
            "linecolor": "white",
            "showbackground": true,
            "showgrid": true,
            "ticks": "",
            "zerolinecolor": "white"
           }
          },
          "shapedefaults": {
           "fillcolor": "rgb(67,103,167)",
           "line": {
            "width": 0
           },
           "opacity": 0.5
          },
          "ternary": {
           "aaxis": {
            "gridcolor": "white",
            "linecolor": "white",
            "showgrid": true,
            "ticks": ""
           },
           "baxis": {
            "gridcolor": "white",
            "linecolor": "white",
            "showgrid": true,
            "ticks": ""
           },
           "bgcolor": "rgb(234,234,242)",
           "caxis": {
            "gridcolor": "white",
            "linecolor": "white",
            "showgrid": true,
            "ticks": ""
           }
          },
          "xaxis": {
           "automargin": true,
           "gridcolor": "white",
           "linecolor": "white",
           "showgrid": true,
           "ticks": "",
           "title": {
            "standoff": 15
           },
           "zerolinecolor": "white"
          },
          "yaxis": {
           "automargin": true,
           "gridcolor": "white",
           "linecolor": "white",
           "showgrid": true,
           "ticks": "",
           "title": {
            "standoff": 15
           },
           "zerolinecolor": "white"
          }
         }
        },
        "title": {
         "text": "Tick Bars"
        },
        "xaxis": {
         "rangeslider": {
          "visible": true
         },
         "title": {
          "text": "Bar"
         }
        },
        "yaxis": {
         "title": {
          "text": "Price (USD)"
         }
        }
       }
      }
     },
     "metadata": {},
     "output_type": "display_data"
    }
   ],
   "source": [
    "fig = go.Figure(data=[go.Candlestick(\n",
    "    x=tick_bars.index,\n",
    "    open=tick_bars['open'],\n",
    "    high=tick_bars['high'],\n",
    "    low=tick_bars['low'],\n",
    "    close=tick_bars['close'],\n",
    "    name='Tick Bars'\n",
    ")])\n",
    "\n",
    "fig.update_layout(\n",
    "    title=f'Tick Bars',\n",
    "    yaxis_title='Price (USD)',\n",
    "    xaxis_title='Bar',\n",
    "    xaxis_rangeslider_visible=True, \n",
    "    template='seaborn', # other options: plotly, plotly_white, plotly_dark, simple_white\n",
    "    showlegend=True,\n",
    ")"
   ]
  },
  {
   "cell_type": "markdown",
   "id": "faa6ebe9",
   "metadata": {},
   "source": [
    "### Time chart"
   ]
  },
  {
   "cell_type": "code",
   "execution_count": 47,
   "id": "7c18e8e9",
   "metadata": {},
   "outputs": [
    {
     "data": {
      "application/vnd.plotly.v1+json": {
       "config": {
        "plotlyServerURL": "https://plot.ly"
       },
       "data": [
        {
         "close": {
          "bdata": "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",
          "dtype": "f8"
         },
         "high": {
          "bdata": "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",
          "dtype": "f8"
         },
         "low": {
          "bdata": "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",
          "dtype": "f8"
         },
         "name": "Tick Bars",
         "open": {
          "bdata": "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",
          "dtype": "f8"
         },
         "type": "candlestick",
         "x": [
          "2025-07-14T09:30:24.000000000",
          "2025-07-14T09:32:13.000000000",
          "2025-07-14T09:35:06.000000000",
          "2025-07-14T09:36:20.000000000",
          "2025-07-14T09:40:27.000000000",
          "2025-07-14T09:42:04.000000000",
          "2025-07-14T09:44:17.000000000",
          "2025-07-14T09:45:40.000000000",
          "2025-07-14T09:47:31.000000000",
          "2025-07-14T09:49:43.000000000",
          "2025-07-14T09:51:46.000000000",
          "2025-07-14T09:53:44.000000000",
          "2025-07-14T09:55:16.000000000",
          "2025-07-14T09:58:11.000000000",
          "2025-07-14T10:01:16.000000000",
          "2025-07-14T10:03:29.000000000",
          "2025-07-14T10:05:34.000000000",
          "2025-07-14T10:06:35.000000000",
          "2025-07-14T10:08:07.000000000",
          "2025-07-14T10:09:24.000000000",
          "2025-07-14T10:11:29.000000000",
          "2025-07-14T10:14:09.000000000",
          "2025-07-14T10:15:10.000000000",
          "2025-07-14T10:16:31.000000000",
          "2025-07-14T10:18:08.000000000",
          "2025-07-14T10:20:01.000000000",
          "2025-07-14T10:21:18.000000000",
          "2025-07-14T10:22:27.000000000",
          "2025-07-14T10:24:02.000000000",
          "2025-07-14T10:27:14.000000000",
          "2025-07-14T10:30:06.000000000",
          "2025-07-14T10:31:26.000000000",
          "2025-07-14T10:32:21.000000000",
          "2025-07-14T10:33:21.000000000",
          "2025-07-14T10:36:17.000000000",
          "2025-07-14T10:38:47.000000000",
          "2025-07-14T10:40:46.000000000",
          "2025-07-14T10:42:47.000000000",
          "2025-07-14T10:45:37.000000000",
          "2025-07-14T10:47:28.000000000",
          "2025-07-14T10:51:53.000000000",
          "2025-07-14T10:54:45.000000000",
          "2025-07-14T10:57:02.000000000",
          "2025-07-14T10:58:49.000000000",
          "2025-07-14T11:01:31.000000000",
          "2025-07-14T11:04:54.000000000",
          "2025-07-14T11:05:53.000000000",
          "2025-07-14T11:10:17.000000000",
          "2025-07-14T11:12:07.000000000",
          "2025-07-14T11:13:02.000000000",
          "2025-07-14T11:15:24.000000000",
          "2025-07-14T11:16:24.000000000",
          "2025-07-14T11:17:26.000000000",
          "2025-07-14T11:18:12.000000000",
          "2025-07-14T11:20:45.000000000",
          "2025-07-14T11:21:55.000000000",
          "2025-07-14T11:23:51.000000000",
          "2025-07-14T11:26:00.000000000",
          "2025-07-14T11:29:24.000000000",
          "2025-07-14T11:32:19.000000000",
          "2025-07-14T11:34:43.000000000",
          "2025-07-14T11:36:58.000000000",
          "2025-07-14T11:39:27.000000000",
          "2025-07-14T11:40:15.000000000",
          "2025-07-14T11:42:42.000000000",
          "2025-07-14T11:44:46.000000000",
          "2025-07-14T11:47:27.000000000",
          "2025-07-14T11:48:59.000000000",
          "2025-07-14T11:50:17.000000000",
          "2025-07-14T11:54:03.000000000",
          "2025-07-14T11:55:52.000000000",
          "2025-07-14T11:57:10.000000000",
          "2025-07-14T11:58:11.000000000",
          "2025-07-14T11:59:37.000000000",
          "2025-07-14T12:02:07.000000000",
          "2025-07-14T12:05:31.000000000",
          "2025-07-14T12:07:42.000000000",
          "2025-07-14T12:09:07.000000000",
          "2025-07-14T12:10:29.000000000",
          "2025-07-14T12:14:26.000000000",
          "2025-07-14T12:15:52.000000000",
          "2025-07-14T12:18:19.000000000",
          "2025-07-14T12:20:57.000000000",
          "2025-07-14T12:22:05.000000000",
          "2025-07-14T12:24:56.000000000",
          "2025-07-14T12:26:57.000000000",
          "2025-07-14T12:29:21.000000000",
          "2025-07-14T12:30:39.000000000",
          "2025-07-14T12:32:54.000000000",
          "2025-07-14T12:33:23.000000000",
          "2025-07-14T12:34:34.000000000",
          "2025-07-14T12:35:55.000000000",
          "2025-07-14T12:38:36.000000000",
          "2025-07-14T12:40:46.000000000",
          "2025-07-14T12:42:03.000000000",
          "2025-07-14T12:44:19.000000000",
          "2025-07-14T12:45:03.000000000",
          "2025-07-14T12:46:17.000000000",
          "2025-07-14T12:47:21.000000000",
          "2025-07-14T12:48:39.000000000",
          "2025-07-14T12:49:57.000000000",
          "2025-07-14T12:52:05.000000000",
          "2025-07-14T12:53:48.000000000",
          "2025-07-14T12:56:33.000000000",
          "2025-07-14T12:57:43.000000000",
          "2025-07-14T12:58:39.000000000",
          "2025-07-14T13:01:32.000000000",
          "2025-07-14T13:02:35.000000000",
          "2025-07-14T13:03:25.000000000",
          "2025-07-14T13:05:02.000000000",
          "2025-07-14T13:06:09.000000000",
          "2025-07-14T13:06:57.000000000",
          "2025-07-14T13:10:28.000000000",
          "2025-07-14T13:12:09.000000000",
          "2025-07-14T13:13:29.000000000",
          "2025-07-14T13:15:34.000000000",
          "2025-07-14T13:16:59.000000000",
          "2025-07-14T13:19:28.000000000",
          "2025-07-14T13:20:04.000000000",
          "2025-07-14T13:21:56.000000000",
          "2025-07-14T13:23:00.000000000",
          "2025-07-14T13:25:02.000000000",
          "2025-07-14T13:27:07.000000000",
          "2025-07-14T13:29:06.000000000",
          "2025-07-14T13:30:25.000000000",
          "2025-07-14T13:31:53.000000000",
          "2025-07-14T13:32:45.000000000",
          "2025-07-14T13:34:25.000000000",
          "2025-07-14T13:37:24.000000000",
          "2025-07-14T13:39:05.000000000",
          "2025-07-14T13:41:29.000000000",
          "2025-07-14T13:45:10.000000000",
          "2025-07-14T13:46:10.000000000",
          "2025-07-14T13:47:50.000000000",
          "2025-07-14T13:50:17.000000000",
          "2025-07-14T13:52:13.000000000",
          "2025-07-14T13:52:38.000000000",
          "2025-07-14T13:53:28.000000000",
          "2025-07-14T13:55:18.000000000",
          "2025-07-14T13:56:37.000000000",
          "2025-07-14T13:58:25.000000000",
          "2025-07-14T13:59:35.000000000",
          "2025-07-14T14:00:36.000000000",
          "2025-07-14T14:01:34.000000000",
          "2025-07-14T14:03:33.000000000",
          "2025-07-14T14:06:47.000000000",
          "2025-07-14T14:08:39.000000000",
          "2025-07-14T14:09:41.000000000",
          "2025-07-14T14:14:39.000000000",
          "2025-07-14T14:16:55.000000000",
          "2025-07-14T14:18:15.000000000",
          "2025-07-14T14:21:15.000000000",
          "2025-07-14T14:22:19.000000000",
          "2025-07-14T14:24:29.000000000",
          "2025-07-14T14:27:42.000000000",
          "2025-07-14T14:30:29.000000000",
          "2025-07-14T14:31:49.000000000",
          "2025-07-14T14:33:30.000000000",
          "2025-07-14T14:34:18.000000000",
          "2025-07-14T14:36:09.000000000",
          "2025-07-14T14:38:20.000000000",
          "2025-07-14T14:40:47.000000000",
          "2025-07-14T14:42:43.000000000",
          "2025-07-14T14:44:54.000000000",
          "2025-07-14T14:45:53.000000000",
          "2025-07-14T14:47:42.000000000",
          "2025-07-14T14:49:46.000000000",
          "2025-07-14T14:51:42.000000000",
          "2025-07-14T14:53:19.000000000",
          "2025-07-14T14:55:58.000000000",
          "2025-07-14T14:57:50.000000000",
          "2025-07-14T15:01:15.000000000",
          "2025-07-14T15:02:51.000000000",
          "2025-07-14T15:03:56.000000000",
          "2025-07-14T15:05:52.000000000",
          "2025-07-14T15:06:42.000000000",
          "2025-07-14T15:09:07.000000000",
          "2025-07-14T15:10:44.000000000",
          "2025-07-14T15:12:01.000000000",
          "2025-07-14T15:16:44.000000000",
          "2025-07-14T15:18:45.000000000",
          "2025-07-14T15:20:22.000000000",
          "2025-07-14T15:22:45.000000000",
          "2025-07-14T15:25:28.000000000",
          "2025-07-14T15:27:53.000000000",
          "2025-07-14T15:29:33.000000000",
          "2025-07-14T15:31:03.000000000",
          "2025-07-14T15:32:59.000000000",
          "2025-07-14T15:34:29.000000000",
          "2025-07-14T15:36:12.000000000",
          "2025-07-14T15:38:38.000000000",
          "2025-07-14T15:40:33.000000000",
          "2025-07-14T15:42:14.000000000",
          "2025-07-14T15:44:26.000000000",
          "2025-07-14T15:47:09.000000000",
          "2025-07-14T15:48:32.000000000",
          "2025-07-14T15:51:54.000000000",
          "2025-07-14T15:54:08.000000000",
          "2025-07-14T15:56:13.000000000",
          "2025-07-14T15:59:10.000000000"
         ]
        }
       ],
       "layout": {
        "showlegend": true,
        "template": {
         "data": {
          "bar": [
           {
            "error_x": {
             "color": "rgb(36,36,36)"
            },
            "error_y": {
             "color": "rgb(36,36,36)"
            },
            "marker": {
             "line": {
              "color": "rgb(234,234,242)",
              "width": 0.5
             },
             "pattern": {
              "fillmode": "overlay",
              "size": 10,
              "solidity": 0.2
             }
            },
            "type": "bar"
           }
          ],
          "barpolar": [
           {
            "marker": {
             "line": {
              "color": "rgb(234,234,242)",
              "width": 0.5
             },
             "pattern": {
              "fillmode": "overlay",
              "size": 10,
              "solidity": 0.2
             }
            },
            "type": "barpolar"
           }
          ],
          "carpet": [
           {
            "aaxis": {
             "endlinecolor": "rgb(36,36,36)",
             "gridcolor": "white",
             "linecolor": "white",
             "minorgridcolor": "white",
             "startlinecolor": "rgb(36,36,36)"
            },
            "baxis": {
             "endlinecolor": "rgb(36,36,36)",
             "gridcolor": "white",
             "linecolor": "white",
             "minorgridcolor": "white",
             "startlinecolor": "rgb(36,36,36)"
            },
            "type": "carpet"
           }
          ],
          "choropleth": [
           {
            "colorbar": {
             "outlinewidth": 0,
             "tickcolor": "rgb(36,36,36)",
             "ticklen": 8,
             "ticks": "outside",
             "tickwidth": 2
            },
            "type": "choropleth"
           }
          ],
          "contour": [
           {
            "colorbar": {
             "outlinewidth": 0,
             "tickcolor": "rgb(36,36,36)",
             "ticklen": 8,
             "ticks": "outside",
             "tickwidth": 2
            },
            "colorscale": [
             [
              0,
              "rgb(2,4,25)"
             ],
             [
              0.06274509803921569,
              "rgb(24,15,41)"
             ],
             [
              0.12549019607843137,
              "rgb(47,23,57)"
             ],
             [
              0.18823529411764706,
              "rgb(71,28,72)"
             ],
             [
              0.25098039215686274,
              "rgb(97,30,82)"
             ],
             [
              0.3137254901960784,
              "rgb(123,30,89)"
             ],
             [
              0.3764705882352941,
              "rgb(150,27,91)"
             ],
             [
              0.4392156862745098,
              "rgb(177,22,88)"
             ],
             [
              0.5019607843137255,
              "rgb(203,26,79)"
             ],
             [
              0.5647058823529412,
              "rgb(223,47,67)"
             ],
             [
              0.6274509803921569,
              "rgb(236,76,61)"
             ],
             [
              0.6901960784313725,
              "rgb(242,107,73)"
             ],
             [
              0.7529411764705882,
              "rgb(244,135,95)"
             ],
             [
              0.8156862745098039,
              "rgb(245,162,122)"
             ],
             [
              0.8784313725490196,
              "rgb(246,188,153)"
             ],
             [
              0.9411764705882353,
              "rgb(247,212,187)"
             ],
             [
              1,
              "rgb(250,234,220)"
             ]
            ],
            "type": "contour"
           }
          ],
          "contourcarpet": [
           {
            "colorbar": {
             "outlinewidth": 0,
             "tickcolor": "rgb(36,36,36)",
             "ticklen": 8,
             "ticks": "outside",
             "tickwidth": 2
            },
            "type": "contourcarpet"
           }
          ],
          "heatmap": [
           {
            "colorbar": {
             "outlinewidth": 0,
             "tickcolor": "rgb(36,36,36)",
             "ticklen": 8,
             "ticks": "outside",
             "tickwidth": 2
            },
            "colorscale": [
             [
              0,
              "rgb(2,4,25)"
             ],
             [
              0.06274509803921569,
              "rgb(24,15,41)"
             ],
             [
              0.12549019607843137,
              "rgb(47,23,57)"
             ],
             [
              0.18823529411764706,
              "rgb(71,28,72)"
             ],
             [
              0.25098039215686274,
              "rgb(97,30,82)"
             ],
             [
              0.3137254901960784,
              "rgb(123,30,89)"
             ],
             [
              0.3764705882352941,
              "rgb(150,27,91)"
             ],
             [
              0.4392156862745098,
              "rgb(177,22,88)"
             ],
             [
              0.5019607843137255,
              "rgb(203,26,79)"
             ],
             [
              0.5647058823529412,
              "rgb(223,47,67)"
             ],
             [
              0.6274509803921569,
              "rgb(236,76,61)"
             ],
             [
              0.6901960784313725,
              "rgb(242,107,73)"
             ],
             [
              0.7529411764705882,
              "rgb(244,135,95)"
             ],
             [
              0.8156862745098039,
              "rgb(245,162,122)"
             ],
             [
              0.8784313725490196,
              "rgb(246,188,153)"
             ],
             [
              0.9411764705882353,
              "rgb(247,212,187)"
             ],
             [
              1,
              "rgb(250,234,220)"
             ]
            ],
            "type": "heatmap"
           }
          ],
          "histogram": [
           {
            "marker": {
             "pattern": {
              "fillmode": "overlay",
              "size": 10,
              "solidity": 0.2
             }
            },
            "type": "histogram"
           }
          ],
          "histogram2d": [
           {
            "colorbar": {
             "outlinewidth": 0,
             "tickcolor": "rgb(36,36,36)",
             "ticklen": 8,
             "ticks": "outside",
             "tickwidth": 2
            },
            "colorscale": [
             [
              0,
              "rgb(2,4,25)"
             ],
             [
              0.06274509803921569,
              "rgb(24,15,41)"
             ],
             [
              0.12549019607843137,
              "rgb(47,23,57)"
             ],
             [
              0.18823529411764706,
              "rgb(71,28,72)"
             ],
             [
              0.25098039215686274,
              "rgb(97,30,82)"
             ],
             [
              0.3137254901960784,
              "rgb(123,30,89)"
             ],
             [
              0.3764705882352941,
              "rgb(150,27,91)"
             ],
             [
              0.4392156862745098,
              "rgb(177,22,88)"
             ],
             [
              0.5019607843137255,
              "rgb(203,26,79)"
             ],
             [
              0.5647058823529412,
              "rgb(223,47,67)"
             ],
             [
              0.6274509803921569,
              "rgb(236,76,61)"
             ],
             [
              0.6901960784313725,
              "rgb(242,107,73)"
             ],
             [
              0.7529411764705882,
              "rgb(244,135,95)"
             ],
             [
              0.8156862745098039,
              "rgb(245,162,122)"
             ],
             [
              0.8784313725490196,
              "rgb(246,188,153)"
             ],
             [
              0.9411764705882353,
              "rgb(247,212,187)"
             ],
             [
              1,
              "rgb(250,234,220)"
             ]
            ],
            "type": "histogram2d"
           }
          ],
          "histogram2dcontour": [
           {
            "colorbar": {
             "outlinewidth": 0,
             "tickcolor": "rgb(36,36,36)",
             "ticklen": 8,
             "ticks": "outside",
             "tickwidth": 2
            },
            "colorscale": [
             [
              0,
              "rgb(2,4,25)"
             ],
             [
              0.06274509803921569,
              "rgb(24,15,41)"
             ],
             [
              0.12549019607843137,
              "rgb(47,23,57)"
             ],
             [
              0.18823529411764706,
              "rgb(71,28,72)"
             ],
             [
              0.25098039215686274,
              "rgb(97,30,82)"
             ],
             [
              0.3137254901960784,
              "rgb(123,30,89)"
             ],
             [
              0.3764705882352941,
              "rgb(150,27,91)"
             ],
             [
              0.4392156862745098,
              "rgb(177,22,88)"
             ],
             [
              0.5019607843137255,
              "rgb(203,26,79)"
             ],
             [
              0.5647058823529412,
              "rgb(223,47,67)"
             ],
             [
              0.6274509803921569,
              "rgb(236,76,61)"
             ],
             [
              0.6901960784313725,
              "rgb(242,107,73)"
             ],
             [
              0.7529411764705882,
              "rgb(244,135,95)"
             ],
             [
              0.8156862745098039,
              "rgb(245,162,122)"
             ],
             [
              0.8784313725490196,
              "rgb(246,188,153)"
             ],
             [
              0.9411764705882353,
              "rgb(247,212,187)"
             ],
             [
              1,
              "rgb(250,234,220)"
             ]
            ],
            "type": "histogram2dcontour"
           }
          ],
          "mesh3d": [
           {
            "colorbar": {
             "outlinewidth": 0,
             "tickcolor": "rgb(36,36,36)",
             "ticklen": 8,
             "ticks": "outside",
             "tickwidth": 2
            },
            "type": "mesh3d"
           }
          ],
          "parcoords": [
           {
            "line": {
             "colorbar": {
              "outlinewidth": 0,
              "tickcolor": "rgb(36,36,36)",
              "ticklen": 8,
              "ticks": "outside",
              "tickwidth": 2
             }
            },
            "type": "parcoords"
           }
          ],
          "pie": [
           {
            "automargin": true,
            "type": "pie"
           }
          ],
          "scatter": [
           {
            "fillpattern": {
             "fillmode": "overlay",
             "size": 10,
             "solidity": 0.2
            },
            "type": "scatter"
           }
          ],
          "scatter3d": [
           {
            "line": {
             "colorbar": {
              "outlinewidth": 0,
              "tickcolor": "rgb(36,36,36)",
              "ticklen": 8,
              "ticks": "outside",
              "tickwidth": 2
             }
            },
            "marker": {
             "colorbar": {
              "outlinewidth": 0,
              "tickcolor": "rgb(36,36,36)",
              "ticklen": 8,
              "ticks": "outside",
              "tickwidth": 2
             }
            },
            "type": "scatter3d"
           }
          ],
          "scattercarpet": [
           {
            "marker": {
             "colorbar": {
              "outlinewidth": 0,
              "tickcolor": "rgb(36,36,36)",
              "ticklen": 8,
              "ticks": "outside",
              "tickwidth": 2
             }
            },
            "type": "scattercarpet"
           }
          ],
          "scattergeo": [
           {
            "marker": {
             "colorbar": {
              "outlinewidth": 0,
              "tickcolor": "rgb(36,36,36)",
              "ticklen": 8,
              "ticks": "outside",
              "tickwidth": 2
             }
            },
            "type": "scattergeo"
           }
          ],
          "scattergl": [
           {
            "marker": {
             "colorbar": {
              "outlinewidth": 0,
              "tickcolor": "rgb(36,36,36)",
              "ticklen": 8,
              "ticks": "outside",
              "tickwidth": 2
             }
            },
            "type": "scattergl"
           }
          ],
          "scattermap": [
           {
            "marker": {
             "colorbar": {
              "outlinewidth": 0,
              "tickcolor": "rgb(36,36,36)",
              "ticklen": 8,
              "ticks": "outside",
              "tickwidth": 2
             }
            },
            "type": "scattermap"
           }
          ],
          "scattermapbox": [
           {
            "marker": {
             "colorbar": {
              "outlinewidth": 0,
              "tickcolor": "rgb(36,36,36)",
              "ticklen": 8,
              "ticks": "outside",
              "tickwidth": 2
             }
            },
            "type": "scattermapbox"
           }
          ],
          "scatterpolar": [
           {
            "marker": {
             "colorbar": {
              "outlinewidth": 0,
              "tickcolor": "rgb(36,36,36)",
              "ticklen": 8,
              "ticks": "outside",
              "tickwidth": 2
             }
            },
            "type": "scatterpolar"
           }
          ],
          "scatterpolargl": [
           {
            "marker": {
             "colorbar": {
              "outlinewidth": 0,
              "tickcolor": "rgb(36,36,36)",
              "ticklen": 8,
              "ticks": "outside",
              "tickwidth": 2
             }
            },
            "type": "scatterpolargl"
           }
          ],
          "scatterternary": [
           {
            "marker": {
             "colorbar": {
              "outlinewidth": 0,
              "tickcolor": "rgb(36,36,36)",
              "ticklen": 8,
              "ticks": "outside",
              "tickwidth": 2
             }
            },
            "type": "scatterternary"
           }
          ],
          "surface": [
           {
            "colorbar": {
             "outlinewidth": 0,
             "tickcolor": "rgb(36,36,36)",
             "ticklen": 8,
             "ticks": "outside",
             "tickwidth": 2
            },
            "colorscale": [
             [
              0,
              "rgb(2,4,25)"
             ],
             [
              0.06274509803921569,
              "rgb(24,15,41)"
             ],
             [
              0.12549019607843137,
              "rgb(47,23,57)"
             ],
             [
              0.18823529411764706,
              "rgb(71,28,72)"
             ],
             [
              0.25098039215686274,
              "rgb(97,30,82)"
             ],
             [
              0.3137254901960784,
              "rgb(123,30,89)"
             ],
             [
              0.3764705882352941,
              "rgb(150,27,91)"
             ],
             [
              0.4392156862745098,
              "rgb(177,22,88)"
             ],
             [
              0.5019607843137255,
              "rgb(203,26,79)"
             ],
             [
              0.5647058823529412,
              "rgb(223,47,67)"
             ],
             [
              0.6274509803921569,
              "rgb(236,76,61)"
             ],
             [
              0.6901960784313725,
              "rgb(242,107,73)"
             ],
             [
              0.7529411764705882,
              "rgb(244,135,95)"
             ],
             [
              0.8156862745098039,
              "rgb(245,162,122)"
             ],
             [
              0.8784313725490196,
              "rgb(246,188,153)"
             ],
             [
              0.9411764705882353,
              "rgb(247,212,187)"
             ],
             [
              1,
              "rgb(250,234,220)"
             ]
            ],
            "type": "surface"
           }
          ],
          "table": [
           {
            "cells": {
             "fill": {
              "color": "rgb(231,231,240)"
             },
             "line": {
              "color": "white"
             }
            },
            "header": {
             "fill": {
              "color": "rgb(183,183,191)"
             },
             "line": {
              "color": "white"
             }
            },
            "type": "table"
           }
          ]
         },
         "layout": {
          "annotationdefaults": {
           "arrowcolor": "rgb(67,103,167)"
          },
          "autotypenumbers": "strict",
          "coloraxis": {
           "colorbar": {
            "outlinewidth": 0,
            "tickcolor": "rgb(36,36,36)",
            "ticklen": 8,
            "ticks": "outside",
            "tickwidth": 2
           }
          },
          "colorscale": {
           "sequential": [
            [
             0,
             "rgb(2,4,25)"
            ],
            [
             0.06274509803921569,
             "rgb(24,15,41)"
            ],
            [
             0.12549019607843137,
             "rgb(47,23,57)"
            ],
            [
             0.18823529411764706,
             "rgb(71,28,72)"
            ],
            [
             0.25098039215686274,
             "rgb(97,30,82)"
            ],
            [
             0.3137254901960784,
             "rgb(123,30,89)"
            ],
            [
             0.3764705882352941,
             "rgb(150,27,91)"
            ],
            [
             0.4392156862745098,
             "rgb(177,22,88)"
            ],
            [
             0.5019607843137255,
             "rgb(203,26,79)"
            ],
            [
             0.5647058823529412,
             "rgb(223,47,67)"
            ],
            [
             0.6274509803921569,
             "rgb(236,76,61)"
            ],
            [
             0.6901960784313725,
             "rgb(242,107,73)"
            ],
            [
             0.7529411764705882,
             "rgb(244,135,95)"
            ],
            [
             0.8156862745098039,
             "rgb(245,162,122)"
            ],
            [
             0.8784313725490196,
             "rgb(246,188,153)"
            ],
            [
             0.9411764705882353,
             "rgb(247,212,187)"
            ],
            [
             1,
             "rgb(250,234,220)"
            ]
           ],
           "sequentialminus": [
            [
             0,
             "rgb(2,4,25)"
            ],
            [
             0.06274509803921569,
             "rgb(24,15,41)"
            ],
            [
             0.12549019607843137,
             "rgb(47,23,57)"
            ],
            [
             0.18823529411764706,
             "rgb(71,28,72)"
            ],
            [
             0.25098039215686274,
             "rgb(97,30,82)"
            ],
            [
             0.3137254901960784,
             "rgb(123,30,89)"
            ],
            [
             0.3764705882352941,
             "rgb(150,27,91)"
            ],
            [
             0.4392156862745098,
             "rgb(177,22,88)"
            ],
            [
             0.5019607843137255,
             "rgb(203,26,79)"
            ],
            [
             0.5647058823529412,
             "rgb(223,47,67)"
            ],
            [
             0.6274509803921569,
             "rgb(236,76,61)"
            ],
            [
             0.6901960784313725,
             "rgb(242,107,73)"
            ],
            [
             0.7529411764705882,
             "rgb(244,135,95)"
            ],
            [
             0.8156862745098039,
             "rgb(245,162,122)"
            ],
            [
             0.8784313725490196,
             "rgb(246,188,153)"
            ],
            [
             0.9411764705882353,
             "rgb(247,212,187)"
            ],
            [
             1,
             "rgb(250,234,220)"
            ]
           ]
          },
          "colorway": [
           "rgb(76,114,176)",
           "rgb(221,132,82)",
           "rgb(85,168,104)",
           "rgb(196,78,82)",
           "rgb(129,114,179)",
           "rgb(147,120,96)",
           "rgb(218,139,195)",
           "rgb(140,140,140)",
           "rgb(204,185,116)",
           "rgb(100,181,205)"
          ],
          "font": {
           "color": "rgb(36,36,36)"
          },
          "geo": {
           "bgcolor": "white",
           "lakecolor": "white",
           "landcolor": "rgb(234,234,242)",
           "showlakes": true,
           "showland": true,
           "subunitcolor": "white"
          },
          "hoverlabel": {
           "align": "left"
          },
          "hovermode": "closest",
          "paper_bgcolor": "white",
          "plot_bgcolor": "rgb(234,234,242)",
          "polar": {
           "angularaxis": {
            "gridcolor": "white",
            "linecolor": "white",
            "showgrid": true,
            "ticks": ""
           },
           "bgcolor": "rgb(234,234,242)",
           "radialaxis": {
            "gridcolor": "white",
            "linecolor": "white",
            "showgrid": true,
            "ticks": ""
           }
          },
          "scene": {
           "xaxis": {
            "backgroundcolor": "rgb(234,234,242)",
            "gridcolor": "white",
            "gridwidth": 2,
            "linecolor": "white",
            "showbackground": true,
            "showgrid": true,
            "ticks": "",
            "zerolinecolor": "white"
           },
           "yaxis": {
            "backgroundcolor": "rgb(234,234,242)",
            "gridcolor": "white",
            "gridwidth": 2,
            "linecolor": "white",
            "showbackground": true,
            "showgrid": true,
            "ticks": "",
            "zerolinecolor": "white"
           },
           "zaxis": {
            "backgroundcolor": "rgb(234,234,242)",
            "gridcolor": "white",
            "gridwidth": 2,
            "linecolor": "white",
            "showbackground": true,
            "showgrid": true,
            "ticks": "",
            "zerolinecolor": "white"
           }
          },
          "shapedefaults": {
           "fillcolor": "rgb(67,103,167)",
           "line": {
            "width": 0
           },
           "opacity": 0.5
          },
          "ternary": {
           "aaxis": {
            "gridcolor": "white",
            "linecolor": "white",
            "showgrid": true,
            "ticks": ""
           },
           "baxis": {
            "gridcolor": "white",
            "linecolor": "white",
            "showgrid": true,
            "ticks": ""
           },
           "bgcolor": "rgb(234,234,242)",
           "caxis": {
            "gridcolor": "white",
            "linecolor": "white",
            "showgrid": true,
            "ticks": ""
           }
          },
          "xaxis": {
           "automargin": true,
           "gridcolor": "white",
           "linecolor": "white",
           "showgrid": true,
           "ticks": "",
           "title": {
            "standoff": 15
           },
           "zerolinecolor": "white"
          },
          "yaxis": {
           "automargin": true,
           "gridcolor": "white",
           "linecolor": "white",
           "showgrid": true,
           "ticks": "",
           "title": {
            "standoff": 15
           },
           "zerolinecolor": "white"
          }
         }
        },
        "title": {
         "text": "Tick Bars"
        },
        "xaxis": {
         "rangeslider": {
          "visible": true
         },
         "title": {
          "text": "Bar"
         }
        },
        "yaxis": {
         "title": {
          "text": "Price (USD)"
         }
        }
       }
      }
     },
     "metadata": {},
     "output_type": "display_data"
    }
   ],
   "source": [
    "fig = go.Figure(data=[go.Candlestick(\n",
    "    x=tick_bars['start_time'],\n",
    "    open=tick_bars['open'],\n",
    "    high=tick_bars['high'],\n",
    "    low=tick_bars['low'],\n",
    "    close=tick_bars['close'],\n",
    "    name='Tick Bars'\n",
    ")])\n",
    "\n",
    "fig.update_layout(\n",
    "    title=f'Tick Bars',\n",
    "    yaxis_title='Price (USD)',\n",
    "    xaxis_title='Bar',\n",
    "    xaxis_rangeslider_visible=True, \n",
    "    template='seaborn', # other options: plotly, plotly_white, plotly_dark, simple_white\n",
    "    showlegend=True,\n",
    ")"
   ]
  },
  {
   "cell_type": "markdown",
   "id": "d5e91059",
   "metadata": {},
   "source": [
    "## Time bars"
   ]
  },
  {
   "cell_type": "markdown",
   "id": "63432286",
   "metadata": {},
   "source": [
    "### Bar Chart"
   ]
  },
  {
   "cell_type": "code",
   "execution_count": 48,
   "id": "f69acfd7",
   "metadata": {},
   "outputs": [
    {
     "data": {
      "application/vnd.plotly.v1+json": {
       "config": {
        "plotlyServerURL": "https://plot.ly"
       },
       "data": [
        {
         "close": {
          "bdata": "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",
          "dtype": "f8"
         },
         "high": {
          "bdata": "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",
          "dtype": "f8"
         },
         "low": {
          "bdata": "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",
          "dtype": "f8"
         },
         "name": "Time Bars",
         "open": {
          "bdata": "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",
          "dtype": "f8"
         },
         "type": "candlestick",
         "x": {
          "bdata": "AAABAAIAAwAEAAUABgAHAAgACQAKAAsADAANAA4ADwAQABEAEgATABQAFQAWABcAGAAZABoAGwAcAB0AHgAfACAAIQAiACMAJAAlACYAJwAoACkAKgArACwALQAuAC8AMAAxADIAMwA0ADUANgA3ADgAOQA6ADsAPAA9AD4APwBAAEEAQgBDAEQARQBGAEcASABJAEoASwBMAE0ATgBPAFAAUQBSAFMAVABVAFYAVwBYAFkAWgBbAFwAXQBeAF8AYABhAGIAYwBkAGUAZgBnAGgAaQBqAGsAbABtAG4AbwBwAHEAcgBzAHQAdQB2AHcAeAB5AHoAewB8AH0AfgB/AIAAgQCCAIMAhACFAIYAhwCIAIkAigCLAIwAjQCOAI8AkACRAJIAkwCUAJUAlgCXAJgAmQCaAJsAnACdAJ4AnwCgAKEAogCjAKQApQCmAKcAqACpAKoAqwCsAK0ArgCvALAAsQCyALMAtAC1ALYAtwC4ALkAugC7ALwAvQC+AL8AwADBAMIAwwDEAMUAxgDHAMgAyQDKAMsAzADNAM4AzwDQANEA0gDTANQA1QDWANcA2ADZANoA2wDcAN0A3gDfAOAA4QDiAOMA5ADlAOYA5wDoAOkA6gDrAOwA7QDuAO8A8ADxAPIA8wD0APUA9gD3APgA+QD6APsA/AD9AP4A/wAAAQEBAgEDAQQBBQEGAQcBCAEJAQoBCwEMAQ0BDgEPARABEQESARMBFAEVARYBFwEYARkBGgEbARwBHQEeAR8BIAEhASIBIwEkASUBJgEnASgBKQEqASsBLAEtAS4BLwEwATEBMgEzATQBNQE2ATcBOAE5AToBOwE8AT0BPgE/AUABQQFCAUMBRAFFAUYBRwFIAUkBSgFLAUwBTQFOAU8BUAFRAVIBUwFUAVUBVgFXAVgBWQFaAVsBXAFdAV4BXwFgAWEBYgFjAWQBZQFmAWcBaAFpAWoBawFsAW0BbgFvAXABcQFyAXMBdAF1AXYBdwF4AXkBegF7AXwBfQF+AX8BgAGBAYIBgwGEAYUB",
          "dtype": "i2"
         }
        }
       ],
       "layout": {
        "showlegend": true,
        "template": {
         "data": {
          "bar": [
           {
            "error_x": {
             "color": "rgb(36,36,36)"
            },
            "error_y": {
             "color": "rgb(36,36,36)"
            },
            "marker": {
             "line": {
              "color": "rgb(234,234,242)",
              "width": 0.5
             },
             "pattern": {
              "fillmode": "overlay",
              "size": 10,
              "solidity": 0.2
             }
            },
            "type": "bar"
           }
          ],
          "barpolar": [
           {
            "marker": {
             "line": {
              "color": "rgb(234,234,242)",
              "width": 0.5
             },
             "pattern": {
              "fillmode": "overlay",
              "size": 10,
              "solidity": 0.2
             }
            },
            "type": "barpolar"
           }
          ],
          "carpet": [
           {
            "aaxis": {
             "endlinecolor": "rgb(36,36,36)",
             "gridcolor": "white",
             "linecolor": "white",
             "minorgridcolor": "white",
             "startlinecolor": "rgb(36,36,36)"
            },
            "baxis": {
             "endlinecolor": "rgb(36,36,36)",
             "gridcolor": "white",
             "linecolor": "white",
             "minorgridcolor": "white",
             "startlinecolor": "rgb(36,36,36)"
            },
            "type": "carpet"
           }
          ],
          "choropleth": [
           {
            "colorbar": {
             "outlinewidth": 0,
             "tickcolor": "rgb(36,36,36)",
             "ticklen": 8,
             "ticks": "outside",
             "tickwidth": 2
            },
            "type": "choropleth"
           }
          ],
          "contour": [
           {
            "colorbar": {
             "outlinewidth": 0,
             "tickcolor": "rgb(36,36,36)",
             "ticklen": 8,
             "ticks": "outside",
             "tickwidth": 2
            },
            "colorscale": [
             [
              0,
              "rgb(2,4,25)"
             ],
             [
              0.06274509803921569,
              "rgb(24,15,41)"
             ],
             [
              0.12549019607843137,
              "rgb(47,23,57)"
             ],
             [
              0.18823529411764706,
              "rgb(71,28,72)"
             ],
             [
              0.25098039215686274,
              "rgb(97,30,82)"
             ],
             [
              0.3137254901960784,
              "rgb(123,30,89)"
             ],
             [
              0.3764705882352941,
              "rgb(150,27,91)"
             ],
             [
              0.4392156862745098,
              "rgb(177,22,88)"
             ],
             [
              0.5019607843137255,
              "rgb(203,26,79)"
             ],
             [
              0.5647058823529412,
              "rgb(223,47,67)"
             ],
             [
              0.6274509803921569,
              "rgb(236,76,61)"
             ],
             [
              0.6901960784313725,
              "rgb(242,107,73)"
             ],
             [
              0.7529411764705882,
              "rgb(244,135,95)"
             ],
             [
              0.8156862745098039,
              "rgb(245,162,122)"
             ],
             [
              0.8784313725490196,
              "rgb(246,188,153)"
             ],
             [
              0.9411764705882353,
              "rgb(247,212,187)"
             ],
             [
              1,
              "rgb(250,234,220)"
             ]
            ],
            "type": "contour"
           }
          ],
          "contourcarpet": [
           {
            "colorbar": {
             "outlinewidth": 0,
             "tickcolor": "rgb(36,36,36)",
             "ticklen": 8,
             "ticks": "outside",
             "tickwidth": 2
            },
            "type": "contourcarpet"
           }
          ],
          "heatmap": [
           {
            "colorbar": {
             "outlinewidth": 0,
             "tickcolor": "rgb(36,36,36)",
             "ticklen": 8,
             "ticks": "outside",
             "tickwidth": 2
            },
            "colorscale": [
             [
              0,
              "rgb(2,4,25)"
             ],
             [
              0.06274509803921569,
              "rgb(24,15,41)"
             ],
             [
              0.12549019607843137,
              "rgb(47,23,57)"
             ],
             [
              0.18823529411764706,
              "rgb(71,28,72)"
             ],
             [
              0.25098039215686274,
              "rgb(97,30,82)"
             ],
             [
              0.3137254901960784,
              "rgb(123,30,89)"
             ],
             [
              0.3764705882352941,
              "rgb(150,27,91)"
             ],
             [
              0.4392156862745098,
              "rgb(177,22,88)"
             ],
             [
              0.5019607843137255,
              "rgb(203,26,79)"
             ],
             [
              0.5647058823529412,
              "rgb(223,47,67)"
             ],
             [
              0.6274509803921569,
              "rgb(236,76,61)"
             ],
             [
              0.6901960784313725,
              "rgb(242,107,73)"
             ],
             [
              0.7529411764705882,
              "rgb(244,135,95)"
             ],
             [
              0.8156862745098039,
              "rgb(245,162,122)"
             ],
             [
              0.8784313725490196,
              "rgb(246,188,153)"
             ],
             [
              0.9411764705882353,
              "rgb(247,212,187)"
             ],
             [
              1,
              "rgb(250,234,220)"
             ]
            ],
            "type": "heatmap"
           }
          ],
          "histogram": [
           {
            "marker": {
             "pattern": {
              "fillmode": "overlay",
              "size": 10,
              "solidity": 0.2
             }
            },
            "type": "histogram"
           }
          ],
          "histogram2d": [
           {
            "colorbar": {
             "outlinewidth": 0,
             "tickcolor": "rgb(36,36,36)",
             "ticklen": 8,
             "ticks": "outside",
             "tickwidth": 2
            },
            "colorscale": [
             [
              0,
              "rgb(2,4,25)"
             ],
             [
              0.06274509803921569,
              "rgb(24,15,41)"
             ],
             [
              0.12549019607843137,
              "rgb(47,23,57)"
             ],
             [
              0.18823529411764706,
              "rgb(71,28,72)"
             ],
             [
              0.25098039215686274,
              "rgb(97,30,82)"
             ],
             [
              0.3137254901960784,
              "rgb(123,30,89)"
             ],
             [
              0.3764705882352941,
              "rgb(150,27,91)"
             ],
             [
              0.4392156862745098,
              "rgb(177,22,88)"
             ],
             [
              0.5019607843137255,
              "rgb(203,26,79)"
             ],
             [
              0.5647058823529412,
              "rgb(223,47,67)"
             ],
             [
              0.6274509803921569,
              "rgb(236,76,61)"
             ],
             [
              0.6901960784313725,
              "rgb(242,107,73)"
             ],
             [
              0.7529411764705882,
              "rgb(244,135,95)"
             ],
             [
              0.8156862745098039,
              "rgb(245,162,122)"
             ],
             [
              0.8784313725490196,
              "rgb(246,188,153)"
             ],
             [
              0.9411764705882353,
              "rgb(247,212,187)"
             ],
             [
              1,
              "rgb(250,234,220)"
             ]
            ],
            "type": "histogram2d"
           }
          ],
          "histogram2dcontour": [
           {
            "colorbar": {
             "outlinewidth": 0,
             "tickcolor": "rgb(36,36,36)",
             "ticklen": 8,
             "ticks": "outside",
             "tickwidth": 2
            },
            "colorscale": [
             [
              0,
              "rgb(2,4,25)"
             ],
             [
              0.06274509803921569,
              "rgb(24,15,41)"
             ],
             [
              0.12549019607843137,
              "rgb(47,23,57)"
             ],
             [
              0.18823529411764706,
              "rgb(71,28,72)"
             ],
             [
              0.25098039215686274,
              "rgb(97,30,82)"
             ],
             [
              0.3137254901960784,
              "rgb(123,30,89)"
             ],
             [
              0.3764705882352941,
              "rgb(150,27,91)"
             ],
             [
              0.4392156862745098,
              "rgb(177,22,88)"
             ],
             [
              0.5019607843137255,
              "rgb(203,26,79)"
             ],
             [
              0.5647058823529412,
              "rgb(223,47,67)"
             ],
             [
              0.6274509803921569,
              "rgb(236,76,61)"
             ],
             [
              0.6901960784313725,
              "rgb(242,107,73)"
             ],
             [
              0.7529411764705882,
              "rgb(244,135,95)"
             ],
             [
              0.8156862745098039,
              "rgb(245,162,122)"
             ],
             [
              0.8784313725490196,
              "rgb(246,188,153)"
             ],
             [
              0.9411764705882353,
              "rgb(247,212,187)"
             ],
             [
              1,
              "rgb(250,234,220)"
             ]
            ],
            "type": "histogram2dcontour"
           }
          ],
          "mesh3d": [
           {
            "colorbar": {
             "outlinewidth": 0,
             "tickcolor": "rgb(36,36,36)",
             "ticklen": 8,
             "ticks": "outside",
             "tickwidth": 2
            },
            "type": "mesh3d"
           }
          ],
          "parcoords": [
           {
            "line": {
             "colorbar": {
              "outlinewidth": 0,
              "tickcolor": "rgb(36,36,36)",
              "ticklen": 8,
              "ticks": "outside",
              "tickwidth": 2
             }
            },
            "type": "parcoords"
           }
          ],
          "pie": [
           {
            "automargin": true,
            "type": "pie"
           }
          ],
          "scatter": [
           {
            "fillpattern": {
             "fillmode": "overlay",
             "size": 10,
             "solidity": 0.2
            },
            "type": "scatter"
           }
          ],
          "scatter3d": [
           {
            "line": {
             "colorbar": {
              "outlinewidth": 0,
              "tickcolor": "rgb(36,36,36)",
              "ticklen": 8,
              "ticks": "outside",
              "tickwidth": 2
             }
            },
            "marker": {
             "colorbar": {
              "outlinewidth": 0,
              "tickcolor": "rgb(36,36,36)",
              "ticklen": 8,
              "ticks": "outside",
              "tickwidth": 2
             }
            },
            "type": "scatter3d"
           }
          ],
          "scattercarpet": [
           {
            "marker": {
             "colorbar": {
              "outlinewidth": 0,
              "tickcolor": "rgb(36,36,36)",
              "ticklen": 8,
              "ticks": "outside",
              "tickwidth": 2
             }
            },
            "type": "scattercarpet"
           }
          ],
          "scattergeo": [
           {
            "marker": {
             "colorbar": {
              "outlinewidth": 0,
              "tickcolor": "rgb(36,36,36)",
              "ticklen": 8,
              "ticks": "outside",
              "tickwidth": 2
             }
            },
            "type": "scattergeo"
           }
          ],
          "scattergl": [
           {
            "marker": {
             "colorbar": {
              "outlinewidth": 0,
              "tickcolor": "rgb(36,36,36)",
              "ticklen": 8,
              "ticks": "outside",
              "tickwidth": 2
             }
            },
            "type": "scattergl"
           }
          ],
          "scattermap": [
           {
            "marker": {
             "colorbar": {
              "outlinewidth": 0,
              "tickcolor": "rgb(36,36,36)",
              "ticklen": 8,
              "ticks": "outside",
              "tickwidth": 2
             }
            },
            "type": "scattermap"
           }
          ],
          "scattermapbox": [
           {
            "marker": {
             "colorbar": {
              "outlinewidth": 0,
              "tickcolor": "rgb(36,36,36)",
              "ticklen": 8,
              "ticks": "outside",
              "tickwidth": 2
             }
            },
            "type": "scattermapbox"
           }
          ],
          "scatterpolar": [
           {
            "marker": {
             "colorbar": {
              "outlinewidth": 0,
              "tickcolor": "rgb(36,36,36)",
              "ticklen": 8,
              "ticks": "outside",
              "tickwidth": 2
             }
            },
            "type": "scatterpolar"
           }
          ],
          "scatterpolargl": [
           {
            "marker": {
             "colorbar": {
              "outlinewidth": 0,
              "tickcolor": "rgb(36,36,36)",
              "ticklen": 8,
              "ticks": "outside",
              "tickwidth": 2
             }
            },
            "type": "scatterpolargl"
           }
          ],
          "scatterternary": [
           {
            "marker": {
             "colorbar": {
              "outlinewidth": 0,
              "tickcolor": "rgb(36,36,36)",
              "ticklen": 8,
              "ticks": "outside",
              "tickwidth": 2
             }
            },
            "type": "scatterternary"
           }
          ],
          "surface": [
           {
            "colorbar": {
             "outlinewidth": 0,
             "tickcolor": "rgb(36,36,36)",
             "ticklen": 8,
             "ticks": "outside",
             "tickwidth": 2
            },
            "colorscale": [
             [
              0,
              "rgb(2,4,25)"
             ],
             [
              0.06274509803921569,
              "rgb(24,15,41)"
             ],
             [
              0.12549019607843137,
              "rgb(47,23,57)"
             ],
             [
              0.18823529411764706,
              "rgb(71,28,72)"
             ],
             [
              0.25098039215686274,
              "rgb(97,30,82)"
             ],
             [
              0.3137254901960784,
              "rgb(123,30,89)"
             ],
             [
              0.3764705882352941,
              "rgb(150,27,91)"
             ],
             [
              0.4392156862745098,
              "rgb(177,22,88)"
             ],
             [
              0.5019607843137255,
              "rgb(203,26,79)"
             ],
             [
              0.5647058823529412,
              "rgb(223,47,67)"
             ],
             [
              0.6274509803921569,
              "rgb(236,76,61)"
             ],
             [
              0.6901960784313725,
              "rgb(242,107,73)"
             ],
             [
              0.7529411764705882,
              "rgb(244,135,95)"
             ],
             [
              0.8156862745098039,
              "rgb(245,162,122)"
             ],
             [
              0.8784313725490196,
              "rgb(246,188,153)"
             ],
             [
              0.9411764705882353,
              "rgb(247,212,187)"
             ],
             [
              1,
              "rgb(250,234,220)"
             ]
            ],
            "type": "surface"
           }
          ],
          "table": [
           {
            "cells": {
             "fill": {
              "color": "rgb(231,231,240)"
             },
             "line": {
              "color": "white"
             }
            },
            "header": {
             "fill": {
              "color": "rgb(183,183,191)"
             },
             "line": {
              "color": "white"
             }
            },
            "type": "table"
           }
          ]
         },
         "layout": {
          "annotationdefaults": {
           "arrowcolor": "rgb(67,103,167)"
          },
          "autotypenumbers": "strict",
          "coloraxis": {
           "colorbar": {
            "outlinewidth": 0,
            "tickcolor": "rgb(36,36,36)",
            "ticklen": 8,
            "ticks": "outside",
            "tickwidth": 2
           }
          },
          "colorscale": {
           "sequential": [
            [
             0,
             "rgb(2,4,25)"
            ],
            [
             0.06274509803921569,
             "rgb(24,15,41)"
            ],
            [
             0.12549019607843137,
             "rgb(47,23,57)"
            ],
            [
             0.18823529411764706,
             "rgb(71,28,72)"
            ],
            [
             0.25098039215686274,
             "rgb(97,30,82)"
            ],
            [
             0.3137254901960784,
             "rgb(123,30,89)"
            ],
            [
             0.3764705882352941,
             "rgb(150,27,91)"
            ],
            [
             0.4392156862745098,
             "rgb(177,22,88)"
            ],
            [
             0.5019607843137255,
             "rgb(203,26,79)"
            ],
            [
             0.5647058823529412,
             "rgb(223,47,67)"
            ],
            [
             0.6274509803921569,
             "rgb(236,76,61)"
            ],
            [
             0.6901960784313725,
             "rgb(242,107,73)"
            ],
            [
             0.7529411764705882,
             "rgb(244,135,95)"
            ],
            [
             0.8156862745098039,
             "rgb(245,162,122)"
            ],
            [
             0.8784313725490196,
             "rgb(246,188,153)"
            ],
            [
             0.9411764705882353,
             "rgb(247,212,187)"
            ],
            [
             1,
             "rgb(250,234,220)"
            ]
           ],
           "sequentialminus": [
            [
             0,
             "rgb(2,4,25)"
            ],
            [
             0.06274509803921569,
             "rgb(24,15,41)"
            ],
            [
             0.12549019607843137,
             "rgb(47,23,57)"
            ],
            [
             0.18823529411764706,
             "rgb(71,28,72)"
            ],
            [
             0.25098039215686274,
             "rgb(97,30,82)"
            ],
            [
             0.3137254901960784,
             "rgb(123,30,89)"
            ],
            [
             0.3764705882352941,
             "rgb(150,27,91)"
            ],
            [
             0.4392156862745098,
             "rgb(177,22,88)"
            ],
            [
             0.5019607843137255,
             "rgb(203,26,79)"
            ],
            [
             0.5647058823529412,
             "rgb(223,47,67)"
            ],
            [
             0.6274509803921569,
             "rgb(236,76,61)"
            ],
            [
             0.6901960784313725,
             "rgb(242,107,73)"
            ],
            [
             0.7529411764705882,
             "rgb(244,135,95)"
            ],
            [
             0.8156862745098039,
             "rgb(245,162,122)"
            ],
            [
             0.8784313725490196,
             "rgb(246,188,153)"
            ],
            [
             0.9411764705882353,
             "rgb(247,212,187)"
            ],
            [
             1,
             "rgb(250,234,220)"
            ]
           ]
          },
          "colorway": [
           "rgb(76,114,176)",
           "rgb(221,132,82)",
           "rgb(85,168,104)",
           "rgb(196,78,82)",
           "rgb(129,114,179)",
           "rgb(147,120,96)",
           "rgb(218,139,195)",
           "rgb(140,140,140)",
           "rgb(204,185,116)",
           "rgb(100,181,205)"
          ],
          "font": {
           "color": "rgb(36,36,36)"
          },
          "geo": {
           "bgcolor": "white",
           "lakecolor": "white",
           "landcolor": "rgb(234,234,242)",
           "showlakes": true,
           "showland": true,
           "subunitcolor": "white"
          },
          "hoverlabel": {
           "align": "left"
          },
          "hovermode": "closest",
          "paper_bgcolor": "white",
          "plot_bgcolor": "rgb(234,234,242)",
          "polar": {
           "angularaxis": {
            "gridcolor": "white",
            "linecolor": "white",
            "showgrid": true,
            "ticks": ""
           },
           "bgcolor": "rgb(234,234,242)",
           "radialaxis": {
            "gridcolor": "white",
            "linecolor": "white",
            "showgrid": true,
            "ticks": ""
           }
          },
          "scene": {
           "xaxis": {
            "backgroundcolor": "rgb(234,234,242)",
            "gridcolor": "white",
            "gridwidth": 2,
            "linecolor": "white",
            "showbackground": true,
            "showgrid": true,
            "ticks": "",
            "zerolinecolor": "white"
           },
           "yaxis": {
            "backgroundcolor": "rgb(234,234,242)",
            "gridcolor": "white",
            "gridwidth": 2,
            "linecolor": "white",
            "showbackground": true,
            "showgrid": true,
            "ticks": "",
            "zerolinecolor": "white"
           },
           "zaxis": {
            "backgroundcolor": "rgb(234,234,242)",
            "gridcolor": "white",
            "gridwidth": 2,
            "linecolor": "white",
            "showbackground": true,
            "showgrid": true,
            "ticks": "",
            "zerolinecolor": "white"
           }
          },
          "shapedefaults": {
           "fillcolor": "rgb(67,103,167)",
           "line": {
            "width": 0
           },
           "opacity": 0.5
          },
          "ternary": {
           "aaxis": {
            "gridcolor": "white",
            "linecolor": "white",
            "showgrid": true,
            "ticks": ""
           },
           "baxis": {
            "gridcolor": "white",
            "linecolor": "white",
            "showgrid": true,
            "ticks": ""
           },
           "bgcolor": "rgb(234,234,242)",
           "caxis": {
            "gridcolor": "white",
            "linecolor": "white",
            "showgrid": true,
            "ticks": ""
           }
          },
          "xaxis": {
           "automargin": true,
           "gridcolor": "white",
           "linecolor": "white",
           "showgrid": true,
           "ticks": "",
           "title": {
            "standoff": 15
           },
           "zerolinecolor": "white"
          },
          "yaxis": {
           "automargin": true,
           "gridcolor": "white",
           "linecolor": "white",
           "showgrid": true,
           "ticks": "",
           "title": {
            "standoff": 15
           },
           "zerolinecolor": "white"
          }
         }
        },
        "title": {
         "text": "Time Bars"
        },
        "xaxis": {
         "rangeslider": {
          "visible": true
         },
         "title": {
          "text": "Bar"
         }
        },
        "yaxis": {
         "title": {
          "text": "Price (USD)"
         }
        }
       }
      }
     },
     "metadata": {},
     "output_type": "display_data"
    }
   ],
   "source": [
    "fig = go.Figure(data=[go.Candlestick(\n",
    "    x=time_bars.index,\n",
    "    open=time_bars['open'],\n",
    "    high=time_bars['high'],\n",
    "    low=time_bars['low'],\n",
    "    close=time_bars['close'],\n",
    "    name='Time Bars'\n",
    ")])\n",
    "\n",
    "fig.update_layout(\n",
    "    title=f'Time Bars',\n",
    "    yaxis_title='Price (USD)',\n",
    "    xaxis_title='Bar',\n",
    "    xaxis_rangeslider_visible=True, \n",
    "    template='seaborn', # other options: plotly, plotly_white, plotly_dark, simple_white\n",
    "    showlegend=True,\n",
    ")"
   ]
  },
  {
   "cell_type": "markdown",
   "id": "2a30e5f7",
   "metadata": {},
   "source": [
    "### Time Chart"
   ]
  },
  {
   "cell_type": "code",
   "execution_count": 49,
   "id": "d40945de",
   "metadata": {},
   "outputs": [
    {
     "data": {
      "application/vnd.plotly.v1+json": {
       "config": {
        "plotlyServerURL": "https://plot.ly"
       },
       "data": [
        {
         "close": {
          "bdata": "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",
          "dtype": "f8"
         },
         "high": {
          "bdata": "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",
          "dtype": "f8"
         },
         "low": {
          "bdata": "7FG4HoX7WEDNzMzMzPxYQKRwPQrX81hAAAAAAAAA+H+kcD0K1/NYQDMzMzMz81hAMzMzMzPzWECkcD0K1/NYQFK4HoXr8VhAAAAAAADwWEDsUbgehetYQNejcD0K51hA16NwPQrnWEAK16NwPepYQFyPwvUo7FhAj8L1KFz/WEB7FK5H4fpYQB+F61G4/lhAexSuR+H6WEBcj8L1KPxYQAAAAAAAAPh/SOF6FK73WEC4HoXrUfhYQOxRuB6F+1hArkfhehT+WEDhehSuRwFZQOF6FK5HAVlAw/UoXI8CWUAAAAAAAABZQEjhehSuB1lAFK5H4XoEWUAK16NwPQpZQOF6FK5HEVlA16NwPQoHWUAAAAAAAAD4f9ejcD0KB1lAFK5H4XoEWUAUrkfhegRZQEjhehSuB1lAj8L1KFwPWUAAAAAAAAD4fwAAAAAAEFlA4XoUrkcRWUAAAAAAAAD4f1K4HoXrEVlAXI/C9SgMWUAAAAAAABBZQHE9CtejEFlA4XoUrkcRWUAK16NwPRpZQOxRuB6FG1lACtejcD0aWUBxPQrXoxBZQD0K16NwDVlASOF6FK4HWUAzMzMzMxNZQI/C9ShcD1lAMzMzMzMTWUAzMzMzMxNZQEjhehSuF1lAzczMzMwMWUAfhetRuA5ZQJqZmZmZGVlAexSuR+EaWUApXI/C9RhZQClcj8L1GFlAH4XrUbgeWUBI4XoUrhdZQB+F61G4HllArkfhehQeWUD2KFyPwhVZQPYoXI/CFVlAKVyPwvUIWUBxPQrXowBZQGZmZmZmBllApHA9CtcDWUBcj8L1KAxZQOxRuB6FC1lAzczMzMwMWUAfhetRuA5ZQIXrUbgeFVlAFK5H4XoUWUAzMzMzMxNZQGZmZmZmFllAXI/C9SgcWUBI4XoUrhdZQGZmZmZmFllApHA9CtcTWUCuR+F6FA5ZQAAAAAAAAPh/ZmZmZmYGWUC4HoXrUQhZQIXrUbgeBVlACtejcD0KWUBcj8L1KAxZQKRwPQrXE1lAw/UoXI8iWUDXo3A9CidZQM3MzMzMLFlAuB6F61EoWUDXo3A9CidZQNejcD0KJ1lAzczMzMwcWUC4HoXrURhZQOxRuB6FG1lAexSuR+EaWUCPwvUoXB9ZQB+F61G4DllAH4XrUbgOWUApXI/C9QhZQClcj8L1CFlAcT0K16MAWUAUrkfhegRZQClcj8L1CFlAAAAAAAAA+H97FK5H4QpZQD0K16NwDVlAAAAAAAAA+H8AAAAAAAD4f3E9CtejEFlAAAAAAAAA+H/2KFyPwhVZQLgehetRGFlAPQrXo3AdWUD2KFyPwhVZQPYoXI/CFVlAzczMzMwMWUC4HoXrUQhZQHE9CtejAFlA16NwPQr3WEBmZmZmZvZYQEjhehSu91hA16NwPQr3WEAAAAAAAAD4fx+F61G47lhA4XoUrkfxWEBSuB6F6/FYQFK4HoXr8VhA7FG4HoXrWEDsUbgehetYQHsUrkfh6lhA9ihcj8LlWEAUrkfheuRYQAAAAAAAAPh/UrgehevhWEAUrkfheuRYQArXo3A96lhACtejcD3qWECuR+F6FN5YQHsUrkfh2lhAAAAAAADgWEAfhetRuN5YQFyPwvUo3FhAAAAAAAAA+H/sUbgehdtYQDMzMzMz01hAAAAAAAAA+H97FK5H4dpYQLgehetR2FhACtejcD3aWEDsUbgehdtYQM3MzMzM3FhAAAAAAAAA+H8AAAAAAAD4f3sUrkfh2lhAuB6F61HYWECuR+F6FN5YQOF6FK5H4VhAAAAAAADgWEAAAAAAAOBYQI/C9Shc31hAFK5H4XrkWEDD9Shcj+JYQKRwPQrX41hApHA9CtfjWEAAAAAAAAD4f1K4HoXr4VhA7FG4HoXbWEAK16NwPdpYQM3MzMzM3FhA9ihcj8LlWEA9CtejcO1YQIXrUbge5VhAhetRuB7lWEBmZmZmZuZYQOF6FK5H4VhA16NwPQrnWEDD9Shcj/JYQFK4HoXr8VhAPQrXo3DtWEA9CtejcO1YQEjhehSu51hAZmZmZmbmWEBmZmZmZuZYQOF6FK5H4VhAhetRuB7VWEApXI/C9dhYQB+F61G43lhAUrgehevhWED2KFyPwtVYQHsUrkfh2lhAzczMzMzcWEBSuB6F6+FYQFK4HoXr4VhAXI/C9SjsWEC4HoXrUehYQArXo3A96lhAuB6F61HoWEDNzMzMzOxYQFK4HoXr8VhAMzMzMzPzWEBmZmZmZvZYQFyPwvUo/FhAMzMzMzMDWUAK16NwPfpYQLgehetR+FhAAAAAAADwWEAAAAAAAAD4f1yPwvUo7FhAAAAAAADwWEBSuB6F6/FYQGZmZmZm5lhAuB6F61HoWEC4HoXrUehYQHE9Ctej8FhAPQrXo3DtWEBSuB6F6+FYQDMzMzMz41hA16NwPQrnWEDXo3A9CudYQBSuR+F65FhApHA9CtfjWEB7FK5H4epYQD0K16Nw7VhAAAAAAAAA+H+kcD0K1/NYQArXo3A9+lhAZmZmZmb2WECuR+F6FP5YQClcj8L1+FhAj8L1KFz/WEDNzMzMzAxZQHE9CtejEFlApHA9CtcTWUBI4XoUrhdZQIXrUbgeFVlAmpmZmZkZWUBcj8L1KBxZQD0K16NwHVlAUrgeheshWUDhehSuRyFZQKRwPQrXI1lAUrgeheshWUAAAAAAAAD4f65H4XoUHllAMzMzMzMjWUCF61G4HiVZQMP1KFyPIllApHA9CtcjWUDhehSuRyFZQBSuR+F6JFlA9ihcj8IlWUCkcD0K1yNZQHE9CtejIFlA4XoUrkchWUApXI/C9ShZQBSuR+F6NFlA9ihcj8I1WUDsUbgehTtZQKRwPQrXM1lAXI/C9SgsWUBSuB6F6yFZQClcj8L1KFlAKVyPwvUoWUAAAAAAAAD4f2ZmZmZmJllA9ihcj8IlWUCkcD0K1yNZQGZmZmZmJllAMzMzMzMjWUDD9ShcjyJZQAAAAAAAAPh/w/UoXI8iWUBmZmZmZiZZQOxRuB6FK1lAPQrXo3AtWUBxPQrXozBZQD0K16NwLVlAexSuR+EqWUCuR+F6FC5ZQAAAAAAAAPh/rkfhehQuWUBSuB6F6yFZQMP1KFyPIllAcT0K16MgWUAUrkfheiRZQAAAAAAAAPh/rkfhehQeWUDhehSuRyFZQBSuR+F6JFlAXI/C9SgsWUDsUbgehStZQI/C9ShcL1lAj8L1KFwvWUA9CtejcC1ZQEjhehSuJ1lA16NwPQonWUBI4XoUridZQLgehetRKFlA7FG4HoUrWUAUrkfheiRZQK5H4XoULllA7FG4HoUrWUBSuB6F6zFZQHE9CtejMFlAzczMzMwsWUAfhetRuC5ZQOxRuB6FK1lAhetRuB41WUCamZmZmSlZQFyPwvUoLFlACtejcD0qWUDsUbgehStZQI/C9ShcL1lA16NwPQonWUDsUbgehStZQJqZmZmZKVlAAAAAAAAwWUAAAAAAADBZQK5H4XoULllAAAAAAAAA+H9cj8L1KCxZQI/C9ShcL1lAMzMzMzMzWUCF61G4HjVZQOF6FK5HMVlAFK5H4Xo0WUDD9ShcjzJZQHsUrkfhOllAexSuR+E6WUAK16NwPTpZQGZmZmZmRllAAAAAAABAWUAAAAAAAAD4fwAAAAAAQFlAAAAAAAAA+H+F61G4HkVZQIXrUbgeRVlAhetRuB5FWUApXI/C9UhZQJqZmZmZSVlASOF6FK5HWUD2KFyPwkVZQEjhehSuR1lAH4XrUbhOWUDsUbgehUtZQAAAAAAAAPh/9ihcj8JFWUAzMzMzM0NZQNejcD0KR1lAhetRuB5FWUBSuB6F60FZQDMzMzMzM1lAUrgehesxWUBI4XoUrjdZQArXo3A9OllAuB6F61E4WUBmZmZmZjZZQGZmZmZmNllAw/UoXI8yWUCamZmZmTlZQPYoXI/CNVlApHA9CtczWUAAAAAAAAD4f4XrUbgeNVlAAAAAAAAA+H/Xo3A9CjdZQPYoXI/CNVlAAAAAAAAwWUA9CtejcC1ZQI/C9ShcL1lAUrgehesxWUAAAAAAAAD4fz0K16NwLVlAzczMzMwsWUAfhetRuC5ZQNejcD0KN1lAKVyPwvU4WUAAAAAAAAD4f9ejcD0KR1lA",
          "dtype": "f8"
         },
         "name": "Time Bars",
         "open": {
          "bdata": "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",
          "dtype": "f8"
         },
         "type": "candlestick",
         "x": [
          "2025-07-14T09:30:00.000000000",
          "2025-07-14T09:31:00.000000000",
          "2025-07-14T09:32:00.000000000",
          "2025-07-14T09:33:00.000000000",
          "2025-07-14T09:34:00.000000000",
          "2025-07-14T09:35:00.000000000",
          "2025-07-14T09:36:00.000000000",
          "2025-07-14T09:37:00.000000000",
          "2025-07-14T09:38:00.000000000",
          "2025-07-14T09:39:00.000000000",
          "2025-07-14T09:40:00.000000000",
          "2025-07-14T09:41:00.000000000",
          "2025-07-14T09:42:00.000000000",
          "2025-07-14T09:43:00.000000000",
          "2025-07-14T09:44:00.000000000",
          "2025-07-14T09:45:00.000000000",
          "2025-07-14T09:46:00.000000000",
          "2025-07-14T09:47:00.000000000",
          "2025-07-14T09:48:00.000000000",
          "2025-07-14T09:49:00.000000000",
          "2025-07-14T09:50:00.000000000",
          "2025-07-14T09:51:00.000000000",
          "2025-07-14T09:52:00.000000000",
          "2025-07-14T09:53:00.000000000",
          "2025-07-14T09:54:00.000000000",
          "2025-07-14T09:55:00.000000000",
          "2025-07-14T09:56:00.000000000",
          "2025-07-14T09:57:00.000000000",
          "2025-07-14T09:58:00.000000000",
          "2025-07-14T09:59:00.000000000",
          "2025-07-14T10:00:00.000000000",
          "2025-07-14T10:01:00.000000000",
          "2025-07-14T10:02:00.000000000",
          "2025-07-14T10:03:00.000000000",
          "2025-07-14T10:04:00.000000000",
          "2025-07-14T10:05:00.000000000",
          "2025-07-14T10:06:00.000000000",
          "2025-07-14T10:07:00.000000000",
          "2025-07-14T10:08:00.000000000",
          "2025-07-14T10:09:00.000000000",
          "2025-07-14T10:10:00.000000000",
          "2025-07-14T10:11:00.000000000",
          "2025-07-14T10:12:00.000000000",
          "2025-07-14T10:13:00.000000000",
          "2025-07-14T10:14:00.000000000",
          "2025-07-14T10:15:00.000000000",
          "2025-07-14T10:16:00.000000000",
          "2025-07-14T10:17:00.000000000",
          "2025-07-14T10:18:00.000000000",
          "2025-07-14T10:19:00.000000000",
          "2025-07-14T10:20:00.000000000",
          "2025-07-14T10:21:00.000000000",
          "2025-07-14T10:22:00.000000000",
          "2025-07-14T10:23:00.000000000",
          "2025-07-14T10:24:00.000000000",
          "2025-07-14T10:25:00.000000000",
          "2025-07-14T10:26:00.000000000",
          "2025-07-14T10:27:00.000000000",
          "2025-07-14T10:28:00.000000000",
          "2025-07-14T10:29:00.000000000",
          "2025-07-14T10:30:00.000000000",
          "2025-07-14T10:31:00.000000000",
          "2025-07-14T10:32:00.000000000",
          "2025-07-14T10:33:00.000000000",
          "2025-07-14T10:34:00.000000000",
          "2025-07-14T10:35:00.000000000",
          "2025-07-14T10:36:00.000000000",
          "2025-07-14T10:37:00.000000000",
          "2025-07-14T10:38:00.000000000",
          "2025-07-14T10:39:00.000000000",
          "2025-07-14T10:40:00.000000000",
          "2025-07-14T10:41:00.000000000",
          "2025-07-14T10:42:00.000000000",
          "2025-07-14T10:43:00.000000000",
          "2025-07-14T10:44:00.000000000",
          "2025-07-14T10:45:00.000000000",
          "2025-07-14T10:46:00.000000000",
          "2025-07-14T10:47:00.000000000",
          "2025-07-14T10:48:00.000000000",
          "2025-07-14T10:49:00.000000000",
          "2025-07-14T10:50:00.000000000",
          "2025-07-14T10:51:00.000000000",
          "2025-07-14T10:52:00.000000000",
          "2025-07-14T10:53:00.000000000",
          "2025-07-14T10:54:00.000000000",
          "2025-07-14T10:55:00.000000000",
          "2025-07-14T10:56:00.000000000",
          "2025-07-14T10:57:00.000000000",
          "2025-07-14T10:58:00.000000000",
          "2025-07-14T10:59:00.000000000",
          "2025-07-14T11:00:00.000000000",
          "2025-07-14T11:01:00.000000000",
          "2025-07-14T11:02:00.000000000",
          "2025-07-14T11:03:00.000000000",
          "2025-07-14T11:04:00.000000000",
          "2025-07-14T11:05:00.000000000",
          "2025-07-14T11:06:00.000000000",
          "2025-07-14T11:07:00.000000000",
          "2025-07-14T11:08:00.000000000",
          "2025-07-14T11:09:00.000000000",
          "2025-07-14T11:10:00.000000000",
          "2025-07-14T11:11:00.000000000",
          "2025-07-14T11:12:00.000000000",
          "2025-07-14T11:13:00.000000000",
          "2025-07-14T11:14:00.000000000",
          "2025-07-14T11:15:00.000000000",
          "2025-07-14T11:16:00.000000000",
          "2025-07-14T11:17:00.000000000",
          "2025-07-14T11:18:00.000000000",
          "2025-07-14T11:19:00.000000000",
          "2025-07-14T11:20:00.000000000",
          "2025-07-14T11:21:00.000000000",
          "2025-07-14T11:22:00.000000000",
          "2025-07-14T11:23:00.000000000",
          "2025-07-14T11:24:00.000000000",
          "2025-07-14T11:25:00.000000000",
          "2025-07-14T11:26:00.000000000",
          "2025-07-14T11:27:00.000000000",
          "2025-07-14T11:28:00.000000000",
          "2025-07-14T11:29:00.000000000",
          "2025-07-14T11:30:00.000000000",
          "2025-07-14T11:31:00.000000000",
          "2025-07-14T11:32:00.000000000",
          "2025-07-14T11:33:00.000000000",
          "2025-07-14T11:34:00.000000000",
          "2025-07-14T11:35:00.000000000",
          "2025-07-14T11:36:00.000000000",
          "2025-07-14T11:37:00.000000000",
          "2025-07-14T11:38:00.000000000",
          "2025-07-14T11:39:00.000000000",
          "2025-07-14T11:40:00.000000000",
          "2025-07-14T11:41:00.000000000",
          "2025-07-14T11:42:00.000000000",
          "2025-07-14T11:43:00.000000000",
          "2025-07-14T11:44:00.000000000",
          "2025-07-14T11:45:00.000000000",
          "2025-07-14T11:46:00.000000000",
          "2025-07-14T11:47:00.000000000",
          "2025-07-14T11:48:00.000000000",
          "2025-07-14T11:49:00.000000000",
          "2025-07-14T11:50:00.000000000",
          "2025-07-14T11:51:00.000000000",
          "2025-07-14T11:52:00.000000000",
          "2025-07-14T11:53:00.000000000",
          "2025-07-14T11:54:00.000000000",
          "2025-07-14T11:55:00.000000000",
          "2025-07-14T11:56:00.000000000",
          "2025-07-14T11:57:00.000000000",
          "2025-07-14T11:58:00.000000000",
          "2025-07-14T11:59:00.000000000",
          "2025-07-14T12:00:00.000000000",
          "2025-07-14T12:01:00.000000000",
          "2025-07-14T12:02:00.000000000",
          "2025-07-14T12:03:00.000000000",
          "2025-07-14T12:04:00.000000000",
          "2025-07-14T12:05:00.000000000",
          "2025-07-14T12:06:00.000000000",
          "2025-07-14T12:07:00.000000000",
          "2025-07-14T12:08:00.000000000",
          "2025-07-14T12:09:00.000000000",
          "2025-07-14T12:10:00.000000000",
          "2025-07-14T12:11:00.000000000",
          "2025-07-14T12:12:00.000000000",
          "2025-07-14T12:13:00.000000000",
          "2025-07-14T12:14:00.000000000",
          "2025-07-14T12:15:00.000000000",
          "2025-07-14T12:16:00.000000000",
          "2025-07-14T12:17:00.000000000",
          "2025-07-14T12:18:00.000000000",
          "2025-07-14T12:19:00.000000000",
          "2025-07-14T12:20:00.000000000",
          "2025-07-14T12:21:00.000000000",
          "2025-07-14T12:22:00.000000000",
          "2025-07-14T12:23:00.000000000",
          "2025-07-14T12:24:00.000000000",
          "2025-07-14T12:25:00.000000000",
          "2025-07-14T12:26:00.000000000",
          "2025-07-14T12:27:00.000000000",
          "2025-07-14T12:28:00.000000000",
          "2025-07-14T12:29:00.000000000",
          "2025-07-14T12:30:00.000000000",
          "2025-07-14T12:31:00.000000000",
          "2025-07-14T12:32:00.000000000",
          "2025-07-14T12:33:00.000000000",
          "2025-07-14T12:34:00.000000000",
          "2025-07-14T12:35:00.000000000",
          "2025-07-14T12:36:00.000000000",
          "2025-07-14T12:37:00.000000000",
          "2025-07-14T12:38:00.000000000",
          "2025-07-14T12:39:00.000000000",
          "2025-07-14T12:40:00.000000000",
          "2025-07-14T12:41:00.000000000",
          "2025-07-14T12:42:00.000000000",
          "2025-07-14T12:43:00.000000000",
          "2025-07-14T12:44:00.000000000",
          "2025-07-14T12:45:00.000000000",
          "2025-07-14T12:46:00.000000000",
          "2025-07-14T12:47:00.000000000",
          "2025-07-14T12:48:00.000000000",
          "2025-07-14T12:49:00.000000000",
          "2025-07-14T12:50:00.000000000",
          "2025-07-14T12:51:00.000000000",
          "2025-07-14T12:52:00.000000000",
          "2025-07-14T12:53:00.000000000",
          "2025-07-14T12:54:00.000000000",
          "2025-07-14T12:55:00.000000000",
          "2025-07-14T12:56:00.000000000",
          "2025-07-14T12:57:00.000000000",
          "2025-07-14T12:58:00.000000000",
          "2025-07-14T12:59:00.000000000",
          "2025-07-14T13:00:00.000000000",
          "2025-07-14T13:01:00.000000000",
          "2025-07-14T13:02:00.000000000",
          "2025-07-14T13:03:00.000000000",
          "2025-07-14T13:04:00.000000000",
          "2025-07-14T13:05:00.000000000",
          "2025-07-14T13:06:00.000000000",
          "2025-07-14T13:07:00.000000000",
          "2025-07-14T13:08:00.000000000",
          "2025-07-14T13:09:00.000000000",
          "2025-07-14T13:10:00.000000000",
          "2025-07-14T13:11:00.000000000",
          "2025-07-14T13:12:00.000000000",
          "2025-07-14T13:13:00.000000000",
          "2025-07-14T13:14:00.000000000",
          "2025-07-14T13:15:00.000000000",
          "2025-07-14T13:16:00.000000000",
          "2025-07-14T13:17:00.000000000",
          "2025-07-14T13:18:00.000000000",
          "2025-07-14T13:19:00.000000000",
          "2025-07-14T13:20:00.000000000",
          "2025-07-14T13:21:00.000000000",
          "2025-07-14T13:22:00.000000000",
          "2025-07-14T13:23:00.000000000",
          "2025-07-14T13:24:00.000000000",
          "2025-07-14T13:25:00.000000000",
          "2025-07-14T13:26:00.000000000",
          "2025-07-14T13:27:00.000000000",
          "2025-07-14T13:28:00.000000000",
          "2025-07-14T13:29:00.000000000",
          "2025-07-14T13:30:00.000000000",
          "2025-07-14T13:31:00.000000000",
          "2025-07-14T13:32:00.000000000",
          "2025-07-14T13:33:00.000000000",
          "2025-07-14T13:34:00.000000000",
          "2025-07-14T13:35:00.000000000",
          "2025-07-14T13:36:00.000000000",
          "2025-07-14T13:37:00.000000000",
          "2025-07-14T13:38:00.000000000",
          "2025-07-14T13:39:00.000000000",
          "2025-07-14T13:40:00.000000000",
          "2025-07-14T13:41:00.000000000",
          "2025-07-14T13:42:00.000000000",
          "2025-07-14T13:43:00.000000000",
          "2025-07-14T13:44:00.000000000",
          "2025-07-14T13:45:00.000000000",
          "2025-07-14T13:46:00.000000000",
          "2025-07-14T13:47:00.000000000",
          "2025-07-14T13:48:00.000000000",
          "2025-07-14T13:49:00.000000000",
          "2025-07-14T13:50:00.000000000",
          "2025-07-14T13:51:00.000000000",
          "2025-07-14T13:52:00.000000000",
          "2025-07-14T13:53:00.000000000",
          "2025-07-14T13:54:00.000000000",
          "2025-07-14T13:55:00.000000000",
          "2025-07-14T13:56:00.000000000",
          "2025-07-14T13:57:00.000000000",
          "2025-07-14T13:58:00.000000000",
          "2025-07-14T13:59:00.000000000",
          "2025-07-14T14:00:00.000000000",
          "2025-07-14T14:01:00.000000000",
          "2025-07-14T14:02:00.000000000",
          "2025-07-14T14:03:00.000000000",
          "2025-07-14T14:04:00.000000000",
          "2025-07-14T14:05:00.000000000",
          "2025-07-14T14:06:00.000000000",
          "2025-07-14T14:07:00.000000000",
          "2025-07-14T14:08:00.000000000",
          "2025-07-14T14:09:00.000000000",
          "2025-07-14T14:10:00.000000000",
          "2025-07-14T14:11:00.000000000",
          "2025-07-14T14:12:00.000000000",
          "2025-07-14T14:13:00.000000000",
          "2025-07-14T14:14:00.000000000",
          "2025-07-14T14:15:00.000000000",
          "2025-07-14T14:16:00.000000000",
          "2025-07-14T14:17:00.000000000",
          "2025-07-14T14:18:00.000000000",
          "2025-07-14T14:19:00.000000000",
          "2025-07-14T14:20:00.000000000",
          "2025-07-14T14:21:00.000000000",
          "2025-07-14T14:22:00.000000000",
          "2025-07-14T14:23:00.000000000",
          "2025-07-14T14:24:00.000000000",
          "2025-07-14T14:25:00.000000000",
          "2025-07-14T14:26:00.000000000",
          "2025-07-14T14:27:00.000000000",
          "2025-07-14T14:28:00.000000000",
          "2025-07-14T14:29:00.000000000",
          "2025-07-14T14:30:00.000000000",
          "2025-07-14T14:31:00.000000000",
          "2025-07-14T14:32:00.000000000",
          "2025-07-14T14:33:00.000000000",
          "2025-07-14T14:34:00.000000000",
          "2025-07-14T14:35:00.000000000",
          "2025-07-14T14:36:00.000000000",
          "2025-07-14T14:37:00.000000000",
          "2025-07-14T14:38:00.000000000",
          "2025-07-14T14:39:00.000000000",
          "2025-07-14T14:40:00.000000000",
          "2025-07-14T14:41:00.000000000",
          "2025-07-14T14:42:00.000000000",
          "2025-07-14T14:43:00.000000000",
          "2025-07-14T14:44:00.000000000",
          "2025-07-14T14:45:00.000000000",
          "2025-07-14T14:46:00.000000000",
          "2025-07-14T14:47:00.000000000",
          "2025-07-14T14:48:00.000000000",
          "2025-07-14T14:49:00.000000000",
          "2025-07-14T14:50:00.000000000",
          "2025-07-14T14:51:00.000000000",
          "2025-07-14T14:52:00.000000000",
          "2025-07-14T14:53:00.000000000",
          "2025-07-14T14:54:00.000000000",
          "2025-07-14T14:55:00.000000000",
          "2025-07-14T14:56:00.000000000",
          "2025-07-14T14:57:00.000000000",
          "2025-07-14T14:58:00.000000000",
          "2025-07-14T14:59:00.000000000",
          "2025-07-14T15:00:00.000000000",
          "2025-07-14T15:01:00.000000000",
          "2025-07-14T15:02:00.000000000",
          "2025-07-14T15:03:00.000000000",
          "2025-07-14T15:04:00.000000000",
          "2025-07-14T15:05:00.000000000",
          "2025-07-14T15:06:00.000000000",
          "2025-07-14T15:07:00.000000000",
          "2025-07-14T15:08:00.000000000",
          "2025-07-14T15:09:00.000000000",
          "2025-07-14T15:10:00.000000000",
          "2025-07-14T15:11:00.000000000",
          "2025-07-14T15:12:00.000000000",
          "2025-07-14T15:13:00.000000000",
          "2025-07-14T15:14:00.000000000",
          "2025-07-14T15:15:00.000000000",
          "2025-07-14T15:16:00.000000000",
          "2025-07-14T15:17:00.000000000",
          "2025-07-14T15:18:00.000000000",
          "2025-07-14T15:19:00.000000000",
          "2025-07-14T15:20:00.000000000",
          "2025-07-14T15:21:00.000000000",
          "2025-07-14T15:22:00.000000000",
          "2025-07-14T15:23:00.000000000",
          "2025-07-14T15:24:00.000000000",
          "2025-07-14T15:25:00.000000000",
          "2025-07-14T15:26:00.000000000",
          "2025-07-14T15:27:00.000000000",
          "2025-07-14T15:28:00.000000000",
          "2025-07-14T15:29:00.000000000",
          "2025-07-14T15:30:00.000000000",
          "2025-07-14T15:31:00.000000000",
          "2025-07-14T15:32:00.000000000",
          "2025-07-14T15:33:00.000000000",
          "2025-07-14T15:34:00.000000000",
          "2025-07-14T15:35:00.000000000",
          "2025-07-14T15:36:00.000000000",
          "2025-07-14T15:37:00.000000000",
          "2025-07-14T15:38:00.000000000",
          "2025-07-14T15:39:00.000000000",
          "2025-07-14T15:40:00.000000000",
          "2025-07-14T15:41:00.000000000",
          "2025-07-14T15:42:00.000000000",
          "2025-07-14T15:43:00.000000000",
          "2025-07-14T15:44:00.000000000",
          "2025-07-14T15:45:00.000000000",
          "2025-07-14T15:46:00.000000000",
          "2025-07-14T15:47:00.000000000",
          "2025-07-14T15:48:00.000000000",
          "2025-07-14T15:49:00.000000000",
          "2025-07-14T15:50:00.000000000",
          "2025-07-14T15:51:00.000000000",
          "2025-07-14T15:52:00.000000000",
          "2025-07-14T15:53:00.000000000",
          "2025-07-14T15:54:00.000000000",
          "2025-07-14T15:55:00.000000000",
          "2025-07-14T15:56:00.000000000",
          "2025-07-14T15:57:00.000000000",
          "2025-07-14T15:58:00.000000000",
          "2025-07-14T15:59:00.000000000"
         ]
        }
       ],
       "layout": {
        "showlegend": true,
        "template": {
         "data": {
          "bar": [
           {
            "error_x": {
             "color": "rgb(36,36,36)"
            },
            "error_y": {
             "color": "rgb(36,36,36)"
            },
            "marker": {
             "line": {
              "color": "rgb(234,234,242)",
              "width": 0.5
             },
             "pattern": {
              "fillmode": "overlay",
              "size": 10,
              "solidity": 0.2
             }
            },
            "type": "bar"
           }
          ],
          "barpolar": [
           {
            "marker": {
             "line": {
              "color": "rgb(234,234,242)",
              "width": 0.5
             },
             "pattern": {
              "fillmode": "overlay",
              "size": 10,
              "solidity": 0.2
             }
            },
            "type": "barpolar"
           }
          ],
          "carpet": [
           {
            "aaxis": {
             "endlinecolor": "rgb(36,36,36)",
             "gridcolor": "white",
             "linecolor": "white",
             "minorgridcolor": "white",
             "startlinecolor": "rgb(36,36,36)"
            },
            "baxis": {
             "endlinecolor": "rgb(36,36,36)",
             "gridcolor": "white",
             "linecolor": "white",
             "minorgridcolor": "white",
             "startlinecolor": "rgb(36,36,36)"
            },
            "type": "carpet"
           }
          ],
          "choropleth": [
           {
            "colorbar": {
             "outlinewidth": 0,
             "tickcolor": "rgb(36,36,36)",
             "ticklen": 8,
             "ticks": "outside",
             "tickwidth": 2
            },
            "type": "choropleth"
           }
          ],
          "contour": [
           {
            "colorbar": {
             "outlinewidth": 0,
             "tickcolor": "rgb(36,36,36)",
             "ticklen": 8,
             "ticks": "outside",
             "tickwidth": 2
            },
            "colorscale": [
             [
              0,
              "rgb(2,4,25)"
             ],
             [
              0.06274509803921569,
              "rgb(24,15,41)"
             ],
             [
              0.12549019607843137,
              "rgb(47,23,57)"
             ],
             [
              0.18823529411764706,
              "rgb(71,28,72)"
             ],
             [
              0.25098039215686274,
              "rgb(97,30,82)"
             ],
             [
              0.3137254901960784,
              "rgb(123,30,89)"
             ],
             [
              0.3764705882352941,
              "rgb(150,27,91)"
             ],
             [
              0.4392156862745098,
              "rgb(177,22,88)"
             ],
             [
              0.5019607843137255,
              "rgb(203,26,79)"
             ],
             [
              0.5647058823529412,
              "rgb(223,47,67)"
             ],
             [
              0.6274509803921569,
              "rgb(236,76,61)"
             ],
             [
              0.6901960784313725,
              "rgb(242,107,73)"
             ],
             [
              0.7529411764705882,
              "rgb(244,135,95)"
             ],
             [
              0.8156862745098039,
              "rgb(245,162,122)"
             ],
             [
              0.8784313725490196,
              "rgb(246,188,153)"
             ],
             [
              0.9411764705882353,
              "rgb(247,212,187)"
             ],
             [
              1,
              "rgb(250,234,220)"
             ]
            ],
            "type": "contour"
           }
          ],
          "contourcarpet": [
           {
            "colorbar": {
             "outlinewidth": 0,
             "tickcolor": "rgb(36,36,36)",
             "ticklen": 8,
             "ticks": "outside",
             "tickwidth": 2
            },
            "type": "contourcarpet"
           }
          ],
          "heatmap": [
           {
            "colorbar": {
             "outlinewidth": 0,
             "tickcolor": "rgb(36,36,36)",
             "ticklen": 8,
             "ticks": "outside",
             "tickwidth": 2
            },
            "colorscale": [
             [
              0,
              "rgb(2,4,25)"
             ],
             [
              0.06274509803921569,
              "rgb(24,15,41)"
             ],
             [
              0.12549019607843137,
              "rgb(47,23,57)"
             ],
             [
              0.18823529411764706,
              "rgb(71,28,72)"
             ],
             [
              0.25098039215686274,
              "rgb(97,30,82)"
             ],
             [
              0.3137254901960784,
              "rgb(123,30,89)"
             ],
             [
              0.3764705882352941,
              "rgb(150,27,91)"
             ],
             [
              0.4392156862745098,
              "rgb(177,22,88)"
             ],
             [
              0.5019607843137255,
              "rgb(203,26,79)"
             ],
             [
              0.5647058823529412,
              "rgb(223,47,67)"
             ],
             [
              0.6274509803921569,
              "rgb(236,76,61)"
             ],
             [
              0.6901960784313725,
              "rgb(242,107,73)"
             ],
             [
              0.7529411764705882,
              "rgb(244,135,95)"
             ],
             [
              0.8156862745098039,
              "rgb(245,162,122)"
             ],
             [
              0.8784313725490196,
              "rgb(246,188,153)"
             ],
             [
              0.9411764705882353,
              "rgb(247,212,187)"
             ],
             [
              1,
              "rgb(250,234,220)"
             ]
            ],
            "type": "heatmap"
           }
          ],
          "histogram": [
           {
            "marker": {
             "pattern": {
              "fillmode": "overlay",
              "size": 10,
              "solidity": 0.2
             }
            },
            "type": "histogram"
           }
          ],
          "histogram2d": [
           {
            "colorbar": {
             "outlinewidth": 0,
             "tickcolor": "rgb(36,36,36)",
             "ticklen": 8,
             "ticks": "outside",
             "tickwidth": 2
            },
            "colorscale": [
             [
              0,
              "rgb(2,4,25)"
             ],
             [
              0.06274509803921569,
              "rgb(24,15,41)"
             ],
             [
              0.12549019607843137,
              "rgb(47,23,57)"
             ],
             [
              0.18823529411764706,
              "rgb(71,28,72)"
             ],
             [
              0.25098039215686274,
              "rgb(97,30,82)"
             ],
             [
              0.3137254901960784,
              "rgb(123,30,89)"
             ],
             [
              0.3764705882352941,
              "rgb(150,27,91)"
             ],
             [
              0.4392156862745098,
              "rgb(177,22,88)"
             ],
             [
              0.5019607843137255,
              "rgb(203,26,79)"
             ],
             [
              0.5647058823529412,
              "rgb(223,47,67)"
             ],
             [
              0.6274509803921569,
              "rgb(236,76,61)"
             ],
             [
              0.6901960784313725,
              "rgb(242,107,73)"
             ],
             [
              0.7529411764705882,
              "rgb(244,135,95)"
             ],
             [
              0.8156862745098039,
              "rgb(245,162,122)"
             ],
             [
              0.8784313725490196,
              "rgb(246,188,153)"
             ],
             [
              0.9411764705882353,
              "rgb(247,212,187)"
             ],
             [
              1,
              "rgb(250,234,220)"
             ]
            ],
            "type": "histogram2d"
           }
          ],
          "histogram2dcontour": [
           {
            "colorbar": {
             "outlinewidth": 0,
             "tickcolor": "rgb(36,36,36)",
             "ticklen": 8,
             "ticks": "outside",
             "tickwidth": 2
            },
            "colorscale": [
             [
              0,
              "rgb(2,4,25)"
             ],
             [
              0.06274509803921569,
              "rgb(24,15,41)"
             ],
             [
              0.12549019607843137,
              "rgb(47,23,57)"
             ],
             [
              0.18823529411764706,
              "rgb(71,28,72)"
             ],
             [
              0.25098039215686274,
              "rgb(97,30,82)"
             ],
             [
              0.3137254901960784,
              "rgb(123,30,89)"
             ],
             [
              0.3764705882352941,
              "rgb(150,27,91)"
             ],
             [
              0.4392156862745098,
              "rgb(177,22,88)"
             ],
             [
              0.5019607843137255,
              "rgb(203,26,79)"
             ],
             [
              0.5647058823529412,
              "rgb(223,47,67)"
             ],
             [
              0.6274509803921569,
              "rgb(236,76,61)"
             ],
             [
              0.6901960784313725,
              "rgb(242,107,73)"
             ],
             [
              0.7529411764705882,
              "rgb(244,135,95)"
             ],
             [
              0.8156862745098039,
              "rgb(245,162,122)"
             ],
             [
              0.8784313725490196,
              "rgb(246,188,153)"
             ],
             [
              0.9411764705882353,
              "rgb(247,212,187)"
             ],
             [
              1,
              "rgb(250,234,220)"
             ]
            ],
            "type": "histogram2dcontour"
           }
          ],
          "mesh3d": [
           {
            "colorbar": {
             "outlinewidth": 0,
             "tickcolor": "rgb(36,36,36)",
             "ticklen": 8,
             "ticks": "outside",
             "tickwidth": 2
            },
            "type": "mesh3d"
           }
          ],
          "parcoords": [
           {
            "line": {
             "colorbar": {
              "outlinewidth": 0,
              "tickcolor": "rgb(36,36,36)",
              "ticklen": 8,
              "ticks": "outside",
              "tickwidth": 2
             }
            },
            "type": "parcoords"
           }
          ],
          "pie": [
           {
            "automargin": true,
            "type": "pie"
           }
          ],
          "scatter": [
           {
            "fillpattern": {
             "fillmode": "overlay",
             "size": 10,
             "solidity": 0.2
            },
            "type": "scatter"
           }
          ],
          "scatter3d": [
           {
            "line": {
             "colorbar": {
              "outlinewidth": 0,
              "tickcolor": "rgb(36,36,36)",
              "ticklen": 8,
              "ticks": "outside",
              "tickwidth": 2
             }
            },
            "marker": {
             "colorbar": {
              "outlinewidth": 0,
              "tickcolor": "rgb(36,36,36)",
              "ticklen": 8,
              "ticks": "outside",
              "tickwidth": 2
             }
            },
            "type": "scatter3d"
           }
          ],
          "scattercarpet": [
           {
            "marker": {
             "colorbar": {
              "outlinewidth": 0,
              "tickcolor": "rgb(36,36,36)",
              "ticklen": 8,
              "ticks": "outside",
              "tickwidth": 2
             }
            },
            "type": "scattercarpet"
           }
          ],
          "scattergeo": [
           {
            "marker": {
             "colorbar": {
              "outlinewidth": 0,
              "tickcolor": "rgb(36,36,36)",
              "ticklen": 8,
              "ticks": "outside",
              "tickwidth": 2
             }
            },
            "type": "scattergeo"
           }
          ],
          "scattergl": [
           {
            "marker": {
             "colorbar": {
              "outlinewidth": 0,
              "tickcolor": "rgb(36,36,36)",
              "ticklen": 8,
              "ticks": "outside",
              "tickwidth": 2
             }
            },
            "type": "scattergl"
           }
          ],
          "scattermap": [
           {
            "marker": {
             "colorbar": {
              "outlinewidth": 0,
              "tickcolor": "rgb(36,36,36)",
              "ticklen": 8,
              "ticks": "outside",
              "tickwidth": 2
             }
            },
            "type": "scattermap"
           }
          ],
          "scattermapbox": [
           {
            "marker": {
             "colorbar": {
              "outlinewidth": 0,
              "tickcolor": "rgb(36,36,36)",
              "ticklen": 8,
              "ticks": "outside",
              "tickwidth": 2
             }
            },
            "type": "scattermapbox"
           }
          ],
          "scatterpolar": [
           {
            "marker": {
             "colorbar": {
              "outlinewidth": 0,
              "tickcolor": "rgb(36,36,36)",
              "ticklen": 8,
              "ticks": "outside",
              "tickwidth": 2
             }
            },
            "type": "scatterpolar"
           }
          ],
          "scatterpolargl": [
           {
            "marker": {
             "colorbar": {
              "outlinewidth": 0,
              "tickcolor": "rgb(36,36,36)",
              "ticklen": 8,
              "ticks": "outside",
              "tickwidth": 2
             }
            },
            "type": "scatterpolargl"
           }
          ],
          "scatterternary": [
           {
            "marker": {
             "colorbar": {
              "outlinewidth": 0,
              "tickcolor": "rgb(36,36,36)",
              "ticklen": 8,
              "ticks": "outside",
              "tickwidth": 2
             }
            },
            "type": "scatterternary"
           }
          ],
          "surface": [
           {
            "colorbar": {
             "outlinewidth": 0,
             "tickcolor": "rgb(36,36,36)",
             "ticklen": 8,
             "ticks": "outside",
             "tickwidth": 2
            },
            "colorscale": [
             [
              0,
              "rgb(2,4,25)"
             ],
             [
              0.06274509803921569,
              "rgb(24,15,41)"
             ],
             [
              0.12549019607843137,
              "rgb(47,23,57)"
             ],
             [
              0.18823529411764706,
              "rgb(71,28,72)"
             ],
             [
              0.25098039215686274,
              "rgb(97,30,82)"
             ],
             [
              0.3137254901960784,
              "rgb(123,30,89)"
             ],
             [
              0.3764705882352941,
              "rgb(150,27,91)"
             ],
             [
              0.4392156862745098,
              "rgb(177,22,88)"
             ],
             [
              0.5019607843137255,
              "rgb(203,26,79)"
             ],
             [
              0.5647058823529412,
              "rgb(223,47,67)"
             ],
             [
              0.6274509803921569,
              "rgb(236,76,61)"
             ],
             [
              0.6901960784313725,
              "rgb(242,107,73)"
             ],
             [
              0.7529411764705882,
              "rgb(244,135,95)"
             ],
             [
              0.8156862745098039,
              "rgb(245,162,122)"
             ],
             [
              0.8784313725490196,
              "rgb(246,188,153)"
             ],
             [
              0.9411764705882353,
              "rgb(247,212,187)"
             ],
             [
              1,
              "rgb(250,234,220)"
             ]
            ],
            "type": "surface"
           }
          ],
          "table": [
           {
            "cells": {
             "fill": {
              "color": "rgb(231,231,240)"
             },
             "line": {
              "color": "white"
             }
            },
            "header": {
             "fill": {
              "color": "rgb(183,183,191)"
             },
             "line": {
              "color": "white"
             }
            },
            "type": "table"
           }
          ]
         },
         "layout": {
          "annotationdefaults": {
           "arrowcolor": "rgb(67,103,167)"
          },
          "autotypenumbers": "strict",
          "coloraxis": {
           "colorbar": {
            "outlinewidth": 0,
            "tickcolor": "rgb(36,36,36)",
            "ticklen": 8,
            "ticks": "outside",
            "tickwidth": 2
           }
          },
          "colorscale": {
           "sequential": [
            [
             0,
             "rgb(2,4,25)"
            ],
            [
             0.06274509803921569,
             "rgb(24,15,41)"
            ],
            [
             0.12549019607843137,
             "rgb(47,23,57)"
            ],
            [
             0.18823529411764706,
             "rgb(71,28,72)"
            ],
            [
             0.25098039215686274,
             "rgb(97,30,82)"
            ],
            [
             0.3137254901960784,
             "rgb(123,30,89)"
            ],
            [
             0.3764705882352941,
             "rgb(150,27,91)"
            ],
            [
             0.4392156862745098,
             "rgb(177,22,88)"
            ],
            [
             0.5019607843137255,
             "rgb(203,26,79)"
            ],
            [
             0.5647058823529412,
             "rgb(223,47,67)"
            ],
            [
             0.6274509803921569,
             "rgb(236,76,61)"
            ],
            [
             0.6901960784313725,
             "rgb(242,107,73)"
            ],
            [
             0.7529411764705882,
             "rgb(244,135,95)"
            ],
            [
             0.8156862745098039,
             "rgb(245,162,122)"
            ],
            [
             0.8784313725490196,
             "rgb(246,188,153)"
            ],
            [
             0.9411764705882353,
             "rgb(247,212,187)"
            ],
            [
             1,
             "rgb(250,234,220)"
            ]
           ],
           "sequentialminus": [
            [
             0,
             "rgb(2,4,25)"
            ],
            [
             0.06274509803921569,
             "rgb(24,15,41)"
            ],
            [
             0.12549019607843137,
             "rgb(47,23,57)"
            ],
            [
             0.18823529411764706,
             "rgb(71,28,72)"
            ],
            [
             0.25098039215686274,
             "rgb(97,30,82)"
            ],
            [
             0.3137254901960784,
             "rgb(123,30,89)"
            ],
            [
             0.3764705882352941,
             "rgb(150,27,91)"
            ],
            [
             0.4392156862745098,
             "rgb(177,22,88)"
            ],
            [
             0.5019607843137255,
             "rgb(203,26,79)"
            ],
            [
             0.5647058823529412,
             "rgb(223,47,67)"
            ],
            [
             0.6274509803921569,
             "rgb(236,76,61)"
            ],
            [
             0.6901960784313725,
             "rgb(242,107,73)"
            ],
            [
             0.7529411764705882,
             "rgb(244,135,95)"
            ],
            [
             0.8156862745098039,
             "rgb(245,162,122)"
            ],
            [
             0.8784313725490196,
             "rgb(246,188,153)"
            ],
            [
             0.9411764705882353,
             "rgb(247,212,187)"
            ],
            [
             1,
             "rgb(250,234,220)"
            ]
           ]
          },
          "colorway": [
           "rgb(76,114,176)",
           "rgb(221,132,82)",
           "rgb(85,168,104)",
           "rgb(196,78,82)",
           "rgb(129,114,179)",
           "rgb(147,120,96)",
           "rgb(218,139,195)",
           "rgb(140,140,140)",
           "rgb(204,185,116)",
           "rgb(100,181,205)"
          ],
          "font": {
           "color": "rgb(36,36,36)"
          },
          "geo": {
           "bgcolor": "white",
           "lakecolor": "white",
           "landcolor": "rgb(234,234,242)",
           "showlakes": true,
           "showland": true,
           "subunitcolor": "white"
          },
          "hoverlabel": {
           "align": "left"
          },
          "hovermode": "closest",
          "paper_bgcolor": "white",
          "plot_bgcolor": "rgb(234,234,242)",
          "polar": {
           "angularaxis": {
            "gridcolor": "white",
            "linecolor": "white",
            "showgrid": true,
            "ticks": ""
           },
           "bgcolor": "rgb(234,234,242)",
           "radialaxis": {
            "gridcolor": "white",
            "linecolor": "white",
            "showgrid": true,
            "ticks": ""
           }
          },
          "scene": {
           "xaxis": {
            "backgroundcolor": "rgb(234,234,242)",
            "gridcolor": "white",
            "gridwidth": 2,
            "linecolor": "white",
            "showbackground": true,
            "showgrid": true,
            "ticks": "",
            "zerolinecolor": "white"
           },
           "yaxis": {
            "backgroundcolor": "rgb(234,234,242)",
            "gridcolor": "white",
            "gridwidth": 2,
            "linecolor": "white",
            "showbackground": true,
            "showgrid": true,
            "ticks": "",
            "zerolinecolor": "white"
           },
           "zaxis": {
            "backgroundcolor": "rgb(234,234,242)",
            "gridcolor": "white",
            "gridwidth": 2,
            "linecolor": "white",
            "showbackground": true,
            "showgrid": true,
            "ticks": "",
            "zerolinecolor": "white"
           }
          },
          "shapedefaults": {
           "fillcolor": "rgb(67,103,167)",
           "line": {
            "width": 0
           },
           "opacity": 0.5
          },
          "ternary": {
           "aaxis": {
            "gridcolor": "white",
            "linecolor": "white",
            "showgrid": true,
            "ticks": ""
           },
           "baxis": {
            "gridcolor": "white",
            "linecolor": "white",
            "showgrid": true,
            "ticks": ""
           },
           "bgcolor": "rgb(234,234,242)",
           "caxis": {
            "gridcolor": "white",
            "linecolor": "white",
            "showgrid": true,
            "ticks": ""
           }
          },
          "xaxis": {
           "automargin": true,
           "gridcolor": "white",
           "linecolor": "white",
           "showgrid": true,
           "ticks": "",
           "title": {
            "standoff": 15
           },
           "zerolinecolor": "white"
          },
          "yaxis": {
           "automargin": true,
           "gridcolor": "white",
           "linecolor": "white",
           "showgrid": true,
           "ticks": "",
           "title": {
            "standoff": 15
           },
           "zerolinecolor": "white"
          }
         }
        },
        "title": {
         "text": "Time Bars"
        },
        "xaxis": {
         "rangeslider": {
          "visible": true
         },
         "title": {
          "text": "Bar"
         }
        },
        "yaxis": {
         "title": {
          "text": "Price (USD)"
         }
        }
       }
      }
     },
     "metadata": {},
     "output_type": "display_data"
    }
   ],
   "source": [
    "fig = go.Figure(data=[go.Candlestick(\n",
    "    x=time_bars['start_time'],\n",
    "    open=time_bars['open'],\n",
    "    high=time_bars['high'],\n",
    "    low=time_bars['low'],\n",
    "    close=time_bars['close'],\n",
    "    name='Time Bars'\n",
    ")])\n",
    "\n",
    "fig.update_layout(\n",
    "    title=f'Time Bars',\n",
    "    yaxis_title='Price (USD)',\n",
    "    xaxis_title='Bar',\n",
    "    xaxis_rangeslider_visible=True, \n",
    "    template='seaborn', # other options: plotly, plotly_white, plotly_dark, simple_white\n",
    "    showlegend=True,\n",
    ")"
   ]
  },
  {
   "cell_type": "markdown",
   "id": "19b77922",
   "metadata": {},
   "source": [
    "## Volume bars"
   ]
  },
  {
   "cell_type": "markdown",
   "id": "252ece07",
   "metadata": {},
   "source": [
    "### Bar Chart"
   ]
  },
  {
   "cell_type": "code",
   "execution_count": 50,
   "id": "e331a1b5",
   "metadata": {},
   "outputs": [
    {
     "data": {
      "application/vnd.plotly.v1+json": {
       "config": {
        "plotlyServerURL": "https://plot.ly"
       },
       "data": [
        {
         "close": {
          "bdata": "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",
          "dtype": "f8"
         },
         "high": {
          "bdata": "AAAAAAAAWUA9CtejcP1YQM3MzMzM/FhAXI/C9Sj8WEAK16NwPfpYQEjhehSu91hApHA9CtfzWEAAAAAAAPBYQClcj8L16FhASOF6FK7nWEBcj8L1KOxYQArXo3A9+lhAj8L1KFz/WEAAAAAAAABZQFK4HoXrAVlAzczMzMz8WEAfhetRuP5YQM3MzMzM/FhAexSuR+H6WECPwvUoXP9YQHE9CtejAFlAw/UoXI8CWUAzMzMzMwNZQMP1KFyPAllASOF6FK4HWUAK16NwPQpZQPYoXI/CFVlAAAAAAAAQWUBcj8L1KAxZQClcj8L1CFlAXI/C9SgMWUB7FK5H4QpZQLgehetRCFlASOF6FK4HWUApXI/C9QhZQHE9CtejEFlAj8L1KFwPWUBSuB6F6xFZQKRwPQrXE1lAFK5H4XoUWUBmZmZmZhZZQLgehetRGFlAhetRuB4VWUAfhetRuA5ZQAAAAAAAEFlA9ihcj8IVWUDXo3A9ChdZQGZmZmZmFllAMzMzMzMjWUCuR+F6FB5ZQM3MzMzMHFlAFK5H4XoUWUAzMzMzMxNZQK5H4XoUDllASOF6FK4XWUDNzMzMzBxZQGZmZmZmFllAH4XrUbgOWUDD9ShcjxJZQHsUrkfhGllArkfhehQeWUCuR+F6FB5ZQM3MzMzMHFlAcT0K16MgWUApXI/C9RhZQBSuR+F6JFlArkfhehQeWUD2KFyPwhVZQI/C9ShcD1lAKVyPwvUIWUBmZmZmZgZZQArXo3A9CllAzczMzMwMWUCuR+F6FA5ZQIXrUbgeFVlAFK5H4XoUWUCuR+F6FB5ZQFyPwvUoHFlAuB6F61EYWUB7FK5H4RpZQKRwPQrXE1lAUrgehesRWUCamZmZmQlZQArXo3A9CllA4XoUrkcRWUCamZmZmRlZQM3MzMzMLFlAuB6F61EoWUBI4XoUridZQJqZmZmZKVlAFK5H4XokWUDsUbgehRtZQBSuR+F6JFlAw/UoXI8iWUAUrkfheiRZQFK4HoXrIVlAAAAAAAAQWUCkcD0K1xNZQKRwPQrXE1lArkfhehQOWUApXI/C9QhZQDMzMzMzA1lAmpmZmZkJWUAK16NwPQpZQOxRuB6FC1lA9ihcj8IVWUAzMzMzMxNZQLgehetRGFlAH4XrUbgeWUCamZmZmRlZQGZmZmZmFllAzczMzMwMWUC4HoXrUQhZQHE9CtejAFlAKVyPwvX4WEApXI/C9fhYQEjhehSu91hA7FG4HoX7WEApXI/C9fhYQAAAAAAA8FhAMzMzMzPzWEC4HoXrUfhYQMP1KFyP8lhAj8L1KFzvWEDNzMzMzOxYQFyPwvUo7FhA9ihcj8LlWEAUrkfheuRYQJqZmZmZ6VhAzczMzMzsWEAfhetRuO5YQMP1KFyP4lhA4XoUrkfhWEAAAAAAAOBYQMP1KFyP4lhAUrgehevhWEAzMzMzM+NYQOxRuB6F21hApHA9CtfTWECamZmZmdlYQB+F61G43lhAj8L1KFzfWEDNzMzMzNxYQFK4HoXr4VhAcT0K16PgWEBxPQrXo+BYQHsUrkfh2lhAXI/C9SjcWECuR+F6FN5YQDMzMzMz41hAFK5H4XrkWEAAAAAAAOBYQMP1KFyP4lhA16NwPQrnWEAUrkfheuRYQNejcD0K51hAexSuR+HqWECamZmZmelYQIXrUbge5VhAH4XrUbjeWEDNzMzMzNxYQJqZmZmZ6VhA7FG4HoXrWEA9CtejcO1YQHsUrkfh6lhA9ihcj8LlWEC4HoXrUehYQOxRuB6F61hACtejcD3qWEAUrkfheuRYQMP1KFyP8lhAw/UoXI/yWECPwvUoXO9YQK5H4XoU7lhAH4XrUbjuWEDsUbgehetYQJqZmZmZ6VhAmpmZmZnpWEDXo3A9CudYQIXrUbge5VhACtejcD3aWEDNzMzMzNxYQDMzMzMz41hAKVyPwvXoWECF61G4HuVYQFK4HoXr4VhAZmZmZmbWWEB7FK5H4dpYQK5H4XoU3lhA16NwPQrnWEBmZmZmZuZYQArXo3A96lhAXI/C9SjsWEAfhetRuO5YQIXrUbge9VhA16NwPQr3WEBSuB6F6/FYQKRwPQrX81hAmpmZmZn5WEA9CtejcP1YQIXrUbgeBVlASOF6FK4HWUDNzMzMzPxYQHsUrkfh+lhAKVyPwvX4WEApXI/C9fhYQEjhehSu91hA9ihcj8L1WEAAAAAAAPBYQK5H4XoU7lhAUrgehevxWECamZmZmelYQOxRuB6F61hACtejcD3qWEAfhetRuO5YQDMzMzMz81hApHA9CtfzWEDNzMzMzOxYQJqZmZmZ6VhAH4XrUbjuWEAK16NwPepYQClcj8L16FhAexSuR+HqWED2KFyPwvVYQKRwPQrX81hAUrgehevxWEAUrkfhevRYQB+F61G4/lhAXI/C9Sj8WEBcj8L1KPxYQK5H4XoU/lhArkfhehT+WEDXo3A9CgdZQNejcD0KF1lAmpmZmZkZWUD2KFyPwhVZQGZmZmZmFllAKVyPwvUYWUCamZmZmRlZQK5H4XoUHllAAAAAAAAgWUBSuB6F6yFZQPYoXI/CJVlA9ihcj8IlWUCkcD0K1yNZQDMzMzMzI1lAXI/C9SgsWUC4HoXrUShZQArXo3A9KllApHA9CtcjWUAzMzMzMyNZQArXo3A9KllAKVyPwvUoWUBI4XoUridZQJqZmZmZKVlAFK5H4XokWUCF61G4HiVZQD0K16NwLVlAFK5H4Xo0WUC4HoXrUThZQOxRuB6FO1lAw/UoXI9CWUBxPQrXo0BZQKRwPQrXM1lAcT0K16MwWUAUrkfheiRZQKRwPQrXI1lAKVyPwvUoWUApXI/C9ShZQEjhehSuJ1lA16NwPQonWUApXI/C9ShZQHsUrkfhKllAZmZmZmYmWUBmZmZmZiZZQHsUrkfhKllAZmZmZmY2WUAAAAAAADBZQD0K16NwLVlAH4XrUbguWUDhehSuRzFZQMP1KFyPMllArkfhehQuWUAzMzMzMyNZQDMzMzMzI1lAFK5H4XokWUAUrkfheiRZQD0K16NwLVlAcT0K16MwWUDD9ShcjzJZQPYoXI/CNVlAhetRuB41WUDD9ShcjzJZQD0K16NwLVlAH4XrUbguWUApXI/C9ShZQD0K16NwLVlArkfhehQuWUBI4XoUridZQB+F61G4LllAPQrXo3AtWUAUrkfhejRZQDMzMzMzM1lAH4XrUbguWUBSuB6F6zFZQI/C9ShcL1lAhetRuB41WUDNzMzMzCxZQI/C9ShcL1lAAAAAAAAwWUDhehSuRzFZQMP1KFyPMllA7FG4HoUrWUAfhetRuC5ZQMP1KFyPMllAUrgehesxWUCkcD0K1zNZQEjhehSuN1lApHA9CtczWUD2KFyPwjVZQGZmZmZmNllAKVyPwvU4WUBmZmZmZjZZQK5H4XoUPllAKVyPwvU4WUA9CtejcD1ZQBSuR+F6RFlAzczMzMxMWUAK16NwPUpZQPYoXI/CRVlA16NwPQpHWUDsUbgehUtZQM3MzMzMTFlA7FG4HoVLWUAK16NwPUpZQHsUrkfhSllACtejcD1KWUAfhetRuE5ZQHsUrkfhSllASOF6FK5HWUB7FK5H4UpZQArXo3A9SllA16NwPQpHWUD2KFyPwkVZQNejcD0KN1lAuB6F61E4WUDNzMzMzDxZQArXo3A9OllAmpmZmZk5WUApXI/C9ThZQGZmZmZmNllAmpmZmZk5WUDhehSuR0FZQFyPwvUoPFlACtejcD06WUAUrkfhejRZQPYoXI/CNVlAKVyPwvU4WUC4HoXrUThZQArXo3A9OllApHA9CtczWUAAAAAAADBZQDMzMzMzM1lAw/UoXI8yWUAfhetRuC5ZQB+F61G4LllACtejcD06WUD2KFyPwkVZQNejcD0KR1lAAAAAAABQWUBcj8L1KExZQA==",
          "dtype": "f8"
         },
         "low": {
          "bdata": "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",
          "dtype": "f8"
         },
         "name": "Volume Bars",
         "open": {
          "bdata": "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",
          "dtype": "f8"
         },
         "type": "candlestick",
         "x": {
          "bdata": "AAABAAIAAwAEAAUABgAHAAgACQAKAAsADAANAA4ADwAQABEAEgATABQAFQAWABcAGAAZABoAGwAcAB0AHgAfACAAIQAiACMAJAAlACYAJwAoACkAKgArACwALQAuAC8AMAAxADIAMwA0ADUANgA3ADgAOQA6ADsAPAA9AD4APwBAAEEAQgBDAEQARQBGAEcASABJAEoASwBMAE0ATgBPAFAAUQBSAFMAVABVAFYAVwBYAFkAWgBbAFwAXQBeAF8AYABhAGIAYwBkAGUAZgBnAGgAaQBqAGsAbABtAG4AbwBwAHEAcgBzAHQAdQB2AHcAeAB5AHoAewB8AH0AfgB/AIAAgQCCAIMAhACFAIYAhwCIAIkAigCLAIwAjQCOAI8AkACRAJIAkwCUAJUAlgCXAJgAmQCaAJsAnACdAJ4AnwCgAKEAogCjAKQApQCmAKcAqACpAKoAqwCsAK0ArgCvALAAsQCyALMAtAC1ALYAtwC4ALkAugC7ALwAvQC+AL8AwADBAMIAwwDEAMUAxgDHAMgAyQDKAMsAzADNAM4AzwDQANEA0gDTANQA1QDWANcA2ADZANoA2wDcAN0A3gDfAOAA4QDiAOMA5ADlAOYA5wDoAOkA6gDrAOwA7QDuAO8A8ADxAPIA8wD0APUA9gD3APgA+QD6APsA/AD9AP4A/wAAAQEBAgEDAQQBBQEGAQcBCAEJAQoBCwEMAQ0BDgEPARABEQESARMBFAEVARYBFwEYARkBGgEbARwBHQEeAR8BIAEhASIBIwEkASUBJgEnASgBKQEqASsBLAEtAS4BLwEwATEBMgEzATQBNQE2ATcBOAE5AToBOwE8AT0BPgE/AUABQQFCAUMBRAFFAUYBRwFIAUkBSgFLAUwBTQFOAU8BUAFRAVIBUwFUAVUBVgFXAVgBWQFaAVsBXAFdAV4BXwFgAWEBYgFjAWQBZQFmAWcBaAFpAWoBawFsAW0BbgFvAXABcQFyAQ==",
          "dtype": "i2"
         }
        }
       ],
       "layout": {
        "showlegend": true,
        "template": {
         "data": {
          "bar": [
           {
            "error_x": {
             "color": "rgb(36,36,36)"
            },
            "error_y": {
             "color": "rgb(36,36,36)"
            },
            "marker": {
             "line": {
              "color": "rgb(234,234,242)",
              "width": 0.5
             },
             "pattern": {
              "fillmode": "overlay",
              "size": 10,
              "solidity": 0.2
             }
            },
            "type": "bar"
           }
          ],
          "barpolar": [
           {
            "marker": {
             "line": {
              "color": "rgb(234,234,242)",
              "width": 0.5
             },
             "pattern": {
              "fillmode": "overlay",
              "size": 10,
              "solidity": 0.2
             }
            },
            "type": "barpolar"
           }
          ],
          "carpet": [
           {
            "aaxis": {
             "endlinecolor": "rgb(36,36,36)",
             "gridcolor": "white",
             "linecolor": "white",
             "minorgridcolor": "white",
             "startlinecolor": "rgb(36,36,36)"
            },
            "baxis": {
             "endlinecolor": "rgb(36,36,36)",
             "gridcolor": "white",
             "linecolor": "white",
             "minorgridcolor": "white",
             "startlinecolor": "rgb(36,36,36)"
            },
            "type": "carpet"
           }
          ],
          "choropleth": [
           {
            "colorbar": {
             "outlinewidth": 0,
             "tickcolor": "rgb(36,36,36)",
             "ticklen": 8,
             "ticks": "outside",
             "tickwidth": 2
            },
            "type": "choropleth"
           }
          ],
          "contour": [
           {
            "colorbar": {
             "outlinewidth": 0,
             "tickcolor": "rgb(36,36,36)",
             "ticklen": 8,
             "ticks": "outside",
             "tickwidth": 2
            },
            "colorscale": [
             [
              0,
              "rgb(2,4,25)"
             ],
             [
              0.06274509803921569,
              "rgb(24,15,41)"
             ],
             [
              0.12549019607843137,
              "rgb(47,23,57)"
             ],
             [
              0.18823529411764706,
              "rgb(71,28,72)"
             ],
             [
              0.25098039215686274,
              "rgb(97,30,82)"
             ],
             [
              0.3137254901960784,
              "rgb(123,30,89)"
             ],
             [
              0.3764705882352941,
              "rgb(150,27,91)"
             ],
             [
              0.4392156862745098,
              "rgb(177,22,88)"
             ],
             [
              0.5019607843137255,
              "rgb(203,26,79)"
             ],
             [
              0.5647058823529412,
              "rgb(223,47,67)"
             ],
             [
              0.6274509803921569,
              "rgb(236,76,61)"
             ],
             [
              0.6901960784313725,
              "rgb(242,107,73)"
             ],
             [
              0.7529411764705882,
              "rgb(244,135,95)"
             ],
             [
              0.8156862745098039,
              "rgb(245,162,122)"
             ],
             [
              0.8784313725490196,
              "rgb(246,188,153)"
             ],
             [
              0.9411764705882353,
              "rgb(247,212,187)"
             ],
             [
              1,
              "rgb(250,234,220)"
             ]
            ],
            "type": "contour"
           }
          ],
          "contourcarpet": [
           {
            "colorbar": {
             "outlinewidth": 0,
             "tickcolor": "rgb(36,36,36)",
             "ticklen": 8,
             "ticks": "outside",
             "tickwidth": 2
            },
            "type": "contourcarpet"
           }
          ],
          "heatmap": [
           {
            "colorbar": {
             "outlinewidth": 0,
             "tickcolor": "rgb(36,36,36)",
             "ticklen": 8,
             "ticks": "outside",
             "tickwidth": 2
            },
            "colorscale": [
             [
              0,
              "rgb(2,4,25)"
             ],
             [
              0.06274509803921569,
              "rgb(24,15,41)"
             ],
             [
              0.12549019607843137,
              "rgb(47,23,57)"
             ],
             [
              0.18823529411764706,
              "rgb(71,28,72)"
             ],
             [
              0.25098039215686274,
              "rgb(97,30,82)"
             ],
             [
              0.3137254901960784,
              "rgb(123,30,89)"
             ],
             [
              0.3764705882352941,
              "rgb(150,27,91)"
             ],
             [
              0.4392156862745098,
              "rgb(177,22,88)"
             ],
             [
              0.5019607843137255,
              "rgb(203,26,79)"
             ],
             [
              0.5647058823529412,
              "rgb(223,47,67)"
             ],
             [
              0.6274509803921569,
              "rgb(236,76,61)"
             ],
             [
              0.6901960784313725,
              "rgb(242,107,73)"
             ],
             [
              0.7529411764705882,
              "rgb(244,135,95)"
             ],
             [
              0.8156862745098039,
              "rgb(245,162,122)"
             ],
             [
              0.8784313725490196,
              "rgb(246,188,153)"
             ],
             [
              0.9411764705882353,
              "rgb(247,212,187)"
             ],
             [
              1,
              "rgb(250,234,220)"
             ]
            ],
            "type": "heatmap"
           }
          ],
          "histogram": [
           {
            "marker": {
             "pattern": {
              "fillmode": "overlay",
              "size": 10,
              "solidity": 0.2
             }
            },
            "type": "histogram"
           }
          ],
          "histogram2d": [
           {
            "colorbar": {
             "outlinewidth": 0,
             "tickcolor": "rgb(36,36,36)",
             "ticklen": 8,
             "ticks": "outside",
             "tickwidth": 2
            },
            "colorscale": [
             [
              0,
              "rgb(2,4,25)"
             ],
             [
              0.06274509803921569,
              "rgb(24,15,41)"
             ],
             [
              0.12549019607843137,
              "rgb(47,23,57)"
             ],
             [
              0.18823529411764706,
              "rgb(71,28,72)"
             ],
             [
              0.25098039215686274,
              "rgb(97,30,82)"
             ],
             [
              0.3137254901960784,
              "rgb(123,30,89)"
             ],
             [
              0.3764705882352941,
              "rgb(150,27,91)"
             ],
             [
              0.4392156862745098,
              "rgb(177,22,88)"
             ],
             [
              0.5019607843137255,
              "rgb(203,26,79)"
             ],
             [
              0.5647058823529412,
              "rgb(223,47,67)"
             ],
             [
              0.6274509803921569,
              "rgb(236,76,61)"
             ],
             [
              0.6901960784313725,
              "rgb(242,107,73)"
             ],
             [
              0.7529411764705882,
              "rgb(244,135,95)"
             ],
             [
              0.8156862745098039,
              "rgb(245,162,122)"
             ],
             [
              0.8784313725490196,
              "rgb(246,188,153)"
             ],
             [
              0.9411764705882353,
              "rgb(247,212,187)"
             ],
             [
              1,
              "rgb(250,234,220)"
             ]
            ],
            "type": "histogram2d"
           }
          ],
          "histogram2dcontour": [
           {
            "colorbar": {
             "outlinewidth": 0,
             "tickcolor": "rgb(36,36,36)",
             "ticklen": 8,
             "ticks": "outside",
             "tickwidth": 2
            },
            "colorscale": [
             [
              0,
              "rgb(2,4,25)"
             ],
             [
              0.06274509803921569,
              "rgb(24,15,41)"
             ],
             [
              0.12549019607843137,
              "rgb(47,23,57)"
             ],
             [
              0.18823529411764706,
              "rgb(71,28,72)"
             ],
             [
              0.25098039215686274,
              "rgb(97,30,82)"
             ],
             [
              0.3137254901960784,
              "rgb(123,30,89)"
             ],
             [
              0.3764705882352941,
              "rgb(150,27,91)"
             ],
             [
              0.4392156862745098,
              "rgb(177,22,88)"
             ],
             [
              0.5019607843137255,
              "rgb(203,26,79)"
             ],
             [
              0.5647058823529412,
              "rgb(223,47,67)"
             ],
             [
              0.6274509803921569,
              "rgb(236,76,61)"
             ],
             [
              0.6901960784313725,
              "rgb(242,107,73)"
             ],
             [
              0.7529411764705882,
              "rgb(244,135,95)"
             ],
             [
              0.8156862745098039,
              "rgb(245,162,122)"
             ],
             [
              0.8784313725490196,
              "rgb(246,188,153)"
             ],
             [
              0.9411764705882353,
              "rgb(247,212,187)"
             ],
             [
              1,
              "rgb(250,234,220)"
             ]
            ],
            "type": "histogram2dcontour"
           }
          ],
          "mesh3d": [
           {
            "colorbar": {
             "outlinewidth": 0,
             "tickcolor": "rgb(36,36,36)",
             "ticklen": 8,
             "ticks": "outside",
             "tickwidth": 2
            },
            "type": "mesh3d"
           }
          ],
          "parcoords": [
           {
            "line": {
             "colorbar": {
              "outlinewidth": 0,
              "tickcolor": "rgb(36,36,36)",
              "ticklen": 8,
              "ticks": "outside",
              "tickwidth": 2
             }
            },
            "type": "parcoords"
           }
          ],
          "pie": [
           {
            "automargin": true,
            "type": "pie"
           }
          ],
          "scatter": [
           {
            "fillpattern": {
             "fillmode": "overlay",
             "size": 10,
             "solidity": 0.2
            },
            "type": "scatter"
           }
          ],
          "scatter3d": [
           {
            "line": {
             "colorbar": {
              "outlinewidth": 0,
              "tickcolor": "rgb(36,36,36)",
              "ticklen": 8,
              "ticks": "outside",
              "tickwidth": 2
             }
            },
            "marker": {
             "colorbar": {
              "outlinewidth": 0,
              "tickcolor": "rgb(36,36,36)",
              "ticklen": 8,
              "ticks": "outside",
              "tickwidth": 2
             }
            },
            "type": "scatter3d"
           }
          ],
          "scattercarpet": [
           {
            "marker": {
             "colorbar": {
              "outlinewidth": 0,
              "tickcolor": "rgb(36,36,36)",
              "ticklen": 8,
              "ticks": "outside",
              "tickwidth": 2
             }
            },
            "type": "scattercarpet"
           }
          ],
          "scattergeo": [
           {
            "marker": {
             "colorbar": {
              "outlinewidth": 0,
              "tickcolor": "rgb(36,36,36)",
              "ticklen": 8,
              "ticks": "outside",
              "tickwidth": 2
             }
            },
            "type": "scattergeo"
           }
          ],
          "scattergl": [
           {
            "marker": {
             "colorbar": {
              "outlinewidth": 0,
              "tickcolor": "rgb(36,36,36)",
              "ticklen": 8,
              "ticks": "outside",
              "tickwidth": 2
             }
            },
            "type": "scattergl"
           }
          ],
          "scattermap": [
           {
            "marker": {
             "colorbar": {
              "outlinewidth": 0,
              "tickcolor": "rgb(36,36,36)",
              "ticklen": 8,
              "ticks": "outside",
              "tickwidth": 2
             }
            },
            "type": "scattermap"
           }
          ],
          "scattermapbox": [
           {
            "marker": {
             "colorbar": {
              "outlinewidth": 0,
              "tickcolor": "rgb(36,36,36)",
              "ticklen": 8,
              "ticks": "outside",
              "tickwidth": 2
             }
            },
            "type": "scattermapbox"
           }
          ],
          "scatterpolar": [
           {
            "marker": {
             "colorbar": {
              "outlinewidth": 0,
              "tickcolor": "rgb(36,36,36)",
              "ticklen": 8,
              "ticks": "outside",
              "tickwidth": 2
             }
            },
            "type": "scatterpolar"
           }
          ],
          "scatterpolargl": [
           {
            "marker": {
             "colorbar": {
              "outlinewidth": 0,
              "tickcolor": "rgb(36,36,36)",
              "ticklen": 8,
              "ticks": "outside",
              "tickwidth": 2
             }
            },
            "type": "scatterpolargl"
           }
          ],
          "scatterternary": [
           {
            "marker": {
             "colorbar": {
              "outlinewidth": 0,
              "tickcolor": "rgb(36,36,36)",
              "ticklen": 8,
              "ticks": "outside",
              "tickwidth": 2
             }
            },
            "type": "scatterternary"
           }
          ],
          "surface": [
           {
            "colorbar": {
             "outlinewidth": 0,
             "tickcolor": "rgb(36,36,36)",
             "ticklen": 8,
             "ticks": "outside",
             "tickwidth": 2
            },
            "colorscale": [
             [
              0,
              "rgb(2,4,25)"
             ],
             [
              0.06274509803921569,
              "rgb(24,15,41)"
             ],
             [
              0.12549019607843137,
              "rgb(47,23,57)"
             ],
             [
              0.18823529411764706,
              "rgb(71,28,72)"
             ],
             [
              0.25098039215686274,
              "rgb(97,30,82)"
             ],
             [
              0.3137254901960784,
              "rgb(123,30,89)"
             ],
             [
              0.3764705882352941,
              "rgb(150,27,91)"
             ],
             [
              0.4392156862745098,
              "rgb(177,22,88)"
             ],
             [
              0.5019607843137255,
              "rgb(203,26,79)"
             ],
             [
              0.5647058823529412,
              "rgb(223,47,67)"
             ],
             [
              0.6274509803921569,
              "rgb(236,76,61)"
             ],
             [
              0.6901960784313725,
              "rgb(242,107,73)"
             ],
             [
              0.7529411764705882,
              "rgb(244,135,95)"
             ],
             [
              0.8156862745098039,
              "rgb(245,162,122)"
             ],
             [
              0.8784313725490196,
              "rgb(246,188,153)"
             ],
             [
              0.9411764705882353,
              "rgb(247,212,187)"
             ],
             [
              1,
              "rgb(250,234,220)"
             ]
            ],
            "type": "surface"
           }
          ],
          "table": [
           {
            "cells": {
             "fill": {
              "color": "rgb(231,231,240)"
             },
             "line": {
              "color": "white"
             }
            },
            "header": {
             "fill": {
              "color": "rgb(183,183,191)"
             },
             "line": {
              "color": "white"
             }
            },
            "type": "table"
           }
          ]
         },
         "layout": {
          "annotationdefaults": {
           "arrowcolor": "rgb(67,103,167)"
          },
          "autotypenumbers": "strict",
          "coloraxis": {
           "colorbar": {
            "outlinewidth": 0,
            "tickcolor": "rgb(36,36,36)",
            "ticklen": 8,
            "ticks": "outside",
            "tickwidth": 2
           }
          },
          "colorscale": {
           "sequential": [
            [
             0,
             "rgb(2,4,25)"
            ],
            [
             0.06274509803921569,
             "rgb(24,15,41)"
            ],
            [
             0.12549019607843137,
             "rgb(47,23,57)"
            ],
            [
             0.18823529411764706,
             "rgb(71,28,72)"
            ],
            [
             0.25098039215686274,
             "rgb(97,30,82)"
            ],
            [
             0.3137254901960784,
             "rgb(123,30,89)"
            ],
            [
             0.3764705882352941,
             "rgb(150,27,91)"
            ],
            [
             0.4392156862745098,
             "rgb(177,22,88)"
            ],
            [
             0.5019607843137255,
             "rgb(203,26,79)"
            ],
            [
             0.5647058823529412,
             "rgb(223,47,67)"
            ],
            [
             0.6274509803921569,
             "rgb(236,76,61)"
            ],
            [
             0.6901960784313725,
             "rgb(242,107,73)"
            ],
            [
             0.7529411764705882,
             "rgb(244,135,95)"
            ],
            [
             0.8156862745098039,
             "rgb(245,162,122)"
            ],
            [
             0.8784313725490196,
             "rgb(246,188,153)"
            ],
            [
             0.9411764705882353,
             "rgb(247,212,187)"
            ],
            [
             1,
             "rgb(250,234,220)"
            ]
           ],
           "sequentialminus": [
            [
             0,
             "rgb(2,4,25)"
            ],
            [
             0.06274509803921569,
             "rgb(24,15,41)"
            ],
            [
             0.12549019607843137,
             "rgb(47,23,57)"
            ],
            [
             0.18823529411764706,
             "rgb(71,28,72)"
            ],
            [
             0.25098039215686274,
             "rgb(97,30,82)"
            ],
            [
             0.3137254901960784,
             "rgb(123,30,89)"
            ],
            [
             0.3764705882352941,
             "rgb(150,27,91)"
            ],
            [
             0.4392156862745098,
             "rgb(177,22,88)"
            ],
            [
             0.5019607843137255,
             "rgb(203,26,79)"
            ],
            [
             0.5647058823529412,
             "rgb(223,47,67)"
            ],
            [
             0.6274509803921569,
             "rgb(236,76,61)"
            ],
            [
             0.6901960784313725,
             "rgb(242,107,73)"
            ],
            [
             0.7529411764705882,
             "rgb(244,135,95)"
            ],
            [
             0.8156862745098039,
             "rgb(245,162,122)"
            ],
            [
             0.8784313725490196,
             "rgb(246,188,153)"
            ],
            [
             0.9411764705882353,
             "rgb(247,212,187)"
            ],
            [
             1,
             "rgb(250,234,220)"
            ]
           ]
          },
          "colorway": [
           "rgb(76,114,176)",
           "rgb(221,132,82)",
           "rgb(85,168,104)",
           "rgb(196,78,82)",
           "rgb(129,114,179)",
           "rgb(147,120,96)",
           "rgb(218,139,195)",
           "rgb(140,140,140)",
           "rgb(204,185,116)",
           "rgb(100,181,205)"
          ],
          "font": {
           "color": "rgb(36,36,36)"
          },
          "geo": {
           "bgcolor": "white",
           "lakecolor": "white",
           "landcolor": "rgb(234,234,242)",
           "showlakes": true,
           "showland": true,
           "subunitcolor": "white"
          },
          "hoverlabel": {
           "align": "left"
          },
          "hovermode": "closest",
          "paper_bgcolor": "white",
          "plot_bgcolor": "rgb(234,234,242)",
          "polar": {
           "angularaxis": {
            "gridcolor": "white",
            "linecolor": "white",
            "showgrid": true,
            "ticks": ""
           },
           "bgcolor": "rgb(234,234,242)",
           "radialaxis": {
            "gridcolor": "white",
            "linecolor": "white",
            "showgrid": true,
            "ticks": ""
           }
          },
          "scene": {
           "xaxis": {
            "backgroundcolor": "rgb(234,234,242)",
            "gridcolor": "white",
            "gridwidth": 2,
            "linecolor": "white",
            "showbackground": true,
            "showgrid": true,
            "ticks": "",
            "zerolinecolor": "white"
           },
           "yaxis": {
            "backgroundcolor": "rgb(234,234,242)",
            "gridcolor": "white",
            "gridwidth": 2,
            "linecolor": "white",
            "showbackground": true,
            "showgrid": true,
            "ticks": "",
            "zerolinecolor": "white"
           },
           "zaxis": {
            "backgroundcolor": "rgb(234,234,242)",
            "gridcolor": "white",
            "gridwidth": 2,
            "linecolor": "white",
            "showbackground": true,
            "showgrid": true,
            "ticks": "",
            "zerolinecolor": "white"
           }
          },
          "shapedefaults": {
           "fillcolor": "rgb(67,103,167)",
           "line": {
            "width": 0
           },
           "opacity": 0.5
          },
          "ternary": {
           "aaxis": {
            "gridcolor": "white",
            "linecolor": "white",
            "showgrid": true,
            "ticks": ""
           },
           "baxis": {
            "gridcolor": "white",
            "linecolor": "white",
            "showgrid": true,
            "ticks": ""
           },
           "bgcolor": "rgb(234,234,242)",
           "caxis": {
            "gridcolor": "white",
            "linecolor": "white",
            "showgrid": true,
            "ticks": ""
           }
          },
          "xaxis": {
           "automargin": true,
           "gridcolor": "white",
           "linecolor": "white",
           "showgrid": true,
           "ticks": "",
           "title": {
            "standoff": 15
           },
           "zerolinecolor": "white"
          },
          "yaxis": {
           "automargin": true,
           "gridcolor": "white",
           "linecolor": "white",
           "showgrid": true,
           "ticks": "",
           "title": {
            "standoff": 15
           },
           "zerolinecolor": "white"
          }
         }
        },
        "title": {
         "text": "Volume Bars"
        },
        "xaxis": {
         "rangeslider": {
          "visible": true
         },
         "title": {
          "text": "Bar"
         }
        },
        "yaxis": {
         "title": {
          "text": "Price (USD)"
         }
        }
       }
      }
     },
     "metadata": {},
     "output_type": "display_data"
    }
   ],
   "source": [
    "fig = go.Figure(data=[go.Candlestick(\n",
    "    x=volume_bars.index,\n",
    "    open=volume_bars['open'],\n",
    "    high=volume_bars['high'],\n",
    "    low=volume_bars['low'],\n",
    "    close=volume_bars['close'],\n",
    "    name='Volume Bars'\n",
    ")])\n",
    "\n",
    "fig.update_layout(\n",
    "    title=f'Volume Bars',\n",
    "    yaxis_title='Price (USD)',\n",
    "    xaxis_title='Bar',\n",
    "    xaxis_rangeslider_visible=True, \n",
    "    template='seaborn', # other options: plotly, plotly_white, plotly_dark, simple_white\n",
    "    showlegend=True,\n",
    ")"
   ]
  },
  {
   "cell_type": "markdown",
   "id": "ff92a685",
   "metadata": {},
   "source": [
    "### Time Chart"
   ]
  },
  {
   "cell_type": "code",
   "execution_count": 51,
   "id": "8caa8092",
   "metadata": {},
   "outputs": [
    {
     "data": {
      "application/vnd.plotly.v1+json": {
       "config": {
        "plotlyServerURL": "https://plot.ly"
       },
       "data": [
        {
         "close": {
          "bdata": "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",
          "dtype": "f8"
         },
         "high": {
          "bdata": "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",
          "dtype": "f8"
         },
         "low": {
          "bdata": "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",
          "dtype": "f8"
         },
         "name": "Volume Bars",
         "open": {
          "bdata": "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",
          "dtype": "f8"
         },
         "type": "candlestick",
         "x": [
          "2025-07-14T09:30:24.000000000",
          "2025-07-14T09:30:51.000000000",
          "2025-07-14T09:31:59.000000000",
          "2025-07-14T09:34:40.000000000",
          "2025-07-14T09:35:06.000000000",
          "2025-07-14T09:35:57.000000000",
          "2025-07-14T09:37:43.000000000",
          "2025-07-14T09:40:27.000000000",
          "2025-07-14T09:41:30.000000000",
          "2025-07-14T09:42:04.000000000",
          "2025-07-14T09:42:26.000000000",
          "2025-07-14T09:44:28.000000000",
          "2025-07-14T09:44:57.000000000",
          "2025-07-14T09:46:03.000000000",
          "2025-07-14T09:46:52.000000000",
          "2025-07-14T09:48:03.000000000",
          "2025-07-14T09:49:43.000000000",
          "2025-07-14T09:51:10.000000000",
          "2025-07-14T09:51:46.000000000",
          "2025-07-14T09:52:10.000000000",
          "2025-07-14T09:53:44.000000000",
          "2025-07-14T09:55:10.000000000",
          "2025-07-14T09:55:16.000000000",
          "2025-07-14T09:57:16.000000000",
          "2025-07-14T09:58:26.000000000",
          "2025-07-14T10:00:42.000000000",
          "2025-07-14T10:01:17.000000000",
          "2025-07-14T10:03:16.000000000",
          "2025-07-14T10:03:44.000000000",
          "2025-07-14T10:05:20.000000000",
          "2025-07-14T10:05:57.000000000",
          "2025-07-14T10:06:09.000000000",
          "2025-07-14T10:06:35.000000000",
          "2025-07-14T10:07:27.000000000",
          "2025-07-14T10:08:01.000000000",
          "2025-07-14T10:08:12.000000000",
          "2025-07-14T10:09:07.000000000",
          "2025-07-14T10:09:30.000000000",
          "2025-07-14T10:11:10.000000000",
          "2025-07-14T10:11:49.000000000",
          "2025-07-14T10:14:05.000000000",
          "2025-07-14T10:14:16.000000000",
          "2025-07-14T10:14:35.000000000",
          "2025-07-14T10:15:18.000000000",
          "2025-07-14T10:15:43.000000000",
          "2025-07-14T10:16:34.000000000",
          "2025-07-14T10:17:02.000000000",
          "2025-07-14T10:18:47.000000000",
          "2025-07-14T10:18:54.000000000",
          "2025-07-14T10:21:06.000000000",
          "2025-07-14T10:21:45.000000000",
          "2025-07-14T10:22:27.000000000",
          "2025-07-14T10:23:25.000000000",
          "2025-07-14T10:23:50.000000000",
          "2025-07-14T10:25:09.000000000",
          "2025-07-14T10:29:13.000000000",
          "2025-07-14T10:30:06.000000000",
          "2025-07-14T10:30:22.000000000",
          "2025-07-14T10:31:13.000000000",
          "2025-07-14T10:31:56.000000000",
          "2025-07-14T10:32:19.000000000",
          "2025-07-14T10:32:28.000000000",
          "2025-07-14T10:33:24.000000000",
          "2025-07-14T10:35:00.000000000",
          "2025-07-14T10:37:17.000000000",
          "2025-07-14T10:38:47.000000000",
          "2025-07-14T10:39:25.000000000",
          "2025-07-14T10:40:57.000000000",
          "2025-07-14T10:42:19.000000000",
          "2025-07-14T10:42:47.000000000",
          "2025-07-14T10:44:40.000000000",
          "2025-07-14T10:45:37.000000000",
          "2025-07-14T10:46:10.000000000",
          "2025-07-14T10:46:34.000000000",
          "2025-07-14T10:47:30.000000000",
          "2025-07-14T10:51:53.000000000",
          "2025-07-14T10:52:52.000000000",
          "2025-07-14T10:54:45.000000000",
          "2025-07-14T10:55:44.000000000",
          "2025-07-14T10:57:16.000000000",
          "2025-07-14T10:57:27.000000000",
          "2025-07-14T10:58:57.000000000",
          "2025-07-14T11:01:04.000000000",
          "2025-07-14T11:01:31.000000000",
          "2025-07-14T11:03:56.000000000",
          "2025-07-14T11:05:00.000000000",
          "2025-07-14T11:05:31.000000000",
          "2025-07-14T11:09:22.000000000",
          "2025-07-14T11:10:25.000000000",
          "2025-07-14T11:12:01.000000000",
          "2025-07-14T11:12:46.000000000",
          "2025-07-14T11:13:02.000000000",
          "2025-07-14T11:14:28.000000000",
          "2025-07-14T11:15:54.000000000",
          "2025-07-14T11:16:24.000000000",
          "2025-07-14T11:16:46.000000000",
          "2025-07-14T11:17:41.000000000",
          "2025-07-14T11:18:11.000000000",
          "2025-07-14T11:18:23.000000000",
          "2025-07-14T11:19:09.000000000",
          "2025-07-14T11:20:45.000000000",
          "2025-07-14T11:21:22.000000000",
          "2025-07-14T11:22:15.000000000",
          "2025-07-14T11:23:02.000000000",
          "2025-07-14T11:23:51.000000000",
          "2025-07-14T11:25:49.000000000",
          "2025-07-14T11:29:24.000000000",
          "2025-07-14T11:29:45.000000000",
          "2025-07-14T11:32:19.000000000",
          "2025-07-14T11:34:37.000000000",
          "2025-07-14T11:36:10.000000000",
          "2025-07-14T11:36:58.000000000",
          "2025-07-14T11:37:23.000000000",
          "2025-07-14T11:38:23.000000000",
          "2025-07-14T11:39:31.000000000",
          "2025-07-14T11:40:09.000000000",
          "2025-07-14T11:40:51.000000000",
          "2025-07-14T11:42:07.000000000",
          "2025-07-14T11:42:54.000000000",
          "2025-07-14T11:44:40.000000000",
          "2025-07-14T11:45:37.000000000",
          "2025-07-14T11:46:51.000000000",
          "2025-07-14T11:48:15.000000000",
          "2025-07-14T11:48:37.000000000",
          "2025-07-14T11:49:19.000000000",
          "2025-07-14T11:50:02.000000000",
          "2025-07-14T11:51:59.000000000",
          "2025-07-14T11:54:10.000000000",
          "2025-07-14T11:55:22.000000000",
          "2025-07-14T11:56:15.000000000",
          "2025-07-14T11:57:02.000000000",
          "2025-07-14T11:58:11.000000000",
          "2025-07-14T11:58:44.000000000",
          "2025-07-14T11:59:28.000000000",
          "2025-07-14T11:59:54.000000000",
          "2025-07-14T12:01:26.000000000",
          "2025-07-14T12:02:07.000000000",
          "2025-07-14T12:04:11.000000000",
          "2025-07-14T12:05:19.000000000",
          "2025-07-14T12:05:34.000000000",
          "2025-07-14T12:07:00.000000000",
          "2025-07-14T12:07:46.000000000",
          "2025-07-14T12:09:07.000000000",
          "2025-07-14T12:09:22.000000000",
          "2025-07-14T12:09:53.000000000",
          "2025-07-14T12:10:39.000000000",
          "2025-07-14T12:14:26.000000000",
          "2025-07-14T12:15:37.000000000",
          "2025-07-14T12:15:44.000000000",
          "2025-07-14T12:16:23.000000000",
          "2025-07-14T12:17:15.000000000",
          "2025-07-14T12:18:36.000000000",
          "2025-07-14T12:20:42.000000000",
          "2025-07-14T12:21:01.000000000",
          "2025-07-14T12:21:59.000000000",
          "2025-07-14T12:23:05.000000000",
          "2025-07-14T12:24:56.000000000",
          "2025-07-14T12:26:22.000000000",
          "2025-07-14T12:26:50.000000000",
          "2025-07-14T12:27:06.000000000",
          "2025-07-14T12:28:55.000000000",
          "2025-07-14T12:29:21.000000000",
          "2025-07-14T12:30:00.000000000",
          "2025-07-14T12:30:44.000000000",
          "2025-07-14T12:32:10.000000000",
          "2025-07-14T12:33:01.000000000",
          "2025-07-14T12:33:15.000000000",
          "2025-07-14T12:33:50.000000000",
          "2025-07-14T12:34:23.000000000",
          "2025-07-14T12:35:22.000000000",
          "2025-07-14T12:35:55.000000000",
          "2025-07-14T12:38:20.000000000",
          "2025-07-14T12:39:23.000000000",
          "2025-07-14T12:39:34.000000000",
          "2025-07-14T12:40:57.000000000",
          "2025-07-14T12:41:43.000000000",
          "2025-07-14T12:43:12.000000000",
          "2025-07-14T12:44:08.000000000",
          "2025-07-14T12:44:35.000000000",
          "2025-07-14T12:44:44.000000000",
          "2025-07-14T12:45:29.000000000",
          "2025-07-14T12:45:52.000000000",
          "2025-07-14T12:46:38.000000000",
          "2025-07-14T12:47:21.000000000",
          "2025-07-14T12:48:17.000000000",
          "2025-07-14T12:48:39.000000000",
          "2025-07-14T12:49:45.000000000",
          "2025-07-14T12:49:57.000000000",
          "2025-07-14T12:50:37.000000000",
          "2025-07-14T12:51:48.000000000",
          "2025-07-14T12:52:42.000000000",
          "2025-07-14T12:53:04.000000000",
          "2025-07-14T12:54:38.000000000",
          "2025-07-14T12:57:01.000000000",
          "2025-07-14T12:57:43.000000000",
          "2025-07-14T12:58:30.000000000",
          "2025-07-14T12:58:39.000000000",
          "2025-07-14T13:00:01.000000000",
          "2025-07-14T13:01:21.000000000",
          "2025-07-14T13:01:52.000000000",
          "2025-07-14T13:02:35.000000000",
          "2025-07-14T13:03:08.000000000",
          "2025-07-14T13:04:25.000000000",
          "2025-07-14T13:05:00.000000000",
          "2025-07-14T13:05:21.000000000",
          "2025-07-14T13:05:49.000000000",
          "2025-07-14T13:06:11.000000000",
          "2025-07-14T13:06:25.000000000",
          "2025-07-14T13:06:57.000000000",
          "2025-07-14T13:08:31.000000000",
          "2025-07-14T13:09:28.000000000",
          "2025-07-14T13:11:21.000000000",
          "2025-07-14T13:12:30.000000000",
          "2025-07-14T13:13:24.000000000",
          "2025-07-14T13:13:52.000000000",
          "2025-07-14T13:14:43.000000000",
          "2025-07-14T13:15:34.000000000",
          "2025-07-14T13:16:07.000000000",
          "2025-07-14T13:18:34.000000000",
          "2025-07-14T13:19:26.000000000",
          "2025-07-14T13:19:50.000000000",
          "2025-07-14T13:20:06.000000000",
          "2025-07-14T13:21:17.000000000",
          "2025-07-14T13:22:02.000000000",
          "2025-07-14T13:23:00.000000000",
          "2025-07-14T13:23:06.000000000",
          "2025-07-14T13:23:58.000000000",
          "2025-07-14T13:26:51.000000000",
          "2025-07-14T13:27:03.000000000",
          "2025-07-14T13:27:34.000000000",
          "2025-07-14T13:28:08.000000000",
          "2025-07-14T13:29:25.000000000",
          "2025-07-14T13:30:25.000000000",
          "2025-07-14T13:31:10.000000000",
          "2025-07-14T13:31:56.000000000",
          "2025-07-14T13:32:49.000000000",
          "2025-07-14T13:33:39.000000000",
          "2025-07-14T13:34:25.000000000",
          "2025-07-14T13:35:11.000000000",
          "2025-07-14T13:37:00.000000000",
          "2025-07-14T13:37:50.000000000",
          "2025-07-14T13:38:23.000000000",
          "2025-07-14T13:39:34.000000000",
          "2025-07-14T13:41:29.000000000",
          "2025-07-14T13:42:41.000000000",
          "2025-07-14T13:44:11.000000000",
          "2025-07-14T13:45:12.000000000",
          "2025-07-14T13:45:41.000000000",
          "2025-07-14T13:46:20.000000000",
          "2025-07-14T13:47:50.000000000",
          "2025-07-14T13:49:40.000000000",
          "2025-07-14T13:50:04.000000000",
          "2025-07-14T13:51:00.000000000",
          "2025-07-14T13:52:16.000000000",
          "2025-07-14T13:52:22.000000000",
          "2025-07-14T13:52:38.000000000",
          "2025-07-14T13:53:28.000000000",
          "2025-07-14T13:54:41.000000000",
          "2025-07-14T13:55:42.000000000",
          "2025-07-14T13:56:32.000000000",
          "2025-07-14T13:57:16.000000000",
          "2025-07-14T13:58:26.000000000",
          "2025-07-14T13:59:24.000000000",
          "2025-07-14T13:59:58.000000000",
          "2025-07-14T14:00:40.000000000",
          "2025-07-14T14:01:27.000000000",
          "2025-07-14T14:01:34.000000000",
          "2025-07-14T14:01:40.000000000",
          "2025-07-14T14:03:33.000000000",
          "2025-07-14T14:05:49.000000000",
          "2025-07-14T14:06:47.000000000",
          "2025-07-14T14:07:47.000000000",
          "2025-07-14T14:07:55.000000000",
          "2025-07-14T14:08:46.000000000",
          "2025-07-14T14:09:26.000000000",
          "2025-07-14T14:12:26.000000000",
          "2025-07-14T14:14:39.000000000",
          "2025-07-14T14:17:38.000000000",
          "2025-07-14T14:17:54.000000000",
          "2025-07-14T14:18:15.000000000",
          "2025-07-14T14:19:02.000000000",
          "2025-07-14T14:21:38.000000000",
          "2025-07-14T14:22:16.000000000",
          "2025-07-14T14:23:00.000000000",
          "2025-07-14T14:24:07.000000000",
          "2025-07-14T14:25:04.000000000",
          "2025-07-14T14:27:19.000000000",
          "2025-07-14T14:28:33.000000000",
          "2025-07-14T14:30:29.000000000",
          "2025-07-14T14:31:22.000000000",
          "2025-07-14T14:32:42.000000000",
          "2025-07-14T14:33:30.000000000",
          "2025-07-14T14:33:59.000000000",
          "2025-07-14T14:34:18.000000000",
          "2025-07-14T14:35:31.000000000",
          "2025-07-14T14:36:09.000000000",
          "2025-07-14T14:38:16.000000000",
          "2025-07-14T14:38:25.000000000",
          "2025-07-14T14:40:40.000000000",
          "2025-07-14T14:40:59.000000000",
          "2025-07-14T14:42:20.000000000",
          "2025-07-14T14:42:54.000000000",
          "2025-07-14T14:44:54.000000000",
          "2025-07-14T14:45:07.000000000",
          "2025-07-14T14:45:53.000000000",
          "2025-07-14T14:47:20.000000000",
          "2025-07-14T14:48:24.000000000",
          "2025-07-14T14:49:33.000000000",
          "2025-07-14T14:49:49.000000000",
          "2025-07-14T14:51:23.000000000",
          "2025-07-14T14:53:04.000000000",
          "2025-07-14T14:53:19.000000000",
          "2025-07-14T14:54:17.000000000",
          "2025-07-14T14:55:04.000000000",
          "2025-07-14T14:57:13.000000000",
          "2025-07-14T14:57:50.000000000",
          "2025-07-14T14:59:23.000000000",
          "2025-07-14T15:01:49.000000000",
          "2025-07-14T15:03:27.000000000",
          "2025-07-14T15:03:50.000000000",
          "2025-07-14T15:04:30.000000000",
          "2025-07-14T15:05:20.000000000",
          "2025-07-14T15:05:52.000000000",
          "2025-07-14T15:06:23.000000000",
          "2025-07-14T15:06:53.000000000",
          "2025-07-14T15:08:02.000000000",
          "2025-07-14T15:10:25.000000000",
          "2025-07-14T15:11:05.000000000",
          "2025-07-14T15:11:25.000000000",
          "2025-07-14T15:12:37.000000000",
          "2025-07-14T15:16:44.000000000",
          "2025-07-14T15:17:35.000000000",
          "2025-07-14T15:18:45.000000000",
          "2025-07-14T15:19:12.000000000",
          "2025-07-14T15:20:22.000000000",
          "2025-07-14T15:21:49.000000000",
          "2025-07-14T15:23:15.000000000",
          "2025-07-14T15:24:04.000000000",
          "2025-07-14T15:27:12.000000000",
          "2025-07-14T15:27:53.000000000",
          "2025-07-14T15:29:09.000000000",
          "2025-07-14T15:29:33.000000000",
          "2025-07-14T15:30:00.000000000",
          "2025-07-14T15:30:12.000000000",
          "2025-07-14T15:32:29.000000000",
          "2025-07-14T15:33:22.000000000",
          "2025-07-14T15:33:55.000000000",
          "2025-07-14T15:35:45.000000000",
          "2025-07-14T15:36:12.000000000",
          "2025-07-14T15:37:09.000000000",
          "2025-07-14T15:37:47.000000000",
          "2025-07-14T15:39:31.000000000",
          "2025-07-14T15:40:33.000000000",
          "2025-07-14T15:41:07.000000000",
          "2025-07-14T15:41:47.000000000",
          "2025-07-14T15:42:15.000000000",
          "2025-07-14T15:42:41.000000000",
          "2025-07-14T15:44:26.000000000",
          "2025-07-14T15:46:40.000000000",
          "2025-07-14T15:47:09.000000000",
          "2025-07-14T15:48:23.000000000",
          "2025-07-14T15:48:32.000000000",
          "2025-07-14T15:51:04.000000000",
          "2025-07-14T15:51:54.000000000",
          "2025-07-14T15:53:52.000000000",
          "2025-07-14T15:54:33.000000000",
          "2025-07-14T15:55:28.000000000",
          "2025-07-14T15:57:27.000000000",
          "2025-07-14T15:57:46.000000000",
          "2025-07-14T15:59:15.000000000",
          "2025-07-14T15:59:47.000000000"
         ]
        }
       ],
       "layout": {
        "showlegend": true,
        "template": {
         "data": {
          "bar": [
           {
            "error_x": {
             "color": "rgb(36,36,36)"
            },
            "error_y": {
             "color": "rgb(36,36,36)"
            },
            "marker": {
             "line": {
              "color": "rgb(234,234,242)",
              "width": 0.5
             },
             "pattern": {
              "fillmode": "overlay",
              "size": 10,
              "solidity": 0.2
             }
            },
            "type": "bar"
           }
          ],
          "barpolar": [
           {
            "marker": {
             "line": {
              "color": "rgb(234,234,242)",
              "width": 0.5
             },
             "pattern": {
              "fillmode": "overlay",
              "size": 10,
              "solidity": 0.2
             }
            },
            "type": "barpolar"
           }
          ],
          "carpet": [
           {
            "aaxis": {
             "endlinecolor": "rgb(36,36,36)",
             "gridcolor": "white",
             "linecolor": "white",
             "minorgridcolor": "white",
             "startlinecolor": "rgb(36,36,36)"
            },
            "baxis": {
             "endlinecolor": "rgb(36,36,36)",
             "gridcolor": "white",
             "linecolor": "white",
             "minorgridcolor": "white",
             "startlinecolor": "rgb(36,36,36)"
            },
            "type": "carpet"
           }
          ],
          "choropleth": [
           {
            "colorbar": {
             "outlinewidth": 0,
             "tickcolor": "rgb(36,36,36)",
             "ticklen": 8,
             "ticks": "outside",
             "tickwidth": 2
            },
            "type": "choropleth"
           }
          ],
          "contour": [
           {
            "colorbar": {
             "outlinewidth": 0,
             "tickcolor": "rgb(36,36,36)",
             "ticklen": 8,
             "ticks": "outside",
             "tickwidth": 2
            },
            "colorscale": [
             [
              0,
              "rgb(2,4,25)"
             ],
             [
              0.06274509803921569,
              "rgb(24,15,41)"
             ],
             [
              0.12549019607843137,
              "rgb(47,23,57)"
             ],
             [
              0.18823529411764706,
              "rgb(71,28,72)"
             ],
             [
              0.25098039215686274,
              "rgb(97,30,82)"
             ],
             [
              0.3137254901960784,
              "rgb(123,30,89)"
             ],
             [
              0.3764705882352941,
              "rgb(150,27,91)"
             ],
             [
              0.4392156862745098,
              "rgb(177,22,88)"
             ],
             [
              0.5019607843137255,
              "rgb(203,26,79)"
             ],
             [
              0.5647058823529412,
              "rgb(223,47,67)"
             ],
             [
              0.6274509803921569,
              "rgb(236,76,61)"
             ],
             [
              0.6901960784313725,
              "rgb(242,107,73)"
             ],
             [
              0.7529411764705882,
              "rgb(244,135,95)"
             ],
             [
              0.8156862745098039,
              "rgb(245,162,122)"
             ],
             [
              0.8784313725490196,
              "rgb(246,188,153)"
             ],
             [
              0.9411764705882353,
              "rgb(247,212,187)"
             ],
             [
              1,
              "rgb(250,234,220)"
             ]
            ],
            "type": "contour"
           }
          ],
          "contourcarpet": [
           {
            "colorbar": {
             "outlinewidth": 0,
             "tickcolor": "rgb(36,36,36)",
             "ticklen": 8,
             "ticks": "outside",
             "tickwidth": 2
            },
            "type": "contourcarpet"
           }
          ],
          "heatmap": [
           {
            "colorbar": {
             "outlinewidth": 0,
             "tickcolor": "rgb(36,36,36)",
             "ticklen": 8,
             "ticks": "outside",
             "tickwidth": 2
            },
            "colorscale": [
             [
              0,
              "rgb(2,4,25)"
             ],
             [
              0.06274509803921569,
              "rgb(24,15,41)"
             ],
             [
              0.12549019607843137,
              "rgb(47,23,57)"
             ],
             [
              0.18823529411764706,
              "rgb(71,28,72)"
             ],
             [
              0.25098039215686274,
              "rgb(97,30,82)"
             ],
             [
              0.3137254901960784,
              "rgb(123,30,89)"
             ],
             [
              0.3764705882352941,
              "rgb(150,27,91)"
             ],
             [
              0.4392156862745098,
              "rgb(177,22,88)"
             ],
             [
              0.5019607843137255,
              "rgb(203,26,79)"
             ],
             [
              0.5647058823529412,
              "rgb(223,47,67)"
             ],
             [
              0.6274509803921569,
              "rgb(236,76,61)"
             ],
             [
              0.6901960784313725,
              "rgb(242,107,73)"
             ],
             [
              0.7529411764705882,
              "rgb(244,135,95)"
             ],
             [
              0.8156862745098039,
              "rgb(245,162,122)"
             ],
             [
              0.8784313725490196,
              "rgb(246,188,153)"
             ],
             [
              0.9411764705882353,
              "rgb(247,212,187)"
             ],
             [
              1,
              "rgb(250,234,220)"
             ]
            ],
            "type": "heatmap"
           }
          ],
          "histogram": [
           {
            "marker": {
             "pattern": {
              "fillmode": "overlay",
              "size": 10,
              "solidity": 0.2
             }
            },
            "type": "histogram"
           }
          ],
          "histogram2d": [
           {
            "colorbar": {
             "outlinewidth": 0,
             "tickcolor": "rgb(36,36,36)",
             "ticklen": 8,
             "ticks": "outside",
             "tickwidth": 2
            },
            "colorscale": [
             [
              0,
              "rgb(2,4,25)"
             ],
             [
              0.06274509803921569,
              "rgb(24,15,41)"
             ],
             [
              0.12549019607843137,
              "rgb(47,23,57)"
             ],
             [
              0.18823529411764706,
              "rgb(71,28,72)"
             ],
             [
              0.25098039215686274,
              "rgb(97,30,82)"
             ],
             [
              0.3137254901960784,
              "rgb(123,30,89)"
             ],
             [
              0.3764705882352941,
              "rgb(150,27,91)"
             ],
             [
              0.4392156862745098,
              "rgb(177,22,88)"
             ],
             [
              0.5019607843137255,
              "rgb(203,26,79)"
             ],
             [
              0.5647058823529412,
              "rgb(223,47,67)"
             ],
             [
              0.6274509803921569,
              "rgb(236,76,61)"
             ],
             [
              0.6901960784313725,
              "rgb(242,107,73)"
             ],
             [
              0.7529411764705882,
              "rgb(244,135,95)"
             ],
             [
              0.8156862745098039,
              "rgb(245,162,122)"
             ],
             [
              0.8784313725490196,
              "rgb(246,188,153)"
             ],
             [
              0.9411764705882353,
              "rgb(247,212,187)"
             ],
             [
              1,
              "rgb(250,234,220)"
             ]
            ],
            "type": "histogram2d"
           }
          ],
          "histogram2dcontour": [
           {
            "colorbar": {
             "outlinewidth": 0,
             "tickcolor": "rgb(36,36,36)",
             "ticklen": 8,
             "ticks": "outside",
             "tickwidth": 2
            },
            "colorscale": [
             [
              0,
              "rgb(2,4,25)"
             ],
             [
              0.06274509803921569,
              "rgb(24,15,41)"
             ],
             [
              0.12549019607843137,
              "rgb(47,23,57)"
             ],
             [
              0.18823529411764706,
              "rgb(71,28,72)"
             ],
             [
              0.25098039215686274,
              "rgb(97,30,82)"
             ],
             [
              0.3137254901960784,
              "rgb(123,30,89)"
             ],
             [
              0.3764705882352941,
              "rgb(150,27,91)"
             ],
             [
              0.4392156862745098,
              "rgb(177,22,88)"
             ],
             [
              0.5019607843137255,
              "rgb(203,26,79)"
             ],
             [
              0.5647058823529412,
              "rgb(223,47,67)"
             ],
             [
              0.6274509803921569,
              "rgb(236,76,61)"
             ],
             [
              0.6901960784313725,
              "rgb(242,107,73)"
             ],
             [
              0.7529411764705882,
              "rgb(244,135,95)"
             ],
             [
              0.8156862745098039,
              "rgb(245,162,122)"
             ],
             [
              0.8784313725490196,
              "rgb(246,188,153)"
             ],
             [
              0.9411764705882353,
              "rgb(247,212,187)"
             ],
             [
              1,
              "rgb(250,234,220)"
             ]
            ],
            "type": "histogram2dcontour"
           }
          ],
          "mesh3d": [
           {
            "colorbar": {
             "outlinewidth": 0,
             "tickcolor": "rgb(36,36,36)",
             "ticklen": 8,
             "ticks": "outside",
             "tickwidth": 2
            },
            "type": "mesh3d"
           }
          ],
          "parcoords": [
           {
            "line": {
             "colorbar": {
              "outlinewidth": 0,
              "tickcolor": "rgb(36,36,36)",
              "ticklen": 8,
              "ticks": "outside",
              "tickwidth": 2
             }
            },
            "type": "parcoords"
           }
          ],
          "pie": [
           {
            "automargin": true,
            "type": "pie"
           }
          ],
          "scatter": [
           {
            "fillpattern": {
             "fillmode": "overlay",
             "size": 10,
             "solidity": 0.2
            },
            "type": "scatter"
           }
          ],
          "scatter3d": [
           {
            "line": {
             "colorbar": {
              "outlinewidth": 0,
              "tickcolor": "rgb(36,36,36)",
              "ticklen": 8,
              "ticks": "outside",
              "tickwidth": 2
             }
            },
            "marker": {
             "colorbar": {
              "outlinewidth": 0,
              "tickcolor": "rgb(36,36,36)",
              "ticklen": 8,
              "ticks": "outside",
              "tickwidth": 2
             }
            },
            "type": "scatter3d"
           }
          ],
          "scattercarpet": [
           {
            "marker": {
             "colorbar": {
              "outlinewidth": 0,
              "tickcolor": "rgb(36,36,36)",
              "ticklen": 8,
              "ticks": "outside",
              "tickwidth": 2
             }
            },
            "type": "scattercarpet"
           }
          ],
          "scattergeo": [
           {
            "marker": {
             "colorbar": {
              "outlinewidth": 0,
              "tickcolor": "rgb(36,36,36)",
              "ticklen": 8,
              "ticks": "outside",
              "tickwidth": 2
             }
            },
            "type": "scattergeo"
           }
          ],
          "scattergl": [
           {
            "marker": {
             "colorbar": {
              "outlinewidth": 0,
              "tickcolor": "rgb(36,36,36)",
              "ticklen": 8,
              "ticks": "outside",
              "tickwidth": 2
             }
            },
            "type": "scattergl"
           }
          ],
          "scattermap": [
           {
            "marker": {
             "colorbar": {
              "outlinewidth": 0,
              "tickcolor": "rgb(36,36,36)",
              "ticklen": 8,
              "ticks": "outside",
              "tickwidth": 2
             }
            },
            "type": "scattermap"
           }
          ],
          "scattermapbox": [
           {
            "marker": {
             "colorbar": {
              "outlinewidth": 0,
              "tickcolor": "rgb(36,36,36)",
              "ticklen": 8,
              "ticks": "outside",
              "tickwidth": 2
             }
            },
            "type": "scattermapbox"
           }
          ],
          "scatterpolar": [
           {
            "marker": {
             "colorbar": {
              "outlinewidth": 0,
              "tickcolor": "rgb(36,36,36)",
              "ticklen": 8,
              "ticks": "outside",
              "tickwidth": 2
             }
            },
            "type": "scatterpolar"
           }
          ],
          "scatterpolargl": [
           {
            "marker": {
             "colorbar": {
              "outlinewidth": 0,
              "tickcolor": "rgb(36,36,36)",
              "ticklen": 8,
              "ticks": "outside",
              "tickwidth": 2
             }
            },
            "type": "scatterpolargl"
           }
          ],
          "scatterternary": [
           {
            "marker": {
             "colorbar": {
              "outlinewidth": 0,
              "tickcolor": "rgb(36,36,36)",
              "ticklen": 8,
              "ticks": "outside",
              "tickwidth": 2
             }
            },
            "type": "scatterternary"
           }
          ],
          "surface": [
           {
            "colorbar": {
             "outlinewidth": 0,
             "tickcolor": "rgb(36,36,36)",
             "ticklen": 8,
             "ticks": "outside",
             "tickwidth": 2
            },
            "colorscale": [
             [
              0,
              "rgb(2,4,25)"
             ],
             [
              0.06274509803921569,
              "rgb(24,15,41)"
             ],
             [
              0.12549019607843137,
              "rgb(47,23,57)"
             ],
             [
              0.18823529411764706,
              "rgb(71,28,72)"
             ],
             [
              0.25098039215686274,
              "rgb(97,30,82)"
             ],
             [
              0.3137254901960784,
              "rgb(123,30,89)"
             ],
             [
              0.3764705882352941,
              "rgb(150,27,91)"
             ],
             [
              0.4392156862745098,
              "rgb(177,22,88)"
             ],
             [
              0.5019607843137255,
              "rgb(203,26,79)"
             ],
             [
              0.5647058823529412,
              "rgb(223,47,67)"
             ],
             [
              0.6274509803921569,
              "rgb(236,76,61)"
             ],
             [
              0.6901960784313725,
              "rgb(242,107,73)"
             ],
             [
              0.7529411764705882,
              "rgb(244,135,95)"
             ],
             [
              0.8156862745098039,
              "rgb(245,162,122)"
             ],
             [
              0.8784313725490196,
              "rgb(246,188,153)"
             ],
             [
              0.9411764705882353,
              "rgb(247,212,187)"
             ],
             [
              1,
              "rgb(250,234,220)"
             ]
            ],
            "type": "surface"
           }
          ],
          "table": [
           {
            "cells": {
             "fill": {
              "color": "rgb(231,231,240)"
             },
             "line": {
              "color": "white"
             }
            },
            "header": {
             "fill": {
              "color": "rgb(183,183,191)"
             },
             "line": {
              "color": "white"
             }
            },
            "type": "table"
           }
          ]
         },
         "layout": {
          "annotationdefaults": {
           "arrowcolor": "rgb(67,103,167)"
          },
          "autotypenumbers": "strict",
          "coloraxis": {
           "colorbar": {
            "outlinewidth": 0,
            "tickcolor": "rgb(36,36,36)",
            "ticklen": 8,
            "ticks": "outside",
            "tickwidth": 2
           }
          },
          "colorscale": {
           "sequential": [
            [
             0,
             "rgb(2,4,25)"
            ],
            [
             0.06274509803921569,
             "rgb(24,15,41)"
            ],
            [
             0.12549019607843137,
             "rgb(47,23,57)"
            ],
            [
             0.18823529411764706,
             "rgb(71,28,72)"
            ],
            [
             0.25098039215686274,
             "rgb(97,30,82)"
            ],
            [
             0.3137254901960784,
             "rgb(123,30,89)"
            ],
            [
             0.3764705882352941,
             "rgb(150,27,91)"
            ],
            [
             0.4392156862745098,
             "rgb(177,22,88)"
            ],
            [
             0.5019607843137255,
             "rgb(203,26,79)"
            ],
            [
             0.5647058823529412,
             "rgb(223,47,67)"
            ],
            [
             0.6274509803921569,
             "rgb(236,76,61)"
            ],
            [
             0.6901960784313725,
             "rgb(242,107,73)"
            ],
            [
             0.7529411764705882,
             "rgb(244,135,95)"
            ],
            [
             0.8156862745098039,
             "rgb(245,162,122)"
            ],
            [
             0.8784313725490196,
             "rgb(246,188,153)"
            ],
            [
             0.9411764705882353,
             "rgb(247,212,187)"
            ],
            [
             1,
             "rgb(250,234,220)"
            ]
           ],
           "sequentialminus": [
            [
             0,
             "rgb(2,4,25)"
            ],
            [
             0.06274509803921569,
             "rgb(24,15,41)"
            ],
            [
             0.12549019607843137,
             "rgb(47,23,57)"
            ],
            [
             0.18823529411764706,
             "rgb(71,28,72)"
            ],
            [
             0.25098039215686274,
             "rgb(97,30,82)"
            ],
            [
             0.3137254901960784,
             "rgb(123,30,89)"
            ],
            [
             0.3764705882352941,
             "rgb(150,27,91)"
            ],
            [
             0.4392156862745098,
             "rgb(177,22,88)"
            ],
            [
             0.5019607843137255,
             "rgb(203,26,79)"
            ],
            [
             0.5647058823529412,
             "rgb(223,47,67)"
            ],
            [
             0.6274509803921569,
             "rgb(236,76,61)"
            ],
            [
             0.6901960784313725,
             "rgb(242,107,73)"
            ],
            [
             0.7529411764705882,
             "rgb(244,135,95)"
            ],
            [
             0.8156862745098039,
             "rgb(245,162,122)"
            ],
            [
             0.8784313725490196,
             "rgb(246,188,153)"
            ],
            [
             0.9411764705882353,
             "rgb(247,212,187)"
            ],
            [
             1,
             "rgb(250,234,220)"
            ]
           ]
          },
          "colorway": [
           "rgb(76,114,176)",
           "rgb(221,132,82)",
           "rgb(85,168,104)",
           "rgb(196,78,82)",
           "rgb(129,114,179)",
           "rgb(147,120,96)",
           "rgb(218,139,195)",
           "rgb(140,140,140)",
           "rgb(204,185,116)",
           "rgb(100,181,205)"
          ],
          "font": {
           "color": "rgb(36,36,36)"
          },
          "geo": {
           "bgcolor": "white",
           "lakecolor": "white",
           "landcolor": "rgb(234,234,242)",
           "showlakes": true,
           "showland": true,
           "subunitcolor": "white"
          },
          "hoverlabel": {
           "align": "left"
          },
          "hovermode": "closest",
          "paper_bgcolor": "white",
          "plot_bgcolor": "rgb(234,234,242)",
          "polar": {
           "angularaxis": {
            "gridcolor": "white",
            "linecolor": "white",
            "showgrid": true,
            "ticks": ""
           },
           "bgcolor": "rgb(234,234,242)",
           "radialaxis": {
            "gridcolor": "white",
            "linecolor": "white",
            "showgrid": true,
            "ticks": ""
           }
          },
          "scene": {
           "xaxis": {
            "backgroundcolor": "rgb(234,234,242)",
            "gridcolor": "white",
            "gridwidth": 2,
            "linecolor": "white",
            "showbackground": true,
            "showgrid": true,
            "ticks": "",
            "zerolinecolor": "white"
           },
           "yaxis": {
            "backgroundcolor": "rgb(234,234,242)",
            "gridcolor": "white",
            "gridwidth": 2,
            "linecolor": "white",
            "showbackground": true,
            "showgrid": true,
            "ticks": "",
            "zerolinecolor": "white"
           },
           "zaxis": {
            "backgroundcolor": "rgb(234,234,242)",
            "gridcolor": "white",
            "gridwidth": 2,
            "linecolor": "white",
            "showbackground": true,
            "showgrid": true,
            "ticks": "",
            "zerolinecolor": "white"
           }
          },
          "shapedefaults": {
           "fillcolor": "rgb(67,103,167)",
           "line": {
            "width": 0
           },
           "opacity": 0.5
          },
          "ternary": {
           "aaxis": {
            "gridcolor": "white",
            "linecolor": "white",
            "showgrid": true,
            "ticks": ""
           },
           "baxis": {
            "gridcolor": "white",
            "linecolor": "white",
            "showgrid": true,
            "ticks": ""
           },
           "bgcolor": "rgb(234,234,242)",
           "caxis": {
            "gridcolor": "white",
            "linecolor": "white",
            "showgrid": true,
            "ticks": ""
           }
          },
          "xaxis": {
           "automargin": true,
           "gridcolor": "white",
           "linecolor": "white",
           "showgrid": true,
           "ticks": "",
           "title": {
            "standoff": 15
           },
           "zerolinecolor": "white"
          },
          "yaxis": {
           "automargin": true,
           "gridcolor": "white",
           "linecolor": "white",
           "showgrid": true,
           "ticks": "",
           "title": {
            "standoff": 15
           },
           "zerolinecolor": "white"
          }
         }
        },
        "title": {
         "text": "Volume Bars"
        },
        "xaxis": {
         "rangeslider": {
          "visible": true
         },
         "title": {
          "text": "Bar"
         }
        },
        "yaxis": {
         "title": {
          "text": "Price (USD)"
         }
        }
       }
      }
     },
     "metadata": {},
     "output_type": "display_data"
    }
   ],
   "source": [
    "fig = go.Figure(data=[go.Candlestick(\n",
    "    x=volume_bars['start_time'],\n",
    "    open=volume_bars['open'],\n",
    "    high=volume_bars['high'],\n",
    "    low=volume_bars['low'],\n",
    "    close=volume_bars['close'],\n",
    "    name='Volume Bars'\n",
    ")])\n",
    "\n",
    "fig.update_layout(\n",
    "    title=f'Volume Bars',\n",
    "    yaxis_title='Price (USD)',\n",
    "    xaxis_title='Bar',\n",
    "    xaxis_rangeslider_visible=True, \n",
    "    template='seaborn', # other options: plotly, plotly_white, plotly_dark, simple_white\n",
    "    showlegend=True,\n",
    ")"
   ]
  },
  {
   "cell_type": "markdown",
   "id": "1d1927c8",
   "metadata": {},
   "source": [
    "## Dollar bars"
   ]
  },
  {
   "cell_type": "markdown",
   "id": "2eb55ff0",
   "metadata": {},
   "source": [
    "### Bar Chart"
   ]
  },
  {
   "cell_type": "code",
   "execution_count": 52,
   "id": "38151e4a",
   "metadata": {},
   "outputs": [
    {
     "data": {
      "application/vnd.plotly.v1+json": {
       "config": {
        "plotlyServerURL": "https://plot.ly"
       },
       "data": [
        {
         "close": {
          "bdata": "PQrXo3D9WEA9CtejcP1YQKRwPQrX81hAXI/C9Sj8WEAUrkfhevRYQEjhehSu91hAAAAAAADwWEAAAAAAAPBYQNejcD0K51hASOF6FK7nWEBcj8L1KOxYQArXo3A9+lhAj8L1KFz/WEAAAAAAAABZQFK4HoXrAVlAexSuR+H6WEBcj8L1KPxYQEjhehSu91hAexSuR+H6WEDsUbgehftYQK5H4XoU/lhAUrgehesBWUDhehSuRwFZQHE9CtejAFlA9ihcj8IFWUAK16NwPQpZQOF6FK5HEVlAAAAAAAAQWUDXo3A9CgdZQClcj8L1CFlAXI/C9SgMWUCF61G4HgVZQLgehetRCFlASOF6FK4HWUBI4XoUrgdZQHE9CtejEFlAj8L1KFwPWUAAAAAAABBZQMP1KFyPEllA4XoUrkcRWUBmZmZmZhZZQEjhehSuF1lAw/UoXI8SWUAfhetRuA5ZQAAAAAAAEFlA4XoUrkcRWUDXo3A9ChdZQKRwPQrXE1lAAAAAAAAgWUDsUbgehRtZQIXrUbgeFVlAcT0K16MQWUCPwvUoXA9ZQK5H4XoUDllASOF6FK4XWUDNzMzMzBxZQFK4HoXrEVlAH4XrUbgOWUDhehSuRxFZQHsUrkfhGllAmpmZmZkZWUB7FK5H4RpZQClcj8L1GFlAXI/C9SgcWUApXI/C9RhZQMP1KFyPIllACtejcD0aWUD2KFyPwhVZQB+F61G4DllAZmZmZmYGWUCkcD0K1wNZQArXo3A9CllAXI/C9SgMWUCuR+F6FA5ZQIXrUbgeFVlApHA9CtcTWUCuR+F6FB5ZQLgehetRGFlAuB6F61EYWUB7FK5H4RpZQK5H4XoUDllAZmZmZmYGWUC4HoXrUQhZQArXo3A9CllA4XoUrkcRWUC4HoXrURhZQM3MzMzMLFlA16NwPQonWUDXo3A9CidZQJqZmZmZKVlAzczMzMwcWUDsUbgehRtZQBSuR+F6JFlAAAAAAAAgWUAzMzMzMyNZQIXrUbgeFVlAAAAAAAAQWUDD9ShcjxJZQB+F61G4DllAKVyPwvUIWUCF61G4HgVZQHE9CtejAFlAmpmZmZkJWUApXI/C9QhZQHsUrkfhCllAFK5H4XoUWUAzMzMzMxNZQLgehetRGFlAKVyPwvUYWUD2KFyPwhVZQDMzMzMzE1lAexSuR+EKWUAzMzMzMwNZQHsUrkfh+lhAKVyPwvX4WEApXI/C9fhYQEjhehSu91hAuB6F61H4WEDhehSuR/FYQB+F61G47lhAUrgehevxWEAUrkfhevRYQOF6FK5H8VhAj8L1KFzvWEDsUbgehetYQArXo3A96lhAUrgehevhWEAUrkfheuRYQEjhehSu51hAzczMzMzsWEApXI/C9ehYQK5H4XoU3lhA4XoUrkfhWEB7FK5H4dpYQAAAAAAA4FhAH4XrUbjeWEAzMzMzM+NYQBSuR+F61FhAMzMzMzPTWEB7FK5H4dpYQFyPwvUo3FhAuB6F61HYWEDNzMzMzNxYQFK4HoXr4VhArkfhehTeWEBcj8L1KNxYQHsUrkfh2lhAuB6F61HYWECuR+F6FN5YQOF6FK5H4VhAcT0K16PgWECPwvUoXN9YQMP1KFyP4lhAFK5H4XrkWEDD9Shcj+JYQNejcD0K51hAexSuR+HqWECF61G4HuVYQFK4HoXr4VhA7FG4HoXbWEDNzMzMzNxYQJqZmZmZ6VhA7FG4HoXrWEA9CtejcO1YQIXrUbge5VhAhetRuB7lWEC4HoXrUehYQHsUrkfh6lhAUrgehevhWEAUrkfheuRYQMP1KFyP8lhA4XoUrkfxWECPwvUoXO9YQD0K16Nw7VhAmpmZmZnpWECamZmZmelYQGZmZmZm5lhAZmZmZmbmWED2KFyPwuVYQAAAAAAA4FhACtejcD3aWECamZmZmdlYQDMzMzMz41hAKVyPwvXoWECF61G4HuVYQM3MzMzM3FhAZmZmZmbWWEB7FK5H4dpYQM3MzMzM3FhA16NwPQrnWEBSuB6F6+FYQArXo3A96lhACtejcD3qWEBcj8L1KOxYQIXrUbge9VhAcT0K16PwWEBSuB6F6/FYQDMzMzMz81hAmpmZmZn5WEA9CtejcP1YQIXrUbgeBVlAj8L1KFz/WEAK16NwPfpYQClcj8L1+FhAKVyPwvX4WEC4HoXrUfhYQBSuR+F69FhAhetRuB71WEAAAAAAAPBYQK5H4XoU7lhAuB6F61HoWECamZmZmelYQLgehetR6FhAuB6F61HoWEAfhetRuO5YQDMzMzMz81hAPQrXo3DtWEAzMzMzM+NYQJqZmZmZ6VhACtejcD3qWEAK16NwPepYQClcj8L16FhApHA9CtfjWED2KFyPwvVYQKRwPQrX81hA4XoUrkfxWEAUrkfhevRYQB+F61G4/lhAXI/C9Sj8WEBcj8L1KPxYQFyPwvUo/FhArkfhehT+WEDXo3A9CgdZQNejcD0KF1lAmpmZmZkZWUCkcD0K1xNZQGZmZmZmFllASOF6FK4XWUCamZmZmRlZQK5H4XoUHllAAAAAAAAgWUBSuB6F6yFZQOF6FK5HIVlA9ihcj8IlWUBSuB6F6yFZQDMzMzMzI1lAmpmZmZkpWUBI4XoUridZQMP1KFyPIllApHA9CtcjWUAzMzMzMyNZQBSuR+F6JFlAhetRuB4lWUBI4XoUridZQKRwPQrXI1lAcT0K16MgWUAzMzMzMyNZQD0K16NwLVlAFK5H4Xo0WUC4HoXrUThZQOxRuB6FO1lAw/UoXI9CWUDXo3A9CjdZQI/C9ShcL1lAXI/C9SgsWUCkcD0K1yNZQFK4HoXrIVlAKVyPwvUoWUBmZmZmZiZZQEjhehSuJ1lApHA9CtcjWUApXI/C9ShZQNejcD0KJ1lA9ihcj8IlWUDD9ShcjyJZQHsUrkfhKllAcT0K16MwWUAAAAAAADBZQHsUrkfhKllAH4XrUbguWUAAAAAAADBZQMP1KFyPMllAUrgeheshWUAzMzMzMyNZQDMzMzMzI1lAMzMzMzMjWUAzMzMzMyNZQD0K16NwLVlAcT0K16MwWUCPwvUoXC9ZQPYoXI/CNVlAj8L1KFwvWUBSuB6F6zFZQD0K16NwLVlASOF6FK4nWUBI4XoUridZQD0K16NwLVlAexSuR+EqWUBI4XoUridZQK5H4XoULllAPQrXo3AtWUBxPQrXozBZQDMzMzMzM1lArkfhehQuWUAfhetRuC5ZQI/C9ShcL1lAhetRuB41WUBcj8L1KCxZQI/C9ShcL1lAj8L1KFwvWUAAAAAAADBZQOF6FK5HMVlAPQrXo3AtWUDXo3A9CidZQJqZmZmZKVlAw/UoXI8yWUAAAAAAADBZQOF6FK5HMVlASOF6FK43WUAzMzMzMzNZQPYoXI/CNVlAhetRuB41WUApXI/C9ThZQGZmZmZmNllASOF6FK43WUDD9ShcjzJZQArXo3A9OllAFK5H4XpEWUDNzMzMzExZQDMzMzMzQ1lAhetRuB5FWUCF61G4HkVZQOxRuB6FS1lAzczMzMxMWUCamZmZmUlZQClcj8L1SFlA9ihcj8JFWUAK16NwPUpZQM3MzMzMTFlA9ihcj8JFWUDXo3A9CkdZQHsUrkfhSllAuB6F61FIWUDXo3A9CkdZQI/C9ShcP1lAUrgehesxWUC4HoXrUThZQM3MzMzMPFlACtejcD06WUCamZmZmTlZQNejcD0KN1lAw/UoXI8yWUCamZmZmTlZQI/C9ShcP1lACtejcD06WUAK16NwPTpZQBSuR+F6NFlA9ihcj8I1WUC4HoXrUThZQNejcD0KN1lA9ihcj8I1WUAAAAAAADBZQI/C9ShcL1lAUrgehesxWUAAAAAAADBZQB+F61G4LllAH4XrUbguWUApXI/C9ThZQPYoXI/CRVlA16NwPQpHWUAAAAAAAFBZQFyPwvUoTFlA",
          "dtype": "f8"
         },
         "high": {
          "bdata": "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",
          "dtype": "f8"
         },
         "low": {
          "bdata": "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",
          "dtype": "f8"
         },
         "name": "Dollar Bars",
         "open": {
          "bdata": "AAAAAAAAWUDsUbgehftYQM3MzMzM/FhApHA9CtfzWEBI4XoUrvdYQDMzMzMz81hApHA9CtfzWEDsUbgehetYQNejcD0K51hASOF6FK7nWEC4HoXrUehYQAAAAAAA8FhArkfhehT+WEAfhetRuP5YQHsUrkfh+lhAXI/C9Sj8WEAfhetRuP5YQOxRuB6F+1hASOF6FK73WECPwvUoXP9YQM3MzMzM/FhAw/UoXI8CWUAzMzMzMwNZQMP1KFyPAllAAAAAAAAAWUAUrkfhegRZQHE9CtejEFlAXI/C9SgMWUBcj8L1KAxZQNejcD0KB1lAuB6F61EIWUB7FK5H4QpZQBSuR+F6BFlAFK5H4XoEWUApXI/C9QhZQLgehetRCFlAj8L1KFwPWUBxPQrXoxBZQKRwPQrXE1lAFK5H4XoUWUBSuB6F6xFZQLgehetRGFlAhetRuB4VWUBcj8L1KAxZQK5H4XoUDllA9ihcj8IVWUDhehSuRxFZQGZmZmZmFllA4XoUrkcRWUAzMzMzMyNZQFyPwvUoHFlAFK5H4XoUWUAzMzMzMxNZQD0K16NwDVlAMzMzMzMTWUB7FK5H4RpZQGZmZmZmFllAzczMzMwMWUAfhetRuA5ZQNejcD0KF1lAXI/C9SgcWUCuR+F6FB5ZQM3MzMzMHFlAKVyPwvUYWUBI4XoUrhdZQB+F61G4HllArkfhehQeWUD2KFyPwhVZQI/C9ShcD1lAKVyPwvUIWUBmZmZmZgZZQGZmZmZmBllAzczMzMwMWUDNzMzMzAxZQOxRuB6FC1lAFK5H4XoUWUAzMzMzMxNZQFyPwvUoHFlASOF6FK4XWUCkcD0K1xNZQKRwPQrXE1lAUrgehesRWUCamZmZmQlZQLgehetRCFlAXI/C9SgMWUCkcD0K1xNZQClcj8L1GFlAuB6F61EoWUBI4XoUridZQGZmZmZmJllAFK5H4XokWUB7FK5H4RpZQOxRuB6FG1lAw/UoXI8iWUAUrkfheiRZQFK4HoXrIVlAH4XrUbgOWUCkcD0K1xNZQKRwPQrXE1lArkfhehQOWUApXI/C9QhZQFK4HoXrAVlAFK5H4XoEWUAK16NwPQpZQArXo3A9CllAXI/C9SgMWUBxPQrXoxBZQOF6FK5HEVlAH4XrUbgeWUCamZmZmRlZQGZmZmZmFllAzczMzMwMWUC4HoXrUQhZQHE9CtejAFlAuB6F61H4WEApXI/C9fhYQGZmZmZm9lhA7FG4HoX7WEApXI/C9fhYQAAAAAAA8FhA4XoUrkfxWEC4HoXrUfhYQMP1KFyP8lhArkfhehTuWEDNzMzMzOxYQHsUrkfh6lhA9ihcj8LlWEAUrkfheuRYQJqZmZmZ6VhA7FG4HoXrWEBcj8L1KOxYQMP1KFyP4lhAAAAAAADgWEAAAAAAAOBYQMP1KFyP4lhAUrgehevhWEBcj8L1KNxYQOxRuB6F21hApHA9CtfTWEBI4XoUrtdYQFyPwvUo3FhAj8L1KFzfWEAK16NwPdpYQFyPwvUo3FhAcT0K16PgWEDsUbgehdtYQHsUrkfh2lhAXI/C9SjcWEC4HoXrUdhYQDMzMzMz41hAFK5H4XrkWEAAAAAAAOBYQAAAAAAA4FhAZmZmZmbmWEAUrkfheuRYQKRwPQrX41hAexSuR+HqWECamZmZmelYQIXrUbge5VhAH4XrUbjeWEAK16NwPdpYQKRwPQrX41hA9ihcj8LlWEDsUbgehetYQHsUrkfh6lhA9ihcj8LlWED2KFyPwuVYQLgehetR6FhACtejcD3qWEDhehSuR+FYQMP1KFyP4lhAUrgehevxWEA9CtejcO1YQK5H4XoU7lhAH4XrUbjuWEDsUbgehetYQJqZmZmZ6VhAmpmZmZnpWEDXo3A9CudYQIXrUbge5VhA16NwPQrXWEApXI/C9dhYQClcj8L12FhAhetRuB7lWEAUrkfheuRYQFK4HoXr4VhA9ihcj8LVWEAK16NwPdpYQK5H4XoU3lhArkfhehTeWEBmZmZmZuZYQArXo3A96lhAXI/C9SjsWEC4HoXrUehYQFyPwvUo7FhA16NwPQr3WEAAAAAAAPBYQKRwPQrX81hAuB6F61H4WEDXo3A9CvdYQK5H4XoU/lhASOF6FK4HWUDNzMzMzPxYQHsUrkfh+lhAuB6F61H4WEApXI/C9fhYQEjhehSu91hA9ihcj8L1WEAAAAAAAPBYQFyPwvUo7FhAAAAAAADwWEDXo3A9CudYQOxRuB6F61hAmpmZmZnpWEDNzMzMzOxYQHE9Ctej8FhApHA9CtfzWEDNzMzMzOxYQNejcD0K51hASOF6FK7nWEDXo3A9CudYQBSuR+F65FhAexSuR+HqWEB7FK5H4epYQKRwPQrX81hAUrgehevxWEA9CtejcO1YQArXo3A9+lhAXI/C9Sj8WEBI4XoUrvdYQK5H4XoU/lhAzczMzMz8WECPwvUoXP9YQM3MzMzMDFlASOF6FK4XWUD2KFyPwhVZQBSuR+F6FFlAKVyPwvUYWUCF61G4HhVZQFyPwvUoHFlAH4XrUbgeWUBxPQrXoyBZQDMzMzMzI1lApHA9CtcjWUCkcD0K1yNZQK5H4XoUHllACtejcD0qWUC4HoXrUShZQArXo3A9KllAMzMzMzMjWUDhehSuRyFZQIXrUbgeJVlAKVyPwvUoWUCF61G4HiVZQJqZmZmZKVlApHA9CtcjWUCF61G4HiVZQIXrUbgeJVlAUrgehesxWUBmZmZmZjZZQNejcD0KN1lAH4XrUbg+WUBxPQrXo0BZQKRwPQrXM1lAcT0K16MwWUAUrkfheiRZQKRwPQrXI1lAMzMzMzMjWUApXI/C9ShZQEjhehSuJ1lA16NwPQonWUD2KFyPwiVZQHsUrkfhKllAZmZmZmYmWUAUrkfheiRZQMP1KFyPIllA7FG4HoUrWUAAAAAAADBZQD0K16NwLVlArkfhehQuWUCPwvUoXC9ZQI/C9ShcL1lArkfhehQuWUDD9ShcjyJZQHE9CtejIFlAFK5H4XokWUAUrkfheiRZQOF6FK5HIVlAXI/C9SgsWUDD9ShcjzJZQKRwPQrXM1lAhetRuB41WUDD9ShcjzJZQD0K16NwLVlAH4XrUbguWUDXo3A9CidZQLgehetRKFlArkfhehQuWUAUrkfheiRZQFyPwvUoLFlA7FG4HoUrWUAUrkfhejRZQDMzMzMzM1lAH4XrUbguWUDhehSuRzFZQOxRuB6FK1lAhetRuB41WUAAAAAAADBZQM3MzMzMLFlAmpmZmZkpWUAK16NwPSpZQI/C9ShcL1lAw/UoXI8yWUDsUbgehStZQOxRuB6FK1lAw/UoXI8yWUBSuB6F6zFZQK5H4XoULllArkfhehQuWUCkcD0K1zNZQPYoXI/CNVlAZmZmZmY2WUCkcD0K1zNZQOF6FK5HMVlAexSuR+E6WUApXI/C9ThZQHsUrkfhOllAAAAAAABAWUApXI/C9UhZQArXo3A9SllAAAAAAABAWUDXo3A9CkdZQPYoXI/CRVlAhetRuB5FWUDsUbgehUtZQArXo3A9SllAexSuR+FKWUBI4XoUrkdZQB+F61G4TllAexSuR+FKWUBI4XoUrkdZQLgehetRSFlACtejcD1KWUCF61G4HkVZQPYoXI/CRVlA16NwPQo3WUBmZmZmZjZZQNejcD0KN1lACtejcD06WUC4HoXrUThZQClcj8L1OFlAZmZmZmY2WUCkcD0K1zNZQOF6FK5HQVlAXI/C9Sg8WUD2KFyPwjVZQKRwPQrXM1lApHA9CtczWUCF61G4HjVZQLgehetROFlAmpmZmZk5WUCkcD0K1zNZQAAAAAAAMFlAMzMzMzMzWUDD9ShcjzJZQD0K16NwLVlAzczMzMwsWUBxPQrXozBZQOF6FK5HQVlA9ihcj8JFWUDsUbgehUtZQFyPwvUoTFlA",
          "dtype": "f8"
         },
         "type": "candlestick",
         "x": {
          "bdata": "AAABAAIAAwAEAAUABgAHAAgACQAKAAsADAANAA4ADwAQABEAEgATABQAFQAWABcAGAAZABoAGwAcAB0AHgAfACAAIQAiACMAJAAlACYAJwAoACkAKgArACwALQAuAC8AMAAxADIAMwA0ADUANgA3ADgAOQA6ADsAPAA9AD4APwBAAEEAQgBDAEQARQBGAEcASABJAEoASwBMAE0ATgBPAFAAUQBSAFMAVABVAFYAVwBYAFkAWgBbAFwAXQBeAF8AYABhAGIAYwBkAGUAZgBnAGgAaQBqAGsAbABtAG4AbwBwAHEAcgBzAHQAdQB2AHcAeAB5AHoAewB8AH0AfgB/AIAAgQCCAIMAhACFAIYAhwCIAIkAigCLAIwAjQCOAI8AkACRAJIAkwCUAJUAlgCXAJgAmQCaAJsAnACdAJ4AnwCgAKEAogCjAKQApQCmAKcAqACpAKoAqwCsAK0ArgCvALAAsQCyALMAtAC1ALYAtwC4ALkAugC7ALwAvQC+AL8AwADBAMIAwwDEAMUAxgDHAMgAyQDKAMsAzADNAM4AzwDQANEA0gDTANQA1QDWANcA2ADZANoA2wDcAN0A3gDfAOAA4QDiAOMA5ADlAOYA5wDoAOkA6gDrAOwA7QDuAO8A8ADxAPIA8wD0APUA9gD3APgA+QD6APsA/AD9AP4A/wAAAQEBAgEDAQQBBQEGAQcBCAEJAQoBCwEMAQ0BDgEPARABEQESARMBFAEVARYBFwEYARkBGgEbARwBHQEeAR8BIAEhASIBIwEkASUBJgEnASgBKQEqASsBLAEtAS4BLwEwATEBMgEzATQBNQE2ATcBOAE5AToBOwE8AT0BPgE/AUABQQFCAUMBRAFFAUYBRwFIAUkBSgFLAUwBTQFOAU8BUAFRAVIBUwFUAVUBVgFXAVgBWQFaAVsBXAFdAV4BXwFgAWEBYgFjAWQBZQFmAWcBaAFpAWoBawFsAW0BbgFvAXABcQFyAXMB",
          "dtype": "i2"
         }
        }
       ],
       "layout": {
        "showlegend": true,
        "template": {
         "data": {
          "bar": [
           {
            "error_x": {
             "color": "rgb(36,36,36)"
            },
            "error_y": {
             "color": "rgb(36,36,36)"
            },
            "marker": {
             "line": {
              "color": "rgb(234,234,242)",
              "width": 0.5
             },
             "pattern": {
              "fillmode": "overlay",
              "size": 10,
              "solidity": 0.2
             }
            },
            "type": "bar"
           }
          ],
          "barpolar": [
           {
            "marker": {
             "line": {
              "color": "rgb(234,234,242)",
              "width": 0.5
             },
             "pattern": {
              "fillmode": "overlay",
              "size": 10,
              "solidity": 0.2
             }
            },
            "type": "barpolar"
           }
          ],
          "carpet": [
           {
            "aaxis": {
             "endlinecolor": "rgb(36,36,36)",
             "gridcolor": "white",
             "linecolor": "white",
             "minorgridcolor": "white",
             "startlinecolor": "rgb(36,36,36)"
            },
            "baxis": {
             "endlinecolor": "rgb(36,36,36)",
             "gridcolor": "white",
             "linecolor": "white",
             "minorgridcolor": "white",
             "startlinecolor": "rgb(36,36,36)"
            },
            "type": "carpet"
           }
          ],
          "choropleth": [
           {
            "colorbar": {
             "outlinewidth": 0,
             "tickcolor": "rgb(36,36,36)",
             "ticklen": 8,
             "ticks": "outside",
             "tickwidth": 2
            },
            "type": "choropleth"
           }
          ],
          "contour": [
           {
            "colorbar": {
             "outlinewidth": 0,
             "tickcolor": "rgb(36,36,36)",
             "ticklen": 8,
             "ticks": "outside",
             "tickwidth": 2
            },
            "colorscale": [
             [
              0,
              "rgb(2,4,25)"
             ],
             [
              0.06274509803921569,
              "rgb(24,15,41)"
             ],
             [
              0.12549019607843137,
              "rgb(47,23,57)"
             ],
             [
              0.18823529411764706,
              "rgb(71,28,72)"
             ],
             [
              0.25098039215686274,
              "rgb(97,30,82)"
             ],
             [
              0.3137254901960784,
              "rgb(123,30,89)"
             ],
             [
              0.3764705882352941,
              "rgb(150,27,91)"
             ],
             [
              0.4392156862745098,
              "rgb(177,22,88)"
             ],
             [
              0.5019607843137255,
              "rgb(203,26,79)"
             ],
             [
              0.5647058823529412,
              "rgb(223,47,67)"
             ],
             [
              0.6274509803921569,
              "rgb(236,76,61)"
             ],
             [
              0.6901960784313725,
              "rgb(242,107,73)"
             ],
             [
              0.7529411764705882,
              "rgb(244,135,95)"
             ],
             [
              0.8156862745098039,
              "rgb(245,162,122)"
             ],
             [
              0.8784313725490196,
              "rgb(246,188,153)"
             ],
             [
              0.9411764705882353,
              "rgb(247,212,187)"
             ],
             [
              1,
              "rgb(250,234,220)"
             ]
            ],
            "type": "contour"
           }
          ],
          "contourcarpet": [
           {
            "colorbar": {
             "outlinewidth": 0,
             "tickcolor": "rgb(36,36,36)",
             "ticklen": 8,
             "ticks": "outside",
             "tickwidth": 2
            },
            "type": "contourcarpet"
           }
          ],
          "heatmap": [
           {
            "colorbar": {
             "outlinewidth": 0,
             "tickcolor": "rgb(36,36,36)",
             "ticklen": 8,
             "ticks": "outside",
             "tickwidth": 2
            },
            "colorscale": [
             [
              0,
              "rgb(2,4,25)"
             ],
             [
              0.06274509803921569,
              "rgb(24,15,41)"
             ],
             [
              0.12549019607843137,
              "rgb(47,23,57)"
             ],
             [
              0.18823529411764706,
              "rgb(71,28,72)"
             ],
             [
              0.25098039215686274,
              "rgb(97,30,82)"
             ],
             [
              0.3137254901960784,
              "rgb(123,30,89)"
             ],
             [
              0.3764705882352941,
              "rgb(150,27,91)"
             ],
             [
              0.4392156862745098,
              "rgb(177,22,88)"
             ],
             [
              0.5019607843137255,
              "rgb(203,26,79)"
             ],
             [
              0.5647058823529412,
              "rgb(223,47,67)"
             ],
             [
              0.6274509803921569,
              "rgb(236,76,61)"
             ],
             [
              0.6901960784313725,
              "rgb(242,107,73)"
             ],
             [
              0.7529411764705882,
              "rgb(244,135,95)"
             ],
             [
              0.8156862745098039,
              "rgb(245,162,122)"
             ],
             [
              0.8784313725490196,
              "rgb(246,188,153)"
             ],
             [
              0.9411764705882353,
              "rgb(247,212,187)"
             ],
             [
              1,
              "rgb(250,234,220)"
             ]
            ],
            "type": "heatmap"
           }
          ],
          "histogram": [
           {
            "marker": {
             "pattern": {
              "fillmode": "overlay",
              "size": 10,
              "solidity": 0.2
             }
            },
            "type": "histogram"
           }
          ],
          "histogram2d": [
           {
            "colorbar": {
             "outlinewidth": 0,
             "tickcolor": "rgb(36,36,36)",
             "ticklen": 8,
             "ticks": "outside",
             "tickwidth": 2
            },
            "colorscale": [
             [
              0,
              "rgb(2,4,25)"
             ],
             [
              0.06274509803921569,
              "rgb(24,15,41)"
             ],
             [
              0.12549019607843137,
              "rgb(47,23,57)"
             ],
             [
              0.18823529411764706,
              "rgb(71,28,72)"
             ],
             [
              0.25098039215686274,
              "rgb(97,30,82)"
             ],
             [
              0.3137254901960784,
              "rgb(123,30,89)"
             ],
             [
              0.3764705882352941,
              "rgb(150,27,91)"
             ],
             [
              0.4392156862745098,
              "rgb(177,22,88)"
             ],
             [
              0.5019607843137255,
              "rgb(203,26,79)"
             ],
             [
              0.5647058823529412,
              "rgb(223,47,67)"
             ],
             [
              0.6274509803921569,
              "rgb(236,76,61)"
             ],
             [
              0.6901960784313725,
              "rgb(242,107,73)"
             ],
             [
              0.7529411764705882,
              "rgb(244,135,95)"
             ],
             [
              0.8156862745098039,
              "rgb(245,162,122)"
             ],
             [
              0.8784313725490196,
              "rgb(246,188,153)"
             ],
             [
              0.9411764705882353,
              "rgb(247,212,187)"
             ],
             [
              1,
              "rgb(250,234,220)"
             ]
            ],
            "type": "histogram2d"
           }
          ],
          "histogram2dcontour": [
           {
            "colorbar": {
             "outlinewidth": 0,
             "tickcolor": "rgb(36,36,36)",
             "ticklen": 8,
             "ticks": "outside",
             "tickwidth": 2
            },
            "colorscale": [
             [
              0,
              "rgb(2,4,25)"
             ],
             [
              0.06274509803921569,
              "rgb(24,15,41)"
             ],
             [
              0.12549019607843137,
              "rgb(47,23,57)"
             ],
             [
              0.18823529411764706,
              "rgb(71,28,72)"
             ],
             [
              0.25098039215686274,
              "rgb(97,30,82)"
             ],
             [
              0.3137254901960784,
              "rgb(123,30,89)"
             ],
             [
              0.3764705882352941,
              "rgb(150,27,91)"
             ],
             [
              0.4392156862745098,
              "rgb(177,22,88)"
             ],
             [
              0.5019607843137255,
              "rgb(203,26,79)"
             ],
             [
              0.5647058823529412,
              "rgb(223,47,67)"
             ],
             [
              0.6274509803921569,
              "rgb(236,76,61)"
             ],
             [
              0.6901960784313725,
              "rgb(242,107,73)"
             ],
             [
              0.7529411764705882,
              "rgb(244,135,95)"
             ],
             [
              0.8156862745098039,
              "rgb(245,162,122)"
             ],
             [
              0.8784313725490196,
              "rgb(246,188,153)"
             ],
             [
              0.9411764705882353,
              "rgb(247,212,187)"
             ],
             [
              1,
              "rgb(250,234,220)"
             ]
            ],
            "type": "histogram2dcontour"
           }
          ],
          "mesh3d": [
           {
            "colorbar": {
             "outlinewidth": 0,
             "tickcolor": "rgb(36,36,36)",
             "ticklen": 8,
             "ticks": "outside",
             "tickwidth": 2
            },
            "type": "mesh3d"
           }
          ],
          "parcoords": [
           {
            "line": {
             "colorbar": {
              "outlinewidth": 0,
              "tickcolor": "rgb(36,36,36)",
              "ticklen": 8,
              "ticks": "outside",
              "tickwidth": 2
             }
            },
            "type": "parcoords"
           }
          ],
          "pie": [
           {
            "automargin": true,
            "type": "pie"
           }
          ],
          "scatter": [
           {
            "fillpattern": {
             "fillmode": "overlay",
             "size": 10,
             "solidity": 0.2
            },
            "type": "scatter"
           }
          ],
          "scatter3d": [
           {
            "line": {
             "colorbar": {
              "outlinewidth": 0,
              "tickcolor": "rgb(36,36,36)",
              "ticklen": 8,
              "ticks": "outside",
              "tickwidth": 2
             }
            },
            "marker": {
             "colorbar": {
              "outlinewidth": 0,
              "tickcolor": "rgb(36,36,36)",
              "ticklen": 8,
              "ticks": "outside",
              "tickwidth": 2
             }
            },
            "type": "scatter3d"
           }
          ],
          "scattercarpet": [
           {
            "marker": {
             "colorbar": {
              "outlinewidth": 0,
              "tickcolor": "rgb(36,36,36)",
              "ticklen": 8,
              "ticks": "outside",
              "tickwidth": 2
             }
            },
            "type": "scattercarpet"
           }
          ],
          "scattergeo": [
           {
            "marker": {
             "colorbar": {
              "outlinewidth": 0,
              "tickcolor": "rgb(36,36,36)",
              "ticklen": 8,
              "ticks": "outside",
              "tickwidth": 2
             }
            },
            "type": "scattergeo"
           }
          ],
          "scattergl": [
           {
            "marker": {
             "colorbar": {
              "outlinewidth": 0,
              "tickcolor": "rgb(36,36,36)",
              "ticklen": 8,
              "ticks": "outside",
              "tickwidth": 2
             }
            },
            "type": "scattergl"
           }
          ],
          "scattermap": [
           {
            "marker": {
             "colorbar": {
              "outlinewidth": 0,
              "tickcolor": "rgb(36,36,36)",
              "ticklen": 8,
              "ticks": "outside",
              "tickwidth": 2
             }
            },
            "type": "scattermap"
           }
          ],
          "scattermapbox": [
           {
            "marker": {
             "colorbar": {
              "outlinewidth": 0,
              "tickcolor": "rgb(36,36,36)",
              "ticklen": 8,
              "ticks": "outside",
              "tickwidth": 2
             }
            },
            "type": "scattermapbox"
           }
          ],
          "scatterpolar": [
           {
            "marker": {
             "colorbar": {
              "outlinewidth": 0,
              "tickcolor": "rgb(36,36,36)",
              "ticklen": 8,
              "ticks": "outside",
              "tickwidth": 2
             }
            },
            "type": "scatterpolar"
           }
          ],
          "scatterpolargl": [
           {
            "marker": {
             "colorbar": {
              "outlinewidth": 0,
              "tickcolor": "rgb(36,36,36)",
              "ticklen": 8,
              "ticks": "outside",
              "tickwidth": 2
             }
            },
            "type": "scatterpolargl"
           }
          ],
          "scatterternary": [
           {
            "marker": {
             "colorbar": {
              "outlinewidth": 0,
              "tickcolor": "rgb(36,36,36)",
              "ticklen": 8,
              "ticks": "outside",
              "tickwidth": 2
             }
            },
            "type": "scatterternary"
           }
          ],
          "surface": [
           {
            "colorbar": {
             "outlinewidth": 0,
             "tickcolor": "rgb(36,36,36)",
             "ticklen": 8,
             "ticks": "outside",
             "tickwidth": 2
            },
            "colorscale": [
             [
              0,
              "rgb(2,4,25)"
             ],
             [
              0.06274509803921569,
              "rgb(24,15,41)"
             ],
             [
              0.12549019607843137,
              "rgb(47,23,57)"
             ],
             [
              0.18823529411764706,
              "rgb(71,28,72)"
             ],
             [
              0.25098039215686274,
              "rgb(97,30,82)"
             ],
             [
              0.3137254901960784,
              "rgb(123,30,89)"
             ],
             [
              0.3764705882352941,
              "rgb(150,27,91)"
             ],
             [
              0.4392156862745098,
              "rgb(177,22,88)"
             ],
             [
              0.5019607843137255,
              "rgb(203,26,79)"
             ],
             [
              0.5647058823529412,
              "rgb(223,47,67)"
             ],
             [
              0.6274509803921569,
              "rgb(236,76,61)"
             ],
             [
              0.6901960784313725,
              "rgb(242,107,73)"
             ],
             [
              0.7529411764705882,
              "rgb(244,135,95)"
             ],
             [
              0.8156862745098039,
              "rgb(245,162,122)"
             ],
             [
              0.8784313725490196,
              "rgb(246,188,153)"
             ],
             [
              0.9411764705882353,
              "rgb(247,212,187)"
             ],
             [
              1,
              "rgb(250,234,220)"
             ]
            ],
            "type": "surface"
           }
          ],
          "table": [
           {
            "cells": {
             "fill": {
              "color": "rgb(231,231,240)"
             },
             "line": {
              "color": "white"
             }
            },
            "header": {
             "fill": {
              "color": "rgb(183,183,191)"
             },
             "line": {
              "color": "white"
             }
            },
            "type": "table"
           }
          ]
         },
         "layout": {
          "annotationdefaults": {
           "arrowcolor": "rgb(67,103,167)"
          },
          "autotypenumbers": "strict",
          "coloraxis": {
           "colorbar": {
            "outlinewidth": 0,
            "tickcolor": "rgb(36,36,36)",
            "ticklen": 8,
            "ticks": "outside",
            "tickwidth": 2
           }
          },
          "colorscale": {
           "sequential": [
            [
             0,
             "rgb(2,4,25)"
            ],
            [
             0.06274509803921569,
             "rgb(24,15,41)"
            ],
            [
             0.12549019607843137,
             "rgb(47,23,57)"
            ],
            [
             0.18823529411764706,
             "rgb(71,28,72)"
            ],
            [
             0.25098039215686274,
             "rgb(97,30,82)"
            ],
            [
             0.3137254901960784,
             "rgb(123,30,89)"
            ],
            [
             0.3764705882352941,
             "rgb(150,27,91)"
            ],
            [
             0.4392156862745098,
             "rgb(177,22,88)"
            ],
            [
             0.5019607843137255,
             "rgb(203,26,79)"
            ],
            [
             0.5647058823529412,
             "rgb(223,47,67)"
            ],
            [
             0.6274509803921569,
             "rgb(236,76,61)"
            ],
            [
             0.6901960784313725,
             "rgb(242,107,73)"
            ],
            [
             0.7529411764705882,
             "rgb(244,135,95)"
            ],
            [
             0.8156862745098039,
             "rgb(245,162,122)"
            ],
            [
             0.8784313725490196,
             "rgb(246,188,153)"
            ],
            [
             0.9411764705882353,
             "rgb(247,212,187)"
            ],
            [
             1,
             "rgb(250,234,220)"
            ]
           ],
           "sequentialminus": [
            [
             0,
             "rgb(2,4,25)"
            ],
            [
             0.06274509803921569,
             "rgb(24,15,41)"
            ],
            [
             0.12549019607843137,
             "rgb(47,23,57)"
            ],
            [
             0.18823529411764706,
             "rgb(71,28,72)"
            ],
            [
             0.25098039215686274,
             "rgb(97,30,82)"
            ],
            [
             0.3137254901960784,
             "rgb(123,30,89)"
            ],
            [
             0.3764705882352941,
             "rgb(150,27,91)"
            ],
            [
             0.4392156862745098,
             "rgb(177,22,88)"
            ],
            [
             0.5019607843137255,
             "rgb(203,26,79)"
            ],
            [
             0.5647058823529412,
             "rgb(223,47,67)"
            ],
            [
             0.6274509803921569,
             "rgb(236,76,61)"
            ],
            [
             0.6901960784313725,
             "rgb(242,107,73)"
            ],
            [
             0.7529411764705882,
             "rgb(244,135,95)"
            ],
            [
             0.8156862745098039,
             "rgb(245,162,122)"
            ],
            [
             0.8784313725490196,
             "rgb(246,188,153)"
            ],
            [
             0.9411764705882353,
             "rgb(247,212,187)"
            ],
            [
             1,
             "rgb(250,234,220)"
            ]
           ]
          },
          "colorway": [
           "rgb(76,114,176)",
           "rgb(221,132,82)",
           "rgb(85,168,104)",
           "rgb(196,78,82)",
           "rgb(129,114,179)",
           "rgb(147,120,96)",
           "rgb(218,139,195)",
           "rgb(140,140,140)",
           "rgb(204,185,116)",
           "rgb(100,181,205)"
          ],
          "font": {
           "color": "rgb(36,36,36)"
          },
          "geo": {
           "bgcolor": "white",
           "lakecolor": "white",
           "landcolor": "rgb(234,234,242)",
           "showlakes": true,
           "showland": true,
           "subunitcolor": "white"
          },
          "hoverlabel": {
           "align": "left"
          },
          "hovermode": "closest",
          "paper_bgcolor": "white",
          "plot_bgcolor": "rgb(234,234,242)",
          "polar": {
           "angularaxis": {
            "gridcolor": "white",
            "linecolor": "white",
            "showgrid": true,
            "ticks": ""
           },
           "bgcolor": "rgb(234,234,242)",
           "radialaxis": {
            "gridcolor": "white",
            "linecolor": "white",
            "showgrid": true,
            "ticks": ""
           }
          },
          "scene": {
           "xaxis": {
            "backgroundcolor": "rgb(234,234,242)",
            "gridcolor": "white",
            "gridwidth": 2,
            "linecolor": "white",
            "showbackground": true,
            "showgrid": true,
            "ticks": "",
            "zerolinecolor": "white"
           },
           "yaxis": {
            "backgroundcolor": "rgb(234,234,242)",
            "gridcolor": "white",
            "gridwidth": 2,
            "linecolor": "white",
            "showbackground": true,
            "showgrid": true,
            "ticks": "",
            "zerolinecolor": "white"
           },
           "zaxis": {
            "backgroundcolor": "rgb(234,234,242)",
            "gridcolor": "white",
            "gridwidth": 2,
            "linecolor": "white",
            "showbackground": true,
            "showgrid": true,
            "ticks": "",
            "zerolinecolor": "white"
           }
          },
          "shapedefaults": {
           "fillcolor": "rgb(67,103,167)",
           "line": {
            "width": 0
           },
           "opacity": 0.5
          },
          "ternary": {
           "aaxis": {
            "gridcolor": "white",
            "linecolor": "white",
            "showgrid": true,
            "ticks": ""
           },
           "baxis": {
            "gridcolor": "white",
            "linecolor": "white",
            "showgrid": true,
            "ticks": ""
           },
           "bgcolor": "rgb(234,234,242)",
           "caxis": {
            "gridcolor": "white",
            "linecolor": "white",
            "showgrid": true,
            "ticks": ""
           }
          },
          "xaxis": {
           "automargin": true,
           "gridcolor": "white",
           "linecolor": "white",
           "showgrid": true,
           "ticks": "",
           "title": {
            "standoff": 15
           },
           "zerolinecolor": "white"
          },
          "yaxis": {
           "automargin": true,
           "gridcolor": "white",
           "linecolor": "white",
           "showgrid": true,
           "ticks": "",
           "title": {
            "standoff": 15
           },
           "zerolinecolor": "white"
          }
         }
        },
        "title": {
         "text": "Dollar Bars"
        },
        "xaxis": {
         "rangeslider": {
          "visible": true
         },
         "title": {
          "text": "Bar"
         }
        },
        "yaxis": {
         "title": {
          "text": "Price (USD)"
         }
        }
       }
      }
     },
     "metadata": {},
     "output_type": "display_data"
    }
   ],
   "source": [
    "fig = go.Figure(data=[go.Candlestick(\n",
    "    x=dollar_bars.index,\n",
    "    open=dollar_bars['open'],\n",
    "    high=dollar_bars['high'],\n",
    "    low=dollar_bars['low'],\n",
    "    close=dollar_bars['close'],\n",
    "    name='Dollar Bars'\n",
    ")])\n",
    "\n",
    "fig.update_layout(\n",
    "    title=f'Dollar Bars',\n",
    "    yaxis_title='Price (USD)',\n",
    "    xaxis_title='Bar',\n",
    "    xaxis_rangeslider_visible=True, \n",
    "    template='seaborn', # other options: plotly, plotly_white, plotly_dark, simple_white\n",
    "    showlegend=True,\n",
    ")"
   ]
  },
  {
   "cell_type": "markdown",
   "id": "07710a47",
   "metadata": {},
   "source": [
    "### Time Chart"
   ]
  },
  {
   "cell_type": "code",
   "execution_count": 53,
   "id": "a1c9877e",
   "metadata": {},
   "outputs": [
    {
     "data": {
      "application/vnd.plotly.v1+json": {
       "config": {
        "plotlyServerURL": "https://plot.ly"
       },
       "data": [
        {
         "close": {
          "bdata": "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",
          "dtype": "f8"
         },
         "high": {
          "bdata": "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",
          "dtype": "f8"
         },
         "low": {
          "bdata": "PQrXo3D9WEDsUbgehftYQKRwPQrX81hApHA9CtfzWEAUrkfhevRYQDMzMzMz81hAAAAAAADwWEDsUbgehetYQNejcD0K51hASOF6FK7nWEC4HoXrUehYQAAAAAAA8FhArkfhehT+WEAfhetRuP5YQHsUrkfh+lhAexSuR+H6WEBcj8L1KPxYQEjhehSu91hASOF6FK73WEC4HoXrUfhYQM3MzMzM/FhAUrgehesBWUDhehSuRwFZQHE9CtejAFlAAAAAAAAAWUAUrkfhegRZQHE9CtejEFlAXI/C9SgMWUDXo3A9CgdZQNejcD0KB1lAuB6F61EIWUCF61G4HgVZQBSuR+F6BFlAFK5H4XoEWUBI4XoUrgdZQLgehetRCFlAj8L1KFwPWUAAAAAAABBZQMP1KFyPEllA4XoUrkcRWUBSuB6F6xFZQEjhehSuF1lAw/UoXI8SWUBcj8L1KAxZQK5H4XoUDllA4XoUrkcRWUBxPQrXoxBZQKRwPQrXE1lA4XoUrkcRWUDsUbgehRtZQIXrUbgeFVlAcT0K16MQWUCPwvUoXA9ZQEjhehSuB1lAj8L1KFwPWUB7FK5H4RpZQFK4HoXrEVlAzczMzMwMWUAfhetRuA5ZQNejcD0KF1lAmpmZmZkZWUB7FK5H4RpZQClcj8L1GFlAKVyPwvUYWUBI4XoUrhdZQB+F61G4HllACtejcD0aWUD2KFyPwhVZQB+F61G4DllAcT0K16MAWUCkcD0K1wNZQGZmZmZmBllAXI/C9SgMWUDNzMzMzAxZQOxRuB6FC1lApHA9CtcTWUAzMzMzMxNZQLgehetRGFlAZmZmZmYWWUCkcD0K1xNZQK5H4XoUDllAZmZmZmYGWUC4HoXrUQhZQIXrUbgeBVlAXI/C9SgMWUCkcD0K1xNZQClcj8L1GFlA16NwPQonWUDXo3A9CidZQGZmZmZmJllAzczMzMwcWUC4HoXrURhZQHsUrkfhGllAAAAAAAAgWUCPwvUoXB9ZQIXrUbgeFVlAH4XrUbgOWUDD9ShcjxJZQB+F61G4DllAKVyPwvUIWUCF61G4HgVZQHE9CtejAFlAFK5H4XoEWUApXI/C9QhZQArXo3A9CllAXI/C9SgMWUBxPQrXoxBZQOF6FK5HEVlAKVyPwvUYWUD2KFyPwhVZQDMzMzMzE1lAexSuR+EKWUAzMzMzMwNZQHsUrkfh+lhA16NwPQr3WEApXI/C9fhYQGZmZmZm9lhA16NwPQr3WEDhehSuR/FYQB+F61G47lhA4XoUrkfxWEBSuB6F6/FYQOF6FK5H8VhA7FG4HoXrWEDsUbgehetYQArXo3A96lhAUrgehevhWEDD9Shcj+JYQEjhehSu51hACtejcD3qWEApXI/C9ehYQK5H4XoU3lhAAAAAAADgWEB7FK5H4dpYQAAAAAAA4FhAH4XrUbjeWEBcj8L1KNxYQBSuR+F61FhAMzMzMzPTWEBI4XoUrtdYQFyPwvUo3FhAuB6F61HYWEAK16NwPdpYQFyPwvUo3FhArkfhehTeWEDsUbgehdtYQHsUrkfh2lhAuB6F61HYWEC4HoXrUdhYQOF6FK5H4VhAcT0K16PgWECPwvUoXN9YQAAAAAAA4FhAFK5H4XrkWEDD9Shcj+JYQKRwPQrX41hAexSuR+HqWECF61G4HuVYQFK4HoXr4VhA7FG4HoXbWEAK16NwPdpYQHE9Ctej4FhA9ihcj8LlWEDsUbgehetYQIXrUbge5VhAhetRuB7lWED2KFyPwuVYQLgehetR6FhAUrgehevhWEDhehSuR+FYQMP1KFyP4lhA4XoUrkfxWEA9CtejcO1YQD0K16Nw7VhAmpmZmZnpWEBmZmZmZuZYQGZmZmZm5lhAZmZmZmbmWED2KFyPwuVYQAAAAAAA4FhAhetRuB7VWEApXI/C9dhYQClcj8L12FhAhetRuB7lWEAUrkfheuRYQM3MzMzM3FhA9ihcj8LVWEAK16NwPdpYQM3MzMzM3FhArkfhehTeWEBSuB6F6+FYQLgehetR6FhAuB6F61HoWEC4HoXrUehYQFyPwvUo7FhAcT0K16PwWEAAAAAAAPBYQDMzMzMz81hAZmZmZmb2WEDXo3A9CvdYQK5H4XoU/lhAj8L1KFz/WEAK16NwPfpYQClcj8L1+FhAuB6F61H4WEC4HoXrUfhYQBSuR+F69FhAhetRuB71WEAAAAAAAPBYQFyPwvUo7FhAuB6F61HoWEBmZmZmZuZYQLgehetR6FhAuB6F61HoWEDNzMzMzOxYQHE9Ctej8FhAPQrXo3DtWEBSuB6F6+FYQNejcD0K51hASOF6FK7nWEDXo3A9CudYQBSuR+F65FhApHA9CtfjWEB7FK5H4epYQKRwPQrX81hA4XoUrkfxWEA9CtejcO1YQArXo3A9+lhAZmZmZmb2WEBI4XoUrvdYQClcj8L1+FhAzczMzMz8WECPwvUoXP9YQM3MzMzMDFlAcT0K16MQWUCkcD0K1xNZQBSuR+F6FFlASOF6FK4XWUCF61G4HhVZQFyPwvUoHFlAH4XrUbgeWUA9CtejcB1ZQOF6FK5HIVlApHA9CtcjWUBSuB6F6yFZQK5H4XoUHllAmpmZmZkpWUBI4XoUridZQMP1KFyPIllAMzMzMzMjWUDhehSuRyFZQBSuR+F6JFlAhetRuB4lWUCF61G4HiVZQKRwPQrXI1lAcT0K16MgWUDhehSuRyFZQIXrUbgeJVlAUrgehesxWUBmZmZmZjZZQPYoXI/CNVlAH4XrUbg+WUDXo3A9CjdZQK5H4XoULllAXI/C9SgsWUCkcD0K1yNZQFK4HoXrIVlAMzMzMzMjWUBmZmZmZiZZQPYoXI/CJVlApHA9CtcjWUD2KFyPwiVZQNejcD0KJ1lA9ihcj8IlWUDD9ShcjyJZQMP1KFyPIllA7FG4HoUrWUAAAAAAADBZQHsUrkfhKllArkfhehQuWUCuR+F6FC5ZQK5H4XoULllAUrgeheshWUDD9ShcjyJZQHE9CtejIFlAMzMzMzMjWUCuR+F6FB5ZQOF6FK5HIVlA7FG4HoUrWUDNzMzMzCxZQKRwPQrXM1lAj8L1KFwvWUBSuB6F6zFZQD0K16NwLVlASOF6FK4nWUDXo3A9CidZQLgehetRKFlAexSuR+EqWUAUrkfheiRZQFyPwvUoLFlA7FG4HoUrWUBxPQrXozBZQDMzMzMzM1lAzczMzMwsWUAfhetRuC5ZQOxRuB6FK1lAhetRuB41WUBcj8L1KCxZQM3MzMzMLFlAmpmZmZkpWUAK16NwPSpZQI/C9ShcL1lAPQrXo3AtWUDXo3A9CidZQJqZmZmZKVlAw/UoXI8yWUAAAAAAADBZQFyPwvUoLFlArkfhehQuWUAzMzMzMzNZQPYoXI/CNVlAhetRuB41WUCkcD0K1zNZQOF6FK5HMVlASOF6FK43WUDD9ShcjzJZQArXo3A9OllAAAAAAABAWUApXI/C9UhZQDMzMzMzQ1lAAAAAAABAWUCF61G4HkVZQPYoXI/CRVlAhetRuB5FWUApXI/C9UhZQEjhehSuR1lA9ihcj8JFWUBI4XoUrkdZQOxRuB6FS1lA9ihcj8JFWUAzMzMzM0NZQLgehetRSFlAuB6F61FIWUCF61G4HkVZQI/C9ShcP1lAUrgehesxWUBmZmZmZjZZQNejcD0KN1lACtejcD06WUC4HoXrUThZQNejcD0KN1lAw/UoXI8yWUCkcD0K1zNZQI/C9ShcP1lACtejcD06WUD2KFyPwjVZQKRwPQrXM1lApHA9CtczWUCF61G4HjVZQNejcD0KN1lA9ihcj8I1WUAAAAAAADBZQD0K16NwLVlAUrgehesxWUAAAAAAADBZQD0K16NwLVlAzczMzMwsWUBxPQrXozBZQOF6FK5HQVlA9ihcj8JFWUC4HoXrUUhZQFyPwvUoTFlA",
          "dtype": "f8"
         },
         "name": "Dollar Bars",
         "open": {
          "bdata": "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",
          "dtype": "f8"
         },
         "type": "candlestick",
         "x": [
          "2025-07-14T09:30:24.000000000",
          "2025-07-14T09:30:51.000000000",
          "2025-07-14T09:31:59.000000000",
          "2025-07-14T09:34:40.000000000",
          "2025-07-14T09:35:06.000000000",
          "2025-07-14T09:35:57.000000000",
          "2025-07-14T09:37:43.000000000",
          "2025-07-14T09:40:27.000000000",
          "2025-07-14T09:41:30.000000000",
          "2025-07-14T09:42:04.000000000",
          "2025-07-14T09:42:26.000000000",
          "2025-07-14T09:44:28.000000000",
          "2025-07-14T09:44:57.000000000",
          "2025-07-14T09:46:03.000000000",
          "2025-07-14T09:46:52.000000000",
          "2025-07-14T09:48:03.000000000",
          "2025-07-14T09:49:43.000000000",
          "2025-07-14T09:51:10.000000000",
          "2025-07-14T09:51:46.000000000",
          "2025-07-14T09:52:10.000000000",
          "2025-07-14T09:53:44.000000000",
          "2025-07-14T09:55:10.000000000",
          "2025-07-14T09:55:16.000000000",
          "2025-07-14T09:57:16.000000000",
          "2025-07-14T09:58:26.000000000",
          "2025-07-14T10:00:42.000000000",
          "2025-07-14T10:01:17.000000000",
          "2025-07-14T10:03:16.000000000",
          "2025-07-14T10:03:44.000000000",
          "2025-07-14T10:05:20.000000000",
          "2025-07-14T10:05:57.000000000",
          "2025-07-14T10:06:09.000000000",
          "2025-07-14T10:06:35.000000000",
          "2025-07-14T10:07:27.000000000",
          "2025-07-14T10:08:01.000000000",
          "2025-07-14T10:08:12.000000000",
          "2025-07-14T10:09:07.000000000",
          "2025-07-14T10:09:30.000000000",
          "2025-07-14T10:11:10.000000000",
          "2025-07-14T10:11:49.000000000",
          "2025-07-14T10:14:05.000000000",
          "2025-07-14T10:14:16.000000000",
          "2025-07-14T10:14:35.000000000",
          "2025-07-14T10:15:18.000000000",
          "2025-07-14T10:15:43.000000000",
          "2025-07-14T10:16:34.000000000",
          "2025-07-14T10:17:02.000000000",
          "2025-07-14T10:18:47.000000000",
          "2025-07-14T10:18:54.000000000",
          "2025-07-14T10:20:58.000000000",
          "2025-07-14T10:21:18.000000000",
          "2025-07-14T10:22:27.000000000",
          "2025-07-14T10:23:25.000000000",
          "2025-07-14T10:23:50.000000000",
          "2025-07-14T10:25:09.000000000",
          "2025-07-14T10:29:13.000000000",
          "2025-07-14T10:30:06.000000000",
          "2025-07-14T10:30:22.000000000",
          "2025-07-14T10:31:13.000000000",
          "2025-07-14T10:31:56.000000000",
          "2025-07-14T10:32:19.000000000",
          "2025-07-14T10:32:28.000000000",
          "2025-07-14T10:33:24.000000000",
          "2025-07-14T10:35:00.000000000",
          "2025-07-14T10:37:17.000000000",
          "2025-07-14T10:38:47.000000000",
          "2025-07-14T10:39:25.000000000",
          "2025-07-14T10:40:57.000000000",
          "2025-07-14T10:42:19.000000000",
          "2025-07-14T10:42:47.000000000",
          "2025-07-14T10:44:40.000000000",
          "2025-07-14T10:45:37.000000000",
          "2025-07-14T10:46:10.000000000",
          "2025-07-14T10:46:34.000000000",
          "2025-07-14T10:47:30.000000000",
          "2025-07-14T10:51:53.000000000",
          "2025-07-14T10:52:52.000000000",
          "2025-07-14T10:54:45.000000000",
          "2025-07-14T10:55:44.000000000",
          "2025-07-14T10:57:16.000000000",
          "2025-07-14T10:57:27.000000000",
          "2025-07-14T10:58:57.000000000",
          "2025-07-14T11:01:04.000000000",
          "2025-07-14T11:01:31.000000000",
          "2025-07-14T11:03:56.000000000",
          "2025-07-14T11:05:00.000000000",
          "2025-07-14T11:05:31.000000000",
          "2025-07-14T11:09:22.000000000",
          "2025-07-14T11:10:25.000000000",
          "2025-07-14T11:12:01.000000000",
          "2025-07-14T11:12:46.000000000",
          "2025-07-14T11:13:02.000000000",
          "2025-07-14T11:14:28.000000000",
          "2025-07-14T11:15:54.000000000",
          "2025-07-14T11:16:24.000000000",
          "2025-07-14T11:16:46.000000000",
          "2025-07-14T11:17:41.000000000",
          "2025-07-14T11:18:11.000000000",
          "2025-07-14T11:18:23.000000000",
          "2025-07-14T11:19:09.000000000",
          "2025-07-14T11:20:45.000000000",
          "2025-07-14T11:21:22.000000000",
          "2025-07-14T11:22:15.000000000",
          "2025-07-14T11:23:02.000000000",
          "2025-07-14T11:23:51.000000000",
          "2025-07-14T11:25:49.000000000",
          "2025-07-14T11:29:24.000000000",
          "2025-07-14T11:29:45.000000000",
          "2025-07-14T11:32:19.000000000",
          "2025-07-14T11:34:37.000000000",
          "2025-07-14T11:36:10.000000000",
          "2025-07-14T11:36:58.000000000",
          "2025-07-14T11:37:23.000000000",
          "2025-07-14T11:38:23.000000000",
          "2025-07-14T11:39:31.000000000",
          "2025-07-14T11:40:09.000000000",
          "2025-07-14T11:40:51.000000000",
          "2025-07-14T11:42:07.000000000",
          "2025-07-14T11:42:54.000000000",
          "2025-07-14T11:44:40.000000000",
          "2025-07-14T11:45:37.000000000",
          "2025-07-14T11:46:51.000000000",
          "2025-07-14T11:48:15.000000000",
          "2025-07-14T11:48:37.000000000",
          "2025-07-14T11:49:19.000000000",
          "2025-07-14T11:50:02.000000000",
          "2025-07-14T11:51:59.000000000",
          "2025-07-14T11:54:10.000000000",
          "2025-07-14T11:55:22.000000000",
          "2025-07-14T11:56:15.000000000",
          "2025-07-14T11:57:02.000000000",
          "2025-07-14T11:58:11.000000000",
          "2025-07-14T11:58:44.000000000",
          "2025-07-14T11:59:28.000000000",
          "2025-07-14T11:59:54.000000000",
          "2025-07-14T12:01:26.000000000",
          "2025-07-14T12:02:07.000000000",
          "2025-07-14T12:04:11.000000000",
          "2025-07-14T12:05:19.000000000",
          "2025-07-14T12:05:34.000000000",
          "2025-07-14T12:07:20.000000000",
          "2025-07-14T12:08:17.000000000",
          "2025-07-14T12:09:07.000000000",
          "2025-07-14T12:09:22.000000000",
          "2025-07-14T12:09:53.000000000",
          "2025-07-14T12:10:39.000000000",
          "2025-07-14T12:14:26.000000000",
          "2025-07-14T12:15:37.000000000",
          "2025-07-14T12:15:44.000000000",
          "2025-07-14T12:16:23.000000000",
          "2025-07-14T12:17:15.000000000",
          "2025-07-14T12:18:36.000000000",
          "2025-07-14T12:20:42.000000000",
          "2025-07-14T12:21:01.000000000",
          "2025-07-14T12:21:59.000000000",
          "2025-07-14T12:23:05.000000000",
          "2025-07-14T12:24:56.000000000",
          "2025-07-14T12:26:22.000000000",
          "2025-07-14T12:26:50.000000000",
          "2025-07-14T12:27:06.000000000",
          "2025-07-14T12:28:55.000000000",
          "2025-07-14T12:29:21.000000000",
          "2025-07-14T12:30:00.000000000",
          "2025-07-14T12:30:44.000000000",
          "2025-07-14T12:32:10.000000000",
          "2025-07-14T12:33:01.000000000",
          "2025-07-14T12:33:15.000000000",
          "2025-07-14T12:33:50.000000000",
          "2025-07-14T12:34:23.000000000",
          "2025-07-14T12:35:22.000000000",
          "2025-07-14T12:35:55.000000000",
          "2025-07-14T12:38:20.000000000",
          "2025-07-14T12:39:23.000000000",
          "2025-07-14T12:39:34.000000000",
          "2025-07-14T12:40:57.000000000",
          "2025-07-14T12:41:43.000000000",
          "2025-07-14T12:43:12.000000000",
          "2025-07-14T12:44:08.000000000",
          "2025-07-14T12:44:35.000000000",
          "2025-07-14T12:44:44.000000000",
          "2025-07-14T12:45:29.000000000",
          "2025-07-14T12:45:52.000000000",
          "2025-07-14T12:46:38.000000000",
          "2025-07-14T12:47:21.000000000",
          "2025-07-14T12:48:17.000000000",
          "2025-07-14T12:48:39.000000000",
          "2025-07-14T12:49:45.000000000",
          "2025-07-14T12:49:57.000000000",
          "2025-07-14T12:50:37.000000000",
          "2025-07-14T12:51:48.000000000",
          "2025-07-14T12:52:42.000000000",
          "2025-07-14T12:53:04.000000000",
          "2025-07-14T12:54:38.000000000",
          "2025-07-14T12:57:01.000000000",
          "2025-07-14T12:57:43.000000000",
          "2025-07-14T12:58:30.000000000",
          "2025-07-14T12:58:39.000000000",
          "2025-07-14T13:00:01.000000000",
          "2025-07-14T13:01:21.000000000",
          "2025-07-14T13:01:52.000000000",
          "2025-07-14T13:02:35.000000000",
          "2025-07-14T13:03:08.000000000",
          "2025-07-14T13:04:25.000000000",
          "2025-07-14T13:05:00.000000000",
          "2025-07-14T13:05:21.000000000",
          "2025-07-14T13:05:49.000000000",
          "2025-07-14T13:06:11.000000000",
          "2025-07-14T13:06:25.000000000",
          "2025-07-14T13:06:57.000000000",
          "2025-07-14T13:08:31.000000000",
          "2025-07-14T13:09:28.000000000",
          "2025-07-14T13:11:21.000000000",
          "2025-07-14T13:12:30.000000000",
          "2025-07-14T13:13:24.000000000",
          "2025-07-14T13:13:52.000000000",
          "2025-07-14T13:14:43.000000000",
          "2025-07-14T13:15:34.000000000",
          "2025-07-14T13:16:07.000000000",
          "2025-07-14T13:18:34.000000000",
          "2025-07-14T13:19:26.000000000",
          "2025-07-14T13:19:50.000000000",
          "2025-07-14T13:20:06.000000000",
          "2025-07-14T13:21:17.000000000",
          "2025-07-14T13:22:02.000000000",
          "2025-07-14T13:23:00.000000000",
          "2025-07-14T13:23:06.000000000",
          "2025-07-14T13:23:58.000000000",
          "2025-07-14T13:26:51.000000000",
          "2025-07-14T13:27:03.000000000",
          "2025-07-14T13:27:34.000000000",
          "2025-07-14T13:28:08.000000000",
          "2025-07-14T13:29:25.000000000",
          "2025-07-14T13:30:25.000000000",
          "2025-07-14T13:31:10.000000000",
          "2025-07-14T13:31:56.000000000",
          "2025-07-14T13:32:49.000000000",
          "2025-07-14T13:33:39.000000000",
          "2025-07-14T13:34:25.000000000",
          "2025-07-14T13:35:11.000000000",
          "2025-07-14T13:37:00.000000000",
          "2025-07-14T13:37:50.000000000",
          "2025-07-14T13:38:23.000000000",
          "2025-07-14T13:39:34.000000000",
          "2025-07-14T13:41:29.000000000",
          "2025-07-14T13:42:41.000000000",
          "2025-07-14T13:44:11.000000000",
          "2025-07-14T13:45:12.000000000",
          "2025-07-14T13:45:41.000000000",
          "2025-07-14T13:46:20.000000000",
          "2025-07-14T13:47:50.000000000",
          "2025-07-14T13:49:40.000000000",
          "2025-07-14T13:50:04.000000000",
          "2025-07-14T13:51:00.000000000",
          "2025-07-14T13:52:16.000000000",
          "2025-07-14T13:52:22.000000000",
          "2025-07-14T13:52:38.000000000",
          "2025-07-14T13:53:28.000000000",
          "2025-07-14T13:54:41.000000000",
          "2025-07-14T13:55:42.000000000",
          "2025-07-14T13:56:32.000000000",
          "2025-07-14T13:57:16.000000000",
          "2025-07-14T13:58:26.000000000",
          "2025-07-14T13:59:24.000000000",
          "2025-07-14T13:59:58.000000000",
          "2025-07-14T14:00:40.000000000",
          "2025-07-14T14:01:27.000000000",
          "2025-07-14T14:01:34.000000000",
          "2025-07-14T14:01:40.000000000",
          "2025-07-14T14:03:33.000000000",
          "2025-07-14T14:05:49.000000000",
          "2025-07-14T14:06:47.000000000",
          "2025-07-14T14:07:47.000000000",
          "2025-07-14T14:07:55.000000000",
          "2025-07-14T14:08:46.000000000",
          "2025-07-14T14:09:26.000000000",
          "2025-07-14T14:12:26.000000000",
          "2025-07-14T14:14:39.000000000",
          "2025-07-14T14:17:38.000000000",
          "2025-07-14T14:17:54.000000000",
          "2025-07-14T14:18:15.000000000",
          "2025-07-14T14:19:02.000000000",
          "2025-07-14T14:21:38.000000000",
          "2025-07-14T14:22:16.000000000",
          "2025-07-14T14:23:00.000000000",
          "2025-07-14T14:24:07.000000000",
          "2025-07-14T14:25:04.000000000",
          "2025-07-14T14:27:19.000000000",
          "2025-07-14T14:28:33.000000000",
          "2025-07-14T14:30:29.000000000",
          "2025-07-14T14:31:22.000000000",
          "2025-07-14T14:32:42.000000000",
          "2025-07-14T14:33:30.000000000",
          "2025-07-14T14:33:59.000000000",
          "2025-07-14T14:34:18.000000000",
          "2025-07-14T14:35:31.000000000",
          "2025-07-14T14:36:09.000000000",
          "2025-07-14T14:38:16.000000000",
          "2025-07-14T14:38:25.000000000",
          "2025-07-14T14:40:40.000000000",
          "2025-07-14T14:40:59.000000000",
          "2025-07-14T14:42:20.000000000",
          "2025-07-14T14:42:54.000000000",
          "2025-07-14T14:44:54.000000000",
          "2025-07-14T14:45:07.000000000",
          "2025-07-14T14:45:53.000000000",
          "2025-07-14T14:47:20.000000000",
          "2025-07-14T14:48:24.000000000",
          "2025-07-14T14:49:01.000000000",
          "2025-07-14T14:49:46.000000000",
          "2025-07-14T14:49:58.000000000",
          "2025-07-14T14:51:42.000000000",
          "2025-07-14T14:53:04.000000000",
          "2025-07-14T14:53:19.000000000",
          "2025-07-14T14:54:17.000000000",
          "2025-07-14T14:55:04.000000000",
          "2025-07-14T14:57:13.000000000",
          "2025-07-14T14:57:50.000000000",
          "2025-07-14T14:59:23.000000000",
          "2025-07-14T15:01:49.000000000",
          "2025-07-14T15:03:27.000000000",
          "2025-07-14T15:03:50.000000000",
          "2025-07-14T15:04:30.000000000",
          "2025-07-14T15:05:20.000000000",
          "2025-07-14T15:05:52.000000000",
          "2025-07-14T15:06:23.000000000",
          "2025-07-14T15:06:53.000000000",
          "2025-07-14T15:08:02.000000000",
          "2025-07-14T15:10:25.000000000",
          "2025-07-14T15:11:05.000000000",
          "2025-07-14T15:11:25.000000000",
          "2025-07-14T15:12:37.000000000",
          "2025-07-14T15:16:44.000000000",
          "2025-07-14T15:17:35.000000000",
          "2025-07-14T15:18:45.000000000",
          "2025-07-14T15:19:12.000000000",
          "2025-07-14T15:20:22.000000000",
          "2025-07-14T15:21:49.000000000",
          "2025-07-14T15:23:15.000000000",
          "2025-07-14T15:24:04.000000000",
          "2025-07-14T15:27:12.000000000",
          "2025-07-14T15:27:53.000000000",
          "2025-07-14T15:29:09.000000000",
          "2025-07-14T15:29:33.000000000",
          "2025-07-14T15:30:00.000000000",
          "2025-07-14T15:30:12.000000000",
          "2025-07-14T15:32:29.000000000",
          "2025-07-14T15:33:22.000000000",
          "2025-07-14T15:33:55.000000000",
          "2025-07-14T15:35:45.000000000",
          "2025-07-14T15:36:12.000000000",
          "2025-07-14T15:37:09.000000000",
          "2025-07-14T15:37:47.000000000",
          "2025-07-14T15:39:31.000000000",
          "2025-07-14T15:40:33.000000000",
          "2025-07-14T15:41:07.000000000",
          "2025-07-14T15:41:47.000000000",
          "2025-07-14T15:42:15.000000000",
          "2025-07-14T15:42:41.000000000",
          "2025-07-14T15:44:26.000000000",
          "2025-07-14T15:46:40.000000000",
          "2025-07-14T15:47:09.000000000",
          "2025-07-14T15:48:23.000000000",
          "2025-07-14T15:48:32.000000000",
          "2025-07-14T15:51:04.000000000",
          "2025-07-14T15:51:54.000000000",
          "2025-07-14T15:53:52.000000000",
          "2025-07-14T15:54:33.000000000",
          "2025-07-14T15:55:28.000000000",
          "2025-07-14T15:57:27.000000000",
          "2025-07-14T15:57:46.000000000",
          "2025-07-14T15:59:15.000000000",
          "2025-07-14T15:59:47.000000000"
         ]
        }
       ],
       "layout": {
        "showlegend": true,
        "template": {
         "data": {
          "bar": [
           {
            "error_x": {
             "color": "rgb(36,36,36)"
            },
            "error_y": {
             "color": "rgb(36,36,36)"
            },
            "marker": {
             "line": {
              "color": "rgb(234,234,242)",
              "width": 0.5
             },
             "pattern": {
              "fillmode": "overlay",
              "size": 10,
              "solidity": 0.2
             }
            },
            "type": "bar"
           }
          ],
          "barpolar": [
           {
            "marker": {
             "line": {
              "color": "rgb(234,234,242)",
              "width": 0.5
             },
             "pattern": {
              "fillmode": "overlay",
              "size": 10,
              "solidity": 0.2
             }
            },
            "type": "barpolar"
           }
          ],
          "carpet": [
           {
            "aaxis": {
             "endlinecolor": "rgb(36,36,36)",
             "gridcolor": "white",
             "linecolor": "white",
             "minorgridcolor": "white",
             "startlinecolor": "rgb(36,36,36)"
            },
            "baxis": {
             "endlinecolor": "rgb(36,36,36)",
             "gridcolor": "white",
             "linecolor": "white",
             "minorgridcolor": "white",
             "startlinecolor": "rgb(36,36,36)"
            },
            "type": "carpet"
           }
          ],
          "choropleth": [
           {
            "colorbar": {
             "outlinewidth": 0,
             "tickcolor": "rgb(36,36,36)",
             "ticklen": 8,
             "ticks": "outside",
             "tickwidth": 2
            },
            "type": "choropleth"
           }
          ],
          "contour": [
           {
            "colorbar": {
             "outlinewidth": 0,
             "tickcolor": "rgb(36,36,36)",
             "ticklen": 8,
             "ticks": "outside",
             "tickwidth": 2
            },
            "colorscale": [
             [
              0,
              "rgb(2,4,25)"
             ],
             [
              0.06274509803921569,
              "rgb(24,15,41)"
             ],
             [
              0.12549019607843137,
              "rgb(47,23,57)"
             ],
             [
              0.18823529411764706,
              "rgb(71,28,72)"
             ],
             [
              0.25098039215686274,
              "rgb(97,30,82)"
             ],
             [
              0.3137254901960784,
              "rgb(123,30,89)"
             ],
             [
              0.3764705882352941,
              "rgb(150,27,91)"
             ],
             [
              0.4392156862745098,
              "rgb(177,22,88)"
             ],
             [
              0.5019607843137255,
              "rgb(203,26,79)"
             ],
             [
              0.5647058823529412,
              "rgb(223,47,67)"
             ],
             [
              0.6274509803921569,
              "rgb(236,76,61)"
             ],
             [
              0.6901960784313725,
              "rgb(242,107,73)"
             ],
             [
              0.7529411764705882,
              "rgb(244,135,95)"
             ],
             [
              0.8156862745098039,
              "rgb(245,162,122)"
             ],
             [
              0.8784313725490196,
              "rgb(246,188,153)"
             ],
             [
              0.9411764705882353,
              "rgb(247,212,187)"
             ],
             [
              1,
              "rgb(250,234,220)"
             ]
            ],
            "type": "contour"
           }
          ],
          "contourcarpet": [
           {
            "colorbar": {
             "outlinewidth": 0,
             "tickcolor": "rgb(36,36,36)",
             "ticklen": 8,
             "ticks": "outside",
             "tickwidth": 2
            },
            "type": "contourcarpet"
           }
          ],
          "heatmap": [
           {
            "colorbar": {
             "outlinewidth": 0,
             "tickcolor": "rgb(36,36,36)",
             "ticklen": 8,
             "ticks": "outside",
             "tickwidth": 2
            },
            "colorscale": [
             [
              0,
              "rgb(2,4,25)"
             ],
             [
              0.06274509803921569,
              "rgb(24,15,41)"
             ],
             [
              0.12549019607843137,
              "rgb(47,23,57)"
             ],
             [
              0.18823529411764706,
              "rgb(71,28,72)"
             ],
             [
              0.25098039215686274,
              "rgb(97,30,82)"
             ],
             [
              0.3137254901960784,
              "rgb(123,30,89)"
             ],
             [
              0.3764705882352941,
              "rgb(150,27,91)"
             ],
             [
              0.4392156862745098,
              "rgb(177,22,88)"
             ],
             [
              0.5019607843137255,
              "rgb(203,26,79)"
             ],
             [
              0.5647058823529412,
              "rgb(223,47,67)"
             ],
             [
              0.6274509803921569,
              "rgb(236,76,61)"
             ],
             [
              0.6901960784313725,
              "rgb(242,107,73)"
             ],
             [
              0.7529411764705882,
              "rgb(244,135,95)"
             ],
             [
              0.8156862745098039,
              "rgb(245,162,122)"
             ],
             [
              0.8784313725490196,
              "rgb(246,188,153)"
             ],
             [
              0.9411764705882353,
              "rgb(247,212,187)"
             ],
             [
              1,
              "rgb(250,234,220)"
             ]
            ],
            "type": "heatmap"
           }
          ],
          "histogram": [
           {
            "marker": {
             "pattern": {
              "fillmode": "overlay",
              "size": 10,
              "solidity": 0.2
             }
            },
            "type": "histogram"
           }
          ],
          "histogram2d": [
           {
            "colorbar": {
             "outlinewidth": 0,
             "tickcolor": "rgb(36,36,36)",
             "ticklen": 8,
             "ticks": "outside",
             "tickwidth": 2
            },
            "colorscale": [
             [
              0,
              "rgb(2,4,25)"
             ],
             [
              0.06274509803921569,
              "rgb(24,15,41)"
             ],
             [
              0.12549019607843137,
              "rgb(47,23,57)"
             ],
             [
              0.18823529411764706,
              "rgb(71,28,72)"
             ],
             [
              0.25098039215686274,
              "rgb(97,30,82)"
             ],
             [
              0.3137254901960784,
              "rgb(123,30,89)"
             ],
             [
              0.3764705882352941,
              "rgb(150,27,91)"
             ],
             [
              0.4392156862745098,
              "rgb(177,22,88)"
             ],
             [
              0.5019607843137255,
              "rgb(203,26,79)"
             ],
             [
              0.5647058823529412,
              "rgb(223,47,67)"
             ],
             [
              0.6274509803921569,
              "rgb(236,76,61)"
             ],
             [
              0.6901960784313725,
              "rgb(242,107,73)"
             ],
             [
              0.7529411764705882,
              "rgb(244,135,95)"
             ],
             [
              0.8156862745098039,
              "rgb(245,162,122)"
             ],
             [
              0.8784313725490196,
              "rgb(246,188,153)"
             ],
             [
              0.9411764705882353,
              "rgb(247,212,187)"
             ],
             [
              1,
              "rgb(250,234,220)"
             ]
            ],
            "type": "histogram2d"
           }
          ],
          "histogram2dcontour": [
           {
            "colorbar": {
             "outlinewidth": 0,
             "tickcolor": "rgb(36,36,36)",
             "ticklen": 8,
             "ticks": "outside",
             "tickwidth": 2
            },
            "colorscale": [
             [
              0,
              "rgb(2,4,25)"
             ],
             [
              0.06274509803921569,
              "rgb(24,15,41)"
             ],
             [
              0.12549019607843137,
              "rgb(47,23,57)"
             ],
             [
              0.18823529411764706,
              "rgb(71,28,72)"
             ],
             [
              0.25098039215686274,
              "rgb(97,30,82)"
             ],
             [
              0.3137254901960784,
              "rgb(123,30,89)"
             ],
             [
              0.3764705882352941,
              "rgb(150,27,91)"
             ],
             [
              0.4392156862745098,
              "rgb(177,22,88)"
             ],
             [
              0.5019607843137255,
              "rgb(203,26,79)"
             ],
             [
              0.5647058823529412,
              "rgb(223,47,67)"
             ],
             [
              0.6274509803921569,
              "rgb(236,76,61)"
             ],
             [
              0.6901960784313725,
              "rgb(242,107,73)"
             ],
             [
              0.7529411764705882,
              "rgb(244,135,95)"
             ],
             [
              0.8156862745098039,
              "rgb(245,162,122)"
             ],
             [
              0.8784313725490196,
              "rgb(246,188,153)"
             ],
             [
              0.9411764705882353,
              "rgb(247,212,187)"
             ],
             [
              1,
              "rgb(250,234,220)"
             ]
            ],
            "type": "histogram2dcontour"
           }
          ],
          "mesh3d": [
           {
            "colorbar": {
             "outlinewidth": 0,
             "tickcolor": "rgb(36,36,36)",
             "ticklen": 8,
             "ticks": "outside",
             "tickwidth": 2
            },
            "type": "mesh3d"
           }
          ],
          "parcoords": [
           {
            "line": {
             "colorbar": {
              "outlinewidth": 0,
              "tickcolor": "rgb(36,36,36)",
              "ticklen": 8,
              "ticks": "outside",
              "tickwidth": 2
             }
            },
            "type": "parcoords"
           }
          ],
          "pie": [
           {
            "automargin": true,
            "type": "pie"
           }
          ],
          "scatter": [
           {
            "fillpattern": {
             "fillmode": "overlay",
             "size": 10,
             "solidity": 0.2
            },
            "type": "scatter"
           }
          ],
          "scatter3d": [
           {
            "line": {
             "colorbar": {
              "outlinewidth": 0,
              "tickcolor": "rgb(36,36,36)",
              "ticklen": 8,
              "ticks": "outside",
              "tickwidth": 2
             }
            },
            "marker": {
             "colorbar": {
              "outlinewidth": 0,
              "tickcolor": "rgb(36,36,36)",
              "ticklen": 8,
              "ticks": "outside",
              "tickwidth": 2
             }
            },
            "type": "scatter3d"
           }
          ],
          "scattercarpet": [
           {
            "marker": {
             "colorbar": {
              "outlinewidth": 0,
              "tickcolor": "rgb(36,36,36)",
              "ticklen": 8,
              "ticks": "outside",
              "tickwidth": 2
             }
            },
            "type": "scattercarpet"
           }
          ],
          "scattergeo": [
           {
            "marker": {
             "colorbar": {
              "outlinewidth": 0,
              "tickcolor": "rgb(36,36,36)",
              "ticklen": 8,
              "ticks": "outside",
              "tickwidth": 2
             }
            },
            "type": "scattergeo"
           }
          ],
          "scattergl": [
           {
            "marker": {
             "colorbar": {
              "outlinewidth": 0,
              "tickcolor": "rgb(36,36,36)",
              "ticklen": 8,
              "ticks": "outside",
              "tickwidth": 2
             }
            },
            "type": "scattergl"
           }
          ],
          "scattermap": [
           {
            "marker": {
             "colorbar": {
              "outlinewidth": 0,
              "tickcolor": "rgb(36,36,36)",
              "ticklen": 8,
              "ticks": "outside",
              "tickwidth": 2
             }
            },
            "type": "scattermap"
           }
          ],
          "scattermapbox": [
           {
            "marker": {
             "colorbar": {
              "outlinewidth": 0,
              "tickcolor": "rgb(36,36,36)",
              "ticklen": 8,
              "ticks": "outside",
              "tickwidth": 2
             }
            },
            "type": "scattermapbox"
           }
          ],
          "scatterpolar": [
           {
            "marker": {
             "colorbar": {
              "outlinewidth": 0,
              "tickcolor": "rgb(36,36,36)",
              "ticklen": 8,
              "ticks": "outside",
              "tickwidth": 2
             }
            },
            "type": "scatterpolar"
           }
          ],
          "scatterpolargl": [
           {
            "marker": {
             "colorbar": {
              "outlinewidth": 0,
              "tickcolor": "rgb(36,36,36)",
              "ticklen": 8,
              "ticks": "outside",
              "tickwidth": 2
             }
            },
            "type": "scatterpolargl"
           }
          ],
          "scatterternary": [
           {
            "marker": {
             "colorbar": {
              "outlinewidth": 0,
              "tickcolor": "rgb(36,36,36)",
              "ticklen": 8,
              "ticks": "outside",
              "tickwidth": 2
             }
            },
            "type": "scatterternary"
           }
          ],
          "surface": [
           {
            "colorbar": {
             "outlinewidth": 0,
             "tickcolor": "rgb(36,36,36)",
             "ticklen": 8,
             "ticks": "outside",
             "tickwidth": 2
            },
            "colorscale": [
             [
              0,
              "rgb(2,4,25)"
             ],
             [
              0.06274509803921569,
              "rgb(24,15,41)"
             ],
             [
              0.12549019607843137,
              "rgb(47,23,57)"
             ],
             [
              0.18823529411764706,
              "rgb(71,28,72)"
             ],
             [
              0.25098039215686274,
              "rgb(97,30,82)"
             ],
             [
              0.3137254901960784,
              "rgb(123,30,89)"
             ],
             [
              0.3764705882352941,
              "rgb(150,27,91)"
             ],
             [
              0.4392156862745098,
              "rgb(177,22,88)"
             ],
             [
              0.5019607843137255,
              "rgb(203,26,79)"
             ],
             [
              0.5647058823529412,
              "rgb(223,47,67)"
             ],
             [
              0.6274509803921569,
              "rgb(236,76,61)"
             ],
             [
              0.6901960784313725,
              "rgb(242,107,73)"
             ],
             [
              0.7529411764705882,
              "rgb(244,135,95)"
             ],
             [
              0.8156862745098039,
              "rgb(245,162,122)"
             ],
             [
              0.8784313725490196,
              "rgb(246,188,153)"
             ],
             [
              0.9411764705882353,
              "rgb(247,212,187)"
             ],
             [
              1,
              "rgb(250,234,220)"
             ]
            ],
            "type": "surface"
           }
          ],
          "table": [
           {
            "cells": {
             "fill": {
              "color": "rgb(231,231,240)"
             },
             "line": {
              "color": "white"
             }
            },
            "header": {
             "fill": {
              "color": "rgb(183,183,191)"
             },
             "line": {
              "color": "white"
             }
            },
            "type": "table"
           }
          ]
         },
         "layout": {
          "annotationdefaults": {
           "arrowcolor": "rgb(67,103,167)"
          },
          "autotypenumbers": "strict",
          "coloraxis": {
           "colorbar": {
            "outlinewidth": 0,
            "tickcolor": "rgb(36,36,36)",
            "ticklen": 8,
            "ticks": "outside",
            "tickwidth": 2
           }
          },
          "colorscale": {
           "sequential": [
            [
             0,
             "rgb(2,4,25)"
            ],
            [
             0.06274509803921569,
             "rgb(24,15,41)"
            ],
            [
             0.12549019607843137,
             "rgb(47,23,57)"
            ],
            [
             0.18823529411764706,
             "rgb(71,28,72)"
            ],
            [
             0.25098039215686274,
             "rgb(97,30,82)"
            ],
            [
             0.3137254901960784,
             "rgb(123,30,89)"
            ],
            [
             0.3764705882352941,
             "rgb(150,27,91)"
            ],
            [
             0.4392156862745098,
             "rgb(177,22,88)"
            ],
            [
             0.5019607843137255,
             "rgb(203,26,79)"
            ],
            [
             0.5647058823529412,
             "rgb(223,47,67)"
            ],
            [
             0.6274509803921569,
             "rgb(236,76,61)"
            ],
            [
             0.6901960784313725,
             "rgb(242,107,73)"
            ],
            [
             0.7529411764705882,
             "rgb(244,135,95)"
            ],
            [
             0.8156862745098039,
             "rgb(245,162,122)"
            ],
            [
             0.8784313725490196,
             "rgb(246,188,153)"
            ],
            [
             0.9411764705882353,
             "rgb(247,212,187)"
            ],
            [
             1,
             "rgb(250,234,220)"
            ]
           ],
           "sequentialminus": [
            [
             0,
             "rgb(2,4,25)"
            ],
            [
             0.06274509803921569,
             "rgb(24,15,41)"
            ],
            [
             0.12549019607843137,
             "rgb(47,23,57)"
            ],
            [
             0.18823529411764706,
             "rgb(71,28,72)"
            ],
            [
             0.25098039215686274,
             "rgb(97,30,82)"
            ],
            [
             0.3137254901960784,
             "rgb(123,30,89)"
            ],
            [
             0.3764705882352941,
             "rgb(150,27,91)"
            ],
            [
             0.4392156862745098,
             "rgb(177,22,88)"
            ],
            [
             0.5019607843137255,
             "rgb(203,26,79)"
            ],
            [
             0.5647058823529412,
             "rgb(223,47,67)"
            ],
            [
             0.6274509803921569,
             "rgb(236,76,61)"
            ],
            [
             0.6901960784313725,
             "rgb(242,107,73)"
            ],
            [
             0.7529411764705882,
             "rgb(244,135,95)"
            ],
            [
             0.8156862745098039,
             "rgb(245,162,122)"
            ],
            [
             0.8784313725490196,
             "rgb(246,188,153)"
            ],
            [
             0.9411764705882353,
             "rgb(247,212,187)"
            ],
            [
             1,
             "rgb(250,234,220)"
            ]
           ]
          },
          "colorway": [
           "rgb(76,114,176)",
           "rgb(221,132,82)",
           "rgb(85,168,104)",
           "rgb(196,78,82)",
           "rgb(129,114,179)",
           "rgb(147,120,96)",
           "rgb(218,139,195)",
           "rgb(140,140,140)",
           "rgb(204,185,116)",
           "rgb(100,181,205)"
          ],
          "font": {
           "color": "rgb(36,36,36)"
          },
          "geo": {
           "bgcolor": "white",
           "lakecolor": "white",
           "landcolor": "rgb(234,234,242)",
           "showlakes": true,
           "showland": true,
           "subunitcolor": "white"
          },
          "hoverlabel": {
           "align": "left"
          },
          "hovermode": "closest",
          "paper_bgcolor": "white",
          "plot_bgcolor": "rgb(234,234,242)",
          "polar": {
           "angularaxis": {
            "gridcolor": "white",
            "linecolor": "white",
            "showgrid": true,
            "ticks": ""
           },
           "bgcolor": "rgb(234,234,242)",
           "radialaxis": {
            "gridcolor": "white",
            "linecolor": "white",
            "showgrid": true,
            "ticks": ""
           }
          },
          "scene": {
           "xaxis": {
            "backgroundcolor": "rgb(234,234,242)",
            "gridcolor": "white",
            "gridwidth": 2,
            "linecolor": "white",
            "showbackground": true,
            "showgrid": true,
            "ticks": "",
            "zerolinecolor": "white"
           },
           "yaxis": {
            "backgroundcolor": "rgb(234,234,242)",
            "gridcolor": "white",
            "gridwidth": 2,
            "linecolor": "white",
            "showbackground": true,
            "showgrid": true,
            "ticks": "",
            "zerolinecolor": "white"
           },
           "zaxis": {
            "backgroundcolor": "rgb(234,234,242)",
            "gridcolor": "white",
            "gridwidth": 2,
            "linecolor": "white",
            "showbackground": true,
            "showgrid": true,
            "ticks": "",
            "zerolinecolor": "white"
           }
          },
          "shapedefaults": {
           "fillcolor": "rgb(67,103,167)",
           "line": {
            "width": 0
           },
           "opacity": 0.5
          },
          "ternary": {
           "aaxis": {
            "gridcolor": "white",
            "linecolor": "white",
            "showgrid": true,
            "ticks": ""
           },
           "baxis": {
            "gridcolor": "white",
            "linecolor": "white",
            "showgrid": true,
            "ticks": ""
           },
           "bgcolor": "rgb(234,234,242)",
           "caxis": {
            "gridcolor": "white",
            "linecolor": "white",
            "showgrid": true,
            "ticks": ""
           }
          },
          "xaxis": {
           "automargin": true,
           "gridcolor": "white",
           "linecolor": "white",
           "showgrid": true,
           "ticks": "",
           "title": {
            "standoff": 15
           },
           "zerolinecolor": "white"
          },
          "yaxis": {
           "automargin": true,
           "gridcolor": "white",
           "linecolor": "white",
           "showgrid": true,
           "ticks": "",
           "title": {
            "standoff": 15
           },
           "zerolinecolor": "white"
          }
         }
        },
        "title": {
         "text": "Dollar Bars"
        },
        "xaxis": {
         "rangeslider": {
          "visible": true
         },
         "title": {
          "text": "Bar"
         }
        },
        "yaxis": {
         "title": {
          "text": "Price (USD)"
         }
        }
       }
      }
     },
     "metadata": {},
     "output_type": "display_data"
    }
   ],
   "source": [
    "fig = go.Figure(data=[go.Candlestick(\n",
    "    x=dollar_bars['start_time'],\n",
    "    open=dollar_bars['open'],\n",
    "    high=dollar_bars['high'],\n",
    "    low=dollar_bars['low'],\n",
    "    close=dollar_bars['close'],\n",
    "    name='Dollar Bars'\n",
    ")])\n",
    "\n",
    "fig.update_layout(\n",
    "    title=f'Dollar Bars',\n",
    "    yaxis_title='Price (USD)',\n",
    "    xaxis_title='Bar',\n",
    "    xaxis_rangeslider_visible=True, \n",
    "    template='seaborn', # other options: plotly, plotly_white, plotly_dark, simple_white\n",
    "    showlegend=True,\n",
    ")"
   ]
  },
  {
   "cell_type": "markdown",
   "id": "54df8e6c",
   "metadata": {},
   "source": [
    "# Labeling Bars"
   ]
  },
  {
   "cell_type": "markdown",
   "id": "a2c018c3",
   "metadata": {},
   "source": [
    "## Fixed-time Horizon Labeling"
   ]
  },
  {
   "cell_type": "code",
   "execution_count": 67,
   "id": "36c97d03",
   "metadata": {},
   "outputs": [
    {
     "data": {
      "text/html": [
       "<div>\n",
       "<style scoped>\n",
       "    .dataframe tbody tr th:only-of-type {\n",
       "        vertical-align: middle;\n",
       "    }\n",
       "\n",
       "    .dataframe tbody tr th {\n",
       "        vertical-align: top;\n",
       "    }\n",
       "\n",
       "    .dataframe thead th {\n",
       "        text-align: right;\n",
       "    }\n",
       "</style>\n",
       "<table border=\"1\" class=\"dataframe\">\n",
       "  <thead>\n",
       "    <tr style=\"text-align: right;\">\n",
       "      <th></th>\n",
       "      <th>start_time</th>\n",
       "      <th>end_time</th>\n",
       "      <th>open</th>\n",
       "      <th>high</th>\n",
       "      <th>low</th>\n",
       "      <th>close</th>\n",
       "      <th>volume</th>\n",
       "      <th>label</th>\n",
       "    </tr>\n",
       "  </thead>\n",
       "  <tbody>\n",
       "    <tr>\n",
       "      <th>0</th>\n",
       "      <td>2025-07-14 09:30:00</td>\n",
       "      <td>2025-07-14 09:30:59.999</td>\n",
       "      <td>100.00</td>\n",
       "      <td>100.00</td>\n",
       "      <td>99.93</td>\n",
       "      <td>99.93</td>\n",
       "      <td>2057</td>\n",
       "      <td>-1</td>\n",
       "    </tr>\n",
       "    <tr>\n",
       "      <th>1</th>\n",
       "      <td>2025-07-14 09:31:00</td>\n",
       "      <td>2025-07-14 09:31:59.999</td>\n",
       "      <td>99.96</td>\n",
       "      <td>99.96</td>\n",
       "      <td>99.95</td>\n",
       "      <td>99.95</td>\n",
       "      <td>510</td>\n",
       "      <td>0</td>\n",
       "    </tr>\n",
       "    <tr>\n",
       "      <th>2</th>\n",
       "      <td>2025-07-14 09:32:00</td>\n",
       "      <td>2025-07-14 09:32:59.999</td>\n",
       "      <td>99.85</td>\n",
       "      <td>99.85</td>\n",
       "      <td>99.81</td>\n",
       "      <td>99.81</td>\n",
       "      <td>760</td>\n",
       "      <td>-1</td>\n",
       "    </tr>\n",
       "    <tr>\n",
       "      <th>3</th>\n",
       "      <td>2025-07-14 09:33:00</td>\n",
       "      <td>2025-07-14 09:33:59.999</td>\n",
       "      <td>NaN</td>\n",
       "      <td>NaN</td>\n",
       "      <td>NaN</td>\n",
       "      <td>NaN</td>\n",
       "      <td>0</td>\n",
       "      <td>0</td>\n",
       "    </tr>\n",
       "    <tr>\n",
       "      <th>4</th>\n",
       "      <td>2025-07-14 09:34:00</td>\n",
       "      <td>2025-07-14 09:34:59.999</td>\n",
       "      <td>99.81</td>\n",
       "      <td>99.90</td>\n",
       "      <td>99.81</td>\n",
       "      <td>99.90</td>\n",
       "      <td>760</td>\n",
       "      <td>1</td>\n",
       "    </tr>\n",
       "    <tr>\n",
       "      <th>...</th>\n",
       "      <td>...</td>\n",
       "      <td>...</td>\n",
       "      <td>...</td>\n",
       "      <td>...</td>\n",
       "      <td>...</td>\n",
       "      <td>...</td>\n",
       "      <td>...</td>\n",
       "      <td>...</td>\n",
       "    </tr>\n",
       "    <tr>\n",
       "      <th>385</th>\n",
       "      <td>2025-07-14 15:55:00</td>\n",
       "      <td>2025-07-14 15:55:59.999</td>\n",
       "      <td>100.73</td>\n",
       "      <td>100.76</td>\n",
       "      <td>100.73</td>\n",
       "      <td>100.76</td>\n",
       "      <td>812</td>\n",
       "      <td>0</td>\n",
       "    </tr>\n",
       "    <tr>\n",
       "      <th>386</th>\n",
       "      <td>2025-07-14 15:56:00</td>\n",
       "      <td>2025-07-14 15:56:59.999</td>\n",
       "      <td>100.86</td>\n",
       "      <td>100.91</td>\n",
       "      <td>100.86</td>\n",
       "      <td>100.91</td>\n",
       "      <td>102</td>\n",
       "      <td>1</td>\n",
       "    </tr>\n",
       "    <tr>\n",
       "      <th>387</th>\n",
       "      <td>2025-07-14 15:57:00</td>\n",
       "      <td>2025-07-14 15:57:59.999</td>\n",
       "      <td>100.89</td>\n",
       "      <td>101.09</td>\n",
       "      <td>100.89</td>\n",
       "      <td>101.09</td>\n",
       "      <td>3040</td>\n",
       "      <td>1</td>\n",
       "    </tr>\n",
       "    <tr>\n",
       "      <th>388</th>\n",
       "      <td>2025-07-14 15:58:00</td>\n",
       "      <td>2025-07-14 15:58:59.999</td>\n",
       "      <td>NaN</td>\n",
       "      <td>NaN</td>\n",
       "      <td>NaN</td>\n",
       "      <td>NaN</td>\n",
       "      <td>0</td>\n",
       "      <td>0</td>\n",
       "    </tr>\n",
       "    <tr>\n",
       "      <th>389</th>\n",
       "      <td>2025-07-14 15:59:00</td>\n",
       "      <td>2025-07-14 15:59:59.999</td>\n",
       "      <td>101.11</td>\n",
       "      <td>101.25</td>\n",
       "      <td>101.11</td>\n",
       "      <td>101.19</td>\n",
       "      <td>2262</td>\n",
       "      <td>1</td>\n",
       "    </tr>\n",
       "  </tbody>\n",
       "</table>\n",
       "<p>390 rows × 8 columns</p>\n",
       "</div>"
      ],
      "text/plain": [
       "             start_time                end_time    open    high     low  \\\n",
       "0   2025-07-14 09:30:00 2025-07-14 09:30:59.999  100.00  100.00   99.93   \n",
       "1   2025-07-14 09:31:00 2025-07-14 09:31:59.999   99.96   99.96   99.95   \n",
       "2   2025-07-14 09:32:00 2025-07-14 09:32:59.999   99.85   99.85   99.81   \n",
       "3   2025-07-14 09:33:00 2025-07-14 09:33:59.999     NaN     NaN     NaN   \n",
       "4   2025-07-14 09:34:00 2025-07-14 09:34:59.999   99.81   99.90   99.81   \n",
       "..                  ...                     ...     ...     ...     ...   \n",
       "385 2025-07-14 15:55:00 2025-07-14 15:55:59.999  100.73  100.76  100.73   \n",
       "386 2025-07-14 15:56:00 2025-07-14 15:56:59.999  100.86  100.91  100.86   \n",
       "387 2025-07-14 15:57:00 2025-07-14 15:57:59.999  100.89  101.09  100.89   \n",
       "388 2025-07-14 15:58:00 2025-07-14 15:58:59.999     NaN     NaN     NaN   \n",
       "389 2025-07-14 15:59:00 2025-07-14 15:59:59.999  101.11  101.25  101.11   \n",
       "\n",
       "      close  volume  label  \n",
       "0     99.93    2057     -1  \n",
       "1     99.95     510      0  \n",
       "2     99.81     760     -1  \n",
       "3       NaN       0      0  \n",
       "4     99.90     760      1  \n",
       "..      ...     ...    ...  \n",
       "385  100.76     812      0  \n",
       "386  100.91     102      1  \n",
       "387  101.09    3040      1  \n",
       "388     NaN       0      0  \n",
       "389  101.19    2262      1  \n",
       "\n",
       "[390 rows x 8 columns]"
      ]
     },
     "execution_count": 67,
     "metadata": {},
     "output_type": "execute_result"
    }
   ],
   "source": [
    "def fixed_time_horizon_labeling(bars, threshold: float=0.1): # in percent\n",
    "    percent_changed = ((bars['close'] / bars['open']) - 1) * 100 # Percentage of change\n",
    "    passed_threshold = abs(percent_changed) > threshold\n",
    "    bars['label'] = 0\n",
    "    bars.loc[passed_threshold, 'label'] = abs(percent_changed) / percent_changed\n",
    "    return bars\n",
    "\n",
    "fixed_time_horizon_labeling(time_bars, 0.04)"
   ]
  }
 ],
 "metadata": {
  "kernelspec": {
   "display_name": "Python 3",
   "language": "python",
   "name": "python3"
  },
  "language_info": {
   "codemirror_mode": {
    "name": "ipython",
    "version": 3
   },
   "file_extension": ".py",
   "mimetype": "text/x-python",
   "name": "python",
   "nbconvert_exporter": "python",
   "pygments_lexer": "ipython3",
   "version": "3.13.5"
  }
 },
 "nbformat": 4,
 "nbformat_minor": 5
}

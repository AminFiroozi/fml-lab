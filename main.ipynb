{
 "cells": [
  {
   "cell_type": "markdown",
   "id": "21558aa9",
   "metadata": {},
   "source": [
    "# Install dependencies"
   ]
  },
  {
   "cell_type": "code",
   "execution_count": 216,
   "id": "1c38c2ea",
   "metadata": {},
   "outputs": [
    {
     "name": "stdout",
     "output_type": "stream",
     "text": [
      "Note: you may need to restart the kernel to use updated packages.\n"
     ]
    }
   ],
   "source": [
    "%pip install -r requirements.txt -q"
   ]
  },
  {
   "cell_type": "markdown",
   "id": "20ab1956",
   "metadata": {},
   "source": [
    "# imports"
   ]
  },
  {
   "cell_type": "code",
   "execution_count": 217,
   "id": "83d8dbcc",
   "metadata": {},
   "outputs": [],
   "source": [
    "import numpy as np\n",
    "import plotly.graph_objects as go\n",
    "import pandas as pd\n",
    "import random\n",
    "import os\n",
    "from datetime import datetime, timedelta\n",
    "import tradermade\n",
    "import yfinance as yf\n",
    "from typing import List, TypedDict, Union, Dict"
   ]
  },
  {
   "cell_type": "markdown",
   "id": "db0c422a",
   "metadata": {},
   "source": [
    "# Constants"
   ]
  },
  {
   "cell_type": "code",
   "execution_count": 218,
   "id": "4594450c",
   "metadata": {},
   "outputs": [],
   "source": [
    "# TRADERMADE_API_KEY = os.getenv(\"TRADERMADE_API_KEY\")\n",
    "# CURRENCY = \"XAUUSD\"\n",
    "# REQUIRED_COLUMNS = ['Open', 'High', 'Low', 'Close']\n",
    "# TICKER = \"SPY\"\n",
    "# END_DATE = datetime.now()\n",
    "# START_DATE = END_DATE - timedelta(days=365)\n",
    "# INTERVAL = \"1d\"\n",
    "\n",
    "START_TIME = \"2025-07-14 09:30:00\"\n",
    "END_TIME = \"2025-07-14 16:00:00\""
   ]
  },
  {
   "cell_type": "markdown",
   "id": "7ea11c60",
   "metadata": {},
   "source": [
    "# Initialization"
   ]
  },
  {
   "cell_type": "code",
   "execution_count": 219,
   "id": "b2c7820b",
   "metadata": {},
   "outputs": [],
   "source": [
    "# tradermade.set_rest_api_key(TRADERMADE_API_KEY)"
   ]
  },
  {
   "cell_type": "markdown",
   "id": "dd735beb",
   "metadata": {},
   "source": [
    "# Get unstructured data (tick level)"
   ]
  },
  {
   "cell_type": "markdown",
   "id": "45dcaffc",
   "metadata": {},
   "source": [
    "## Get from yfinance (bars)"
   ]
  },
  {
   "cell_type": "code",
   "execution_count": 220,
   "id": "4a4fa175",
   "metadata": {},
   "outputs": [],
   "source": [
    "# df = yf.download(TICKER, start=START_DATE, end=END_DATE, interval=INTERVAL, auto_adjust=False, ignore_tz=True)"
   ]
  },
  {
   "cell_type": "markdown",
   "id": "e31b6c5e",
   "metadata": {},
   "source": [
    "### Preprocessing data"
   ]
  },
  {
   "cell_type": "markdown",
   "id": "1bd2bdf4",
   "metadata": {},
   "source": [
    "#### Handle MultiIndex columns"
   ]
  },
  {
   "cell_type": "code",
   "execution_count": 221,
   "id": "fbfa7ae1",
   "metadata": {},
   "outputs": [],
   "source": [
    "# if isinstance(df.columns, pd.MultiIndex):\n",
    "#     df = df.xs(TICKER, axis=1, level=1)\n",
    "#     df.columns = [col.title() for col in df.columns]\n",
    "# else:\n",
    "#     df.columns = [col.title() for col in df.columns]"
   ]
  },
  {
   "cell_type": "markdown",
   "id": "9eca2cdb",
   "metadata": {},
   "source": [
    "#### Convert required columns to numeric and drop rows with NaN"
   ]
  },
  {
   "cell_type": "code",
   "execution_count": 222,
   "id": "2d346cd4",
   "metadata": {},
   "outputs": [],
   "source": [
    "# df[REQUIRED_COLUMNS] = df[REQUIRED_COLUMNS].apply(pd.to_numeric, errors='coerce')\n",
    "# df = df.dropna(subset=REQUIRED_COLUMNS)\n",
    "# df.index = df.index.tz_localize(None)"
   ]
  },
  {
   "cell_type": "markdown",
   "id": "cc19780a",
   "metadata": {},
   "source": [
    "## Mock data"
   ]
  },
  {
   "cell_type": "code",
   "execution_count": 223,
   "id": "ed4bc5da",
   "metadata": {},
   "outputs": [
    {
     "data": {
      "text/html": [
       "<div>\n",
       "<style scoped>\n",
       "    .dataframe tbody tr th:only-of-type {\n",
       "        vertical-align: middle;\n",
       "    }\n",
       "\n",
       "    .dataframe tbody tr th {\n",
       "        vertical-align: top;\n",
       "    }\n",
       "\n",
       "    .dataframe thead th {\n",
       "        text-align: right;\n",
       "    }\n",
       "</style>\n",
       "<table border=\"1\" class=\"dataframe\">\n",
       "  <thead>\n",
       "    <tr style=\"text-align: right;\">\n",
       "      <th></th>\n",
       "      <th>timestamp</th>\n",
       "      <th>price</th>\n",
       "      <th>volume</th>\n",
       "    </tr>\n",
       "  </thead>\n",
       "  <tbody>\n",
       "    <tr>\n",
       "      <th>999</th>\n",
       "      <td>2025-07-14 15:59:59</td>\n",
       "      <td>99.79</td>\n",
       "      <td>732</td>\n",
       "    </tr>\n",
       "    <tr>\n",
       "      <th>998</th>\n",
       "      <td>2025-07-14 15:59:54</td>\n",
       "      <td>99.79</td>\n",
       "      <td>868</td>\n",
       "    </tr>\n",
       "    <tr>\n",
       "      <th>997</th>\n",
       "      <td>2025-07-14 15:59:41</td>\n",
       "      <td>99.86</td>\n",
       "      <td>831</td>\n",
       "    </tr>\n",
       "    <tr>\n",
       "      <th>996</th>\n",
       "      <td>2025-07-14 15:59:02</td>\n",
       "      <td>99.95</td>\n",
       "      <td>753</td>\n",
       "    </tr>\n",
       "    <tr>\n",
       "      <th>995</th>\n",
       "      <td>2025-07-14 15:58:58</td>\n",
       "      <td>100.01</td>\n",
       "      <td>172</td>\n",
       "    </tr>\n",
       "    <tr>\n",
       "      <th>...</th>\n",
       "      <td>...</td>\n",
       "      <td>...</td>\n",
       "      <td>...</td>\n",
       "    </tr>\n",
       "    <tr>\n",
       "      <th>4</th>\n",
       "      <td>2025-07-14 09:32:27</td>\n",
       "      <td>100.04</td>\n",
       "      <td>983</td>\n",
       "    </tr>\n",
       "    <tr>\n",
       "      <th>3</th>\n",
       "      <td>2025-07-14 09:31:58</td>\n",
       "      <td>99.94</td>\n",
       "      <td>581</td>\n",
       "    </tr>\n",
       "    <tr>\n",
       "      <th>2</th>\n",
       "      <td>2025-07-14 09:31:57</td>\n",
       "      <td>99.97</td>\n",
       "      <td>79</td>\n",
       "    </tr>\n",
       "    <tr>\n",
       "      <th>1</th>\n",
       "      <td>2025-07-14 09:31:50</td>\n",
       "      <td>100.03</td>\n",
       "      <td>976</td>\n",
       "    </tr>\n",
       "    <tr>\n",
       "      <th>0</th>\n",
       "      <td>2025-07-14 09:30:24</td>\n",
       "      <td>100.00</td>\n",
       "      <td>626</td>\n",
       "    </tr>\n",
       "  </tbody>\n",
       "</table>\n",
       "<p>1000 rows × 3 columns</p>\n",
       "</div>"
      ],
      "text/plain": [
       "              timestamp   price  volume\n",
       "999 2025-07-14 15:59:59   99.79     732\n",
       "998 2025-07-14 15:59:54   99.79     868\n",
       "997 2025-07-14 15:59:41   99.86     831\n",
       "996 2025-07-14 15:59:02   99.95     753\n",
       "995 2025-07-14 15:58:58  100.01     172\n",
       "..                  ...     ...     ...\n",
       "4   2025-07-14 09:32:27  100.04     983\n",
       "3   2025-07-14 09:31:58   99.94     581\n",
       "2   2025-07-14 09:31:57   99.97      79\n",
       "1   2025-07-14 09:31:50  100.03     976\n",
       "0   2025-07-14 09:30:24  100.00     626\n",
       "\n",
       "[1000 rows x 3 columns]"
      ]
     },
     "execution_count": 223,
     "metadata": {},
     "output_type": "execute_result"
    }
   ],
   "source": [
    "def generate_random_trade_times(n_trades, start_time, end_time):\n",
    "    start_ts = pd.to_datetime(start_time)\n",
    "    end_ts = pd.to_datetime(end_time)\n",
    "\n",
    "    total_seconds = int((end_ts - start_ts).total_seconds())\n",
    "\n",
    "    # Generate n_trades random seconds within the time range\n",
    "    random_seconds = sorted(random.sample(range(total_seconds), n_trades))\n",
    "    \n",
    "    return [start_ts + timedelta(seconds=s) for s in random_seconds]\n",
    "\n",
    "\n",
    "def generate_mock_trades(num_trades=1000, start_price=100.0, start_time=START_TIME, end_time=END_TIME):\n",
    "    timestamps = generate_random_trade_times(\n",
    "        n_trades=1000,\n",
    "        start_time=start_time,\n",
    "        end_time=end_time\n",
    "    )\n",
    "\n",
    "    prices = [start_price]\n",
    "    for _ in range(1, num_trades):\n",
    "        # Simulate small price changes\n",
    "        change = np.random.normal(loc=0, scale=0.05)\n",
    "        prices.append(round(prices[-1] + change, 2))\n",
    "\n",
    "    volumes = np.random.randint(1, 1000, size=num_trades)\n",
    "\n",
    "    df = pd.DataFrame({\n",
    "        'timestamp': timestamps,\n",
    "        'price': prices,\n",
    "        'volume': volumes\n",
    "    })\n",
    "    return df\n",
    "\n",
    "df = generate_mock_trades()[::-1]\n",
    "df"
   ]
  },
  {
   "cell_type": "markdown",
   "id": "1f9631e8",
   "metadata": {},
   "source": [
    "# Convert unstructured data to bars"
   ]
  },
  {
   "cell_type": "code",
   "execution_count": 224,
   "id": "9c2046bb",
   "metadata": {},
   "outputs": [],
   "source": [
    "def convert_to_bars(trade_groups: List[Dict[str, Union[datetime, float, int]]]) -> pd.DataFrame: # start_time, end_time, open, close, high, low, volume\n",
    "    bars = [\n",
    "        {\n",
    "            \"start_time\": group[\"timestamp\"].iloc[0],\n",
    "            \"end_time\": group[\"timestamp\"].iloc[-1],\n",
    "            \"open\": group[\"price\"].iloc[0],\n",
    "            \"close\": group[\"price\"].iloc[-1],\n",
    "            \"high\": group[\"price\"].max(),\n",
    "            \"low\": group[\"price\"].min(),\n",
    "            \"volume\": group[\"volume\"].sum()\n",
    "        } \n",
    "    for group in trade_groups]\n",
    "    \n",
    "    return pd.DataFrame(bars)"
   ]
  },
  {
   "cell_type": "markdown",
   "id": "8f62a1ba",
   "metadata": {},
   "source": [
    "## Tick bars"
   ]
  },
  {
   "cell_type": "code",
   "execution_count": 225,
   "id": "538cd90c",
   "metadata": {},
   "outputs": [],
   "source": [
    "def generate_tick_bars(unstructured_data, sampling_rate: int=5) -> pd.DataFrame: \n",
    "    unstructured_data = unstructured_data.sort_values(\"timestamp\").reset_index(drop=True)\n",
    "    # Grouping\n",
    "    trade_groups = [unstructured_data.iloc[i:i + sampling_rate] for i in range(0, len(unstructured_data), sampling_rate)]\n",
    "    # Generating bars\n",
    "    return convert_to_bars(trade_groups)\n",
    "\n",
    "tick_bars = generate_tick_bars(df)"
   ]
  },
  {
   "cell_type": "markdown",
   "id": "535c1ce0",
   "metadata": {},
   "source": [
    "## Time bars"
   ]
  },
  {
   "cell_type": "code",
   "execution_count": 226,
   "id": "f223eb0e",
   "metadata": {},
   "outputs": [],
   "source": [
    "def generate_time_bars(unstructured_data, sampling_rate: int=60, fill_empty: bool=False) -> pd.DataFrame:    \n",
    "    unstructured_data_copy = unstructured_data.copy()\n",
    "    unstructured_data_copy[\"timestamp\"] = pd.to_datetime(unstructured_data_copy[\"timestamp\"])\n",
    "    unstructured_data_copy = unstructured_data_copy.set_index(\"timestamp\")\n",
    "    \n",
    "    # Perform resampling and calculate OHLCV\n",
    "    bars = unstructured_data_copy.resample(f\"{sampling_rate}s\").agg({\n",
    "        \"price\": [\"first\", \"max\", \"min\", \"last\"],\n",
    "        \"volume\": \"sum\"\n",
    "    })\n",
    "\n",
    "    bars.columns = [\"open\", \"high\", \"low\", \"close\", \"volume\"]\n",
    "    bars = bars.reset_index()\n",
    "    \n",
    "    bars[\"start_time\"] = bars[\"timestamp\"]\n",
    "    bars[\"end_time\"] = bars[\"start_time\"] + timedelta(seconds=sampling_rate) - timedelta(milliseconds=1)\n",
    "    bars = bars.drop(columns=[\"timestamp\"])\n",
    "\n",
    "    # Fill empty time slots\n",
    "    if fill_empty:\n",
    "        empty_mask = bars[\"close\"].isna()\n",
    "        bars[\"close\"] = bars[\"close\"].ffill()\n",
    "\n",
    "        for col in [\"open\", \"high\", \"low\"]:\n",
    "            bars.loc[empty_mask, col] = bars.loc[empty_mask, \"close\"]\n",
    "\n",
    "        bars[\"volume\"] = bars[\"volume\"].fillna(0)\n",
    "        \n",
    "    # Reorder columns\n",
    "    cols = [\"start_time\", \"end_time\"] + [col for col in bars.columns if col not in [\"start_time\", \"end_time\"]]\n",
    "    bars = bars[cols]\n",
    "    return bars\n",
    "\n",
    "time_bars = generate_time_bars(df)"
   ]
  },
  {
   "cell_type": "markdown",
   "id": "ef42d709",
   "metadata": {},
   "source": [
    "## Volume bars"
   ]
  },
  {
   "cell_type": "code",
   "execution_count": 227,
   "id": "33b6921f",
   "metadata": {},
   "outputs": [],
   "source": [
    "def generate_volume_bars(unstructured_data, sampling_rate: int=1000) -> pd.DataFrame:\n",
    "    unstructured_data = unstructured_data.copy()\n",
    "    unstructured_data[\"timestamp\"] = pd.to_datetime(unstructured_data[\"timestamp\"])\n",
    "    unstructured_data = unstructured_data.sort_values(\"timestamp\").reset_index(drop=True)\n",
    "    \n",
    "    bars = []\n",
    "    cum_volume = 0\n",
    "    bar_trades = []\n",
    "\n",
    "    for idx, row in unstructured_data.iterrows():\n",
    "        bar_trades.append(row)\n",
    "        cum_volume += row[\"volume\"]\n",
    "\n",
    "        if cum_volume >= sampling_rate:\n",
    "            group_df = pd.DataFrame(bar_trades)\n",
    "            group_df = group_df.sort_values(\"timestamp\")\n",
    "\n",
    "            start_time = group_df[\"timestamp\"].iloc[0]\n",
    "            end_time = group_df[\"timestamp\"].iloc[-1]\n",
    "\n",
    "            bars.append({\n",
    "                \"start_time\": start_time,\n",
    "                \"end_time\": end_time,\n",
    "                \"open\": group_df[\"price\"].iloc[0],\n",
    "                \"close\": group_df[\"price\"].iloc[-1],\n",
    "                \"high\": group_df[\"price\"].max(),\n",
    "                \"low\": group_df[\"price\"].min(),\n",
    "                \"volume\": group_df[\"volume\"].sum()\n",
    "            })\n",
    "\n",
    "            # reset for next bar\n",
    "            bar_trades = []\n",
    "            cum_volume = 0\n",
    "\n",
    "    # Handle leftover trades if any (optional)\n",
    "    if bar_trades:\n",
    "        group_df = pd.DataFrame(bar_trades)\n",
    "        group_df = group_df.sort_values(\"timestamp\")\n",
    "\n",
    "        start_time = group_df[\"timestamp\"].iloc[0]\n",
    "        end_time = group_df[\"timestamp\"].iloc[-1]\n",
    "\n",
    "        bars.append({\n",
    "            \"start_time\": start_time,\n",
    "            \"end_time\": end_time,\n",
    "            \"open\": group_df[\"price\"].iloc[0],\n",
    "            \"close\": group_df[\"price\"].iloc[-1],\n",
    "            \"high\": group_df[\"price\"].max(),\n",
    "            \"low\": group_df[\"price\"].min(),\n",
    "            \"volume\": group_df[\"volume\"].sum()\n",
    "        })\n",
    "\n",
    "    bars_df = pd.DataFrame(bars)\n",
    "\n",
    "    # Reorder columns\n",
    "    cols = [\"start_time\", \"end_time\", \"open\", \"close\", \"high\", \"low\", \"volume\"]\n",
    "    bars_df = bars_df[cols]\n",
    "    return bars_df\n",
    "\n",
    "volume_bars = generate_volume_bars(df)"
   ]
  },
  {
   "cell_type": "markdown",
   "id": "bb715fd9",
   "metadata": {},
   "source": [
    "## Dollar bars"
   ]
  },
  {
   "cell_type": "code",
   "execution_count": 228,
   "id": "887af31a",
   "metadata": {},
   "outputs": [],
   "source": [
    "def generate_dollar_bars(unstructured_data, sampling_rate: int=100000) -> pd.DataFrame:\n",
    "    unstructured_data = unstructured_data.copy()\n",
    "    unstructured_data[\"timestamp\"] = pd.to_datetime(unstructured_data[\"timestamp\"])\n",
    "    unstructured_data = unstructured_data.sort_values(\"timestamp\").reset_index(drop=True)\n",
    "    \n",
    "    bars = []\n",
    "    cum_dollars = 0\n",
    "    bar_trades = []\n",
    "\n",
    "    for idx, row in unstructured_data.iterrows():\n",
    "        bar_trades.append(row)\n",
    "        cum_dollars += row[\"volume\"] * row['price']\n",
    "\n",
    "        if cum_dollars >= sampling_rate:\n",
    "            group_df = pd.DataFrame(bar_trades)\n",
    "            group_df = group_df.sort_values(\"timestamp\")\n",
    "\n",
    "            start_time = group_df[\"timestamp\"].iloc[0]\n",
    "            end_time = group_df[\"timestamp\"].iloc[-1]\n",
    "\n",
    "            bars.append({\n",
    "                \"start_time\": start_time,\n",
    "                \"end_time\": end_time,\n",
    "                \"open\": group_df[\"price\"].iloc[0],\n",
    "                \"close\": group_df[\"price\"].iloc[-1],\n",
    "                \"high\": group_df[\"price\"].max(),\n",
    "                \"low\": group_df[\"price\"].min(),\n",
    "                \"volume\": group_df[\"volume\"].sum()\n",
    "            })\n",
    "\n",
    "            # reset for next bar\n",
    "            bar_trades = []\n",
    "            cum_dollars = 0\n",
    "\n",
    "    # Handle leftover trades if any (optional)\n",
    "    if bar_trades:\n",
    "        group_df = pd.DataFrame(bar_trades)\n",
    "        group_df = group_df.sort_values(\"timestamp\")\n",
    "\n",
    "        start_time = group_df[\"timestamp\"].iloc[0]\n",
    "        end_time = group_df[\"timestamp\"].iloc[-1]\n",
    "\n",
    "        bars.append({\n",
    "            \"start_time\": start_time,\n",
    "            \"end_time\": end_time,\n",
    "            \"open\": group_df[\"price\"].iloc[0],\n",
    "            \"close\": group_df[\"price\"].iloc[-1],\n",
    "            \"high\": group_df[\"price\"].max(),\n",
    "            \"low\": group_df[\"price\"].min(),\n",
    "            \"volume\": group_df[\"volume\"].sum()\n",
    "        })\n",
    "\n",
    "    bars_df = pd.DataFrame(bars)\n",
    "\n",
    "    # Reorder columns\n",
    "    cols = [\"start_time\", \"end_time\", \"open\", \"close\", \"high\", \"low\", \"volume\"]\n",
    "    bars_df = bars_df[cols]\n",
    "    return bars_df\n",
    "\n",
    "dollar_bars = generate_dollar_bars(df)"
   ]
  },
  {
   "cell_type": "markdown",
   "id": "6bde251b",
   "metadata": {},
   "source": [
    "# Plot bars"
   ]
  },
  {
   "cell_type": "markdown",
   "id": "13981152",
   "metadata": {},
   "source": [
    "## Tick bars"
   ]
  },
  {
   "cell_type": "markdown",
   "id": "b12d6949",
   "metadata": {},
   "source": [
    "### Bar Chart"
   ]
  },
  {
   "cell_type": "code",
   "execution_count": 229,
   "id": "3b406d7e",
   "metadata": {},
   "outputs": [
    {
     "data": {
      "application/vnd.plotly.v1+json": {
       "config": {
        "plotlyServerURL": "https://plot.ly"
       },
       "data": [
        {
         "close": {
          "bdata": "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",
          "dtype": "f8"
         },
         "high": {
          "bdata": "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",
          "dtype": "f8"
         },
         "low": {
          "bdata": "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",
          "dtype": "f8"
         },
         "name": "Tick Bars",
         "open": {
          "bdata": "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",
          "dtype": "f8"
         },
         "type": "candlestick",
         "x": {
          "bdata": "AAABAAIAAwAEAAUABgAHAAgACQAKAAsADAANAA4ADwAQABEAEgATABQAFQAWABcAGAAZABoAGwAcAB0AHgAfACAAIQAiACMAJAAlACYAJwAoACkAKgArACwALQAuAC8AMAAxADIAMwA0ADUANgA3ADgAOQA6ADsAPAA9AD4APwBAAEEAQgBDAEQARQBGAEcASABJAEoASwBMAE0ATgBPAFAAUQBSAFMAVABVAFYAVwBYAFkAWgBbAFwAXQBeAF8AYABhAGIAYwBkAGUAZgBnAGgAaQBqAGsAbABtAG4AbwBwAHEAcgBzAHQAdQB2AHcAeAB5AHoAewB8AH0AfgB/AIAAgQCCAIMAhACFAIYAhwCIAIkAigCLAIwAjQCOAI8AkACRAJIAkwCUAJUAlgCXAJgAmQCaAJsAnACdAJ4AnwCgAKEAogCjAKQApQCmAKcAqACpAKoAqwCsAK0ArgCvALAAsQCyALMAtAC1ALYAtwC4ALkAugC7ALwAvQC+AL8AwADBAMIAwwDEAMUAxgDHAA==",
          "dtype": "i2"
         }
        }
       ],
       "layout": {
        "showlegend": true,
        "template": {
         "data": {
          "bar": [
           {
            "error_x": {
             "color": "rgb(36,36,36)"
            },
            "error_y": {
             "color": "rgb(36,36,36)"
            },
            "marker": {
             "line": {
              "color": "rgb(234,234,242)",
              "width": 0.5
             },
             "pattern": {
              "fillmode": "overlay",
              "size": 10,
              "solidity": 0.2
             }
            },
            "type": "bar"
           }
          ],
          "barpolar": [
           {
            "marker": {
             "line": {
              "color": "rgb(234,234,242)",
              "width": 0.5
             },
             "pattern": {
              "fillmode": "overlay",
              "size": 10,
              "solidity": 0.2
             }
            },
            "type": "barpolar"
           }
          ],
          "carpet": [
           {
            "aaxis": {
             "endlinecolor": "rgb(36,36,36)",
             "gridcolor": "white",
             "linecolor": "white",
             "minorgridcolor": "white",
             "startlinecolor": "rgb(36,36,36)"
            },
            "baxis": {
             "endlinecolor": "rgb(36,36,36)",
             "gridcolor": "white",
             "linecolor": "white",
             "minorgridcolor": "white",
             "startlinecolor": "rgb(36,36,36)"
            },
            "type": "carpet"
           }
          ],
          "choropleth": [
           {
            "colorbar": {
             "outlinewidth": 0,
             "tickcolor": "rgb(36,36,36)",
             "ticklen": 8,
             "ticks": "outside",
             "tickwidth": 2
            },
            "type": "choropleth"
           }
          ],
          "contour": [
           {
            "colorbar": {
             "outlinewidth": 0,
             "tickcolor": "rgb(36,36,36)",
             "ticklen": 8,
             "ticks": "outside",
             "tickwidth": 2
            },
            "colorscale": [
             [
              0,
              "rgb(2,4,25)"
             ],
             [
              0.06274509803921569,
              "rgb(24,15,41)"
             ],
             [
              0.12549019607843137,
              "rgb(47,23,57)"
             ],
             [
              0.18823529411764706,
              "rgb(71,28,72)"
             ],
             [
              0.25098039215686274,
              "rgb(97,30,82)"
             ],
             [
              0.3137254901960784,
              "rgb(123,30,89)"
             ],
             [
              0.3764705882352941,
              "rgb(150,27,91)"
             ],
             [
              0.4392156862745098,
              "rgb(177,22,88)"
             ],
             [
              0.5019607843137255,
              "rgb(203,26,79)"
             ],
             [
              0.5647058823529412,
              "rgb(223,47,67)"
             ],
             [
              0.6274509803921569,
              "rgb(236,76,61)"
             ],
             [
              0.6901960784313725,
              "rgb(242,107,73)"
             ],
             [
              0.7529411764705882,
              "rgb(244,135,95)"
             ],
             [
              0.8156862745098039,
              "rgb(245,162,122)"
             ],
             [
              0.8784313725490196,
              "rgb(246,188,153)"
             ],
             [
              0.9411764705882353,
              "rgb(247,212,187)"
             ],
             [
              1,
              "rgb(250,234,220)"
             ]
            ],
            "type": "contour"
           }
          ],
          "contourcarpet": [
           {
            "colorbar": {
             "outlinewidth": 0,
             "tickcolor": "rgb(36,36,36)",
             "ticklen": 8,
             "ticks": "outside",
             "tickwidth": 2
            },
            "type": "contourcarpet"
           }
          ],
          "heatmap": [
           {
            "colorbar": {
             "outlinewidth": 0,
             "tickcolor": "rgb(36,36,36)",
             "ticklen": 8,
             "ticks": "outside",
             "tickwidth": 2
            },
            "colorscale": [
             [
              0,
              "rgb(2,4,25)"
             ],
             [
              0.06274509803921569,
              "rgb(24,15,41)"
             ],
             [
              0.12549019607843137,
              "rgb(47,23,57)"
             ],
             [
              0.18823529411764706,
              "rgb(71,28,72)"
             ],
             [
              0.25098039215686274,
              "rgb(97,30,82)"
             ],
             [
              0.3137254901960784,
              "rgb(123,30,89)"
             ],
             [
              0.3764705882352941,
              "rgb(150,27,91)"
             ],
             [
              0.4392156862745098,
              "rgb(177,22,88)"
             ],
             [
              0.5019607843137255,
              "rgb(203,26,79)"
             ],
             [
              0.5647058823529412,
              "rgb(223,47,67)"
             ],
             [
              0.6274509803921569,
              "rgb(236,76,61)"
             ],
             [
              0.6901960784313725,
              "rgb(242,107,73)"
             ],
             [
              0.7529411764705882,
              "rgb(244,135,95)"
             ],
             [
              0.8156862745098039,
              "rgb(245,162,122)"
             ],
             [
              0.8784313725490196,
              "rgb(246,188,153)"
             ],
             [
              0.9411764705882353,
              "rgb(247,212,187)"
             ],
             [
              1,
              "rgb(250,234,220)"
             ]
            ],
            "type": "heatmap"
           }
          ],
          "histogram": [
           {
            "marker": {
             "pattern": {
              "fillmode": "overlay",
              "size": 10,
              "solidity": 0.2
             }
            },
            "type": "histogram"
           }
          ],
          "histogram2d": [
           {
            "colorbar": {
             "outlinewidth": 0,
             "tickcolor": "rgb(36,36,36)",
             "ticklen": 8,
             "ticks": "outside",
             "tickwidth": 2
            },
            "colorscale": [
             [
              0,
              "rgb(2,4,25)"
             ],
             [
              0.06274509803921569,
              "rgb(24,15,41)"
             ],
             [
              0.12549019607843137,
              "rgb(47,23,57)"
             ],
             [
              0.18823529411764706,
              "rgb(71,28,72)"
             ],
             [
              0.25098039215686274,
              "rgb(97,30,82)"
             ],
             [
              0.3137254901960784,
              "rgb(123,30,89)"
             ],
             [
              0.3764705882352941,
              "rgb(150,27,91)"
             ],
             [
              0.4392156862745098,
              "rgb(177,22,88)"
             ],
             [
              0.5019607843137255,
              "rgb(203,26,79)"
             ],
             [
              0.5647058823529412,
              "rgb(223,47,67)"
             ],
             [
              0.6274509803921569,
              "rgb(236,76,61)"
             ],
             [
              0.6901960784313725,
              "rgb(242,107,73)"
             ],
             [
              0.7529411764705882,
              "rgb(244,135,95)"
             ],
             [
              0.8156862745098039,
              "rgb(245,162,122)"
             ],
             [
              0.8784313725490196,
              "rgb(246,188,153)"
             ],
             [
              0.9411764705882353,
              "rgb(247,212,187)"
             ],
             [
              1,
              "rgb(250,234,220)"
             ]
            ],
            "type": "histogram2d"
           }
          ],
          "histogram2dcontour": [
           {
            "colorbar": {
             "outlinewidth": 0,
             "tickcolor": "rgb(36,36,36)",
             "ticklen": 8,
             "ticks": "outside",
             "tickwidth": 2
            },
            "colorscale": [
             [
              0,
              "rgb(2,4,25)"
             ],
             [
              0.06274509803921569,
              "rgb(24,15,41)"
             ],
             [
              0.12549019607843137,
              "rgb(47,23,57)"
             ],
             [
              0.18823529411764706,
              "rgb(71,28,72)"
             ],
             [
              0.25098039215686274,
              "rgb(97,30,82)"
             ],
             [
              0.3137254901960784,
              "rgb(123,30,89)"
             ],
             [
              0.3764705882352941,
              "rgb(150,27,91)"
             ],
             [
              0.4392156862745098,
              "rgb(177,22,88)"
             ],
             [
              0.5019607843137255,
              "rgb(203,26,79)"
             ],
             [
              0.5647058823529412,
              "rgb(223,47,67)"
             ],
             [
              0.6274509803921569,
              "rgb(236,76,61)"
             ],
             [
              0.6901960784313725,
              "rgb(242,107,73)"
             ],
             [
              0.7529411764705882,
              "rgb(244,135,95)"
             ],
             [
              0.8156862745098039,
              "rgb(245,162,122)"
             ],
             [
              0.8784313725490196,
              "rgb(246,188,153)"
             ],
             [
              0.9411764705882353,
              "rgb(247,212,187)"
             ],
             [
              1,
              "rgb(250,234,220)"
             ]
            ],
            "type": "histogram2dcontour"
           }
          ],
          "mesh3d": [
           {
            "colorbar": {
             "outlinewidth": 0,
             "tickcolor": "rgb(36,36,36)",
             "ticklen": 8,
             "ticks": "outside",
             "tickwidth": 2
            },
            "type": "mesh3d"
           }
          ],
          "parcoords": [
           {
            "line": {
             "colorbar": {
              "outlinewidth": 0,
              "tickcolor": "rgb(36,36,36)",
              "ticklen": 8,
              "ticks": "outside",
              "tickwidth": 2
             }
            },
            "type": "parcoords"
           }
          ],
          "pie": [
           {
            "automargin": true,
            "type": "pie"
           }
          ],
          "scatter": [
           {
            "fillpattern": {
             "fillmode": "overlay",
             "size": 10,
             "solidity": 0.2
            },
            "type": "scatter"
           }
          ],
          "scatter3d": [
           {
            "line": {
             "colorbar": {
              "outlinewidth": 0,
              "tickcolor": "rgb(36,36,36)",
              "ticklen": 8,
              "ticks": "outside",
              "tickwidth": 2
             }
            },
            "marker": {
             "colorbar": {
              "outlinewidth": 0,
              "tickcolor": "rgb(36,36,36)",
              "ticklen": 8,
              "ticks": "outside",
              "tickwidth": 2
             }
            },
            "type": "scatter3d"
           }
          ],
          "scattercarpet": [
           {
            "marker": {
             "colorbar": {
              "outlinewidth": 0,
              "tickcolor": "rgb(36,36,36)",
              "ticklen": 8,
              "ticks": "outside",
              "tickwidth": 2
             }
            },
            "type": "scattercarpet"
           }
          ],
          "scattergeo": [
           {
            "marker": {
             "colorbar": {
              "outlinewidth": 0,
              "tickcolor": "rgb(36,36,36)",
              "ticklen": 8,
              "ticks": "outside",
              "tickwidth": 2
             }
            },
            "type": "scattergeo"
           }
          ],
          "scattergl": [
           {
            "marker": {
             "colorbar": {
              "outlinewidth": 0,
              "tickcolor": "rgb(36,36,36)",
              "ticklen": 8,
              "ticks": "outside",
              "tickwidth": 2
             }
            },
            "type": "scattergl"
           }
          ],
          "scattermap": [
           {
            "marker": {
             "colorbar": {
              "outlinewidth": 0,
              "tickcolor": "rgb(36,36,36)",
              "ticklen": 8,
              "ticks": "outside",
              "tickwidth": 2
             }
            },
            "type": "scattermap"
           }
          ],
          "scattermapbox": [
           {
            "marker": {
             "colorbar": {
              "outlinewidth": 0,
              "tickcolor": "rgb(36,36,36)",
              "ticklen": 8,
              "ticks": "outside",
              "tickwidth": 2
             }
            },
            "type": "scattermapbox"
           }
          ],
          "scatterpolar": [
           {
            "marker": {
             "colorbar": {
              "outlinewidth": 0,
              "tickcolor": "rgb(36,36,36)",
              "ticklen": 8,
              "ticks": "outside",
              "tickwidth": 2
             }
            },
            "type": "scatterpolar"
           }
          ],
          "scatterpolargl": [
           {
            "marker": {
             "colorbar": {
              "outlinewidth": 0,
              "tickcolor": "rgb(36,36,36)",
              "ticklen": 8,
              "ticks": "outside",
              "tickwidth": 2
             }
            },
            "type": "scatterpolargl"
           }
          ],
          "scatterternary": [
           {
            "marker": {
             "colorbar": {
              "outlinewidth": 0,
              "tickcolor": "rgb(36,36,36)",
              "ticklen": 8,
              "ticks": "outside",
              "tickwidth": 2
             }
            },
            "type": "scatterternary"
           }
          ],
          "surface": [
           {
            "colorbar": {
             "outlinewidth": 0,
             "tickcolor": "rgb(36,36,36)",
             "ticklen": 8,
             "ticks": "outside",
             "tickwidth": 2
            },
            "colorscale": [
             [
              0,
              "rgb(2,4,25)"
             ],
             [
              0.06274509803921569,
              "rgb(24,15,41)"
             ],
             [
              0.12549019607843137,
              "rgb(47,23,57)"
             ],
             [
              0.18823529411764706,
              "rgb(71,28,72)"
             ],
             [
              0.25098039215686274,
              "rgb(97,30,82)"
             ],
             [
              0.3137254901960784,
              "rgb(123,30,89)"
             ],
             [
              0.3764705882352941,
              "rgb(150,27,91)"
             ],
             [
              0.4392156862745098,
              "rgb(177,22,88)"
             ],
             [
              0.5019607843137255,
              "rgb(203,26,79)"
             ],
             [
              0.5647058823529412,
              "rgb(223,47,67)"
             ],
             [
              0.6274509803921569,
              "rgb(236,76,61)"
             ],
             [
              0.6901960784313725,
              "rgb(242,107,73)"
             ],
             [
              0.7529411764705882,
              "rgb(244,135,95)"
             ],
             [
              0.8156862745098039,
              "rgb(245,162,122)"
             ],
             [
              0.8784313725490196,
              "rgb(246,188,153)"
             ],
             [
              0.9411764705882353,
              "rgb(247,212,187)"
             ],
             [
              1,
              "rgb(250,234,220)"
             ]
            ],
            "type": "surface"
           }
          ],
          "table": [
           {
            "cells": {
             "fill": {
              "color": "rgb(231,231,240)"
             },
             "line": {
              "color": "white"
             }
            },
            "header": {
             "fill": {
              "color": "rgb(183,183,191)"
             },
             "line": {
              "color": "white"
             }
            },
            "type": "table"
           }
          ]
         },
         "layout": {
          "annotationdefaults": {
           "arrowcolor": "rgb(67,103,167)"
          },
          "autotypenumbers": "strict",
          "coloraxis": {
           "colorbar": {
            "outlinewidth": 0,
            "tickcolor": "rgb(36,36,36)",
            "ticklen": 8,
            "ticks": "outside",
            "tickwidth": 2
           }
          },
          "colorscale": {
           "sequential": [
            [
             0,
             "rgb(2,4,25)"
            ],
            [
             0.06274509803921569,
             "rgb(24,15,41)"
            ],
            [
             0.12549019607843137,
             "rgb(47,23,57)"
            ],
            [
             0.18823529411764706,
             "rgb(71,28,72)"
            ],
            [
             0.25098039215686274,
             "rgb(97,30,82)"
            ],
            [
             0.3137254901960784,
             "rgb(123,30,89)"
            ],
            [
             0.3764705882352941,
             "rgb(150,27,91)"
            ],
            [
             0.4392156862745098,
             "rgb(177,22,88)"
            ],
            [
             0.5019607843137255,
             "rgb(203,26,79)"
            ],
            [
             0.5647058823529412,
             "rgb(223,47,67)"
            ],
            [
             0.6274509803921569,
             "rgb(236,76,61)"
            ],
            [
             0.6901960784313725,
             "rgb(242,107,73)"
            ],
            [
             0.7529411764705882,
             "rgb(244,135,95)"
            ],
            [
             0.8156862745098039,
             "rgb(245,162,122)"
            ],
            [
             0.8784313725490196,
             "rgb(246,188,153)"
            ],
            [
             0.9411764705882353,
             "rgb(247,212,187)"
            ],
            [
             1,
             "rgb(250,234,220)"
            ]
           ],
           "sequentialminus": [
            [
             0,
             "rgb(2,4,25)"
            ],
            [
             0.06274509803921569,
             "rgb(24,15,41)"
            ],
            [
             0.12549019607843137,
             "rgb(47,23,57)"
            ],
            [
             0.18823529411764706,
             "rgb(71,28,72)"
            ],
            [
             0.25098039215686274,
             "rgb(97,30,82)"
            ],
            [
             0.3137254901960784,
             "rgb(123,30,89)"
            ],
            [
             0.3764705882352941,
             "rgb(150,27,91)"
            ],
            [
             0.4392156862745098,
             "rgb(177,22,88)"
            ],
            [
             0.5019607843137255,
             "rgb(203,26,79)"
            ],
            [
             0.5647058823529412,
             "rgb(223,47,67)"
            ],
            [
             0.6274509803921569,
             "rgb(236,76,61)"
            ],
            [
             0.6901960784313725,
             "rgb(242,107,73)"
            ],
            [
             0.7529411764705882,
             "rgb(244,135,95)"
            ],
            [
             0.8156862745098039,
             "rgb(245,162,122)"
            ],
            [
             0.8784313725490196,
             "rgb(246,188,153)"
            ],
            [
             0.9411764705882353,
             "rgb(247,212,187)"
            ],
            [
             1,
             "rgb(250,234,220)"
            ]
           ]
          },
          "colorway": [
           "rgb(76,114,176)",
           "rgb(221,132,82)",
           "rgb(85,168,104)",
           "rgb(196,78,82)",
           "rgb(129,114,179)",
           "rgb(147,120,96)",
           "rgb(218,139,195)",
           "rgb(140,140,140)",
           "rgb(204,185,116)",
           "rgb(100,181,205)"
          ],
          "font": {
           "color": "rgb(36,36,36)"
          },
          "geo": {
           "bgcolor": "white",
           "lakecolor": "white",
           "landcolor": "rgb(234,234,242)",
           "showlakes": true,
           "showland": true,
           "subunitcolor": "white"
          },
          "hoverlabel": {
           "align": "left"
          },
          "hovermode": "closest",
          "paper_bgcolor": "white",
          "plot_bgcolor": "rgb(234,234,242)",
          "polar": {
           "angularaxis": {
            "gridcolor": "white",
            "linecolor": "white",
            "showgrid": true,
            "ticks": ""
           },
           "bgcolor": "rgb(234,234,242)",
           "radialaxis": {
            "gridcolor": "white",
            "linecolor": "white",
            "showgrid": true,
            "ticks": ""
           }
          },
          "scene": {
           "xaxis": {
            "backgroundcolor": "rgb(234,234,242)",
            "gridcolor": "white",
            "gridwidth": 2,
            "linecolor": "white",
            "showbackground": true,
            "showgrid": true,
            "ticks": "",
            "zerolinecolor": "white"
           },
           "yaxis": {
            "backgroundcolor": "rgb(234,234,242)",
            "gridcolor": "white",
            "gridwidth": 2,
            "linecolor": "white",
            "showbackground": true,
            "showgrid": true,
            "ticks": "",
            "zerolinecolor": "white"
           },
           "zaxis": {
            "backgroundcolor": "rgb(234,234,242)",
            "gridcolor": "white",
            "gridwidth": 2,
            "linecolor": "white",
            "showbackground": true,
            "showgrid": true,
            "ticks": "",
            "zerolinecolor": "white"
           }
          },
          "shapedefaults": {
           "fillcolor": "rgb(67,103,167)",
           "line": {
            "width": 0
           },
           "opacity": 0.5
          },
          "ternary": {
           "aaxis": {
            "gridcolor": "white",
            "linecolor": "white",
            "showgrid": true,
            "ticks": ""
           },
           "baxis": {
            "gridcolor": "white",
            "linecolor": "white",
            "showgrid": true,
            "ticks": ""
           },
           "bgcolor": "rgb(234,234,242)",
           "caxis": {
            "gridcolor": "white",
            "linecolor": "white",
            "showgrid": true,
            "ticks": ""
           }
          },
          "xaxis": {
           "automargin": true,
           "gridcolor": "white",
           "linecolor": "white",
           "showgrid": true,
           "ticks": "",
           "title": {
            "standoff": 15
           },
           "zerolinecolor": "white"
          },
          "yaxis": {
           "automargin": true,
           "gridcolor": "white",
           "linecolor": "white",
           "showgrid": true,
           "ticks": "",
           "title": {
            "standoff": 15
           },
           "zerolinecolor": "white"
          }
         }
        },
        "title": {
         "text": "Tick Bars"
        },
        "xaxis": {
         "rangeslider": {
          "visible": true
         },
         "title": {
          "text": "Bar"
         }
        },
        "yaxis": {
         "title": {
          "text": "Price (USD)"
         }
        }
       }
      }
     },
     "metadata": {},
     "output_type": "display_data"
    }
   ],
   "source": [
    "fig = go.Figure(data=[go.Candlestick(\n",
    "    x=tick_bars.index,\n",
    "    open=tick_bars['open'],\n",
    "    high=tick_bars['high'],\n",
    "    low=tick_bars['low'],\n",
    "    close=tick_bars['close'],\n",
    "    name='Tick Bars'\n",
    ")])\n",
    "\n",
    "fig.update_layout(\n",
    "    title=f'Tick Bars',\n",
    "    yaxis_title='Price (USD)',\n",
    "    xaxis_title='Bar',\n",
    "    xaxis_rangeslider_visible=True, \n",
    "    template='seaborn', # other options: plotly, plotly_white, plotly_dark, simple_white\n",
    "    showlegend=True,\n",
    ")"
   ]
  },
  {
   "cell_type": "markdown",
   "id": "faa6ebe9",
   "metadata": {},
   "source": [
    "### Time chart"
   ]
  },
  {
   "cell_type": "code",
   "execution_count": 231,
   "id": "7c18e8e9",
   "metadata": {},
   "outputs": [
    {
     "data": {
      "application/vnd.plotly.v1+json": {
       "config": {
        "plotlyServerURL": "https://plot.ly"
       },
       "data": [
        {
         "close": {
          "bdata": "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",
          "dtype": "f8"
         },
         "high": {
          "bdata": "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",
          "dtype": "f8"
         },
         "low": {
          "bdata": "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",
          "dtype": "f8"
         },
         "name": "Tick Bars",
         "open": {
          "bdata": "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",
          "dtype": "f8"
         },
         "type": "candlestick",
         "x": [
          "2025-07-14T09:30:24",
          "2025-07-14T09:32:58",
          "2025-07-14T09:35:18",
          "2025-07-14T09:35:45",
          "2025-07-14T09:38:00",
          "2025-07-14T09:39:54",
          "2025-07-14T09:44:12",
          "2025-07-14T09:45:46",
          "2025-07-14T09:48:28",
          "2025-07-14T09:51:28",
          "2025-07-14T09:52:42",
          "2025-07-14T09:53:58",
          "2025-07-14T09:54:47",
          "2025-07-14T09:57:04",
          "2025-07-14T09:59:42",
          "2025-07-14T10:01:59",
          "2025-07-14T10:03:22",
          "2025-07-14T10:05:33",
          "2025-07-14T10:06:38",
          "2025-07-14T10:08:30",
          "2025-07-14T10:09:26",
          "2025-07-14T10:10:20",
          "2025-07-14T10:12:03",
          "2025-07-14T10:13:47",
          "2025-07-14T10:14:46",
          "2025-07-14T10:18:00",
          "2025-07-14T10:19:30",
          "2025-07-14T10:22:07",
          "2025-07-14T10:22:50",
          "2025-07-14T10:23:34",
          "2025-07-14T10:25:14",
          "2025-07-14T10:27:16",
          "2025-07-14T10:28:02",
          "2025-07-14T10:31:54",
          "2025-07-14T10:33:28",
          "2025-07-14T10:34:33",
          "2025-07-14T10:37:48",
          "2025-07-14T10:39:51",
          "2025-07-14T10:41:05",
          "2025-07-14T10:42:39",
          "2025-07-14T10:44:52",
          "2025-07-14T10:49:03",
          "2025-07-14T10:50:39",
          "2025-07-14T10:52:00",
          "2025-07-14T10:53:10",
          "2025-07-14T10:54:06",
          "2025-07-14T10:55:28",
          "2025-07-14T10:58:16",
          "2025-07-14T10:59:31",
          "2025-07-14T11:01:27",
          "2025-07-14T11:03:06",
          "2025-07-14T11:07:03",
          "2025-07-14T11:08:34",
          "2025-07-14T11:10:02",
          "2025-07-14T11:12:45",
          "2025-07-14T11:13:32",
          "2025-07-14T11:14:29",
          "2025-07-14T11:17:10",
          "2025-07-14T11:19:28",
          "2025-07-14T11:22:20",
          "2025-07-14T11:23:55",
          "2025-07-14T11:26:10",
          "2025-07-14T11:27:04",
          "2025-07-14T11:29:05",
          "2025-07-14T11:29:58",
          "2025-07-14T11:31:50",
          "2025-07-14T11:34:45",
          "2025-07-14T11:37:18",
          "2025-07-14T11:39:10",
          "2025-07-14T11:40:53",
          "2025-07-14T11:42:33",
          "2025-07-14T11:44:25",
          "2025-07-14T11:46:44",
          "2025-07-14T11:47:46",
          "2025-07-14T11:51:00",
          "2025-07-14T11:51:51",
          "2025-07-14T11:54:11",
          "2025-07-14T11:55:14",
          "2025-07-14T11:56:18",
          "2025-07-14T11:57:59",
          "2025-07-14T11:59:26",
          "2025-07-14T12:01:11",
          "2025-07-14T12:01:58",
          "2025-07-14T12:03:17",
          "2025-07-14T12:04:34",
          "2025-07-14T12:05:58",
          "2025-07-14T12:08:25",
          "2025-07-14T12:11:02",
          "2025-07-14T12:12:47",
          "2025-07-14T12:14:38",
          "2025-07-14T12:16:14",
          "2025-07-14T12:18:53",
          "2025-07-14T12:20:28",
          "2025-07-14T12:23:09",
          "2025-07-14T12:25:58",
          "2025-07-14T12:26:57",
          "2025-07-14T12:29:19",
          "2025-07-14T12:31:25",
          "2025-07-14T12:34:34",
          "2025-07-14T12:35:43",
          "2025-07-14T12:37:04",
          "2025-07-14T12:39:38",
          "2025-07-14T12:41:55",
          "2025-07-14T12:43:04",
          "2025-07-14T12:44:57",
          "2025-07-14T12:47:19",
          "2025-07-14T12:49:02",
          "2025-07-14T12:51:20",
          "2025-07-14T12:54:16",
          "2025-07-14T12:56:39",
          "2025-07-14T13:00:38",
          "2025-07-14T13:02:35",
          "2025-07-14T13:03:39",
          "2025-07-14T13:06:21",
          "2025-07-14T13:09:01",
          "2025-07-14T13:10:37",
          "2025-07-14T13:12:45",
          "2025-07-14T13:14:56",
          "2025-07-14T13:16:22",
          "2025-07-14T13:21:10",
          "2025-07-14T13:23:51",
          "2025-07-14T13:24:47",
          "2025-07-14T13:26:17",
          "2025-07-14T13:27:46",
          "2025-07-14T13:28:35",
          "2025-07-14T13:29:41",
          "2025-07-14T13:30:24",
          "2025-07-14T13:31:04",
          "2025-07-14T13:34:12",
          "2025-07-14T13:36:03",
          "2025-07-14T13:37:55",
          "2025-07-14T13:40:58",
          "2025-07-14T13:43:18",
          "2025-07-14T13:46:17",
          "2025-07-14T13:48:10",
          "2025-07-14T13:49:40",
          "2025-07-14T13:51:59",
          "2025-07-14T13:52:30",
          "2025-07-14T13:54:48",
          "2025-07-14T13:56:41",
          "2025-07-14T13:57:48",
          "2025-07-14T14:00:59",
          "2025-07-14T14:02:38",
          "2025-07-14T14:04:49",
          "2025-07-14T14:06:21",
          "2025-07-14T14:08:52",
          "2025-07-14T14:11:30",
          "2025-07-14T14:12:40",
          "2025-07-14T14:16:46",
          "2025-07-14T14:17:44",
          "2025-07-14T14:19:58",
          "2025-07-14T14:21:15",
          "2025-07-14T14:22:16",
          "2025-07-14T14:26:14",
          "2025-07-14T14:27:41",
          "2025-07-14T14:29:58",
          "2025-07-14T14:33:09",
          "2025-07-14T14:34:42",
          "2025-07-14T14:36:48",
          "2025-07-14T14:40:02",
          "2025-07-14T14:41:43",
          "2025-07-14T14:44:13",
          "2025-07-14T14:45:22",
          "2025-07-14T14:47:51",
          "2025-07-14T14:49:03",
          "2025-07-14T14:50:27",
          "2025-07-14T14:52:40",
          "2025-07-14T14:54:18",
          "2025-07-14T14:56:46",
          "2025-07-14T14:58:40",
          "2025-07-14T15:03:49",
          "2025-07-14T15:06:00",
          "2025-07-14T15:07:11",
          "2025-07-14T15:08:44",
          "2025-07-14T15:10:42",
          "2025-07-14T15:13:42",
          "2025-07-14T15:14:47",
          "2025-07-14T15:15:31",
          "2025-07-14T15:18:02",
          "2025-07-14T15:19:14",
          "2025-07-14T15:19:51",
          "2025-07-14T15:23:37",
          "2025-07-14T15:25:19",
          "2025-07-14T15:28:34",
          "2025-07-14T15:30:51",
          "2025-07-14T15:34:47",
          "2025-07-14T15:36:53",
          "2025-07-14T15:39:36",
          "2025-07-14T15:40:46",
          "2025-07-14T15:43:30",
          "2025-07-14T15:44:13",
          "2025-07-14T15:45:44",
          "2025-07-14T15:47:30",
          "2025-07-14T15:48:56",
          "2025-07-14T15:50:40",
          "2025-07-14T15:52:37",
          "2025-07-14T15:53:29",
          "2025-07-14T15:55:50",
          "2025-07-14T15:57:43",
          "2025-07-14T15:58:58"
         ]
        }
       ],
       "layout": {
        "showlegend": true,
        "template": {
         "data": {
          "bar": [
           {
            "error_x": {
             "color": "rgb(36,36,36)"
            },
            "error_y": {
             "color": "rgb(36,36,36)"
            },
            "marker": {
             "line": {
              "color": "rgb(234,234,242)",
              "width": 0.5
             },
             "pattern": {
              "fillmode": "overlay",
              "size": 10,
              "solidity": 0.2
             }
            },
            "type": "bar"
           }
          ],
          "barpolar": [
           {
            "marker": {
             "line": {
              "color": "rgb(234,234,242)",
              "width": 0.5
             },
             "pattern": {
              "fillmode": "overlay",
              "size": 10,
              "solidity": 0.2
             }
            },
            "type": "barpolar"
           }
          ],
          "carpet": [
           {
            "aaxis": {
             "endlinecolor": "rgb(36,36,36)",
             "gridcolor": "white",
             "linecolor": "white",
             "minorgridcolor": "white",
             "startlinecolor": "rgb(36,36,36)"
            },
            "baxis": {
             "endlinecolor": "rgb(36,36,36)",
             "gridcolor": "white",
             "linecolor": "white",
             "minorgridcolor": "white",
             "startlinecolor": "rgb(36,36,36)"
            },
            "type": "carpet"
           }
          ],
          "choropleth": [
           {
            "colorbar": {
             "outlinewidth": 0,
             "tickcolor": "rgb(36,36,36)",
             "ticklen": 8,
             "ticks": "outside",
             "tickwidth": 2
            },
            "type": "choropleth"
           }
          ],
          "contour": [
           {
            "colorbar": {
             "outlinewidth": 0,
             "tickcolor": "rgb(36,36,36)",
             "ticklen": 8,
             "ticks": "outside",
             "tickwidth": 2
            },
            "colorscale": [
             [
              0,
              "rgb(2,4,25)"
             ],
             [
              0.06274509803921569,
              "rgb(24,15,41)"
             ],
             [
              0.12549019607843137,
              "rgb(47,23,57)"
             ],
             [
              0.18823529411764706,
              "rgb(71,28,72)"
             ],
             [
              0.25098039215686274,
              "rgb(97,30,82)"
             ],
             [
              0.3137254901960784,
              "rgb(123,30,89)"
             ],
             [
              0.3764705882352941,
              "rgb(150,27,91)"
             ],
             [
              0.4392156862745098,
              "rgb(177,22,88)"
             ],
             [
              0.5019607843137255,
              "rgb(203,26,79)"
             ],
             [
              0.5647058823529412,
              "rgb(223,47,67)"
             ],
             [
              0.6274509803921569,
              "rgb(236,76,61)"
             ],
             [
              0.6901960784313725,
              "rgb(242,107,73)"
             ],
             [
              0.7529411764705882,
              "rgb(244,135,95)"
             ],
             [
              0.8156862745098039,
              "rgb(245,162,122)"
             ],
             [
              0.8784313725490196,
              "rgb(246,188,153)"
             ],
             [
              0.9411764705882353,
              "rgb(247,212,187)"
             ],
             [
              1,
              "rgb(250,234,220)"
             ]
            ],
            "type": "contour"
           }
          ],
          "contourcarpet": [
           {
            "colorbar": {
             "outlinewidth": 0,
             "tickcolor": "rgb(36,36,36)",
             "ticklen": 8,
             "ticks": "outside",
             "tickwidth": 2
            },
            "type": "contourcarpet"
           }
          ],
          "heatmap": [
           {
            "colorbar": {
             "outlinewidth": 0,
             "tickcolor": "rgb(36,36,36)",
             "ticklen": 8,
             "ticks": "outside",
             "tickwidth": 2
            },
            "colorscale": [
             [
              0,
              "rgb(2,4,25)"
             ],
             [
              0.06274509803921569,
              "rgb(24,15,41)"
             ],
             [
              0.12549019607843137,
              "rgb(47,23,57)"
             ],
             [
              0.18823529411764706,
              "rgb(71,28,72)"
             ],
             [
              0.25098039215686274,
              "rgb(97,30,82)"
             ],
             [
              0.3137254901960784,
              "rgb(123,30,89)"
             ],
             [
              0.3764705882352941,
              "rgb(150,27,91)"
             ],
             [
              0.4392156862745098,
              "rgb(177,22,88)"
             ],
             [
              0.5019607843137255,
              "rgb(203,26,79)"
             ],
             [
              0.5647058823529412,
              "rgb(223,47,67)"
             ],
             [
              0.6274509803921569,
              "rgb(236,76,61)"
             ],
             [
              0.6901960784313725,
              "rgb(242,107,73)"
             ],
             [
              0.7529411764705882,
              "rgb(244,135,95)"
             ],
             [
              0.8156862745098039,
              "rgb(245,162,122)"
             ],
             [
              0.8784313725490196,
              "rgb(246,188,153)"
             ],
             [
              0.9411764705882353,
              "rgb(247,212,187)"
             ],
             [
              1,
              "rgb(250,234,220)"
             ]
            ],
            "type": "heatmap"
           }
          ],
          "histogram": [
           {
            "marker": {
             "pattern": {
              "fillmode": "overlay",
              "size": 10,
              "solidity": 0.2
             }
            },
            "type": "histogram"
           }
          ],
          "histogram2d": [
           {
            "colorbar": {
             "outlinewidth": 0,
             "tickcolor": "rgb(36,36,36)",
             "ticklen": 8,
             "ticks": "outside",
             "tickwidth": 2
            },
            "colorscale": [
             [
              0,
              "rgb(2,4,25)"
             ],
             [
              0.06274509803921569,
              "rgb(24,15,41)"
             ],
             [
              0.12549019607843137,
              "rgb(47,23,57)"
             ],
             [
              0.18823529411764706,
              "rgb(71,28,72)"
             ],
             [
              0.25098039215686274,
              "rgb(97,30,82)"
             ],
             [
              0.3137254901960784,
              "rgb(123,30,89)"
             ],
             [
              0.3764705882352941,
              "rgb(150,27,91)"
             ],
             [
              0.4392156862745098,
              "rgb(177,22,88)"
             ],
             [
              0.5019607843137255,
              "rgb(203,26,79)"
             ],
             [
              0.5647058823529412,
              "rgb(223,47,67)"
             ],
             [
              0.6274509803921569,
              "rgb(236,76,61)"
             ],
             [
              0.6901960784313725,
              "rgb(242,107,73)"
             ],
             [
              0.7529411764705882,
              "rgb(244,135,95)"
             ],
             [
              0.8156862745098039,
              "rgb(245,162,122)"
             ],
             [
              0.8784313725490196,
              "rgb(246,188,153)"
             ],
             [
              0.9411764705882353,
              "rgb(247,212,187)"
             ],
             [
              1,
              "rgb(250,234,220)"
             ]
            ],
            "type": "histogram2d"
           }
          ],
          "histogram2dcontour": [
           {
            "colorbar": {
             "outlinewidth": 0,
             "tickcolor": "rgb(36,36,36)",
             "ticklen": 8,
             "ticks": "outside",
             "tickwidth": 2
            },
            "colorscale": [
             [
              0,
              "rgb(2,4,25)"
             ],
             [
              0.06274509803921569,
              "rgb(24,15,41)"
             ],
             [
              0.12549019607843137,
              "rgb(47,23,57)"
             ],
             [
              0.18823529411764706,
              "rgb(71,28,72)"
             ],
             [
              0.25098039215686274,
              "rgb(97,30,82)"
             ],
             [
              0.3137254901960784,
              "rgb(123,30,89)"
             ],
             [
              0.3764705882352941,
              "rgb(150,27,91)"
             ],
             [
              0.4392156862745098,
              "rgb(177,22,88)"
             ],
             [
              0.5019607843137255,
              "rgb(203,26,79)"
             ],
             [
              0.5647058823529412,
              "rgb(223,47,67)"
             ],
             [
              0.6274509803921569,
              "rgb(236,76,61)"
             ],
             [
              0.6901960784313725,
              "rgb(242,107,73)"
             ],
             [
              0.7529411764705882,
              "rgb(244,135,95)"
             ],
             [
              0.8156862745098039,
              "rgb(245,162,122)"
             ],
             [
              0.8784313725490196,
              "rgb(246,188,153)"
             ],
             [
              0.9411764705882353,
              "rgb(247,212,187)"
             ],
             [
              1,
              "rgb(250,234,220)"
             ]
            ],
            "type": "histogram2dcontour"
           }
          ],
          "mesh3d": [
           {
            "colorbar": {
             "outlinewidth": 0,
             "tickcolor": "rgb(36,36,36)",
             "ticklen": 8,
             "ticks": "outside",
             "tickwidth": 2
            },
            "type": "mesh3d"
           }
          ],
          "parcoords": [
           {
            "line": {
             "colorbar": {
              "outlinewidth": 0,
              "tickcolor": "rgb(36,36,36)",
              "ticklen": 8,
              "ticks": "outside",
              "tickwidth": 2
             }
            },
            "type": "parcoords"
           }
          ],
          "pie": [
           {
            "automargin": true,
            "type": "pie"
           }
          ],
          "scatter": [
           {
            "fillpattern": {
             "fillmode": "overlay",
             "size": 10,
             "solidity": 0.2
            },
            "type": "scatter"
           }
          ],
          "scatter3d": [
           {
            "line": {
             "colorbar": {
              "outlinewidth": 0,
              "tickcolor": "rgb(36,36,36)",
              "ticklen": 8,
              "ticks": "outside",
              "tickwidth": 2
             }
            },
            "marker": {
             "colorbar": {
              "outlinewidth": 0,
              "tickcolor": "rgb(36,36,36)",
              "ticklen": 8,
              "ticks": "outside",
              "tickwidth": 2
             }
            },
            "type": "scatter3d"
           }
          ],
          "scattercarpet": [
           {
            "marker": {
             "colorbar": {
              "outlinewidth": 0,
              "tickcolor": "rgb(36,36,36)",
              "ticklen": 8,
              "ticks": "outside",
              "tickwidth": 2
             }
            },
            "type": "scattercarpet"
           }
          ],
          "scattergeo": [
           {
            "marker": {
             "colorbar": {
              "outlinewidth": 0,
              "tickcolor": "rgb(36,36,36)",
              "ticklen": 8,
              "ticks": "outside",
              "tickwidth": 2
             }
            },
            "type": "scattergeo"
           }
          ],
          "scattergl": [
           {
            "marker": {
             "colorbar": {
              "outlinewidth": 0,
              "tickcolor": "rgb(36,36,36)",
              "ticklen": 8,
              "ticks": "outside",
              "tickwidth": 2
             }
            },
            "type": "scattergl"
           }
          ],
          "scattermap": [
           {
            "marker": {
             "colorbar": {
              "outlinewidth": 0,
              "tickcolor": "rgb(36,36,36)",
              "ticklen": 8,
              "ticks": "outside",
              "tickwidth": 2
             }
            },
            "type": "scattermap"
           }
          ],
          "scattermapbox": [
           {
            "marker": {
             "colorbar": {
              "outlinewidth": 0,
              "tickcolor": "rgb(36,36,36)",
              "ticklen": 8,
              "ticks": "outside",
              "tickwidth": 2
             }
            },
            "type": "scattermapbox"
           }
          ],
          "scatterpolar": [
           {
            "marker": {
             "colorbar": {
              "outlinewidth": 0,
              "tickcolor": "rgb(36,36,36)",
              "ticklen": 8,
              "ticks": "outside",
              "tickwidth": 2
             }
            },
            "type": "scatterpolar"
           }
          ],
          "scatterpolargl": [
           {
            "marker": {
             "colorbar": {
              "outlinewidth": 0,
              "tickcolor": "rgb(36,36,36)",
              "ticklen": 8,
              "ticks": "outside",
              "tickwidth": 2
             }
            },
            "type": "scatterpolargl"
           }
          ],
          "scatterternary": [
           {
            "marker": {
             "colorbar": {
              "outlinewidth": 0,
              "tickcolor": "rgb(36,36,36)",
              "ticklen": 8,
              "ticks": "outside",
              "tickwidth": 2
             }
            },
            "type": "scatterternary"
           }
          ],
          "surface": [
           {
            "colorbar": {
             "outlinewidth": 0,
             "tickcolor": "rgb(36,36,36)",
             "ticklen": 8,
             "ticks": "outside",
             "tickwidth": 2
            },
            "colorscale": [
             [
              0,
              "rgb(2,4,25)"
             ],
             [
              0.06274509803921569,
              "rgb(24,15,41)"
             ],
             [
              0.12549019607843137,
              "rgb(47,23,57)"
             ],
             [
              0.18823529411764706,
              "rgb(71,28,72)"
             ],
             [
              0.25098039215686274,
              "rgb(97,30,82)"
             ],
             [
              0.3137254901960784,
              "rgb(123,30,89)"
             ],
             [
              0.3764705882352941,
              "rgb(150,27,91)"
             ],
             [
              0.4392156862745098,
              "rgb(177,22,88)"
             ],
             [
              0.5019607843137255,
              "rgb(203,26,79)"
             ],
             [
              0.5647058823529412,
              "rgb(223,47,67)"
             ],
             [
              0.6274509803921569,
              "rgb(236,76,61)"
             ],
             [
              0.6901960784313725,
              "rgb(242,107,73)"
             ],
             [
              0.7529411764705882,
              "rgb(244,135,95)"
             ],
             [
              0.8156862745098039,
              "rgb(245,162,122)"
             ],
             [
              0.8784313725490196,
              "rgb(246,188,153)"
             ],
             [
              0.9411764705882353,
              "rgb(247,212,187)"
             ],
             [
              1,
              "rgb(250,234,220)"
             ]
            ],
            "type": "surface"
           }
          ],
          "table": [
           {
            "cells": {
             "fill": {
              "color": "rgb(231,231,240)"
             },
             "line": {
              "color": "white"
             }
            },
            "header": {
             "fill": {
              "color": "rgb(183,183,191)"
             },
             "line": {
              "color": "white"
             }
            },
            "type": "table"
           }
          ]
         },
         "layout": {
          "annotationdefaults": {
           "arrowcolor": "rgb(67,103,167)"
          },
          "autotypenumbers": "strict",
          "coloraxis": {
           "colorbar": {
            "outlinewidth": 0,
            "tickcolor": "rgb(36,36,36)",
            "ticklen": 8,
            "ticks": "outside",
            "tickwidth": 2
           }
          },
          "colorscale": {
           "sequential": [
            [
             0,
             "rgb(2,4,25)"
            ],
            [
             0.06274509803921569,
             "rgb(24,15,41)"
            ],
            [
             0.12549019607843137,
             "rgb(47,23,57)"
            ],
            [
             0.18823529411764706,
             "rgb(71,28,72)"
            ],
            [
             0.25098039215686274,
             "rgb(97,30,82)"
            ],
            [
             0.3137254901960784,
             "rgb(123,30,89)"
            ],
            [
             0.3764705882352941,
             "rgb(150,27,91)"
            ],
            [
             0.4392156862745098,
             "rgb(177,22,88)"
            ],
            [
             0.5019607843137255,
             "rgb(203,26,79)"
            ],
            [
             0.5647058823529412,
             "rgb(223,47,67)"
            ],
            [
             0.6274509803921569,
             "rgb(236,76,61)"
            ],
            [
             0.6901960784313725,
             "rgb(242,107,73)"
            ],
            [
             0.7529411764705882,
             "rgb(244,135,95)"
            ],
            [
             0.8156862745098039,
             "rgb(245,162,122)"
            ],
            [
             0.8784313725490196,
             "rgb(246,188,153)"
            ],
            [
             0.9411764705882353,
             "rgb(247,212,187)"
            ],
            [
             1,
             "rgb(250,234,220)"
            ]
           ],
           "sequentialminus": [
            [
             0,
             "rgb(2,4,25)"
            ],
            [
             0.06274509803921569,
             "rgb(24,15,41)"
            ],
            [
             0.12549019607843137,
             "rgb(47,23,57)"
            ],
            [
             0.18823529411764706,
             "rgb(71,28,72)"
            ],
            [
             0.25098039215686274,
             "rgb(97,30,82)"
            ],
            [
             0.3137254901960784,
             "rgb(123,30,89)"
            ],
            [
             0.3764705882352941,
             "rgb(150,27,91)"
            ],
            [
             0.4392156862745098,
             "rgb(177,22,88)"
            ],
            [
             0.5019607843137255,
             "rgb(203,26,79)"
            ],
            [
             0.5647058823529412,
             "rgb(223,47,67)"
            ],
            [
             0.6274509803921569,
             "rgb(236,76,61)"
            ],
            [
             0.6901960784313725,
             "rgb(242,107,73)"
            ],
            [
             0.7529411764705882,
             "rgb(244,135,95)"
            ],
            [
             0.8156862745098039,
             "rgb(245,162,122)"
            ],
            [
             0.8784313725490196,
             "rgb(246,188,153)"
            ],
            [
             0.9411764705882353,
             "rgb(247,212,187)"
            ],
            [
             1,
             "rgb(250,234,220)"
            ]
           ]
          },
          "colorway": [
           "rgb(76,114,176)",
           "rgb(221,132,82)",
           "rgb(85,168,104)",
           "rgb(196,78,82)",
           "rgb(129,114,179)",
           "rgb(147,120,96)",
           "rgb(218,139,195)",
           "rgb(140,140,140)",
           "rgb(204,185,116)",
           "rgb(100,181,205)"
          ],
          "font": {
           "color": "rgb(36,36,36)"
          },
          "geo": {
           "bgcolor": "white",
           "lakecolor": "white",
           "landcolor": "rgb(234,234,242)",
           "showlakes": true,
           "showland": true,
           "subunitcolor": "white"
          },
          "hoverlabel": {
           "align": "left"
          },
          "hovermode": "closest",
          "paper_bgcolor": "white",
          "plot_bgcolor": "rgb(234,234,242)",
          "polar": {
           "angularaxis": {
            "gridcolor": "white",
            "linecolor": "white",
            "showgrid": true,
            "ticks": ""
           },
           "bgcolor": "rgb(234,234,242)",
           "radialaxis": {
            "gridcolor": "white",
            "linecolor": "white",
            "showgrid": true,
            "ticks": ""
           }
          },
          "scene": {
           "xaxis": {
            "backgroundcolor": "rgb(234,234,242)",
            "gridcolor": "white",
            "gridwidth": 2,
            "linecolor": "white",
            "showbackground": true,
            "showgrid": true,
            "ticks": "",
            "zerolinecolor": "white"
           },
           "yaxis": {
            "backgroundcolor": "rgb(234,234,242)",
            "gridcolor": "white",
            "gridwidth": 2,
            "linecolor": "white",
            "showbackground": true,
            "showgrid": true,
            "ticks": "",
            "zerolinecolor": "white"
           },
           "zaxis": {
            "backgroundcolor": "rgb(234,234,242)",
            "gridcolor": "white",
            "gridwidth": 2,
            "linecolor": "white",
            "showbackground": true,
            "showgrid": true,
            "ticks": "",
            "zerolinecolor": "white"
           }
          },
          "shapedefaults": {
           "fillcolor": "rgb(67,103,167)",
           "line": {
            "width": 0
           },
           "opacity": 0.5
          },
          "ternary": {
           "aaxis": {
            "gridcolor": "white",
            "linecolor": "white",
            "showgrid": true,
            "ticks": ""
           },
           "baxis": {
            "gridcolor": "white",
            "linecolor": "white",
            "showgrid": true,
            "ticks": ""
           },
           "bgcolor": "rgb(234,234,242)",
           "caxis": {
            "gridcolor": "white",
            "linecolor": "white",
            "showgrid": true,
            "ticks": ""
           }
          },
          "xaxis": {
           "automargin": true,
           "gridcolor": "white",
           "linecolor": "white",
           "showgrid": true,
           "ticks": "",
           "title": {
            "standoff": 15
           },
           "zerolinecolor": "white"
          },
          "yaxis": {
           "automargin": true,
           "gridcolor": "white",
           "linecolor": "white",
           "showgrid": true,
           "ticks": "",
           "title": {
            "standoff": 15
           },
           "zerolinecolor": "white"
          }
         }
        },
        "title": {
         "text": "Tick Bars"
        },
        "xaxis": {
         "rangeslider": {
          "visible": true
         },
         "title": {
          "text": "Bar"
         }
        },
        "yaxis": {
         "title": {
          "text": "Price (USD)"
         }
        }
       }
      }
     },
     "metadata": {},
     "output_type": "display_data"
    }
   ],
   "source": [
    "fig = go.Figure(data=[go.Candlestick(\n",
    "    x=tick_bars['start_time'],\n",
    "    open=tick_bars['open'],\n",
    "    high=tick_bars['high'],\n",
    "    low=tick_bars['low'],\n",
    "    close=tick_bars['close'],\n",
    "    name='Tick Bars'\n",
    ")])\n",
    "\n",
    "fig.update_layout(\n",
    "    title=f'Tick Bars',\n",
    "    yaxis_title='Price (USD)',\n",
    "    xaxis_title='Bar',\n",
    "    xaxis_rangeslider_visible=True, \n",
    "    template='seaborn', # other options: plotly, plotly_white, plotly_dark, simple_white\n",
    "    showlegend=True,\n",
    ")"
   ]
  },
  {
   "cell_type": "markdown",
   "id": "d5e91059",
   "metadata": {},
   "source": [
    "## Time bars"
   ]
  },
  {
   "cell_type": "markdown",
   "id": "63432286",
   "metadata": {},
   "source": [
    "### Bar Chart"
   ]
  },
  {
   "cell_type": "code",
   "execution_count": 232,
   "id": "f69acfd7",
   "metadata": {},
   "outputs": [
    {
     "data": {
      "application/vnd.plotly.v1+json": {
       "config": {
        "plotlyServerURL": "https://plot.ly"
       },
       "data": [
        {
         "close": {
          "bdata": "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",
          "dtype": "f8"
         },
         "high": {
          "bdata": "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",
          "dtype": "f8"
         },
         "low": {
          "bdata": "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",
          "dtype": "f8"
         },
         "name": "Time Bars",
         "open": {
          "bdata": "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",
          "dtype": "f8"
         },
         "type": "candlestick",
         "x": {
          "bdata": "AAABAAIAAwAEAAUABgAHAAgACQAKAAsADAANAA4ADwAQABEAEgATABQAFQAWABcAGAAZABoAGwAcAB0AHgAfACAAIQAiACMAJAAlACYAJwAoACkAKgArACwALQAuAC8AMAAxADIAMwA0ADUANgA3ADgAOQA6ADsAPAA9AD4APwBAAEEAQgBDAEQARQBGAEcASABJAEoASwBMAE0ATgBPAFAAUQBSAFMAVABVAFYAVwBYAFkAWgBbAFwAXQBeAF8AYABhAGIAYwBkAGUAZgBnAGgAaQBqAGsAbABtAG4AbwBwAHEAcgBzAHQAdQB2AHcAeAB5AHoAewB8AH0AfgB/AIAAgQCCAIMAhACFAIYAhwCIAIkAigCLAIwAjQCOAI8AkACRAJIAkwCUAJUAlgCXAJgAmQCaAJsAnACdAJ4AnwCgAKEAogCjAKQApQCmAKcAqACpAKoAqwCsAK0ArgCvALAAsQCyALMAtAC1ALYAtwC4ALkAugC7ALwAvQC+AL8AwADBAMIAwwDEAMUAxgDHAMgAyQDKAMsAzADNAM4AzwDQANEA0gDTANQA1QDWANcA2ADZANoA2wDcAN0A3gDfAOAA4QDiAOMA5ADlAOYA5wDoAOkA6gDrAOwA7QDuAO8A8ADxAPIA8wD0APUA9gD3APgA+QD6APsA/AD9AP4A/wAAAQEBAgEDAQQBBQEGAQcBCAEJAQoBCwEMAQ0BDgEPARABEQESARMBFAEVARYBFwEYARkBGgEbARwBHQEeAR8BIAEhASIBIwEkASUBJgEnASgBKQEqASsBLAEtAS4BLwEwATEBMgEzATQBNQE2ATcBOAE5AToBOwE8AT0BPgE/AUABQQFCAUMBRAFFAUYBRwFIAUkBSgFLAUwBTQFOAU8BUAFRAVIBUwFUAVUBVgFXAVgBWQFaAVsBXAFdAV4BXwFgAWEBYgFjAWQBZQFmAWcBaAFpAWoBawFsAW0BbgFvAXABcQFyAXMBdAF1AXYBdwF4AXkBegF7AXwBfQF+AX8BgAGBAYIBgwGEAYUB",
          "dtype": "i2"
         }
        }
       ],
       "layout": {
        "showlegend": true,
        "template": {
         "data": {
          "bar": [
           {
            "error_x": {
             "color": "rgb(36,36,36)"
            },
            "error_y": {
             "color": "rgb(36,36,36)"
            },
            "marker": {
             "line": {
              "color": "rgb(234,234,242)",
              "width": 0.5
             },
             "pattern": {
              "fillmode": "overlay",
              "size": 10,
              "solidity": 0.2
             }
            },
            "type": "bar"
           }
          ],
          "barpolar": [
           {
            "marker": {
             "line": {
              "color": "rgb(234,234,242)",
              "width": 0.5
             },
             "pattern": {
              "fillmode": "overlay",
              "size": 10,
              "solidity": 0.2
             }
            },
            "type": "barpolar"
           }
          ],
          "carpet": [
           {
            "aaxis": {
             "endlinecolor": "rgb(36,36,36)",
             "gridcolor": "white",
             "linecolor": "white",
             "minorgridcolor": "white",
             "startlinecolor": "rgb(36,36,36)"
            },
            "baxis": {
             "endlinecolor": "rgb(36,36,36)",
             "gridcolor": "white",
             "linecolor": "white",
             "minorgridcolor": "white",
             "startlinecolor": "rgb(36,36,36)"
            },
            "type": "carpet"
           }
          ],
          "choropleth": [
           {
            "colorbar": {
             "outlinewidth": 0,
             "tickcolor": "rgb(36,36,36)",
             "ticklen": 8,
             "ticks": "outside",
             "tickwidth": 2
            },
            "type": "choropleth"
           }
          ],
          "contour": [
           {
            "colorbar": {
             "outlinewidth": 0,
             "tickcolor": "rgb(36,36,36)",
             "ticklen": 8,
             "ticks": "outside",
             "tickwidth": 2
            },
            "colorscale": [
             [
              0,
              "rgb(2,4,25)"
             ],
             [
              0.06274509803921569,
              "rgb(24,15,41)"
             ],
             [
              0.12549019607843137,
              "rgb(47,23,57)"
             ],
             [
              0.18823529411764706,
              "rgb(71,28,72)"
             ],
             [
              0.25098039215686274,
              "rgb(97,30,82)"
             ],
             [
              0.3137254901960784,
              "rgb(123,30,89)"
             ],
             [
              0.3764705882352941,
              "rgb(150,27,91)"
             ],
             [
              0.4392156862745098,
              "rgb(177,22,88)"
             ],
             [
              0.5019607843137255,
              "rgb(203,26,79)"
             ],
             [
              0.5647058823529412,
              "rgb(223,47,67)"
             ],
             [
              0.6274509803921569,
              "rgb(236,76,61)"
             ],
             [
              0.6901960784313725,
              "rgb(242,107,73)"
             ],
             [
              0.7529411764705882,
              "rgb(244,135,95)"
             ],
             [
              0.8156862745098039,
              "rgb(245,162,122)"
             ],
             [
              0.8784313725490196,
              "rgb(246,188,153)"
             ],
             [
              0.9411764705882353,
              "rgb(247,212,187)"
             ],
             [
              1,
              "rgb(250,234,220)"
             ]
            ],
            "type": "contour"
           }
          ],
          "contourcarpet": [
           {
            "colorbar": {
             "outlinewidth": 0,
             "tickcolor": "rgb(36,36,36)",
             "ticklen": 8,
             "ticks": "outside",
             "tickwidth": 2
            },
            "type": "contourcarpet"
           }
          ],
          "heatmap": [
           {
            "colorbar": {
             "outlinewidth": 0,
             "tickcolor": "rgb(36,36,36)",
             "ticklen": 8,
             "ticks": "outside",
             "tickwidth": 2
            },
            "colorscale": [
             [
              0,
              "rgb(2,4,25)"
             ],
             [
              0.06274509803921569,
              "rgb(24,15,41)"
             ],
             [
              0.12549019607843137,
              "rgb(47,23,57)"
             ],
             [
              0.18823529411764706,
              "rgb(71,28,72)"
             ],
             [
              0.25098039215686274,
              "rgb(97,30,82)"
             ],
             [
              0.3137254901960784,
              "rgb(123,30,89)"
             ],
             [
              0.3764705882352941,
              "rgb(150,27,91)"
             ],
             [
              0.4392156862745098,
              "rgb(177,22,88)"
             ],
             [
              0.5019607843137255,
              "rgb(203,26,79)"
             ],
             [
              0.5647058823529412,
              "rgb(223,47,67)"
             ],
             [
              0.6274509803921569,
              "rgb(236,76,61)"
             ],
             [
              0.6901960784313725,
              "rgb(242,107,73)"
             ],
             [
              0.7529411764705882,
              "rgb(244,135,95)"
             ],
             [
              0.8156862745098039,
              "rgb(245,162,122)"
             ],
             [
              0.8784313725490196,
              "rgb(246,188,153)"
             ],
             [
              0.9411764705882353,
              "rgb(247,212,187)"
             ],
             [
              1,
              "rgb(250,234,220)"
             ]
            ],
            "type": "heatmap"
           }
          ],
          "histogram": [
           {
            "marker": {
             "pattern": {
              "fillmode": "overlay",
              "size": 10,
              "solidity": 0.2
             }
            },
            "type": "histogram"
           }
          ],
          "histogram2d": [
           {
            "colorbar": {
             "outlinewidth": 0,
             "tickcolor": "rgb(36,36,36)",
             "ticklen": 8,
             "ticks": "outside",
             "tickwidth": 2
            },
            "colorscale": [
             [
              0,
              "rgb(2,4,25)"
             ],
             [
              0.06274509803921569,
              "rgb(24,15,41)"
             ],
             [
              0.12549019607843137,
              "rgb(47,23,57)"
             ],
             [
              0.18823529411764706,
              "rgb(71,28,72)"
             ],
             [
              0.25098039215686274,
              "rgb(97,30,82)"
             ],
             [
              0.3137254901960784,
              "rgb(123,30,89)"
             ],
             [
              0.3764705882352941,
              "rgb(150,27,91)"
             ],
             [
              0.4392156862745098,
              "rgb(177,22,88)"
             ],
             [
              0.5019607843137255,
              "rgb(203,26,79)"
             ],
             [
              0.5647058823529412,
              "rgb(223,47,67)"
             ],
             [
              0.6274509803921569,
              "rgb(236,76,61)"
             ],
             [
              0.6901960784313725,
              "rgb(242,107,73)"
             ],
             [
              0.7529411764705882,
              "rgb(244,135,95)"
             ],
             [
              0.8156862745098039,
              "rgb(245,162,122)"
             ],
             [
              0.8784313725490196,
              "rgb(246,188,153)"
             ],
             [
              0.9411764705882353,
              "rgb(247,212,187)"
             ],
             [
              1,
              "rgb(250,234,220)"
             ]
            ],
            "type": "histogram2d"
           }
          ],
          "histogram2dcontour": [
           {
            "colorbar": {
             "outlinewidth": 0,
             "tickcolor": "rgb(36,36,36)",
             "ticklen": 8,
             "ticks": "outside",
             "tickwidth": 2
            },
            "colorscale": [
             [
              0,
              "rgb(2,4,25)"
             ],
             [
              0.06274509803921569,
              "rgb(24,15,41)"
             ],
             [
              0.12549019607843137,
              "rgb(47,23,57)"
             ],
             [
              0.18823529411764706,
              "rgb(71,28,72)"
             ],
             [
              0.25098039215686274,
              "rgb(97,30,82)"
             ],
             [
              0.3137254901960784,
              "rgb(123,30,89)"
             ],
             [
              0.3764705882352941,
              "rgb(150,27,91)"
             ],
             [
              0.4392156862745098,
              "rgb(177,22,88)"
             ],
             [
              0.5019607843137255,
              "rgb(203,26,79)"
             ],
             [
              0.5647058823529412,
              "rgb(223,47,67)"
             ],
             [
              0.6274509803921569,
              "rgb(236,76,61)"
             ],
             [
              0.6901960784313725,
              "rgb(242,107,73)"
             ],
             [
              0.7529411764705882,
              "rgb(244,135,95)"
             ],
             [
              0.8156862745098039,
              "rgb(245,162,122)"
             ],
             [
              0.8784313725490196,
              "rgb(246,188,153)"
             ],
             [
              0.9411764705882353,
              "rgb(247,212,187)"
             ],
             [
              1,
              "rgb(250,234,220)"
             ]
            ],
            "type": "histogram2dcontour"
           }
          ],
          "mesh3d": [
           {
            "colorbar": {
             "outlinewidth": 0,
             "tickcolor": "rgb(36,36,36)",
             "ticklen": 8,
             "ticks": "outside",
             "tickwidth": 2
            },
            "type": "mesh3d"
           }
          ],
          "parcoords": [
           {
            "line": {
             "colorbar": {
              "outlinewidth": 0,
              "tickcolor": "rgb(36,36,36)",
              "ticklen": 8,
              "ticks": "outside",
              "tickwidth": 2
             }
            },
            "type": "parcoords"
           }
          ],
          "pie": [
           {
            "automargin": true,
            "type": "pie"
           }
          ],
          "scatter": [
           {
            "fillpattern": {
             "fillmode": "overlay",
             "size": 10,
             "solidity": 0.2
            },
            "type": "scatter"
           }
          ],
          "scatter3d": [
           {
            "line": {
             "colorbar": {
              "outlinewidth": 0,
              "tickcolor": "rgb(36,36,36)",
              "ticklen": 8,
              "ticks": "outside",
              "tickwidth": 2
             }
            },
            "marker": {
             "colorbar": {
              "outlinewidth": 0,
              "tickcolor": "rgb(36,36,36)",
              "ticklen": 8,
              "ticks": "outside",
              "tickwidth": 2
             }
            },
            "type": "scatter3d"
           }
          ],
          "scattercarpet": [
           {
            "marker": {
             "colorbar": {
              "outlinewidth": 0,
              "tickcolor": "rgb(36,36,36)",
              "ticklen": 8,
              "ticks": "outside",
              "tickwidth": 2
             }
            },
            "type": "scattercarpet"
           }
          ],
          "scattergeo": [
           {
            "marker": {
             "colorbar": {
              "outlinewidth": 0,
              "tickcolor": "rgb(36,36,36)",
              "ticklen": 8,
              "ticks": "outside",
              "tickwidth": 2
             }
            },
            "type": "scattergeo"
           }
          ],
          "scattergl": [
           {
            "marker": {
             "colorbar": {
              "outlinewidth": 0,
              "tickcolor": "rgb(36,36,36)",
              "ticklen": 8,
              "ticks": "outside",
              "tickwidth": 2
             }
            },
            "type": "scattergl"
           }
          ],
          "scattermap": [
           {
            "marker": {
             "colorbar": {
              "outlinewidth": 0,
              "tickcolor": "rgb(36,36,36)",
              "ticklen": 8,
              "ticks": "outside",
              "tickwidth": 2
             }
            },
            "type": "scattermap"
           }
          ],
          "scattermapbox": [
           {
            "marker": {
             "colorbar": {
              "outlinewidth": 0,
              "tickcolor": "rgb(36,36,36)",
              "ticklen": 8,
              "ticks": "outside",
              "tickwidth": 2
             }
            },
            "type": "scattermapbox"
           }
          ],
          "scatterpolar": [
           {
            "marker": {
             "colorbar": {
              "outlinewidth": 0,
              "tickcolor": "rgb(36,36,36)",
              "ticklen": 8,
              "ticks": "outside",
              "tickwidth": 2
             }
            },
            "type": "scatterpolar"
           }
          ],
          "scatterpolargl": [
           {
            "marker": {
             "colorbar": {
              "outlinewidth": 0,
              "tickcolor": "rgb(36,36,36)",
              "ticklen": 8,
              "ticks": "outside",
              "tickwidth": 2
             }
            },
            "type": "scatterpolargl"
           }
          ],
          "scatterternary": [
           {
            "marker": {
             "colorbar": {
              "outlinewidth": 0,
              "tickcolor": "rgb(36,36,36)",
              "ticklen": 8,
              "ticks": "outside",
              "tickwidth": 2
             }
            },
            "type": "scatterternary"
           }
          ],
          "surface": [
           {
            "colorbar": {
             "outlinewidth": 0,
             "tickcolor": "rgb(36,36,36)",
             "ticklen": 8,
             "ticks": "outside",
             "tickwidth": 2
            },
            "colorscale": [
             [
              0,
              "rgb(2,4,25)"
             ],
             [
              0.06274509803921569,
              "rgb(24,15,41)"
             ],
             [
              0.12549019607843137,
              "rgb(47,23,57)"
             ],
             [
              0.18823529411764706,
              "rgb(71,28,72)"
             ],
             [
              0.25098039215686274,
              "rgb(97,30,82)"
             ],
             [
              0.3137254901960784,
              "rgb(123,30,89)"
             ],
             [
              0.3764705882352941,
              "rgb(150,27,91)"
             ],
             [
              0.4392156862745098,
              "rgb(177,22,88)"
             ],
             [
              0.5019607843137255,
              "rgb(203,26,79)"
             ],
             [
              0.5647058823529412,
              "rgb(223,47,67)"
             ],
             [
              0.6274509803921569,
              "rgb(236,76,61)"
             ],
             [
              0.6901960784313725,
              "rgb(242,107,73)"
             ],
             [
              0.7529411764705882,
              "rgb(244,135,95)"
             ],
             [
              0.8156862745098039,
              "rgb(245,162,122)"
             ],
             [
              0.8784313725490196,
              "rgb(246,188,153)"
             ],
             [
              0.9411764705882353,
              "rgb(247,212,187)"
             ],
             [
              1,
              "rgb(250,234,220)"
             ]
            ],
            "type": "surface"
           }
          ],
          "table": [
           {
            "cells": {
             "fill": {
              "color": "rgb(231,231,240)"
             },
             "line": {
              "color": "white"
             }
            },
            "header": {
             "fill": {
              "color": "rgb(183,183,191)"
             },
             "line": {
              "color": "white"
             }
            },
            "type": "table"
           }
          ]
         },
         "layout": {
          "annotationdefaults": {
           "arrowcolor": "rgb(67,103,167)"
          },
          "autotypenumbers": "strict",
          "coloraxis": {
           "colorbar": {
            "outlinewidth": 0,
            "tickcolor": "rgb(36,36,36)",
            "ticklen": 8,
            "ticks": "outside",
            "tickwidth": 2
           }
          },
          "colorscale": {
           "sequential": [
            [
             0,
             "rgb(2,4,25)"
            ],
            [
             0.06274509803921569,
             "rgb(24,15,41)"
            ],
            [
             0.12549019607843137,
             "rgb(47,23,57)"
            ],
            [
             0.18823529411764706,
             "rgb(71,28,72)"
            ],
            [
             0.25098039215686274,
             "rgb(97,30,82)"
            ],
            [
             0.3137254901960784,
             "rgb(123,30,89)"
            ],
            [
             0.3764705882352941,
             "rgb(150,27,91)"
            ],
            [
             0.4392156862745098,
             "rgb(177,22,88)"
            ],
            [
             0.5019607843137255,
             "rgb(203,26,79)"
            ],
            [
             0.5647058823529412,
             "rgb(223,47,67)"
            ],
            [
             0.6274509803921569,
             "rgb(236,76,61)"
            ],
            [
             0.6901960784313725,
             "rgb(242,107,73)"
            ],
            [
             0.7529411764705882,
             "rgb(244,135,95)"
            ],
            [
             0.8156862745098039,
             "rgb(245,162,122)"
            ],
            [
             0.8784313725490196,
             "rgb(246,188,153)"
            ],
            [
             0.9411764705882353,
             "rgb(247,212,187)"
            ],
            [
             1,
             "rgb(250,234,220)"
            ]
           ],
           "sequentialminus": [
            [
             0,
             "rgb(2,4,25)"
            ],
            [
             0.06274509803921569,
             "rgb(24,15,41)"
            ],
            [
             0.12549019607843137,
             "rgb(47,23,57)"
            ],
            [
             0.18823529411764706,
             "rgb(71,28,72)"
            ],
            [
             0.25098039215686274,
             "rgb(97,30,82)"
            ],
            [
             0.3137254901960784,
             "rgb(123,30,89)"
            ],
            [
             0.3764705882352941,
             "rgb(150,27,91)"
            ],
            [
             0.4392156862745098,
             "rgb(177,22,88)"
            ],
            [
             0.5019607843137255,
             "rgb(203,26,79)"
            ],
            [
             0.5647058823529412,
             "rgb(223,47,67)"
            ],
            [
             0.6274509803921569,
             "rgb(236,76,61)"
            ],
            [
             0.6901960784313725,
             "rgb(242,107,73)"
            ],
            [
             0.7529411764705882,
             "rgb(244,135,95)"
            ],
            [
             0.8156862745098039,
             "rgb(245,162,122)"
            ],
            [
             0.8784313725490196,
             "rgb(246,188,153)"
            ],
            [
             0.9411764705882353,
             "rgb(247,212,187)"
            ],
            [
             1,
             "rgb(250,234,220)"
            ]
           ]
          },
          "colorway": [
           "rgb(76,114,176)",
           "rgb(221,132,82)",
           "rgb(85,168,104)",
           "rgb(196,78,82)",
           "rgb(129,114,179)",
           "rgb(147,120,96)",
           "rgb(218,139,195)",
           "rgb(140,140,140)",
           "rgb(204,185,116)",
           "rgb(100,181,205)"
          ],
          "font": {
           "color": "rgb(36,36,36)"
          },
          "geo": {
           "bgcolor": "white",
           "lakecolor": "white",
           "landcolor": "rgb(234,234,242)",
           "showlakes": true,
           "showland": true,
           "subunitcolor": "white"
          },
          "hoverlabel": {
           "align": "left"
          },
          "hovermode": "closest",
          "paper_bgcolor": "white",
          "plot_bgcolor": "rgb(234,234,242)",
          "polar": {
           "angularaxis": {
            "gridcolor": "white",
            "linecolor": "white",
            "showgrid": true,
            "ticks": ""
           },
           "bgcolor": "rgb(234,234,242)",
           "radialaxis": {
            "gridcolor": "white",
            "linecolor": "white",
            "showgrid": true,
            "ticks": ""
           }
          },
          "scene": {
           "xaxis": {
            "backgroundcolor": "rgb(234,234,242)",
            "gridcolor": "white",
            "gridwidth": 2,
            "linecolor": "white",
            "showbackground": true,
            "showgrid": true,
            "ticks": "",
            "zerolinecolor": "white"
           },
           "yaxis": {
            "backgroundcolor": "rgb(234,234,242)",
            "gridcolor": "white",
            "gridwidth": 2,
            "linecolor": "white",
            "showbackground": true,
            "showgrid": true,
            "ticks": "",
            "zerolinecolor": "white"
           },
           "zaxis": {
            "backgroundcolor": "rgb(234,234,242)",
            "gridcolor": "white",
            "gridwidth": 2,
            "linecolor": "white",
            "showbackground": true,
            "showgrid": true,
            "ticks": "",
            "zerolinecolor": "white"
           }
          },
          "shapedefaults": {
           "fillcolor": "rgb(67,103,167)",
           "line": {
            "width": 0
           },
           "opacity": 0.5
          },
          "ternary": {
           "aaxis": {
            "gridcolor": "white",
            "linecolor": "white",
            "showgrid": true,
            "ticks": ""
           },
           "baxis": {
            "gridcolor": "white",
            "linecolor": "white",
            "showgrid": true,
            "ticks": ""
           },
           "bgcolor": "rgb(234,234,242)",
           "caxis": {
            "gridcolor": "white",
            "linecolor": "white",
            "showgrid": true,
            "ticks": ""
           }
          },
          "xaxis": {
           "automargin": true,
           "gridcolor": "white",
           "linecolor": "white",
           "showgrid": true,
           "ticks": "",
           "title": {
            "standoff": 15
           },
           "zerolinecolor": "white"
          },
          "yaxis": {
           "automargin": true,
           "gridcolor": "white",
           "linecolor": "white",
           "showgrid": true,
           "ticks": "",
           "title": {
            "standoff": 15
           },
           "zerolinecolor": "white"
          }
         }
        },
        "title": {
         "text": "Time Bars"
        },
        "xaxis": {
         "rangeslider": {
          "visible": true
         },
         "title": {
          "text": "Bar"
         }
        },
        "yaxis": {
         "title": {
          "text": "Price (USD)"
         }
        }
       }
      }
     },
     "metadata": {},
     "output_type": "display_data"
    }
   ],
   "source": [
    "fig = go.Figure(data=[go.Candlestick(\n",
    "    x=time_bars.index,\n",
    "    open=time_bars['open'],\n",
    "    high=time_bars['high'],\n",
    "    low=time_bars['low'],\n",
    "    close=time_bars['close'],\n",
    "    name='Time Bars'\n",
    ")])\n",
    "\n",
    "fig.update_layout(\n",
    "    title=f'Time Bars',\n",
    "    yaxis_title='Price (USD)',\n",
    "    xaxis_title='Bar',\n",
    "    xaxis_rangeslider_visible=True, \n",
    "    template='seaborn', # other options: plotly, plotly_white, plotly_dark, simple_white\n",
    "    showlegend=True,\n",
    ")"
   ]
  },
  {
   "cell_type": "markdown",
   "id": "2a30e5f7",
   "metadata": {},
   "source": [
    "### Time Chart"
   ]
  },
  {
   "cell_type": "code",
   "execution_count": 233,
   "id": "d40945de",
   "metadata": {},
   "outputs": [
    {
     "data": {
      "application/vnd.plotly.v1+json": {
       "config": {
        "plotlyServerURL": "https://plot.ly"
       },
       "data": [
        {
         "close": {
          "bdata": "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",
          "dtype": "f8"
         },
         "high": {
          "bdata": "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",
          "dtype": "f8"
         },
         "low": {
          "bdata": "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",
          "dtype": "f8"
         },
         "name": "Time Bars",
         "open": {
          "bdata": "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",
          "dtype": "f8"
         },
         "type": "candlestick",
         "x": [
          "2025-07-14T09:30:00",
          "2025-07-14T09:31:00",
          "2025-07-14T09:32:00",
          "2025-07-14T09:33:00",
          "2025-07-14T09:34:00",
          "2025-07-14T09:35:00",
          "2025-07-14T09:36:00",
          "2025-07-14T09:37:00",
          "2025-07-14T09:38:00",
          "2025-07-14T09:39:00",
          "2025-07-14T09:40:00",
          "2025-07-14T09:41:00",
          "2025-07-14T09:42:00",
          "2025-07-14T09:43:00",
          "2025-07-14T09:44:00",
          "2025-07-14T09:45:00",
          "2025-07-14T09:46:00",
          "2025-07-14T09:47:00",
          "2025-07-14T09:48:00",
          "2025-07-14T09:49:00",
          "2025-07-14T09:50:00",
          "2025-07-14T09:51:00",
          "2025-07-14T09:52:00",
          "2025-07-14T09:53:00",
          "2025-07-14T09:54:00",
          "2025-07-14T09:55:00",
          "2025-07-14T09:56:00",
          "2025-07-14T09:57:00",
          "2025-07-14T09:58:00",
          "2025-07-14T09:59:00",
          "2025-07-14T10:00:00",
          "2025-07-14T10:01:00",
          "2025-07-14T10:02:00",
          "2025-07-14T10:03:00",
          "2025-07-14T10:04:00",
          "2025-07-14T10:05:00",
          "2025-07-14T10:06:00",
          "2025-07-14T10:07:00",
          "2025-07-14T10:08:00",
          "2025-07-14T10:09:00",
          "2025-07-14T10:10:00",
          "2025-07-14T10:11:00",
          "2025-07-14T10:12:00",
          "2025-07-14T10:13:00",
          "2025-07-14T10:14:00",
          "2025-07-14T10:15:00",
          "2025-07-14T10:16:00",
          "2025-07-14T10:17:00",
          "2025-07-14T10:18:00",
          "2025-07-14T10:19:00",
          "2025-07-14T10:20:00",
          "2025-07-14T10:21:00",
          "2025-07-14T10:22:00",
          "2025-07-14T10:23:00",
          "2025-07-14T10:24:00",
          "2025-07-14T10:25:00",
          "2025-07-14T10:26:00",
          "2025-07-14T10:27:00",
          "2025-07-14T10:28:00",
          "2025-07-14T10:29:00",
          "2025-07-14T10:30:00",
          "2025-07-14T10:31:00",
          "2025-07-14T10:32:00",
          "2025-07-14T10:33:00",
          "2025-07-14T10:34:00",
          "2025-07-14T10:35:00",
          "2025-07-14T10:36:00",
          "2025-07-14T10:37:00",
          "2025-07-14T10:38:00",
          "2025-07-14T10:39:00",
          "2025-07-14T10:40:00",
          "2025-07-14T10:41:00",
          "2025-07-14T10:42:00",
          "2025-07-14T10:43:00",
          "2025-07-14T10:44:00",
          "2025-07-14T10:45:00",
          "2025-07-14T10:46:00",
          "2025-07-14T10:47:00",
          "2025-07-14T10:48:00",
          "2025-07-14T10:49:00",
          "2025-07-14T10:50:00",
          "2025-07-14T10:51:00",
          "2025-07-14T10:52:00",
          "2025-07-14T10:53:00",
          "2025-07-14T10:54:00",
          "2025-07-14T10:55:00",
          "2025-07-14T10:56:00",
          "2025-07-14T10:57:00",
          "2025-07-14T10:58:00",
          "2025-07-14T10:59:00",
          "2025-07-14T11:00:00",
          "2025-07-14T11:01:00",
          "2025-07-14T11:02:00",
          "2025-07-14T11:03:00",
          "2025-07-14T11:04:00",
          "2025-07-14T11:05:00",
          "2025-07-14T11:06:00",
          "2025-07-14T11:07:00",
          "2025-07-14T11:08:00",
          "2025-07-14T11:09:00",
          "2025-07-14T11:10:00",
          "2025-07-14T11:11:00",
          "2025-07-14T11:12:00",
          "2025-07-14T11:13:00",
          "2025-07-14T11:14:00",
          "2025-07-14T11:15:00",
          "2025-07-14T11:16:00",
          "2025-07-14T11:17:00",
          "2025-07-14T11:18:00",
          "2025-07-14T11:19:00",
          "2025-07-14T11:20:00",
          "2025-07-14T11:21:00",
          "2025-07-14T11:22:00",
          "2025-07-14T11:23:00",
          "2025-07-14T11:24:00",
          "2025-07-14T11:25:00",
          "2025-07-14T11:26:00",
          "2025-07-14T11:27:00",
          "2025-07-14T11:28:00",
          "2025-07-14T11:29:00",
          "2025-07-14T11:30:00",
          "2025-07-14T11:31:00",
          "2025-07-14T11:32:00",
          "2025-07-14T11:33:00",
          "2025-07-14T11:34:00",
          "2025-07-14T11:35:00",
          "2025-07-14T11:36:00",
          "2025-07-14T11:37:00",
          "2025-07-14T11:38:00",
          "2025-07-14T11:39:00",
          "2025-07-14T11:40:00",
          "2025-07-14T11:41:00",
          "2025-07-14T11:42:00",
          "2025-07-14T11:43:00",
          "2025-07-14T11:44:00",
          "2025-07-14T11:45:00",
          "2025-07-14T11:46:00",
          "2025-07-14T11:47:00",
          "2025-07-14T11:48:00",
          "2025-07-14T11:49:00",
          "2025-07-14T11:50:00",
          "2025-07-14T11:51:00",
          "2025-07-14T11:52:00",
          "2025-07-14T11:53:00",
          "2025-07-14T11:54:00",
          "2025-07-14T11:55:00",
          "2025-07-14T11:56:00",
          "2025-07-14T11:57:00",
          "2025-07-14T11:58:00",
          "2025-07-14T11:59:00",
          "2025-07-14T12:00:00",
          "2025-07-14T12:01:00",
          "2025-07-14T12:02:00",
          "2025-07-14T12:03:00",
          "2025-07-14T12:04:00",
          "2025-07-14T12:05:00",
          "2025-07-14T12:06:00",
          "2025-07-14T12:07:00",
          "2025-07-14T12:08:00",
          "2025-07-14T12:09:00",
          "2025-07-14T12:10:00",
          "2025-07-14T12:11:00",
          "2025-07-14T12:12:00",
          "2025-07-14T12:13:00",
          "2025-07-14T12:14:00",
          "2025-07-14T12:15:00",
          "2025-07-14T12:16:00",
          "2025-07-14T12:17:00",
          "2025-07-14T12:18:00",
          "2025-07-14T12:19:00",
          "2025-07-14T12:20:00",
          "2025-07-14T12:21:00",
          "2025-07-14T12:22:00",
          "2025-07-14T12:23:00",
          "2025-07-14T12:24:00",
          "2025-07-14T12:25:00",
          "2025-07-14T12:26:00",
          "2025-07-14T12:27:00",
          "2025-07-14T12:28:00",
          "2025-07-14T12:29:00",
          "2025-07-14T12:30:00",
          "2025-07-14T12:31:00",
          "2025-07-14T12:32:00",
          "2025-07-14T12:33:00",
          "2025-07-14T12:34:00",
          "2025-07-14T12:35:00",
          "2025-07-14T12:36:00",
          "2025-07-14T12:37:00",
          "2025-07-14T12:38:00",
          "2025-07-14T12:39:00",
          "2025-07-14T12:40:00",
          "2025-07-14T12:41:00",
          "2025-07-14T12:42:00",
          "2025-07-14T12:43:00",
          "2025-07-14T12:44:00",
          "2025-07-14T12:45:00",
          "2025-07-14T12:46:00",
          "2025-07-14T12:47:00",
          "2025-07-14T12:48:00",
          "2025-07-14T12:49:00",
          "2025-07-14T12:50:00",
          "2025-07-14T12:51:00",
          "2025-07-14T12:52:00",
          "2025-07-14T12:53:00",
          "2025-07-14T12:54:00",
          "2025-07-14T12:55:00",
          "2025-07-14T12:56:00",
          "2025-07-14T12:57:00",
          "2025-07-14T12:58:00",
          "2025-07-14T12:59:00",
          "2025-07-14T13:00:00",
          "2025-07-14T13:01:00",
          "2025-07-14T13:02:00",
          "2025-07-14T13:03:00",
          "2025-07-14T13:04:00",
          "2025-07-14T13:05:00",
          "2025-07-14T13:06:00",
          "2025-07-14T13:07:00",
          "2025-07-14T13:08:00",
          "2025-07-14T13:09:00",
          "2025-07-14T13:10:00",
          "2025-07-14T13:11:00",
          "2025-07-14T13:12:00",
          "2025-07-14T13:13:00",
          "2025-07-14T13:14:00",
          "2025-07-14T13:15:00",
          "2025-07-14T13:16:00",
          "2025-07-14T13:17:00",
          "2025-07-14T13:18:00",
          "2025-07-14T13:19:00",
          "2025-07-14T13:20:00",
          "2025-07-14T13:21:00",
          "2025-07-14T13:22:00",
          "2025-07-14T13:23:00",
          "2025-07-14T13:24:00",
          "2025-07-14T13:25:00",
          "2025-07-14T13:26:00",
          "2025-07-14T13:27:00",
          "2025-07-14T13:28:00",
          "2025-07-14T13:29:00",
          "2025-07-14T13:30:00",
          "2025-07-14T13:31:00",
          "2025-07-14T13:32:00",
          "2025-07-14T13:33:00",
          "2025-07-14T13:34:00",
          "2025-07-14T13:35:00",
          "2025-07-14T13:36:00",
          "2025-07-14T13:37:00",
          "2025-07-14T13:38:00",
          "2025-07-14T13:39:00",
          "2025-07-14T13:40:00",
          "2025-07-14T13:41:00",
          "2025-07-14T13:42:00",
          "2025-07-14T13:43:00",
          "2025-07-14T13:44:00",
          "2025-07-14T13:45:00",
          "2025-07-14T13:46:00",
          "2025-07-14T13:47:00",
          "2025-07-14T13:48:00",
          "2025-07-14T13:49:00",
          "2025-07-14T13:50:00",
          "2025-07-14T13:51:00",
          "2025-07-14T13:52:00",
          "2025-07-14T13:53:00",
          "2025-07-14T13:54:00",
          "2025-07-14T13:55:00",
          "2025-07-14T13:56:00",
          "2025-07-14T13:57:00",
          "2025-07-14T13:58:00",
          "2025-07-14T13:59:00",
          "2025-07-14T14:00:00",
          "2025-07-14T14:01:00",
          "2025-07-14T14:02:00",
          "2025-07-14T14:03:00",
          "2025-07-14T14:04:00",
          "2025-07-14T14:05:00",
          "2025-07-14T14:06:00",
          "2025-07-14T14:07:00",
          "2025-07-14T14:08:00",
          "2025-07-14T14:09:00",
          "2025-07-14T14:10:00",
          "2025-07-14T14:11:00",
          "2025-07-14T14:12:00",
          "2025-07-14T14:13:00",
          "2025-07-14T14:14:00",
          "2025-07-14T14:15:00",
          "2025-07-14T14:16:00",
          "2025-07-14T14:17:00",
          "2025-07-14T14:18:00",
          "2025-07-14T14:19:00",
          "2025-07-14T14:20:00",
          "2025-07-14T14:21:00",
          "2025-07-14T14:22:00",
          "2025-07-14T14:23:00",
          "2025-07-14T14:24:00",
          "2025-07-14T14:25:00",
          "2025-07-14T14:26:00",
          "2025-07-14T14:27:00",
          "2025-07-14T14:28:00",
          "2025-07-14T14:29:00",
          "2025-07-14T14:30:00",
          "2025-07-14T14:31:00",
          "2025-07-14T14:32:00",
          "2025-07-14T14:33:00",
          "2025-07-14T14:34:00",
          "2025-07-14T14:35:00",
          "2025-07-14T14:36:00",
          "2025-07-14T14:37:00",
          "2025-07-14T14:38:00",
          "2025-07-14T14:39:00",
          "2025-07-14T14:40:00",
          "2025-07-14T14:41:00",
          "2025-07-14T14:42:00",
          "2025-07-14T14:43:00",
          "2025-07-14T14:44:00",
          "2025-07-14T14:45:00",
          "2025-07-14T14:46:00",
          "2025-07-14T14:47:00",
          "2025-07-14T14:48:00",
          "2025-07-14T14:49:00",
          "2025-07-14T14:50:00",
          "2025-07-14T14:51:00",
          "2025-07-14T14:52:00",
          "2025-07-14T14:53:00",
          "2025-07-14T14:54:00",
          "2025-07-14T14:55:00",
          "2025-07-14T14:56:00",
          "2025-07-14T14:57:00",
          "2025-07-14T14:58:00",
          "2025-07-14T14:59:00",
          "2025-07-14T15:00:00",
          "2025-07-14T15:01:00",
          "2025-07-14T15:02:00",
          "2025-07-14T15:03:00",
          "2025-07-14T15:04:00",
          "2025-07-14T15:05:00",
          "2025-07-14T15:06:00",
          "2025-07-14T15:07:00",
          "2025-07-14T15:08:00",
          "2025-07-14T15:09:00",
          "2025-07-14T15:10:00",
          "2025-07-14T15:11:00",
          "2025-07-14T15:12:00",
          "2025-07-14T15:13:00",
          "2025-07-14T15:14:00",
          "2025-07-14T15:15:00",
          "2025-07-14T15:16:00",
          "2025-07-14T15:17:00",
          "2025-07-14T15:18:00",
          "2025-07-14T15:19:00",
          "2025-07-14T15:20:00",
          "2025-07-14T15:21:00",
          "2025-07-14T15:22:00",
          "2025-07-14T15:23:00",
          "2025-07-14T15:24:00",
          "2025-07-14T15:25:00",
          "2025-07-14T15:26:00",
          "2025-07-14T15:27:00",
          "2025-07-14T15:28:00",
          "2025-07-14T15:29:00",
          "2025-07-14T15:30:00",
          "2025-07-14T15:31:00",
          "2025-07-14T15:32:00",
          "2025-07-14T15:33:00",
          "2025-07-14T15:34:00",
          "2025-07-14T15:35:00",
          "2025-07-14T15:36:00",
          "2025-07-14T15:37:00",
          "2025-07-14T15:38:00",
          "2025-07-14T15:39:00",
          "2025-07-14T15:40:00",
          "2025-07-14T15:41:00",
          "2025-07-14T15:42:00",
          "2025-07-14T15:43:00",
          "2025-07-14T15:44:00",
          "2025-07-14T15:45:00",
          "2025-07-14T15:46:00",
          "2025-07-14T15:47:00",
          "2025-07-14T15:48:00",
          "2025-07-14T15:49:00",
          "2025-07-14T15:50:00",
          "2025-07-14T15:51:00",
          "2025-07-14T15:52:00",
          "2025-07-14T15:53:00",
          "2025-07-14T15:54:00",
          "2025-07-14T15:55:00",
          "2025-07-14T15:56:00",
          "2025-07-14T15:57:00",
          "2025-07-14T15:58:00",
          "2025-07-14T15:59:00"
         ]
        }
       ],
       "layout": {
        "showlegend": true,
        "template": {
         "data": {
          "bar": [
           {
            "error_x": {
             "color": "rgb(36,36,36)"
            },
            "error_y": {
             "color": "rgb(36,36,36)"
            },
            "marker": {
             "line": {
              "color": "rgb(234,234,242)",
              "width": 0.5
             },
             "pattern": {
              "fillmode": "overlay",
              "size": 10,
              "solidity": 0.2
             }
            },
            "type": "bar"
           }
          ],
          "barpolar": [
           {
            "marker": {
             "line": {
              "color": "rgb(234,234,242)",
              "width": 0.5
             },
             "pattern": {
              "fillmode": "overlay",
              "size": 10,
              "solidity": 0.2
             }
            },
            "type": "barpolar"
           }
          ],
          "carpet": [
           {
            "aaxis": {
             "endlinecolor": "rgb(36,36,36)",
             "gridcolor": "white",
             "linecolor": "white",
             "minorgridcolor": "white",
             "startlinecolor": "rgb(36,36,36)"
            },
            "baxis": {
             "endlinecolor": "rgb(36,36,36)",
             "gridcolor": "white",
             "linecolor": "white",
             "minorgridcolor": "white",
             "startlinecolor": "rgb(36,36,36)"
            },
            "type": "carpet"
           }
          ],
          "choropleth": [
           {
            "colorbar": {
             "outlinewidth": 0,
             "tickcolor": "rgb(36,36,36)",
             "ticklen": 8,
             "ticks": "outside",
             "tickwidth": 2
            },
            "type": "choropleth"
           }
          ],
          "contour": [
           {
            "colorbar": {
             "outlinewidth": 0,
             "tickcolor": "rgb(36,36,36)",
             "ticklen": 8,
             "ticks": "outside",
             "tickwidth": 2
            },
            "colorscale": [
             [
              0,
              "rgb(2,4,25)"
             ],
             [
              0.06274509803921569,
              "rgb(24,15,41)"
             ],
             [
              0.12549019607843137,
              "rgb(47,23,57)"
             ],
             [
              0.18823529411764706,
              "rgb(71,28,72)"
             ],
             [
              0.25098039215686274,
              "rgb(97,30,82)"
             ],
             [
              0.3137254901960784,
              "rgb(123,30,89)"
             ],
             [
              0.3764705882352941,
              "rgb(150,27,91)"
             ],
             [
              0.4392156862745098,
              "rgb(177,22,88)"
             ],
             [
              0.5019607843137255,
              "rgb(203,26,79)"
             ],
             [
              0.5647058823529412,
              "rgb(223,47,67)"
             ],
             [
              0.6274509803921569,
              "rgb(236,76,61)"
             ],
             [
              0.6901960784313725,
              "rgb(242,107,73)"
             ],
             [
              0.7529411764705882,
              "rgb(244,135,95)"
             ],
             [
              0.8156862745098039,
              "rgb(245,162,122)"
             ],
             [
              0.8784313725490196,
              "rgb(246,188,153)"
             ],
             [
              0.9411764705882353,
              "rgb(247,212,187)"
             ],
             [
              1,
              "rgb(250,234,220)"
             ]
            ],
            "type": "contour"
           }
          ],
          "contourcarpet": [
           {
            "colorbar": {
             "outlinewidth": 0,
             "tickcolor": "rgb(36,36,36)",
             "ticklen": 8,
             "ticks": "outside",
             "tickwidth": 2
            },
            "type": "contourcarpet"
           }
          ],
          "heatmap": [
           {
            "colorbar": {
             "outlinewidth": 0,
             "tickcolor": "rgb(36,36,36)",
             "ticklen": 8,
             "ticks": "outside",
             "tickwidth": 2
            },
            "colorscale": [
             [
              0,
              "rgb(2,4,25)"
             ],
             [
              0.06274509803921569,
              "rgb(24,15,41)"
             ],
             [
              0.12549019607843137,
              "rgb(47,23,57)"
             ],
             [
              0.18823529411764706,
              "rgb(71,28,72)"
             ],
             [
              0.25098039215686274,
              "rgb(97,30,82)"
             ],
             [
              0.3137254901960784,
              "rgb(123,30,89)"
             ],
             [
              0.3764705882352941,
              "rgb(150,27,91)"
             ],
             [
              0.4392156862745098,
              "rgb(177,22,88)"
             ],
             [
              0.5019607843137255,
              "rgb(203,26,79)"
             ],
             [
              0.5647058823529412,
              "rgb(223,47,67)"
             ],
             [
              0.6274509803921569,
              "rgb(236,76,61)"
             ],
             [
              0.6901960784313725,
              "rgb(242,107,73)"
             ],
             [
              0.7529411764705882,
              "rgb(244,135,95)"
             ],
             [
              0.8156862745098039,
              "rgb(245,162,122)"
             ],
             [
              0.8784313725490196,
              "rgb(246,188,153)"
             ],
             [
              0.9411764705882353,
              "rgb(247,212,187)"
             ],
             [
              1,
              "rgb(250,234,220)"
             ]
            ],
            "type": "heatmap"
           }
          ],
          "histogram": [
           {
            "marker": {
             "pattern": {
              "fillmode": "overlay",
              "size": 10,
              "solidity": 0.2
             }
            },
            "type": "histogram"
           }
          ],
          "histogram2d": [
           {
            "colorbar": {
             "outlinewidth": 0,
             "tickcolor": "rgb(36,36,36)",
             "ticklen": 8,
             "ticks": "outside",
             "tickwidth": 2
            },
            "colorscale": [
             [
              0,
              "rgb(2,4,25)"
             ],
             [
              0.06274509803921569,
              "rgb(24,15,41)"
             ],
             [
              0.12549019607843137,
              "rgb(47,23,57)"
             ],
             [
              0.18823529411764706,
              "rgb(71,28,72)"
             ],
             [
              0.25098039215686274,
              "rgb(97,30,82)"
             ],
             [
              0.3137254901960784,
              "rgb(123,30,89)"
             ],
             [
              0.3764705882352941,
              "rgb(150,27,91)"
             ],
             [
              0.4392156862745098,
              "rgb(177,22,88)"
             ],
             [
              0.5019607843137255,
              "rgb(203,26,79)"
             ],
             [
              0.5647058823529412,
              "rgb(223,47,67)"
             ],
             [
              0.6274509803921569,
              "rgb(236,76,61)"
             ],
             [
              0.6901960784313725,
              "rgb(242,107,73)"
             ],
             [
              0.7529411764705882,
              "rgb(244,135,95)"
             ],
             [
              0.8156862745098039,
              "rgb(245,162,122)"
             ],
             [
              0.8784313725490196,
              "rgb(246,188,153)"
             ],
             [
              0.9411764705882353,
              "rgb(247,212,187)"
             ],
             [
              1,
              "rgb(250,234,220)"
             ]
            ],
            "type": "histogram2d"
           }
          ],
          "histogram2dcontour": [
           {
            "colorbar": {
             "outlinewidth": 0,
             "tickcolor": "rgb(36,36,36)",
             "ticklen": 8,
             "ticks": "outside",
             "tickwidth": 2
            },
            "colorscale": [
             [
              0,
              "rgb(2,4,25)"
             ],
             [
              0.06274509803921569,
              "rgb(24,15,41)"
             ],
             [
              0.12549019607843137,
              "rgb(47,23,57)"
             ],
             [
              0.18823529411764706,
              "rgb(71,28,72)"
             ],
             [
              0.25098039215686274,
              "rgb(97,30,82)"
             ],
             [
              0.3137254901960784,
              "rgb(123,30,89)"
             ],
             [
              0.3764705882352941,
              "rgb(150,27,91)"
             ],
             [
              0.4392156862745098,
              "rgb(177,22,88)"
             ],
             [
              0.5019607843137255,
              "rgb(203,26,79)"
             ],
             [
              0.5647058823529412,
              "rgb(223,47,67)"
             ],
             [
              0.6274509803921569,
              "rgb(236,76,61)"
             ],
             [
              0.6901960784313725,
              "rgb(242,107,73)"
             ],
             [
              0.7529411764705882,
              "rgb(244,135,95)"
             ],
             [
              0.8156862745098039,
              "rgb(245,162,122)"
             ],
             [
              0.8784313725490196,
              "rgb(246,188,153)"
             ],
             [
              0.9411764705882353,
              "rgb(247,212,187)"
             ],
             [
              1,
              "rgb(250,234,220)"
             ]
            ],
            "type": "histogram2dcontour"
           }
          ],
          "mesh3d": [
           {
            "colorbar": {
             "outlinewidth": 0,
             "tickcolor": "rgb(36,36,36)",
             "ticklen": 8,
             "ticks": "outside",
             "tickwidth": 2
            },
            "type": "mesh3d"
           }
          ],
          "parcoords": [
           {
            "line": {
             "colorbar": {
              "outlinewidth": 0,
              "tickcolor": "rgb(36,36,36)",
              "ticklen": 8,
              "ticks": "outside",
              "tickwidth": 2
             }
            },
            "type": "parcoords"
           }
          ],
          "pie": [
           {
            "automargin": true,
            "type": "pie"
           }
          ],
          "scatter": [
           {
            "fillpattern": {
             "fillmode": "overlay",
             "size": 10,
             "solidity": 0.2
            },
            "type": "scatter"
           }
          ],
          "scatter3d": [
           {
            "line": {
             "colorbar": {
              "outlinewidth": 0,
              "tickcolor": "rgb(36,36,36)",
              "ticklen": 8,
              "ticks": "outside",
              "tickwidth": 2
             }
            },
            "marker": {
             "colorbar": {
              "outlinewidth": 0,
              "tickcolor": "rgb(36,36,36)",
              "ticklen": 8,
              "ticks": "outside",
              "tickwidth": 2
             }
            },
            "type": "scatter3d"
           }
          ],
          "scattercarpet": [
           {
            "marker": {
             "colorbar": {
              "outlinewidth": 0,
              "tickcolor": "rgb(36,36,36)",
              "ticklen": 8,
              "ticks": "outside",
              "tickwidth": 2
             }
            },
            "type": "scattercarpet"
           }
          ],
          "scattergeo": [
           {
            "marker": {
             "colorbar": {
              "outlinewidth": 0,
              "tickcolor": "rgb(36,36,36)",
              "ticklen": 8,
              "ticks": "outside",
              "tickwidth": 2
             }
            },
            "type": "scattergeo"
           }
          ],
          "scattergl": [
           {
            "marker": {
             "colorbar": {
              "outlinewidth": 0,
              "tickcolor": "rgb(36,36,36)",
              "ticklen": 8,
              "ticks": "outside",
              "tickwidth": 2
             }
            },
            "type": "scattergl"
           }
          ],
          "scattermap": [
           {
            "marker": {
             "colorbar": {
              "outlinewidth": 0,
              "tickcolor": "rgb(36,36,36)",
              "ticklen": 8,
              "ticks": "outside",
              "tickwidth": 2
             }
            },
            "type": "scattermap"
           }
          ],
          "scattermapbox": [
           {
            "marker": {
             "colorbar": {
              "outlinewidth": 0,
              "tickcolor": "rgb(36,36,36)",
              "ticklen": 8,
              "ticks": "outside",
              "tickwidth": 2
             }
            },
            "type": "scattermapbox"
           }
          ],
          "scatterpolar": [
           {
            "marker": {
             "colorbar": {
              "outlinewidth": 0,
              "tickcolor": "rgb(36,36,36)",
              "ticklen": 8,
              "ticks": "outside",
              "tickwidth": 2
             }
            },
            "type": "scatterpolar"
           }
          ],
          "scatterpolargl": [
           {
            "marker": {
             "colorbar": {
              "outlinewidth": 0,
              "tickcolor": "rgb(36,36,36)",
              "ticklen": 8,
              "ticks": "outside",
              "tickwidth": 2
             }
            },
            "type": "scatterpolargl"
           }
          ],
          "scatterternary": [
           {
            "marker": {
             "colorbar": {
              "outlinewidth": 0,
              "tickcolor": "rgb(36,36,36)",
              "ticklen": 8,
              "ticks": "outside",
              "tickwidth": 2
             }
            },
            "type": "scatterternary"
           }
          ],
          "surface": [
           {
            "colorbar": {
             "outlinewidth": 0,
             "tickcolor": "rgb(36,36,36)",
             "ticklen": 8,
             "ticks": "outside",
             "tickwidth": 2
            },
            "colorscale": [
             [
              0,
              "rgb(2,4,25)"
             ],
             [
              0.06274509803921569,
              "rgb(24,15,41)"
             ],
             [
              0.12549019607843137,
              "rgb(47,23,57)"
             ],
             [
              0.18823529411764706,
              "rgb(71,28,72)"
             ],
             [
              0.25098039215686274,
              "rgb(97,30,82)"
             ],
             [
              0.3137254901960784,
              "rgb(123,30,89)"
             ],
             [
              0.3764705882352941,
              "rgb(150,27,91)"
             ],
             [
              0.4392156862745098,
              "rgb(177,22,88)"
             ],
             [
              0.5019607843137255,
              "rgb(203,26,79)"
             ],
             [
              0.5647058823529412,
              "rgb(223,47,67)"
             ],
             [
              0.6274509803921569,
              "rgb(236,76,61)"
             ],
             [
              0.6901960784313725,
              "rgb(242,107,73)"
             ],
             [
              0.7529411764705882,
              "rgb(244,135,95)"
             ],
             [
              0.8156862745098039,
              "rgb(245,162,122)"
             ],
             [
              0.8784313725490196,
              "rgb(246,188,153)"
             ],
             [
              0.9411764705882353,
              "rgb(247,212,187)"
             ],
             [
              1,
              "rgb(250,234,220)"
             ]
            ],
            "type": "surface"
           }
          ],
          "table": [
           {
            "cells": {
             "fill": {
              "color": "rgb(231,231,240)"
             },
             "line": {
              "color": "white"
             }
            },
            "header": {
             "fill": {
              "color": "rgb(183,183,191)"
             },
             "line": {
              "color": "white"
             }
            },
            "type": "table"
           }
          ]
         },
         "layout": {
          "annotationdefaults": {
           "arrowcolor": "rgb(67,103,167)"
          },
          "autotypenumbers": "strict",
          "coloraxis": {
           "colorbar": {
            "outlinewidth": 0,
            "tickcolor": "rgb(36,36,36)",
            "ticklen": 8,
            "ticks": "outside",
            "tickwidth": 2
           }
          },
          "colorscale": {
           "sequential": [
            [
             0,
             "rgb(2,4,25)"
            ],
            [
             0.06274509803921569,
             "rgb(24,15,41)"
            ],
            [
             0.12549019607843137,
             "rgb(47,23,57)"
            ],
            [
             0.18823529411764706,
             "rgb(71,28,72)"
            ],
            [
             0.25098039215686274,
             "rgb(97,30,82)"
            ],
            [
             0.3137254901960784,
             "rgb(123,30,89)"
            ],
            [
             0.3764705882352941,
             "rgb(150,27,91)"
            ],
            [
             0.4392156862745098,
             "rgb(177,22,88)"
            ],
            [
             0.5019607843137255,
             "rgb(203,26,79)"
            ],
            [
             0.5647058823529412,
             "rgb(223,47,67)"
            ],
            [
             0.6274509803921569,
             "rgb(236,76,61)"
            ],
            [
             0.6901960784313725,
             "rgb(242,107,73)"
            ],
            [
             0.7529411764705882,
             "rgb(244,135,95)"
            ],
            [
             0.8156862745098039,
             "rgb(245,162,122)"
            ],
            [
             0.8784313725490196,
             "rgb(246,188,153)"
            ],
            [
             0.9411764705882353,
             "rgb(247,212,187)"
            ],
            [
             1,
             "rgb(250,234,220)"
            ]
           ],
           "sequentialminus": [
            [
             0,
             "rgb(2,4,25)"
            ],
            [
             0.06274509803921569,
             "rgb(24,15,41)"
            ],
            [
             0.12549019607843137,
             "rgb(47,23,57)"
            ],
            [
             0.18823529411764706,
             "rgb(71,28,72)"
            ],
            [
             0.25098039215686274,
             "rgb(97,30,82)"
            ],
            [
             0.3137254901960784,
             "rgb(123,30,89)"
            ],
            [
             0.3764705882352941,
             "rgb(150,27,91)"
            ],
            [
             0.4392156862745098,
             "rgb(177,22,88)"
            ],
            [
             0.5019607843137255,
             "rgb(203,26,79)"
            ],
            [
             0.5647058823529412,
             "rgb(223,47,67)"
            ],
            [
             0.6274509803921569,
             "rgb(236,76,61)"
            ],
            [
             0.6901960784313725,
             "rgb(242,107,73)"
            ],
            [
             0.7529411764705882,
             "rgb(244,135,95)"
            ],
            [
             0.8156862745098039,
             "rgb(245,162,122)"
            ],
            [
             0.8784313725490196,
             "rgb(246,188,153)"
            ],
            [
             0.9411764705882353,
             "rgb(247,212,187)"
            ],
            [
             1,
             "rgb(250,234,220)"
            ]
           ]
          },
          "colorway": [
           "rgb(76,114,176)",
           "rgb(221,132,82)",
           "rgb(85,168,104)",
           "rgb(196,78,82)",
           "rgb(129,114,179)",
           "rgb(147,120,96)",
           "rgb(218,139,195)",
           "rgb(140,140,140)",
           "rgb(204,185,116)",
           "rgb(100,181,205)"
          ],
          "font": {
           "color": "rgb(36,36,36)"
          },
          "geo": {
           "bgcolor": "white",
           "lakecolor": "white",
           "landcolor": "rgb(234,234,242)",
           "showlakes": true,
           "showland": true,
           "subunitcolor": "white"
          },
          "hoverlabel": {
           "align": "left"
          },
          "hovermode": "closest",
          "paper_bgcolor": "white",
          "plot_bgcolor": "rgb(234,234,242)",
          "polar": {
           "angularaxis": {
            "gridcolor": "white",
            "linecolor": "white",
            "showgrid": true,
            "ticks": ""
           },
           "bgcolor": "rgb(234,234,242)",
           "radialaxis": {
            "gridcolor": "white",
            "linecolor": "white",
            "showgrid": true,
            "ticks": ""
           }
          },
          "scene": {
           "xaxis": {
            "backgroundcolor": "rgb(234,234,242)",
            "gridcolor": "white",
            "gridwidth": 2,
            "linecolor": "white",
            "showbackground": true,
            "showgrid": true,
            "ticks": "",
            "zerolinecolor": "white"
           },
           "yaxis": {
            "backgroundcolor": "rgb(234,234,242)",
            "gridcolor": "white",
            "gridwidth": 2,
            "linecolor": "white",
            "showbackground": true,
            "showgrid": true,
            "ticks": "",
            "zerolinecolor": "white"
           },
           "zaxis": {
            "backgroundcolor": "rgb(234,234,242)",
            "gridcolor": "white",
            "gridwidth": 2,
            "linecolor": "white",
            "showbackground": true,
            "showgrid": true,
            "ticks": "",
            "zerolinecolor": "white"
           }
          },
          "shapedefaults": {
           "fillcolor": "rgb(67,103,167)",
           "line": {
            "width": 0
           },
           "opacity": 0.5
          },
          "ternary": {
           "aaxis": {
            "gridcolor": "white",
            "linecolor": "white",
            "showgrid": true,
            "ticks": ""
           },
           "baxis": {
            "gridcolor": "white",
            "linecolor": "white",
            "showgrid": true,
            "ticks": ""
           },
           "bgcolor": "rgb(234,234,242)",
           "caxis": {
            "gridcolor": "white",
            "linecolor": "white",
            "showgrid": true,
            "ticks": ""
           }
          },
          "xaxis": {
           "automargin": true,
           "gridcolor": "white",
           "linecolor": "white",
           "showgrid": true,
           "ticks": "",
           "title": {
            "standoff": 15
           },
           "zerolinecolor": "white"
          },
          "yaxis": {
           "automargin": true,
           "gridcolor": "white",
           "linecolor": "white",
           "showgrid": true,
           "ticks": "",
           "title": {
            "standoff": 15
           },
           "zerolinecolor": "white"
          }
         }
        },
        "title": {
         "text": "Time Bars"
        },
        "xaxis": {
         "rangeslider": {
          "visible": true
         },
         "title": {
          "text": "Bar"
         }
        },
        "yaxis": {
         "title": {
          "text": "Price (USD)"
         }
        }
       }
      }
     },
     "metadata": {},
     "output_type": "display_data"
    }
   ],
   "source": [
    "fig = go.Figure(data=[go.Candlestick(\n",
    "    x=time_bars['start_time'],\n",
    "    open=time_bars['open'],\n",
    "    high=time_bars['high'],\n",
    "    low=time_bars['low'],\n",
    "    close=time_bars['close'],\n",
    "    name='Time Bars'\n",
    ")])\n",
    "\n",
    "fig.update_layout(\n",
    "    title=f'Time Bars',\n",
    "    yaxis_title='Price (USD)',\n",
    "    xaxis_title='Bar',\n",
    "    xaxis_rangeslider_visible=True, \n",
    "    template='seaborn', # other options: plotly, plotly_white, plotly_dark, simple_white\n",
    "    showlegend=True,\n",
    ")"
   ]
  },
  {
   "cell_type": "markdown",
   "id": "19b77922",
   "metadata": {},
   "source": [
    "## Volume bars"
   ]
  },
  {
   "cell_type": "markdown",
   "id": "252ece07",
   "metadata": {},
   "source": [
    "### Bar Chart"
   ]
  },
  {
   "cell_type": "code",
   "execution_count": 234,
   "id": "e331a1b5",
   "metadata": {},
   "outputs": [
    {
     "data": {
      "application/vnd.plotly.v1+json": {
       "config": {
        "plotlyServerURL": "https://plot.ly"
       },
       "data": [
        {
         "close": {
          "bdata": "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",
          "dtype": "f8"
         },
         "high": {
          "bdata": "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",
          "dtype": "f8"
         },
         "low": {
          "bdata": "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",
          "dtype": "f8"
         },
         "name": "Volume Bars",
         "open": {
          "bdata": "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",
          "dtype": "f8"
         },
         "type": "candlestick",
         "x": {
          "bdata": "AAABAAIAAwAEAAUABgAHAAgACQAKAAsADAANAA4ADwAQABEAEgATABQAFQAWABcAGAAZABoAGwAcAB0AHgAfACAAIQAiACMAJAAlACYAJwAoACkAKgArACwALQAuAC8AMAAxADIAMwA0ADUANgA3ADgAOQA6ADsAPAA9AD4APwBAAEEAQgBDAEQARQBGAEcASABJAEoASwBMAE0ATgBPAFAAUQBSAFMAVABVAFYAVwBYAFkAWgBbAFwAXQBeAF8AYABhAGIAYwBkAGUAZgBnAGgAaQBqAGsAbABtAG4AbwBwAHEAcgBzAHQAdQB2AHcAeAB5AHoAewB8AH0AfgB/AIAAgQCCAIMAhACFAIYAhwCIAIkAigCLAIwAjQCOAI8AkACRAJIAkwCUAJUAlgCXAJgAmQCaAJsAnACdAJ4AnwCgAKEAogCjAKQApQCmAKcAqACpAKoAqwCsAK0ArgCvALAAsQCyALMAtAC1ALYAtwC4ALkAugC7ALwAvQC+AL8AwADBAMIAwwDEAMUAxgDHAMgAyQDKAMsAzADNAM4AzwDQANEA0gDTANQA1QDWANcA2ADZANoA2wDcAN0A3gDfAOAA4QDiAOMA5ADlAOYA5wDoAOkA6gDrAOwA7QDuAO8A8ADxAPIA8wD0APUA9gD3APgA+QD6APsA/AD9AP4A/wAAAQEBAgEDAQQBBQEGAQcBCAEJAQoBCwEMAQ0BDgEPARABEQESARMBFAEVARYBFwEYARkBGgEbARwBHQEeAR8BIAEhASIBIwEkASUBJgEnASgBKQEqASsBLAEtAS4BLwEwATEBMgEzATQBNQE2ATcBOAE5AToBOwE8AT0BPgE/AUABQQFCAUMBRAFFAUYBRwFIAUkBSgFLAUwBTQFOAU8BUAFRAVIBUwFUAVUBVgFXAVgBWQFaAVsBXAFdAV4BXwFgAQ==",
          "dtype": "i2"
         }
        }
       ],
       "layout": {
        "showlegend": true,
        "template": {
         "data": {
          "bar": [
           {
            "error_x": {
             "color": "rgb(36,36,36)"
            },
            "error_y": {
             "color": "rgb(36,36,36)"
            },
            "marker": {
             "line": {
              "color": "rgb(234,234,242)",
              "width": 0.5
             },
             "pattern": {
              "fillmode": "overlay",
              "size": 10,
              "solidity": 0.2
             }
            },
            "type": "bar"
           }
          ],
          "barpolar": [
           {
            "marker": {
             "line": {
              "color": "rgb(234,234,242)",
              "width": 0.5
             },
             "pattern": {
              "fillmode": "overlay",
              "size": 10,
              "solidity": 0.2
             }
            },
            "type": "barpolar"
           }
          ],
          "carpet": [
           {
            "aaxis": {
             "endlinecolor": "rgb(36,36,36)",
             "gridcolor": "white",
             "linecolor": "white",
             "minorgridcolor": "white",
             "startlinecolor": "rgb(36,36,36)"
            },
            "baxis": {
             "endlinecolor": "rgb(36,36,36)",
             "gridcolor": "white",
             "linecolor": "white",
             "minorgridcolor": "white",
             "startlinecolor": "rgb(36,36,36)"
            },
            "type": "carpet"
           }
          ],
          "choropleth": [
           {
            "colorbar": {
             "outlinewidth": 0,
             "tickcolor": "rgb(36,36,36)",
             "ticklen": 8,
             "ticks": "outside",
             "tickwidth": 2
            },
            "type": "choropleth"
           }
          ],
          "contour": [
           {
            "colorbar": {
             "outlinewidth": 0,
             "tickcolor": "rgb(36,36,36)",
             "ticklen": 8,
             "ticks": "outside",
             "tickwidth": 2
            },
            "colorscale": [
             [
              0,
              "rgb(2,4,25)"
             ],
             [
              0.06274509803921569,
              "rgb(24,15,41)"
             ],
             [
              0.12549019607843137,
              "rgb(47,23,57)"
             ],
             [
              0.18823529411764706,
              "rgb(71,28,72)"
             ],
             [
              0.25098039215686274,
              "rgb(97,30,82)"
             ],
             [
              0.3137254901960784,
              "rgb(123,30,89)"
             ],
             [
              0.3764705882352941,
              "rgb(150,27,91)"
             ],
             [
              0.4392156862745098,
              "rgb(177,22,88)"
             ],
             [
              0.5019607843137255,
              "rgb(203,26,79)"
             ],
             [
              0.5647058823529412,
              "rgb(223,47,67)"
             ],
             [
              0.6274509803921569,
              "rgb(236,76,61)"
             ],
             [
              0.6901960784313725,
              "rgb(242,107,73)"
             ],
             [
              0.7529411764705882,
              "rgb(244,135,95)"
             ],
             [
              0.8156862745098039,
              "rgb(245,162,122)"
             ],
             [
              0.8784313725490196,
              "rgb(246,188,153)"
             ],
             [
              0.9411764705882353,
              "rgb(247,212,187)"
             ],
             [
              1,
              "rgb(250,234,220)"
             ]
            ],
            "type": "contour"
           }
          ],
          "contourcarpet": [
           {
            "colorbar": {
             "outlinewidth": 0,
             "tickcolor": "rgb(36,36,36)",
             "ticklen": 8,
             "ticks": "outside",
             "tickwidth": 2
            },
            "type": "contourcarpet"
           }
          ],
          "heatmap": [
           {
            "colorbar": {
             "outlinewidth": 0,
             "tickcolor": "rgb(36,36,36)",
             "ticklen": 8,
             "ticks": "outside",
             "tickwidth": 2
            },
            "colorscale": [
             [
              0,
              "rgb(2,4,25)"
             ],
             [
              0.06274509803921569,
              "rgb(24,15,41)"
             ],
             [
              0.12549019607843137,
              "rgb(47,23,57)"
             ],
             [
              0.18823529411764706,
              "rgb(71,28,72)"
             ],
             [
              0.25098039215686274,
              "rgb(97,30,82)"
             ],
             [
              0.3137254901960784,
              "rgb(123,30,89)"
             ],
             [
              0.3764705882352941,
              "rgb(150,27,91)"
             ],
             [
              0.4392156862745098,
              "rgb(177,22,88)"
             ],
             [
              0.5019607843137255,
              "rgb(203,26,79)"
             ],
             [
              0.5647058823529412,
              "rgb(223,47,67)"
             ],
             [
              0.6274509803921569,
              "rgb(236,76,61)"
             ],
             [
              0.6901960784313725,
              "rgb(242,107,73)"
             ],
             [
              0.7529411764705882,
              "rgb(244,135,95)"
             ],
             [
              0.8156862745098039,
              "rgb(245,162,122)"
             ],
             [
              0.8784313725490196,
              "rgb(246,188,153)"
             ],
             [
              0.9411764705882353,
              "rgb(247,212,187)"
             ],
             [
              1,
              "rgb(250,234,220)"
             ]
            ],
            "type": "heatmap"
           }
          ],
          "histogram": [
           {
            "marker": {
             "pattern": {
              "fillmode": "overlay",
              "size": 10,
              "solidity": 0.2
             }
            },
            "type": "histogram"
           }
          ],
          "histogram2d": [
           {
            "colorbar": {
             "outlinewidth": 0,
             "tickcolor": "rgb(36,36,36)",
             "ticklen": 8,
             "ticks": "outside",
             "tickwidth": 2
            },
            "colorscale": [
             [
              0,
              "rgb(2,4,25)"
             ],
             [
              0.06274509803921569,
              "rgb(24,15,41)"
             ],
             [
              0.12549019607843137,
              "rgb(47,23,57)"
             ],
             [
              0.18823529411764706,
              "rgb(71,28,72)"
             ],
             [
              0.25098039215686274,
              "rgb(97,30,82)"
             ],
             [
              0.3137254901960784,
              "rgb(123,30,89)"
             ],
             [
              0.3764705882352941,
              "rgb(150,27,91)"
             ],
             [
              0.4392156862745098,
              "rgb(177,22,88)"
             ],
             [
              0.5019607843137255,
              "rgb(203,26,79)"
             ],
             [
              0.5647058823529412,
              "rgb(223,47,67)"
             ],
             [
              0.6274509803921569,
              "rgb(236,76,61)"
             ],
             [
              0.6901960784313725,
              "rgb(242,107,73)"
             ],
             [
              0.7529411764705882,
              "rgb(244,135,95)"
             ],
             [
              0.8156862745098039,
              "rgb(245,162,122)"
             ],
             [
              0.8784313725490196,
              "rgb(246,188,153)"
             ],
             [
              0.9411764705882353,
              "rgb(247,212,187)"
             ],
             [
              1,
              "rgb(250,234,220)"
             ]
            ],
            "type": "histogram2d"
           }
          ],
          "histogram2dcontour": [
           {
            "colorbar": {
             "outlinewidth": 0,
             "tickcolor": "rgb(36,36,36)",
             "ticklen": 8,
             "ticks": "outside",
             "tickwidth": 2
            },
            "colorscale": [
             [
              0,
              "rgb(2,4,25)"
             ],
             [
              0.06274509803921569,
              "rgb(24,15,41)"
             ],
             [
              0.12549019607843137,
              "rgb(47,23,57)"
             ],
             [
              0.18823529411764706,
              "rgb(71,28,72)"
             ],
             [
              0.25098039215686274,
              "rgb(97,30,82)"
             ],
             [
              0.3137254901960784,
              "rgb(123,30,89)"
             ],
             [
              0.3764705882352941,
              "rgb(150,27,91)"
             ],
             [
              0.4392156862745098,
              "rgb(177,22,88)"
             ],
             [
              0.5019607843137255,
              "rgb(203,26,79)"
             ],
             [
              0.5647058823529412,
              "rgb(223,47,67)"
             ],
             [
              0.6274509803921569,
              "rgb(236,76,61)"
             ],
             [
              0.6901960784313725,
              "rgb(242,107,73)"
             ],
             [
              0.7529411764705882,
              "rgb(244,135,95)"
             ],
             [
              0.8156862745098039,
              "rgb(245,162,122)"
             ],
             [
              0.8784313725490196,
              "rgb(246,188,153)"
             ],
             [
              0.9411764705882353,
              "rgb(247,212,187)"
             ],
             [
              1,
              "rgb(250,234,220)"
             ]
            ],
            "type": "histogram2dcontour"
           }
          ],
          "mesh3d": [
           {
            "colorbar": {
             "outlinewidth": 0,
             "tickcolor": "rgb(36,36,36)",
             "ticklen": 8,
             "ticks": "outside",
             "tickwidth": 2
            },
            "type": "mesh3d"
           }
          ],
          "parcoords": [
           {
            "line": {
             "colorbar": {
              "outlinewidth": 0,
              "tickcolor": "rgb(36,36,36)",
              "ticklen": 8,
              "ticks": "outside",
              "tickwidth": 2
             }
            },
            "type": "parcoords"
           }
          ],
          "pie": [
           {
            "automargin": true,
            "type": "pie"
           }
          ],
          "scatter": [
           {
            "fillpattern": {
             "fillmode": "overlay",
             "size": 10,
             "solidity": 0.2
            },
            "type": "scatter"
           }
          ],
          "scatter3d": [
           {
            "line": {
             "colorbar": {
              "outlinewidth": 0,
              "tickcolor": "rgb(36,36,36)",
              "ticklen": 8,
              "ticks": "outside",
              "tickwidth": 2
             }
            },
            "marker": {
             "colorbar": {
              "outlinewidth": 0,
              "tickcolor": "rgb(36,36,36)",
              "ticklen": 8,
              "ticks": "outside",
              "tickwidth": 2
             }
            },
            "type": "scatter3d"
           }
          ],
          "scattercarpet": [
           {
            "marker": {
             "colorbar": {
              "outlinewidth": 0,
              "tickcolor": "rgb(36,36,36)",
              "ticklen": 8,
              "ticks": "outside",
              "tickwidth": 2
             }
            },
            "type": "scattercarpet"
           }
          ],
          "scattergeo": [
           {
            "marker": {
             "colorbar": {
              "outlinewidth": 0,
              "tickcolor": "rgb(36,36,36)",
              "ticklen": 8,
              "ticks": "outside",
              "tickwidth": 2
             }
            },
            "type": "scattergeo"
           }
          ],
          "scattergl": [
           {
            "marker": {
             "colorbar": {
              "outlinewidth": 0,
              "tickcolor": "rgb(36,36,36)",
              "ticklen": 8,
              "ticks": "outside",
              "tickwidth": 2
             }
            },
            "type": "scattergl"
           }
          ],
          "scattermap": [
           {
            "marker": {
             "colorbar": {
              "outlinewidth": 0,
              "tickcolor": "rgb(36,36,36)",
              "ticklen": 8,
              "ticks": "outside",
              "tickwidth": 2
             }
            },
            "type": "scattermap"
           }
          ],
          "scattermapbox": [
           {
            "marker": {
             "colorbar": {
              "outlinewidth": 0,
              "tickcolor": "rgb(36,36,36)",
              "ticklen": 8,
              "ticks": "outside",
              "tickwidth": 2
             }
            },
            "type": "scattermapbox"
           }
          ],
          "scatterpolar": [
           {
            "marker": {
             "colorbar": {
              "outlinewidth": 0,
              "tickcolor": "rgb(36,36,36)",
              "ticklen": 8,
              "ticks": "outside",
              "tickwidth": 2
             }
            },
            "type": "scatterpolar"
           }
          ],
          "scatterpolargl": [
           {
            "marker": {
             "colorbar": {
              "outlinewidth": 0,
              "tickcolor": "rgb(36,36,36)",
              "ticklen": 8,
              "ticks": "outside",
              "tickwidth": 2
             }
            },
            "type": "scatterpolargl"
           }
          ],
          "scatterternary": [
           {
            "marker": {
             "colorbar": {
              "outlinewidth": 0,
              "tickcolor": "rgb(36,36,36)",
              "ticklen": 8,
              "ticks": "outside",
              "tickwidth": 2
             }
            },
            "type": "scatterternary"
           }
          ],
          "surface": [
           {
            "colorbar": {
             "outlinewidth": 0,
             "tickcolor": "rgb(36,36,36)",
             "ticklen": 8,
             "ticks": "outside",
             "tickwidth": 2
            },
            "colorscale": [
             [
              0,
              "rgb(2,4,25)"
             ],
             [
              0.06274509803921569,
              "rgb(24,15,41)"
             ],
             [
              0.12549019607843137,
              "rgb(47,23,57)"
             ],
             [
              0.18823529411764706,
              "rgb(71,28,72)"
             ],
             [
              0.25098039215686274,
              "rgb(97,30,82)"
             ],
             [
              0.3137254901960784,
              "rgb(123,30,89)"
             ],
             [
              0.3764705882352941,
              "rgb(150,27,91)"
             ],
             [
              0.4392156862745098,
              "rgb(177,22,88)"
             ],
             [
              0.5019607843137255,
              "rgb(203,26,79)"
             ],
             [
              0.5647058823529412,
              "rgb(223,47,67)"
             ],
             [
              0.6274509803921569,
              "rgb(236,76,61)"
             ],
             [
              0.6901960784313725,
              "rgb(242,107,73)"
             ],
             [
              0.7529411764705882,
              "rgb(244,135,95)"
             ],
             [
              0.8156862745098039,
              "rgb(245,162,122)"
             ],
             [
              0.8784313725490196,
              "rgb(246,188,153)"
             ],
             [
              0.9411764705882353,
              "rgb(247,212,187)"
             ],
             [
              1,
              "rgb(250,234,220)"
             ]
            ],
            "type": "surface"
           }
          ],
          "table": [
           {
            "cells": {
             "fill": {
              "color": "rgb(231,231,240)"
             },
             "line": {
              "color": "white"
             }
            },
            "header": {
             "fill": {
              "color": "rgb(183,183,191)"
             },
             "line": {
              "color": "white"
             }
            },
            "type": "table"
           }
          ]
         },
         "layout": {
          "annotationdefaults": {
           "arrowcolor": "rgb(67,103,167)"
          },
          "autotypenumbers": "strict",
          "coloraxis": {
           "colorbar": {
            "outlinewidth": 0,
            "tickcolor": "rgb(36,36,36)",
            "ticklen": 8,
            "ticks": "outside",
            "tickwidth": 2
           }
          },
          "colorscale": {
           "sequential": [
            [
             0,
             "rgb(2,4,25)"
            ],
            [
             0.06274509803921569,
             "rgb(24,15,41)"
            ],
            [
             0.12549019607843137,
             "rgb(47,23,57)"
            ],
            [
             0.18823529411764706,
             "rgb(71,28,72)"
            ],
            [
             0.25098039215686274,
             "rgb(97,30,82)"
            ],
            [
             0.3137254901960784,
             "rgb(123,30,89)"
            ],
            [
             0.3764705882352941,
             "rgb(150,27,91)"
            ],
            [
             0.4392156862745098,
             "rgb(177,22,88)"
            ],
            [
             0.5019607843137255,
             "rgb(203,26,79)"
            ],
            [
             0.5647058823529412,
             "rgb(223,47,67)"
            ],
            [
             0.6274509803921569,
             "rgb(236,76,61)"
            ],
            [
             0.6901960784313725,
             "rgb(242,107,73)"
            ],
            [
             0.7529411764705882,
             "rgb(244,135,95)"
            ],
            [
             0.8156862745098039,
             "rgb(245,162,122)"
            ],
            [
             0.8784313725490196,
             "rgb(246,188,153)"
            ],
            [
             0.9411764705882353,
             "rgb(247,212,187)"
            ],
            [
             1,
             "rgb(250,234,220)"
            ]
           ],
           "sequentialminus": [
            [
             0,
             "rgb(2,4,25)"
            ],
            [
             0.06274509803921569,
             "rgb(24,15,41)"
            ],
            [
             0.12549019607843137,
             "rgb(47,23,57)"
            ],
            [
             0.18823529411764706,
             "rgb(71,28,72)"
            ],
            [
             0.25098039215686274,
             "rgb(97,30,82)"
            ],
            [
             0.3137254901960784,
             "rgb(123,30,89)"
            ],
            [
             0.3764705882352941,
             "rgb(150,27,91)"
            ],
            [
             0.4392156862745098,
             "rgb(177,22,88)"
            ],
            [
             0.5019607843137255,
             "rgb(203,26,79)"
            ],
            [
             0.5647058823529412,
             "rgb(223,47,67)"
            ],
            [
             0.6274509803921569,
             "rgb(236,76,61)"
            ],
            [
             0.6901960784313725,
             "rgb(242,107,73)"
            ],
            [
             0.7529411764705882,
             "rgb(244,135,95)"
            ],
            [
             0.8156862745098039,
             "rgb(245,162,122)"
            ],
            [
             0.8784313725490196,
             "rgb(246,188,153)"
            ],
            [
             0.9411764705882353,
             "rgb(247,212,187)"
            ],
            [
             1,
             "rgb(250,234,220)"
            ]
           ]
          },
          "colorway": [
           "rgb(76,114,176)",
           "rgb(221,132,82)",
           "rgb(85,168,104)",
           "rgb(196,78,82)",
           "rgb(129,114,179)",
           "rgb(147,120,96)",
           "rgb(218,139,195)",
           "rgb(140,140,140)",
           "rgb(204,185,116)",
           "rgb(100,181,205)"
          ],
          "font": {
           "color": "rgb(36,36,36)"
          },
          "geo": {
           "bgcolor": "white",
           "lakecolor": "white",
           "landcolor": "rgb(234,234,242)",
           "showlakes": true,
           "showland": true,
           "subunitcolor": "white"
          },
          "hoverlabel": {
           "align": "left"
          },
          "hovermode": "closest",
          "paper_bgcolor": "white",
          "plot_bgcolor": "rgb(234,234,242)",
          "polar": {
           "angularaxis": {
            "gridcolor": "white",
            "linecolor": "white",
            "showgrid": true,
            "ticks": ""
           },
           "bgcolor": "rgb(234,234,242)",
           "radialaxis": {
            "gridcolor": "white",
            "linecolor": "white",
            "showgrid": true,
            "ticks": ""
           }
          },
          "scene": {
           "xaxis": {
            "backgroundcolor": "rgb(234,234,242)",
            "gridcolor": "white",
            "gridwidth": 2,
            "linecolor": "white",
            "showbackground": true,
            "showgrid": true,
            "ticks": "",
            "zerolinecolor": "white"
           },
           "yaxis": {
            "backgroundcolor": "rgb(234,234,242)",
            "gridcolor": "white",
            "gridwidth": 2,
            "linecolor": "white",
            "showbackground": true,
            "showgrid": true,
            "ticks": "",
            "zerolinecolor": "white"
           },
           "zaxis": {
            "backgroundcolor": "rgb(234,234,242)",
            "gridcolor": "white",
            "gridwidth": 2,
            "linecolor": "white",
            "showbackground": true,
            "showgrid": true,
            "ticks": "",
            "zerolinecolor": "white"
           }
          },
          "shapedefaults": {
           "fillcolor": "rgb(67,103,167)",
           "line": {
            "width": 0
           },
           "opacity": 0.5
          },
          "ternary": {
           "aaxis": {
            "gridcolor": "white",
            "linecolor": "white",
            "showgrid": true,
            "ticks": ""
           },
           "baxis": {
            "gridcolor": "white",
            "linecolor": "white",
            "showgrid": true,
            "ticks": ""
           },
           "bgcolor": "rgb(234,234,242)",
           "caxis": {
            "gridcolor": "white",
            "linecolor": "white",
            "showgrid": true,
            "ticks": ""
           }
          },
          "xaxis": {
           "automargin": true,
           "gridcolor": "white",
           "linecolor": "white",
           "showgrid": true,
           "ticks": "",
           "title": {
            "standoff": 15
           },
           "zerolinecolor": "white"
          },
          "yaxis": {
           "automargin": true,
           "gridcolor": "white",
           "linecolor": "white",
           "showgrid": true,
           "ticks": "",
           "title": {
            "standoff": 15
           },
           "zerolinecolor": "white"
          }
         }
        },
        "title": {
         "text": "Volume Bars"
        },
        "xaxis": {
         "rangeslider": {
          "visible": true
         },
         "title": {
          "text": "Bar"
         }
        },
        "yaxis": {
         "title": {
          "text": "Price (USD)"
         }
        }
       }
      }
     },
     "metadata": {},
     "output_type": "display_data"
    }
   ],
   "source": [
    "fig = go.Figure(data=[go.Candlestick(\n",
    "    x=volume_bars.index,\n",
    "    open=volume_bars['open'],\n",
    "    high=volume_bars['high'],\n",
    "    low=volume_bars['low'],\n",
    "    close=volume_bars['close'],\n",
    "    name='Volume Bars'\n",
    ")])\n",
    "\n",
    "fig.update_layout(\n",
    "    title=f'Volume Bars',\n",
    "    yaxis_title='Price (USD)',\n",
    "    xaxis_title='Bar',\n",
    "    xaxis_rangeslider_visible=True, \n",
    "    template='seaborn', # other options: plotly, plotly_white, plotly_dark, simple_white\n",
    "    showlegend=True,\n",
    ")"
   ]
  },
  {
   "cell_type": "markdown",
   "id": "ff92a685",
   "metadata": {},
   "source": [
    "### Time Chart"
   ]
  },
  {
   "cell_type": "code",
   "execution_count": 235,
   "id": "8caa8092",
   "metadata": {},
   "outputs": [
    {
     "data": {
      "application/vnd.plotly.v1+json": {
       "config": {
        "plotlyServerURL": "https://plot.ly"
       },
       "data": [
        {
         "close": {
          "bdata": "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",
          "dtype": "f8"
         },
         "high": {
          "bdata": "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",
          "dtype": "f8"
         },
         "low": {
          "bdata": "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",
          "dtype": "f8"
         },
         "name": "Volume Bars",
         "open": {
          "bdata": "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",
          "dtype": "f8"
         },
         "type": "candlestick",
         "x": [
          "2025-07-14T09:30:24",
          "2025-07-14T09:31:57",
          "2025-07-14T09:32:58",
          "2025-07-14T09:34:35",
          "2025-07-14T09:35:45",
          "2025-07-14T09:37:05",
          "2025-07-14T09:39:07",
          "2025-07-14T09:39:54",
          "2025-07-14T09:40:55",
          "2025-07-14T09:43:40",
          "2025-07-14T09:44:29",
          "2025-07-14T09:45:23",
          "2025-07-14T09:45:52",
          "2025-07-14T09:47:02",
          "2025-07-14T09:48:28",
          "2025-07-14T09:50:20",
          "2025-07-14T09:50:49",
          "2025-07-14T09:51:33",
          "2025-07-14T09:52:18",
          "2025-07-14T09:52:48",
          "2025-07-14T09:53:18",
          "2025-07-14T09:53:58",
          "2025-07-14T09:54:27",
          "2025-07-14T09:55:06",
          "2025-07-14T09:57:09",
          "2025-07-14T09:59:50",
          "2025-07-14T10:01:09",
          "2025-07-14T10:02:55",
          "2025-07-14T10:04:25",
          "2025-07-14T10:05:33",
          "2025-07-14T10:06:14",
          "2025-07-14T10:06:38",
          "2025-07-14T10:07:01",
          "2025-07-14T10:09:10",
          "2025-07-14T10:09:17",
          "2025-07-14T10:09:34",
          "2025-07-14T10:10:13",
          "2025-07-14T10:11:02",
          "2025-07-14T10:12:28",
          "2025-07-14T10:13:27",
          "2025-07-14T10:14:42",
          "2025-07-14T10:15:27",
          "2025-07-14T10:17:33",
          "2025-07-14T10:18:11",
          "2025-07-14T10:19:02",
          "2025-07-14T10:20:08",
          "2025-07-14T10:22:07",
          "2025-07-14T10:22:14",
          "2025-07-14T10:23:05",
          "2025-07-14T10:23:29",
          "2025-07-14T10:23:43",
          "2025-07-14T10:24:17",
          "2025-07-14T10:25:14",
          "2025-07-14T10:26:40",
          "2025-07-14T10:27:14",
          "2025-07-14T10:27:24",
          "2025-07-14T10:27:38",
          "2025-07-14T10:29:45",
          "2025-07-14T10:31:49",
          "2025-07-14T10:32:34",
          "2025-07-14T10:33:58",
          "2025-07-14T10:34:16",
          "2025-07-14T10:34:33",
          "2025-07-14T10:36:13",
          "2025-07-14T10:39:14",
          "2025-07-14T10:39:39",
          "2025-07-14T10:39:51",
          "2025-07-14T10:40:42",
          "2025-07-14T10:41:05",
          "2025-07-14T10:41:59",
          "2025-07-14T10:42:39",
          "2025-07-14T10:42:58",
          "2025-07-14T10:45:41",
          "2025-07-14T10:49:03",
          "2025-07-14T10:49:48",
          "2025-07-14T10:51:20",
          "2025-07-14T10:51:40",
          "2025-07-14T10:52:08",
          "2025-07-14T10:52:38",
          "2025-07-14T10:53:30",
          "2025-07-14T10:53:40",
          "2025-07-14T10:54:18",
          "2025-07-14T10:55:22",
          "2025-07-14T10:55:28",
          "2025-07-14T10:56:34",
          "2025-07-14T10:58:28",
          "2025-07-14T10:59:17",
          "2025-07-14T11:00:01",
          "2025-07-14T11:00:38",
          "2025-07-14T11:02:07",
          "2025-07-14T11:03:06",
          "2025-07-14T11:06:25",
          "2025-07-14T11:07:39",
          "2025-07-14T11:08:24",
          "2025-07-14T11:08:51",
          "2025-07-14T11:09:18",
          "2025-07-14T11:10:04",
          "2025-07-14T11:12:49",
          "2025-07-14T11:13:32",
          "2025-07-14T11:14:28",
          "2025-07-14T11:16:17",
          "2025-07-14T11:17:54",
          "2025-07-14T11:19:03",
          "2025-07-14T11:21:11",
          "2025-07-14T11:23:00",
          "2025-07-14T11:23:28",
          "2025-07-14T11:24:02",
          "2025-07-14T11:24:40",
          "2025-07-14T11:26:10",
          "2025-07-14T11:26:29",
          "2025-07-14T11:27:04",
          "2025-07-14T11:28:10",
          "2025-07-14T11:29:07",
          "2025-07-14T11:29:25",
          "2025-07-14T11:29:58",
          "2025-07-14T11:30:28",
          "2025-07-14T11:31:39",
          "2025-07-14T11:33:14",
          "2025-07-14T11:34:37",
          "2025-07-14T11:36:42",
          "2025-07-14T11:37:18",
          "2025-07-14T11:37:55",
          "2025-07-14T11:40:10",
          "2025-07-14T11:40:53",
          "2025-07-14T11:42:07",
          "2025-07-14T11:42:33",
          "2025-07-14T11:44:08",
          "2025-07-14T11:44:20",
          "2025-07-14T11:44:31",
          "2025-07-14T11:47:29",
          "2025-07-14T11:47:46",
          "2025-07-14T11:50:42",
          "2025-07-14T11:51:14",
          "2025-07-14T11:51:33",
          "2025-07-14T11:51:57",
          "2025-07-14T11:53:04",
          "2025-07-14T11:54:37",
          "2025-07-14T11:55:14",
          "2025-07-14T11:55:42",
          "2025-07-14T11:56:18",
          "2025-07-14T11:57:53",
          "2025-07-14T11:57:59",
          "2025-07-14T11:58:40",
          "2025-07-14T11:59:43",
          "2025-07-14T12:01:11",
          "2025-07-14T12:01:22",
          "2025-07-14T12:01:40",
          "2025-07-14T12:02:27",
          "2025-07-14T12:03:38",
          "2025-07-14T12:04:29",
          "2025-07-14T12:04:54",
          "2025-07-14T12:05:26",
          "2025-07-14T12:06:05",
          "2025-07-14T12:07:54",
          "2025-07-14T12:08:25",
          "2025-07-14T12:09:06",
          "2025-07-14T12:09:40",
          "2025-07-14T12:11:04",
          "2025-07-14T12:12:21",
          "2025-07-14T12:12:47",
          "2025-07-14T12:14:00",
          "2025-07-14T12:14:55",
          "2025-07-14T12:15:24",
          "2025-07-14T12:16:14",
          "2025-07-14T12:17:32",
          "2025-07-14T12:19:52",
          "2025-07-14T12:20:28",
          "2025-07-14T12:21:23",
          "2025-07-14T12:21:44",
          "2025-07-14T12:23:44",
          "2025-07-14T12:26:15",
          "2025-07-14T12:26:42",
          "2025-07-14T12:28:48",
          "2025-07-14T12:29:51",
          "2025-07-14T12:31:02",
          "2025-07-14T12:31:39",
          "2025-07-14T12:34:34",
          "2025-07-14T12:34:47",
          "2025-07-14T12:35:41",
          "2025-07-14T12:37:04",
          "2025-07-14T12:39:29",
          "2025-07-14T12:40:12",
          "2025-07-14T12:41:55",
          "2025-07-14T12:42:16",
          "2025-07-14T12:43:04",
          "2025-07-14T12:44:18",
          "2025-07-14T12:44:57",
          "2025-07-14T12:47:19",
          "2025-07-14T12:47:42",
          "2025-07-14T12:48:59",
          "2025-07-14T12:49:03",
          "2025-07-14T12:50:13",
          "2025-07-14T12:51:58",
          "2025-07-14T12:53:29",
          "2025-07-14T12:54:48",
          "2025-07-14T12:56:39",
          "2025-07-14T12:58:25",
          "2025-07-14T13:00:29",
          "2025-07-14T13:01:12",
          "2025-07-14T13:01:30",
          "2025-07-14T13:02:35",
          "2025-07-14T13:03:34",
          "2025-07-14T13:03:49",
          "2025-07-14T13:06:21",
          "2025-07-14T13:08:09",
          "2025-07-14T13:10:13",
          "2025-07-14T13:10:37",
          "2025-07-14T13:12:05",
          "2025-07-14T13:14:10",
          "2025-07-14T13:14:56",
          "2025-07-14T13:16:17",
          "2025-07-14T13:18:54",
          "2025-07-14T13:20:07",
          "2025-07-14T13:24:16",
          "2025-07-14T13:24:44",
          "2025-07-14T13:25:19",
          "2025-07-14T13:25:31",
          "2025-07-14T13:26:23",
          "2025-07-14T13:26:40",
          "2025-07-14T13:28:13",
          "2025-07-14T13:29:06",
          "2025-07-14T13:29:40",
          "2025-07-14T13:30:02",
          "2025-07-14T13:30:15",
          "2025-07-14T13:30:24",
          "2025-07-14T13:30:28",
          "2025-07-14T13:31:04",
          "2025-07-14T13:32:41",
          "2025-07-14T13:34:12",
          "2025-07-14T13:34:43",
          "2025-07-14T13:35:37",
          "2025-07-14T13:36:06",
          "2025-07-14T13:36:42",
          "2025-07-14T13:38:15",
          "2025-07-14T13:40:38",
          "2025-07-14T13:43:10",
          "2025-07-14T13:43:48",
          "2025-07-14T13:45:15",
          "2025-07-14T13:46:17",
          "2025-07-14T13:47:38",
          "2025-07-14T13:48:59",
          "2025-07-14T13:49:40",
          "2025-07-14T13:50:00",
          "2025-07-14T13:51:59",
          "2025-07-14T13:52:27",
          "2025-07-14T13:53:59",
          "2025-07-14T13:55:52",
          "2025-07-14T13:56:26",
          "2025-07-14T13:56:41",
          "2025-07-14T13:56:52",
          "2025-07-14T13:57:48",
          "2025-07-14T13:58:50",
          "2025-07-14T14:01:03",
          "2025-07-14T14:01:47",
          "2025-07-14T14:03:11",
          "2025-07-14T14:05:14",
          "2025-07-14T14:06:21",
          "2025-07-14T14:07:08",
          "2025-07-14T14:08:52",
          "2025-07-14T14:10:37",
          "2025-07-14T14:11:52",
          "2025-07-14T14:12:29",
          "2025-07-14T14:14:36",
          "2025-07-14T14:16:44",
          "2025-07-14T14:17:33",
          "2025-07-14T14:17:49",
          "2025-07-14T14:19:48",
          "2025-07-14T14:20:25",
          "2025-07-14T14:21:45",
          "2025-07-14T14:21:49",
          "2025-07-14T14:22:16",
          "2025-07-14T14:23:38",
          "2025-07-14T14:25:55",
          "2025-07-14T14:26:54",
          "2025-07-14T14:27:41",
          "2025-07-14T14:29:24",
          "2025-07-14T14:30:04",
          "2025-07-14T14:32:02",
          "2025-07-14T14:33:10",
          "2025-07-14T14:34:38",
          "2025-07-14T14:35:28",
          "2025-07-14T14:36:29",
          "2025-07-14T14:37:30",
          "2025-07-14T14:40:02",
          "2025-07-14T14:41:11",
          "2025-07-14T14:43:56",
          "2025-07-14T14:45:10",
          "2025-07-14T14:46:16",
          "2025-07-14T14:46:44",
          "2025-07-14T14:47:51",
          "2025-07-14T14:48:13",
          "2025-07-14T14:49:18",
          "2025-07-14T14:49:46",
          "2025-07-14T14:50:32",
          "2025-07-14T14:51:50",
          "2025-07-14T14:53:31",
          "2025-07-14T14:54:18",
          "2025-07-14T14:55:34",
          "2025-07-14T14:56:46",
          "2025-07-14T14:58:31",
          "2025-07-14T15:00:02",
          "2025-07-14T15:03:35",
          "2025-07-14T15:05:02",
          "2025-07-14T15:06:14",
          "2025-07-14T15:07:04",
          "2025-07-14T15:07:54",
          "2025-07-14T15:08:42",
          "2025-07-14T15:08:48",
          "2025-07-14T15:09:56",
          "2025-07-14T15:10:53",
          "2025-07-14T15:12:43",
          "2025-07-14T15:14:34",
          "2025-07-14T15:14:47",
          "2025-07-14T15:15:00",
          "2025-07-14T15:16:26",
          "2025-07-14T15:18:02",
          "2025-07-14T15:18:13",
          "2025-07-14T15:19:08",
          "2025-07-14T15:19:38",
          "2025-07-14T15:19:51",
          "2025-07-14T15:21:58",
          "2025-07-14T15:23:52",
          "2025-07-14T15:25:07",
          "2025-07-14T15:26:00",
          "2025-07-14T15:28:34",
          "2025-07-14T15:30:29",
          "2025-07-14T15:32:23",
          "2025-07-14T15:34:47",
          "2025-07-14T15:35:49",
          "2025-07-14T15:36:33",
          "2025-07-14T15:37:07",
          "2025-07-14T15:38:20",
          "2025-07-14T15:40:01",
          "2025-07-14T15:40:20",
          "2025-07-14T15:41:35",
          "2025-07-14T15:43:30",
          "2025-07-14T15:44:09",
          "2025-07-14T15:44:24",
          "2025-07-14T15:45:21",
          "2025-07-14T15:45:46",
          "2025-07-14T15:46:51",
          "2025-07-14T15:47:53",
          "2025-07-14T15:48:56",
          "2025-07-14T15:50:14",
          "2025-07-14T15:51:09",
          "2025-07-14T15:52:37",
          "2025-07-14T15:53:18",
          "2025-07-14T15:53:59",
          "2025-07-14T15:56:45",
          "2025-07-14T15:57:43",
          "2025-07-14T15:57:51",
          "2025-07-14T15:58:58",
          "2025-07-14T15:59:54"
         ]
        }
       ],
       "layout": {
        "showlegend": true,
        "template": {
         "data": {
          "bar": [
           {
            "error_x": {
             "color": "rgb(36,36,36)"
            },
            "error_y": {
             "color": "rgb(36,36,36)"
            },
            "marker": {
             "line": {
              "color": "rgb(234,234,242)",
              "width": 0.5
             },
             "pattern": {
              "fillmode": "overlay",
              "size": 10,
              "solidity": 0.2
             }
            },
            "type": "bar"
           }
          ],
          "barpolar": [
           {
            "marker": {
             "line": {
              "color": "rgb(234,234,242)",
              "width": 0.5
             },
             "pattern": {
              "fillmode": "overlay",
              "size": 10,
              "solidity": 0.2
             }
            },
            "type": "barpolar"
           }
          ],
          "carpet": [
           {
            "aaxis": {
             "endlinecolor": "rgb(36,36,36)",
             "gridcolor": "white",
             "linecolor": "white",
             "minorgridcolor": "white",
             "startlinecolor": "rgb(36,36,36)"
            },
            "baxis": {
             "endlinecolor": "rgb(36,36,36)",
             "gridcolor": "white",
             "linecolor": "white",
             "minorgridcolor": "white",
             "startlinecolor": "rgb(36,36,36)"
            },
            "type": "carpet"
           }
          ],
          "choropleth": [
           {
            "colorbar": {
             "outlinewidth": 0,
             "tickcolor": "rgb(36,36,36)",
             "ticklen": 8,
             "ticks": "outside",
             "tickwidth": 2
            },
            "type": "choropleth"
           }
          ],
          "contour": [
           {
            "colorbar": {
             "outlinewidth": 0,
             "tickcolor": "rgb(36,36,36)",
             "ticklen": 8,
             "ticks": "outside",
             "tickwidth": 2
            },
            "colorscale": [
             [
              0,
              "rgb(2,4,25)"
             ],
             [
              0.06274509803921569,
              "rgb(24,15,41)"
             ],
             [
              0.12549019607843137,
              "rgb(47,23,57)"
             ],
             [
              0.18823529411764706,
              "rgb(71,28,72)"
             ],
             [
              0.25098039215686274,
              "rgb(97,30,82)"
             ],
             [
              0.3137254901960784,
              "rgb(123,30,89)"
             ],
             [
              0.3764705882352941,
              "rgb(150,27,91)"
             ],
             [
              0.4392156862745098,
              "rgb(177,22,88)"
             ],
             [
              0.5019607843137255,
              "rgb(203,26,79)"
             ],
             [
              0.5647058823529412,
              "rgb(223,47,67)"
             ],
             [
              0.6274509803921569,
              "rgb(236,76,61)"
             ],
             [
              0.6901960784313725,
              "rgb(242,107,73)"
             ],
             [
              0.7529411764705882,
              "rgb(244,135,95)"
             ],
             [
              0.8156862745098039,
              "rgb(245,162,122)"
             ],
             [
              0.8784313725490196,
              "rgb(246,188,153)"
             ],
             [
              0.9411764705882353,
              "rgb(247,212,187)"
             ],
             [
              1,
              "rgb(250,234,220)"
             ]
            ],
            "type": "contour"
           }
          ],
          "contourcarpet": [
           {
            "colorbar": {
             "outlinewidth": 0,
             "tickcolor": "rgb(36,36,36)",
             "ticklen": 8,
             "ticks": "outside",
             "tickwidth": 2
            },
            "type": "contourcarpet"
           }
          ],
          "heatmap": [
           {
            "colorbar": {
             "outlinewidth": 0,
             "tickcolor": "rgb(36,36,36)",
             "ticklen": 8,
             "ticks": "outside",
             "tickwidth": 2
            },
            "colorscale": [
             [
              0,
              "rgb(2,4,25)"
             ],
             [
              0.06274509803921569,
              "rgb(24,15,41)"
             ],
             [
              0.12549019607843137,
              "rgb(47,23,57)"
             ],
             [
              0.18823529411764706,
              "rgb(71,28,72)"
             ],
             [
              0.25098039215686274,
              "rgb(97,30,82)"
             ],
             [
              0.3137254901960784,
              "rgb(123,30,89)"
             ],
             [
              0.3764705882352941,
              "rgb(150,27,91)"
             ],
             [
              0.4392156862745098,
              "rgb(177,22,88)"
             ],
             [
              0.5019607843137255,
              "rgb(203,26,79)"
             ],
             [
              0.5647058823529412,
              "rgb(223,47,67)"
             ],
             [
              0.6274509803921569,
              "rgb(236,76,61)"
             ],
             [
              0.6901960784313725,
              "rgb(242,107,73)"
             ],
             [
              0.7529411764705882,
              "rgb(244,135,95)"
             ],
             [
              0.8156862745098039,
              "rgb(245,162,122)"
             ],
             [
              0.8784313725490196,
              "rgb(246,188,153)"
             ],
             [
              0.9411764705882353,
              "rgb(247,212,187)"
             ],
             [
              1,
              "rgb(250,234,220)"
             ]
            ],
            "type": "heatmap"
           }
          ],
          "histogram": [
           {
            "marker": {
             "pattern": {
              "fillmode": "overlay",
              "size": 10,
              "solidity": 0.2
             }
            },
            "type": "histogram"
           }
          ],
          "histogram2d": [
           {
            "colorbar": {
             "outlinewidth": 0,
             "tickcolor": "rgb(36,36,36)",
             "ticklen": 8,
             "ticks": "outside",
             "tickwidth": 2
            },
            "colorscale": [
             [
              0,
              "rgb(2,4,25)"
             ],
             [
              0.06274509803921569,
              "rgb(24,15,41)"
             ],
             [
              0.12549019607843137,
              "rgb(47,23,57)"
             ],
             [
              0.18823529411764706,
              "rgb(71,28,72)"
             ],
             [
              0.25098039215686274,
              "rgb(97,30,82)"
             ],
             [
              0.3137254901960784,
              "rgb(123,30,89)"
             ],
             [
              0.3764705882352941,
              "rgb(150,27,91)"
             ],
             [
              0.4392156862745098,
              "rgb(177,22,88)"
             ],
             [
              0.5019607843137255,
              "rgb(203,26,79)"
             ],
             [
              0.5647058823529412,
              "rgb(223,47,67)"
             ],
             [
              0.6274509803921569,
              "rgb(236,76,61)"
             ],
             [
              0.6901960784313725,
              "rgb(242,107,73)"
             ],
             [
              0.7529411764705882,
              "rgb(244,135,95)"
             ],
             [
              0.8156862745098039,
              "rgb(245,162,122)"
             ],
             [
              0.8784313725490196,
              "rgb(246,188,153)"
             ],
             [
              0.9411764705882353,
              "rgb(247,212,187)"
             ],
             [
              1,
              "rgb(250,234,220)"
             ]
            ],
            "type": "histogram2d"
           }
          ],
          "histogram2dcontour": [
           {
            "colorbar": {
             "outlinewidth": 0,
             "tickcolor": "rgb(36,36,36)",
             "ticklen": 8,
             "ticks": "outside",
             "tickwidth": 2
            },
            "colorscale": [
             [
              0,
              "rgb(2,4,25)"
             ],
             [
              0.06274509803921569,
              "rgb(24,15,41)"
             ],
             [
              0.12549019607843137,
              "rgb(47,23,57)"
             ],
             [
              0.18823529411764706,
              "rgb(71,28,72)"
             ],
             [
              0.25098039215686274,
              "rgb(97,30,82)"
             ],
             [
              0.3137254901960784,
              "rgb(123,30,89)"
             ],
             [
              0.3764705882352941,
              "rgb(150,27,91)"
             ],
             [
              0.4392156862745098,
              "rgb(177,22,88)"
             ],
             [
              0.5019607843137255,
              "rgb(203,26,79)"
             ],
             [
              0.5647058823529412,
              "rgb(223,47,67)"
             ],
             [
              0.6274509803921569,
              "rgb(236,76,61)"
             ],
             [
              0.6901960784313725,
              "rgb(242,107,73)"
             ],
             [
              0.7529411764705882,
              "rgb(244,135,95)"
             ],
             [
              0.8156862745098039,
              "rgb(245,162,122)"
             ],
             [
              0.8784313725490196,
              "rgb(246,188,153)"
             ],
             [
              0.9411764705882353,
              "rgb(247,212,187)"
             ],
             [
              1,
              "rgb(250,234,220)"
             ]
            ],
            "type": "histogram2dcontour"
           }
          ],
          "mesh3d": [
           {
            "colorbar": {
             "outlinewidth": 0,
             "tickcolor": "rgb(36,36,36)",
             "ticklen": 8,
             "ticks": "outside",
             "tickwidth": 2
            },
            "type": "mesh3d"
           }
          ],
          "parcoords": [
           {
            "line": {
             "colorbar": {
              "outlinewidth": 0,
              "tickcolor": "rgb(36,36,36)",
              "ticklen": 8,
              "ticks": "outside",
              "tickwidth": 2
             }
            },
            "type": "parcoords"
           }
          ],
          "pie": [
           {
            "automargin": true,
            "type": "pie"
           }
          ],
          "scatter": [
           {
            "fillpattern": {
             "fillmode": "overlay",
             "size": 10,
             "solidity": 0.2
            },
            "type": "scatter"
           }
          ],
          "scatter3d": [
           {
            "line": {
             "colorbar": {
              "outlinewidth": 0,
              "tickcolor": "rgb(36,36,36)",
              "ticklen": 8,
              "ticks": "outside",
              "tickwidth": 2
             }
            },
            "marker": {
             "colorbar": {
              "outlinewidth": 0,
              "tickcolor": "rgb(36,36,36)",
              "ticklen": 8,
              "ticks": "outside",
              "tickwidth": 2
             }
            },
            "type": "scatter3d"
           }
          ],
          "scattercarpet": [
           {
            "marker": {
             "colorbar": {
              "outlinewidth": 0,
              "tickcolor": "rgb(36,36,36)",
              "ticklen": 8,
              "ticks": "outside",
              "tickwidth": 2
             }
            },
            "type": "scattercarpet"
           }
          ],
          "scattergeo": [
           {
            "marker": {
             "colorbar": {
              "outlinewidth": 0,
              "tickcolor": "rgb(36,36,36)",
              "ticklen": 8,
              "ticks": "outside",
              "tickwidth": 2
             }
            },
            "type": "scattergeo"
           }
          ],
          "scattergl": [
           {
            "marker": {
             "colorbar": {
              "outlinewidth": 0,
              "tickcolor": "rgb(36,36,36)",
              "ticklen": 8,
              "ticks": "outside",
              "tickwidth": 2
             }
            },
            "type": "scattergl"
           }
          ],
          "scattermap": [
           {
            "marker": {
             "colorbar": {
              "outlinewidth": 0,
              "tickcolor": "rgb(36,36,36)",
              "ticklen": 8,
              "ticks": "outside",
              "tickwidth": 2
             }
            },
            "type": "scattermap"
           }
          ],
          "scattermapbox": [
           {
            "marker": {
             "colorbar": {
              "outlinewidth": 0,
              "tickcolor": "rgb(36,36,36)",
              "ticklen": 8,
              "ticks": "outside",
              "tickwidth": 2
             }
            },
            "type": "scattermapbox"
           }
          ],
          "scatterpolar": [
           {
            "marker": {
             "colorbar": {
              "outlinewidth": 0,
              "tickcolor": "rgb(36,36,36)",
              "ticklen": 8,
              "ticks": "outside",
              "tickwidth": 2
             }
            },
            "type": "scatterpolar"
           }
          ],
          "scatterpolargl": [
           {
            "marker": {
             "colorbar": {
              "outlinewidth": 0,
              "tickcolor": "rgb(36,36,36)",
              "ticklen": 8,
              "ticks": "outside",
              "tickwidth": 2
             }
            },
            "type": "scatterpolargl"
           }
          ],
          "scatterternary": [
           {
            "marker": {
             "colorbar": {
              "outlinewidth": 0,
              "tickcolor": "rgb(36,36,36)",
              "ticklen": 8,
              "ticks": "outside",
              "tickwidth": 2
             }
            },
            "type": "scatterternary"
           }
          ],
          "surface": [
           {
            "colorbar": {
             "outlinewidth": 0,
             "tickcolor": "rgb(36,36,36)",
             "ticklen": 8,
             "ticks": "outside",
             "tickwidth": 2
            },
            "colorscale": [
             [
              0,
              "rgb(2,4,25)"
             ],
             [
              0.06274509803921569,
              "rgb(24,15,41)"
             ],
             [
              0.12549019607843137,
              "rgb(47,23,57)"
             ],
             [
              0.18823529411764706,
              "rgb(71,28,72)"
             ],
             [
              0.25098039215686274,
              "rgb(97,30,82)"
             ],
             [
              0.3137254901960784,
              "rgb(123,30,89)"
             ],
             [
              0.3764705882352941,
              "rgb(150,27,91)"
             ],
             [
              0.4392156862745098,
              "rgb(177,22,88)"
             ],
             [
              0.5019607843137255,
              "rgb(203,26,79)"
             ],
             [
              0.5647058823529412,
              "rgb(223,47,67)"
             ],
             [
              0.6274509803921569,
              "rgb(236,76,61)"
             ],
             [
              0.6901960784313725,
              "rgb(242,107,73)"
             ],
             [
              0.7529411764705882,
              "rgb(244,135,95)"
             ],
             [
              0.8156862745098039,
              "rgb(245,162,122)"
             ],
             [
              0.8784313725490196,
              "rgb(246,188,153)"
             ],
             [
              0.9411764705882353,
              "rgb(247,212,187)"
             ],
             [
              1,
              "rgb(250,234,220)"
             ]
            ],
            "type": "surface"
           }
          ],
          "table": [
           {
            "cells": {
             "fill": {
              "color": "rgb(231,231,240)"
             },
             "line": {
              "color": "white"
             }
            },
            "header": {
             "fill": {
              "color": "rgb(183,183,191)"
             },
             "line": {
              "color": "white"
             }
            },
            "type": "table"
           }
          ]
         },
         "layout": {
          "annotationdefaults": {
           "arrowcolor": "rgb(67,103,167)"
          },
          "autotypenumbers": "strict",
          "coloraxis": {
           "colorbar": {
            "outlinewidth": 0,
            "tickcolor": "rgb(36,36,36)",
            "ticklen": 8,
            "ticks": "outside",
            "tickwidth": 2
           }
          },
          "colorscale": {
           "sequential": [
            [
             0,
             "rgb(2,4,25)"
            ],
            [
             0.06274509803921569,
             "rgb(24,15,41)"
            ],
            [
             0.12549019607843137,
             "rgb(47,23,57)"
            ],
            [
             0.18823529411764706,
             "rgb(71,28,72)"
            ],
            [
             0.25098039215686274,
             "rgb(97,30,82)"
            ],
            [
             0.3137254901960784,
             "rgb(123,30,89)"
            ],
            [
             0.3764705882352941,
             "rgb(150,27,91)"
            ],
            [
             0.4392156862745098,
             "rgb(177,22,88)"
            ],
            [
             0.5019607843137255,
             "rgb(203,26,79)"
            ],
            [
             0.5647058823529412,
             "rgb(223,47,67)"
            ],
            [
             0.6274509803921569,
             "rgb(236,76,61)"
            ],
            [
             0.6901960784313725,
             "rgb(242,107,73)"
            ],
            [
             0.7529411764705882,
             "rgb(244,135,95)"
            ],
            [
             0.8156862745098039,
             "rgb(245,162,122)"
            ],
            [
             0.8784313725490196,
             "rgb(246,188,153)"
            ],
            [
             0.9411764705882353,
             "rgb(247,212,187)"
            ],
            [
             1,
             "rgb(250,234,220)"
            ]
           ],
           "sequentialminus": [
            [
             0,
             "rgb(2,4,25)"
            ],
            [
             0.06274509803921569,
             "rgb(24,15,41)"
            ],
            [
             0.12549019607843137,
             "rgb(47,23,57)"
            ],
            [
             0.18823529411764706,
             "rgb(71,28,72)"
            ],
            [
             0.25098039215686274,
             "rgb(97,30,82)"
            ],
            [
             0.3137254901960784,
             "rgb(123,30,89)"
            ],
            [
             0.3764705882352941,
             "rgb(150,27,91)"
            ],
            [
             0.4392156862745098,
             "rgb(177,22,88)"
            ],
            [
             0.5019607843137255,
             "rgb(203,26,79)"
            ],
            [
             0.5647058823529412,
             "rgb(223,47,67)"
            ],
            [
             0.6274509803921569,
             "rgb(236,76,61)"
            ],
            [
             0.6901960784313725,
             "rgb(242,107,73)"
            ],
            [
             0.7529411764705882,
             "rgb(244,135,95)"
            ],
            [
             0.8156862745098039,
             "rgb(245,162,122)"
            ],
            [
             0.8784313725490196,
             "rgb(246,188,153)"
            ],
            [
             0.9411764705882353,
             "rgb(247,212,187)"
            ],
            [
             1,
             "rgb(250,234,220)"
            ]
           ]
          },
          "colorway": [
           "rgb(76,114,176)",
           "rgb(221,132,82)",
           "rgb(85,168,104)",
           "rgb(196,78,82)",
           "rgb(129,114,179)",
           "rgb(147,120,96)",
           "rgb(218,139,195)",
           "rgb(140,140,140)",
           "rgb(204,185,116)",
           "rgb(100,181,205)"
          ],
          "font": {
           "color": "rgb(36,36,36)"
          },
          "geo": {
           "bgcolor": "white",
           "lakecolor": "white",
           "landcolor": "rgb(234,234,242)",
           "showlakes": true,
           "showland": true,
           "subunitcolor": "white"
          },
          "hoverlabel": {
           "align": "left"
          },
          "hovermode": "closest",
          "paper_bgcolor": "white",
          "plot_bgcolor": "rgb(234,234,242)",
          "polar": {
           "angularaxis": {
            "gridcolor": "white",
            "linecolor": "white",
            "showgrid": true,
            "ticks": ""
           },
           "bgcolor": "rgb(234,234,242)",
           "radialaxis": {
            "gridcolor": "white",
            "linecolor": "white",
            "showgrid": true,
            "ticks": ""
           }
          },
          "scene": {
           "xaxis": {
            "backgroundcolor": "rgb(234,234,242)",
            "gridcolor": "white",
            "gridwidth": 2,
            "linecolor": "white",
            "showbackground": true,
            "showgrid": true,
            "ticks": "",
            "zerolinecolor": "white"
           },
           "yaxis": {
            "backgroundcolor": "rgb(234,234,242)",
            "gridcolor": "white",
            "gridwidth": 2,
            "linecolor": "white",
            "showbackground": true,
            "showgrid": true,
            "ticks": "",
            "zerolinecolor": "white"
           },
           "zaxis": {
            "backgroundcolor": "rgb(234,234,242)",
            "gridcolor": "white",
            "gridwidth": 2,
            "linecolor": "white",
            "showbackground": true,
            "showgrid": true,
            "ticks": "",
            "zerolinecolor": "white"
           }
          },
          "shapedefaults": {
           "fillcolor": "rgb(67,103,167)",
           "line": {
            "width": 0
           },
           "opacity": 0.5
          },
          "ternary": {
           "aaxis": {
            "gridcolor": "white",
            "linecolor": "white",
            "showgrid": true,
            "ticks": ""
           },
           "baxis": {
            "gridcolor": "white",
            "linecolor": "white",
            "showgrid": true,
            "ticks": ""
           },
           "bgcolor": "rgb(234,234,242)",
           "caxis": {
            "gridcolor": "white",
            "linecolor": "white",
            "showgrid": true,
            "ticks": ""
           }
          },
          "xaxis": {
           "automargin": true,
           "gridcolor": "white",
           "linecolor": "white",
           "showgrid": true,
           "ticks": "",
           "title": {
            "standoff": 15
           },
           "zerolinecolor": "white"
          },
          "yaxis": {
           "automargin": true,
           "gridcolor": "white",
           "linecolor": "white",
           "showgrid": true,
           "ticks": "",
           "title": {
            "standoff": 15
           },
           "zerolinecolor": "white"
          }
         }
        },
        "title": {
         "text": "Volume Bars"
        },
        "xaxis": {
         "rangeslider": {
          "visible": true
         },
         "title": {
          "text": "Bar"
         }
        },
        "yaxis": {
         "title": {
          "text": "Price (USD)"
         }
        }
       }
      }
     },
     "metadata": {},
     "output_type": "display_data"
    }
   ],
   "source": [
    "fig = go.Figure(data=[go.Candlestick(\n",
    "    x=volume_bars['start_time'],\n",
    "    open=volume_bars['open'],\n",
    "    high=volume_bars['high'],\n",
    "    low=volume_bars['low'],\n",
    "    close=volume_bars['close'],\n",
    "    name='Volume Bars'\n",
    ")])\n",
    "\n",
    "fig.update_layout(\n",
    "    title=f'Volume Bars',\n",
    "    yaxis_title='Price (USD)',\n",
    "    xaxis_title='Bar',\n",
    "    xaxis_rangeslider_visible=True, \n",
    "    template='seaborn', # other options: plotly, plotly_white, plotly_dark, simple_white\n",
    "    showlegend=True,\n",
    ")"
   ]
  },
  {
   "cell_type": "markdown",
   "id": "1d1927c8",
   "metadata": {},
   "source": [
    "## Dollar bars"
   ]
  },
  {
   "cell_type": "markdown",
   "id": "2eb55ff0",
   "metadata": {},
   "source": [
    "### Bar Chart"
   ]
  },
  {
   "cell_type": "code",
   "execution_count": 236,
   "id": "38151e4a",
   "metadata": {},
   "outputs": [
    {
     "data": {
      "application/vnd.plotly.v1+json": {
       "config": {
        "plotlyServerURL": "https://plot.ly"
       },
       "data": [
        {
         "close": {
          "bdata": "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",
          "dtype": "f8"
         },
         "high": {
          "bdata": "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",
          "dtype": "f8"
         },
         "low": {
          "bdata": "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",
          "dtype": "f8"
         },
         "name": "Dollar Bars",
         "open": {
          "bdata": "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",
          "dtype": "f8"
         },
         "type": "candlestick",
         "x": {
          "bdata": "AAABAAIAAwAEAAUABgAHAAgACQAKAAsADAANAA4ADwAQABEAEgATABQAFQAWABcAGAAZABoAGwAcAB0AHgAfACAAIQAiACMAJAAlACYAJwAoACkAKgArACwALQAuAC8AMAAxADIAMwA0ADUANgA3ADgAOQA6ADsAPAA9AD4APwBAAEEAQgBDAEQARQBGAEcASABJAEoASwBMAE0ATgBPAFAAUQBSAFMAVABVAFYAVwBYAFkAWgBbAFwAXQBeAF8AYABhAGIAYwBkAGUAZgBnAGgAaQBqAGsAbABtAG4AbwBwAHEAcgBzAHQAdQB2AHcAeAB5AHoAewB8AH0AfgB/AIAAgQCCAIMAhACFAIYAhwCIAIkAigCLAIwAjQCOAI8AkACRAJIAkwCUAJUAlgCXAJgAmQCaAJsAnACdAJ4AnwCgAKEAogCjAKQApQCmAKcAqACpAKoAqwCsAK0ArgCvALAAsQCyALMAtAC1ALYAtwC4ALkAugC7ALwAvQC+AL8AwADBAMIAwwDEAMUAxgDHAMgAyQDKAMsAzADNAM4AzwDQANEA0gDTANQA1QDWANcA2ADZANoA2wDcAN0A3gDfAOAA4QDiAOMA5ADlAOYA5wDoAOkA6gDrAOwA7QDuAO8A8ADxAPIA8wD0APUA9gD3APgA+QD6APsA/AD9AP4A/wAAAQEBAgEDAQQBBQEGAQcBCAEJAQoBCwEMAQ0BDgEPARABEQESARMBFAEVARYBFwEYARkBGgEbARwBHQEeAR8BIAEhASIBIwEkASUBJgEnASgBKQEqASsBLAEtAS4BLwEwATEBMgEzATQBNQE2ATcBOAE5AToBOwE8AT0BPgE/AUABQQFCAUMBRAFFAUYBRwFIAUkBSgFLAUwBTQFOAU8BUAFRAVIBUwFUAVUBVgFXAVgBWQFaAVsBXAFdAV4BXwFgAWEB",
          "dtype": "i2"
         }
        }
       ],
       "layout": {
        "showlegend": true,
        "template": {
         "data": {
          "bar": [
           {
            "error_x": {
             "color": "rgb(36,36,36)"
            },
            "error_y": {
             "color": "rgb(36,36,36)"
            },
            "marker": {
             "line": {
              "color": "rgb(234,234,242)",
              "width": 0.5
             },
             "pattern": {
              "fillmode": "overlay",
              "size": 10,
              "solidity": 0.2
             }
            },
            "type": "bar"
           }
          ],
          "barpolar": [
           {
            "marker": {
             "line": {
              "color": "rgb(234,234,242)",
              "width": 0.5
             },
             "pattern": {
              "fillmode": "overlay",
              "size": 10,
              "solidity": 0.2
             }
            },
            "type": "barpolar"
           }
          ],
          "carpet": [
           {
            "aaxis": {
             "endlinecolor": "rgb(36,36,36)",
             "gridcolor": "white",
             "linecolor": "white",
             "minorgridcolor": "white",
             "startlinecolor": "rgb(36,36,36)"
            },
            "baxis": {
             "endlinecolor": "rgb(36,36,36)",
             "gridcolor": "white",
             "linecolor": "white",
             "minorgridcolor": "white",
             "startlinecolor": "rgb(36,36,36)"
            },
            "type": "carpet"
           }
          ],
          "choropleth": [
           {
            "colorbar": {
             "outlinewidth": 0,
             "tickcolor": "rgb(36,36,36)",
             "ticklen": 8,
             "ticks": "outside",
             "tickwidth": 2
            },
            "type": "choropleth"
           }
          ],
          "contour": [
           {
            "colorbar": {
             "outlinewidth": 0,
             "tickcolor": "rgb(36,36,36)",
             "ticklen": 8,
             "ticks": "outside",
             "tickwidth": 2
            },
            "colorscale": [
             [
              0,
              "rgb(2,4,25)"
             ],
             [
              0.06274509803921569,
              "rgb(24,15,41)"
             ],
             [
              0.12549019607843137,
              "rgb(47,23,57)"
             ],
             [
              0.18823529411764706,
              "rgb(71,28,72)"
             ],
             [
              0.25098039215686274,
              "rgb(97,30,82)"
             ],
             [
              0.3137254901960784,
              "rgb(123,30,89)"
             ],
             [
              0.3764705882352941,
              "rgb(150,27,91)"
             ],
             [
              0.4392156862745098,
              "rgb(177,22,88)"
             ],
             [
              0.5019607843137255,
              "rgb(203,26,79)"
             ],
             [
              0.5647058823529412,
              "rgb(223,47,67)"
             ],
             [
              0.6274509803921569,
              "rgb(236,76,61)"
             ],
             [
              0.6901960784313725,
              "rgb(242,107,73)"
             ],
             [
              0.7529411764705882,
              "rgb(244,135,95)"
             ],
             [
              0.8156862745098039,
              "rgb(245,162,122)"
             ],
             [
              0.8784313725490196,
              "rgb(246,188,153)"
             ],
             [
              0.9411764705882353,
              "rgb(247,212,187)"
             ],
             [
              1,
              "rgb(250,234,220)"
             ]
            ],
            "type": "contour"
           }
          ],
          "contourcarpet": [
           {
            "colorbar": {
             "outlinewidth": 0,
             "tickcolor": "rgb(36,36,36)",
             "ticklen": 8,
             "ticks": "outside",
             "tickwidth": 2
            },
            "type": "contourcarpet"
           }
          ],
          "heatmap": [
           {
            "colorbar": {
             "outlinewidth": 0,
             "tickcolor": "rgb(36,36,36)",
             "ticklen": 8,
             "ticks": "outside",
             "tickwidth": 2
            },
            "colorscale": [
             [
              0,
              "rgb(2,4,25)"
             ],
             [
              0.06274509803921569,
              "rgb(24,15,41)"
             ],
             [
              0.12549019607843137,
              "rgb(47,23,57)"
             ],
             [
              0.18823529411764706,
              "rgb(71,28,72)"
             ],
             [
              0.25098039215686274,
              "rgb(97,30,82)"
             ],
             [
              0.3137254901960784,
              "rgb(123,30,89)"
             ],
             [
              0.3764705882352941,
              "rgb(150,27,91)"
             ],
             [
              0.4392156862745098,
              "rgb(177,22,88)"
             ],
             [
              0.5019607843137255,
              "rgb(203,26,79)"
             ],
             [
              0.5647058823529412,
              "rgb(223,47,67)"
             ],
             [
              0.6274509803921569,
              "rgb(236,76,61)"
             ],
             [
              0.6901960784313725,
              "rgb(242,107,73)"
             ],
             [
              0.7529411764705882,
              "rgb(244,135,95)"
             ],
             [
              0.8156862745098039,
              "rgb(245,162,122)"
             ],
             [
              0.8784313725490196,
              "rgb(246,188,153)"
             ],
             [
              0.9411764705882353,
              "rgb(247,212,187)"
             ],
             [
              1,
              "rgb(250,234,220)"
             ]
            ],
            "type": "heatmap"
           }
          ],
          "histogram": [
           {
            "marker": {
             "pattern": {
              "fillmode": "overlay",
              "size": 10,
              "solidity": 0.2
             }
            },
            "type": "histogram"
           }
          ],
          "histogram2d": [
           {
            "colorbar": {
             "outlinewidth": 0,
             "tickcolor": "rgb(36,36,36)",
             "ticklen": 8,
             "ticks": "outside",
             "tickwidth": 2
            },
            "colorscale": [
             [
              0,
              "rgb(2,4,25)"
             ],
             [
              0.06274509803921569,
              "rgb(24,15,41)"
             ],
             [
              0.12549019607843137,
              "rgb(47,23,57)"
             ],
             [
              0.18823529411764706,
              "rgb(71,28,72)"
             ],
             [
              0.25098039215686274,
              "rgb(97,30,82)"
             ],
             [
              0.3137254901960784,
              "rgb(123,30,89)"
             ],
             [
              0.3764705882352941,
              "rgb(150,27,91)"
             ],
             [
              0.4392156862745098,
              "rgb(177,22,88)"
             ],
             [
              0.5019607843137255,
              "rgb(203,26,79)"
             ],
             [
              0.5647058823529412,
              "rgb(223,47,67)"
             ],
             [
              0.6274509803921569,
              "rgb(236,76,61)"
             ],
             [
              0.6901960784313725,
              "rgb(242,107,73)"
             ],
             [
              0.7529411764705882,
              "rgb(244,135,95)"
             ],
             [
              0.8156862745098039,
              "rgb(245,162,122)"
             ],
             [
              0.8784313725490196,
              "rgb(246,188,153)"
             ],
             [
              0.9411764705882353,
              "rgb(247,212,187)"
             ],
             [
              1,
              "rgb(250,234,220)"
             ]
            ],
            "type": "histogram2d"
           }
          ],
          "histogram2dcontour": [
           {
            "colorbar": {
             "outlinewidth": 0,
             "tickcolor": "rgb(36,36,36)",
             "ticklen": 8,
             "ticks": "outside",
             "tickwidth": 2
            },
            "colorscale": [
             [
              0,
              "rgb(2,4,25)"
             ],
             [
              0.06274509803921569,
              "rgb(24,15,41)"
             ],
             [
              0.12549019607843137,
              "rgb(47,23,57)"
             ],
             [
              0.18823529411764706,
              "rgb(71,28,72)"
             ],
             [
              0.25098039215686274,
              "rgb(97,30,82)"
             ],
             [
              0.3137254901960784,
              "rgb(123,30,89)"
             ],
             [
              0.3764705882352941,
              "rgb(150,27,91)"
             ],
             [
              0.4392156862745098,
              "rgb(177,22,88)"
             ],
             [
              0.5019607843137255,
              "rgb(203,26,79)"
             ],
             [
              0.5647058823529412,
              "rgb(223,47,67)"
             ],
             [
              0.6274509803921569,
              "rgb(236,76,61)"
             ],
             [
              0.6901960784313725,
              "rgb(242,107,73)"
             ],
             [
              0.7529411764705882,
              "rgb(244,135,95)"
             ],
             [
              0.8156862745098039,
              "rgb(245,162,122)"
             ],
             [
              0.8784313725490196,
              "rgb(246,188,153)"
             ],
             [
              0.9411764705882353,
              "rgb(247,212,187)"
             ],
             [
              1,
              "rgb(250,234,220)"
             ]
            ],
            "type": "histogram2dcontour"
           }
          ],
          "mesh3d": [
           {
            "colorbar": {
             "outlinewidth": 0,
             "tickcolor": "rgb(36,36,36)",
             "ticklen": 8,
             "ticks": "outside",
             "tickwidth": 2
            },
            "type": "mesh3d"
           }
          ],
          "parcoords": [
           {
            "line": {
             "colorbar": {
              "outlinewidth": 0,
              "tickcolor": "rgb(36,36,36)",
              "ticklen": 8,
              "ticks": "outside",
              "tickwidth": 2
             }
            },
            "type": "parcoords"
           }
          ],
          "pie": [
           {
            "automargin": true,
            "type": "pie"
           }
          ],
          "scatter": [
           {
            "fillpattern": {
             "fillmode": "overlay",
             "size": 10,
             "solidity": 0.2
            },
            "type": "scatter"
           }
          ],
          "scatter3d": [
           {
            "line": {
             "colorbar": {
              "outlinewidth": 0,
              "tickcolor": "rgb(36,36,36)",
              "ticklen": 8,
              "ticks": "outside",
              "tickwidth": 2
             }
            },
            "marker": {
             "colorbar": {
              "outlinewidth": 0,
              "tickcolor": "rgb(36,36,36)",
              "ticklen": 8,
              "ticks": "outside",
              "tickwidth": 2
             }
            },
            "type": "scatter3d"
           }
          ],
          "scattercarpet": [
           {
            "marker": {
             "colorbar": {
              "outlinewidth": 0,
              "tickcolor": "rgb(36,36,36)",
              "ticklen": 8,
              "ticks": "outside",
              "tickwidth": 2
             }
            },
            "type": "scattercarpet"
           }
          ],
          "scattergeo": [
           {
            "marker": {
             "colorbar": {
              "outlinewidth": 0,
              "tickcolor": "rgb(36,36,36)",
              "ticklen": 8,
              "ticks": "outside",
              "tickwidth": 2
             }
            },
            "type": "scattergeo"
           }
          ],
          "scattergl": [
           {
            "marker": {
             "colorbar": {
              "outlinewidth": 0,
              "tickcolor": "rgb(36,36,36)",
              "ticklen": 8,
              "ticks": "outside",
              "tickwidth": 2
             }
            },
            "type": "scattergl"
           }
          ],
          "scattermap": [
           {
            "marker": {
             "colorbar": {
              "outlinewidth": 0,
              "tickcolor": "rgb(36,36,36)",
              "ticklen": 8,
              "ticks": "outside",
              "tickwidth": 2
             }
            },
            "type": "scattermap"
           }
          ],
          "scattermapbox": [
           {
            "marker": {
             "colorbar": {
              "outlinewidth": 0,
              "tickcolor": "rgb(36,36,36)",
              "ticklen": 8,
              "ticks": "outside",
              "tickwidth": 2
             }
            },
            "type": "scattermapbox"
           }
          ],
          "scatterpolar": [
           {
            "marker": {
             "colorbar": {
              "outlinewidth": 0,
              "tickcolor": "rgb(36,36,36)",
              "ticklen": 8,
              "ticks": "outside",
              "tickwidth": 2
             }
            },
            "type": "scatterpolar"
           }
          ],
          "scatterpolargl": [
           {
            "marker": {
             "colorbar": {
              "outlinewidth": 0,
              "tickcolor": "rgb(36,36,36)",
              "ticklen": 8,
              "ticks": "outside",
              "tickwidth": 2
             }
            },
            "type": "scatterpolargl"
           }
          ],
          "scatterternary": [
           {
            "marker": {
             "colorbar": {
              "outlinewidth": 0,
              "tickcolor": "rgb(36,36,36)",
              "ticklen": 8,
              "ticks": "outside",
              "tickwidth": 2
             }
            },
            "type": "scatterternary"
           }
          ],
          "surface": [
           {
            "colorbar": {
             "outlinewidth": 0,
             "tickcolor": "rgb(36,36,36)",
             "ticklen": 8,
             "ticks": "outside",
             "tickwidth": 2
            },
            "colorscale": [
             [
              0,
              "rgb(2,4,25)"
             ],
             [
              0.06274509803921569,
              "rgb(24,15,41)"
             ],
             [
              0.12549019607843137,
              "rgb(47,23,57)"
             ],
             [
              0.18823529411764706,
              "rgb(71,28,72)"
             ],
             [
              0.25098039215686274,
              "rgb(97,30,82)"
             ],
             [
              0.3137254901960784,
              "rgb(123,30,89)"
             ],
             [
              0.3764705882352941,
              "rgb(150,27,91)"
             ],
             [
              0.4392156862745098,
              "rgb(177,22,88)"
             ],
             [
              0.5019607843137255,
              "rgb(203,26,79)"
             ],
             [
              0.5647058823529412,
              "rgb(223,47,67)"
             ],
             [
              0.6274509803921569,
              "rgb(236,76,61)"
             ],
             [
              0.6901960784313725,
              "rgb(242,107,73)"
             ],
             [
              0.7529411764705882,
              "rgb(244,135,95)"
             ],
             [
              0.8156862745098039,
              "rgb(245,162,122)"
             ],
             [
              0.8784313725490196,
              "rgb(246,188,153)"
             ],
             [
              0.9411764705882353,
              "rgb(247,212,187)"
             ],
             [
              1,
              "rgb(250,234,220)"
             ]
            ],
            "type": "surface"
           }
          ],
          "table": [
           {
            "cells": {
             "fill": {
              "color": "rgb(231,231,240)"
             },
             "line": {
              "color": "white"
             }
            },
            "header": {
             "fill": {
              "color": "rgb(183,183,191)"
             },
             "line": {
              "color": "white"
             }
            },
            "type": "table"
           }
          ]
         },
         "layout": {
          "annotationdefaults": {
           "arrowcolor": "rgb(67,103,167)"
          },
          "autotypenumbers": "strict",
          "coloraxis": {
           "colorbar": {
            "outlinewidth": 0,
            "tickcolor": "rgb(36,36,36)",
            "ticklen": 8,
            "ticks": "outside",
            "tickwidth": 2
           }
          },
          "colorscale": {
           "sequential": [
            [
             0,
             "rgb(2,4,25)"
            ],
            [
             0.06274509803921569,
             "rgb(24,15,41)"
            ],
            [
             0.12549019607843137,
             "rgb(47,23,57)"
            ],
            [
             0.18823529411764706,
             "rgb(71,28,72)"
            ],
            [
             0.25098039215686274,
             "rgb(97,30,82)"
            ],
            [
             0.3137254901960784,
             "rgb(123,30,89)"
            ],
            [
             0.3764705882352941,
             "rgb(150,27,91)"
            ],
            [
             0.4392156862745098,
             "rgb(177,22,88)"
            ],
            [
             0.5019607843137255,
             "rgb(203,26,79)"
            ],
            [
             0.5647058823529412,
             "rgb(223,47,67)"
            ],
            [
             0.6274509803921569,
             "rgb(236,76,61)"
            ],
            [
             0.6901960784313725,
             "rgb(242,107,73)"
            ],
            [
             0.7529411764705882,
             "rgb(244,135,95)"
            ],
            [
             0.8156862745098039,
             "rgb(245,162,122)"
            ],
            [
             0.8784313725490196,
             "rgb(246,188,153)"
            ],
            [
             0.9411764705882353,
             "rgb(247,212,187)"
            ],
            [
             1,
             "rgb(250,234,220)"
            ]
           ],
           "sequentialminus": [
            [
             0,
             "rgb(2,4,25)"
            ],
            [
             0.06274509803921569,
             "rgb(24,15,41)"
            ],
            [
             0.12549019607843137,
             "rgb(47,23,57)"
            ],
            [
             0.18823529411764706,
             "rgb(71,28,72)"
            ],
            [
             0.25098039215686274,
             "rgb(97,30,82)"
            ],
            [
             0.3137254901960784,
             "rgb(123,30,89)"
            ],
            [
             0.3764705882352941,
             "rgb(150,27,91)"
            ],
            [
             0.4392156862745098,
             "rgb(177,22,88)"
            ],
            [
             0.5019607843137255,
             "rgb(203,26,79)"
            ],
            [
             0.5647058823529412,
             "rgb(223,47,67)"
            ],
            [
             0.6274509803921569,
             "rgb(236,76,61)"
            ],
            [
             0.6901960784313725,
             "rgb(242,107,73)"
            ],
            [
             0.7529411764705882,
             "rgb(244,135,95)"
            ],
            [
             0.8156862745098039,
             "rgb(245,162,122)"
            ],
            [
             0.8784313725490196,
             "rgb(246,188,153)"
            ],
            [
             0.9411764705882353,
             "rgb(247,212,187)"
            ],
            [
             1,
             "rgb(250,234,220)"
            ]
           ]
          },
          "colorway": [
           "rgb(76,114,176)",
           "rgb(221,132,82)",
           "rgb(85,168,104)",
           "rgb(196,78,82)",
           "rgb(129,114,179)",
           "rgb(147,120,96)",
           "rgb(218,139,195)",
           "rgb(140,140,140)",
           "rgb(204,185,116)",
           "rgb(100,181,205)"
          ],
          "font": {
           "color": "rgb(36,36,36)"
          },
          "geo": {
           "bgcolor": "white",
           "lakecolor": "white",
           "landcolor": "rgb(234,234,242)",
           "showlakes": true,
           "showland": true,
           "subunitcolor": "white"
          },
          "hoverlabel": {
           "align": "left"
          },
          "hovermode": "closest",
          "paper_bgcolor": "white",
          "plot_bgcolor": "rgb(234,234,242)",
          "polar": {
           "angularaxis": {
            "gridcolor": "white",
            "linecolor": "white",
            "showgrid": true,
            "ticks": ""
           },
           "bgcolor": "rgb(234,234,242)",
           "radialaxis": {
            "gridcolor": "white",
            "linecolor": "white",
            "showgrid": true,
            "ticks": ""
           }
          },
          "scene": {
           "xaxis": {
            "backgroundcolor": "rgb(234,234,242)",
            "gridcolor": "white",
            "gridwidth": 2,
            "linecolor": "white",
            "showbackground": true,
            "showgrid": true,
            "ticks": "",
            "zerolinecolor": "white"
           },
           "yaxis": {
            "backgroundcolor": "rgb(234,234,242)",
            "gridcolor": "white",
            "gridwidth": 2,
            "linecolor": "white",
            "showbackground": true,
            "showgrid": true,
            "ticks": "",
            "zerolinecolor": "white"
           },
           "zaxis": {
            "backgroundcolor": "rgb(234,234,242)",
            "gridcolor": "white",
            "gridwidth": 2,
            "linecolor": "white",
            "showbackground": true,
            "showgrid": true,
            "ticks": "",
            "zerolinecolor": "white"
           }
          },
          "shapedefaults": {
           "fillcolor": "rgb(67,103,167)",
           "line": {
            "width": 0
           },
           "opacity": 0.5
          },
          "ternary": {
           "aaxis": {
            "gridcolor": "white",
            "linecolor": "white",
            "showgrid": true,
            "ticks": ""
           },
           "baxis": {
            "gridcolor": "white",
            "linecolor": "white",
            "showgrid": true,
            "ticks": ""
           },
           "bgcolor": "rgb(234,234,242)",
           "caxis": {
            "gridcolor": "white",
            "linecolor": "white",
            "showgrid": true,
            "ticks": ""
           }
          },
          "xaxis": {
           "automargin": true,
           "gridcolor": "white",
           "linecolor": "white",
           "showgrid": true,
           "ticks": "",
           "title": {
            "standoff": 15
           },
           "zerolinecolor": "white"
          },
          "yaxis": {
           "automargin": true,
           "gridcolor": "white",
           "linecolor": "white",
           "showgrid": true,
           "ticks": "",
           "title": {
            "standoff": 15
           },
           "zerolinecolor": "white"
          }
         }
        },
        "title": {
         "text": "Dollar Bars"
        },
        "xaxis": {
         "rangeslider": {
          "visible": true
         },
         "title": {
          "text": "Bar"
         }
        },
        "yaxis": {
         "title": {
          "text": "Price (USD)"
         }
        }
       }
      }
     },
     "metadata": {},
     "output_type": "display_data"
    }
   ],
   "source": [
    "fig = go.Figure(data=[go.Candlestick(\n",
    "    x=dollar_bars.index,\n",
    "    open=dollar_bars['open'],\n",
    "    high=dollar_bars['high'],\n",
    "    low=dollar_bars['low'],\n",
    "    close=dollar_bars['close'],\n",
    "    name='Dollar Bars'\n",
    ")])\n",
    "\n",
    "fig.update_layout(\n",
    "    title=f'Dollar Bars',\n",
    "    yaxis_title='Price (USD)',\n",
    "    xaxis_title='Bar',\n",
    "    xaxis_rangeslider_visible=True, \n",
    "    template='seaborn', # other options: plotly, plotly_white, plotly_dark, simple_white\n",
    "    showlegend=True,\n",
    ")"
   ]
  },
  {
   "cell_type": "markdown",
   "id": "07710a47",
   "metadata": {},
   "source": [
    "### Time Chart"
   ]
  },
  {
   "cell_type": "code",
   "execution_count": 237,
   "id": "a1c9877e",
   "metadata": {},
   "outputs": [
    {
     "data": {
      "application/vnd.plotly.v1+json": {
       "config": {
        "plotlyServerURL": "https://plot.ly"
       },
       "data": [
        {
         "close": {
          "bdata": "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",
          "dtype": "f8"
         },
         "high": {
          "bdata": "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",
          "dtype": "f8"
         },
         "low": {
          "bdata": "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",
          "dtype": "f8"
         },
         "name": "Dollar Bars",
         "open": {
          "bdata": "AAAAAAAAWUCuR+F6FP5YQFK4HoXrAVlA9ihcj8IFWUDsUbgehQtZQPYoXI/CBVlAzczMzMwMWUA9CtejcA1ZQLgehetRCFlA7FG4HoULWUDhehSuRxFZQFK4HoXrEVlArkfhehQOWUDhehSuRxFZQNejcD0KF1lAXI/C9SgcWUC4HoXrURhZQKRwPQrXE1lAKVyPwvUYWUDhehSuRxFZQPYoXI/CFVlAUrgehesRWUBSuB6F6xFZQPYoXI/CFVlAUrgehesRWUBSuB6F6xFZQHsUrkfhGllAmpmZmZkZWUB7FK5H4RpZQBSuR+F6FFlAH4XrUbgOWUA9CtejcA1ZQHE9CtejEFlArkfhehQOWUCamZmZmRlZQJqZmZmZGVlASOF6FK4XWUCuR+F6FA5ZQBSuR+F6BFlA4XoUrkcRWUDNzMzMzAxZQI/C9Shc/1hAj8L1KFz/WEBSuB6F6wFZQB+F61G4/lhA4XoUrkcBWUBSuB6F6wFZQEjhehSu91hAMzMzMzPzWEDD9Shcj/JYQHE9Ctej8FhAj8L1KFzvWEB7FK5H4epYQPYoXI/C5VhACtejcD3qWEC4HoXrUehYQBSuR+F65FhAw/UoXI/iWEDNzMzMzNxYQDMzMzMz01hAAAAAAADgWEA9CtejcN1YQNejcD0K51hA7FG4HoXrWEBxPQrXo+BYQMP1KFyP4lhASOF6FK7nWEBmZmZmZuZYQGZmZmZm5lhAuB6F61HoWEBI4XoUrudYQJqZmZmZ6VhA9ihcj8LlWEDsUbgehdtYQLgehetR2FhAAAAAAADQWECkcD0K18NYQHE9CtejwFhArkfhehS+WEAAAAAAAMBYQMP1KFyPwlhA4XoUrkfBWEBxPQrXo8BYQMP1KFyPwlhAPQrXo3C9WECkcD0K18NYQClcj8L1yFhAuB6F61HIWEA9CtejcM1YQDMzMzMz01hAAAAAAADQWEDD9Shcj9JYQPYoXI/C1VhAcT0K16PQWEDsUbgehctYQB+F61G4zlhAw/UoXI/SWECamZmZmdlYQB+F61G43lhAUrgehevhWECuR+F6FN5YQHE9Ctej0FhAj8L1KFzPWEBcj8L1KMxYQB+F61G4zlhAmpmZmZnJWEBmZmZmZsZYQFK4HoXrwVhAH4XrUbi+WEDhehSuR8FYQK5H4XoUvlhAH4XrUbi+WEDsUbgehctYQArXo3A9ylhAcT0K16PAWECuR+F6FL5YQK5H4XoUvlhACtejcD26WEBmZmZmZrZYQPYoXI/CtVhA16NwPQq3WEAzMzMzM7NYQIXrUbgetVhAUrgeheuxWEA9CtejcL1YQFyPwvUovFhAUrgehevBWEAUrkfhesRYQJqZmZmZyVhAFK5H4XrEWEA9CtejcM1YQD0K16NwzVhACtejcD3KWEAfhetRuM5YQOF6FK5H0VhAj8L1KFzPWEA9CtejcM1YQEjhehSux1hAKVyPwvXIWEB7FK5H4cpYQK5H4XoUzlhAj8L1KFzPWEBxPQrXo9BYQOF6FK5H0VhAhetRuB7VWECkcD0K19NYQOF6FK5H0VhAPQrXo3DNWECPwvUoXM9YQClcj8L1yFhArkfhehTOWEA9CtejcM1YQClcj8L1yFhAj8L1KFzPWEAK16NwPcpYQFyPwvUozFhA16NwPQrHWEAzMzMzM8NYQDMzMzMzw1hACtejcD26WEB7FK5H4bpYQD0K16NwvVhAj8L1KFy/WECPwvUoXL9YQOF6FK5HwVhAPQrXo3C9WEApXI/C9bhYQHsUrkfhulhAZmZmZmbGWEAK16NwPcpYQK5H4XoUvlhAj8L1KFy/WEAfhetRuL5YQArXo3A9ulhA7FG4HoW7WEAAAAAAAMBYQM3MzMzMvFhAexSuR+G6WEBI4XoUrrdYQM3MzMzMvFhAw/UoXI/CWEBcj8L1KLxYQK5H4XoUzlhA7FG4HoXLWEBI4XoUrsdYQBSuR+F6xFhArkfhehS+WEDsUbgehbtYQGZmZmZmtlhAUrgeheuxWEDsUbgehatYQHE9CtejoFhAAAAAAACgWECkcD0K16NYQDMzMzMzo1hAw/UoXI+iWECPwvUoXJ9YQGZmZmZmplhAFK5H4XqkWED2KFyPwqVYQK5H4XoUnlhAexSuR+GaWEAzMzMzM6NYQIXrUbgepVhA7FG4HoWrWEAUrkfheqRYQOxRuB6Fm1hAFK5H4XqUWEC4HoXrUZhYQFyPwvUojFhA9ihcj8KFWECamZmZmYlYQD0K16NwjVhA7FG4HoWLWECPwvUoXI9YQHsUrkfhmlhAj8L1KFyfWECamZmZmZlYQJqZmZmZmVhArkfhehSeWECuR+F6FJ5YQNejcD0Kp1hA16NwPQqnWEDD9Shcj6JYQFK4HoXroVhAuB6F61GoWEBSuB6F66FYQD0K16NwnVhAexSuR+GqWEApXI/C9ahYQJqZmZmZqVhASOF6FK6nWEBI4XoUrqdYQMP1KFyPslhAj8L1KFyvWEA9CtejcK1YQOF6FK5HsVhAMzMzMzOzWEAAAAAAALBYQFyPwvUorFhAhetRuB6lWEBxPQrXo7BYQEjhehSut1hAH4XrUbi+WEApXI/C9bhYQFyPwvUovFhA9ihcj8K1WECPwvUoXL9YQArXo3A9ylhAhetRuB7FWEApXI/C9chYQB+F61G4vlhAAAAAAADAWECkcD0K18NYQB+F61G4vlhApHA9CtfDWEAzMzMzM8NYQBSuR+F6xFhAhetRuB7FWECPwvUoXL9YQAAAAAAAwFhAPQrXo3C9WEBmZmZmZsZYQDMzMzMzw1hAXI/C9Si8WECuR+F6FL5YQFyPwvUovFhApHA9CtfDWEB7FK5H4cpYQAAAAAAAwFhAmpmZmZm5WECPwvUoXL9YQK5H4XoUvlhAMzMzMzPDWEDNzMzMzLxYQDMzMzMzw1hAj8L1KFy/WECPwvUoXL9YQIXrUbgexVhAhetRuB7FWECamZmZmblYQI/C9Shcr1hArkfhehS+WEBxPQrXo8BYQPYoXI/CtVhAzczMzMy8WEBmZmZmZsZYQD0K16NwvVhAzczMzMy8WEDsUbgehbtYQB+F61G4vlhAmpmZmZnJWECF61G4HtVYQAAAAAAA0FhAAAAAAADQWEDXo3A9CtdYQD0K16NwzVhAAAAAAADQWECF61G4HtVYQFK4HoXr0VhAexSuR+HaWEAzMzMzM+NYQLgehetR6FhAexSuR+HqWEDNzMzMzOxYQK5H4XoU7lhAH4XrUbjuWECuR+F6FO5YQAAAAAAA8FhAw/UoXI/yWED2KFyPwvVYQClcj8L1+FhA4XoUrkcBWUBI4XoUrgdZQGZmZmZmBllArkfhehQOWUAK16NwPQpZQOxRuB6FC1lAZmZmZmYGWUB7FK5H4QpZQArXo3A9CllACtejcD0KWUDD9ShcjwJZQGZmZmZmBllAexSuR+EKWUCamZmZmQlZQMP1KFyPAllAUrgehevxWEDNzMzMzOxYQMP1KFyP8lhApHA9CtfzWED2KFyPwvVYQHsUrkfh6lhAAAAAAADwWECPwvUoXO9YQMP1KFyP8lhA4XoUrkcBWUBxPQrXowBZQMP1KFyPAllAFK5H4XoEWUDD9ShcjwJZQFyPwvUo/FhAmpmZmZn5WEBSuB6F6/FYQFK4HoXr8VhAhetRuB71WEAK16NwPfpYQLgehetR+FhA16NwPQr3WEAUrkfhevRYQOF6FK5HAVlAZmZmZmYGWUBxPQrXowBZQMP1KFyP8lhA",
          "dtype": "f8"
         },
         "type": "candlestick",
         "x": [
          "2025-07-14T09:30:24",
          "2025-07-14T09:31:57",
          "2025-07-14T09:32:58",
          "2025-07-14T09:34:35",
          "2025-07-14T09:35:45",
          "2025-07-14T09:37:05",
          "2025-07-14T09:39:07",
          "2025-07-14T09:39:54",
          "2025-07-14T09:40:55",
          "2025-07-14T09:43:40",
          "2025-07-14T09:44:29",
          "2025-07-14T09:45:23",
          "2025-07-14T09:45:52",
          "2025-07-14T09:47:02",
          "2025-07-14T09:48:28",
          "2025-07-14T09:50:20",
          "2025-07-14T09:50:49",
          "2025-07-14T09:51:33",
          "2025-07-14T09:52:18",
          "2025-07-14T09:52:48",
          "2025-07-14T09:53:18",
          "2025-07-14T09:53:58",
          "2025-07-14T09:54:27",
          "2025-07-14T09:54:54",
          "2025-07-14T09:55:57",
          "2025-07-14T09:58:02",
          "2025-07-14T10:00:12",
          "2025-07-14T10:01:09",
          "2025-07-14T10:02:55",
          "2025-07-14T10:04:25",
          "2025-07-14T10:05:33",
          "2025-07-14T10:06:14",
          "2025-07-14T10:06:38",
          "2025-07-14T10:07:01",
          "2025-07-14T10:09:10",
          "2025-07-14T10:09:17",
          "2025-07-14T10:09:26",
          "2025-07-14T10:10:03",
          "2025-07-14T10:11:02",
          "2025-07-14T10:12:28",
          "2025-07-14T10:13:27",
          "2025-07-14T10:14:42",
          "2025-07-14T10:15:27",
          "2025-07-14T10:17:33",
          "2025-07-14T10:18:11",
          "2025-07-14T10:19:02",
          "2025-07-14T10:20:08",
          "2025-07-14T10:22:07",
          "2025-07-14T10:22:14",
          "2025-07-14T10:23:05",
          "2025-07-14T10:23:29",
          "2025-07-14T10:23:43",
          "2025-07-14T10:24:17",
          "2025-07-14T10:25:14",
          "2025-07-14T10:26:40",
          "2025-07-14T10:27:14",
          "2025-07-14T10:27:24",
          "2025-07-14T10:27:38",
          "2025-07-14T10:29:45",
          "2025-07-14T10:31:49",
          "2025-07-14T10:32:34",
          "2025-07-14T10:33:58",
          "2025-07-14T10:34:16",
          "2025-07-14T10:34:33",
          "2025-07-14T10:36:13",
          "2025-07-14T10:39:14",
          "2025-07-14T10:39:39",
          "2025-07-14T10:39:51",
          "2025-07-14T10:40:42",
          "2025-07-14T10:41:05",
          "2025-07-14T10:41:59",
          "2025-07-14T10:42:39",
          "2025-07-14T10:42:58",
          "2025-07-14T10:45:41",
          "2025-07-14T10:49:03",
          "2025-07-14T10:49:48",
          "2025-07-14T10:51:20",
          "2025-07-14T10:51:40",
          "2025-07-14T10:52:08",
          "2025-07-14T10:52:38",
          "2025-07-14T10:53:30",
          "2025-07-14T10:53:40",
          "2025-07-14T10:54:18",
          "2025-07-14T10:55:22",
          "2025-07-14T10:55:28",
          "2025-07-14T10:56:34",
          "2025-07-14T10:58:28",
          "2025-07-14T10:59:17",
          "2025-07-14T11:00:01",
          "2025-07-14T11:00:38",
          "2025-07-14T11:02:07",
          "2025-07-14T11:03:06",
          "2025-07-14T11:06:25",
          "2025-07-14T11:07:39",
          "2025-07-14T11:08:24",
          "2025-07-14T11:09:10",
          "2025-07-14T11:10:02",
          "2025-07-14T11:12:45",
          "2025-07-14T11:12:59",
          "2025-07-14T11:13:32",
          "2025-07-14T11:14:28",
          "2025-07-14T11:16:17",
          "2025-07-14T11:17:54",
          "2025-07-14T11:19:03",
          "2025-07-14T11:21:11",
          "2025-07-14T11:23:00",
          "2025-07-14T11:23:28",
          "2025-07-14T11:24:02",
          "2025-07-14T11:24:40",
          "2025-07-14T11:26:10",
          "2025-07-14T11:26:29",
          "2025-07-14T11:27:04",
          "2025-07-14T11:28:10",
          "2025-07-14T11:29:07",
          "2025-07-14T11:29:25",
          "2025-07-14T11:29:58",
          "2025-07-14T11:30:28",
          "2025-07-14T11:31:39",
          "2025-07-14T11:33:14",
          "2025-07-14T11:34:37",
          "2025-07-14T11:36:42",
          "2025-07-14T11:37:18",
          "2025-07-14T11:37:55",
          "2025-07-14T11:40:10",
          "2025-07-14T11:40:53",
          "2025-07-14T11:42:07",
          "2025-07-14T11:42:33",
          "2025-07-14T11:44:08",
          "2025-07-14T11:44:20",
          "2025-07-14T11:44:31",
          "2025-07-14T11:47:29",
          "2025-07-14T11:47:46",
          "2025-07-14T11:50:42",
          "2025-07-14T11:51:14",
          "2025-07-14T11:51:33",
          "2025-07-14T11:51:57",
          "2025-07-14T11:53:04",
          "2025-07-14T11:54:37",
          "2025-07-14T11:55:14",
          "2025-07-14T11:55:42",
          "2025-07-14T11:56:18",
          "2025-07-14T11:57:53",
          "2025-07-14T11:57:59",
          "2025-07-14T11:58:40",
          "2025-07-14T11:59:43",
          "2025-07-14T12:01:11",
          "2025-07-14T12:01:22",
          "2025-07-14T12:01:40",
          "2025-07-14T12:02:27",
          "2025-07-14T12:03:38",
          "2025-07-14T12:04:29",
          "2025-07-14T12:04:54",
          "2025-07-14T12:05:26",
          "2025-07-14T12:06:05",
          "2025-07-14T12:07:54",
          "2025-07-14T12:08:25",
          "2025-07-14T12:09:06",
          "2025-07-14T12:09:40",
          "2025-07-14T12:11:04",
          "2025-07-14T12:12:21",
          "2025-07-14T12:12:47",
          "2025-07-14T12:14:00",
          "2025-07-14T12:14:55",
          "2025-07-14T12:15:24",
          "2025-07-14T12:16:14",
          "2025-07-14T12:17:32",
          "2025-07-14T12:19:52",
          "2025-07-14T12:20:28",
          "2025-07-14T12:21:23",
          "2025-07-14T12:21:44",
          "2025-07-14T12:23:44",
          "2025-07-14T12:26:15",
          "2025-07-14T12:26:42",
          "2025-07-14T12:28:48",
          "2025-07-14T12:29:51",
          "2025-07-14T12:31:02",
          "2025-07-14T12:31:39",
          "2025-07-14T12:34:34",
          "2025-07-14T12:34:47",
          "2025-07-14T12:35:41",
          "2025-07-14T12:37:04",
          "2025-07-14T12:39:29",
          "2025-07-14T12:40:12",
          "2025-07-14T12:41:55",
          "2025-07-14T12:42:16",
          "2025-07-14T12:43:04",
          "2025-07-14T12:44:18",
          "2025-07-14T12:44:57",
          "2025-07-14T12:47:19",
          "2025-07-14T12:47:42",
          "2025-07-14T12:48:59",
          "2025-07-14T12:49:03",
          "2025-07-14T12:50:13",
          "2025-07-14T12:51:58",
          "2025-07-14T12:53:29",
          "2025-07-14T12:54:48",
          "2025-07-14T12:56:39",
          "2025-07-14T12:58:25",
          "2025-07-14T13:00:29",
          "2025-07-14T13:01:12",
          "2025-07-14T13:01:30",
          "2025-07-14T13:02:35",
          "2025-07-14T13:03:34",
          "2025-07-14T13:03:49",
          "2025-07-14T13:06:21",
          "2025-07-14T13:08:09",
          "2025-07-14T13:10:13",
          "2025-07-14T13:10:37",
          "2025-07-14T13:12:05",
          "2025-07-14T13:14:10",
          "2025-07-14T13:14:56",
          "2025-07-14T13:16:17",
          "2025-07-14T13:18:54",
          "2025-07-14T13:20:07",
          "2025-07-14T13:24:16",
          "2025-07-14T13:24:44",
          "2025-07-14T13:25:19",
          "2025-07-14T13:25:31",
          "2025-07-14T13:26:23",
          "2025-07-14T13:26:40",
          "2025-07-14T13:28:13",
          "2025-07-14T13:29:06",
          "2025-07-14T13:29:40",
          "2025-07-14T13:30:02",
          "2025-07-14T13:30:15",
          "2025-07-14T13:30:24",
          "2025-07-14T13:30:28",
          "2025-07-14T13:31:04",
          "2025-07-14T13:32:41",
          "2025-07-14T13:34:12",
          "2025-07-14T13:34:43",
          "2025-07-14T13:35:37",
          "2025-07-14T13:36:06",
          "2025-07-14T13:36:42",
          "2025-07-14T13:38:15",
          "2025-07-14T13:40:38",
          "2025-07-14T13:43:10",
          "2025-07-14T13:43:48",
          "2025-07-14T13:45:15",
          "2025-07-14T13:46:17",
          "2025-07-14T13:47:52",
          "2025-07-14T13:48:59",
          "2025-07-14T13:49:40",
          "2025-07-14T13:50:00",
          "2025-07-14T13:51:59",
          "2025-07-14T13:52:27",
          "2025-07-14T13:53:59",
          "2025-07-14T13:55:52",
          "2025-07-14T13:56:26",
          "2025-07-14T13:56:41",
          "2025-07-14T13:56:52",
          "2025-07-14T13:57:48",
          "2025-07-14T13:58:50",
          "2025-07-14T14:01:03",
          "2025-07-14T14:01:47",
          "2025-07-14T14:03:11",
          "2025-07-14T14:05:14",
          "2025-07-14T14:06:21",
          "2025-07-14T14:07:08",
          "2025-07-14T14:08:52",
          "2025-07-14T14:10:37",
          "2025-07-14T14:11:52",
          "2025-07-14T14:12:29",
          "2025-07-14T14:14:36",
          "2025-07-14T14:16:44",
          "2025-07-14T14:17:33",
          "2025-07-14T14:17:49",
          "2025-07-14T14:19:48",
          "2025-07-14T14:20:25",
          "2025-07-14T14:21:45",
          "2025-07-14T14:21:49",
          "2025-07-14T14:22:16",
          "2025-07-14T14:23:38",
          "2025-07-14T14:25:55",
          "2025-07-14T14:26:54",
          "2025-07-14T14:27:41",
          "2025-07-14T14:29:24",
          "2025-07-14T14:30:04",
          "2025-07-14T14:32:02",
          "2025-07-14T14:33:10",
          "2025-07-14T14:34:38",
          "2025-07-14T14:35:28",
          "2025-07-14T14:36:29",
          "2025-07-14T14:37:30",
          "2025-07-14T14:40:02",
          "2025-07-14T14:41:11",
          "2025-07-14T14:43:56",
          "2025-07-14T14:45:10",
          "2025-07-14T14:46:16",
          "2025-07-14T14:46:44",
          "2025-07-14T14:47:51",
          "2025-07-14T14:48:13",
          "2025-07-14T14:49:18",
          "2025-07-14T14:49:46",
          "2025-07-14T14:50:32",
          "2025-07-14T14:51:50",
          "2025-07-14T14:53:31",
          "2025-07-14T14:54:18",
          "2025-07-14T14:55:34",
          "2025-07-14T14:56:46",
          "2025-07-14T14:58:31",
          "2025-07-14T15:00:02",
          "2025-07-14T15:03:35",
          "2025-07-14T15:05:02",
          "2025-07-14T15:06:14",
          "2025-07-14T15:07:04",
          "2025-07-14T15:07:54",
          "2025-07-14T15:08:42",
          "2025-07-14T15:08:48",
          "2025-07-14T15:09:56",
          "2025-07-14T15:10:53",
          "2025-07-14T15:12:43",
          "2025-07-14T15:14:34",
          "2025-07-14T15:14:47",
          "2025-07-14T15:15:00",
          "2025-07-14T15:16:26",
          "2025-07-14T15:18:02",
          "2025-07-14T15:18:13",
          "2025-07-14T15:19:08",
          "2025-07-14T15:19:38",
          "2025-07-14T15:19:51",
          "2025-07-14T15:21:58",
          "2025-07-14T15:23:52",
          "2025-07-14T15:25:07",
          "2025-07-14T15:26:00",
          "2025-07-14T15:28:34",
          "2025-07-14T15:30:29",
          "2025-07-14T15:32:23",
          "2025-07-14T15:34:47",
          "2025-07-14T15:35:49",
          "2025-07-14T15:36:33",
          "2025-07-14T15:37:07",
          "2025-07-14T15:38:20",
          "2025-07-14T15:40:01",
          "2025-07-14T15:40:20",
          "2025-07-14T15:41:35",
          "2025-07-14T15:43:30",
          "2025-07-14T15:44:09",
          "2025-07-14T15:44:24",
          "2025-07-14T15:45:21",
          "2025-07-14T15:45:46",
          "2025-07-14T15:46:51",
          "2025-07-14T15:47:53",
          "2025-07-14T15:48:56",
          "2025-07-14T15:50:14",
          "2025-07-14T15:51:09",
          "2025-07-14T15:52:37",
          "2025-07-14T15:53:18",
          "2025-07-14T15:53:59",
          "2025-07-14T15:56:45",
          "2025-07-14T15:57:43",
          "2025-07-14T15:57:51",
          "2025-07-14T15:58:58",
          "2025-07-14T15:59:54"
         ]
        }
       ],
       "layout": {
        "showlegend": true,
        "template": {
         "data": {
          "bar": [
           {
            "error_x": {
             "color": "rgb(36,36,36)"
            },
            "error_y": {
             "color": "rgb(36,36,36)"
            },
            "marker": {
             "line": {
              "color": "rgb(234,234,242)",
              "width": 0.5
             },
             "pattern": {
              "fillmode": "overlay",
              "size": 10,
              "solidity": 0.2
             }
            },
            "type": "bar"
           }
          ],
          "barpolar": [
           {
            "marker": {
             "line": {
              "color": "rgb(234,234,242)",
              "width": 0.5
             },
             "pattern": {
              "fillmode": "overlay",
              "size": 10,
              "solidity": 0.2
             }
            },
            "type": "barpolar"
           }
          ],
          "carpet": [
           {
            "aaxis": {
             "endlinecolor": "rgb(36,36,36)",
             "gridcolor": "white",
             "linecolor": "white",
             "minorgridcolor": "white",
             "startlinecolor": "rgb(36,36,36)"
            },
            "baxis": {
             "endlinecolor": "rgb(36,36,36)",
             "gridcolor": "white",
             "linecolor": "white",
             "minorgridcolor": "white",
             "startlinecolor": "rgb(36,36,36)"
            },
            "type": "carpet"
           }
          ],
          "choropleth": [
           {
            "colorbar": {
             "outlinewidth": 0,
             "tickcolor": "rgb(36,36,36)",
             "ticklen": 8,
             "ticks": "outside",
             "tickwidth": 2
            },
            "type": "choropleth"
           }
          ],
          "contour": [
           {
            "colorbar": {
             "outlinewidth": 0,
             "tickcolor": "rgb(36,36,36)",
             "ticklen": 8,
             "ticks": "outside",
             "tickwidth": 2
            },
            "colorscale": [
             [
              0,
              "rgb(2,4,25)"
             ],
             [
              0.06274509803921569,
              "rgb(24,15,41)"
             ],
             [
              0.12549019607843137,
              "rgb(47,23,57)"
             ],
             [
              0.18823529411764706,
              "rgb(71,28,72)"
             ],
             [
              0.25098039215686274,
              "rgb(97,30,82)"
             ],
             [
              0.3137254901960784,
              "rgb(123,30,89)"
             ],
             [
              0.3764705882352941,
              "rgb(150,27,91)"
             ],
             [
              0.4392156862745098,
              "rgb(177,22,88)"
             ],
             [
              0.5019607843137255,
              "rgb(203,26,79)"
             ],
             [
              0.5647058823529412,
              "rgb(223,47,67)"
             ],
             [
              0.6274509803921569,
              "rgb(236,76,61)"
             ],
             [
              0.6901960784313725,
              "rgb(242,107,73)"
             ],
             [
              0.7529411764705882,
              "rgb(244,135,95)"
             ],
             [
              0.8156862745098039,
              "rgb(245,162,122)"
             ],
             [
              0.8784313725490196,
              "rgb(246,188,153)"
             ],
             [
              0.9411764705882353,
              "rgb(247,212,187)"
             ],
             [
              1,
              "rgb(250,234,220)"
             ]
            ],
            "type": "contour"
           }
          ],
          "contourcarpet": [
           {
            "colorbar": {
             "outlinewidth": 0,
             "tickcolor": "rgb(36,36,36)",
             "ticklen": 8,
             "ticks": "outside",
             "tickwidth": 2
            },
            "type": "contourcarpet"
           }
          ],
          "heatmap": [
           {
            "colorbar": {
             "outlinewidth": 0,
             "tickcolor": "rgb(36,36,36)",
             "ticklen": 8,
             "ticks": "outside",
             "tickwidth": 2
            },
            "colorscale": [
             [
              0,
              "rgb(2,4,25)"
             ],
             [
              0.06274509803921569,
              "rgb(24,15,41)"
             ],
             [
              0.12549019607843137,
              "rgb(47,23,57)"
             ],
             [
              0.18823529411764706,
              "rgb(71,28,72)"
             ],
             [
              0.25098039215686274,
              "rgb(97,30,82)"
             ],
             [
              0.3137254901960784,
              "rgb(123,30,89)"
             ],
             [
              0.3764705882352941,
              "rgb(150,27,91)"
             ],
             [
              0.4392156862745098,
              "rgb(177,22,88)"
             ],
             [
              0.5019607843137255,
              "rgb(203,26,79)"
             ],
             [
              0.5647058823529412,
              "rgb(223,47,67)"
             ],
             [
              0.6274509803921569,
              "rgb(236,76,61)"
             ],
             [
              0.6901960784313725,
              "rgb(242,107,73)"
             ],
             [
              0.7529411764705882,
              "rgb(244,135,95)"
             ],
             [
              0.8156862745098039,
              "rgb(245,162,122)"
             ],
             [
              0.8784313725490196,
              "rgb(246,188,153)"
             ],
             [
              0.9411764705882353,
              "rgb(247,212,187)"
             ],
             [
              1,
              "rgb(250,234,220)"
             ]
            ],
            "type": "heatmap"
           }
          ],
          "histogram": [
           {
            "marker": {
             "pattern": {
              "fillmode": "overlay",
              "size": 10,
              "solidity": 0.2
             }
            },
            "type": "histogram"
           }
          ],
          "histogram2d": [
           {
            "colorbar": {
             "outlinewidth": 0,
             "tickcolor": "rgb(36,36,36)",
             "ticklen": 8,
             "ticks": "outside",
             "tickwidth": 2
            },
            "colorscale": [
             [
              0,
              "rgb(2,4,25)"
             ],
             [
              0.06274509803921569,
              "rgb(24,15,41)"
             ],
             [
              0.12549019607843137,
              "rgb(47,23,57)"
             ],
             [
              0.18823529411764706,
              "rgb(71,28,72)"
             ],
             [
              0.25098039215686274,
              "rgb(97,30,82)"
             ],
             [
              0.3137254901960784,
              "rgb(123,30,89)"
             ],
             [
              0.3764705882352941,
              "rgb(150,27,91)"
             ],
             [
              0.4392156862745098,
              "rgb(177,22,88)"
             ],
             [
              0.5019607843137255,
              "rgb(203,26,79)"
             ],
             [
              0.5647058823529412,
              "rgb(223,47,67)"
             ],
             [
              0.6274509803921569,
              "rgb(236,76,61)"
             ],
             [
              0.6901960784313725,
              "rgb(242,107,73)"
             ],
             [
              0.7529411764705882,
              "rgb(244,135,95)"
             ],
             [
              0.8156862745098039,
              "rgb(245,162,122)"
             ],
             [
              0.8784313725490196,
              "rgb(246,188,153)"
             ],
             [
              0.9411764705882353,
              "rgb(247,212,187)"
             ],
             [
              1,
              "rgb(250,234,220)"
             ]
            ],
            "type": "histogram2d"
           }
          ],
          "histogram2dcontour": [
           {
            "colorbar": {
             "outlinewidth": 0,
             "tickcolor": "rgb(36,36,36)",
             "ticklen": 8,
             "ticks": "outside",
             "tickwidth": 2
            },
            "colorscale": [
             [
              0,
              "rgb(2,4,25)"
             ],
             [
              0.06274509803921569,
              "rgb(24,15,41)"
             ],
             [
              0.12549019607843137,
              "rgb(47,23,57)"
             ],
             [
              0.18823529411764706,
              "rgb(71,28,72)"
             ],
             [
              0.25098039215686274,
              "rgb(97,30,82)"
             ],
             [
              0.3137254901960784,
              "rgb(123,30,89)"
             ],
             [
              0.3764705882352941,
              "rgb(150,27,91)"
             ],
             [
              0.4392156862745098,
              "rgb(177,22,88)"
             ],
             [
              0.5019607843137255,
              "rgb(203,26,79)"
             ],
             [
              0.5647058823529412,
              "rgb(223,47,67)"
             ],
             [
              0.6274509803921569,
              "rgb(236,76,61)"
             ],
             [
              0.6901960784313725,
              "rgb(242,107,73)"
             ],
             [
              0.7529411764705882,
              "rgb(244,135,95)"
             ],
             [
              0.8156862745098039,
              "rgb(245,162,122)"
             ],
             [
              0.8784313725490196,
              "rgb(246,188,153)"
             ],
             [
              0.9411764705882353,
              "rgb(247,212,187)"
             ],
             [
              1,
              "rgb(250,234,220)"
             ]
            ],
            "type": "histogram2dcontour"
           }
          ],
          "mesh3d": [
           {
            "colorbar": {
             "outlinewidth": 0,
             "tickcolor": "rgb(36,36,36)",
             "ticklen": 8,
             "ticks": "outside",
             "tickwidth": 2
            },
            "type": "mesh3d"
           }
          ],
          "parcoords": [
           {
            "line": {
             "colorbar": {
              "outlinewidth": 0,
              "tickcolor": "rgb(36,36,36)",
              "ticklen": 8,
              "ticks": "outside",
              "tickwidth": 2
             }
            },
            "type": "parcoords"
           }
          ],
          "pie": [
           {
            "automargin": true,
            "type": "pie"
           }
          ],
          "scatter": [
           {
            "fillpattern": {
             "fillmode": "overlay",
             "size": 10,
             "solidity": 0.2
            },
            "type": "scatter"
           }
          ],
          "scatter3d": [
           {
            "line": {
             "colorbar": {
              "outlinewidth": 0,
              "tickcolor": "rgb(36,36,36)",
              "ticklen": 8,
              "ticks": "outside",
              "tickwidth": 2
             }
            },
            "marker": {
             "colorbar": {
              "outlinewidth": 0,
              "tickcolor": "rgb(36,36,36)",
              "ticklen": 8,
              "ticks": "outside",
              "tickwidth": 2
             }
            },
            "type": "scatter3d"
           }
          ],
          "scattercarpet": [
           {
            "marker": {
             "colorbar": {
              "outlinewidth": 0,
              "tickcolor": "rgb(36,36,36)",
              "ticklen": 8,
              "ticks": "outside",
              "tickwidth": 2
             }
            },
            "type": "scattercarpet"
           }
          ],
          "scattergeo": [
           {
            "marker": {
             "colorbar": {
              "outlinewidth": 0,
              "tickcolor": "rgb(36,36,36)",
              "ticklen": 8,
              "ticks": "outside",
              "tickwidth": 2
             }
            },
            "type": "scattergeo"
           }
          ],
          "scattergl": [
           {
            "marker": {
             "colorbar": {
              "outlinewidth": 0,
              "tickcolor": "rgb(36,36,36)",
              "ticklen": 8,
              "ticks": "outside",
              "tickwidth": 2
             }
            },
            "type": "scattergl"
           }
          ],
          "scattermap": [
           {
            "marker": {
             "colorbar": {
              "outlinewidth": 0,
              "tickcolor": "rgb(36,36,36)",
              "ticklen": 8,
              "ticks": "outside",
              "tickwidth": 2
             }
            },
            "type": "scattermap"
           }
          ],
          "scattermapbox": [
           {
            "marker": {
             "colorbar": {
              "outlinewidth": 0,
              "tickcolor": "rgb(36,36,36)",
              "ticklen": 8,
              "ticks": "outside",
              "tickwidth": 2
             }
            },
            "type": "scattermapbox"
           }
          ],
          "scatterpolar": [
           {
            "marker": {
             "colorbar": {
              "outlinewidth": 0,
              "tickcolor": "rgb(36,36,36)",
              "ticklen": 8,
              "ticks": "outside",
              "tickwidth": 2
             }
            },
            "type": "scatterpolar"
           }
          ],
          "scatterpolargl": [
           {
            "marker": {
             "colorbar": {
              "outlinewidth": 0,
              "tickcolor": "rgb(36,36,36)",
              "ticklen": 8,
              "ticks": "outside",
              "tickwidth": 2
             }
            },
            "type": "scatterpolargl"
           }
          ],
          "scatterternary": [
           {
            "marker": {
             "colorbar": {
              "outlinewidth": 0,
              "tickcolor": "rgb(36,36,36)",
              "ticklen": 8,
              "ticks": "outside",
              "tickwidth": 2
             }
            },
            "type": "scatterternary"
           }
          ],
          "surface": [
           {
            "colorbar": {
             "outlinewidth": 0,
             "tickcolor": "rgb(36,36,36)",
             "ticklen": 8,
             "ticks": "outside",
             "tickwidth": 2
            },
            "colorscale": [
             [
              0,
              "rgb(2,4,25)"
             ],
             [
              0.06274509803921569,
              "rgb(24,15,41)"
             ],
             [
              0.12549019607843137,
              "rgb(47,23,57)"
             ],
             [
              0.18823529411764706,
              "rgb(71,28,72)"
             ],
             [
              0.25098039215686274,
              "rgb(97,30,82)"
             ],
             [
              0.3137254901960784,
              "rgb(123,30,89)"
             ],
             [
              0.3764705882352941,
              "rgb(150,27,91)"
             ],
             [
              0.4392156862745098,
              "rgb(177,22,88)"
             ],
             [
              0.5019607843137255,
              "rgb(203,26,79)"
             ],
             [
              0.5647058823529412,
              "rgb(223,47,67)"
             ],
             [
              0.6274509803921569,
              "rgb(236,76,61)"
             ],
             [
              0.6901960784313725,
              "rgb(242,107,73)"
             ],
             [
              0.7529411764705882,
              "rgb(244,135,95)"
             ],
             [
              0.8156862745098039,
              "rgb(245,162,122)"
             ],
             [
              0.8784313725490196,
              "rgb(246,188,153)"
             ],
             [
              0.9411764705882353,
              "rgb(247,212,187)"
             ],
             [
              1,
              "rgb(250,234,220)"
             ]
            ],
            "type": "surface"
           }
          ],
          "table": [
           {
            "cells": {
             "fill": {
              "color": "rgb(231,231,240)"
             },
             "line": {
              "color": "white"
             }
            },
            "header": {
             "fill": {
              "color": "rgb(183,183,191)"
             },
             "line": {
              "color": "white"
             }
            },
            "type": "table"
           }
          ]
         },
         "layout": {
          "annotationdefaults": {
           "arrowcolor": "rgb(67,103,167)"
          },
          "autotypenumbers": "strict",
          "coloraxis": {
           "colorbar": {
            "outlinewidth": 0,
            "tickcolor": "rgb(36,36,36)",
            "ticklen": 8,
            "ticks": "outside",
            "tickwidth": 2
           }
          },
          "colorscale": {
           "sequential": [
            [
             0,
             "rgb(2,4,25)"
            ],
            [
             0.06274509803921569,
             "rgb(24,15,41)"
            ],
            [
             0.12549019607843137,
             "rgb(47,23,57)"
            ],
            [
             0.18823529411764706,
             "rgb(71,28,72)"
            ],
            [
             0.25098039215686274,
             "rgb(97,30,82)"
            ],
            [
             0.3137254901960784,
             "rgb(123,30,89)"
            ],
            [
             0.3764705882352941,
             "rgb(150,27,91)"
            ],
            [
             0.4392156862745098,
             "rgb(177,22,88)"
            ],
            [
             0.5019607843137255,
             "rgb(203,26,79)"
            ],
            [
             0.5647058823529412,
             "rgb(223,47,67)"
            ],
            [
             0.6274509803921569,
             "rgb(236,76,61)"
            ],
            [
             0.6901960784313725,
             "rgb(242,107,73)"
            ],
            [
             0.7529411764705882,
             "rgb(244,135,95)"
            ],
            [
             0.8156862745098039,
             "rgb(245,162,122)"
            ],
            [
             0.8784313725490196,
             "rgb(246,188,153)"
            ],
            [
             0.9411764705882353,
             "rgb(247,212,187)"
            ],
            [
             1,
             "rgb(250,234,220)"
            ]
           ],
           "sequentialminus": [
            [
             0,
             "rgb(2,4,25)"
            ],
            [
             0.06274509803921569,
             "rgb(24,15,41)"
            ],
            [
             0.12549019607843137,
             "rgb(47,23,57)"
            ],
            [
             0.18823529411764706,
             "rgb(71,28,72)"
            ],
            [
             0.25098039215686274,
             "rgb(97,30,82)"
            ],
            [
             0.3137254901960784,
             "rgb(123,30,89)"
            ],
            [
             0.3764705882352941,
             "rgb(150,27,91)"
            ],
            [
             0.4392156862745098,
             "rgb(177,22,88)"
            ],
            [
             0.5019607843137255,
             "rgb(203,26,79)"
            ],
            [
             0.5647058823529412,
             "rgb(223,47,67)"
            ],
            [
             0.6274509803921569,
             "rgb(236,76,61)"
            ],
            [
             0.6901960784313725,
             "rgb(242,107,73)"
            ],
            [
             0.7529411764705882,
             "rgb(244,135,95)"
            ],
            [
             0.8156862745098039,
             "rgb(245,162,122)"
            ],
            [
             0.8784313725490196,
             "rgb(246,188,153)"
            ],
            [
             0.9411764705882353,
             "rgb(247,212,187)"
            ],
            [
             1,
             "rgb(250,234,220)"
            ]
           ]
          },
          "colorway": [
           "rgb(76,114,176)",
           "rgb(221,132,82)",
           "rgb(85,168,104)",
           "rgb(196,78,82)",
           "rgb(129,114,179)",
           "rgb(147,120,96)",
           "rgb(218,139,195)",
           "rgb(140,140,140)",
           "rgb(204,185,116)",
           "rgb(100,181,205)"
          ],
          "font": {
           "color": "rgb(36,36,36)"
          },
          "geo": {
           "bgcolor": "white",
           "lakecolor": "white",
           "landcolor": "rgb(234,234,242)",
           "showlakes": true,
           "showland": true,
           "subunitcolor": "white"
          },
          "hoverlabel": {
           "align": "left"
          },
          "hovermode": "closest",
          "paper_bgcolor": "white",
          "plot_bgcolor": "rgb(234,234,242)",
          "polar": {
           "angularaxis": {
            "gridcolor": "white",
            "linecolor": "white",
            "showgrid": true,
            "ticks": ""
           },
           "bgcolor": "rgb(234,234,242)",
           "radialaxis": {
            "gridcolor": "white",
            "linecolor": "white",
            "showgrid": true,
            "ticks": ""
           }
          },
          "scene": {
           "xaxis": {
            "backgroundcolor": "rgb(234,234,242)",
            "gridcolor": "white",
            "gridwidth": 2,
            "linecolor": "white",
            "showbackground": true,
            "showgrid": true,
            "ticks": "",
            "zerolinecolor": "white"
           },
           "yaxis": {
            "backgroundcolor": "rgb(234,234,242)",
            "gridcolor": "white",
            "gridwidth": 2,
            "linecolor": "white",
            "showbackground": true,
            "showgrid": true,
            "ticks": "",
            "zerolinecolor": "white"
           },
           "zaxis": {
            "backgroundcolor": "rgb(234,234,242)",
            "gridcolor": "white",
            "gridwidth": 2,
            "linecolor": "white",
            "showbackground": true,
            "showgrid": true,
            "ticks": "",
            "zerolinecolor": "white"
           }
          },
          "shapedefaults": {
           "fillcolor": "rgb(67,103,167)",
           "line": {
            "width": 0
           },
           "opacity": 0.5
          },
          "ternary": {
           "aaxis": {
            "gridcolor": "white",
            "linecolor": "white",
            "showgrid": true,
            "ticks": ""
           },
           "baxis": {
            "gridcolor": "white",
            "linecolor": "white",
            "showgrid": true,
            "ticks": ""
           },
           "bgcolor": "rgb(234,234,242)",
           "caxis": {
            "gridcolor": "white",
            "linecolor": "white",
            "showgrid": true,
            "ticks": ""
           }
          },
          "xaxis": {
           "automargin": true,
           "gridcolor": "white",
           "linecolor": "white",
           "showgrid": true,
           "ticks": "",
           "title": {
            "standoff": 15
           },
           "zerolinecolor": "white"
          },
          "yaxis": {
           "automargin": true,
           "gridcolor": "white",
           "linecolor": "white",
           "showgrid": true,
           "ticks": "",
           "title": {
            "standoff": 15
           },
           "zerolinecolor": "white"
          }
         }
        },
        "title": {
         "text": "Dollar Bars"
        },
        "xaxis": {
         "rangeslider": {
          "visible": true
         },
         "title": {
          "text": "Bar"
         }
        },
        "yaxis": {
         "title": {
          "text": "Price (USD)"
         }
        }
       }
      }
     },
     "metadata": {},
     "output_type": "display_data"
    }
   ],
   "source": [
    "fig = go.Figure(data=[go.Candlestick(\n",
    "    x=dollar_bars['start_time'],\n",
    "    open=dollar_bars['open'],\n",
    "    high=dollar_bars['high'],\n",
    "    low=dollar_bars['low'],\n",
    "    close=dollar_bars['close'],\n",
    "    name='Dollar Bars'\n",
    ")])\n",
    "\n",
    "fig.update_layout(\n",
    "    title=f'Dollar Bars',\n",
    "    yaxis_title='Price (USD)',\n",
    "    xaxis_title='Bar',\n",
    "    xaxis_rangeslider_visible=True, \n",
    "    template='seaborn', # other options: plotly, plotly_white, plotly_dark, simple_white\n",
    "    showlegend=True,\n",
    ")"
   ]
  }
 ],
 "metadata": {
  "kernelspec": {
   "display_name": "Python 3",
   "language": "python",
   "name": "python3"
  },
  "language_info": {
   "codemirror_mode": {
    "name": "ipython",
    "version": 3
   },
   "file_extension": ".py",
   "mimetype": "text/x-python",
   "name": "python",
   "nbconvert_exporter": "python",
   "pygments_lexer": "ipython3",
   "version": "3.11.1"
  }
 },
 "nbformat": 4,
 "nbformat_minor": 5
}

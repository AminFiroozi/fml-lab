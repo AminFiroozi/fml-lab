{
 "cells": [
  {
   "cell_type": "markdown",
   "id": "21558aa9",
   "metadata": {},
   "source": [
    "# Install dependencies"
   ]
  },
  {
   "cell_type": "code",
   "execution_count": 62,
   "id": "1c38c2ea",
   "metadata": {},
   "outputs": [
    {
     "name": "stdout",
     "output_type": "stream",
     "text": [
      "Note: you may need to restart the kernel to use updated packages.\n"
     ]
    }
   ],
   "source": [
    "%pip install -r requirements.txt -q"
   ]
  },
  {
   "cell_type": "markdown",
   "id": "20ab1956",
   "metadata": {},
   "source": [
    "# imports"
   ]
  },
  {
   "cell_type": "code",
   "execution_count": 63,
   "id": "83d8dbcc",
   "metadata": {},
   "outputs": [],
   "source": [
    "import numpy as np\n",
    "import plotly.graph_objects as go\n",
    "import pandas as pd\n",
    "import random\n",
    "import os\n",
    "from datetime import datetime, timedelta\n",
    "import tradermade\n",
    "import yfinance as yf\n",
    "from typing import List, TypedDict, Union, Dict"
   ]
  },
  {
   "cell_type": "markdown",
   "id": "db0c422a",
   "metadata": {},
   "source": [
    "# Constants"
   ]
  },
  {
   "cell_type": "code",
   "execution_count": 64,
   "id": "4594450c",
   "metadata": {},
   "outputs": [],
   "source": [
    "TRADERMADE_API_KEY = os.getenv(\"TRADERMADE_API_KEY\")\n",
    "CURRENCY = \"XAUUSD\"\n",
    "REQUIRED_COLUMNS = ['Open', 'High', 'Low', 'Close']\n",
    "TICKER = \"SPY\"\n",
    "\n",
    "END_DATE = datetime.now()\n",
    "START_DATE = END_DATE - timedelta(days=365)\n",
    "INTERVAL = \"1d\""
   ]
  },
  {
   "cell_type": "markdown",
   "id": "7ea11c60",
   "metadata": {},
   "source": [
    "# Initialization"
   ]
  },
  {
   "cell_type": "code",
   "execution_count": 65,
   "id": "b2c7820b",
   "metadata": {},
   "outputs": [],
   "source": [
    "tradermade.set_rest_api_key(TRADERMADE_API_KEY)"
   ]
  },
  {
   "cell_type": "markdown",
   "id": "dd735beb",
   "metadata": {},
   "source": [
    "# Get unstructured data (tick level)"
   ]
  },
  {
   "cell_type": "markdown",
   "id": "45dcaffc",
   "metadata": {},
   "source": [
    "## Get from yfinance (bars)"
   ]
  },
  {
   "cell_type": "code",
   "execution_count": 66,
   "id": "4a4fa175",
   "metadata": {},
   "outputs": [],
   "source": [
    "# df = yf.download(TICKER, start=START_DATE, end=END_DATE, interval=INTERVAL, auto_adjust=False, ignore_tz=True)"
   ]
  },
  {
   "cell_type": "markdown",
   "id": "e31b6c5e",
   "metadata": {},
   "source": [
    "### Preprocessing data"
   ]
  },
  {
   "cell_type": "markdown",
   "id": "1bd2bdf4",
   "metadata": {},
   "source": [
    "#### Handle MultiIndex columns"
   ]
  },
  {
   "cell_type": "code",
   "execution_count": 67,
   "id": "fbfa7ae1",
   "metadata": {},
   "outputs": [],
   "source": [
    "# if isinstance(df.columns, pd.MultiIndex):\n",
    "#     df = df.xs(TICKER, axis=1, level=1)\n",
    "#     df.columns = [col.title() for col in df.columns]\n",
    "# else:\n",
    "#     df.columns = [col.title() for col in df.columns]"
   ]
  },
  {
   "cell_type": "markdown",
   "id": "9eca2cdb",
   "metadata": {},
   "source": [
    "#### Convert required columns to numeric and drop rows with NaN"
   ]
  },
  {
   "cell_type": "code",
   "execution_count": 68,
   "id": "2d346cd4",
   "metadata": {},
   "outputs": [],
   "source": [
    "# df[REQUIRED_COLUMNS] = df[REQUIRED_COLUMNS].apply(pd.to_numeric, errors='coerce')\n",
    "# df = df.dropna(subset=REQUIRED_COLUMNS)\n",
    "# df.index = df.index.tz_localize(None)"
   ]
  },
  {
   "cell_type": "markdown",
   "id": "cc19780a",
   "metadata": {},
   "source": [
    "## Mock data"
   ]
  },
  {
   "cell_type": "code",
   "execution_count": 69,
   "id": "ed4bc5da",
   "metadata": {},
   "outputs": [
    {
     "data": {
      "text/html": [
       "<div>\n",
       "<style scoped>\n",
       "    .dataframe tbody tr th:only-of-type {\n",
       "        vertical-align: middle;\n",
       "    }\n",
       "\n",
       "    .dataframe tbody tr th {\n",
       "        vertical-align: top;\n",
       "    }\n",
       "\n",
       "    .dataframe thead th {\n",
       "        text-align: right;\n",
       "    }\n",
       "</style>\n",
       "<table border=\"1\" class=\"dataframe\">\n",
       "  <thead>\n",
       "    <tr style=\"text-align: right;\">\n",
       "      <th></th>\n",
       "      <th>timestamp</th>\n",
       "      <th>price</th>\n",
       "      <th>volume</th>\n",
       "    </tr>\n",
       "  </thead>\n",
       "  <tbody>\n",
       "    <tr>\n",
       "      <th>0</th>\n",
       "      <td>2025-07-14 09:30:39</td>\n",
       "      <td>100.00</td>\n",
       "      <td>262</td>\n",
       "    </tr>\n",
       "    <tr>\n",
       "      <th>1</th>\n",
       "      <td>2025-07-14 09:30:40</td>\n",
       "      <td>99.99</td>\n",
       "      <td>905</td>\n",
       "    </tr>\n",
       "    <tr>\n",
       "      <th>2</th>\n",
       "      <td>2025-07-14 09:31:02</td>\n",
       "      <td>100.01</td>\n",
       "      <td>844</td>\n",
       "    </tr>\n",
       "    <tr>\n",
       "      <th>3</th>\n",
       "      <td>2025-07-14 09:31:15</td>\n",
       "      <td>99.99</td>\n",
       "      <td>153</td>\n",
       "    </tr>\n",
       "    <tr>\n",
       "      <th>4</th>\n",
       "      <td>2025-07-14 09:31:44</td>\n",
       "      <td>100.00</td>\n",
       "      <td>670</td>\n",
       "    </tr>\n",
       "    <tr>\n",
       "      <th>...</th>\n",
       "      <td>...</td>\n",
       "      <td>...</td>\n",
       "      <td>...</td>\n",
       "    </tr>\n",
       "    <tr>\n",
       "      <th>995</th>\n",
       "      <td>2025-07-14 15:58:42</td>\n",
       "      <td>99.54</td>\n",
       "      <td>490</td>\n",
       "    </tr>\n",
       "    <tr>\n",
       "      <th>996</th>\n",
       "      <td>2025-07-14 15:59:07</td>\n",
       "      <td>99.48</td>\n",
       "      <td>607</td>\n",
       "    </tr>\n",
       "    <tr>\n",
       "      <th>997</th>\n",
       "      <td>2025-07-14 15:59:10</td>\n",
       "      <td>99.46</td>\n",
       "      <td>992</td>\n",
       "    </tr>\n",
       "    <tr>\n",
       "      <th>998</th>\n",
       "      <td>2025-07-14 15:59:16</td>\n",
       "      <td>99.45</td>\n",
       "      <td>682</td>\n",
       "    </tr>\n",
       "    <tr>\n",
       "      <th>999</th>\n",
       "      <td>2025-07-14 15:59:39</td>\n",
       "      <td>99.52</td>\n",
       "      <td>101</td>\n",
       "    </tr>\n",
       "  </tbody>\n",
       "</table>\n",
       "<p>1000 rows × 3 columns</p>\n",
       "</div>"
      ],
      "text/plain": [
       "              timestamp   price  volume\n",
       "0   2025-07-14 09:30:39  100.00     262\n",
       "1   2025-07-14 09:30:40   99.99     905\n",
       "2   2025-07-14 09:31:02  100.01     844\n",
       "3   2025-07-14 09:31:15   99.99     153\n",
       "4   2025-07-14 09:31:44  100.00     670\n",
       "..                  ...     ...     ...\n",
       "995 2025-07-14 15:58:42   99.54     490\n",
       "996 2025-07-14 15:59:07   99.48     607\n",
       "997 2025-07-14 15:59:10   99.46     992\n",
       "998 2025-07-14 15:59:16   99.45     682\n",
       "999 2025-07-14 15:59:39   99.52     101\n",
       "\n",
       "[1000 rows x 3 columns]"
      ]
     },
     "execution_count": 69,
     "metadata": {},
     "output_type": "execute_result"
    }
   ],
   "source": [
    "START_TIME = \"2025-07-14 09:30:00\"\n",
    "END_TIME = \"2025-07-14 16:00:00\"\n",
    "\n",
    "def generate_random_trade_times(n_trades, start_time, end_time):\n",
    "    start_ts = pd.to_datetime(start_time)\n",
    "    end_ts = pd.to_datetime(end_time)\n",
    "\n",
    "    total_seconds = int((end_ts - start_ts).total_seconds())\n",
    "\n",
    "    # Generate n_trades random seconds within the time range\n",
    "    random_seconds = sorted(random.sample(range(total_seconds), n_trades))\n",
    "    \n",
    "    return [start_ts + timedelta(seconds=s) for s in random_seconds]\n",
    "\n",
    "\n",
    "def generate_mock_trades(num_trades=1000, start_price=100.0, start_time=START_TIME, end_time=END_TIME):\n",
    "    timestamps = generate_random_trade_times(\n",
    "        n_trades=1000,\n",
    "        start_time=start_time,\n",
    "        end_time=end_time\n",
    "    )\n",
    "\n",
    "    prices = [start_price]\n",
    "    for _ in range(1, num_trades):\n",
    "        # Simulate small price changes\n",
    "        change = np.random.normal(loc=0, scale=0.05)\n",
    "        prices.append(round(prices[-1] + change, 2))\n",
    "\n",
    "    volumes = np.random.randint(1, 1000, size=num_trades)\n",
    "\n",
    "    df = pd.DataFrame({\n",
    "        'timestamp': timestamps,\n",
    "        'price': prices,\n",
    "        'volume': volumes\n",
    "    })\n",
    "    return df\n",
    "\n",
    "df = generate_mock_trades()\n",
    "df"
   ]
  },
  {
   "cell_type": "markdown",
   "id": "1f9631e8",
   "metadata": {},
   "source": [
    "# Convert unstructured data to bars"
   ]
  },
  {
   "cell_type": "code",
   "execution_count": null,
   "id": "9c2046bb",
   "metadata": {},
   "outputs": [],
   "source": [
    "def convert_to_bars(trade_groups: List[Dict[str, Union[datetime, float, int]]]) -> pd.DataFrame: # start_time, end_time, open, close, high, low, volume\n",
    "    # Sort based on time\n",
    "    trade_groups = [df.sort_values(by=\"timestamp\") for df in trade_groups]\n",
    "    # Calculate columns\n",
    "    bars = [\n",
    "        {\n",
    "            \"start_time\": group[\"timestamp\"].iloc[0],\n",
    "            \"end_time\": group[\"timestamp\"].iloc[-1],\n",
    "            \"open\": group[\"price\"].iloc[0],\n",
    "            \"close\": group[\"price\"].iloc[-1],\n",
    "            \"high\": group[\"price\"].max(),\n",
    "            \"low\": group[\"price\"].min(),\n",
    "            \"volume\": group[\"volume\"].sum()\n",
    "        } \n",
    "    for group in trade_groups]\n",
    "    \n",
    "    return pd.DataFrame(bars)"
   ]
  },
  {
   "cell_type": "markdown",
   "id": "535c1ce0",
   "metadata": {},
   "source": [
    "## Time bars"
   ]
  },
  {
   "cell_type": "code",
   "execution_count": null,
   "id": "f223eb0e",
   "metadata": {},
   "outputs": [
    {
     "data": {
      "text/html": [
       "<div>\n",
       "<style scoped>\n",
       "    .dataframe tbody tr th:only-of-type {\n",
       "        vertical-align: middle;\n",
       "    }\n",
       "\n",
       "    .dataframe tbody tr th {\n",
       "        vertical-align: top;\n",
       "    }\n",
       "\n",
       "    .dataframe thead th {\n",
       "        text-align: right;\n",
       "    }\n",
       "</style>\n",
       "<table border=\"1\" class=\"dataframe\">\n",
       "  <thead>\n",
       "    <tr style=\"text-align: right;\">\n",
       "      <th></th>\n",
       "      <th>start_time</th>\n",
       "      <th>end_time</th>\n",
       "      <th>open</th>\n",
       "      <th>high</th>\n",
       "      <th>low</th>\n",
       "      <th>close</th>\n",
       "      <th>volume</th>\n",
       "    </tr>\n",
       "  </thead>\n",
       "  <tbody>\n",
       "    <tr>\n",
       "      <th>0</th>\n",
       "      <td>2025-07-14 09:30:00</td>\n",
       "      <td>2025-07-14 09:30:59.999</td>\n",
       "      <td>100.00</td>\n",
       "      <td>100.00</td>\n",
       "      <td>99.99</td>\n",
       "      <td>99.99</td>\n",
       "      <td>1167</td>\n",
       "    </tr>\n",
       "    <tr>\n",
       "      <th>1</th>\n",
       "      <td>2025-07-14 09:31:00</td>\n",
       "      <td>2025-07-14 09:31:59.999</td>\n",
       "      <td>100.01</td>\n",
       "      <td>100.01</td>\n",
       "      <td>99.99</td>\n",
       "      <td>100.00</td>\n",
       "      <td>1667</td>\n",
       "    </tr>\n",
       "    <tr>\n",
       "      <th>2</th>\n",
       "      <td>2025-07-14 09:32:00</td>\n",
       "      <td>2025-07-14 09:32:59.999</td>\n",
       "      <td>100.02</td>\n",
       "      <td>100.02</td>\n",
       "      <td>100.02</td>\n",
       "      <td>100.02</td>\n",
       "      <td>836</td>\n",
       "    </tr>\n",
       "    <tr>\n",
       "      <th>3</th>\n",
       "      <td>2025-07-14 09:33:00</td>\n",
       "      <td>2025-07-14 09:33:59.999</td>\n",
       "      <td>100.07</td>\n",
       "      <td>100.17</td>\n",
       "      <td>100.07</td>\n",
       "      <td>100.17</td>\n",
       "      <td>1343</td>\n",
       "    </tr>\n",
       "    <tr>\n",
       "      <th>4</th>\n",
       "      <td>2025-07-14 09:34:00</td>\n",
       "      <td>2025-07-14 09:34:59.999</td>\n",
       "      <td>NaN</td>\n",
       "      <td>NaN</td>\n",
       "      <td>NaN</td>\n",
       "      <td>NaN</td>\n",
       "      <td>0</td>\n",
       "    </tr>\n",
       "    <tr>\n",
       "      <th>...</th>\n",
       "      <td>...</td>\n",
       "      <td>...</td>\n",
       "      <td>...</td>\n",
       "      <td>...</td>\n",
       "      <td>...</td>\n",
       "      <td>...</td>\n",
       "      <td>...</td>\n",
       "    </tr>\n",
       "    <tr>\n",
       "      <th>385</th>\n",
       "      <td>2025-07-14 15:55:00</td>\n",
       "      <td>2025-07-14 15:55:59.999</td>\n",
       "      <td>99.38</td>\n",
       "      <td>99.44</td>\n",
       "      <td>99.38</td>\n",
       "      <td>99.44</td>\n",
       "      <td>107</td>\n",
       "    </tr>\n",
       "    <tr>\n",
       "      <th>386</th>\n",
       "      <td>2025-07-14 15:56:00</td>\n",
       "      <td>2025-07-14 15:56:59.999</td>\n",
       "      <td>99.47</td>\n",
       "      <td>99.47</td>\n",
       "      <td>99.45</td>\n",
       "      <td>99.45</td>\n",
       "      <td>1439</td>\n",
       "    </tr>\n",
       "    <tr>\n",
       "      <th>387</th>\n",
       "      <td>2025-07-14 15:57:00</td>\n",
       "      <td>2025-07-14 15:57:59.999</td>\n",
       "      <td>99.40</td>\n",
       "      <td>99.64</td>\n",
       "      <td>99.40</td>\n",
       "      <td>99.56</td>\n",
       "      <td>2696</td>\n",
       "    </tr>\n",
       "    <tr>\n",
       "      <th>388</th>\n",
       "      <td>2025-07-14 15:58:00</td>\n",
       "      <td>2025-07-14 15:58:59.999</td>\n",
       "      <td>99.54</td>\n",
       "      <td>99.54</td>\n",
       "      <td>99.54</td>\n",
       "      <td>99.54</td>\n",
       "      <td>490</td>\n",
       "    </tr>\n",
       "    <tr>\n",
       "      <th>389</th>\n",
       "      <td>2025-07-14 15:59:00</td>\n",
       "      <td>2025-07-14 15:59:59.999</td>\n",
       "      <td>99.48</td>\n",
       "      <td>99.52</td>\n",
       "      <td>99.45</td>\n",
       "      <td>99.52</td>\n",
       "      <td>2382</td>\n",
       "    </tr>\n",
       "  </tbody>\n",
       "</table>\n",
       "<p>390 rows × 7 columns</p>\n",
       "</div>"
      ],
      "text/plain": [
       "             start_time                end_time    open    high     low  \\\n",
       "0   2025-07-14 09:30:00 2025-07-14 09:30:59.999  100.00  100.00   99.99   \n",
       "1   2025-07-14 09:31:00 2025-07-14 09:31:59.999  100.01  100.01   99.99   \n",
       "2   2025-07-14 09:32:00 2025-07-14 09:32:59.999  100.02  100.02  100.02   \n",
       "3   2025-07-14 09:33:00 2025-07-14 09:33:59.999  100.07  100.17  100.07   \n",
       "4   2025-07-14 09:34:00 2025-07-14 09:34:59.999     NaN     NaN     NaN   \n",
       "..                  ...                     ...     ...     ...     ...   \n",
       "385 2025-07-14 15:55:00 2025-07-14 15:55:59.999   99.38   99.44   99.38   \n",
       "386 2025-07-14 15:56:00 2025-07-14 15:56:59.999   99.47   99.47   99.45   \n",
       "387 2025-07-14 15:57:00 2025-07-14 15:57:59.999   99.40   99.64   99.40   \n",
       "388 2025-07-14 15:58:00 2025-07-14 15:58:59.999   99.54   99.54   99.54   \n",
       "389 2025-07-14 15:59:00 2025-07-14 15:59:59.999   99.48   99.52   99.45   \n",
       "\n",
       "      close  volume  \n",
       "0     99.99    1167  \n",
       "1    100.00    1667  \n",
       "2    100.02     836  \n",
       "3    100.17    1343  \n",
       "4       NaN       0  \n",
       "..      ...     ...  \n",
       "385   99.44     107  \n",
       "386   99.45    1439  \n",
       "387   99.56    2696  \n",
       "388   99.54     490  \n",
       "389   99.52    2382  \n",
       "\n",
       "[390 rows x 7 columns]"
      ]
     },
     "execution_count": 144,
     "metadata": {},
     "output_type": "execute_result"
    }
   ],
   "source": [
    "def generate_time_bars(unstructured_data, sampling_rate: int=60, fill_empty: bool=False) -> pd.DataFrame:    \n",
    "    unstructured_data_copy = unstructured_data.copy()\n",
    "    unstructured_data_copy[\"timestamp\"] = pd.to_datetime(unstructured_data_copy[\"timestamp\"])\n",
    "    unstructured_data_copy = unstructured_data_copy.set_index(\"timestamp\")\n",
    "    \n",
    "    # Perform resampling and calculate OHLCV\n",
    "    bars = unstructured_data_copy.resample(f\"{sampling_rate}s\").agg({\n",
    "        \"price\": [\"first\", \"max\", \"min\", \"last\"],\n",
    "        \"volume\": \"sum\"\n",
    "    })\n",
    "\n",
    "    bars.columns = [\"open\", \"high\", \"low\", \"close\", \"volume\"]\n",
    "    bars = bars.reset_index()\n",
    "    \n",
    "    bars[\"start_time\"] = bars[\"timestamp\"]\n",
    "    bars[\"end_time\"] = bars[\"start_time\"] + timedelta(seconds=sampling_rate) - timedelta(milliseconds=1)\n",
    "    bars = bars.drop(columns=[\"timestamp\"])\n",
    "\n",
    "    # Fill empty time slots\n",
    "    if fill_empty:\n",
    "        empty_mask = bars[\"close\"].isna()\n",
    "        bars[\"close\"] = bars[\"close\"].ffill()\n",
    "\n",
    "        for col in [\"open\", \"high\", \"low\"]:\n",
    "            bars.loc[empty_mask, col] = bars.loc[empty_mask, \"close\"]\n",
    "\n",
    "        bars[\"volume\"] = bars[\"volume\"].fillna(0)\n",
    "        \n",
    "    # Reorder columns\n",
    "    cols = [\"start_time\", \"end_time\"] + [col for col in bars.columns if col not in [\"start_time\", \"end_time\"]]\n",
    "    bars = bars[cols]\n",
    "    return bars"
   ]
  },
  {
   "cell_type": "markdown",
   "id": "8f62a1ba",
   "metadata": {},
   "source": [
    "## Tick bars"
   ]
  },
  {
   "cell_type": "code",
   "execution_count": null,
   "id": "538cd90c",
   "metadata": {},
   "outputs": [
    {
     "data": {
      "text/html": [
       "<div>\n",
       "<style scoped>\n",
       "    .dataframe tbody tr th:only-of-type {\n",
       "        vertical-align: middle;\n",
       "    }\n",
       "\n",
       "    .dataframe tbody tr th {\n",
       "        vertical-align: top;\n",
       "    }\n",
       "\n",
       "    .dataframe thead th {\n",
       "        text-align: right;\n",
       "    }\n",
       "</style>\n",
       "<table border=\"1\" class=\"dataframe\">\n",
       "  <thead>\n",
       "    <tr style=\"text-align: right;\">\n",
       "      <th></th>\n",
       "      <th>start_time</th>\n",
       "      <th>end_time</th>\n",
       "      <th>open</th>\n",
       "      <th>close</th>\n",
       "      <th>high</th>\n",
       "      <th>low</th>\n",
       "      <th>volume</th>\n",
       "    </tr>\n",
       "  </thead>\n",
       "  <tbody>\n",
       "    <tr>\n",
       "      <th>0</th>\n",
       "      <td>2025-07-14 09:30:39</td>\n",
       "      <td>2025-07-14 09:31:44</td>\n",
       "      <td>100.00</td>\n",
       "      <td>100.00</td>\n",
       "      <td>100.01</td>\n",
       "      <td>99.99</td>\n",
       "      <td>2834</td>\n",
       "    </tr>\n",
       "    <tr>\n",
       "      <th>1</th>\n",
       "      <td>2025-07-14 09:32:48</td>\n",
       "      <td>2025-07-14 09:35:19</td>\n",
       "      <td>100.02</td>\n",
       "      <td>100.23</td>\n",
       "      <td>100.23</td>\n",
       "      <td>100.02</td>\n",
       "      <td>3141</td>\n",
       "    </tr>\n",
       "    <tr>\n",
       "      <th>2</th>\n",
       "      <td>2025-07-14 09:35:49</td>\n",
       "      <td>2025-07-14 09:38:51</td>\n",
       "      <td>100.21</td>\n",
       "      <td>100.29</td>\n",
       "      <td>100.29</td>\n",
       "      <td>100.21</td>\n",
       "      <td>2290</td>\n",
       "    </tr>\n",
       "    <tr>\n",
       "      <th>3</th>\n",
       "      <td>2025-07-14 09:38:52</td>\n",
       "      <td>2025-07-14 09:39:32</td>\n",
       "      <td>100.35</td>\n",
       "      <td>100.46</td>\n",
       "      <td>100.46</td>\n",
       "      <td>100.35</td>\n",
       "      <td>1577</td>\n",
       "    </tr>\n",
       "    <tr>\n",
       "      <th>4</th>\n",
       "      <td>2025-07-14 09:40:43</td>\n",
       "      <td>2025-07-14 09:42:24</td>\n",
       "      <td>100.45</td>\n",
       "      <td>100.31</td>\n",
       "      <td>100.45</td>\n",
       "      <td>100.31</td>\n",
       "      <td>2282</td>\n",
       "    </tr>\n",
       "    <tr>\n",
       "      <th>...</th>\n",
       "      <td>...</td>\n",
       "      <td>...</td>\n",
       "      <td>...</td>\n",
       "      <td>...</td>\n",
       "      <td>...</td>\n",
       "      <td>...</td>\n",
       "      <td>...</td>\n",
       "    </tr>\n",
       "    <tr>\n",
       "      <th>195</th>\n",
       "      <td>2025-07-14 15:52:33</td>\n",
       "      <td>2025-07-14 15:53:14</td>\n",
       "      <td>99.54</td>\n",
       "      <td>99.48</td>\n",
       "      <td>99.54</td>\n",
       "      <td>99.48</td>\n",
       "      <td>2155</td>\n",
       "    </tr>\n",
       "    <tr>\n",
       "      <th>196</th>\n",
       "      <td>2025-07-14 15:53:25</td>\n",
       "      <td>2025-07-14 15:54:36</td>\n",
       "      <td>99.40</td>\n",
       "      <td>99.40</td>\n",
       "      <td>99.50</td>\n",
       "      <td>99.38</td>\n",
       "      <td>2972</td>\n",
       "    </tr>\n",
       "    <tr>\n",
       "      <th>197</th>\n",
       "      <td>2025-07-14 15:55:15</td>\n",
       "      <td>2025-07-14 15:57:07</td>\n",
       "      <td>99.38</td>\n",
       "      <td>99.40</td>\n",
       "      <td>99.47</td>\n",
       "      <td>99.38</td>\n",
       "      <td>1766</td>\n",
       "    </tr>\n",
       "    <tr>\n",
       "      <th>198</th>\n",
       "      <td>2025-07-14 15:57:26</td>\n",
       "      <td>2025-07-14 15:57:59</td>\n",
       "      <td>99.45</td>\n",
       "      <td>99.56</td>\n",
       "      <td>99.64</td>\n",
       "      <td>99.45</td>\n",
       "      <td>2476</td>\n",
       "    </tr>\n",
       "    <tr>\n",
       "      <th>199</th>\n",
       "      <td>2025-07-14 15:58:42</td>\n",
       "      <td>2025-07-14 15:59:39</td>\n",
       "      <td>99.54</td>\n",
       "      <td>99.52</td>\n",
       "      <td>99.54</td>\n",
       "      <td>99.45</td>\n",
       "      <td>2872</td>\n",
       "    </tr>\n",
       "  </tbody>\n",
       "</table>\n",
       "<p>200 rows × 7 columns</p>\n",
       "</div>"
      ],
      "text/plain": [
       "             start_time            end_time    open   close    high     low  \\\n",
       "0   2025-07-14 09:30:39 2025-07-14 09:31:44  100.00  100.00  100.01   99.99   \n",
       "1   2025-07-14 09:32:48 2025-07-14 09:35:19  100.02  100.23  100.23  100.02   \n",
       "2   2025-07-14 09:35:49 2025-07-14 09:38:51  100.21  100.29  100.29  100.21   \n",
       "3   2025-07-14 09:38:52 2025-07-14 09:39:32  100.35  100.46  100.46  100.35   \n",
       "4   2025-07-14 09:40:43 2025-07-14 09:42:24  100.45  100.31  100.45  100.31   \n",
       "..                  ...                 ...     ...     ...     ...     ...   \n",
       "195 2025-07-14 15:52:33 2025-07-14 15:53:14   99.54   99.48   99.54   99.48   \n",
       "196 2025-07-14 15:53:25 2025-07-14 15:54:36   99.40   99.40   99.50   99.38   \n",
       "197 2025-07-14 15:55:15 2025-07-14 15:57:07   99.38   99.40   99.47   99.38   \n",
       "198 2025-07-14 15:57:26 2025-07-14 15:57:59   99.45   99.56   99.64   99.45   \n",
       "199 2025-07-14 15:58:42 2025-07-14 15:59:39   99.54   99.52   99.54   99.45   \n",
       "\n",
       "     volume  \n",
       "0      2834  \n",
       "1      3141  \n",
       "2      2290  \n",
       "3      1577  \n",
       "4      2282  \n",
       "..      ...  \n",
       "195    2155  \n",
       "196    2972  \n",
       "197    1766  \n",
       "198    2476  \n",
       "199    2872  \n",
       "\n",
       "[200 rows x 7 columns]"
      ]
     },
     "execution_count": 110,
     "metadata": {},
     "output_type": "execute_result"
    }
   ],
   "source": [
    "def generate_tick_bars(unstructured_data, sampling_rate=5) -> pd.DataFrame: \n",
    "    # Grouping\n",
    "    trade_groups = [unstructured_data.iloc[i:i + sampling_rate] for i in range(0, len(unstructured_data), sampling_rate)]\n",
    "    # Generating bars\n",
    "    return convert_to_bars(trade_groups)"
   ]
  },
  {
   "cell_type": "markdown",
   "id": "ef42d709",
   "metadata": {},
   "source": [
    "## Volume bars"
   ]
  },
  {
   "cell_type": "markdown",
   "id": "bb715fd9",
   "metadata": {},
   "source": [
    "## Dollar bars"
   ]
  },
  {
   "cell_type": "markdown",
   "id": "6bde251b",
   "metadata": {},
   "source": [
    "# Plot bars"
   ]
  },
  {
   "cell_type": "markdown",
   "id": "d5e91059",
   "metadata": {},
   "source": [
    "## Time bars"
   ]
  },
  {
   "cell_type": "code",
   "execution_count": 73,
   "id": "f69acfd7",
   "metadata": {},
   "outputs": [
    {
     "ename": "KeyError",
     "evalue": "'Open'",
     "output_type": "error",
     "traceback": [
      "\u001b[1;31m---------------------------------------------------------------------------\u001b[0m",
      "\u001b[1;31mKeyError\u001b[0m                                  Traceback (most recent call last)",
      "File \u001b[1;32mc:\\Users\\afiro\\AppData\\Local\\Programs\\Python\\Python311\\Lib\\site-packages\\pandas\\core\\indexes\\base.py:3805\u001b[0m, in \u001b[0;36mIndex.get_loc\u001b[1;34m(self, key)\u001b[0m\n\u001b[0;32m   3804\u001b[0m \u001b[38;5;28;01mtry\u001b[39;00m:\n\u001b[1;32m-> 3805\u001b[0m     \u001b[38;5;28;01mreturn\u001b[39;00m \u001b[38;5;28;43mself\u001b[39;49m\u001b[38;5;241;43m.\u001b[39;49m\u001b[43m_engine\u001b[49m\u001b[38;5;241;43m.\u001b[39;49m\u001b[43mget_loc\u001b[49m\u001b[43m(\u001b[49m\u001b[43mcasted_key\u001b[49m\u001b[43m)\u001b[49m\n\u001b[0;32m   3806\u001b[0m \u001b[38;5;28;01mexcept\u001b[39;00m \u001b[38;5;167;01mKeyError\u001b[39;00m \u001b[38;5;28;01mas\u001b[39;00m err:\n",
      "File \u001b[1;32mindex.pyx:167\u001b[0m, in \u001b[0;36mpandas._libs.index.IndexEngine.get_loc\u001b[1;34m()\u001b[0m\n",
      "File \u001b[1;32mindex.pyx:196\u001b[0m, in \u001b[0;36mpandas._libs.index.IndexEngine.get_loc\u001b[1;34m()\u001b[0m\n",
      "File \u001b[1;32mpandas\\\\_libs\\\\hashtable_class_helper.pxi:7081\u001b[0m, in \u001b[0;36mpandas._libs.hashtable.PyObjectHashTable.get_item\u001b[1;34m()\u001b[0m\n",
      "File \u001b[1;32mpandas\\\\_libs\\\\hashtable_class_helper.pxi:7089\u001b[0m, in \u001b[0;36mpandas._libs.hashtable.PyObjectHashTable.get_item\u001b[1;34m()\u001b[0m\n",
      "\u001b[1;31mKeyError\u001b[0m: 'Open'",
      "\nThe above exception was the direct cause of the following exception:\n",
      "\u001b[1;31mKeyError\u001b[0m                                  Traceback (most recent call last)",
      "Cell \u001b[1;32mIn[73], line 3\u001b[0m\n\u001b[0;32m      1\u001b[0m fig \u001b[38;5;241m=\u001b[39m go\u001b[38;5;241m.\u001b[39mFigure(data\u001b[38;5;241m=\u001b[39m[go\u001b[38;5;241m.\u001b[39mCandlestick(\n\u001b[0;32m      2\u001b[0m     x\u001b[38;5;241m=\u001b[39mdf\u001b[38;5;241m.\u001b[39mindex,\n\u001b[1;32m----> 3\u001b[0m     \u001b[38;5;28mopen\u001b[39m\u001b[38;5;241m=\u001b[39m\u001b[43mdf\u001b[49m\u001b[43m[\u001b[49m\u001b[38;5;124;43m'\u001b[39;49m\u001b[38;5;124;43mOpen\u001b[39;49m\u001b[38;5;124;43m'\u001b[39;49m\u001b[43m]\u001b[49m,\n\u001b[0;32m      4\u001b[0m     high\u001b[38;5;241m=\u001b[39mdf[\u001b[38;5;124m'\u001b[39m\u001b[38;5;124mHigh\u001b[39m\u001b[38;5;124m'\u001b[39m],\n\u001b[0;32m      5\u001b[0m     low\u001b[38;5;241m=\u001b[39mdf[\u001b[38;5;124m'\u001b[39m\u001b[38;5;124mLow\u001b[39m\u001b[38;5;124m'\u001b[39m],\n\u001b[0;32m      6\u001b[0m     close\u001b[38;5;241m=\u001b[39mdf[\u001b[38;5;124m'\u001b[39m\u001b[38;5;124mClose\u001b[39m\u001b[38;5;124m'\u001b[39m],\n\u001b[0;32m      7\u001b[0m     name\u001b[38;5;241m=\u001b[39m\u001b[38;5;124m'\u001b[39m\u001b[38;5;124mSPY\u001b[39m\u001b[38;5;124m'\u001b[39m\n\u001b[0;32m      8\u001b[0m )])\n\u001b[0;32m     10\u001b[0m fig\u001b[38;5;241m.\u001b[39mupdate_layout(\n\u001b[0;32m     11\u001b[0m     title\u001b[38;5;241m=\u001b[39m\u001b[38;5;124mf\u001b[39m\u001b[38;5;124m'\u001b[39m\u001b[38;5;124mSPY (S&P 500 ETF) Candlestick Chart - Last 60 Days\u001b[39m\u001b[38;5;124m'\u001b[39m,\n\u001b[0;32m     12\u001b[0m     yaxis_title\u001b[38;5;241m=\u001b[39m\u001b[38;5;124m'\u001b[39m\u001b[38;5;124mPrice (USD)\u001b[39m\u001b[38;5;124m'\u001b[39m,\n\u001b[1;32m   (...)\u001b[0m\n\u001b[0;32m     16\u001b[0m     showlegend\u001b[38;5;241m=\u001b[39m\u001b[38;5;28;01mTrue\u001b[39;00m,\n\u001b[0;32m     17\u001b[0m )\n",
      "File \u001b[1;32mc:\\Users\\afiro\\AppData\\Local\\Programs\\Python\\Python311\\Lib\\site-packages\\pandas\\core\\frame.py:4102\u001b[0m, in \u001b[0;36mDataFrame.__getitem__\u001b[1;34m(self, key)\u001b[0m\n\u001b[0;32m   4100\u001b[0m \u001b[38;5;28;01mif\u001b[39;00m \u001b[38;5;28mself\u001b[39m\u001b[38;5;241m.\u001b[39mcolumns\u001b[38;5;241m.\u001b[39mnlevels \u001b[38;5;241m>\u001b[39m \u001b[38;5;241m1\u001b[39m:\n\u001b[0;32m   4101\u001b[0m     \u001b[38;5;28;01mreturn\u001b[39;00m \u001b[38;5;28mself\u001b[39m\u001b[38;5;241m.\u001b[39m_getitem_multilevel(key)\n\u001b[1;32m-> 4102\u001b[0m indexer \u001b[38;5;241m=\u001b[39m \u001b[38;5;28;43mself\u001b[39;49m\u001b[38;5;241;43m.\u001b[39;49m\u001b[43mcolumns\u001b[49m\u001b[38;5;241;43m.\u001b[39;49m\u001b[43mget_loc\u001b[49m\u001b[43m(\u001b[49m\u001b[43mkey\u001b[49m\u001b[43m)\u001b[49m\n\u001b[0;32m   4103\u001b[0m \u001b[38;5;28;01mif\u001b[39;00m is_integer(indexer):\n\u001b[0;32m   4104\u001b[0m     indexer \u001b[38;5;241m=\u001b[39m [indexer]\n",
      "File \u001b[1;32mc:\\Users\\afiro\\AppData\\Local\\Programs\\Python\\Python311\\Lib\\site-packages\\pandas\\core\\indexes\\base.py:3812\u001b[0m, in \u001b[0;36mIndex.get_loc\u001b[1;34m(self, key)\u001b[0m\n\u001b[0;32m   3807\u001b[0m     \u001b[38;5;28;01mif\u001b[39;00m \u001b[38;5;28misinstance\u001b[39m(casted_key, \u001b[38;5;28mslice\u001b[39m) \u001b[38;5;129;01mor\u001b[39;00m (\n\u001b[0;32m   3808\u001b[0m         \u001b[38;5;28misinstance\u001b[39m(casted_key, abc\u001b[38;5;241m.\u001b[39mIterable)\n\u001b[0;32m   3809\u001b[0m         \u001b[38;5;129;01mand\u001b[39;00m \u001b[38;5;28many\u001b[39m(\u001b[38;5;28misinstance\u001b[39m(x, \u001b[38;5;28mslice\u001b[39m) \u001b[38;5;28;01mfor\u001b[39;00m x \u001b[38;5;129;01min\u001b[39;00m casted_key)\n\u001b[0;32m   3810\u001b[0m     ):\n\u001b[0;32m   3811\u001b[0m         \u001b[38;5;28;01mraise\u001b[39;00m InvalidIndexError(key)\n\u001b[1;32m-> 3812\u001b[0m     \u001b[38;5;28;01mraise\u001b[39;00m \u001b[38;5;167;01mKeyError\u001b[39;00m(key) \u001b[38;5;28;01mfrom\u001b[39;00m \u001b[38;5;21;01merr\u001b[39;00m\n\u001b[0;32m   3813\u001b[0m \u001b[38;5;28;01mexcept\u001b[39;00m \u001b[38;5;167;01mTypeError\u001b[39;00m:\n\u001b[0;32m   3814\u001b[0m     \u001b[38;5;66;03m# If we have a listlike key, _check_indexing_error will raise\u001b[39;00m\n\u001b[0;32m   3815\u001b[0m     \u001b[38;5;66;03m#  InvalidIndexError. Otherwise we fall through and re-raise\u001b[39;00m\n\u001b[0;32m   3816\u001b[0m     \u001b[38;5;66;03m#  the TypeError.\u001b[39;00m\n\u001b[0;32m   3817\u001b[0m     \u001b[38;5;28mself\u001b[39m\u001b[38;5;241m.\u001b[39m_check_indexing_error(key)\n",
      "\u001b[1;31mKeyError\u001b[0m: 'Open'"
     ]
    }
   ],
   "source": [
    "fig = go.Figure(data=[go.Candlestick(\n",
    "    x=df.index,\n",
    "    open=df['Open'],\n",
    "    high=df['High'],\n",
    "    low=df['Low'],\n",
    "    close=df['Close'],\n",
    "    name='SPY'\n",
    ")])\n",
    "\n",
    "fig.update_layout(\n",
    "    title=f'SPY (S&P 500 ETF) Candlestick Chart - Last 60 Days',\n",
    "    yaxis_title='Price (USD)',\n",
    "    xaxis_title='Date',\n",
    "    xaxis_rangeslider_visible=True, \n",
    "    template='seaborn', # other options: plotly, plotly_white, plotly_dark, simple_white\n",
    "    showlegend=True,\n",
    ")"
   ]
  },
  {
   "cell_type": "markdown",
   "id": "19b77922",
   "metadata": {},
   "source": [
    "## Volume bars"
   ]
  },
  {
   "cell_type": "code",
   "execution_count": null,
   "id": "e331a1b5",
   "metadata": {},
   "outputs": [
    {
     "data": {
      "application/vnd.plotly.v1+json": {
       "config": {
        "plotlyServerURL": "https://plot.ly"
       },
       "data": [
        {
         "close": {
          "bdata": "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",
          "dtype": "f8"
         },
         "high": {
          "bdata": "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",
          "dtype": "f8"
         },
         "low": {
          "bdata": "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",
          "dtype": "f8"
         },
         "open": {
          "bdata": "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",
          "dtype": "f8"
         },
         "type": "candlestick",
         "x": {
          "bdata": "2g8AABkeAABpNAAAZEoAAPtjAADqdAAAXoIAAHmfAABdtwAAXswAAM3bAAAb7gAAwQcBAJwlAQDzRQEAFX8BADigAQDWuwEAjtQBAGDmAQD+9gEAbwsCAAQcAgDIMwIAJEUCAGxUAgCZYQIA0HECAL2HAgCEmwIAf6kCAEW2AgBPxgIAb9UCAO3tAgCZBQMACxgDAFYpAwAXRAMA5FMDABtiAwCAfwMAxZMDACCjAwBysQMAtsQDAMfbAwAy+QMAeBcEALQoBAD9OgQAAEoEAOFcBABTbQQAJ4YEAIqiBABssQQAYMEEACbSBACr5QQAR/QEABYDBQBUFAUA1iQFAPwyBQAoSAUAKVQFAJhhBQA2cAUAcn4FAMyLBQAQnwUAuqwFADG/BQD6ygUAvNsFAOzrBQBuAwYARRUGADIkBgCeMwYAQE4GALRgBgDYcgYAh4EGAFOSBgDWpAYACbQGALjRBgA04AYAgfMGAAwHBwBQGQcAPigHANI4BwCkSgcA7FcHALZjBwAdcAcAn3oHAFaLBwCSlgcAx6IHAFmwBwDkvgcAGMoHAGrWBwBx5AcAgvUHAEwLCACVNQgAJVcIAECICADEnggAuKsIANK7CAAz1QgATesIAJYBCQAyFQkA/yMJAJ82CQA2TgkAsWAJAD99CQD2jwkA4KIJABq5CQAGygkAteAJAFPxCQAmBAoAOhQKAL4hCgA6PQoAlU4KABtdCgBzbAoAfoYKADigCgBKrQoAQ7kKADzHCgAT2woAQOUKAP7wCgCZAgsAlhILABkdCwCMJwsAqTMLAPBBCwDUXwsApnMLAGiKCwBVmwsAULgLAPvaCwD89wsA0CIMAKM+DADtXQwAoX0MAG2kDADYxgwABuIMAPb+DABwFw0AlSoNAGFEDQBhXg0A+XYNALGXDQCmrg0Aob0NAOLRDQBb4g0AWf4NAJYjDgDrOA4AnFYOANOHDgD33A4ANEEPAPqBDwB14A8A3h8QABlGEACsYBAA5XYQAIKXEACothAAwdEQAGvvEADPEhEA3isRAL5DEQBXVhEAAGkRAF+NEQANphEAxb0RAN/MEQC53xEAcPURAOEOEgCRHRIAbTwSAPhWEgDccBIAs4wSAGiqEgAJxRIAttwSAOYBEwCUHRMARzsTAKJXEwBechMAtI0TABixEwAryRMAA+ITAGf4EwBzHBQAdjYUACtLFAAMZRQA0oEUAN+aFADVvRQAFN0UADH9FAAdGxUA2j8VAAFiFQB2fBUAupQVAGmzFQAb1RUAPfkVAJgUFgCTLhYAhUIWAL9fFgDNdhYAoZAWABqnFgD0vxYA",
          "dtype": "i4"
         }
        }
       ],
       "layout": {
        "template": {
         "data": {
          "bar": [
           {
            "error_x": {
             "color": "#f2f5fa"
            },
            "error_y": {
             "color": "#f2f5fa"
            },
            "marker": {
             "line": {
              "color": "rgb(17,17,17)",
              "width": 0.5
             },
             "pattern": {
              "fillmode": "overlay",
              "size": 10,
              "solidity": 0.2
             }
            },
            "type": "bar"
           }
          ],
          "barpolar": [
           {
            "marker": {
             "line": {
              "color": "rgb(17,17,17)",
              "width": 0.5
             },
             "pattern": {
              "fillmode": "overlay",
              "size": 10,
              "solidity": 0.2
             }
            },
            "type": "barpolar"
           }
          ],
          "carpet": [
           {
            "aaxis": {
             "endlinecolor": "#A2B1C6",
             "gridcolor": "#506784",
             "linecolor": "#506784",
             "minorgridcolor": "#506784",
             "startlinecolor": "#A2B1C6"
            },
            "baxis": {
             "endlinecolor": "#A2B1C6",
             "gridcolor": "#506784",
             "linecolor": "#506784",
             "minorgridcolor": "#506784",
             "startlinecolor": "#A2B1C6"
            },
            "type": "carpet"
           }
          ],
          "choropleth": [
           {
            "colorbar": {
             "outlinewidth": 0,
             "ticks": ""
            },
            "type": "choropleth"
           }
          ],
          "contour": [
           {
            "colorbar": {
             "outlinewidth": 0,
             "ticks": ""
            },
            "colorscale": [
             [
              0,
              "#0d0887"
             ],
             [
              0.1111111111111111,
              "#46039f"
             ],
             [
              0.2222222222222222,
              "#7201a8"
             ],
             [
              0.3333333333333333,
              "#9c179e"
             ],
             [
              0.4444444444444444,
              "#bd3786"
             ],
             [
              0.5555555555555556,
              "#d8576b"
             ],
             [
              0.6666666666666666,
              "#ed7953"
             ],
             [
              0.7777777777777778,
              "#fb9f3a"
             ],
             [
              0.8888888888888888,
              "#fdca26"
             ],
             [
              1,
              "#f0f921"
             ]
            ],
            "type": "contour"
           }
          ],
          "contourcarpet": [
           {
            "colorbar": {
             "outlinewidth": 0,
             "ticks": ""
            },
            "type": "contourcarpet"
           }
          ],
          "heatmap": [
           {
            "colorbar": {
             "outlinewidth": 0,
             "ticks": ""
            },
            "colorscale": [
             [
              0,
              "#0d0887"
             ],
             [
              0.1111111111111111,
              "#46039f"
             ],
             [
              0.2222222222222222,
              "#7201a8"
             ],
             [
              0.3333333333333333,
              "#9c179e"
             ],
             [
              0.4444444444444444,
              "#bd3786"
             ],
             [
              0.5555555555555556,
              "#d8576b"
             ],
             [
              0.6666666666666666,
              "#ed7953"
             ],
             [
              0.7777777777777778,
              "#fb9f3a"
             ],
             [
              0.8888888888888888,
              "#fdca26"
             ],
             [
              1,
              "#f0f921"
             ]
            ],
            "type": "heatmap"
           }
          ],
          "histogram": [
           {
            "marker": {
             "pattern": {
              "fillmode": "overlay",
              "size": 10,
              "solidity": 0.2
             }
            },
            "type": "histogram"
           }
          ],
          "histogram2d": [
           {
            "colorbar": {
             "outlinewidth": 0,
             "ticks": ""
            },
            "colorscale": [
             [
              0,
              "#0d0887"
             ],
             [
              0.1111111111111111,
              "#46039f"
             ],
             [
              0.2222222222222222,
              "#7201a8"
             ],
             [
              0.3333333333333333,
              "#9c179e"
             ],
             [
              0.4444444444444444,
              "#bd3786"
             ],
             [
              0.5555555555555556,
              "#d8576b"
             ],
             [
              0.6666666666666666,
              "#ed7953"
             ],
             [
              0.7777777777777778,
              "#fb9f3a"
             ],
             [
              0.8888888888888888,
              "#fdca26"
             ],
             [
              1,
              "#f0f921"
             ]
            ],
            "type": "histogram2d"
           }
          ],
          "histogram2dcontour": [
           {
            "colorbar": {
             "outlinewidth": 0,
             "ticks": ""
            },
            "colorscale": [
             [
              0,
              "#0d0887"
             ],
             [
              0.1111111111111111,
              "#46039f"
             ],
             [
              0.2222222222222222,
              "#7201a8"
             ],
             [
              0.3333333333333333,
              "#9c179e"
             ],
             [
              0.4444444444444444,
              "#bd3786"
             ],
             [
              0.5555555555555556,
              "#d8576b"
             ],
             [
              0.6666666666666666,
              "#ed7953"
             ],
             [
              0.7777777777777778,
              "#fb9f3a"
             ],
             [
              0.8888888888888888,
              "#fdca26"
             ],
             [
              1,
              "#f0f921"
             ]
            ],
            "type": "histogram2dcontour"
           }
          ],
          "mesh3d": [
           {
            "colorbar": {
             "outlinewidth": 0,
             "ticks": ""
            },
            "type": "mesh3d"
           }
          ],
          "parcoords": [
           {
            "line": {
             "colorbar": {
              "outlinewidth": 0,
              "ticks": ""
             }
            },
            "type": "parcoords"
           }
          ],
          "pie": [
           {
            "automargin": true,
            "type": "pie"
           }
          ],
          "scatter": [
           {
            "marker": {
             "line": {
              "color": "#283442"
             }
            },
            "type": "scatter"
           }
          ],
          "scatter3d": [
           {
            "line": {
             "colorbar": {
              "outlinewidth": 0,
              "ticks": ""
             }
            },
            "marker": {
             "colorbar": {
              "outlinewidth": 0,
              "ticks": ""
             }
            },
            "type": "scatter3d"
           }
          ],
          "scattercarpet": [
           {
            "marker": {
             "colorbar": {
              "outlinewidth": 0,
              "ticks": ""
             }
            },
            "type": "scattercarpet"
           }
          ],
          "scattergeo": [
           {
            "marker": {
             "colorbar": {
              "outlinewidth": 0,
              "ticks": ""
             }
            },
            "type": "scattergeo"
           }
          ],
          "scattergl": [
           {
            "marker": {
             "line": {
              "color": "#283442"
             }
            },
            "type": "scattergl"
           }
          ],
          "scattermap": [
           {
            "marker": {
             "colorbar": {
              "outlinewidth": 0,
              "ticks": ""
             }
            },
            "type": "scattermap"
           }
          ],
          "scattermapbox": [
           {
            "marker": {
             "colorbar": {
              "outlinewidth": 0,
              "ticks": ""
             }
            },
            "type": "scattermapbox"
           }
          ],
          "scatterpolar": [
           {
            "marker": {
             "colorbar": {
              "outlinewidth": 0,
              "ticks": ""
             }
            },
            "type": "scatterpolar"
           }
          ],
          "scatterpolargl": [
           {
            "marker": {
             "colorbar": {
              "outlinewidth": 0,
              "ticks": ""
             }
            },
            "type": "scatterpolargl"
           }
          ],
          "scatterternary": [
           {
            "marker": {
             "colorbar": {
              "outlinewidth": 0,
              "ticks": ""
             }
            },
            "type": "scatterternary"
           }
          ],
          "surface": [
           {
            "colorbar": {
             "outlinewidth": 0,
             "ticks": ""
            },
            "colorscale": [
             [
              0,
              "#0d0887"
             ],
             [
              0.1111111111111111,
              "#46039f"
             ],
             [
              0.2222222222222222,
              "#7201a8"
             ],
             [
              0.3333333333333333,
              "#9c179e"
             ],
             [
              0.4444444444444444,
              "#bd3786"
             ],
             [
              0.5555555555555556,
              "#d8576b"
             ],
             [
              0.6666666666666666,
              "#ed7953"
             ],
             [
              0.7777777777777778,
              "#fb9f3a"
             ],
             [
              0.8888888888888888,
              "#fdca26"
             ],
             [
              1,
              "#f0f921"
             ]
            ],
            "type": "surface"
           }
          ],
          "table": [
           {
            "cells": {
             "fill": {
              "color": "#506784"
             },
             "line": {
              "color": "rgb(17,17,17)"
             }
            },
            "header": {
             "fill": {
              "color": "#2a3f5f"
             },
             "line": {
              "color": "rgb(17,17,17)"
             }
            },
            "type": "table"
           }
          ]
         },
         "layout": {
          "annotationdefaults": {
           "arrowcolor": "#f2f5fa",
           "arrowhead": 0,
           "arrowwidth": 1
          },
          "autotypenumbers": "strict",
          "coloraxis": {
           "colorbar": {
            "outlinewidth": 0,
            "ticks": ""
           }
          },
          "colorscale": {
           "diverging": [
            [
             0,
             "#8e0152"
            ],
            [
             0.1,
             "#c51b7d"
            ],
            [
             0.2,
             "#de77ae"
            ],
            [
             0.3,
             "#f1b6da"
            ],
            [
             0.4,
             "#fde0ef"
            ],
            [
             0.5,
             "#f7f7f7"
            ],
            [
             0.6,
             "#e6f5d0"
            ],
            [
             0.7,
             "#b8e186"
            ],
            [
             0.8,
             "#7fbc41"
            ],
            [
             0.9,
             "#4d9221"
            ],
            [
             1,
             "#276419"
            ]
           ],
           "sequential": [
            [
             0,
             "#0d0887"
            ],
            [
             0.1111111111111111,
             "#46039f"
            ],
            [
             0.2222222222222222,
             "#7201a8"
            ],
            [
             0.3333333333333333,
             "#9c179e"
            ],
            [
             0.4444444444444444,
             "#bd3786"
            ],
            [
             0.5555555555555556,
             "#d8576b"
            ],
            [
             0.6666666666666666,
             "#ed7953"
            ],
            [
             0.7777777777777778,
             "#fb9f3a"
            ],
            [
             0.8888888888888888,
             "#fdca26"
            ],
            [
             1,
             "#f0f921"
            ]
           ],
           "sequentialminus": [
            [
             0,
             "#0d0887"
            ],
            [
             0.1111111111111111,
             "#46039f"
            ],
            [
             0.2222222222222222,
             "#7201a8"
            ],
            [
             0.3333333333333333,
             "#9c179e"
            ],
            [
             0.4444444444444444,
             "#bd3786"
            ],
            [
             0.5555555555555556,
             "#d8576b"
            ],
            [
             0.6666666666666666,
             "#ed7953"
            ],
            [
             0.7777777777777778,
             "#fb9f3a"
            ],
            [
             0.8888888888888888,
             "#fdca26"
            ],
            [
             1,
             "#f0f921"
            ]
           ]
          },
          "colorway": [
           "#636efa",
           "#EF553B",
           "#00cc96",
           "#ab63fa",
           "#FFA15A",
           "#19d3f3",
           "#FF6692",
           "#B6E880",
           "#FF97FF",
           "#FECB52"
          ],
          "font": {
           "color": "#f2f5fa"
          },
          "geo": {
           "bgcolor": "rgb(17,17,17)",
           "lakecolor": "rgb(17,17,17)",
           "landcolor": "rgb(17,17,17)",
           "showlakes": true,
           "showland": true,
           "subunitcolor": "#506784"
          },
          "hoverlabel": {
           "align": "left"
          },
          "hovermode": "closest",
          "mapbox": {
           "style": "dark"
          },
          "paper_bgcolor": "rgb(17,17,17)",
          "plot_bgcolor": "rgb(17,17,17)",
          "polar": {
           "angularaxis": {
            "gridcolor": "#506784",
            "linecolor": "#506784",
            "ticks": ""
           },
           "bgcolor": "rgb(17,17,17)",
           "radialaxis": {
            "gridcolor": "#506784",
            "linecolor": "#506784",
            "ticks": ""
           }
          },
          "scene": {
           "xaxis": {
            "backgroundcolor": "rgb(17,17,17)",
            "gridcolor": "#506784",
            "gridwidth": 2,
            "linecolor": "#506784",
            "showbackground": true,
            "ticks": "",
            "zerolinecolor": "#C8D4E3"
           },
           "yaxis": {
            "backgroundcolor": "rgb(17,17,17)",
            "gridcolor": "#506784",
            "gridwidth": 2,
            "linecolor": "#506784",
            "showbackground": true,
            "ticks": "",
            "zerolinecolor": "#C8D4E3"
           },
           "zaxis": {
            "backgroundcolor": "rgb(17,17,17)",
            "gridcolor": "#506784",
            "gridwidth": 2,
            "linecolor": "#506784",
            "showbackground": true,
            "ticks": "",
            "zerolinecolor": "#C8D4E3"
           }
          },
          "shapedefaults": {
           "line": {
            "color": "#f2f5fa"
           }
          },
          "sliderdefaults": {
           "bgcolor": "#C8D4E3",
           "bordercolor": "rgb(17,17,17)",
           "borderwidth": 1,
           "tickwidth": 0
          },
          "ternary": {
           "aaxis": {
            "gridcolor": "#506784",
            "linecolor": "#506784",
            "ticks": ""
           },
           "baxis": {
            "gridcolor": "#506784",
            "linecolor": "#506784",
            "ticks": ""
           },
           "bgcolor": "rgb(17,17,17)",
           "caxis": {
            "gridcolor": "#506784",
            "linecolor": "#506784",
            "ticks": ""
           }
          },
          "title": {
           "x": 0.05
          },
          "updatemenudefaults": {
           "bgcolor": "#506784",
           "borderwidth": 0
          },
          "xaxis": {
           "automargin": true,
           "gridcolor": "#283442",
           "linecolor": "#506784",
           "ticks": "",
           "title": {
            "standoff": 15
           },
           "zerolinecolor": "#283442",
           "zerolinewidth": 2
          },
          "yaxis": {
           "automargin": true,
           "gridcolor": "#283442",
           "linecolor": "#506784",
           "ticks": "",
           "title": {
            "standoff": 15
           },
           "zerolinecolor": "#283442",
           "zerolinewidth": 2
          }
         }
        },
        "title": {
         "text": "AAPL Volume Bars (10,000 shares/bar)"
        },
        "xaxis": {
         "title": {
          "text": "Volume Bar Index"
         }
        },
        "yaxis": {
         "title": {
          "text": "Price"
         }
        }
       }
      }
     },
     "metadata": {},
     "output_type": "display_data"
    }
   ],
   "source": [
    "# Assume each row = 1 trade (approximation)\n",
    "tick_size = 1000  # Create a bar every 1000 \"ticks\"\n",
    "tick_bars = df.iloc[::tick_size]  # Slice every N rows\n",
    "\n",
    "cumulative_volume = df['Volume'].cumsum()\n",
    "volume_bar_size = 10000  # New bar every 10,000 shares traded\n",
    "\n",
    "# Group by volume thresholds\n",
    "volume_bars = df.groupby(cumulative_volume // volume_bar_size).agg({\n",
    "    'Open': 'first',\n",
    "    'High': 'max',\n",
    "    'Low': 'min',\n",
    "    'Close': 'last',\n",
    "    'Volume': 'sum'\n",
    "})\n",
    "\n",
    "import plotly.graph_objects as go\n",
    "\n",
    "fig = go.Figure(data=[go.Candlestick(\n",
    "    x=volume_bars.index,\n",
    "    open=volume_bars['Open'],\n",
    "    high=volume_bars['High'],\n",
    "    low=volume_bars['Low'],\n",
    "    close=volume_bars['Close']\n",
    ")])\n",
    "\n",
    "fig.update_layout(\n",
    "    title=\"AAPL Volume Bars (10,000 shares/bar)\",\n",
    "    yaxis_title=\"Price\",\n",
    "    xaxis_title=\"Volume Bar Index\",\n",
    "    template=\"plotly_dark\"\n",
    ")\n",
    "fig.show()"
   ]
  }
 ],
 "metadata": {
  "kernelspec": {
   "display_name": "Python 3",
   "language": "python",
   "name": "python3"
  },
  "language_info": {
   "codemirror_mode": {
    "name": "ipython",
    "version": 3
   },
   "file_extension": ".py",
   "mimetype": "text/x-python",
   "name": "python",
   "nbconvert_exporter": "python",
   "pygments_lexer": "ipython3",
   "version": "3.11.1"
  }
 },
 "nbformat": 4,
 "nbformat_minor": 5
}

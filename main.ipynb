{
 "cells": [
  {
   "cell_type": "markdown",
   "id": "21558aa9",
   "metadata": {},
   "source": [
    "# Install dependencies"
   ]
  },
  {
   "cell_type": "code",
   "execution_count": 1,
   "id": "1c38c2ea",
   "metadata": {},
   "outputs": [
    {
     "name": "stdout",
     "output_type": "stream",
     "text": [
      "Note: you may need to restart the kernel to use updated packages.\n"
     ]
    }
   ],
   "source": [
    "%pip install -r requirements.txt -q"
   ]
  },
  {
   "cell_type": "markdown",
   "id": "20ab1956",
   "metadata": {},
   "source": [
    "# imports"
   ]
  },
  {
   "cell_type": "code",
   "execution_count": 2,
   "id": "83d8dbcc",
   "metadata": {},
   "outputs": [],
   "source": [
    "import numpy as np\n",
    "import plotly.graph_objects as go\n",
    "import pandas as pd\n",
    "import os\n",
    "from datetime import datetime, timedelta\n",
    "import tradermade\n",
    "import yfinance as yf"
   ]
  },
  {
   "cell_type": "markdown",
   "id": "db0c422a",
   "metadata": {},
   "source": [
    "# Constants"
   ]
  },
  {
   "cell_type": "code",
   "execution_count": 3,
   "id": "4594450c",
   "metadata": {},
   "outputs": [],
   "source": [
    "TRADERMADE_API_KEY = os.getenv(\"TRADERMADE_API_KEY\")\n",
    "CURRENCY = \"XAUUSD\"\n",
    "REQUIRED_COLUMNS = ['Open', 'High', 'Low', 'Close']\n",
    "TICKER = \"SPY\"\n",
    "\n",
    "END_DATE = datetime.now()\n",
    "START_DATE = END_DATE - timedelta(days=365)\n",
    "INTERVAL = \"1d\""
   ]
  },
  {
   "cell_type": "markdown",
   "id": "7ea11c60",
   "metadata": {},
   "source": [
    "# Initialization"
   ]
  },
  {
   "cell_type": "code",
   "execution_count": 4,
   "id": "b2c7820b",
   "metadata": {},
   "outputs": [],
   "source": [
    "tradermade.set_rest_api_key(TRADERMADE_API_KEY)"
   ]
  },
  {
   "cell_type": "markdown",
   "id": "dd735beb",
   "metadata": {},
   "source": [
    "# Get raw data"
   ]
  },
  {
   "cell_type": "code",
   "execution_count": 5,
   "id": "4a4fa175",
   "metadata": {},
   "outputs": [
    {
     "name": "stderr",
     "output_type": "stream",
     "text": [
      "[*********************100%***********************]  1 of 1 completed\n"
     ]
    }
   ],
   "source": [
    "spy_data = yf.download(TICKER, start=START_DATE, end=END_DATE, interval=INTERVAL, auto_adjust=False, ignore_tz=True)"
   ]
  },
  {
   "cell_type": "markdown",
   "id": "e31b6c5e",
   "metadata": {},
   "source": [
    "# Preprocessing data"
   ]
  },
  {
   "cell_type": "markdown",
   "id": "1bd2bdf4",
   "metadata": {},
   "source": [
    "## Handle MultiIndex columns"
   ]
  },
  {
   "cell_type": "code",
   "execution_count": 6,
   "id": "fbfa7ae1",
   "metadata": {},
   "outputs": [],
   "source": [
    "if isinstance(spy_data.columns, pd.MultiIndex):\n",
    "    spy_data = spy_data.xs(TICKER, axis=1, level=1)\n",
    "    spy_data.columns = [col.title() for col in spy_data.columns]\n",
    "else:\n",
    "    spy_data.columns = [col.title() for col in spy_data.columns]"
   ]
  },
  {
   "cell_type": "markdown",
   "id": "9eca2cdb",
   "metadata": {},
   "source": [
    "## Convert required columns to numeric and drop rows with NaN"
   ]
  },
  {
   "cell_type": "code",
   "execution_count": 7,
   "id": "2d346cd4",
   "metadata": {},
   "outputs": [],
   "source": [
    "spy_data[REQUIRED_COLUMNS] = spy_data[REQUIRED_COLUMNS].apply(pd.to_numeric, errors='coerce')\n",
    "spy_data = spy_data.dropna(subset=REQUIRED_COLUMNS)\n",
    "spy_data.index = spy_data.index.tz_localize(None)"
   ]
  },
  {
   "cell_type": "markdown",
   "id": "6bde251b",
   "metadata": {},
   "source": [
    "# Plot raw data"
   ]
  },
  {
   "cell_type": "code",
   "execution_count": null,
   "id": "f69acfd7",
   "metadata": {},
   "outputs": [
    {
     "data": {
      "application/vnd.plotly.v1+json": {
       "config": {
        "plotlyServerURL": "https://plot.ly"
       },
       "data": [
        {
         "close": {
          "bdata": "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",
          "dtype": "f8"
         },
         "high": {
          "bdata": "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",
          "dtype": "f8"
         },
         "low": {
          "bdata": "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",
          "dtype": "f8"
         },
         "name": "SPY",
         "open": {
          "bdata": "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",
          "dtype": "f8"
         },
         "type": "candlestick",
         "x": [
          "2024-07-15T00:00:00",
          "2024-07-16T00:00:00",
          "2024-07-17T00:00:00",
          "2024-07-18T00:00:00",
          "2024-07-19T00:00:00",
          "2024-07-22T00:00:00",
          "2024-07-23T00:00:00",
          "2024-07-24T00:00:00",
          "2024-07-25T00:00:00",
          "2024-07-26T00:00:00",
          "2024-07-29T00:00:00",
          "2024-07-30T00:00:00",
          "2024-07-31T00:00:00",
          "2024-08-01T00:00:00",
          "2024-08-02T00:00:00",
          "2024-08-05T00:00:00",
          "2024-08-06T00:00:00",
          "2024-08-07T00:00:00",
          "2024-08-08T00:00:00",
          "2024-08-09T00:00:00",
          "2024-08-12T00:00:00",
          "2024-08-13T00:00:00",
          "2024-08-14T00:00:00",
          "2024-08-15T00:00:00",
          "2024-08-16T00:00:00",
          "2024-08-19T00:00:00",
          "2024-08-20T00:00:00",
          "2024-08-21T00:00:00",
          "2024-08-22T00:00:00",
          "2024-08-23T00:00:00",
          "2024-08-26T00:00:00",
          "2024-08-27T00:00:00",
          "2024-08-28T00:00:00",
          "2024-08-29T00:00:00",
          "2024-08-30T00:00:00",
          "2024-09-03T00:00:00",
          "2024-09-04T00:00:00",
          "2024-09-05T00:00:00",
          "2024-09-06T00:00:00",
          "2024-09-09T00:00:00",
          "2024-09-10T00:00:00",
          "2024-09-11T00:00:00",
          "2024-09-12T00:00:00",
          "2024-09-13T00:00:00",
          "2024-09-16T00:00:00",
          "2024-09-17T00:00:00",
          "2024-09-18T00:00:00",
          "2024-09-19T00:00:00",
          "2024-09-20T00:00:00",
          "2024-09-23T00:00:00",
          "2024-09-24T00:00:00",
          "2024-09-25T00:00:00",
          "2024-09-26T00:00:00",
          "2024-09-27T00:00:00",
          "2024-09-30T00:00:00",
          "2024-10-01T00:00:00",
          "2024-10-02T00:00:00",
          "2024-10-03T00:00:00",
          "2024-10-04T00:00:00",
          "2024-10-07T00:00:00",
          "2024-10-08T00:00:00",
          "2024-10-09T00:00:00",
          "2024-10-10T00:00:00",
          "2024-10-11T00:00:00",
          "2024-10-14T00:00:00",
          "2024-10-15T00:00:00",
          "2024-10-16T00:00:00",
          "2024-10-17T00:00:00",
          "2024-10-18T00:00:00",
          "2024-10-21T00:00:00",
          "2024-10-22T00:00:00",
          "2024-10-23T00:00:00",
          "2024-10-24T00:00:00",
          "2024-10-25T00:00:00",
          "2024-10-28T00:00:00",
          "2024-10-29T00:00:00",
          "2024-10-30T00:00:00",
          "2024-10-31T00:00:00",
          "2024-11-01T00:00:00",
          "2024-11-04T00:00:00",
          "2024-11-05T00:00:00",
          "2024-11-06T00:00:00",
          "2024-11-07T00:00:00",
          "2024-11-08T00:00:00",
          "2024-11-11T00:00:00",
          "2024-11-12T00:00:00",
          "2024-11-13T00:00:00",
          "2024-11-14T00:00:00",
          "2024-11-15T00:00:00",
          "2024-11-18T00:00:00",
          "2024-11-19T00:00:00",
          "2024-11-20T00:00:00",
          "2024-11-21T00:00:00",
          "2024-11-22T00:00:00",
          "2024-11-25T00:00:00",
          "2024-11-26T00:00:00",
          "2024-11-27T00:00:00",
          "2024-11-29T00:00:00",
          "2024-12-02T00:00:00",
          "2024-12-03T00:00:00",
          "2024-12-04T00:00:00",
          "2024-12-05T00:00:00",
          "2024-12-06T00:00:00",
          "2024-12-09T00:00:00",
          "2024-12-10T00:00:00",
          "2024-12-11T00:00:00",
          "2024-12-12T00:00:00",
          "2024-12-13T00:00:00",
          "2024-12-16T00:00:00",
          "2024-12-17T00:00:00",
          "2024-12-18T00:00:00",
          "2024-12-19T00:00:00",
          "2024-12-20T00:00:00",
          "2024-12-23T00:00:00",
          "2024-12-24T00:00:00",
          "2024-12-26T00:00:00",
          "2024-12-27T00:00:00",
          "2024-12-30T00:00:00",
          "2024-12-31T00:00:00",
          "2025-01-02T00:00:00",
          "2025-01-03T00:00:00",
          "2025-01-06T00:00:00",
          "2025-01-07T00:00:00",
          "2025-01-08T00:00:00",
          "2025-01-10T00:00:00",
          "2025-01-13T00:00:00",
          "2025-01-14T00:00:00",
          "2025-01-15T00:00:00",
          "2025-01-16T00:00:00",
          "2025-01-17T00:00:00",
          "2025-01-21T00:00:00",
          "2025-01-22T00:00:00",
          "2025-01-23T00:00:00",
          "2025-01-24T00:00:00",
          "2025-01-27T00:00:00",
          "2025-01-28T00:00:00",
          "2025-01-29T00:00:00",
          "2025-01-30T00:00:00",
          "2025-01-31T00:00:00",
          "2025-02-03T00:00:00",
          "2025-02-04T00:00:00",
          "2025-02-05T00:00:00",
          "2025-02-06T00:00:00",
          "2025-02-07T00:00:00",
          "2025-02-10T00:00:00",
          "2025-02-11T00:00:00",
          "2025-02-12T00:00:00",
          "2025-02-13T00:00:00",
          "2025-02-14T00:00:00",
          "2025-02-18T00:00:00",
          "2025-02-19T00:00:00",
          "2025-02-20T00:00:00",
          "2025-02-21T00:00:00",
          "2025-02-24T00:00:00",
          "2025-02-25T00:00:00",
          "2025-02-26T00:00:00",
          "2025-02-27T00:00:00",
          "2025-02-28T00:00:00",
          "2025-03-03T00:00:00",
          "2025-03-04T00:00:00",
          "2025-03-05T00:00:00",
          "2025-03-06T00:00:00",
          "2025-03-07T00:00:00",
          "2025-03-10T00:00:00",
          "2025-03-11T00:00:00",
          "2025-03-12T00:00:00",
          "2025-03-13T00:00:00",
          "2025-03-14T00:00:00",
          "2025-03-17T00:00:00",
          "2025-03-18T00:00:00",
          "2025-03-19T00:00:00",
          "2025-03-20T00:00:00",
          "2025-03-21T00:00:00",
          "2025-03-24T00:00:00",
          "2025-03-25T00:00:00",
          "2025-03-26T00:00:00",
          "2025-03-27T00:00:00",
          "2025-03-28T00:00:00",
          "2025-03-31T00:00:00",
          "2025-04-01T00:00:00",
          "2025-04-02T00:00:00",
          "2025-04-03T00:00:00",
          "2025-04-04T00:00:00",
          "2025-04-07T00:00:00",
          "2025-04-08T00:00:00",
          "2025-04-09T00:00:00",
          "2025-04-10T00:00:00",
          "2025-04-11T00:00:00",
          "2025-04-14T00:00:00",
          "2025-04-15T00:00:00",
          "2025-04-16T00:00:00",
          "2025-04-17T00:00:00",
          "2025-04-21T00:00:00",
          "2025-04-22T00:00:00",
          "2025-04-23T00:00:00",
          "2025-04-24T00:00:00",
          "2025-04-25T00:00:00",
          "2025-04-28T00:00:00",
          "2025-04-29T00:00:00",
          "2025-04-30T00:00:00",
          "2025-05-01T00:00:00",
          "2025-05-02T00:00:00",
          "2025-05-05T00:00:00",
          "2025-05-06T00:00:00",
          "2025-05-07T00:00:00",
          "2025-05-08T00:00:00",
          "2025-05-09T00:00:00",
          "2025-05-12T00:00:00",
          "2025-05-13T00:00:00",
          "2025-05-14T00:00:00",
          "2025-05-15T00:00:00",
          "2025-05-16T00:00:00",
          "2025-05-19T00:00:00",
          "2025-05-20T00:00:00",
          "2025-05-21T00:00:00",
          "2025-05-22T00:00:00",
          "2025-05-23T00:00:00",
          "2025-05-27T00:00:00",
          "2025-05-28T00:00:00",
          "2025-05-29T00:00:00",
          "2025-05-30T00:00:00",
          "2025-06-02T00:00:00",
          "2025-06-03T00:00:00",
          "2025-06-04T00:00:00",
          "2025-06-05T00:00:00",
          "2025-06-06T00:00:00",
          "2025-06-09T00:00:00",
          "2025-06-10T00:00:00",
          "2025-06-11T00:00:00",
          "2025-06-12T00:00:00",
          "2025-06-13T00:00:00",
          "2025-06-16T00:00:00",
          "2025-06-17T00:00:00",
          "2025-06-18T00:00:00",
          "2025-06-20T00:00:00",
          "2025-06-23T00:00:00",
          "2025-06-24T00:00:00",
          "2025-06-25T00:00:00",
          "2025-06-26T00:00:00",
          "2025-06-27T00:00:00",
          "2025-06-30T00:00:00",
          "2025-07-01T00:00:00",
          "2025-07-02T00:00:00",
          "2025-07-03T00:00:00",
          "2025-07-07T00:00:00",
          "2025-07-08T00:00:00",
          "2025-07-09T00:00:00",
          "2025-07-10T00:00:00",
          "2025-07-11T00:00:00"
         ]
        }
       ],
       "layout": {
        "showlegend": true,
        "template": {
         "data": {
          "bar": [
           {
            "error_x": {
             "color": "rgb(36,36,36)"
            },
            "error_y": {
             "color": "rgb(36,36,36)"
            },
            "marker": {
             "line": {
              "color": "rgb(234,234,242)",
              "width": 0.5
             },
             "pattern": {
              "fillmode": "overlay",
              "size": 10,
              "solidity": 0.2
             }
            },
            "type": "bar"
           }
          ],
          "barpolar": [
           {
            "marker": {
             "line": {
              "color": "rgb(234,234,242)",
              "width": 0.5
             },
             "pattern": {
              "fillmode": "overlay",
              "size": 10,
              "solidity": 0.2
             }
            },
            "type": "barpolar"
           }
          ],
          "carpet": [
           {
            "aaxis": {
             "endlinecolor": "rgb(36,36,36)",
             "gridcolor": "white",
             "linecolor": "white",
             "minorgridcolor": "white",
             "startlinecolor": "rgb(36,36,36)"
            },
            "baxis": {
             "endlinecolor": "rgb(36,36,36)",
             "gridcolor": "white",
             "linecolor": "white",
             "minorgridcolor": "white",
             "startlinecolor": "rgb(36,36,36)"
            },
            "type": "carpet"
           }
          ],
          "choropleth": [
           {
            "colorbar": {
             "outlinewidth": 0,
             "tickcolor": "rgb(36,36,36)",
             "ticklen": 8,
             "ticks": "outside",
             "tickwidth": 2
            },
            "type": "choropleth"
           }
          ],
          "contour": [
           {
            "colorbar": {
             "outlinewidth": 0,
             "tickcolor": "rgb(36,36,36)",
             "ticklen": 8,
             "ticks": "outside",
             "tickwidth": 2
            },
            "colorscale": [
             [
              0,
              "rgb(2,4,25)"
             ],
             [
              0.06274509803921569,
              "rgb(24,15,41)"
             ],
             [
              0.12549019607843137,
              "rgb(47,23,57)"
             ],
             [
              0.18823529411764706,
              "rgb(71,28,72)"
             ],
             [
              0.25098039215686274,
              "rgb(97,30,82)"
             ],
             [
              0.3137254901960784,
              "rgb(123,30,89)"
             ],
             [
              0.3764705882352941,
              "rgb(150,27,91)"
             ],
             [
              0.4392156862745098,
              "rgb(177,22,88)"
             ],
             [
              0.5019607843137255,
              "rgb(203,26,79)"
             ],
             [
              0.5647058823529412,
              "rgb(223,47,67)"
             ],
             [
              0.6274509803921569,
              "rgb(236,76,61)"
             ],
             [
              0.6901960784313725,
              "rgb(242,107,73)"
             ],
             [
              0.7529411764705882,
              "rgb(244,135,95)"
             ],
             [
              0.8156862745098039,
              "rgb(245,162,122)"
             ],
             [
              0.8784313725490196,
              "rgb(246,188,153)"
             ],
             [
              0.9411764705882353,
              "rgb(247,212,187)"
             ],
             [
              1,
              "rgb(250,234,220)"
             ]
            ],
            "type": "contour"
           }
          ],
          "contourcarpet": [
           {
            "colorbar": {
             "outlinewidth": 0,
             "tickcolor": "rgb(36,36,36)",
             "ticklen": 8,
             "ticks": "outside",
             "tickwidth": 2
            },
            "type": "contourcarpet"
           }
          ],
          "heatmap": [
           {
            "colorbar": {
             "outlinewidth": 0,
             "tickcolor": "rgb(36,36,36)",
             "ticklen": 8,
             "ticks": "outside",
             "tickwidth": 2
            },
            "colorscale": [
             [
              0,
              "rgb(2,4,25)"
             ],
             [
              0.06274509803921569,
              "rgb(24,15,41)"
             ],
             [
              0.12549019607843137,
              "rgb(47,23,57)"
             ],
             [
              0.18823529411764706,
              "rgb(71,28,72)"
             ],
             [
              0.25098039215686274,
              "rgb(97,30,82)"
             ],
             [
              0.3137254901960784,
              "rgb(123,30,89)"
             ],
             [
              0.3764705882352941,
              "rgb(150,27,91)"
             ],
             [
              0.4392156862745098,
              "rgb(177,22,88)"
             ],
             [
              0.5019607843137255,
              "rgb(203,26,79)"
             ],
             [
              0.5647058823529412,
              "rgb(223,47,67)"
             ],
             [
              0.6274509803921569,
              "rgb(236,76,61)"
             ],
             [
              0.6901960784313725,
              "rgb(242,107,73)"
             ],
             [
              0.7529411764705882,
              "rgb(244,135,95)"
             ],
             [
              0.8156862745098039,
              "rgb(245,162,122)"
             ],
             [
              0.8784313725490196,
              "rgb(246,188,153)"
             ],
             [
              0.9411764705882353,
              "rgb(247,212,187)"
             ],
             [
              1,
              "rgb(250,234,220)"
             ]
            ],
            "type": "heatmap"
           }
          ],
          "histogram": [
           {
            "marker": {
             "pattern": {
              "fillmode": "overlay",
              "size": 10,
              "solidity": 0.2
             }
            },
            "type": "histogram"
           }
          ],
          "histogram2d": [
           {
            "colorbar": {
             "outlinewidth": 0,
             "tickcolor": "rgb(36,36,36)",
             "ticklen": 8,
             "ticks": "outside",
             "tickwidth": 2
            },
            "colorscale": [
             [
              0,
              "rgb(2,4,25)"
             ],
             [
              0.06274509803921569,
              "rgb(24,15,41)"
             ],
             [
              0.12549019607843137,
              "rgb(47,23,57)"
             ],
             [
              0.18823529411764706,
              "rgb(71,28,72)"
             ],
             [
              0.25098039215686274,
              "rgb(97,30,82)"
             ],
             [
              0.3137254901960784,
              "rgb(123,30,89)"
             ],
             [
              0.3764705882352941,
              "rgb(150,27,91)"
             ],
             [
              0.4392156862745098,
              "rgb(177,22,88)"
             ],
             [
              0.5019607843137255,
              "rgb(203,26,79)"
             ],
             [
              0.5647058823529412,
              "rgb(223,47,67)"
             ],
             [
              0.6274509803921569,
              "rgb(236,76,61)"
             ],
             [
              0.6901960784313725,
              "rgb(242,107,73)"
             ],
             [
              0.7529411764705882,
              "rgb(244,135,95)"
             ],
             [
              0.8156862745098039,
              "rgb(245,162,122)"
             ],
             [
              0.8784313725490196,
              "rgb(246,188,153)"
             ],
             [
              0.9411764705882353,
              "rgb(247,212,187)"
             ],
             [
              1,
              "rgb(250,234,220)"
             ]
            ],
            "type": "histogram2d"
           }
          ],
          "histogram2dcontour": [
           {
            "colorbar": {
             "outlinewidth": 0,
             "tickcolor": "rgb(36,36,36)",
             "ticklen": 8,
             "ticks": "outside",
             "tickwidth": 2
            },
            "colorscale": [
             [
              0,
              "rgb(2,4,25)"
             ],
             [
              0.06274509803921569,
              "rgb(24,15,41)"
             ],
             [
              0.12549019607843137,
              "rgb(47,23,57)"
             ],
             [
              0.18823529411764706,
              "rgb(71,28,72)"
             ],
             [
              0.25098039215686274,
              "rgb(97,30,82)"
             ],
             [
              0.3137254901960784,
              "rgb(123,30,89)"
             ],
             [
              0.3764705882352941,
              "rgb(150,27,91)"
             ],
             [
              0.4392156862745098,
              "rgb(177,22,88)"
             ],
             [
              0.5019607843137255,
              "rgb(203,26,79)"
             ],
             [
              0.5647058823529412,
              "rgb(223,47,67)"
             ],
             [
              0.6274509803921569,
              "rgb(236,76,61)"
             ],
             [
              0.6901960784313725,
              "rgb(242,107,73)"
             ],
             [
              0.7529411764705882,
              "rgb(244,135,95)"
             ],
             [
              0.8156862745098039,
              "rgb(245,162,122)"
             ],
             [
              0.8784313725490196,
              "rgb(246,188,153)"
             ],
             [
              0.9411764705882353,
              "rgb(247,212,187)"
             ],
             [
              1,
              "rgb(250,234,220)"
             ]
            ],
            "type": "histogram2dcontour"
           }
          ],
          "mesh3d": [
           {
            "colorbar": {
             "outlinewidth": 0,
             "tickcolor": "rgb(36,36,36)",
             "ticklen": 8,
             "ticks": "outside",
             "tickwidth": 2
            },
            "type": "mesh3d"
           }
          ],
          "parcoords": [
           {
            "line": {
             "colorbar": {
              "outlinewidth": 0,
              "tickcolor": "rgb(36,36,36)",
              "ticklen": 8,
              "ticks": "outside",
              "tickwidth": 2
             }
            },
            "type": "parcoords"
           }
          ],
          "pie": [
           {
            "automargin": true,
            "type": "pie"
           }
          ],
          "scatter": [
           {
            "fillpattern": {
             "fillmode": "overlay",
             "size": 10,
             "solidity": 0.2
            },
            "type": "scatter"
           }
          ],
          "scatter3d": [
           {
            "line": {
             "colorbar": {
              "outlinewidth": 0,
              "tickcolor": "rgb(36,36,36)",
              "ticklen": 8,
              "ticks": "outside",
              "tickwidth": 2
             }
            },
            "marker": {
             "colorbar": {
              "outlinewidth": 0,
              "tickcolor": "rgb(36,36,36)",
              "ticklen": 8,
              "ticks": "outside",
              "tickwidth": 2
             }
            },
            "type": "scatter3d"
           }
          ],
          "scattercarpet": [
           {
            "marker": {
             "colorbar": {
              "outlinewidth": 0,
              "tickcolor": "rgb(36,36,36)",
              "ticklen": 8,
              "ticks": "outside",
              "tickwidth": 2
             }
            },
            "type": "scattercarpet"
           }
          ],
          "scattergeo": [
           {
            "marker": {
             "colorbar": {
              "outlinewidth": 0,
              "tickcolor": "rgb(36,36,36)",
              "ticklen": 8,
              "ticks": "outside",
              "tickwidth": 2
             }
            },
            "type": "scattergeo"
           }
          ],
          "scattergl": [
           {
            "marker": {
             "colorbar": {
              "outlinewidth": 0,
              "tickcolor": "rgb(36,36,36)",
              "ticklen": 8,
              "ticks": "outside",
              "tickwidth": 2
             }
            },
            "type": "scattergl"
           }
          ],
          "scattermap": [
           {
            "marker": {
             "colorbar": {
              "outlinewidth": 0,
              "tickcolor": "rgb(36,36,36)",
              "ticklen": 8,
              "ticks": "outside",
              "tickwidth": 2
             }
            },
            "type": "scattermap"
           }
          ],
          "scattermapbox": [
           {
            "marker": {
             "colorbar": {
              "outlinewidth": 0,
              "tickcolor": "rgb(36,36,36)",
              "ticklen": 8,
              "ticks": "outside",
              "tickwidth": 2
             }
            },
            "type": "scattermapbox"
           }
          ],
          "scatterpolar": [
           {
            "marker": {
             "colorbar": {
              "outlinewidth": 0,
              "tickcolor": "rgb(36,36,36)",
              "ticklen": 8,
              "ticks": "outside",
              "tickwidth": 2
             }
            },
            "type": "scatterpolar"
           }
          ],
          "scatterpolargl": [
           {
            "marker": {
             "colorbar": {
              "outlinewidth": 0,
              "tickcolor": "rgb(36,36,36)",
              "ticklen": 8,
              "ticks": "outside",
              "tickwidth": 2
             }
            },
            "type": "scatterpolargl"
           }
          ],
          "scatterternary": [
           {
            "marker": {
             "colorbar": {
              "outlinewidth": 0,
              "tickcolor": "rgb(36,36,36)",
              "ticklen": 8,
              "ticks": "outside",
              "tickwidth": 2
             }
            },
            "type": "scatterternary"
           }
          ],
          "surface": [
           {
            "colorbar": {
             "outlinewidth": 0,
             "tickcolor": "rgb(36,36,36)",
             "ticklen": 8,
             "ticks": "outside",
             "tickwidth": 2
            },
            "colorscale": [
             [
              0,
              "rgb(2,4,25)"
             ],
             [
              0.06274509803921569,
              "rgb(24,15,41)"
             ],
             [
              0.12549019607843137,
              "rgb(47,23,57)"
             ],
             [
              0.18823529411764706,
              "rgb(71,28,72)"
             ],
             [
              0.25098039215686274,
              "rgb(97,30,82)"
             ],
             [
              0.3137254901960784,
              "rgb(123,30,89)"
             ],
             [
              0.3764705882352941,
              "rgb(150,27,91)"
             ],
             [
              0.4392156862745098,
              "rgb(177,22,88)"
             ],
             [
              0.5019607843137255,
              "rgb(203,26,79)"
             ],
             [
              0.5647058823529412,
              "rgb(223,47,67)"
             ],
             [
              0.6274509803921569,
              "rgb(236,76,61)"
             ],
             [
              0.6901960784313725,
              "rgb(242,107,73)"
             ],
             [
              0.7529411764705882,
              "rgb(244,135,95)"
             ],
             [
              0.8156862745098039,
              "rgb(245,162,122)"
             ],
             [
              0.8784313725490196,
              "rgb(246,188,153)"
             ],
             [
              0.9411764705882353,
              "rgb(247,212,187)"
             ],
             [
              1,
              "rgb(250,234,220)"
             ]
            ],
            "type": "surface"
           }
          ],
          "table": [
           {
            "cells": {
             "fill": {
              "color": "rgb(231,231,240)"
             },
             "line": {
              "color": "white"
             }
            },
            "header": {
             "fill": {
              "color": "rgb(183,183,191)"
             },
             "line": {
              "color": "white"
             }
            },
            "type": "table"
           }
          ]
         },
         "layout": {
          "annotationdefaults": {
           "arrowcolor": "rgb(67,103,167)"
          },
          "autotypenumbers": "strict",
          "coloraxis": {
           "colorbar": {
            "outlinewidth": 0,
            "tickcolor": "rgb(36,36,36)",
            "ticklen": 8,
            "ticks": "outside",
            "tickwidth": 2
           }
          },
          "colorscale": {
           "sequential": [
            [
             0,
             "rgb(2,4,25)"
            ],
            [
             0.06274509803921569,
             "rgb(24,15,41)"
            ],
            [
             0.12549019607843137,
             "rgb(47,23,57)"
            ],
            [
             0.18823529411764706,
             "rgb(71,28,72)"
            ],
            [
             0.25098039215686274,
             "rgb(97,30,82)"
            ],
            [
             0.3137254901960784,
             "rgb(123,30,89)"
            ],
            [
             0.3764705882352941,
             "rgb(150,27,91)"
            ],
            [
             0.4392156862745098,
             "rgb(177,22,88)"
            ],
            [
             0.5019607843137255,
             "rgb(203,26,79)"
            ],
            [
             0.5647058823529412,
             "rgb(223,47,67)"
            ],
            [
             0.6274509803921569,
             "rgb(236,76,61)"
            ],
            [
             0.6901960784313725,
             "rgb(242,107,73)"
            ],
            [
             0.7529411764705882,
             "rgb(244,135,95)"
            ],
            [
             0.8156862745098039,
             "rgb(245,162,122)"
            ],
            [
             0.8784313725490196,
             "rgb(246,188,153)"
            ],
            [
             0.9411764705882353,
             "rgb(247,212,187)"
            ],
            [
             1,
             "rgb(250,234,220)"
            ]
           ],
           "sequentialminus": [
            [
             0,
             "rgb(2,4,25)"
            ],
            [
             0.06274509803921569,
             "rgb(24,15,41)"
            ],
            [
             0.12549019607843137,
             "rgb(47,23,57)"
            ],
            [
             0.18823529411764706,
             "rgb(71,28,72)"
            ],
            [
             0.25098039215686274,
             "rgb(97,30,82)"
            ],
            [
             0.3137254901960784,
             "rgb(123,30,89)"
            ],
            [
             0.3764705882352941,
             "rgb(150,27,91)"
            ],
            [
             0.4392156862745098,
             "rgb(177,22,88)"
            ],
            [
             0.5019607843137255,
             "rgb(203,26,79)"
            ],
            [
             0.5647058823529412,
             "rgb(223,47,67)"
            ],
            [
             0.6274509803921569,
             "rgb(236,76,61)"
            ],
            [
             0.6901960784313725,
             "rgb(242,107,73)"
            ],
            [
             0.7529411764705882,
             "rgb(244,135,95)"
            ],
            [
             0.8156862745098039,
             "rgb(245,162,122)"
            ],
            [
             0.8784313725490196,
             "rgb(246,188,153)"
            ],
            [
             0.9411764705882353,
             "rgb(247,212,187)"
            ],
            [
             1,
             "rgb(250,234,220)"
            ]
           ]
          },
          "colorway": [
           "rgb(76,114,176)",
           "rgb(221,132,82)",
           "rgb(85,168,104)",
           "rgb(196,78,82)",
           "rgb(129,114,179)",
           "rgb(147,120,96)",
           "rgb(218,139,195)",
           "rgb(140,140,140)",
           "rgb(204,185,116)",
           "rgb(100,181,205)"
          ],
          "font": {
           "color": "rgb(36,36,36)"
          },
          "geo": {
           "bgcolor": "white",
           "lakecolor": "white",
           "landcolor": "rgb(234,234,242)",
           "showlakes": true,
           "showland": true,
           "subunitcolor": "white"
          },
          "hoverlabel": {
           "align": "left"
          },
          "hovermode": "closest",
          "paper_bgcolor": "white",
          "plot_bgcolor": "rgb(234,234,242)",
          "polar": {
           "angularaxis": {
            "gridcolor": "white",
            "linecolor": "white",
            "showgrid": true,
            "ticks": ""
           },
           "bgcolor": "rgb(234,234,242)",
           "radialaxis": {
            "gridcolor": "white",
            "linecolor": "white",
            "showgrid": true,
            "ticks": ""
           }
          },
          "scene": {
           "xaxis": {
            "backgroundcolor": "rgb(234,234,242)",
            "gridcolor": "white",
            "gridwidth": 2,
            "linecolor": "white",
            "showbackground": true,
            "showgrid": true,
            "ticks": "",
            "zerolinecolor": "white"
           },
           "yaxis": {
            "backgroundcolor": "rgb(234,234,242)",
            "gridcolor": "white",
            "gridwidth": 2,
            "linecolor": "white",
            "showbackground": true,
            "showgrid": true,
            "ticks": "",
            "zerolinecolor": "white"
           },
           "zaxis": {
            "backgroundcolor": "rgb(234,234,242)",
            "gridcolor": "white",
            "gridwidth": 2,
            "linecolor": "white",
            "showbackground": true,
            "showgrid": true,
            "ticks": "",
            "zerolinecolor": "white"
           }
          },
          "shapedefaults": {
           "fillcolor": "rgb(67,103,167)",
           "line": {
            "width": 0
           },
           "opacity": 0.5
          },
          "ternary": {
           "aaxis": {
            "gridcolor": "white",
            "linecolor": "white",
            "showgrid": true,
            "ticks": ""
           },
           "baxis": {
            "gridcolor": "white",
            "linecolor": "white",
            "showgrid": true,
            "ticks": ""
           },
           "bgcolor": "rgb(234,234,242)",
           "caxis": {
            "gridcolor": "white",
            "linecolor": "white",
            "showgrid": true,
            "ticks": ""
           }
          },
          "xaxis": {
           "automargin": true,
           "gridcolor": "white",
           "linecolor": "white",
           "showgrid": true,
           "ticks": "",
           "title": {
            "standoff": 15
           },
           "zerolinecolor": "white"
          },
          "yaxis": {
           "automargin": true,
           "gridcolor": "white",
           "linecolor": "white",
           "showgrid": true,
           "ticks": "",
           "title": {
            "standoff": 15
           },
           "zerolinecolor": "white"
          }
         }
        },
        "title": {
         "text": "SPY (S&P 500 ETF) Candlestick Chart - Last 60 Days"
        },
        "xaxis": {
         "rangeslider": {
          "visible": true
         },
         "title": {
          "text": "Date"
         }
        },
        "yaxis": {
         "title": {
          "text": "Price (USD)"
         }
        }
       }
      }
     },
     "metadata": {},
     "output_type": "display_data"
    }
   ],
   "source": [
    "fig = go.Figure(data=[go.Candlestick(\n",
    "    x=spy_data.index,\n",
    "    open=spy_data['Open'],\n",
    "    high=spy_data['High'],\n",
    "    low=spy_data['Low'],\n",
    "    close=spy_data['Close'],\n",
    "    name='SPY'\n",
    ")])\n",
    "\n",
    "fig.update_layout(\n",
    "    title=f'SPY (S&P 500 ETF) Candlestick Chart - Last 60 Days',\n",
    "    yaxis_title='Price (USD)',\n",
    "    xaxis_title='Date',\n",
    "    xaxis_rangeslider_visible=True, \n",
    "    template='seaborn', # other options: plotly, plotly_white, plotly_dark, simple_white\n",
    "    showlegend=True,\n",
    ")"
   ]
  }
 ],
 "metadata": {
  "kernelspec": {
   "display_name": "Python 3",
   "language": "python",
   "name": "python3"
  },
  "language_info": {
   "codemirror_mode": {
    "name": "ipython",
    "version": 3
   },
   "file_extension": ".py",
   "mimetype": "text/x-python",
   "name": "python",
   "nbconvert_exporter": "python",
   "pygments_lexer": "ipython3",
   "version": "3.11.1"
  }
 },
 "nbformat": 4,
 "nbformat_minor": 5
}
